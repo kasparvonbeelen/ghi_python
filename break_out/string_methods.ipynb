{
 "cells": [
  {
   "cell_type": "markdown",
   "metadata": {},
   "source": [
    "## 5.2 String Methods\n",
    "\n",
    "Strings and numbers can be thought of as **objects**, \"things you can do stuff with\". In Python language each object has a set of **methods/functions** attached to it. If objects can be thought of as **nouns**, then methods/functions serve as **verbs**, they are the tools that operate on (do something with) these objects. \n",
    "\n",
    "In general the methods (or functions) appear in these forms:\n",
    "- `function(object,argument)`\n",
    "- `object.method(arguments)`\n",
    "    \n",
    "In the example below, we applied the `len()` function to measure the number of characters in a string; the `.lower()` methods lowercases all characters. \n",
    "\n",
    "Both are called **fruitful** functions, as they return something (i.e. a number and a string respectively)"
   ]
  },
  {
   "cell_type": "code",
   "execution_count": null,
   "metadata": {
    "collapsed": true
   },
   "outputs": [],
   "source": [
    "print('HELLO'.lower())\n",
    "print(len('HELLO'))"
   ]
  },
  {
   "cell_type": "markdown",
   "metadata": {},
   "source": [
    "For sure the methods can also be applied to variables:"
   ]
  },
  {
   "cell_type": "code",
   "execution_count": null,
   "metadata": {
    "collapsed": true
   },
   "outputs": [],
   "source": [
    "word = 'HELLOOOOOO'\n",
    "print(word.lower())\n",
    "print(len(word))"
   ]
  },
  {
   "cell_type": "markdown",
   "metadata": {},
   "source": [
    "Python comes with many useful **tools for text processing**. You can list and inspect them with `dir()` or `help()` functions."
   ]
  },
  {
   "cell_type": "code",
   "execution_count": null,
   "metadata": {
    "collapsed": true
   },
   "outputs": [],
   "source": [
    "book = 'Pride and Prejudice' # Let's pretend we stored a whole book in this variable"
   ]
  },
  {
   "cell_type": "markdown",
   "metadata": {},
   "source": [
    "`dir()` shows all the methods you can apply to the string variable `book`. Please scroll down. You can ignore the elements starting with double underscores."
   ]
  },
  {
   "cell_type": "code",
   "execution_count": null,
   "metadata": {
    "collapsed": true
   },
   "outputs": [],
   "source": [
    "dir(book)"
   ]
  },
  {
   "cell_type": "markdown",
   "metadata": {},
   "source": [
    "All these methods allows you to do things with strings. Some of the most useful methods are\n",
    "- `split()`\n",
    "- `lower()`\n",
    "- `len()`\n",
    "- `find()`"
   ]
  },
  {
   "cell_type": "markdown",
   "metadata": {},
   "source": [
    "## .split()"
   ]
  },
  {
   "cell_type": "markdown",
   "metadata": {},
   "source": [
    "#### --Exercise--\n",
    "\n",
    "Inspect the example below, and figure out how the `split()` method works."
   ]
  },
  {
   "cell_type": "code",
   "execution_count": null,
   "metadata": {
    "collapsed": true
   },
   "outputs": [],
   "source": [
    "print('1,2,3,4,5'.split(','))\n",
    "print('Hello how are you today?'.split(' '))"
   ]
  },
  {
   "cell_type": "markdown",
   "metadata": {},
   "source": [
    "`.split()` converts a string of characters to a **list of words** (approximately, we come back to lists later on in this course): it **returns** a list of items seperated by the delimiter (the split character). \n",
    "\n",
    "Let's have a closer look at the output of this method in the exercise below. As in the code cells above, we can save the output of a `.split()` in a new variable. "
   ]
  },
  {
   "cell_type": "code",
   "execution_count": null,
   "metadata": {
    "collapsed": true
   },
   "outputs": [],
   "source": [
    "csv = '1,2,3,4,5'\n",
    "numbers = csv.split(',')\n",
    "print(numbers)"
   ]
  },
  {
   "cell_type": "markdown",
   "metadata": {},
   "source": [
    "#### --Exercise--\n",
    "\n",
    "- `split()` the sentence variable with white space\n",
    "- assign the output to a new variable `words`\n",
    "- get the last items of the `words` list using index notation."
   ]
  },
  {
   "cell_type": "code",
   "execution_count": null,
   "metadata": {
    "collapsed": true
   },
   "outputs": [],
   "source": [
    "sentence = \"Alice was beginning to get very tired of sitting by her sister on the bank.\"\n",
    "# Insert your code here"
   ]
  },
  {
   "cell_type": "markdown",
   "metadata": {},
   "source": [
    "#### --Exercise--\n",
    "\n",
    "For more information, print the Python **documentation** on the `.split()` method using the `help` function."
   ]
  },
  {
   "cell_type": "code",
   "execution_count": null,
   "metadata": {
    "collapsed": true
   },
   "outputs": [],
   "source": [
    "# search for help here\n",
    "name = \"Kaspar\"\n",
    "help(name.split)\n",
    "# or\n",
    "help(str.split)"
   ]
  },
  {
   "cell_type": "markdown",
   "metadata": {},
   "source": [
    "## .lower()"
   ]
  },
  {
   "cell_type": "markdown",
   "metadata": {},
   "source": [
    "#### --Exercise--\n",
    "\n",
    "Experiment with the `lower()` function. \n",
    "- Create a string variable;\n",
    "- Pass the lowercased variable to another one;\n",
    "- Print the lowercased and the original variable."
   ]
  },
  {
   "cell_type": "code",
   "execution_count": null,
   "metadata": {
    "collapsed": true
   },
   "outputs": [],
   "source": [
    "# Experiment with lower\n",
    "# Declare a string variable with capitals\n",
    "\n",
    "\n",
    "\n",
    "# Look for documentation on `lower`\n",
    "\n",
    "\n",
    "# Apply lower to the variable AND assign the lowercased string to a new variable\n",
    "\n",
    "\n",
    "\n",
    "# print the variables before and after applying the lower method\n",
    "\n"
   ]
  },
  {
   "cell_type": "markdown",
   "metadata": {},
   "source": [
    "#### --Exercise--\n",
    "\n",
    "- Lowercase the sentence\n",
    "- Split by the character `a`"
   ]
  },
  {
   "cell_type": "code",
   "execution_count": null,
   "metadata": {
    "collapsed": true
   },
   "outputs": [],
   "source": [
    "sentence = \"Alice was beginning to get very tired of sitting by her sister on the bank.\"\n",
    "# Insert code here"
   ]
  },
  {
   "cell_type": "markdown",
   "metadata": {},
   "source": [
    "## .find()"
   ]
  },
  {
   "cell_type": "markdown",
   "metadata": {},
   "source": [
    "Run the cell below to understand what the `.find()` method does."
   ]
  },
  {
   "cell_type": "code",
   "execution_count": 1,
   "metadata": {},
   "outputs": [
    {
     "name": "stdout",
     "output_type": "stream",
     "text": [
      "Help on method_descriptor:\n",
      "\n",
      "find(...)\n",
      "    S.find(sub[, start[, end]]) -> int\n",
      "    \n",
      "    Return the lowest index in S where substring sub is found,\n",
      "    such that sub is contained within S[start:end].  Optional\n",
      "    arguments start and end are interpreted as in slice notation.\n",
      "    \n",
      "    Return -1 on failure.\n",
      "\n"
     ]
    }
   ],
   "source": [
    "help(str.find)"
   ]
  },
  {
   "cell_type": "markdown",
   "metadata": {},
   "source": [
    "#### --Exercise--\n",
    "\n",
    "Find the position of the first 'e' in the title \"Naturkatastrophenkonzert\"."
   ]
  },
  {
   "cell_type": "code",
   "execution_count": null,
   "metadata": {
    "collapsed": true
   },
   "outputs": [],
   "source": [
    "title = 'Naturkatastrophenkonzert'\n",
    "# use the find() method here\n",
    "title.find('e')"
   ]
  },
  {
   "cell_type": "markdown",
   "metadata": {},
   "source": [
    "#### --Exercise--\n",
    "\n",
    "The code cell below downloads [Romeo and Juliet](http://www.gutenberg.org/cache/epub/1777/pg1777.txt) from the Gutenberg Project."
   ]
  },
  {
   "cell_type": "code",
   "execution_count": 2,
   "metadata": {
    "collapsed": true
   },
   "outputs": [],
   "source": [
    "import requests # run but ignore these lines\n",
    "randj = requests.get('http://www.gutenberg.org/cache/epub/1777/pg1777.txt').text"
   ]
  },
  {
   "cell_type": "markdown",
   "metadata": {},
   "source": [
    "`randj` contains the full text of Romeo and Juliet, you can inspect the variable by printing the first hundred characters.\n",
    "\n",
    "#### --Exercise--\n",
    "\n",
    "Print the first hundred character of Romeo and Juliet."
   ]
  },
  {
   "cell_type": "code",
   "execution_count": null,
   "metadata": {
    "collapsed": true
   },
   "outputs": [],
   "source": [
    "# Insert code here"
   ]
  },
  {
   "cell_type": "markdown",
   "metadata": {},
   "source": [
    "Find the **first** occurence of the word **`love`** in Shakespeare's Rome and Juliet. \n",
    "\n",
    "**HINT**: Do not forget to first lowercase all words!"
   ]
  },
  {
   "cell_type": "code",
   "execution_count": 5,
   "metadata": {},
   "outputs": [],
   "source": [
    "# Insert code here\n",
    "first_love = randj.find('love')"
   ]
  },
  {
   "cell_type": "markdown",
   "metadata": {},
   "source": [
    "You can print the context around `first_love` using the [index](https://www.oreilly.com/learning/how-do-i-use-the-slice-notation-in-python) notation. (Please follow link for more information.)"
   ]
  },
  {
   "cell_type": "code",
   "execution_count": 6,
   "metadata": {},
   "outputs": [
    {
     "name": "stdout",
     "output_type": "stream",
     "text": [
      "Start printing at character with position= 10705\n",
      "Stop printing at character with position= 10809\n",
      "\n",
      "\n",
      "ins of these two foes\r\n",
      "    A pair of star-cross'd lovers take their life;\r\n",
      "    Whose misadventur'd piteo\n"
     ]
    }
   ],
   "source": [
    "context_size = 50 # the number of character around the word\n",
    "start_at = first_love-context_size # indicate the starting position\n",
    "stop_at = first_love+context_size+len('love') # indicate where to stop\n",
    "print('Start printing at character with position=',start_at)\n",
    "print('Stop printing at character with position=',stop_at)\n",
    "print('\\n')\n",
    "print(randj[start_at:stop_at]) # print with context"
   ]
  },
  {
   "cell_type": "markdown",
   "metadata": {},
   "source": [
    "#### \\*\\*\\*--Exercise--\n",
    "\n",
    "- Can you find the **second** occurence of **\"love\"** in this play? And print the context?\n",
    "- Can you print the second occurence of love with 50 characters context?\n",
    "\n",
    "HINT: Inspect the `help()` function. Reuse information from the above code cells (`first_love`).\n",
    "HINT II: Use slicing to print the local context of a word."
   ]
  },
  {
   "cell_type": "code",
   "execution_count": 8,
   "metadata": {},
   "outputs": [
    {
     "name": "stdout",
     "output_type": "stream",
     "text": [
      "Start printing at character with position= 116\n",
      "Stop printing at character with position= 220\n",
      "\n",
      "\n",
      "e.\r\n",
      "    The fearful passage of their death-mark'd love,\r\n",
      "    And the continuance of their parents' rage,\n"
     ]
    }
   ],
   "source": [
    "# add and copy-pcontext_size = 50 # the number of character around the word\n",
    "randj_cut = randj[first_love+len('love'):]\n",
    "second_love = randj_cut.find('love')\n",
    "start_at = second_love-context_size # indicate the starting position\n",
    "stop_at = second_love+context_size+len('love') # indicate where to stop\n",
    "print('Start printing at character with position=',start_at)\n",
    "print('Stop printing at character with position=',stop_at)\n",
    "print('\\n')\n",
    "print(randj_cut[start_at:stop_at]) # print with contextaste your code here"
   ]
  },
  {
   "cell_type": "code",
   "execution_count": 16,
   "metadata": {},
   "outputs": [
    {
     "data": {
      "text/plain": [
       "10925"
      ]
     },
     "execution_count": 16,
     "metadata": {},
     "output_type": "execute_result"
    }
   ],
   "source": [
    "randj.find('love',first_love+4)"
   ]
  },
  {
   "cell_type": "markdown",
   "metadata": {},
   "source": [
    "# Recap\n",
    "\n",
    "- Variables are boxes in which you can store information.\n",
    "- Variables can be of a different type: Text (strings) or Numbers (Integers).\n",
    "- Methods/Function allow you to manipulate the content of these boxes (e.g. `.lower()`)"
   ]
  },
  {
   "cell_type": "code",
   "execution_count": null,
   "metadata": {
    "collapsed": true
   },
   "outputs": [],
   "source": [
    "# Experiment a bit here"
   ]
  },
  {
   "cell_type": "markdown",
   "metadata": {},
   "source": [
    "## len()"
   ]
  },
  {
   "cell_type": "markdown",
   "metadata": {},
   "source": [
    "`len()` counts the number of elements the argument contains. If you pass a string as an argument, it counts the number characters.\n",
    "\n",
    "Note: the syntax is slighly different here (for reasons that fall outside the scope of this course.)"
   ]
  },
  {
   "cell_type": "code",
   "execution_count": null,
   "metadata": {
    "collapsed": true
   },
   "outputs": [],
   "source": [
    "word = 'supercalifragilisticexpialidocious'\n",
    "print(len(word))"
   ]
  },
  {
   "cell_type": "code",
   "execution_count": null,
   "metadata": {
    "collapsed": true
   },
   "outputs": [],
   "source": [
    "# How many characters does your full name contain?"
   ]
  },
  {
   "cell_type": "markdown",
   "metadata": {},
   "source": [
    "#### --Exercise--\n",
    "\n",
    "How many character and words does Romeo and Juliet contain (approximately)? \n",
    "> HINT: Use `split()` and `len()` in combination."
   ]
  },
  {
   "cell_type": "code",
   "execution_count": null,
   "metadata": {
    "collapsed": true
   },
   "outputs": [],
   "source": [
    "# download Romeo and Juliet from Gutenberg\n",
    "import requests\n",
    "randj = requests.get('http://www.gutenberg.org/cache/epub/1777/pg1777.txt').text\n",
    "# add your code here"
   ]
  },
  {
   "cell_type": "markdown",
   "metadata": {},
   "source": [
    "### --Exercise--\n",
    "\n",
    "Can you find other useful string methods?"
   ]
  },
  {
   "cell_type": "code",
   "execution_count": null,
   "metadata": {
    "collapsed": true
   },
   "outputs": [],
   "source": [
    "# if yes, play with them here!"
   ]
  }
 ],
 "metadata": {
  "kernelspec": {
   "display_name": "Python 3",
   "language": "python",
   "name": "python3"
  },
  "language_info": {
   "codemirror_mode": {
    "name": "ipython",
    "version": 3
   },
   "file_extension": ".py",
   "mimetype": "text/x-python",
   "name": "python",
   "nbconvert_exporter": "python",
   "pygments_lexer": "ipython3",
   "version": "3.7.4"
  }
 },
 "nbformat": 4,
 "nbformat_minor": 2
}
