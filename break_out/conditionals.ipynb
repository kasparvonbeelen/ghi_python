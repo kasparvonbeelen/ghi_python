{
 "cells": [
  {
   "cell_type": "markdown",
   "metadata": {},
   "source": [
    "# Conditional Expressions"
   ]
  },
  {
   "cell_type": "markdown",
   "metadata": {},
   "source": [
    "Python comes with operators that help you to compare values. To understand how this works, run the cell below."
   ]
  },
  {
   "cell_type": "code",
   "execution_count": null,
   "metadata": {
    "collapsed": true
   },
   "outputs": [],
   "source": [
    "print('2 > 3 is ',2 > 3)\n",
    "print('2 < 3 is ',2 < 3)\n",
    "print('2 >= 3 is ',2 >= 3)\n",
    "print('2 == 3 is ',2 == 3)\n",
    "print('2 >= 2 is',2 >= 2)\n",
    "print('2 == 2 is',2 == 2)"
   ]
  },
  {
   "cell_type": "markdown",
   "metadata": {},
   "source": [
    "You might think \"Duh, I knew that\"... wait as second, and it will become clear why this type of operation is useful."
   ]
  },
  {
   "cell_type": "markdown",
   "metadata": {},
   "source": [
    "As you can guess, the `>` operator checks whether the value at the left-hand side is greater than the value at the right-hand side. `<` does the opposite.\n",
    "\n",
    "`==` checks if two values are equal. \n",
    "\n",
    "> IMPORTANT: \n",
    "\n",
    "> `=` is only used for variable assignment (x =2); \n",
    "\n",
    "> `==` for checking if two values are equal (as in 2 == 4)."
   ]
  },
  {
   "cell_type": "markdown",
   "metadata": {},
   "source": [
    "#### Exercise\n",
    "\n",
    "Running the cell below we raise an error. Correct the code until it prints \"Solved all errors!\""
   ]
  },
  {
   "cell_type": "code",
   "execution_count": null,
   "metadata": {
    "collapsed": true
   },
   "outputs": [],
   "source": [
    "x = 2\n",
    "3 = y\n",
    "3 =3\n",
    "3 == 4\n",
    "x == y\n",
    "print('Solved all errors!')"
   ]
  },
  {
   "cell_type": "markdown",
   "metadata": {},
   "source": [
    "#### Exercise:\n",
    "\n",
    "Oh, and just to be sure, check if 10 is still greater than 2.4?"
   ]
  },
  {
   "cell_type": "code",
   "execution_count": null,
   "metadata": {
    "collapsed": true
   },
   "outputs": [],
   "source": [
    "# insert code here"
   ]
  },
  {
   "cell_type": "markdown",
   "metadata": {},
   "source": [
    "... And smaller than `10**2`"
   ]
  },
  {
   "cell_type": "code",
   "execution_count": null,
   "metadata": {
    "collapsed": true
   },
   "outputs": [],
   "source": [
    "# insert code here"
   ]
  }
 ],
 "metadata": {
  "kernelspec": {
   "display_name": "Python 3",
   "language": "python",
   "name": "python3"
  },
  "language_info": {
   "codemirror_mode": {
    "name": "ipython",
    "version": 3
   },
   "file_extension": ".py",
   "mimetype": "text/x-python",
   "name": "python",
   "nbconvert_exporter": "python",
   "pygments_lexer": "ipython3",
   "version": "3.7.4"
  }
 },
 "nbformat": 4,
 "nbformat_minor": 2
}
