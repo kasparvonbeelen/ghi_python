{
 "cells": [
  {
   "cell_type": "markdown",
   "metadata": {},
   "source": [
    "# Loops"
   ]
  },
  {
   "cell_type": "markdown",
   "metadata": {},
   "source": [
    "Programming is most useful if we can perform a certain action on a range of **different elements**: a corpus of novels, tweets, historical sources, or more simply a list of words. \n",
    "\n",
    "For example, given a list of words, we would like to know the **length of all words**, not just one. Now you *could* do this by going through all the indexes of a list of words and print the length of the words one at a time, taking up as many lines of code as you have indices (i.e. items in your list). Needless to say, this is rather cumbersome as the example below shows:"
   ]
  },
  {
   "cell_type": "code",
   "execution_count": null,
   "metadata": {},
   "outputs": [],
   "source": [
    "sentence = ' It was the best of times , it was the worst of times , it was the age of wisdom , it was the age of foolishness, it was the epoch of belief , it was the epoch of incredulity , it was the season of Light , it was the season of Darkness , it was the spring of hope , it was the winter of despair .'\n",
    "words = sentence.split()\n",
    "print(words)"
   ]
  },
  {
   "cell_type": "code",
   "execution_count": null,
   "metadata": {
    "collapsed": true
   },
   "outputs": [],
   "source": [
    "print(len(words[0]))\n",
    "print(len(words[1]))\n",
    "print(len(words[2]))\n",
    "print(len(words[3]))\n",
    "print('...')\n",
    "print('etc.  till the end.')\n",
    "print('...')\n",
    "print(len(words[-4]))\n",
    "print(len(words[-3]))\n",
    "print(len(words[-2]))\n",
    "print(len(words[-1]))"
   ]
  },
  {
   "cell_type": "markdown",
   "metadata": {},
   "source": [
    "What is the benefit of having a fast computer if you have to enter everything manually?"
   ]
  },
  {
   "cell_type": "markdown",
   "metadata": {},
   "source": [
    "## 1.1 `for` statement"
   ]
  },
  {
   "cell_type": "markdown",
   "metadata": {},
   "source": [
    "Python provides the so-called `for`-statements that allow us to **iterate** through any iterable object and perform actions on each element. The basic syntax of a `for`-statement is: \n",
    "\n",
    "    for X in iterable:\n",
    "\n",
    "That reads almost like English. We can collect all letters of the lengths of the words in the previous sentence:"
   ]
  },
  {
   "cell_type": "code",
   "execution_count": null,
   "metadata": {},
   "outputs": [],
   "source": [
    "# can you print the length of each word in sentence using a for loop?\n",
    "for word in words:\n",
    "    print(word,len(word))"
   ]
  },
  {
   "cell_type": "markdown",
   "metadata": {},
   "source": [
    "### 1.1.1 Iterating over lists"
   ]
  },
  {
   "cell_type": "markdown",
   "metadata": {},
   "source": [
    "The `for` loop might be confusing at first. Let's have a closer look at a simple example: "
   ]
  },
  {
   "cell_type": "code",
   "execution_count": null,
   "metadata": {},
   "outputs": [],
   "source": [
    "names = ['John', 'Anna', 'Bert']\n",
    "for name in names:\n",
    "    print(name)"
   ]
  },
  {
   "cell_type": "markdown",
   "metadata": {},
   "source": [
    "The `name` variable is not explicitly assigned in advance. It acts somewhat as a **placeholder**, and is assigned to each element in the list in turn (as the `print()` statement suggests). \n",
    "\n",
    "You are **free to choose the name** of this variable, but it has to be consistent in the indented block below."
   ]
  },
  {
   "cell_type": "code",
   "execution_count": null,
   "metadata": {
    "collapsed": true
   },
   "outputs": [],
   "source": [
    "names = ['John', 'Anna', 'Bert']\n",
    "for LALALALALA in names:\n",
    "    print(LALALALALA)"
   ]
  },
  {
   "cell_type": "markdown",
   "metadata": {},
   "source": [
    "... this works just fine but is less readable.\n",
    "\n",
    "We can, now, make a simple program that stores the word length of each word in `words`."
   ]
  },
  {
   "cell_type": "code",
   "execution_count": null,
   "metadata": {},
   "outputs": [],
   "source": [
    "# Initialize and empty list, in which we will store all word lengths\n",
    "word_lengths = []\n",
    "# now we iterate over the iterable (i.e. list) called words\n",
    "for word in words:\n",
    "    # get the name of the word\n",
    "    var = len(word)\n",
    "    # append it to the list\n",
    "    word_lengths.append(var)\n",
    "\n",
    "print(word_lengths)"
   ]
  },
  {
   "cell_type": "markdown",
   "metadata": {
    "collapsed": true
   },
   "source": [
    "We could make the previous code a bit more concise:"
   ]
  },
  {
   "cell_type": "code",
   "execution_count": null,
   "metadata": {},
   "outputs": [],
   "source": [
    "# Initialize and empty list, in which we will store all word lengths\n",
    "word_lengths = []\n",
    "# now we iterate over the iterable (i.e. list) called words\n",
    "for word in words:\n",
    "    word_lengths.append(len(word))\n",
    "\n",
    "print(word_lengths)"
   ]
  },
  {
   "cell_type": "markdown",
   "metadata": {},
   "source": [
    "An ever shorter syntax is called **list comprehension**:"
   ]
  },
  {
   "cell_type": "code",
   "execution_count": null,
   "metadata": {
    "collapsed": true
   },
   "outputs": [],
   "source": [
    "word_lengths = [len(word) for word in words]\n",
    "print(word_lengths)"
   ]
  },
  {
   "cell_type": "markdown",
   "metadata": {},
   "source": [
    "The list comprehension generates exactly the same output as the other `for` loops but is shorter and faster!"
   ]
  },
  {
   "cell_type": "markdown",
   "metadata": {},
   "source": [
    "### 1.1.2 Iterating over strings"
   ]
  },
  {
   "cell_type": "markdown",
   "metadata": {},
   "source": [
    "Strings are also iterable as they consist of a sequence of individual characters. You can therefore use the `for` loop to iterate over strings."
   ]
  },
  {
   "cell_type": "code",
   "execution_count": null,
   "metadata": {
    "collapsed": true,
    "scrolled": true
   },
   "outputs": [],
   "source": [
    "for letter in \"supercalifragilisticexpialidocious\":\n",
    "    print(letter)"
   ]
  },
  {
   "cell_type": "markdown",
   "metadata": {},
   "source": [
    "The code in the loop is executed **as many times as there are letters**, with a **different value** for the variable `letter` at **each iteration**. \n",
    "\n",
    "Read the previous sentence again if necessary!"
   ]
  },
  {
   "cell_type": "markdown",
   "metadata": {},
   "source": [
    "### 1.1.3 Iterating over dictionaries (see Notebook 3.2 section 2.5)"
   ]
  },
  {
   "cell_type": "markdown",
   "metadata": {},
   "source": [
    "Since dictionaries are iterable objects as well, we can iterate through our good reads collection. This will iterate over the *keys* of a dictionary:"
   ]
  },
  {
   "cell_type": "code",
   "execution_count": null,
   "metadata": {
    "collapsed": true
   },
   "outputs": [],
   "source": [
    "good_reads = {\"The Magic Mountain\":9,\n",
    "             \"The Idiot\":7,\n",
    "             \"Don Quixote\": 9.5}\n",
    "\n",
    "for book in good_reads:\n",
    "    print(book)"
   ]
  },
  {
   "cell_type": "markdown",
   "metadata": {},
   "source": [
    "We can also iterate over both the keys and the values of a dictionary, this is done as follows:"
   ]
  },
  {
   "cell_type": "code",
   "execution_count": null,
   "metadata": {
    "collapsed": true
   },
   "outputs": [],
   "source": [
    "good_reads.items()"
   ]
  },
  {
   "cell_type": "code",
   "execution_count": null,
   "metadata": {
    "collapsed": true
   },
   "outputs": [],
   "source": [
    "for x, y in good_reads.items():\n",
    "    print(x + \" has score \" + str(y))"
   ]
  },
  {
   "cell_type": "markdown",
   "metadata": {},
   "source": [
    "`items()` will, at each iteration, return a nice pair of the key and the value. In the example above the variable `book` will loop over the keys of the dictionary, and the variable `score` loops over the respective values."
   ]
  },
  {
   "cell_type": "markdown",
   "metadata": {},
   "source": [
    "## 2.2 While loops\n",
    "\n",
    "There exists another form of looping in Python: the `while` loop. This is a loop that is tied to a boolean expression (which evaluates as either `True` or `False` see below). A `while` loop will run as long as the specified expression is evaluated to be `True`. Check out the following example to see how this works:"
   ]
  },
  {
   "cell_type": "code",
   "execution_count": null,
   "metadata": {
    "collapsed": true
   },
   "outputs": [],
   "source": [
    "# Count down code\n",
    "import time\n",
    "x = 10\n",
    "\n",
    "while x > 0: # while x is positive repeat the steps below\n",
    "    print(x)\n",
    "    time.sleep(1) # you can ignore this line, \n",
    "                  # it justs makes the count down more realistic \n",
    "                  # by pausing the program one second between each iteration\n",
    "    x-=1 # decrease the value of x with one, i.e. x = x - 1\n",
    "    \n",
    "print('Take off!')"
   ]
  },
  {
   "cell_type": "markdown",
   "metadata": {},
   "source": [
    "If you set the boolean expression to `True`, the `while` loop will keep running until the end of time. Go to 'Kernel' > 'Interrupt' if you want to stop the loop below."
   ]
  },
  {
   "cell_type": "code",
   "execution_count": null,
   "metadata": {
    "collapsed": true
   },
   "outputs": [],
   "source": [
    "import time\n",
    "x = 1\n",
    "while True:\n",
    "    time.sleep(1)\n",
    "    print(x)\n",
    "    x+=1\n",
    "    "
   ]
  },
  {
   "cell_type": "markdown",
   "metadata": {},
   "source": [
    "To truly understand these examples, we need to have a look at **[conditional expressions](conditions.ipynb)**."
   ]
  },
  {
   "cell_type": "code",
   "execution_count": null,
   "metadata": {},
   "outputs": [],
   "source": []
  }
 ],
 "metadata": {
  "kernelspec": {
   "display_name": "Python 3",
   "language": "python",
   "name": "python3"
  },
  "language_info": {
   "codemirror_mode": {
    "name": "ipython",
    "version": 3
   },
   "file_extension": ".py",
   "mimetype": "text/x-python",
   "name": "python",
   "nbconvert_exporter": "python",
   "pygments_lexer": "ipython3",
   "version": "3.7.4"
  }
 },
 "nbformat": 4,
 "nbformat_minor": 2
}
