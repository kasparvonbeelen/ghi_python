{
 "cells": [
  {
   "cell_type": "markdown",
   "metadata": {},
   "source": [
    "# Lecture 5.2: Reading and Writing Files\n",
    "## 1. Opening, Reading and Writing Files"
   ]
  },
  {
   "cell_type": "markdown",
   "metadata": {},
   "source": [
    "In the previous lectures we covered the Python basics, inspected some of the internal data types and syntax. The real power of programming lays in power of computers to perform thousands of operations in very little time. In other words, coding helps us to interrogate \"big data\", and for humanities more than we are able to read in a lifetime.\n",
    "\n",
    "Until now all \"data\" was mostly confined to mock examples: strings, lists or other values we manually entered. In this lecture we turn finally turn to some more realistic use of coding in the Humanities, and show how Python assists us with analysing larger, external information sources. \n",
    "\n",
    "In this series of lecture we focus on:\n",
    "- Reading files from disk.\n",
    "- Reading data from the web.\n",
    "- Performing some analysis on these data.\n",
    "- Write results to a file."
   ]
  },
  {
   "cell_type": "markdown",
   "metadata": {},
   "source": [
    "## 1.1. Locating files: `os` and `path`"
   ]
  },
  {
   "cell_type": "markdown",
   "metadata": {},
   "source": [
    "Before opening a file, Python has to locate it. Create a string variable that tells your program where it has to to look. \n",
    "Generally, Python will look in the current directory where your script (or Notebook such as this one) is located. Therefore you have to create a **relative path**, i.e. starting from where your script is located. \n",
    "Let's try to find John Locke's \"An Essay Concerning Human Understanding\", which is saved in the `data` subdirectory."
   ]
  },
  {
   "cell_type": "code",
   "execution_count": null,
   "metadata": {
    "collapsed": true
   },
   "outputs": [],
   "source": [
    "file_name = 'data/pg10615.txt'"
   ]
  },
  {
   "cell_type": "markdown",
   "metadata": {},
   "source": [
    "In the above cell we assigned the relative path to the 'file_name' variable. Using relative path is highly recommended. Not only is this often shorter, it also makes your scripts and data more transportable. The relative path will work on any computer (as long as you don't start moving the folders) while the absolute path only points to the right file on my laptop.\n",
    "\n",
    "relative path: `'data/pg10615.txt'`\n",
    "\n",
    "absolute path: `'/Users/kasparbeelen/Documents/Onderwijsea/CTH/lectures/lecture3/data/pg10615.txt'`\n"
   ]
  },
  {
   "cell_type": "markdown",
   "metadata": {},
   "source": [
    "[VU] Sometimes you see double dots in the beginning of the file path; this means 'the parent of the current directory'. When writing a file path, you can use the following:\n",
    "\n",
    "- /     go to the root of the current drive\n",
    "- ./    go to current directory\n",
    "- ~/    go home directory\n",
    "- -    go previous directory\n",
    "- ../   go to parent directory (one up in the tree)"
   ]
  },
  {
   "cell_type": "markdown",
   "metadata": {},
   "source": [
    "You can use your Notebook to navigate your computer with as you would do in your terminal. `cd` (change directory) and `ls` (list directory) provide \n",
    "For example to go your home directory"
   ]
  },
  {
   "cell_type": "markdown",
   "metadata": {
    "collapsed": true
   },
   "source": [
    "Print the current directory:"
   ]
  },
  {
   "cell_type": "code",
   "execution_count": null,
   "metadata": {},
   "outputs": [],
   "source": [
    "pwd"
   ]
  },
  {
   "cell_type": "markdown",
   "metadata": {},
   "source": [
    "Go to the User directory:"
   ]
  },
  {
   "cell_type": "code",
   "execution_count": null,
   "metadata": {},
   "outputs": [],
   "source": [
    "cd ~/"
   ]
  },
  {
   "cell_type": "markdown",
   "metadata": {},
   "source": [
    "List all items in the User directory:"
   ]
  },
  {
   "cell_type": "code",
   "execution_count": null,
   "metadata": {},
   "outputs": [],
   "source": [
    "ls ./ "
   ]
  },
  {
   "cell_type": "markdown",
   "metadata": {},
   "source": [
    "Go back to the previous directory:"
   ]
  },
  {
   "cell_type": "code",
   "execution_count": null,
   "metadata": {},
   "outputs": [],
   "source": [
    "cd -"
   ]
  },
  {
   "cell_type": "markdown",
   "metadata": {},
   "source": [
    "Go to the parent's parent folder (go two up):"
   ]
  },
  {
   "cell_type": "code",
   "execution_count": null,
   "metadata": {},
   "outputs": [],
   "source": [
    "cd ../../"
   ]
  },
  {
   "cell_type": "code",
   "execution_count": null,
   "metadata": {},
   "outputs": [],
   "source": [
    "ls ./"
   ]
  },
  {
   "cell_type": "markdown",
   "metadata": {
    "collapsed": true
   },
   "source": [
    "Go back to the previous directory:"
   ]
  },
  {
   "cell_type": "code",
   "execution_count": null,
   "metadata": {},
   "outputs": [],
   "source": [
    "!cd -"
   ]
  },
  {
   "cell_type": "markdown",
   "metadata": {},
   "source": [
    "Go one up:"
   ]
  },
  {
   "cell_type": "code",
   "execution_count": null,
   "metadata": {},
   "outputs": [],
   "source": [
    "!cd .."
   ]
  },
  {
   "cell_type": "markdown",
   "metadata": {},
   "source": [
    "Go one down do, to the 'lecture3' folder:"
   ]
  },
  {
   "cell_type": "code",
   "execution_count": null,
   "metadata": {},
   "outputs": [],
   "source": [
    "!cd lecture3"
   ]
  },
  {
   "cell_type": "markdown",
   "metadata": {},
   "source": [
    "...and we should be home again after a long travel:"
   ]
  },
  {
   "cell_type": "code",
   "execution_count": null,
   "metadata": {},
   "outputs": [],
   "source": [
    "!pwd"
   ]
  },
  {
   "cell_type": "markdown",
   "metadata": {},
   "source": [
    "The code you are running in the above cells is not Python, but bash, the command line language. Jupyer Notebook allows you to combine both language to some extent."
   ]
  }
 ],
 "metadata": {
  "kernelspec": {
   "display_name": "Python 3",
   "language": "python",
   "name": "python3"
  },
  "language_info": {
   "codemirror_mode": {
    "name": "ipython",
    "version": 3
   },
   "file_extension": ".py",
   "mimetype": "text/x-python",
   "name": "python",
   "nbconvert_exporter": "python",
   "pygments_lexer": "ipython3",
   "version": "3.7.4"
  }
 },
 "nbformat": 4,
 "nbformat_minor": 2
}
