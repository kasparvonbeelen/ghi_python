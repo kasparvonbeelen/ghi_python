{
 "cells": [
  {
   "cell_type": "markdown",
   "metadata": {},
   "source": [
    "## 1. Why Pandas?\n",
    "### Working with (semi)structured data"
   ]
  },
  {
   "cell_type": "markdown",
   "metadata": {},
   "source": [
    "The data types and functions covered in the previous Notebook belong to the standard Python library. It is the backbone of the Python language, but the operations they perform (and the structures they represent) remain rather basic. As writing code to handle more complex application would be laborious, Python comes with various libraries that offer myriad data science tools. \n",
    "\n",
    "Below, I give the example of opening CSV files with Pandas (the Python data science library we will be using in this course)."
   ]
  },
  {
   "cell_type": "markdown",
   "metadata": {},
   "source": [
    "### 1.1. CSV files"
   ]
  },
  {
   "cell_type": "markdown",
   "metadata": {},
   "source": [
    "CSV stands for \"Comma Separated Values\": a data format in which the cells are separated by commas.\n",
    "\n",
    "For example, the CSV table below has **columns** A,B,C and **rows** 1 to 3:\n",
    "\n",
    "``\n",
    ",A,B,C\n",
    "1,0,1,1\n",
    "2,1,0,1\n",
    "3,1,1,1\n",
    "``\n",
    "\n",
    "The CSV above is an example of **structured** data: each element is properly identified by the **header** (columns) and the **index** (rows)."
   ]
  },
  {
   "cell_type": "markdown",
   "metadata": {
    "collapsed": true
   },
   "source": [
    "We can represent the CSV file as a Python string. The newlines are represented in Python by the '\\n' character. The cell below creates a CSV table and prints it."
   ]
  },
  {
   "cell_type": "code",
   "execution_count": null,
   "metadata": {
    "collapsed": true
   },
   "outputs": [],
   "source": [
    "csv_string = ',A,B,C\\n1,0,2,5\\n2,8,3,1\\n3,2,9,1'\n",
    "print(csv_string)"
   ]
  },
  {
   "cell_type": "markdown",
   "metadata": {},
   "source": [
    "Using index notation (remember the square brackets?) we can select certain elements, both single characters and slices."
   ]
  },
  {
   "cell_type": "code",
   "execution_count": null,
   "metadata": {
    "collapsed": true
   },
   "outputs": [],
   "source": [
    "print(csv_string[11]) # print character at index 11\n",
    "print(csv_string[11:14]) # print slice starting at character with index 11 up to index 14"
   ]
  },
  {
   "cell_type": "markdown",
   "metadata": {},
   "source": [
    "Index notation is handy, but the structure of the CSV file remains implicit--i.e. we can not ask Python to give us the integer in column B at row 2. To recognize the structure properly, Python needs to **parse** the document. While this can be done with standard Python tools, there are external libraries that help you with handling structured data.\n",
    "\n",
    "In the course, we rely on Pandas, Python's main data science library. Before we can use Pandas, we have to load it using the import statement (which means as much as \"please load all tools hidden in de Pandas folder\")."
   ]
  },
  {
   "cell_type": "code",
   "execution_count": null,
   "metadata": {
    "collapsed": true
   },
   "outputs": [],
   "source": [
    "import pandas # this imports pandas tools"
   ]
  },
  {
   "cell_type": "markdown",
   "metadata": {
    "collapsed": true
   },
   "source": [
    "After importing the Pandas tools we can use the `read_csv` function to read the data."
   ]
  },
  {
   "cell_type": "code",
   "execution_count": null,
   "metadata": {
    "collapsed": true
   },
   "outputs": [],
   "source": [
    "from io import StringIO # Ignore this line, this technicality is not important for this course\n",
    "df = pandas.read_csv(StringIO(csv_string),index_col=0) # transform the CSV file as a Pandas DataFrame\n",
    "df"
   ]
  },
  {
   "cell_type": "markdown",
   "metadata": {},
   "source": [
    "### Exercise\n",
    "\n",
    "What is the data type of the `df` variable?"
   ]
  },
  {
   "cell_type": "code",
   "execution_count": null,
   "metadata": {
    "collapsed": true
   },
   "outputs": [],
   "source": [
    "# Insert code here"
   ]
  },
  {
   "cell_type": "markdown",
   "metadata": {},
   "source": [
    "### --Important!--\n",
    "\n",
    "Please note the following:\n",
    "- The syntax for using tools from external libraries adheres to the following structure:\n",
    "        `<library>.<function>(<arguments>)`\n",
    "- As you noticed, the CSV file is not a string object but belongs to the DataFrame class (which we will inspect below)"
   ]
  },
  {
   "cell_type": "markdown",
   "metadata": {},
   "source": [
    "Because Pandas identifies the rows and columns automatically, we can ask more meaningful and elaborate questions to extract specific cells or other elements from the DataFrame.\n",
    "\n",
    "#### Exercise: \n",
    "\n",
    "To access specific areas in our DataFrame, we need to use the **`.loc[:,:]`** indexer. The syntax, here, is similar to the index notation we studied previously but applies to two dimensions (rows *and* columns) instead to just one. These dimensions are separated by a comma. While index notation allowed you to retrieve an item from a sequence by location, `.loc[]` is more flexible: you can simultaneously define the row and columns you'd like to access. To understand how this works guess which part of the table the statements below will print. "
   ]
  },
  {
   "cell_type": "markdown",
   "metadata": {},
   "source": [
    "#### Retrieving one cell"
   ]
  },
  {
   "cell_type": "code",
   "execution_count": null,
   "metadata": {
    "collapsed": true
   },
   "outputs": [],
   "source": [
    "print(df.loc[2,'A'])"
   ]
  },
  {
   "cell_type": "code",
   "execution_count": null,
   "metadata": {
    "collapsed": true
   },
   "outputs": [],
   "source": [
    "print(df.loc[1,'B'])"
   ]
  },
  {
   "cell_type": "markdown",
   "metadata": {},
   "source": [
    "#### --Exercise--\n",
    "\n",
    "Print the integer in row 3 and column C."
   ]
  },
  {
   "cell_type": "code",
   "execution_count": null,
   "metadata": {
    "collapsed": true
   },
   "outputs": [],
   "source": [
    "# insert code here"
   ]
  },
  {
   "cell_type": "markdown",
   "metadata": {},
   "source": [
    "Multiply the integer in row 3 and column C with the integer in row 1 and column B."
   ]
  },
  {
   "cell_type": "code",
   "execution_count": null,
   "metadata": {
    "collapsed": true
   },
   "outputs": [],
   "source": [
    "# insert code here"
   ]
  },
  {
   "cell_type": "markdown",
   "metadata": {},
   "source": [
    "#### Retrieving slices"
   ]
  },
  {
   "cell_type": "code",
   "execution_count": null,
   "metadata": {
    "collapsed": true
   },
   "outputs": [],
   "source": [
    "print(df.loc[2,:])"
   ]
  },
  {
   "cell_type": "code",
   "execution_count": null,
   "metadata": {
    "collapsed": true
   },
   "outputs": [],
   "source": [
    "print(df.loc[:,'A'])"
   ]
  },
  {
   "cell_type": "markdown",
   "metadata": {},
   "source": [
    "It is also possible to obtain multiple columns. Note that the column names are then enclosed within square brackets."
   ]
  },
  {
   "cell_type": "code",
   "execution_count": null,
   "metadata": {
    "collapsed": true
   },
   "outputs": [],
   "source": [
    "print(df.loc[:,['A','B']])"
   ]
  },
  {
   "cell_type": "markdown",
   "metadata": {},
   "source": [
    "Print the integers from row 1 to 2 in columns A and C."
   ]
  },
  {
   "cell_type": "code",
   "execution_count": null,
   "metadata": {
    "collapsed": true
   },
   "outputs": [],
   "source": [
    "# insert code here"
   ]
  },
  {
   "cell_type": "markdown",
   "metadata": {},
   "source": [
    "We can also print all columns for a specific row:"
   ]
  },
  {
   "cell_type": "code",
   "execution_count": null,
   "metadata": {
    "collapsed": true
   },
   "outputs": [],
   "source": [
    "print(df.loc[1,:])"
   ]
  },
  {
   "cell_type": "markdown",
   "metadata": {},
   "source": [
    "By now it should be clear that Pandas' `.read_csv()` facilitates the exploration of structured data (compared to strings in combination with index notation that are part of the Python standard library).\n",
    "\n",
    "For sure this a toy example, the power of these tools will become clear when working with real data."
   ]
  },
  {
   "cell_type": "markdown",
   "metadata": {},
   "source": [
    "## 2. Reading YouTube and Facebook data with Pandas"
   ]
  },
  {
   "cell_type": "markdown",
   "metadata": {},
   "source": [
    "In this course, we focus on YouTube and Facebook data obtained via [DMI](https://tools.digitalmethods.net) tools.\n",
    "\n",
    "For YouTube, we use [this collection of tools](https://tools.digitalmethods.net/netvizz/youtube/). For Facebook, we rely on [Netvizz](https://apps.facebook.com/107036545989762/). We inspect both tools later in more detail. \n",
    "\n",
    "To demonstrate the Pandas functionalities, we will work with comments from [this](https://www.youtube.com/watch?v=-OLEyOYC6P4) documentary on techno music."
   ]
  },
  {
   "cell_type": "code",
   "execution_count": null,
   "metadata": {
    "collapsed": true
   },
   "outputs": [],
   "source": [
    "# Run this cell to watch the YouTube clip.\n",
    "from IPython.display import YouTubeVideo\n",
    "YouTubeVideo('-OLEyOYC6P4')"
   ]
  },
  {
   "cell_type": "markdown",
   "metadata": {},
   "source": [
    "All the comments on this video are saved as TSV (Tab Separated Values) file and stored [here](https://github.com/kasparvonbeelen/CTH2019/blob/master/data/videoinfo_-OLEyOYC6P4_2018_12_18-09_26_24_comments.tab). \n",
    "\n",
    "In Python, tab spaces are represented as `\\t`. Compare the print statements below to see the difference."
   ]
  },
  {
   "cell_type": "code",
   "execution_count": null,
   "metadata": {
    "collapsed": true
   },
   "outputs": [],
   "source": [
    "print(\"Kaspar Beelen\")\n",
    "print(\"Kaspar\\tBeelen\")\n",
    "print(\"Kaspar\\t\\tBeelen\")"
   ]
  },
  {
   "cell_type": "markdown",
   "metadata": {},
   "source": [
    "Below we store the URL (that will bring you to the raw data) in the `file_url` variable."
   ]
  },
  {
   "cell_type": "code",
   "execution_count": null,
   "metadata": {
    "collapsed": true
   },
   "outputs": [],
   "source": [
    "file_url = 'https://raw.githubusercontent.com/kasparvonbeelen/CTH2019/master/data/videoinfo_-OLEyOYC6P4_2018_12_18-09_26_24_comments.tab' "
   ]
  },
  {
   "cell_type": "markdown",
   "metadata": {},
   "source": [
    "For convenience, we will use an abbreviation to refer to the Pandas library. We use `pd` to refer to the pandas library, this will save us some typing work.\n",
    "\n",
    "The code below imports Pandas use `pd` an abbreviation."
   ]
  },
  {
   "cell_type": "code",
   "execution_count": null,
   "metadata": {
    "collapsed": true
   },
   "outputs": [],
   "source": [
    "import pandas as pd"
   ]
  },
  {
   "cell_type": "markdown",
   "metadata": {},
   "source": [
    "Pandas is smart enough to automatically download information from the Web. We just have to pass it a URL. Secondly, we define the delimiter (a character which separates the individual values) with the `sep=` argument."
   ]
  },
  {
   "cell_type": "code",
   "execution_count": null,
   "metadata": {
    "collapsed": true
   },
   "outputs": [],
   "source": [
    "df = pd.read_csv(file_url, sep='\\t')"
   ]
  },
  {
   "cell_type": "markdown",
   "metadata": {},
   "source": [
    "With these few lines, you managed to lead the whole corpus of comments into your notebook.\n",
    "\n",
    "The `.head()` method allows you to inspect the table."
   ]
  },
  {
   "cell_type": "code",
   "execution_count": null,
   "metadata": {
    "collapsed": true
   },
   "outputs": [],
   "source": [
    "df.head(3)"
   ]
  },
  {
   "cell_type": "markdown",
   "metadata": {},
   "source": [
    "**Exercise**: print the first 10 rows"
   ]
  },
  {
   "cell_type": "code",
   "execution_count": null,
   "metadata": {
    "collapsed": true
   },
   "outputs": [],
   "source": [
    "# insert code here"
   ]
  },
  {
   "cell_type": "markdown",
   "metadata": {},
   "source": [
    "**Question**: What information does `df` contain?"
   ]
  },
  {
   "cell_type": "raw",
   "metadata": {
    "collapsed": true
   },
   "source": [
    "# write answer here"
   ]
  },
  {
   "cell_type": "markdown",
   "metadata": {},
   "source": [
    "`data.tail()` prints the last rows"
   ]
  },
  {
   "cell_type": "code",
   "execution_count": null,
   "metadata": {
    "collapsed": true
   },
   "outputs": [],
   "source": [
    "df.tail()"
   ]
  },
  {
   "cell_type": "markdown",
   "metadata": {},
   "source": [
    "To determine the dimensions of the dataframe--the number of rows and columns--use `.shape` attribute.\n",
    "> IMPORTANT: As opposed to methods, attributes do not end with parantheses. If methods can be understood as the verbs of the Python language, the attributes are the adjectives, they tell you something about the object they are attached to but do not modify it."
   ]
  },
  {
   "cell_type": "code",
   "execution_count": null,
   "metadata": {
    "collapsed": true
   },
   "outputs": [],
   "source": [
    "df.shape"
   ]
  },
  {
   "cell_type": "markdown",
   "metadata": {},
   "source": [
    "#### \\*\\*\\*Exercise\n",
    "\n",
    "Now, let's look at some Facebook data: 50 post retrieved from the New York Times' Facebook page.\n",
    "\n",
    "- Load the data you find [here](https://raw.githubusercontent.com/kasparvonbeelen/CTH2019/master/data/page_5281959998_2018_12_28_22_00_39_fullstats.tab) in Pandas dataframe. Assign it to a variable with name `df`.\n",
    "> HINT: As in the example above, simply use the URL to retrieve the data. "
   ]
  },
  {
   "cell_type": "code",
   "execution_count": 3,
   "metadata": {
    "collapsed": true
   },
   "outputs": [],
   "source": [
    "# insert code here"
   ]
  },
  {
   "cell_type": "markdown",
   "metadata": {},
   "source": [
    "What are the dimensions of the DataFrame?"
   ]
  },
  {
   "cell_type": "code",
   "execution_count": null,
   "metadata": {
    "collapsed": true
   },
   "outputs": [],
   "source": [
    "# insert code here"
   ]
  },
  {
   "cell_type": "markdown",
   "metadata": {},
   "source": [
    "Print the column names using the `.columns` attribute."
   ]
  },
  {
   "cell_type": "code",
   "execution_count": null,
   "metadata": {
    "collapsed": true
   },
   "outputs": [],
   "source": [
    "# insert code here"
   ]
  },
  {
   "cell_type": "markdown",
   "metadata": {},
   "source": [
    "Show the first ten rows (using `.loc[]`)."
   ]
  },
  {
   "cell_type": "code",
   "execution_count": null,
   "metadata": {
    "collapsed": true
   },
   "outputs": [],
   "source": [
    "# insert code here"
   ]
  },
  {
   "cell_type": "markdown",
   "metadata": {},
   "source": [
    "And the last ten rows (using `.loc[]`)\n",
    "> HINT: `.loc[]` does not allow negative indexing, so use .shape to know the dimensions of your DataFrame"
   ]
  },
  {
   "cell_type": "code",
   "execution_count": null,
   "metadata": {
    "collapsed": true
   },
   "outputs": [],
   "source": [
    "# insert code here"
   ]
  },
  {
   "cell_type": "markdown",
   "metadata": {},
   "source": [
    "Compare the columns with the YouTube example above: What are the differences/similarities?"
   ]
  },
  {
   "cell_type": "raw",
   "metadata": {},
   "source": [
    "# write answer here"
   ]
  },
  {
   "cell_type": "markdown",
   "metadata": {},
   "source": [
    "Print all columns for row 25"
   ]
  },
  {
   "cell_type": "code",
   "execution_count": null,
   "metadata": {
    "collapsed": true
   },
   "outputs": [],
   "source": [
    "# insert code here"
   ]
  },
  {
   "cell_type": "markdown",
   "metadata": {},
   "source": [
    "Print the post message for rows 25 to 30."
   ]
  },
  {
   "cell_type": "code",
   "execution_count": null,
   "metadata": {
    "collapsed": true
   },
   "outputs": [],
   "source": [
    "# insert code here"
   ]
  },
  {
   "cell_type": "markdown",
   "metadata": {},
   "source": [
    "Print the post message, angry and sad reactions columns for rows ten to twenty."
   ]
  },
  {
   "cell_type": "code",
   "execution_count": null,
   "metadata": {
    "collapsed": true
   },
   "outputs": [],
   "source": [
    "# insert code here"
   ]
  },
  {
   "cell_type": "markdown",
   "metadata": {},
   "source": [
    "Great! Now you've managed to load your social media data into you Notebook and access specific information. What's next? First, let's explore some of the general statistics."
   ]
  },
  {
   "cell_type": "markdown",
   "metadata": {},
   "source": [
    "## Inspecting the DataFrame"
   ]
  },
  {
   "cell_type": "markdown",
   "metadata": {},
   "source": [
    "`describe()` offers you a quick look into the summary statistics of the dataset."
   ]
  },
  {
   "cell_type": "code",
   "execution_count": null,
   "metadata": {
    "collapsed": true
   },
   "outputs": [],
   "source": [
    "df.describe()"
   ]
  },
  {
   "cell_type": "markdown",
   "metadata": {},
   "source": [
    "**Question**: Which **columns** are not shown in this summary. Can you explain why?"
   ]
  },
  {
   "cell_type": "raw",
   "metadata": {
    "collapsed": true
   },
   "source": [
    "# write answer here"
   ]
  },
  {
   "cell_type": "markdown",
   "metadata": {},
   "source": [
    "**Question**: Can you determine the meaning of the **rows**? If not, have a look at the Wikipedia pages for the [Mean](https://en.wikipedia.org/wiki/Mean), [Median](https://en.wikipedia.org/wiki/Median), [Standard Deviation](https://en.wikipedia.org/wiki/Standard_deviation) and [Percentiles](https://en.wikipedia.org/wiki/Percentile)."
   ]
  },
  {
   "cell_type": "raw",
   "metadata": {
    "collapsed": true
   },
   "source": [
    "# write answer here"
   ]
  },
  {
   "cell_type": "markdown",
   "metadata": {},
   "source": [
    "For more information about the `.describe()` we can access the help function using `??` at the end of the line."
   ]
  },
  {
   "cell_type": "code",
   "execution_count": null,
   "metadata": {
    "collapsed": true
   },
   "outputs": [],
   "source": [
    "df.describe??"
   ]
  },
  {
   "cell_type": "markdown",
   "metadata": {
    "collapsed": true
   },
   "source": [
    "The mean and the median are used to summarise a list of values, for exampe [1,2,4,5,8].\n",
    "The median is the number you get when sorting the list in ascending order, and picking the number in the middle.\n",
    "\n",
    "\n",
    "**Question**: compute the median value of 2,4,8,9,0."
   ]
  },
  {
   "cell_type": "raw",
   "metadata": {},
   "source": [
    "# write answer here"
   ]
  },
  {
   "cell_type": "markdown",
   "metadata": {},
   "source": [
    "The means is obtained by summing up all values and dividing this sum by the total number of values. \n",
    "\n",
    "\n",
    "**Question**: what is the mean for the series  2,4,8,9,0?"
   ]
  },
  {
   "cell_type": "raw",
   "metadata": {},
   "source": [
    "# write answer here"
   ]
  },
  {
   "cell_type": "markdown",
   "metadata": {},
   "source": [
    "Luckily Python's Numpy library provides you with functions to compute the median and the mean. "
   ]
  },
  {
   "cell_type": "markdown",
   "metadata": {},
   "source": [
    "#### Exercise\n",
    "\n",
    "Before running the commands below we have load Numpy. Similar to the Pandas example before, load the numpy library using `np` as an abbreviation.\n",
    "> Hint: Use the import *library* as *abbreviation* syntax"
   ]
  },
  {
   "cell_type": "code",
   "execution_count": null,
   "metadata": {
    "collapsed": true
   },
   "outputs": [],
   "source": [
    "# insert code here"
   ]
  },
  {
   "cell_type": "markdown",
   "metadata": {},
   "source": [
    "Then, to check your previous answers, run the cells below:"
   ]
  },
  {
   "cell_type": "code",
   "execution_count": null,
   "metadata": {
    "collapsed": true
   },
   "outputs": [],
   "source": [
    "np.median([2,4,8,9,0])"
   ]
  },
  {
   "cell_type": "code",
   "execution_count": null,
   "metadata": {
    "collapsed": true
   },
   "outputs": [],
   "source": [
    "np.mean([2,4,8,9,0])"
   ]
  },
  {
   "cell_type": "markdown",
   "metadata": {},
   "source": [
    "In the examples above, the mean and the median happen to be very close to each other, but this is not always the case.\n",
    "\n",
    "**Question**\n",
    "\n",
    "Run the cells below. Can you explain why the median and mean diverge? Which score provides the best summary for the list of numbers? Which metric (mean or median) is more reliable? Or does it depend on the distribution of the values?"
   ]
  },
  {
   "cell_type": "code",
   "execution_count": null,
   "metadata": {
    "collapsed": true
   },
   "outputs": [],
   "source": [
    "results = [0,0,1,1,2,4,5,6,6,7,8,7]\n",
    "print('The mean is ',np.mean(results))\n",
    "print('The median is ',np.median(results))"
   ]
  },
  {
   "cell_type": "code",
   "execution_count": null,
   "metadata": {
    "collapsed": true
   },
   "outputs": [],
   "source": [
    "results = [0,0,1,1,2,4,5,6,6,7,8,70000]\n",
    "print('The mean is ',np.mean(results))\n",
    "print('The median is ',np.median(results))"
   ]
  },
  {
   "cell_type": "code",
   "execution_count": null,
   "metadata": {
    "collapsed": true
   },
   "outputs": [],
   "source": [
    "results = [0,0,0,0,0,0,0,6,6,7,8,7]\n",
    "print('The mean is ',np.mean(results))\n",
    "print('The median is ',np.median(results))"
   ]
  },
  {
   "cell_type": "code",
   "execution_count": null,
   "metadata": {
    "collapsed": true
   },
   "outputs": [],
   "source": [
    "results = [0,0,0,0,0,0,0,6000,6000,7000,8000,7000]\n",
    "print('The mean is ',np.mean(results))\n",
    "print('The median is ',np.median(results))"
   ]
  },
  {
   "cell_type": "raw",
   "metadata": {},
   "source": [
    "# Type your answer here"
   ]
  },
  {
   "cell_type": "markdown",
   "metadata": {},
   "source": [
    "As these toy examples show, both the median and the mean can give a misleading impression of the actual distribution of values. Oftentimes, it is good practice the visualise an array of numbers. Pandas gives you many tools for visualising data. But before we can do this, we have to instruct Python to plot all figures in the Notebook by running the so-called \"magic\" command."
   ]
  },
  {
   "cell_type": "code",
   "execution_count": 2,
   "metadata": {},
   "outputs": [],
   "source": [
    "%matplotlib inline"
   ]
  },
  {
   "cell_type": "markdown",
   "metadata": {},
   "source": [
    "Before we can plot data--for example the distribution of the total reactions to New York Times Facebook posts--we have to select the column we want to investigate. This can be done with the following line of code."
   ]
  },
  {
   "cell_type": "code",
   "execution_count": null,
   "metadata": {
    "collapsed": true
   },
   "outputs": [],
   "source": [
    "df.loc[:,'reactions_count_fb']"
   ]
  },
  {
   "cell_type": "markdown",
   "metadata": {},
   "source": [
    "Or simpler:"
   ]
  },
  {
   "cell_type": "code",
   "execution_count": null,
   "metadata": {
    "collapsed": true
   },
   "outputs": [],
   "source": [
    "df['reactions_count_fb']"
   ]
  },
  {
   "cell_type": "markdown",
   "metadata": {},
   "source": [
    "We can easily compute the mean and median for columns by applying the `.mean()` and `.median()` methods. Inspect the example below:"
   ]
  },
  {
   "cell_type": "code",
   "execution_count": null,
   "metadata": {
    "collapsed": true
   },
   "outputs": [],
   "source": [
    "df['reactions_count_fb'].mean()"
   ]
  },
  {
   "cell_type": "markdown",
   "metadata": {},
   "source": [
    "#### Exercise\n",
    "\n",
    "- What is the median value for the `reactions_count_fb` column?\n",
    "- What is the mean of the angry reactions column?\n",
    "- What is the median haha reactions?\n",
    "> Try to print these scores nicely, as in: print('the average number of reactions is', ...)"
   ]
  },
  {
   "cell_type": "code",
   "execution_count": null,
   "metadata": {
    "collapsed": true
   },
   "outputs": [],
   "source": [
    "# insert code here"
   ]
  },
  {
   "cell_type": "markdown",
   "metadata": {},
   "source": [
    "After obtaining these summary statistics we proceed with visualising the actual distribution of the data. We can thus by plotting a histogram, which shows us how frequent values (that fall within a certain range) occur:"
   ]
  },
  {
   "cell_type": "code",
   "execution_count": null,
   "metadata": {
    "collapsed": true
   },
   "outputs": [],
   "source": [
    "df['reactions_count_fb'].plot(kind='hist')"
   ]
  },
  {
   "cell_type": "markdown",
   "metadata": {},
   "source": [
    "**Question** \n",
    "\n",
    "How to interpret this figure?"
   ]
  },
  {
   "cell_type": "raw",
   "metadata": {},
   "source": [
    "# write answer here"
   ]
  },
  {
   "cell_type": "markdown",
   "metadata": {},
   "source": [
    "We can refine the bars on the figure by adjusting the `bins` argument:"
   ]
  },
  {
   "cell_type": "code",
   "execution_count": null,
   "metadata": {
    "collapsed": true
   },
   "outputs": [],
   "source": [
    "df['reactions_count_fb'].plot(kind='hist',bins=100)"
   ]
  },
  {
   "cell_type": "markdown",
   "metadata": {},
   "source": [
    "#### Exercise\n",
    "\n",
    "- Plot the distributions of the like counts.\n",
    "- Adjust the number of bins: use 10,100,1000.\n",
    "- Which value would you prefer?"
   ]
  },
  {
   "cell_type": "code",
   "execution_count": null,
   "metadata": {
    "collapsed": true
   },
   "outputs": [],
   "source": [
    "# insert code here"
   ]
  },
  {
   "cell_type": "markdown",
   "metadata": {},
   "source": [
    "## Sorting DataFrames"
   ]
  },
  {
   "cell_type": "markdown",
   "metadata": {},
   "source": [
    "Lastly, we can sort the DataFrame by a specific column. De `.sort_values()` method takes two argument\n",
    "- `by=`: the column you column you want use\n",
    "- `ascending=` should be equal to `False` if you want to rank the table from high to low."
   ]
  },
  {
   "cell_type": "code",
   "execution_count": null,
   "metadata": {
    "collapsed": true
   },
   "outputs": [],
   "source": [
    "df.sort_values(by='rea_HAHA',ascending=False)"
   ]
  },
  {
   "cell_type": "markdown",
   "metadata": {},
   "source": [
    "You can use this in combination with `head()` if you want to show only the first *n* rows"
   ]
  },
  {
   "cell_type": "code",
   "execution_count": null,
   "metadata": {
    "collapsed": true,
    "scrolled": true
   },
   "outputs": [],
   "source": [
    "df.sort_values(by='rea_HAHA',ascending=False).head(10)"
   ]
  }
 ],
 "metadata": {
  "kernelspec": {
   "display_name": "Python 3",
   "language": "python",
   "name": "python3"
  },
  "language_info": {
   "codemirror_mode": {
    "name": "ipython",
    "version": 3
   },
   "file_extension": ".py",
   "mimetype": "text/x-python",
   "name": "python",
   "nbconvert_exporter": "python",
   "pygments_lexer": "ipython3",
   "version": "3.7.4"
  }
 },
 "nbformat": 4,
 "nbformat_minor": 2
}
