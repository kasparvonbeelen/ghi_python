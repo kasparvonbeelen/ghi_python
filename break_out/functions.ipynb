{
 "cells": [
  {
   "cell_type": "markdown",
   "metadata": {},
   "source": [
    "## 1. Functions\n",
    "\n",
    "What is a function? In previous lecture you encountered many built-in functions (from the standard as well external libraries such as Pandas). For example ``len`` or ``print``--both followed by paranthesis as you undoubtedly noticed. A function is ``a sequence of statements that performs a computation``, such as counting the number of items in a collection (characters in strings) or printing a string to the screen. So, in general, a function is a piece of code that carries out certain actions, and (in most of the cases) returns a result.\n",
    "\n",
    "When creating a function you can specify the sequency of statemtents, and later **``call``** the function [CS]. We have seen many example of function calls."
   ]
  },
  {
   "cell_type": "code",
   "execution_count": null,
   "metadata": {
    "collapsed": true
   },
   "outputs": [],
   "source": [
    "type(42)"
   ]
  },
  {
   "cell_type": "markdown",
   "metadata": {},
   "source": [
    "The name of the function is type. The expression in parentheses is called the **``argument``** of the function. The result, for this function, is the type of the argument.\n",
    "It is common to say that a function **\"takes\"** an ``argument`` (input) and **\"returns\"** a result (output). The result is called the **``return value``**."
   ]
  },
  {
   "cell_type": "code",
   "execution_count": null,
   "metadata": {
    "collapsed": true
   },
   "outputs": [],
   "source": [
    "# What is the function name and argument in the statements below?\n",
    "# Is there a returned value?\n",
    "#print(\"Hello, World.\")\n",
    "#len('kaspar')"
   ]
  },
  {
   "cell_type": "markdown",
   "metadata": {},
   "source": [
    "## 1.1. Fruitful and void functions"
   ]
  },
  {
   "cell_type": "markdown",
   "metadata": {},
   "source": [
    "As you may surmise from the previous example, not all functions return a value. Some functions return or yield values, these I call **fruitful functions**. ``len`` is an example of such a function. Other function may perform some action but don't return a value. They are called **void functions**."
   ]
  },
  {
   "cell_type": "markdown",
   "metadata": {},
   "source": [
    "**a void function**"
   ]
  },
  {
   "cell_type": "code",
   "execution_count": null,
   "metadata": {
    "collapsed": true
   },
   "outputs": [],
   "source": [
    "f = print('Kaspar')\n",
    "print(f)"
   ]
  },
  {
   "cell_type": "markdown",
   "metadata": {},
   "source": [
    "**a fruitful function**"
   ]
  },
  {
   "cell_type": "code",
   "execution_count": null,
   "metadata": {
    "collapsed": true
   },
   "outputs": [],
   "source": [
    "l = len('Kaspar')\n",
    "print(l)"
   ]
  },
  {
   "cell_type": "markdown",
   "metadata": {},
   "source": [
    "## 1.3. Creating your own functions\n",
    "\n",
    "Even though many functions are readily accessible via the myriad libraries, you can--no just must--write your own functions, that perform the specific tasks in your research project as many time as you want (and the power of your computer allows).\n",
    "\n",
    "[MK] Separating your problem into sub-problems and writing a function for each of those is an immensely important part of well-**structured** programming.\n",
    "\n",
    "Let's start off with a trivial function. Functions are defined using the `def` keyword, followed by the name you want your function to have and (optionally!) the names of the parameters that your function takes. \n",
    "\n",
    "    def some_name(optional_parameters):\n",
    "        # here goes your functionality\n",
    "        return my_result\n",
    "\n",
    "The `return` statement returns a value back to the caller and always ends the execution of the function. Mind the indentation here, which is how we make clear to the Python interpreter which lines belong to our function."
   ]
  },
  {
   "cell_type": "markdown",
   "metadata": {},
   "source": [
    "[CS]  To add new function, you start off with a ``function definition`` that specifies the name of a new function and the sequence of statements that execute when the function is called."
   ]
  },
  {
   "cell_type": "code",
   "execution_count": null,
   "metadata": {
    "collapsed": true
   },
   "outputs": [],
   "source": [
    "# something more useful\n",
    "def multiply(x, y):\n",
    "    result = x * y\n",
    "    return result"
   ]
  },
  {
   "cell_type": "code",
   "execution_count": null,
   "metadata": {
    "collapsed": true
   },
   "outputs": [],
   "source": [
    "# or in shorthand\n",
    "def multiply(x, y):\n",
    "    return x*y\n",
    "\n",
    "# now that you defined this function, you can use it in the rest of your code:\n",
    "z = multiply(2, 5)\n",
    "print(z)"
   ]
  },
  {
   "cell_type": "markdown",
   "metadata": {},
   "source": [
    "Not all functions end with a ``return`` statement, these can be **void** functions such as the not so handy function below (we come back to this), performs some print statements, but does not return anything."
   ]
  },
  {
   "cell_type": "code",
   "execution_count": null,
   "metadata": {
    "collapsed": true
   },
   "outputs": [],
   "source": [
    "# from VU\n",
    "def happy_birthday_to_emily(): # Function definition\n",
    "    \"\"\"\n",
    "    Print a birthday song to Emily.\n",
    "    \"\"\"\n",
    "    print(\"Happy Birthday to you!\")\n",
    "    print(\"Happy Birthday to you!\")\n",
    "    print(\"Happy Birthday, dear Emily.\")\n",
    "    print(\"Happy Birthday to you!\")"
   ]
  },
  {
   "cell_type": "markdown",
   "metadata": {},
   "source": [
    "[MK] Now, let's define a more advanced function. The following function `count_articles()` counts the number of articles (*the*, *a*, *an*) in a list of words. The words are passed to the function as a list of strings. Note that the function itself lowercases the words, so that you never have to take care of this again in the rest of your code! Can you change `count_articles()` in such a manner that it will now accept the entire string and splits it into tokens internally? That way, the user of a function wouldn't have to care about this!"
   ]
  },
  {
   "cell_type": "code",
   "execution_count": 1,
   "metadata": {},
   "outputs": [
    {
     "name": "stdout",
     "output_type": "stream",
     "text": [
      "5\n"
     ]
    }
   ],
   "source": [
    "def count_articles(tokens):\n",
    "    count = 0\n",
    "    for token in tokens:\n",
    "        if token.lower() in ('the', 'a', 'an'):\n",
    "            count += 1\n",
    "    return count\n",
    "\n",
    "# Paul Auster, City of Glass (1985)\n",
    "text = \"It was a wrong number that started it , the telephone ringing three times in the dead of night , and the voice on the other end asking for someone he was not .\"\n",
    "words = text.split()\n",
    "print(count_articles(words))"
   ]
  },
  {
   "cell_type": "code",
   "execution_count": null,
   "metadata": {
    "collapsed": true
   },
   "outputs": [],
   "source": [
    "A lot is happening here. Most of it should look "
   ]
  },
  {
   "cell_type": "markdown",
   "metadata": {},
   "source": [
    "### 1.3.1 Syntax for building you own function\n",
    "\n",
    "* [CS]**``def``** is a Python ``keyword`` that indicates that this is a function definition. The name of the function is ``multiply``. The rules for function names are the same as for variable names.\n",
    "\n",
    "* [CS] The first line of the **function** definition is called the header; the rest is called the **body**.\n",
    "The header has to end with a colon and the body has to be **indented**. By convention, the indentation is always **four** spaces (or in the Notebook you can use a tab).\n",
    "\n",
    "* Defining a function creates a variable with the same name. The value of ``multiply`` is a function object, which has type 'function'. \n"
   ]
  },
  {
   "cell_type": "code",
   "execution_count": null,
   "metadata": {
    "collapsed": true
   },
   "outputs": [],
   "source": [
    "# Check this by ``print(function name)`` and ``type(function name)``."
   ]
  },
  {
   "cell_type": "markdown",
   "metadata": {},
   "source": [
    "* Input: Some functions require **arguments**. For example, when you called ``multiply`` you passed two numbers arguments. However, ``lumberjack`` did not require any arguments.\n",
    "\n",
    "* [CS] Inside the function, the arguments are assigned to variables called **parameters**. "
   ]
  },
  {
   "cell_type": "markdown",
   "metadata": {},
   "source": [
    "The following (edited) function takes the name of the person (string) as an input and then sings the song with the person’s name inserted at the end of the third line:"
   ]
  },
  {
   "cell_type": "code",
   "execution_count": null,
   "metadata": {
    "collapsed": true
   },
   "outputs": [],
   "source": [
    "def happy_birthday(whatever):\n",
    "    \"\"\"\n",
    "    Print a birthday song with the \"name\" of the person inserted.\n",
    "    \"\"\"\n",
    "    print(\"Happy Birthday to you!\")\n",
    "    print(\"Happy Birthday to you!\")\n",
    "    print(\"Happy Birthday, dear \" + whatever + \".\")\n",
    "    print(\"Happy Birthday to you!\")\n"
   ]
  },
  {
   "cell_type": "code",
   "execution_count": null,
   "metadata": {
    "collapsed": true
   },
   "outputs": [],
   "source": [
    "happy_birthday()"
   ]
  },
  {
   "cell_type": "markdown",
   "metadata": {},
   "source": [
    "Even though this worked fine before, after changing the function leaving out the argument raises a ``TypeError``. Python points out that your function call misses a required argument with the name ``whatever``. "
   ]
  },
  {
   "cell_type": "code",
   "execution_count": null,
   "metadata": {
    "collapsed": true
   },
   "outputs": [],
   "source": [
    "my_name = 'Kaspar von Beelen'\n",
    "happy_birthday(my_name)"
   ]
  },
  {
   "cell_type": "markdown",
   "metadata": {},
   "source": [
    "[VU] Note: Keep in mind the distinction between *function definition* and *function call*. The variable ``whatever`` in the above code is a **parameter** of a function definition. The variable ``my_name`` provides a **value** for the parameter name *at the time when the function is called*. We denote such variables **arguments**. We use arguments so we can direct the function to do different kinds of work when we call it at different times."
   ]
  },
  {
   "cell_type": "markdown",
   "metadata": {},
   "source": [
    "[VU] **Exercise**: Write a function that converts meters to centimeters and prints the resulting value."
   ]
  },
  {
   "cell_type": "markdown",
   "metadata": {},
   "source": [
    "Exercise: Let's refactor the happy birthday function to have no repetition. Note that previously we print \"Happy birthday to you!\" three times. Make another function happy_birthday_to_you() that only prints this line and call it inside the function happy_birthday(name).\n"
   ]
  },
  {
   "cell_type": "code",
   "execution_count": null,
   "metadata": {
    "collapsed": true
   },
   "outputs": [],
   "source": [
    "# Your code here\n",
    "\n",
    "# def print_happy_birthday():\n",
    "    # happy_birthday_to_you here\n",
    "    \n",
    "# def happy_birthday(whatever)"
   ]
  },
  {
   "cell_type": "markdown",
   "metadata": {},
   "source": [
    "Output the ``return`` of whatever: Functions can have a return statement. The return statement returns a value back to the caller and always ends the execution of the function. This also allows us to use the result of a function outside of that function."
   ]
  },
  {
   "cell_type": "code",
   "execution_count": 6,
   "metadata": {},
   "outputs": [
    {
     "name": "stdout",
     "output_type": "stream",
     "text": [
      "None\n",
      "None\n",
      "3\n"
     ]
    }
   ],
   "source": [
    "# return always ends the execution of a function\n",
    "\n",
    "def multiply_two_returns(x,y):\n",
    "    return #  WRONG\n",
    "    return x ** y\n",
    "\n",
    "print(multiply_two_returns(3,1))\n",
    "\n",
    "def multiply_no_return(x, y):\n",
    "    result = x * y\n",
    "    \n",
    "print(multiply_no_return(3,1))\n",
    "\n",
    "def multiply_correct(x,y):\n",
    "    return x ** y\n",
    "\n",
    "print(multiply_correct(3,1))"
   ]
  },
  {
   "cell_type": "markdown",
   "metadata": {},
   "source": [
    "### Composition\n",
    "Function are powerful tools to compose bigger programs. Each function then becomes a building block that takes care of one specific operation in a bigger program. Doing so, we define functions that call other functions! For example:"
   ]
  },
  {
   "cell_type": "code",
   "execution_count": null,
   "metadata": {
    "collapsed": true
   },
   "outputs": [],
   "source": [
    "def exponentiate(z,exp):\n",
    "    return z**exp\n",
    "\n",
    "def mult_and_exp(x,y,exp):\n",
    "    z = multiply(x,y)\n",
    "    return exponentiate(z,exp)\n",
    "\n",
    "# or more concise\n",
    "def mult_and_exp(x,y,exp):\n",
    "    return exponentiate(multiply(x,y),exp)\n"
   ]
  },
  {
   "cell_type": "markdown",
   "metadata": {},
   "source": [
    "[VU] Similarly as the input, a function can also return multiple values by combining them in a tuple."
   ]
  },
  {
   "cell_type": "code",
   "execution_count": 8,
   "metadata": {},
   "outputs": [
    {
     "name": "stdout",
     "output_type": "stream",
     "text": [
      "product: 100000 sum: 15\n"
     ]
    }
   ],
   "source": [
    "def added(x,y):\n",
    "    return x + y\n",
    "\n",
    "def calculate(x,y):\n",
    "    \"\"\"Calculate product and sum of two numbers.\"\"\"\n",
    "    product = multiply(x,y)\n",
    "    summed = added(x,y)\n",
    "    \n",
    "    #we return a tuple of values\n",
    "    return product, summed\n",
    "\n",
    "# the function returned a tuple and we unpack it to var1 and var2\n",
    "var1, var2 = calculate(10,5)\n",
    "\n",
    "print(\"product:\",var1,\"sum:\",var2)"
   ]
  },
  {
   "cell_type": "markdown",
   "metadata": {},
   "source": [
    "[VU] Now you know how to create and call a function, Whenever you are writing a function, you need to think of the following things:\n",
    "- What is the purpose of the function?\n",
    "- How should I name the function?\n",
    "- What input does the function need?\n",
    "- What output should the function generate?\n",
    "\n",
    "### Why use functions?\n",
    "\n",
    "There are several good reasons why functions are a key component of any non-ridiculous programmer:\n",
    "\n",
    "* encapsulation: wrapping a piece of useful code into a function so that it can be used without knowledge of the specifics\n",
    "* generalization: making a piece of code useful in varied circumstances through parameters\n",
    "* manageability: Dividing a complex program up into easy-to-manage chunks\n",
    "* maintainability: using meaningful names to make the program better readable and understandable\n",
    "* reusability: a good function may be useful in multiple programs\n",
    "* recursion!"
   ]
  },
  {
   "cell_type": "markdown",
   "metadata": {},
   "source": [
    "### Scope: Variables and parameters are local\n",
    "\n",
    "[MK] Any variables you declare in a function, as well as the parameters that are passed to a function will only exist within the 'scope' of that function, i.e. inside the function itself. The following code will produce an error, because the variable x does not exist outside the function:"
   ]
  },
  {
   "cell_type": "code",
   "execution_count": null,
   "metadata": {
    "collapsed": true
   },
   "outputs": [],
   "source": [
    "def setx():\n",
    "    x = 1\n",
    "\n",
    "setx()\n",
    "print(x)"
   ]
  },
  {
   "cell_type": "markdown",
   "metadata": {},
   "source": [
    "Or consider this:"
   ]
  },
  {
   "cell_type": "code",
   "execution_count": null,
   "metadata": {
    "collapsed": true
   },
   "outputs": [],
   "source": [
    "x = 0\n",
    "def setx():\n",
    "    x = 1\n",
    "setx()\n",
    "print(x)"
   ]
  },
  {
   "cell_type": "markdown",
   "metadata": {},
   "source": [
    "In fact, this code has produced two completely unrelated `x`'s!\n",
    "\n",
    "Nevertheless, it is possible to read a global variable from within a function, in a strictly read-only fashion. But as soon as you assign something, the variable will be a local copy:"
   ]
  },
  {
   "cell_type": "code",
   "execution_count": 10,
   "metadata": {},
   "outputs": [
    {
     "name": "stdout",
     "output_type": "stream",
     "text": [
      "1\n"
     ]
    }
   ],
   "source": [
    "x = 1\n",
    "def getx():\n",
    "    print(x)\n",
    "    \n",
    "getx()"
   ]
  },
  {
   "cell_type": "markdown",
   "metadata": {},
   "source": [
    "## Exercises - DIY Functions"
   ]
  },
  {
   "cell_type": "markdown",
   "metadata": {},
   "source": [
    "-  Two words are anagrams if you can rearrange the letters from one to spell the other. Write a function called is_anagram that takes two strings and returns True if they are anagrams.\n",
    "> Tip print(help(sorted))"
   ]
  }
 ],
 "metadata": {
  "kernelspec": {
   "display_name": "Python 3",
   "language": "python",
   "name": "python3"
  },
  "language_info": {
   "codemirror_mode": {
    "name": "ipython",
    "version": 3
   },
   "file_extension": ".py",
   "mimetype": "text/x-python",
   "name": "python",
   "nbconvert_exporter": "python",
   "pygments_lexer": "ipython3",
   "version": "3.6.3"
  }
 },
 "nbformat": 4,
 "nbformat_minor": 2
}
