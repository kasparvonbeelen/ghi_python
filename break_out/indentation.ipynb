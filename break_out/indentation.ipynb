{
 "cells": [
  {
   "cell_type": "markdown",
   "metadata": {},
   "source": [
    "# Indentation\n",
    "\n",
    "Before we continue, we must first explain to you that the layout of our code is **not optional**. Unlike in other languages, Python does not make use of curly braces to mark the start and end of expressions. The only **delimiter** is a colon (`:`) and the **indentation** of the code. This indentation must be used consistently throughout your code. The convention is to use 4 spaces as indentation. This means that after you have used a colon (such as in our `if` statement) the next line should be indented by four spaces more than the previous line.\n",
    "\n",
    "If the script is not properly indented, Python will throw you an IndentationError back! See example below:"
   ]
  },
  {
   "cell_type": "code",
   "execution_count": null,
   "metadata": {
    "collapsed": true
   },
   "outputs": [],
   "source": [
    "x = 5\n",
    "if x > 0:\n",
    "print('Positive')"
   ]
  },
  {
   "cell_type": "markdown",
   "metadata": {
    "collapsed": true
   },
   "source": [
    "The example below shows how indentation should look like:"
   ]
  },
  {
   "cell_type": "code",
   "execution_count": null,
   "metadata": {
    "collapsed": true
   },
   "outputs": [],
   "source": [
    "person = \"John\"\n",
    "print(\"hello!\")\n",
    "if person == \"Alice\":\n",
    "    print(\"how are you today?\")                  #this is indented under the if condition\n",
    "    print(\"do you want to join me for lunch?\")   #this is indented under the if condition\n",
    "elif person == \"Lisa\":\n",
    "    print(\"let's talk some other time!\")         #this is indented under the elif condition\n",
    "else:\n",
    "    print(\"goodbye!\")                            #this is indented under else"
   ]
  }
 ],
 "metadata": {
  "kernelspec": {
   "display_name": "Python 3",
   "language": "python",
   "name": "python3"
  },
  "language_info": {
   "codemirror_mode": {
    "name": "ipython",
    "version": 3
   },
   "file_extension": ".py",
   "mimetype": "text/x-python",
   "name": "python",
   "nbconvert_exporter": "python",
   "pygments_lexer": "ipython3",
   "version": "3.7.4"
  }
 },
 "nbformat": 4,
 "nbformat_minor": 2
}
