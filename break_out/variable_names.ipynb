{
 "cells": [
  {
   "cell_type": "markdown",
   "metadata": {},
   "source": [
    "You are free to choose a name from a **semantic** point of view, but not all variable names are **syntactically valid** in Python. Variable names are only valid if they:\n",
    "\n",
    "- start with a letter or underscore (\\_)\n",
    "- only contain letters, numbers and underscores\n",
    "- are not a Python **keyword**: [Keywords]() define the language's rules and structure, and they cannot be used as variable names. To check if a variable name coincides with a keyword, run this code:"
   ]
  },
  {
   "cell_type": "code",
   "execution_count": null,
   "metadata": {},
   "outputs": [],
   "source": [
    "import keyword\n",
    "print(keyword.kwlist)"
   ]
  },
  {
   "cell_type": "markdown",
   "metadata": {},
   "source": [
    "**Exercise:** Run the following code block and see what happens. \n",
    "- Try to run the block below by **commenting out** the invalid names. Add a `#` to comment out a specific line.\n",
    "- Then remove all `#` and fix the invalid variable names."
   ]
  },
  {
   "cell_type": "code",
   "execution_count": null,
   "metadata": {},
   "outputs": [],
   "source": [
    "eggs = 3\n",
    "_eggs = 6\n",
    "5eggs = 5\n",
    "eggs$ = 1\n",
    "def = 0.005\n",
    "Def = .1\n",
    "eggs123 = 9\n",
    "ten_eggs = 10\n",
    "class = 9\n",
    "Class = 10\n",
    "TwelveEggs = 8\n",
    "twelve.eggs = 12"
   ]
  }
 ],
 "metadata": {
  "kernelspec": {
   "display_name": "Python 3",
   "language": "python",
   "name": "python3"
  },
  "language_info": {
   "codemirror_mode": {
    "name": "ipython",
    "version": 3
   },
   "file_extension": ".py",
   "mimetype": "text/x-python",
   "name": "python",
   "nbconvert_exporter": "python",
   "pygments_lexer": "ipython3",
   "version": "3.7.4"
  }
 },
 "nbformat": 4,
 "nbformat_minor": 2
}
