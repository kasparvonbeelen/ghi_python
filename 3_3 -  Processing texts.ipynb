{
 "cells": [
  {
   "cell_type": "markdown",
   "metadata": {},
   "source": [
    "# 3.3 Reading texts at scale: Processing texts\n",
    "\n",
    "In this notebook you learn to process and extract information from texts. We continue with the sonnet, but as promised, scale up soon. \n",
    "\n",
    "This notebook focusses on extracting basic information from texts, the number of sentences and words, and shows how to use external libraries for more refined enrichment, such as finding named entities or zoom in on specific word categories (nouns, verbs). We discuss how this could be relevant to historians."
   ]
  },
  {
   "cell_type": "markdown",
   "metadata": {},
   "source": [
    "## 3.3.1 Strings are sequences of characters"
   ]
  },
  {
   "cell_type": "markdown",
   "metadata": {},
   "source": [
    "At this point you have basic understanding of how to read and manipulate textual data in Python. Now we can turn to more directly useful and realistic applications. "
   ]
  },
  {
   "cell_type": "code",
   "execution_count": 1,
   "metadata": {},
   "outputs": [
    {
     "name": "stdout",
     "output_type": "stream",
     "text": [
      "From fairest creatures we desire increase,\n",
      "That thereby beauty's rose might never die,\n",
      "But as the riper should by time decease,\n",
      "His tender heir might bear his memory:\n",
      "But thou, contracted to thine own bright eyes,\n",
      "Feed'st thy light's flame with self-substantial fuel,\n",
      "Making a famine where abundance lies,\n",
      "Thyself thy foe, to thy sweet self too cruel:\n",
      "Thou that art now the world's fresh ornament,\n",
      "And only herald to the gaudy spring,\n",
      "Within thine own bud buriest thy content,\n",
      "And tender churl mak'st waste in niggarding:\n",
      "Pity the world, or else this glutton be,\n",
      "To eat the world's due, by the grave and thee.\n"
     ]
    }
   ],
   "source": [
    "path = \"example_data/notebook_3/shakespeare_sonnet_i.txt\"\n",
    "sonnet = open(path,'r').read()\n",
    "print(sonnet)"
   ]
  },
  {
   "cell_type": "markdown",
   "metadata": {},
   "source": [
    "We have encountered a few string methods that allow you to manipulate texts. `str.lowercase()` for example, converts capitals to lower case.\n",
    "\n",
    "\n",
    "-- Exercise: lowercase the sonnet and store it in a variable called `sonnet_lower`"
   ]
  },
  {
   "cell_type": "code",
   "execution_count": 2,
   "metadata": {},
   "outputs": [],
   "source": [
    "# remove this comment and add code here"
   ]
  },
  {
   "cell_type": "markdown",
   "metadata": {},
   "source": [
    "While to a human reader (look at the document in very formally) the sonnet clearly consist of multiple lines and has contains many words (such a surprise). But at this stage the computer has no understanding of even these basic element of language, the concept of lines, sentences and words have to be made explicit before we can even start to think of how to encode the meaning of natural language with computational means (to be discussed later)."
   ]
  },
  {
   "cell_type": "markdown",
   "metadata": {},
   "source": [
    "## 3.3.1 Tokens"
   ]
  },
  {
   "cell_type": "markdown",
   "metadata": {},
   "source": [
    "Before we proceed, let's define, because what are words anyway?\n",
    "Generally we make the distinction between `type` and `token`. We follow the definition [Smith, N.A., 2019](https://arxiv.org/pdf/1902.06006.pdf). \n",
    "- \"A word **token** is a word observed in a piece of text.\" \n",
    "- \"A word **type** is a distinct word, in the abstract, rather than a specific instance. Every word token is said to “belong” to its type.\"\n",
    "\n",
    " Example:\n",
    " > The sentence \"two teas and two coffees\" contains 5 tokens and 4 types (two appears twice)."
   ]
  },
  {
   "cell_type": "markdown",
   "metadata": {},
   "source": [
    "As said in the introduction, text comes initially as unstructured data, as a sequence of character which we have manipulate to process properly. To make this clear, we can revisit the index notation to inspect the basic elements of a string."
   ]
  },
  {
   "cell_type": "code",
   "execution_count": 3,
   "metadata": {},
   "outputs": [
    {
     "data": {
      "text/plain": [
       "'F'"
      ]
     },
     "execution_count": 3,
     "metadata": {},
     "output_type": "execute_result"
    }
   ],
   "source": [
    "sonnet[0]"
   ]
  },
  {
   "cell_type": "markdown",
   "metadata": {},
   "source": [
    "As you notice `sonnet[0]` doesn't return the first word but the first character."
   ]
  },
  {
   "cell_type": "markdown",
   "metadata": {},
   "source": [
    "A seemingly straightforward way to transform the string to tokens is by splitting the text by white spaces and luckily Python provides us with a tool to do just that. The `str.split()` method will use the white spaces to split a string into a list of tokens. Run the code below, and inspect the output."
   ]
  },
  {
   "cell_type": "code",
   "execution_count": 4,
   "metadata": {},
   "outputs": [
    {
     "name": "stdout",
     "output_type": "stream",
     "text": [
      "['From', 'fairest', 'creatures', 'we', 'desire', 'increase,', 'That', 'thereby', \"beauty's\", 'rose', 'might', 'never', 'die,', 'But', 'as', 'the', 'riper', 'should', 'by', 'time', 'decease,', 'His', 'tender', 'heir', 'might', 'bear', 'his', 'memory:', 'But', 'thou,', 'contracted', 'to', 'thine', 'own', 'bright', 'eyes,', \"Feed'st\", 'thy', \"light's\", 'flame', 'with', 'self-substantial', 'fuel,', 'Making', 'a', 'famine', 'where', 'abundance', 'lies,', 'Thyself', 'thy', 'foe,', 'to', 'thy', 'sweet', 'self', 'too', 'cruel:', 'Thou', 'that', 'art', 'now', 'the', \"world's\", 'fresh', 'ornament,', 'And', 'only', 'herald', 'to', 'the', 'gaudy', 'spring,', 'Within', 'thine', 'own', 'bud', 'buriest', 'thy', 'content,', 'And', 'tender', 'churl', \"mak'st\", 'waste', 'in', 'niggarding:', 'Pity', 'the', 'world,', 'or', 'else', 'this', 'glutton', 'be,', 'To', 'eat', 'the', \"world's\", 'due,', 'by', 'the', 'grave', 'and', 'thee.']\n"
     ]
    }
   ],
   "source": [
    "tokens = sonnet.split()\n",
    "print(tokens)"
   ]
  },
  {
   "cell_type": "code",
   "execution_count": 5,
   "metadata": {},
   "outputs": [
    {
     "name": "stdout",
     "output_type": "stream",
     "text": [
      "<class 'list'>\n"
     ]
    }
   ],
   "source": [
    "print(type(tokens))"
   ]
  },
  {
   "cell_type": "code",
   "execution_count": 6,
   "metadata": {},
   "outputs": [
    {
     "data": {
      "text/plain": [
       "'From'"
      ]
     },
     "execution_count": 6,
     "metadata": {},
     "output_type": "execute_result"
    }
   ],
   "source": [
    "tokens[0]"
   ]
  },
  {
   "cell_type": "markdown",
   "metadata": {},
   "source": [
    "This looks different to what we have encountered before:\n",
    "- The output is enclosed by square brackets\n",
    "- the quotation marks are now around the individual words not the whole string\n",
    "- each word is separated from the next by a comma\n",
    "\n",
    "What happened here is the following: split takes a string and returns a list of tokens. A `list` is another Python data type, such as strings, which we will be using a lot in the remainder of this course. The `intermezzo` provides more information, but we discuss them also here."
   ]
  },
  {
   "cell_type": "markdown",
   "metadata": {},
   "source": [
    "A Python list is an \"is an ordered collection of values\" ([Wentworth, et al. 2012](https://openbookproject.net/thinkcs/python/english3e/lists.html)). It is container that keeps several elements (also called) items in a particular order. Documents are often presented as a list, i.e. as a sequence of tokens in a specific order. \n",
    "\n",
    "Each element in the list implicitly indexed by place, i.e. you can retrieve an items by its position, for example the first and last word of the sonnet."
   ]
  },
  {
   "cell_type": "code",
   "execution_count": 7,
   "metadata": {},
   "outputs": [
    {
     "data": {
      "text/plain": [
       "'From'"
      ]
     },
     "execution_count": 7,
     "metadata": {},
     "output_type": "execute_result"
    }
   ],
   "source": [
    "tokens[0]"
   ]
  },
  {
   "cell_type": "code",
   "execution_count": 8,
   "metadata": {},
   "outputs": [
    {
     "data": {
      "text/plain": [
       "'thee.'"
      ]
     },
     "execution_count": 8,
     "metadata": {},
     "output_type": "execute_result"
    }
   ],
   "source": [
    "tokens[-1]"
   ]
  },
  {
   "cell_type": "markdown",
   "metadata": {},
   "source": [
    "With `len()` we can count the number of items the list contains (notice how this is different from the number of characters a string contains)."
   ]
  },
  {
   "cell_type": "code",
   "execution_count": 9,
   "metadata": {},
   "outputs": [
    {
     "data": {
      "text/plain": [
       "105"
      ]
     },
     "execution_count": 9,
     "metadata": {},
     "output_type": "execute_result"
    }
   ],
   "source": [
    "len(tokens)"
   ]
  },
  {
   "cell_type": "markdown",
   "metadata": {},
   "source": [
    "Even though we called the variable in which we save the string we split `tokens`, upon closer inspection you may notice that some elements in this list aren't technically tokens as they also include some punctuation marks. If we look at items at position 5, 8 and 41 the difficulty of converting a string to a list of tokens becomes apparent. "
   ]
  },
  {
   "cell_type": "code",
   "execution_count": 10,
   "metadata": {},
   "outputs": [
    {
     "data": {
      "text/plain": [
       "('increase,', \"beauty's\", 'self-substantial')"
      ]
     },
     "execution_count": 10,
     "metadata": {},
     "output_type": "execute_result"
    }
   ],
   "source": [
    "tokens[5],tokens[8],tokens[41]"
   ]
  },
  {
   "cell_type": "markdown",
   "metadata": {},
   "source": [
    "While the `'increase,'` is clearly a token followed by a punctuation mark, dealing `\"self-substantial\"` is more complex, and depends on how you interpret and process such compounds (read it as one word, or split it into two, `\"self\"` and `\"substantial\"`?"
   ]
  },
  {
   "cell_type": "markdown",
   "metadata": {},
   "source": [
    "Luckily, you don't have to worry too much about the subtleties unless you really want to! What makes Python so convenient are the many external libraries that provide you tools (in the form of function) that help you with more complex tasks.\n",
    "\n",
    "Below we look at a very popular (but maybe outdated at this point) tool called the Natural Language Toolkit (NLTK). Later we discuss a few other options."
   ]
  },
  {
   "cell_type": "markdown",
   "metadata": {},
   "source": [
    "NLTK is a Python library for natural language processing, it was built to make certain like tokenization easier. The syntax below is unfamiliar and the intermezzo points to a more elaborate explanation. What this line of coude actually is does is importing tool (a function with the name `word_tokenize`) into our Notebook. This function is stored in the library (in `nltk.tokenize`)."
   ]
  },
  {
   "cell_type": "code",
   "execution_count": 11,
   "metadata": {},
   "outputs": [],
   "source": [
    "from nltk.tokenize import word_tokenize"
   ]
  },
  {
   "cell_type": "markdown",
   "metadata": {},
   "source": [
    "After importing `word_tokenize` we can apply it to our sonnet and print the result."
   ]
  },
  {
   "cell_type": "code",
   "execution_count": 12,
   "metadata": {},
   "outputs": [
    {
     "name": "stdout",
     "output_type": "stream",
     "text": [
      "['From', 'fairest', 'creatures', 'we', 'desire', 'increase', ',', 'That', 'thereby', 'beauty', \"'s\", 'rose', 'might', 'never', 'die', ',', 'But', 'as', 'the', 'riper', 'should', 'by', 'time', 'decease', ',', 'His', 'tender', 'heir', 'might', 'bear', 'his', 'memory', ':', 'But', 'thou', ',', 'contracted', 'to', 'thine', 'own', 'bright', 'eyes', ',', \"Feed'st\", 'thy', 'light', \"'s\", 'flame', 'with', 'self-substantial', 'fuel', ',', 'Making', 'a', 'famine', 'where', 'abundance', 'lies', ',', 'Thyself', 'thy', 'foe', ',', 'to', 'thy', 'sweet', 'self', 'too', 'cruel', ':', 'Thou', 'that', 'art', 'now', 'the', 'world', \"'s\", 'fresh', 'ornament', ',', 'And', 'only', 'herald', 'to', 'the', 'gaudy', 'spring', ',', 'Within', 'thine', 'own', 'bud', 'buriest', 'thy', 'content', ',', 'And', 'tender', 'churl', \"mak'st\", 'waste', 'in', 'niggarding', ':', 'Pity', 'the', 'world', ',', 'or', 'else', 'this', 'glutton', 'be', ',', 'To', 'eat', 'the', 'world', \"'s\", 'due', ',', 'by', 'the', 'grave', 'and', 'thee', '.']\n"
     ]
    }
   ],
   "source": [
    "tokens_nltk = word_tokenize(sonnet)\n",
    "print(tokens_nltk)"
   ]
  },
  {
   "cell_type": "code",
   "execution_count": 13,
   "metadata": {},
   "outputs": [
    {
     "name": "stdout",
     "output_type": "stream",
     "text": [
      "127\n"
     ]
    }
   ],
   "source": [
    "print(len(tokens_nltk))"
   ]
  },
  {
   "cell_type": "markdown",
   "metadata": {},
   "source": [
    "-- Exercise: The previous returns a different number of tokens. Inspect the difference between splitting by white spaces and NLTK."
   ]
  },
  {
   "cell_type": "markdown",
   "metadata": {},
   "source": [
    "Together with lowercasing, tokenization is an essential step in the text processing pipeline. Now we can start investigating the sonnet in more detail, for example by counting words. The easiest way of doing this is using a `Counter()` object which again is a "
   ]
  },
  {
   "cell_type": "code",
   "execution_count": 14,
   "metadata": {},
   "outputs": [
    {
     "data": {
      "text/plain": [
       "Counter({'from': 1,\n",
       "         'fairest': 1,\n",
       "         'creatures': 1,\n",
       "         'we': 1,\n",
       "         'desire': 1,\n",
       "         'increase': 1,\n",
       "         ',': 14,\n",
       "         'that': 2,\n",
       "         'thereby': 1,\n",
       "         'beauty': 1,\n",
       "         \"'s\": 4,\n",
       "         'rose': 1,\n",
       "         'might': 2,\n",
       "         'never': 1,\n",
       "         'die': 1,\n",
       "         'but': 2,\n",
       "         'as': 1,\n",
       "         'the': 6,\n",
       "         'riper': 1,\n",
       "         'should': 1,\n",
       "         'by': 2,\n",
       "         'time': 1,\n",
       "         'decease': 1,\n",
       "         'his': 2,\n",
       "         'tender': 2,\n",
       "         'heir': 1,\n",
       "         'bear': 1,\n",
       "         'memory': 1,\n",
       "         ':': 3,\n",
       "         'thou': 2,\n",
       "         'contracted': 1,\n",
       "         'to': 4,\n",
       "         'thine': 2,\n",
       "         'own': 2,\n",
       "         'bright': 1,\n",
       "         'eyes': 1,\n",
       "         \"feed'st\": 1,\n",
       "         'thy': 4,\n",
       "         'light': 1,\n",
       "         'flame': 1,\n",
       "         'with': 1,\n",
       "         'self-substantial': 1,\n",
       "         'fuel': 1,\n",
       "         'making': 1,\n",
       "         'a': 1,\n",
       "         'famine': 1,\n",
       "         'where': 1,\n",
       "         'abundance': 1,\n",
       "         'lies': 1,\n",
       "         'thyself': 1,\n",
       "         'foe': 1,\n",
       "         'sweet': 1,\n",
       "         'self': 1,\n",
       "         'too': 1,\n",
       "         'cruel': 1,\n",
       "         'art': 1,\n",
       "         'now': 1,\n",
       "         'world': 3,\n",
       "         'fresh': 1,\n",
       "         'ornament': 1,\n",
       "         'and': 3,\n",
       "         'only': 1,\n",
       "         'herald': 1,\n",
       "         'gaudy': 1,\n",
       "         'spring': 1,\n",
       "         'within': 1,\n",
       "         'bud': 1,\n",
       "         'buriest': 1,\n",
       "         'content': 1,\n",
       "         'churl': 1,\n",
       "         \"mak'st\": 1,\n",
       "         'waste': 1,\n",
       "         'in': 1,\n",
       "         'niggarding': 1,\n",
       "         'pity': 1,\n",
       "         'or': 1,\n",
       "         'else': 1,\n",
       "         'this': 1,\n",
       "         'glutton': 1,\n",
       "         'be': 1,\n",
       "         'eat': 1,\n",
       "         'due': 1,\n",
       "         'grave': 1,\n",
       "         'thee': 1,\n",
       "         '.': 1})"
      ]
     },
     "execution_count": 14,
     "metadata": {},
     "output_type": "execute_result"
    }
   ],
   "source": [
    "from collections import Counter\n",
    "from nltk.tokenize import word_tokenize\n",
    "path = \"example_data/notebook_3/shakespeare_sonnet_i.txt\"\n",
    "sonnet = open(path,'r').read()\n",
    "sonnet_lowercase = sonnet.lower()\n",
    "tokens = word_tokenize(sonnet_lowercase)\n",
    "word_counts = Counter(tokens)\n",
    "word_counts"
   ]
  },
  {
   "cell_type": "code",
   "execution_count": 15,
   "metadata": {},
   "outputs": [
    {
     "data": {
      "text/plain": [
       "[(',', 14),\n",
       " ('the', 6),\n",
       " (\"'s\", 4),\n",
       " ('to', 4),\n",
       " ('thy', 4),\n",
       " (':', 3),\n",
       " ('world', 3),\n",
       " ('and', 3),\n",
       " ('that', 2),\n",
       " ('might', 2)]"
      ]
     },
     "execution_count": 15,
     "metadata": {},
     "output_type": "execute_result"
    }
   ],
   "source": [
    "word_counts.most_common(10)"
   ]
  },
  {
   "cell_type": "code",
   "execution_count": 16,
   "metadata": {},
   "outputs": [
    {
     "data": {
      "text/plain": [
       "3"
      ]
     },
     "execution_count": 16,
     "metadata": {},
     "output_type": "execute_result"
    }
   ],
   "source": [
    "word_counts['and']"
   ]
  },
  {
   "cell_type": "markdown",
   "metadata": {},
   "source": [
    "## Intermezzo\n",
    "- `''.join()`\n",
    "- libraries and imports\n",
    "- more NLTK functions"
   ]
  },
  {
   "cell_type": "markdown",
   "metadata": {},
   "source": [
    "## 3.3.2 Research Example: Studying trends over time in the Medical Officer of Health Report\n",
    "\n",
    "functions and iteration"
   ]
  },
  {
   "cell_type": "code",
   "execution_count": 19,
   "metadata": {},
   "outputs": [],
   "source": [
    "from pathlib import Path\n",
    "files = Path('data/MOH/').glob('*.txt')\n",
    "file_paths = list(files)"
   ]
  },
  {
   "cell_type": "code",
   "execution_count": 20,
   "metadata": {},
   "outputs": [
    {
     "data": {
      "text/plain": [
       "PosixPath('data/MOH/BethnalGreenMetropolitanBorough.1930.b18236613.txt')"
      ]
     },
     "execution_count": 20,
     "metadata": {},
     "output_type": "execute_result"
    }
   ],
   "source": [
    "file_paths[0]"
   ]
  },
  {
   "cell_type": "code",
   "execution_count": 21,
   "metadata": {},
   "outputs": [
    {
     "data": {
      "text/plain": [
       "96"
      ]
     },
     "execution_count": 21,
     "metadata": {},
     "output_type": "execute_result"
    }
   ],
   "source": [
    "len(file_paths)"
   ]
  },
  {
   "cell_type": "code",
   "execution_count": 22,
   "metadata": {},
   "outputs": [],
   "source": [
    "from collections import Counter\n",
    "from collections import defaultdict\n",
    "from nltk.tokenize import word_tokenize\n",
    "\n",
    "def count_words(path):\n",
    "    text = open(path,'r').read()\n",
    "    text_lowercase = text.lower()\n",
    "    tokens = word_tokenize(text_lowercase)\n",
    "    word_counts = Counter(tokens)\n",
    "    return word_counts\n"
   ]
  },
  {
   "cell_type": "code",
   "execution_count": 23,
   "metadata": {},
   "outputs": [
    {
     "data": {
      "text/plain": [
       "[('the', 2112),\n",
       " ('.', 1718),\n",
       " (',', 1620),\n",
       " ('of', 1429),\n",
       " ('...', 1386),\n",
       " ('and', 874),\n",
       " ('in', 748),\n",
       " ('to', 733),\n",
       " ('1', 551),\n",
       " ('for', 417)]"
      ]
     },
     "execution_count": 23,
     "metadata": {},
     "output_type": "execute_result"
    }
   ],
   "source": [
    "word_counts = count_words(file_paths[0])\n",
    "word_counts.most_common(10)"
   ]
  },
  {
   "cell_type": "code",
   "execution_count": 24,
   "metadata": {},
   "outputs": [
    {
     "data": {
      "text/plain": [
       "['data/MOH/BethnalGreenMetropolitanBorough', '1930', 'b18236613', 'txt']"
      ]
     },
     "execution_count": 24,
     "metadata": {},
     "output_type": "execute_result"
    }
   ],
   "source": [
    "str(file_paths[0]).split('.')"
   ]
  },
  {
   "cell_type": "code",
   "execution_count": 25,
   "metadata": {},
   "outputs": [
    {
     "data": {
      "text/plain": [
       "'1930'"
      ]
     },
     "execution_count": 25,
     "metadata": {},
     "output_type": "execute_result"
    }
   ],
   "source": [
    "str(file_paths[0]).split('.')[1]"
   ]
  },
  {
   "cell_type": "code",
   "execution_count": 26,
   "metadata": {},
   "outputs": [
    {
     "data": {
      "text/plain": [
       "1930"
      ]
     },
     "execution_count": 26,
     "metadata": {},
     "output_type": "execute_result"
    }
   ],
   "source": [
    "int(str(file_paths[0]).split('.')[1])"
   ]
  },
  {
   "cell_type": "code",
   "execution_count": 27,
   "metadata": {},
   "outputs": [],
   "source": [
    "def path2year(path):\n",
    "    year = int(str(path).split('.')[1])\n",
    "    return year"
   ]
  },
  {
   "cell_type": "code",
   "execution_count": 28,
   "metadata": {},
   "outputs": [],
   "source": [
    "counts_over_time = {}"
   ]
  },
  {
   "cell_type": "code",
   "execution_count": 29,
   "metadata": {},
   "outputs": [
    {
     "name": "stdout",
     "output_type": "stream",
     "text": [
      "data/MOH/BethnalGreenMetropolitanBorough.1930.b18236613.txt\n",
      "data/MOH/BethnalGreen.1914.b18121925.txt\n",
      "data/MOH/BethnalGreen.1926.b18220022.txt\n",
      "data/MOH/BethnalGreenMetropolitanBorough.1950.b18236819.txt\n",
      "data/MOH/BethnalGreen.1860.b18253982.txt\n",
      "data/MOH/BethnalGreenMetropolitanBorough.1947.b18236789.txt\n",
      "data/MOH/BethnalGreen.1870.b19952636.txt\n",
      "data/MOH/BethnalGreen.1907.b18048377.txt\n",
      "data/MOH/BethnalGreen.1885.b19952788.txt\n",
      "data/MOH/BethnalGreen.1911.b1810874x.txt\n"
     ]
    }
   ],
   "source": [
    "for p in file_paths[:10]:\n",
    "    print(p)"
   ]
  },
  {
   "cell_type": "code",
   "execution_count": 30,
   "metadata": {},
   "outputs": [
    {
     "name": "stdout",
     "output_type": "stream",
     "text": [
      "data/MOH/BethnalGreenMetropolitanBorough.1930.b18236613.txt\n",
      "data/MOH/BethnalGreen.1914.b18121925.txt\n",
      "data/MOH/BethnalGreen.1926.b18220022.txt\n",
      "data/MOH/BethnalGreenMetropolitanBorough.1950.b18236819.txt\n",
      "data/MOH/BethnalGreen.1860.b18253982.txt\n",
      "data/MOH/BethnalGreenMetropolitanBorough.1947.b18236789.txt\n",
      "data/MOH/BethnalGreen.1870.b19952636.txt\n",
      "data/MOH/BethnalGreen.1907.b18048377.txt\n",
      "data/MOH/BethnalGreen.1885.b19952788.txt\n",
      "data/MOH/BethnalGreen.1911.b1810874x.txt\n"
     ]
    }
   ],
   "source": [
    "for fp in file_paths[:10]:\n",
    "    print(fp)"
   ]
  },
  {
   "cell_type": "code",
   "execution_count": 31,
   "metadata": {},
   "outputs": [
    {
     "name": "stdout",
     "output_type": "stream",
     "text": [
      "data/MOH/BethnalGreen.1911.b1810874x.txt\n",
      "data/MOH/BethnalGreen.1911.b1810874x.txt\n",
      "data/MOH/BethnalGreen.1911.b1810874x.txt\n",
      "data/MOH/BethnalGreen.1911.b1810874x.txt\n",
      "data/MOH/BethnalGreen.1911.b1810874x.txt\n",
      "data/MOH/BethnalGreen.1911.b1810874x.txt\n",
      "data/MOH/BethnalGreen.1911.b1810874x.txt\n",
      "data/MOH/BethnalGreen.1911.b1810874x.txt\n",
      "data/MOH/BethnalGreen.1911.b1810874x.txt\n",
      "data/MOH/BethnalGreen.1911.b1810874x.txt\n"
     ]
    }
   ],
   "source": [
    "for fp in file_paths[:10]:\n",
    "    print(p)"
   ]
  },
  {
   "cell_type": "code",
   "execution_count": 32,
   "metadata": {},
   "outputs": [],
   "source": [
    "i = 0"
   ]
  },
  {
   "cell_type": "code",
   "execution_count": 33,
   "metadata": {},
   "outputs": [
    {
     "name": "stdout",
     "output_type": "stream",
     "text": [
      "1\n"
     ]
    }
   ],
   "source": [
    "i+=1\n",
    "print(i)"
   ]
  },
  {
   "cell_type": "code",
   "execution_count": 34,
   "metadata": {},
   "outputs": [],
   "source": [
    "target_term = 'pollution'\n",
    "results = defaultdict(int)\n",
    "\n",
    "for fp in file_paths:\n",
    "    year = path2year(fp)\n",
    "    word_counts = count_words(fp)\n",
    "    count_for_target = word_counts[target_term]\n",
    "    results[year]+= count_for_target\n",
    "    "
   ]
  },
  {
   "cell_type": "code",
   "execution_count": 35,
   "metadata": {},
   "outputs": [
    {
     "data": {
      "text/plain": [
       "defaultdict(int,\n",
       "            {1930: 0,\n",
       "             1914: 0,\n",
       "             1926: 0,\n",
       "             1950: 0,\n",
       "             1860: 0,\n",
       "             1947: 1,\n",
       "             1870: 0,\n",
       "             1907: 0,\n",
       "             1885: 2,\n",
       "             1911: 0,\n",
       "             1893: 0,\n",
       "             1887: 0,\n",
       "             1912: 0,\n",
       "             1932: 0,\n",
       "             1878: 0,\n",
       "             1879: 0,\n",
       "             1959: 3,\n",
       "             1903: 0,\n",
       "             1931: 0,\n",
       "             1867: 0,\n",
       "             1933: 0,\n",
       "             1892: 0,\n",
       "             1929: 0,\n",
       "             1910: 3,\n",
       "             1957: 2,\n",
       "             1896: 0,\n",
       "             1895: 0,\n",
       "             1888: 0,\n",
       "             1894: 0,\n",
       "             1954: 0,\n",
       "             1857: 0,\n",
       "             1871: 0,\n",
       "             1872: 0,\n",
       "             1868: 0,\n",
       "             1923: 0,\n",
       "             1953: 0,\n",
       "             1940: 0,\n",
       "             1889: 0,\n",
       "             1928: 0,\n",
       "             1948: 0,\n",
       "             1897: 0,\n",
       "             1898: 0,\n",
       "             1963: 1,\n",
       "             1916: 0,\n",
       "             1902: 0,\n",
       "             1924: 0,\n",
       "             1934: 0,\n",
       "             1941: 0,\n",
       "             1942: 0,\n",
       "             1900: 0,\n",
       "             1875: 0,\n",
       "             1964: 0,\n",
       "             1955: 2,\n",
       "             1899: 0,\n",
       "             1956: 2,\n",
       "             1905: 0,\n",
       "             1915: 0,\n",
       "             1873: 1,\n",
       "             1904: 0,\n",
       "             1936: 0,\n",
       "             1908: 0,\n",
       "             1877: 1,\n",
       "             1880: 0,\n",
       "             1937: 0,\n",
       "             1922: 0,\n",
       "             1949: 0,\n",
       "             1856: 0,\n",
       "             1865: 0,\n",
       "             1884: 0,\n",
       "             1855: 0,\n",
       "             1951: 0,\n",
       "             1943: 0,\n",
       "             1925: 0,\n",
       "             1960: 3,\n",
       "             1961: 7,\n",
       "             1944: 0,\n",
       "             1952: 1,\n",
       "             1920: 0,\n",
       "             1862: 0,\n",
       "             1883: 0,\n",
       "             1909: 0,\n",
       "             1913: 0,\n",
       "             1919: 0,\n",
       "             1859: 0,\n",
       "             1958: 2,\n",
       "             1962: 1,\n",
       "             1866: 0,\n",
       "             1882: 2,\n",
       "             1927: 1,\n",
       "             1945: 0,\n",
       "             1858: 0,\n",
       "             1938: 0,\n",
       "             1946: 1,\n",
       "             1864: 0})"
      ]
     },
     "execution_count": 35,
     "metadata": {},
     "output_type": "execute_result"
    }
   ],
   "source": [
    "%matplotlib inline\n",
    "import pandas as pd\n",
    "results"
   ]
  },
  {
   "cell_type": "code",
   "execution_count": 36,
   "metadata": {},
   "outputs": [
    {
     "data": {
      "text/plain": [
       "<matplotlib.axes._subplots.AxesSubplot at 0x1226bbb10>"
      ]
     },
     "execution_count": 36,
     "metadata": {},
     "output_type": "execute_result"
    },
    {
     "data": {
      "image/png": "[encoded data removed]",
      "text/plain": [
       "<Figure size 432x288 with 1 Axes>"
      ]
     },
     "metadata": {
      "needs_background": "light"
     },
     "output_type": "display_data"
    }
   ],
   "source": [
    "pd.Series(results).plot()"
   ]
  },
  {
   "cell_type": "code",
   "execution_count": 37,
   "metadata": {},
   "outputs": [
    {
     "data": {
      "text/plain": [
       "<matplotlib.axes._subplots.AxesSubplot at 0x1227e7550>"
      ]
     },
     "execution_count": 37,
     "metadata": {},
     "output_type": "execute_result"
    },
    {
     "data": {
      "image/png": "[encoded data removed]",
      "text/plain": [
       "<Figure size 432x288 with 1 Axes>"
      ]
     },
     "metadata": {
      "needs_background": "light"
     },
     "output_type": "display_data"
    }
   ],
   "source": [
    "years_sorted = sorted(results)\n",
    "pd.Series(results,index=years_sorted).plot()"
   ]
  },
  {
   "cell_type": "code",
   "execution_count": 38,
   "metadata": {},
   "outputs": [
    {
     "data": {
      "text/plain": [
       "<matplotlib.axes._subplots.AxesSubplot at 0x122eedb90>"
      ]
     },
     "execution_count": 38,
     "metadata": {},
     "output_type": "execute_result"
    },
    {
     "data": {
      "image/png": "[encoded data removed]",
      "text/plain": [
       "<Figure size 432x288 with 1 Axes>"
      ]
     },
     "metadata": {
      "needs_background": "light"
     },
     "output_type": "display_data"
    }
   ],
   "source": [
    "target_terms = ['poverty','poor']\n",
    "results = defaultdict(int)\n",
    "\n",
    "for fp in file_paths:\n",
    "    year = path2year(fp)\n",
    "    word_counts = count_words(fp)\n",
    "    for target_term in target_terms:\n",
    "        count_for_target = word_counts[target_term]\n",
    "        results[year]+= count_for_target\n",
    "\n",
    "years_sorted = sorted(results)\n",
    "pd.Series(results,index=years_sorted).plot()"
   ]
  },
  {
   "cell_type": "code",
   "execution_count": null,
   "metadata": {},
   "outputs": [],
   "source": []
  },
  {
   "cell_type": "markdown",
   "metadata": {},
   "source": [
    "## 3.3.2 Text Processing with SpaCy\n",
    "SpaCy"
   ]
  },
  {
   "cell_type": "code",
   "execution_count": null,
   "metadata": {},
   "outputs": [],
   "source": [
    "import spacy"
   ]
  },
  {
   "cell_type": "code",
   "execution_count": null,
   "metadata": {},
   "outputs": [],
   "source": [
    "# Load English model\n",
    "nlp = spacy.load(\"en_core_web_sm\")"
   ]
  },
  {
   "cell_type": "code",
   "execution_count": null,
   "metadata": {},
   "outputs": [],
   "source": [
    "paragraph = \"\"\"Alice was beginning to get very tired of sitting by her sister on the bank, and of having nothing to do: once or twice she had peeped into the book her sister was reading, but it had no pictures orconversations in it, “and what is the use of a book,” thought Alice “without pictures or conversations?”\"\"\""
   ]
  },
  {
   "cell_type": "code",
   "execution_count": null,
   "metadata": {},
   "outputs": [],
   "source": [
    "doc = nlp(paragraph)"
   ]
  },
  {
   "cell_type": "code",
   "execution_count": null,
   "metadata": {},
   "outputs": [],
   "source": [
    "for sent in doc.sents:\n",
    "    print(sent.text)\n",
    "    print()"
   ]
  },
  {
   "cell_type": "code",
   "execution_count": null,
   "metadata": {},
   "outputs": [],
   "source": [
    "for token in doc:\n",
    "    print(token.text)"
   ]
  },
  {
   "cell_type": "code",
   "execution_count": null,
   "metadata": {},
   "outputs": [],
   "source": [
    "for sent in doc.sents:\n",
    "    print(sent)\n",
    "    for token in sent:\n",
    "        print(token.text)\n",
    "        "
   ]
  },
  {
   "cell_type": "code",
   "execution_count": null,
   "metadata": {},
   "outputs": [],
   "source": [
    "for token in doc:\n",
    "    print(token.lemma_)"
   ]
  },
  {
   "cell_type": "code",
   "execution_count": null,
   "metadata": {},
   "outputs": [],
   "source": [
    "for token in doc:\n",
    "    print(token.text, token.pos_)\n",
    "  "
   ]
  },
  {
   "cell_type": "code",
   "execution_count": null,
   "metadata": {},
   "outputs": [],
   "source": [
    "for token in doc:  \n",
    "    if token.pos_ == \"NOUN\":\n",
    "        print(token.text,token.pos_)\n"
   ]
  },
  {
   "cell_type": "code",
   "execution_count": null,
   "metadata": {},
   "outputs": [],
   "source": [
    "for ent in doc.ents:\n",
    "    print(ent.text, ent.start_char, ent.end_char, ent.label_)"
   ]
  },
  {
   "cell_type": "code",
   "execution_count": null,
   "metadata": {},
   "outputs": [],
   "source": [
    "## Counting"
   ]
  },
  {
   "cell_type": "code",
   "execution_count": null,
   "metadata": {},
   "outputs": [],
   "source": [
    "## Trends over time"
   ]
  }
 ],
 "metadata": {
  "kernelspec": {
   "display_name": "Python 3",
   "language": "python",
   "name": "python3"
  },
  "language_info": {
   "codemirror_mode": {
    "name": "ipython",
    "version": 3
   },
   "file_extension": ".py",
   "mimetype": "text/x-python",
   "name": "python",
   "nbconvert_exporter": "python",
   "pygments_lexer": "ipython3",
   "version": "3.7.4"
  }
 },
 "nbformat": 4,
 "nbformat_minor": 2
}
