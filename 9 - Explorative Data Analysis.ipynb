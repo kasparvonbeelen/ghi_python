{
 "cells": [
  {
   "cell_type": "markdown",
   "metadata": {},
   "source": [
    "# Explorative Data Analysis\n"
   ]
  },
  {
   "cell_type": "code",
   "execution_count": null,
   "metadata": {},
   "outputs": [],
   "source": []
  },
  {
   "cell_type": "markdown",
   "metadata": {},
   "source": [
    "\n",
    "- Opening tabular data\n",
    "- DataFrames\n",
    "- Retrieving elements\n",
    "- Masking\n",
    "- Statistics\n",
    "\n",
    "\n",
    "- `.groupby()`\n",
    "\n"
   ]
  },
  {
   "cell_type": "markdown",
   "metadata": {},
   "source": []
  },
  {
   "cell_type": "code",
   "execution_count": 3,
   "metadata": {},
   "outputs": [],
   "source": [
    "# example with to small documents"
   ]
  },
  {
   "cell_type": "markdown",
   "metadata": {},
   "source": [
    "- structured data\n",
    "- rows - columns\n",
    "- common in statistical analysis\n",
    "- pandas the main library to works with structured data\n",
    "- opening a table\n"
   ]
  },
  {
   "cell_type": "code",
   "execution_count": 5,
   "metadata": {},
   "outputs": [],
   "source": [
    "# Import and open data"
   ]
  },
  {
   "cell_type": "code",
   "execution_count": 6,
   "metadata": {},
   "outputs": [],
   "source": [
    "%matplotlib inline\n",
    "import pandas as pd\n",
    "import seaborn as sns\n",
    "sns.set()"
   ]
  },
  {
   "cell_type": "code",
   "execution_count": 7,
   "metadata": {},
   "outputs": [],
   "source": [
    "df = pd.read_csv('data/icem/EW01_london_sample.csv',index_col=0)"
   ]
  },
  {
   "cell_type": "code",
   "execution_count": 159,
   "metadata": {},
   "outputs": [
    {
     "name": "stdout",
     "output_type": "stream",
     "text": [
      "<class 'pandas.core.frame.DataFrame'>\n",
      "Int64Index: 4420947 entries, 0 to 4532216\n",
      "Data columns (total 10 columns):\n",
      " #   Column       Dtype \n",
      "---  ------       ----- \n",
      " 0   RegDist      object\n",
      " 1   SubDist      object\n",
      " 2   Sex          object\n",
      " 3   Age          int64 \n",
      " 4   DisCode1     int64 \n",
      " 5   DisCode2     int64 \n",
      " 6   Industry     object\n",
      " 7   HISCO        object\n",
      " 8   DisCodeMain  int64 \n",
      " 9   Disability   int64 \n",
      "dtypes: int64(5), object(5)\n",
      "memory usage: 371.0+ MB\n"
     ]
    }
   ],
   "source": [
    "df.info()"
   ]
  },
  {
   "cell_type": "code",
   "execution_count": 8,
   "metadata": {},
   "outputs": [],
   "source": [
    "# inspect"
   ]
  },
  {
   "cell_type": "code",
   "execution_count": 9,
   "metadata": {},
   "outputs": [
    {
     "data": {
      "text/plain": [
       "(4420947, 8)"
      ]
     },
     "execution_count": 9,
     "metadata": {},
     "output_type": "execute_result"
    }
   ],
   "source": [
    "df.shape"
   ]
  },
  {
   "cell_type": "markdown",
   "metadata": {},
   "source": [
    "dataframe as rectangular data\n",
    "- records\n",
    "- features/variables"
   ]
  },
  {
   "cell_type": "code",
   "execution_count": 72,
   "metadata": {},
   "outputs": [
    {
     "data": {
      "text/html": [
       "<div>\n",
       "<style scoped>\n",
       "    .dataframe tbody tr th:only-of-type {\n",
       "        vertical-align: middle;\n",
       "    }\n",
       "\n",
       "    .dataframe tbody tr th {\n",
       "        vertical-align: top;\n",
       "    }\n",
       "\n",
       "    .dataframe thead th {\n",
       "        text-align: right;\n",
       "    }\n",
       "</style>\n",
       "<table border=\"1\" class=\"dataframe\">\n",
       "  <thead>\n",
       "    <tr style=\"text-align: right;\">\n",
       "      <th></th>\n",
       "      <th>RegDist</th>\n",
       "      <th>SubDist</th>\n",
       "      <th>Sex</th>\n",
       "      <th>Age</th>\n",
       "      <th>DisCode1</th>\n",
       "      <th>DisCode2</th>\n",
       "      <th>Industry</th>\n",
       "      <th>HISCO</th>\n",
       "    </tr>\n",
       "  </thead>\n",
       "  <tbody>\n",
       "    <tr>\n",
       "      <th>0</th>\n",
       "      <td>Paddington</td>\n",
       "      <td>St Mary Paddington</td>\n",
       "      <td>M</td>\n",
       "      <td>63</td>\n",
       "      <td>0</td>\n",
       "      <td>0</td>\n",
       "      <td>.</td>\n",
       "      <td>95410</td>\n",
       "    </tr>\n",
       "    <tr>\n",
       "      <th>1</th>\n",
       "      <td>Paddington</td>\n",
       "      <td>St Mary Paddington</td>\n",
       "      <td>F</td>\n",
       "      <td>54</td>\n",
       "      <td>0</td>\n",
       "      <td>0</td>\n",
       "      <td>.</td>\n",
       "      <td>.</td>\n",
       "    </tr>\n",
       "    <tr>\n",
       "      <th>2</th>\n",
       "      <td>Paddington</td>\n",
       "      <td>St Mary Paddington</td>\n",
       "      <td>M</td>\n",
       "      <td>30</td>\n",
       "      <td>0</td>\n",
       "      <td>0</td>\n",
       "      <td>.</td>\n",
       "      <td>79620</td>\n",
       "    </tr>\n",
       "    <tr>\n",
       "      <th>3</th>\n",
       "      <td>Paddington</td>\n",
       "      <td>St Mary Paddington</td>\n",
       "      <td>M</td>\n",
       "      <td>28</td>\n",
       "      <td>0</td>\n",
       "      <td>0</td>\n",
       "      <td>.</td>\n",
       "      <td>79120</td>\n",
       "    </tr>\n",
       "    <tr>\n",
       "      <th>4</th>\n",
       "      <td>Paddington</td>\n",
       "      <td>St Mary Paddington</td>\n",
       "      <td>M</td>\n",
       "      <td>26</td>\n",
       "      <td>0</td>\n",
       "      <td>0</td>\n",
       "      <td>.</td>\n",
       "      <td>96900</td>\n",
       "    </tr>\n",
       "  </tbody>\n",
       "</table>\n",
       "</div>"
      ],
      "text/plain": [
       "      RegDist             SubDist Sex  Age  DisCode1  DisCode2 Industry  HISCO\n",
       "0  Paddington  St Mary Paddington   M   63         0         0        .  95410\n",
       "1  Paddington  St Mary Paddington   F   54         0         0        .      .\n",
       "2  Paddington  St Mary Paddington   M   30         0         0        .  79620\n",
       "3  Paddington  St Mary Paddington   M   28         0         0        .  79120\n",
       "4  Paddington  St Mary Paddington   M   26         0         0        .  96900"
      ]
     },
     "execution_count": 72,
     "metadata": {},
     "output_type": "execute_result"
    }
   ],
   "source": [
    "df.head()"
   ]
  },
  {
   "cell_type": "markdown",
   "metadata": {},
   "source": [
    "# type of variables\n",
    "    - numerical\n",
    "        - continuous\n",
    "        - discrete\n",
    "    - categorical\n",
    "        - binary\n",
    "        - ordinal\n",
    "        \n",
    "inspection of by variables\n",
    "techniques related to  data type of variable\n",
    "- pandas distinguishes these types"
   ]
  },
  {
   "cell_type": "code",
   "execution_count": 10,
   "metadata": {},
   "outputs": [
    {
     "data": {
      "text/plain": [
       "0      4397451\n",
       "800       4089\n",
       "100       4082\n",
       "400       3539\n",
       "500       3478\n",
       "200       3107\n",
       "999       1933\n",
       "230       1929\n",
       "444        426\n",
       "880        347\n",
       "110        160\n",
       "300        126\n",
       "120         94\n",
       "150         33\n",
       "888         20\n",
       "180         15\n",
       "140         15\n",
       "330         13\n",
       "280         12\n",
       "580         11\n",
       "250         11\n",
       "350         10\n",
       "504          9\n",
       "123          8\n",
       "235          5\n",
       "237          5\n",
       "380          4\n",
       "804          4\n",
       "126          2\n",
       "116          2\n",
       "144          2\n",
       "704          1\n",
       "370          1\n",
       "567          1\n",
       "270          1\n",
       "780          1\n",
       "Name: DisCode2, dtype: int64"
      ]
     },
     "execution_count": 10,
     "metadata": {},
     "output_type": "execute_result"
    }
   ],
   "source": [
    "df.DisCode2.value_counts()"
   ]
  },
  {
   "cell_type": "markdown",
   "metadata": {},
   "source": [
    "# Location and Dispersion"
   ]
  },
  {
   "cell_type": "markdown",
   "metadata": {},
   "source": [
    "Understanding variables\n",
    "Just looking at them doesn't suffice\n",
    "invented statistics to better understand them\n",
    "definition of a statistic\n",
    "\"typical\" values\n",
    "\"estimate\" where most values are located"
   ]
  },
  {
   "cell_type": "markdown",
   "metadata": {},
   "source": [
    "range of values"
   ]
  },
  {
   "cell_type": "code",
   "execution_count": 13,
   "metadata": {},
   "outputs": [
    {
     "data": {
      "text/plain": [
       "106"
      ]
     },
     "execution_count": 13,
     "metadata": {},
     "output_type": "execute_result"
    }
   ],
   "source": [
    "df.Age.max()"
   ]
  },
  {
   "cell_type": "code",
   "execution_count": 14,
   "metadata": {},
   "outputs": [
    {
     "data": {
      "text/plain": [
       "0"
      ]
     },
     "execution_count": 14,
     "metadata": {},
     "output_type": "execute_result"
    }
   ],
   "source": [
    "df.Age.min()"
   ]
  },
  {
   "cell_type": "code",
   "execution_count": 15,
   "metadata": {},
   "outputs": [
    {
     "data": {
      "text/plain": [
       "27.76822341457611"
      ]
     },
     "execution_count": 15,
     "metadata": {},
     "output_type": "execute_result"
    }
   ],
   "source": [
    "df.Age.mean()"
   ]
  },
  {
   "cell_type": "code",
   "execution_count": 161,
   "metadata": {},
   "outputs": [
    {
     "data": {
      "text/plain": [
       "26.300577449580253"
      ]
     },
     "execution_count": 161,
     "metadata": {},
     "output_type": "execute_result"
    }
   ],
   "source": [
    "from scipy.stats import trim_mean\n",
    "trim_mean(df.Age,0.1)"
   ]
  },
  {
   "cell_type": "markdown",
   "metadata": {},
   "source": [
    "is the mean a meaningful valuable measure of location?\n",
    "trimmed mean a \"good compromise\""
   ]
  },
  {
   "cell_type": "markdown",
   "metadata": {},
   "source": [
    "robust measures\n",
    "median\n",
    "middle of sorted list of values\n",
    " only one value\n",
    "    vs mean which uses all values"
   ]
  },
  {
   "cell_type": "code",
   "execution_count": 16,
   "metadata": {},
   "outputs": [
    {
     "data": {
      "text/plain": [
       "25.0"
      ]
     },
     "execution_count": 16,
     "metadata": {},
     "output_type": "execute_result"
    }
   ],
   "source": [
    "df.Age.median()"
   ]
  },
  {
   "cell_type": "markdown",
   "metadata": {},
   "source": [
    "outliers?\n",
    " - distant from other values"
   ]
  },
  {
   "cell_type": "markdown",
   "metadata": {},
   "source": [
    "# Estimating spread\n",
    "\n",
    "dispersion, variability in a variable\n",
    "\n",
    "\n",
    "understanding, explaining variation crucial in statistics, to which we come back later\n"
   ]
  },
  {
   "cell_type": "markdown",
   "metadata": {},
   "source": [
    "- computing the deviation between data and estimate of location\n",
    "- differece  observed and measure of location\n",
    "- typical value for the deviations"
   ]
  },
  {
   "cell_type": "code",
   "execution_count": 17,
   "metadata": {},
   "outputs": [
    {
     "data": {
      "text/plain": [
       "18.51897494561922"
      ]
     },
     "execution_count": 17,
     "metadata": {},
     "output_type": "execute_result"
    }
   ],
   "source": [
    "df.Age.std()"
   ]
  },
  {
   "cell_type": "markdown",
   "metadata": {},
   "source": [
    "median absolute deviation from the median / MAD"
   ]
  },
  {
   "cell_type": "code",
   "execution_count": 162,
   "metadata": {},
   "outputs": [
    {
     "data": {
      "text/plain": [
       "15.1530251950899"
      ]
     },
     "execution_count": 162,
     "metadata": {},
     "output_type": "execute_result"
    }
   ],
   "source": [
    "df.Age.mad()"
   ]
  },
  {
   "cell_type": "code",
   "execution_count": 11,
   "metadata": {},
   "outputs": [
    {
     "data": {
      "text/plain": [
       "<matplotlib.axes._subplots.AxesSubplot at 0x12c6e1190>"
      ]
     },
     "execution_count": 11,
     "metadata": {},
     "output_type": "execute_result"
    },
    {
     "data": {
      "image/png": "[encoded data removed]",
      "text/plain": [
       "<Figure size 432x288 with 1 Axes>"
      ]
     },
     "metadata": {
      "needs_background": "light"
     },
     "output_type": "display_data"
    }
   ],
   "source": [
    "df.Age.plot(kind='hist',bins=100)"
   ]
  },
  {
   "cell_type": "code",
   "execution_count": 12,
   "metadata": {},
   "outputs": [
    {
     "data": {
      "text/plain": [
       "<matplotlib.axes._subplots.AxesSubplot at 0x12c8d73d0>"
      ]
     },
     "execution_count": 12,
     "metadata": {},
     "output_type": "execute_result"
    },
    {
     "data": {
      "image/png": "[encoded data removed]",
      "text/plain": [
       "<Figure size 432x288 with 1 Axes>"
      ]
     },
     "metadata": {
      "needs_background": "light"
     },
     "output_type": "display_data"
    }
   ],
   "source": [
    "df.Age.plot(kind='density')"
   ]
  },
  {
   "cell_type": "code",
   "execution_count": null,
   "metadata": {},
   "outputs": [],
   "source": [
    "# grouping data"
   ]
  },
  {
   "cell_type": "code",
   "execution_count": null,
   "metadata": {},
   "outputs": [],
   "source": [
    "# Sex and Age Differences"
   ]
  },
  {
   "cell_type": "code",
   "execution_count": 20,
   "metadata": {},
   "outputs": [
    {
     "data": {
      "text/plain": [
       "Sex\n",
       "F    28.343456\n",
       "M    27.364935\n",
       "U    24.472331\n",
       "Name: Age, dtype: float64"
      ]
     },
     "execution_count": 20,
     "metadata": {},
     "output_type": "execute_result"
    }
   ],
   "source": [
    "df.groupby('Sex')['Age'].mean()"
   ]
  },
  {
   "cell_type": "code",
   "execution_count": 21,
   "metadata": {},
   "outputs": [
    {
     "data": {
      "text/plain": [
       "Sex\n",
       "F    25.0\n",
       "M    25.0\n",
       "U    20.0\n",
       "Name: Age, dtype: float64"
      ]
     },
     "execution_count": 21,
     "metadata": {},
     "output_type": "execute_result"
    }
   ],
   "source": [
    "df.groupby('Sex')['Age'].median()"
   ]
  },
  {
   "cell_type": "code",
   "execution_count": 25,
   "metadata": {},
   "outputs": [
    {
     "data": {
      "text/plain": [
       "Sex\n",
       "F    AxesSubplot(0.125,0.125;0.775x0.755)\n",
       "M    AxesSubplot(0.125,0.125;0.775x0.755)\n",
       "Name: Age, dtype: object"
      ]
     },
     "execution_count": 25,
     "metadata": {},
     "output_type": "execute_result"
    },
    {
     "data": {
      "image/png": "[encoded data removed]",
      "text/plain": [
       "<Figure size 432x288 with 1 Axes>"
      ]
     },
     "metadata": {
      "needs_background": "light"
     },
     "output_type": "display_data"
    }
   ],
   "source": [
    "df[df.Sex.isin(['F','M'])].groupby('Sex')['Age'].plot(kind='density',legend=True)"
   ]
  },
  {
   "cell_type": "code",
   "execution_count": 35,
   "metadata": {},
   "outputs": [
    {
     "name": "stderr",
     "output_type": "stream",
     "text": [
      "/usr/local/lib/python3.7/site-packages/ipykernel_launcher.py:1: FutureWarning: Indexing with multiple keys (implicitly converted to a tuple of keys) will be deprecated, use a list instead.\n",
      "  \"\"\"Entry point for launching an IPython kernel.\n"
     ]
    },
    {
     "data": {
      "text/html": [
       "<div>\n",
       "<style scoped>\n",
       "    .dataframe tbody tr th:only-of-type {\n",
       "        vertical-align: middle;\n",
       "    }\n",
       "\n",
       "    .dataframe tbody tr th {\n",
       "        vertical-align: top;\n",
       "    }\n",
       "\n",
       "    .dataframe thead th {\n",
       "        text-align: right;\n",
       "    }\n",
       "</style>\n",
       "<table border=\"1\" class=\"dataframe\">\n",
       "  <thead>\n",
       "    <tr style=\"text-align: right;\">\n",
       "      <th></th>\n",
       "      <th>Age</th>\n",
       "      <th>Disability</th>\n",
       "    </tr>\n",
       "    <tr>\n",
       "      <th>RegDist</th>\n",
       "      <th></th>\n",
       "      <th></th>\n",
       "    </tr>\n",
       "  </thead>\n",
       "  <tbody>\n",
       "    <tr>\n",
       "      <th>Bethnal Green</th>\n",
       "      <td>25.602174</td>\n",
       "      <td>0.006591</td>\n",
       "    </tr>\n",
       "    <tr>\n",
       "      <th>Camberwell</th>\n",
       "      <td>27.306419</td>\n",
       "      <td>0.007613</td>\n",
       "    </tr>\n",
       "    <tr>\n",
       "      <th>Chelsea</th>\n",
       "      <td>30.947606</td>\n",
       "      <td>0.006549</td>\n",
       "    </tr>\n",
       "    <tr>\n",
       "      <th>Fulham</th>\n",
       "      <td>27.224348</td>\n",
       "      <td>0.004012</td>\n",
       "    </tr>\n",
       "    <tr>\n",
       "      <th>Greenwich</th>\n",
       "      <td>26.843336</td>\n",
       "      <td>0.004006</td>\n",
       "    </tr>\n",
       "    <tr>\n",
       "      <th>Hackney</th>\n",
       "      <td>27.940652</td>\n",
       "      <td>0.004912</td>\n",
       "    </tr>\n",
       "    <tr>\n",
       "      <th>Hampstead</th>\n",
       "      <td>29.311958</td>\n",
       "      <td>0.004034</td>\n",
       "    </tr>\n",
       "    <tr>\n",
       "      <th>Holborn</th>\n",
       "      <td>27.125319</td>\n",
       "      <td>0.006774</td>\n",
       "    </tr>\n",
       "    <tr>\n",
       "      <th>Islington</th>\n",
       "      <td>28.195570</td>\n",
       "      <td>0.004210</td>\n",
       "    </tr>\n",
       "    <tr>\n",
       "      <th>Kensington</th>\n",
       "      <td>30.159826</td>\n",
       "      <td>0.003754</td>\n",
       "    </tr>\n",
       "    <tr>\n",
       "      <th>Lambeth</th>\n",
       "      <td>28.227379</td>\n",
       "      <td>0.005455</td>\n",
       "    </tr>\n",
       "    <tr>\n",
       "      <th>Lewisham</th>\n",
       "      <td>28.065542</td>\n",
       "      <td>0.003566</td>\n",
       "    </tr>\n",
       "    <tr>\n",
       "      <th>London City</th>\n",
       "      <td>29.507261</td>\n",
       "      <td>0.004243</td>\n",
       "    </tr>\n",
       "    <tr>\n",
       "      <th>Marylebone</th>\n",
       "      <td>30.064641</td>\n",
       "      <td>0.004840</td>\n",
       "    </tr>\n",
       "    <tr>\n",
       "      <th>Mile End Old Town</th>\n",
       "      <td>26.065593</td>\n",
       "      <td>0.003897</td>\n",
       "    </tr>\n",
       "    <tr>\n",
       "      <th>Paddington</th>\n",
       "      <td>29.635145</td>\n",
       "      <td>0.004220</td>\n",
       "    </tr>\n",
       "    <tr>\n",
       "      <th>Pancras</th>\n",
       "      <td>28.445942</td>\n",
       "      <td>0.004745</td>\n",
       "    </tr>\n",
       "    <tr>\n",
       "      <th>Poplar</th>\n",
       "      <td>26.424664</td>\n",
       "      <td>0.005977</td>\n",
       "    </tr>\n",
       "    <tr>\n",
       "      <th>Shoreditch</th>\n",
       "      <td>26.724759</td>\n",
       "      <td>0.006023</td>\n",
       "    </tr>\n",
       "    <tr>\n",
       "      <th>Southwark</th>\n",
       "      <td>26.903755</td>\n",
       "      <td>0.006069</td>\n",
       "    </tr>\n",
       "    <tr>\n",
       "      <th>St George Hanover Square</th>\n",
       "      <td>30.259325</td>\n",
       "      <td>0.002990</td>\n",
       "    </tr>\n",
       "    <tr>\n",
       "      <th>St George In The East</th>\n",
       "      <td>24.457116</td>\n",
       "      <td>0.004024</td>\n",
       "    </tr>\n",
       "    <tr>\n",
       "      <th>St Giles</th>\n",
       "      <td>30.622503</td>\n",
       "      <td>0.003210</td>\n",
       "    </tr>\n",
       "    <tr>\n",
       "      <th>St Olave Southwark</th>\n",
       "      <td>26.233488</td>\n",
       "      <td>0.003921</td>\n",
       "    </tr>\n",
       "    <tr>\n",
       "      <th>Stepney</th>\n",
       "      <td>25.856036</td>\n",
       "      <td>0.003891</td>\n",
       "    </tr>\n",
       "    <tr>\n",
       "      <th>Strand</th>\n",
       "      <td>30.680311</td>\n",
       "      <td>0.002023</td>\n",
       "    </tr>\n",
       "    <tr>\n",
       "      <th>Wandsworth</th>\n",
       "      <td>27.455796</td>\n",
       "      <td>0.007766</td>\n",
       "    </tr>\n",
       "    <tr>\n",
       "      <th>Westminster</th>\n",
       "      <td>29.005486</td>\n",
       "      <td>0.003821</td>\n",
       "    </tr>\n",
       "    <tr>\n",
       "      <th>Whitechapel</th>\n",
       "      <td>25.338879</td>\n",
       "      <td>0.004291</td>\n",
       "    </tr>\n",
       "    <tr>\n",
       "      <th>Woolwich</th>\n",
       "      <td>26.432886</td>\n",
       "      <td>0.010552</td>\n",
       "    </tr>\n",
       "  </tbody>\n",
       "</table>\n",
       "</div>"
      ],
      "text/plain": [
       "                                Age  Disability\n",
       "RegDist                                        \n",
       "Bethnal Green             25.602174    0.006591\n",
       "Camberwell                27.306419    0.007613\n",
       "Chelsea                   30.947606    0.006549\n",
       "Fulham                    27.224348    0.004012\n",
       "Greenwich                 26.843336    0.004006\n",
       "Hackney                   27.940652    0.004912\n",
       "Hampstead                 29.311958    0.004034\n",
       "Holborn                   27.125319    0.006774\n",
       "Islington                 28.195570    0.004210\n",
       "Kensington                30.159826    0.003754\n",
       "Lambeth                   28.227379    0.005455\n",
       "Lewisham                  28.065542    0.003566\n",
       "London City               29.507261    0.004243\n",
       "Marylebone                30.064641    0.004840\n",
       "Mile End Old Town         26.065593    0.003897\n",
       "Paddington                29.635145    0.004220\n",
       "Pancras                   28.445942    0.004745\n",
       "Poplar                    26.424664    0.005977\n",
       "Shoreditch                26.724759    0.006023\n",
       "Southwark                 26.903755    0.006069\n",
       "St George Hanover Square  30.259325    0.002990\n",
       "St George In The East     24.457116    0.004024\n",
       "St Giles                  30.622503    0.003210\n",
       "St Olave Southwark        26.233488    0.003921\n",
       "Stepney                   25.856036    0.003891\n",
       "Strand                    30.680311    0.002023\n",
       "Wandsworth                27.455796    0.007766\n",
       "Westminster               29.005486    0.003821\n",
       "Whitechapel               25.338879    0.004291\n",
       "Woolwich                  26.432886    0.010552"
      ]
     },
     "execution_count": 35,
     "metadata": {},
     "output_type": "execute_result"
    }
   ],
   "source": [
    "df.groupby(['RegDist'])['Age','Disability'].mean()"
   ]
  },
  {
   "cell_type": "code",
   "execution_count": 51,
   "metadata": {},
   "outputs": [
    {
     "name": "stderr",
     "output_type": "stream",
     "text": [
      "/usr/local/lib/python3.7/site-packages/ipykernel_launcher.py:1: FutureWarning: Indexing with multiple keys (implicitly converted to a tuple of keys) will be deprecated, use a list instead.\n",
      "  \"\"\"Entry point for launching an IPython kernel.\n"
     ]
    },
    {
     "data": {
      "text/html": [
       "<div>\n",
       "<style scoped>\n",
       "    .dataframe tbody tr th:only-of-type {\n",
       "        vertical-align: middle;\n",
       "    }\n",
       "\n",
       "    .dataframe tbody tr th {\n",
       "        vertical-align: top;\n",
       "    }\n",
       "\n",
       "    .dataframe thead th {\n",
       "        text-align: right;\n",
       "    }\n",
       "</style>\n",
       "<table border=\"1\" class=\"dataframe\">\n",
       "  <thead>\n",
       "    <tr style=\"text-align: right;\">\n",
       "      <th></th>\n",
       "      <th>Age</th>\n",
       "      <th>Disability</th>\n",
       "    </tr>\n",
       "    <tr>\n",
       "      <th>RegDist</th>\n",
       "      <th></th>\n",
       "      <th></th>\n",
       "    </tr>\n",
       "  </thead>\n",
       "  <tbody>\n",
       "    <tr>\n",
       "      <th>Chelsea</th>\n",
       "      <td>30.947606</td>\n",
       "      <td>0.006549</td>\n",
       "    </tr>\n",
       "    <tr>\n",
       "      <th>Strand</th>\n",
       "      <td>30.680311</td>\n",
       "      <td>0.002023</td>\n",
       "    </tr>\n",
       "    <tr>\n",
       "      <th>St Giles</th>\n",
       "      <td>30.622503</td>\n",
       "      <td>0.003210</td>\n",
       "    </tr>\n",
       "    <tr>\n",
       "      <th>St George Hanover Square</th>\n",
       "      <td>30.259325</td>\n",
       "      <td>0.002990</td>\n",
       "    </tr>\n",
       "    <tr>\n",
       "      <th>Kensington</th>\n",
       "      <td>30.159826</td>\n",
       "      <td>0.003754</td>\n",
       "    </tr>\n",
       "    <tr>\n",
       "      <th>Marylebone</th>\n",
       "      <td>30.064641</td>\n",
       "      <td>0.004840</td>\n",
       "    </tr>\n",
       "    <tr>\n",
       "      <th>Paddington</th>\n",
       "      <td>29.635145</td>\n",
       "      <td>0.004220</td>\n",
       "    </tr>\n",
       "    <tr>\n",
       "      <th>London City</th>\n",
       "      <td>29.507261</td>\n",
       "      <td>0.004243</td>\n",
       "    </tr>\n",
       "    <tr>\n",
       "      <th>Hampstead</th>\n",
       "      <td>29.311958</td>\n",
       "      <td>0.004034</td>\n",
       "    </tr>\n",
       "    <tr>\n",
       "      <th>Westminster</th>\n",
       "      <td>29.005486</td>\n",
       "      <td>0.003821</td>\n",
       "    </tr>\n",
       "    <tr>\n",
       "      <th>Pancras</th>\n",
       "      <td>28.445942</td>\n",
       "      <td>0.004745</td>\n",
       "    </tr>\n",
       "    <tr>\n",
       "      <th>Lambeth</th>\n",
       "      <td>28.227379</td>\n",
       "      <td>0.005455</td>\n",
       "    </tr>\n",
       "    <tr>\n",
       "      <th>Islington</th>\n",
       "      <td>28.195570</td>\n",
       "      <td>0.004210</td>\n",
       "    </tr>\n",
       "    <tr>\n",
       "      <th>Lewisham</th>\n",
       "      <td>28.065542</td>\n",
       "      <td>0.003566</td>\n",
       "    </tr>\n",
       "    <tr>\n",
       "      <th>Hackney</th>\n",
       "      <td>27.940652</td>\n",
       "      <td>0.004912</td>\n",
       "    </tr>\n",
       "    <tr>\n",
       "      <th>Wandsworth</th>\n",
       "      <td>27.455796</td>\n",
       "      <td>0.007766</td>\n",
       "    </tr>\n",
       "    <tr>\n",
       "      <th>Camberwell</th>\n",
       "      <td>27.306419</td>\n",
       "      <td>0.007613</td>\n",
       "    </tr>\n",
       "    <tr>\n",
       "      <th>Fulham</th>\n",
       "      <td>27.224348</td>\n",
       "      <td>0.004012</td>\n",
       "    </tr>\n",
       "    <tr>\n",
       "      <th>Holborn</th>\n",
       "      <td>27.125319</td>\n",
       "      <td>0.006774</td>\n",
       "    </tr>\n",
       "    <tr>\n",
       "      <th>Southwark</th>\n",
       "      <td>26.903755</td>\n",
       "      <td>0.006069</td>\n",
       "    </tr>\n",
       "    <tr>\n",
       "      <th>Greenwich</th>\n",
       "      <td>26.843336</td>\n",
       "      <td>0.004006</td>\n",
       "    </tr>\n",
       "    <tr>\n",
       "      <th>Shoreditch</th>\n",
       "      <td>26.724759</td>\n",
       "      <td>0.006023</td>\n",
       "    </tr>\n",
       "    <tr>\n",
       "      <th>Woolwich</th>\n",
       "      <td>26.432886</td>\n",
       "      <td>0.010552</td>\n",
       "    </tr>\n",
       "    <tr>\n",
       "      <th>Poplar</th>\n",
       "      <td>26.424664</td>\n",
       "      <td>0.005977</td>\n",
       "    </tr>\n",
       "    <tr>\n",
       "      <th>St Olave Southwark</th>\n",
       "      <td>26.233488</td>\n",
       "      <td>0.003921</td>\n",
       "    </tr>\n",
       "    <tr>\n",
       "      <th>Mile End Old Town</th>\n",
       "      <td>26.065593</td>\n",
       "      <td>0.003897</td>\n",
       "    </tr>\n",
       "    <tr>\n",
       "      <th>Stepney</th>\n",
       "      <td>25.856036</td>\n",
       "      <td>0.003891</td>\n",
       "    </tr>\n",
       "    <tr>\n",
       "      <th>Bethnal Green</th>\n",
       "      <td>25.602174</td>\n",
       "      <td>0.006591</td>\n",
       "    </tr>\n",
       "    <tr>\n",
       "      <th>Whitechapel</th>\n",
       "      <td>25.338879</td>\n",
       "      <td>0.004291</td>\n",
       "    </tr>\n",
       "    <tr>\n",
       "      <th>St George In The East</th>\n",
       "      <td>24.457116</td>\n",
       "      <td>0.004024</td>\n",
       "    </tr>\n",
       "  </tbody>\n",
       "</table>\n",
       "</div>"
      ],
      "text/plain": [
       "                                Age  Disability\n",
       "RegDist                                        \n",
       "Chelsea                   30.947606    0.006549\n",
       "Strand                    30.680311    0.002023\n",
       "St Giles                  30.622503    0.003210\n",
       "St George Hanover Square  30.259325    0.002990\n",
       "Kensington                30.159826    0.003754\n",
       "Marylebone                30.064641    0.004840\n",
       "Paddington                29.635145    0.004220\n",
       "London City               29.507261    0.004243\n",
       "Hampstead                 29.311958    0.004034\n",
       "Westminster               29.005486    0.003821\n",
       "Pancras                   28.445942    0.004745\n",
       "Lambeth                   28.227379    0.005455\n",
       "Islington                 28.195570    0.004210\n",
       "Lewisham                  28.065542    0.003566\n",
       "Hackney                   27.940652    0.004912\n",
       "Wandsworth                27.455796    0.007766\n",
       "Camberwell                27.306419    0.007613\n",
       "Fulham                    27.224348    0.004012\n",
       "Holborn                   27.125319    0.006774\n",
       "Southwark                 26.903755    0.006069\n",
       "Greenwich                 26.843336    0.004006\n",
       "Shoreditch                26.724759    0.006023\n",
       "Woolwich                  26.432886    0.010552\n",
       "Poplar                    26.424664    0.005977\n",
       "St Olave Southwark        26.233488    0.003921\n",
       "Mile End Old Town         26.065593    0.003897\n",
       "Stepney                   25.856036    0.003891\n",
       "Bethnal Green             25.602174    0.006591\n",
       "Whitechapel               25.338879    0.004291\n",
       "St George In The East     24.457116    0.004024"
      ]
     },
     "execution_count": 51,
     "metadata": {},
     "output_type": "execute_result"
    }
   ],
   "source": [
    "df.groupby(['RegDist'])['Age','Disability'].mean().sort_values('Age',ascending=False)"
   ]
  },
  {
   "cell_type": "code",
   "execution_count": 94,
   "metadata": {},
   "outputs": [
    {
     "data": {
      "text/html": [
       "<div>\n",
       "<style scoped>\n",
       "    .dataframe tbody tr th:only-of-type {\n",
       "        vertical-align: middle;\n",
       "    }\n",
       "\n",
       "    .dataframe tbody tr th {\n",
       "        vertical-align: top;\n",
       "    }\n",
       "\n",
       "    .dataframe thead th {\n",
       "        text-align: right;\n",
       "    }\n",
       "</style>\n",
       "<table border=\"1\" class=\"dataframe\">\n",
       "  <thead>\n",
       "    <tr style=\"text-align: right;\">\n",
       "      <th></th>\n",
       "      <th>borough</th>\n",
       "      <th>rateable.value.percapita</th>\n",
       "    </tr>\n",
       "  </thead>\n",
       "  <tbody>\n",
       "    <tr>\n",
       "      <th>0</th>\n",
       "      <td>Battersea</td>\n",
       "      <td>6.1</td>\n",
       "    </tr>\n",
       "    <tr>\n",
       "      <th>1</th>\n",
       "      <td>Bermondsey</td>\n",
       "      <td>8.5</td>\n",
       "    </tr>\n",
       "    <tr>\n",
       "      <th>2</th>\n",
       "      <td>Bethnal Green</td>\n",
       "      <td>4.9</td>\n",
       "    </tr>\n",
       "    <tr>\n",
       "      <th>3</th>\n",
       "      <td>Camberwell</td>\n",
       "      <td>5.2</td>\n",
       "    </tr>\n",
       "    <tr>\n",
       "      <th>4</th>\n",
       "      <td>Chelsea</td>\n",
       "      <td>14.7</td>\n",
       "    </tr>\n",
       "  </tbody>\n",
       "</table>\n",
       "</div>"
      ],
      "text/plain": [
       "         borough  rateable.value.percapita\n",
       "0      Battersea                       6.1\n",
       "1     Bermondsey                       8.5\n",
       "2  Bethnal Green                       4.9\n",
       "3     Camberwell                       5.2\n",
       "4        Chelsea                      14.7"
      ]
     },
     "execution_count": 94,
     "metadata": {},
     "output_type": "execute_result"
    }
   ],
   "source": [
    "rv = pd.read_csv('./data/icem/rateable_value_1922.csv',index_col=0)\n",
    "rv.head()"
   ]
  },
  {
   "cell_type": "code",
   "execution_count": 95,
   "metadata": {},
   "outputs": [
    {
     "data": {
      "text/plain": [
       "0      6.1\n",
       "1      8.5\n",
       "2      4.9\n",
       "3      5.2\n",
       "4     14.7\n",
       "5      5.8\n",
       "6     14.2\n",
       "7      6.1\n",
       "8      7.6\n",
       "9      5.7\n",
       "10     7.0\n",
       "11    13.3\n",
       "12    32.0\n",
       "13     5.7\n",
       "14    14.4\n",
       "15     6.3\n",
       "16     6.4\n",
       "17    10.7\n",
       "18     5.7\n",
       "19    23.2\n",
       "20     8.7\n",
       "21     8.2\n",
       "22     6.7\n",
       "23     6.5\n",
       "24     6.5\n",
       "25     6.9\n",
       "26    57.2\n",
       "27     6.6\n",
       "Name: rateable.value.percapita, dtype: float64"
      ]
     },
     "execution_count": 95,
     "metadata": {},
     "output_type": "execute_result"
    }
   ],
   "source": [
    "rv['rateable.value.percapita']"
   ]
  },
  {
   "cell_type": "code",
   "execution_count": 96,
   "metadata": {},
   "outputs": [],
   "source": [
    "#!open ./data/rateable_value_1922.csv"
   ]
  },
  {
   "cell_type": "code",
   "execution_count": 97,
   "metadata": {},
   "outputs": [
    {
     "data": {
      "text/plain": [
       "{'Bethnal Green',\n",
       " 'Camberwell',\n",
       " 'Chelsea',\n",
       " 'Fulham',\n",
       " 'Greenwich',\n",
       " 'Hackney',\n",
       " 'Hampstead',\n",
       " 'Holborn',\n",
       " 'Islington',\n",
       " 'Kensington',\n",
       " 'Lambeth',\n",
       " 'Lewisham',\n",
       " 'Marylebone',\n",
       " 'Paddington',\n",
       " 'Pancras',\n",
       " 'Poplar',\n",
       " 'Shoreditch',\n",
       " 'Southwark',\n",
       " 'Stepney',\n",
       " 'Wandsworth',\n",
       " 'Westminster',\n",
       " 'Woolwich'}"
      ]
     },
     "execution_count": 97,
     "metadata": {},
     "output_type": "execute_result"
    }
   ],
   "source": [
    "set(df['RegDist'].unique()).intersection(set(rv.borough.unique()))"
   ]
  },
  {
   "cell_type": "code",
   "execution_count": 98,
   "metadata": {},
   "outputs": [
    {
     "data": {
      "text/plain": [
       "{'London City',\n",
       " 'Mile End Old Town',\n",
       " 'St George Hanover Square',\n",
       " 'St George In The East',\n",
       " 'St Giles',\n",
       " 'St Olave Southwark',\n",
       " 'Strand',\n",
       " 'Whitechapel'}"
      ]
     },
     "execution_count": 98,
     "metadata": {},
     "output_type": "execute_result"
    }
   ],
   "source": [
    "set(df['RegDist'].unique()) - (set(rv.borough.unique()))"
   ]
  },
  {
   "cell_type": "code",
   "execution_count": 99,
   "metadata": {},
   "outputs": [
    {
     "data": {
      "text/plain": [
       "RegDist\n",
       "Bethnal Green               25.602174\n",
       "Camberwell                  27.306419\n",
       "Chelsea                     30.947606\n",
       "Fulham                      27.224348\n",
       "Greenwich                   26.843336\n",
       "Hackney                     27.940652\n",
       "Hampstead                   29.311958\n",
       "Holborn                     27.125319\n",
       "Islington                   28.195570\n",
       "Kensington                  30.159826\n",
       "Lambeth                     28.227379\n",
       "Lewisham                    28.065542\n",
       "London City                 29.507261\n",
       "Marylebone                  30.064641\n",
       "Mile End Old Town           26.065593\n",
       "Paddington                  29.635145\n",
       "Pancras                     28.445942\n",
       "Poplar                      26.424664\n",
       "Shoreditch                  26.724759\n",
       "Southwark                   26.903755\n",
       "St George Hanover Square    30.259325\n",
       "St George In The East       24.457116\n",
       "St Giles                    30.622503\n",
       "St Olave Southwark          26.233488\n",
       "Stepney                     25.856036\n",
       "Strand                      30.680311\n",
       "Wandsworth                  27.455796\n",
       "Westminster                 29.005486\n",
       "Whitechapel                 25.338879\n",
       "Woolwich                    26.432886\n",
       "Name: Age, dtype: float64"
      ]
     },
     "execution_count": 99,
     "metadata": {},
     "output_type": "execute_result"
    }
   ],
   "source": [
    "age_by_dist = df.groupby(['RegDist'])['Age'].mean()\n",
    "age_by_dist"
   ]
  },
  {
   "cell_type": "code",
   "execution_count": 100,
   "metadata": {},
   "outputs": [
    {
     "data": {
      "text/html": [
       "<div>\n",
       "<style scoped>\n",
       "    .dataframe tbody tr th:only-of-type {\n",
       "        vertical-align: middle;\n",
       "    }\n",
       "\n",
       "    .dataframe tbody tr th {\n",
       "        vertical-align: top;\n",
       "    }\n",
       "\n",
       "    .dataframe thead th {\n",
       "        text-align: right;\n",
       "    }\n",
       "</style>\n",
       "<table border=\"1\" class=\"dataframe\">\n",
       "  <thead>\n",
       "    <tr style=\"text-align: right;\">\n",
       "      <th></th>\n",
       "      <th>borough</th>\n",
       "      <th>rateable.value.percapita</th>\n",
       "      <th>Age</th>\n",
       "    </tr>\n",
       "  </thead>\n",
       "  <tbody>\n",
       "    <tr>\n",
       "      <th>2</th>\n",
       "      <td>Bethnal Green</td>\n",
       "      <td>4.9</td>\n",
       "      <td>25.602174</td>\n",
       "    </tr>\n",
       "    <tr>\n",
       "      <th>3</th>\n",
       "      <td>Camberwell</td>\n",
       "      <td>5.2</td>\n",
       "      <td>27.306419</td>\n",
       "    </tr>\n",
       "    <tr>\n",
       "      <th>4</th>\n",
       "      <td>Chelsea</td>\n",
       "      <td>14.7</td>\n",
       "      <td>30.947606</td>\n",
       "    </tr>\n",
       "    <tr>\n",
       "      <th>7</th>\n",
       "      <td>Fulham</td>\n",
       "      <td>6.1</td>\n",
       "      <td>27.224348</td>\n",
       "    </tr>\n",
       "    <tr>\n",
       "      <th>8</th>\n",
       "      <td>Greenwich</td>\n",
       "      <td>7.6</td>\n",
       "      <td>26.843336</td>\n",
       "    </tr>\n",
       "    <tr>\n",
       "      <th>9</th>\n",
       "      <td>Hackney</td>\n",
       "      <td>5.7</td>\n",
       "      <td>27.940652</td>\n",
       "    </tr>\n",
       "    <tr>\n",
       "      <th>11</th>\n",
       "      <td>Hampstead</td>\n",
       "      <td>13.3</td>\n",
       "      <td>29.311958</td>\n",
       "    </tr>\n",
       "    <tr>\n",
       "      <th>12</th>\n",
       "      <td>Holborn</td>\n",
       "      <td>32.0</td>\n",
       "      <td>27.125319</td>\n",
       "    </tr>\n",
       "    <tr>\n",
       "      <th>13</th>\n",
       "      <td>Islington</td>\n",
       "      <td>5.7</td>\n",
       "      <td>28.195570</td>\n",
       "    </tr>\n",
       "    <tr>\n",
       "      <th>14</th>\n",
       "      <td>Kensington</td>\n",
       "      <td>14.4</td>\n",
       "      <td>30.159826</td>\n",
       "    </tr>\n",
       "    <tr>\n",
       "      <th>15</th>\n",
       "      <td>Lambeth</td>\n",
       "      <td>6.3</td>\n",
       "      <td>28.227379</td>\n",
       "    </tr>\n",
       "    <tr>\n",
       "      <th>16</th>\n",
       "      <td>Lewisham</td>\n",
       "      <td>6.4</td>\n",
       "      <td>28.065542</td>\n",
       "    </tr>\n",
       "    <tr>\n",
       "      <th>17</th>\n",
       "      <td>Paddington</td>\n",
       "      <td>10.7</td>\n",
       "      <td>29.635145</td>\n",
       "    </tr>\n",
       "    <tr>\n",
       "      <th>18</th>\n",
       "      <td>Poplar</td>\n",
       "      <td>5.7</td>\n",
       "      <td>26.424664</td>\n",
       "    </tr>\n",
       "    <tr>\n",
       "      <th>19</th>\n",
       "      <td>Marylebone</td>\n",
       "      <td>23.2</td>\n",
       "      <td>30.064641</td>\n",
       "    </tr>\n",
       "    <tr>\n",
       "      <th>20</th>\n",
       "      <td>Pancras</td>\n",
       "      <td>8.7</td>\n",
       "      <td>28.445942</td>\n",
       "    </tr>\n",
       "    <tr>\n",
       "      <th>21</th>\n",
       "      <td>Shoreditch</td>\n",
       "      <td>8.2</td>\n",
       "      <td>26.724759</td>\n",
       "    </tr>\n",
       "    <tr>\n",
       "      <th>22</th>\n",
       "      <td>Southwark</td>\n",
       "      <td>6.7</td>\n",
       "      <td>26.903755</td>\n",
       "    </tr>\n",
       "    <tr>\n",
       "      <th>23</th>\n",
       "      <td>Stepney</td>\n",
       "      <td>6.5</td>\n",
       "      <td>25.856036</td>\n",
       "    </tr>\n",
       "    <tr>\n",
       "      <th>25</th>\n",
       "      <td>Wandsworth</td>\n",
       "      <td>6.9</td>\n",
       "      <td>27.455796</td>\n",
       "    </tr>\n",
       "    <tr>\n",
       "      <th>26</th>\n",
       "      <td>Westminster</td>\n",
       "      <td>57.2</td>\n",
       "      <td>29.005486</td>\n",
       "    </tr>\n",
       "    <tr>\n",
       "      <th>27</th>\n",
       "      <td>Woolwich</td>\n",
       "      <td>6.6</td>\n",
       "      <td>26.432886</td>\n",
       "    </tr>\n",
       "  </tbody>\n",
       "</table>\n",
       "</div>"
      ],
      "text/plain": [
       "          borough  rateable.value.percapita        Age\n",
       "2   Bethnal Green                       4.9  25.602174\n",
       "3      Camberwell                       5.2  27.306419\n",
       "4         Chelsea                      14.7  30.947606\n",
       "7          Fulham                       6.1  27.224348\n",
       "8       Greenwich                       7.6  26.843336\n",
       "9         Hackney                       5.7  27.940652\n",
       "11      Hampstead                      13.3  29.311958\n",
       "12        Holborn                      32.0  27.125319\n",
       "13      Islington                       5.7  28.195570\n",
       "14     Kensington                      14.4  30.159826\n",
       "15        Lambeth                       6.3  28.227379\n",
       "16       Lewisham                       6.4  28.065542\n",
       "17     Paddington                      10.7  29.635145\n",
       "18         Poplar                       5.7  26.424664\n",
       "19     Marylebone                      23.2  30.064641\n",
       "20        Pancras                       8.7  28.445942\n",
       "21     Shoreditch                       8.2  26.724759\n",
       "22      Southwark                       6.7  26.903755\n",
       "23        Stepney                       6.5  25.856036\n",
       "25     Wandsworth                       6.9  27.455796\n",
       "26    Westminster                      57.2  29.005486\n",
       "27       Woolwich                       6.6  26.432886"
      ]
     },
     "execution_count": 100,
     "metadata": {},
     "output_type": "execute_result"
    }
   ],
   "source": [
    "merged = rv.merge(age_by_dist,left_on='borough',right_index=True)\n",
    "merged"
   ]
  },
  {
   "cell_type": "code",
   "execution_count": 124,
   "metadata": {},
   "outputs": [],
   "source": [
    "# Correlation and Regression"
   ]
  },
  {
   "cell_type": "code",
   "execution_count": 102,
   "metadata": {},
   "outputs": [
    {
     "data": {
      "text/plain": [
       "0.3643189447496354"
      ]
     },
     "execution_count": 102,
     "metadata": {},
     "output_type": "execute_result"
    }
   ],
   "source": [
    "merged['rateable.value.percapita'].corr(merged['Age'])"
   ]
  },
  {
   "cell_type": "code",
   "execution_count": 103,
   "metadata": {},
   "outputs": [
    {
     "data": {
      "text/plain": [
       "<matplotlib.axes._subplots.AxesSubplot at 0x130798f50>"
      ]
     },
     "execution_count": 103,
     "metadata": {},
     "output_type": "execute_result"
    },
    {
     "data": {
      "image/png": "[encoded data removed]",
      "text/plain": [
       "<Figure size 432x288 with 1 Axes>"
      ]
     },
     "metadata": {
      "needs_background": "light"
     },
     "output_type": "display_data"
    }
   ],
   "source": [
    "sns.scatterplot(x='rateable.value.percapita',y='Age',data=merged)"
   ]
  },
  {
   "cell_type": "code",
   "execution_count": 148,
   "metadata": {},
   "outputs": [],
   "source": [
    "merged['rvc_log'] = np.log(merged['rateable.value.percapita'])"
   ]
  },
  {
   "cell_type": "code",
   "execution_count": 158,
   "metadata": {},
   "outputs": [
    {
     "data": {
      "text/plain": [
       "0.8058884133839759"
      ]
     },
     "execution_count": 158,
     "metadata": {},
     "output_type": "execute_result"
    }
   ],
   "source": [
    "wo_outliers = merged[~merged.borough.isin(['Westminster',\"Holborn\"])]\n",
    "wo_outliers['rvc_log'].corr(wo_outliers['Age'])"
   ]
  },
  {
   "cell_type": "code",
   "execution_count": 150,
   "metadata": {},
   "outputs": [
    {
     "data": {
      "text/plain": [
       "<matplotlib.axes._subplots.AxesSubplot at 0x132c26250>"
      ]
     },
     "execution_count": 150,
     "metadata": {},
     "output_type": "execute_result"
    },
    {
     "data": {
      "image/png": "[encoded data removed]",
      "text/plain": [
       "<Figure size 432x288 with 1 Axes>"
      ]
     },
     "metadata": {
      "needs_background": "light"
     },
     "output_type": "display_data"
    }
   ],
   "source": [
    "sns.scatterplot(x='rateable.value.percapita',y='Age',data=wo_outliers)"
   ]
  },
  {
   "cell_type": "code",
   "execution_count": null,
   "metadata": {},
   "outputs": [],
   "source": []
  },
  {
   "cell_type": "code",
   "execution_count": 151,
   "metadata": {},
   "outputs": [
    {
     "data": {
      "text/plain": [
       "<matplotlib.axes._subplots.AxesSubplot at 0x132c42a50>"
      ]
     },
     "execution_count": 151,
     "metadata": {},
     "output_type": "execute_result"
    },
    {
     "data": {
      "image/png": "[encoded data removed]",
      "text/plain": [
       "<Figure size 432x288 with 1 Axes>"
      ]
     },
     "metadata": {
      "needs_background": "light"
     },
     "output_type": "display_data"
    }
   ],
   "source": [
    "sns.regplot(x=\"rateable.value.percapita\", y=\"Age\", data=merged,\n",
    "                 scatter_kws={\"s\": 80},\n",
    "                 order=1,ci=False)"
   ]
  },
  {
   "cell_type": "code",
   "execution_count": 152,
   "metadata": {},
   "outputs": [
    {
     "data": {
      "text/plain": [
       "<matplotlib.axes._subplots.AxesSubplot at 0x132cb1290>"
      ]
     },
     "execution_count": 152,
     "metadata": {},
     "output_type": "execute_result"
    },
    {
     "data": {
      "image/png": "[encoded data removed]",
      "text/plain": [
       "<Figure size 432x288 with 1 Axes>"
      ]
     },
     "metadata": {
      "needs_background": "light"
     },
     "output_type": "display_data"
    }
   ],
   "source": [
    "sns.regplot(x=\"rvc_log\", y=\"Age\", data=merged,\n",
    "                 scatter_kws={\"s\": 80},\n",
    "                 order=1,ci=False)"
   ]
  },
  {
   "cell_type": "code",
   "execution_count": 153,
   "metadata": {},
   "outputs": [
    {
     "data": {
      "text/plain": [
       "<matplotlib.axes._subplots.AxesSubplot at 0x132ce8c50>"
      ]
     },
     "execution_count": 153,
     "metadata": {},
     "output_type": "execute_result"
    },
    {
     "data": {
      "image/png": "[encoded data removed]",
      "text/plain": [
       "<Figure size 432x288 with 1 Axes>"
      ]
     },
     "metadata": {
      "needs_background": "light"
     },
     "output_type": "display_data"
    }
   ],
   "source": [
    "sns.regplot(x=\"rvc_log\", y=\"Age\", data=wo_outliers,\n",
    "                 scatter_kws={\"s\": 80},\n",
    "                 order=1,ci=False)"
   ]
  },
  {
   "cell_type": "code",
   "execution_count": 154,
   "metadata": {},
   "outputs": [
    {
     "data": {
      "text/plain": [
       "<matplotlib.axes._subplots.AxesSubplot at 0x132d30310>"
      ]
     },
     "execution_count": 154,
     "metadata": {},
     "output_type": "execute_result"
    },
    {
     "data": {
      "image/png": "[encoded data removed]",
      "text/plain": [
       "<Figure size 432x288 with 1 Axes>"
      ]
     },
     "metadata": {
      "needs_background": "light"
     },
     "output_type": "display_data"
    }
   ],
   "source": [
    "sns.regplot(x=\"rvc_log\", y=\"Age\", data=merged,\n",
    "                 scatter_kws={\"s\": 80},\n",
    "                 order=2, ci=False)"
   ]
  },
  {
   "cell_type": "code",
   "execution_count": 126,
   "metadata": {},
   "outputs": [
    {
     "data": {
      "text/plain": [
       "array([-1.89764975e-02,  7.42595924e-01,  2.32476986e+01])"
      ]
     },
     "execution_count": 126,
     "metadata": {},
     "output_type": "execute_result"
    }
   ],
   "source": [
    "import numpy as np\n",
    "np.polyfit(x=wo_outliers['rateable.value.percapita'], y=wo_outliers['Age'], deg=2)"
   ]
  },
  {
   "cell_type": "code",
   "execution_count": 157,
   "metadata": {},
   "outputs": [
    {
     "data": {
      "text/plain": [
       "<matplotlib.axes._subplots.AxesSubplot at 0x132e13790>"
      ]
     },
     "execution_count": 157,
     "metadata": {},
     "output_type": "execute_result"
    },
    {
     "data": {
      "image/png": "[encoded data removed]",
      "text/plain": [
       "<Figure size 432x288 with 1 Axes>"
      ]
     },
     "metadata": {
      "needs_background": "light"
     },
     "output_type": "display_data"
    }
   ],
   "source": [
    "sns.regplot(x=\"rvc_log\", y=\"Age\", data=merged,\n",
    "                 scatter_kws={\"s\": 80},\n",
    "                 order=8, ci=False)"
   ]
  },
  {
   "cell_type": "code",
   "execution_count": 110,
   "metadata": {},
   "outputs": [
    {
     "data": {
      "text/plain": [
       "array([-1.89764975e-02,  7.42595924e-01,  2.32476986e+01])"
      ]
     },
     "execution_count": 110,
     "metadata": {},
     "output_type": "execute_result"
    }
   ],
   "source": [
    "# "
   ]
  },
  {
   "cell_type": "code",
   "execution_count": 163,
   "metadata": {},
   "outputs": [],
   "source": [
    "import os\n",
    "import warnings\n",
    "\n",
    "import arviz as az\n",
    "import daft\n",
    "import matplotlib.pyplot as plt\n",
    "import numpy as np\n",
    "import pandas as pd\n",
    "import pymc3 as pm\n",
    "\n",
    "from causalgraphicalmodels import CausalGraphicalModel\n",
    "from scipy import stats\n",
    "from scipy.interpolate import griddata\n",
    "from theano import shared\n",
    "\n",
    "warnings.simplefilter(action=\"ignore\", category=FutureWarning)"
   ]
  },
  {
   "cell_type": "code",
   "execution_count": 165,
   "metadata": {},
   "outputs": [],
   "source": [
    "def standardize(series):\n",
    "    \"\"\"Standardize a pandas series\"\"\"\n",
    "    std_series = (series - series.mean()) / series.std()\n",
    "    return std_series"
   ]
  },
  {
   "cell_type": "code",
   "execution_count": 265,
   "metadata": {},
   "outputs": [],
   "source": [
    "merged[\"Age_std\"] = standardize(merged[\"Age\"])\n",
    "merged[\"rvc_log_std\"] = standardize(merged[\"rvc_log\"])\n",
    "wo_outliers = merged[~merged.borough.isin(['Westminster',\"Holborn\"])]"
   ]
  },
  {
   "cell_type": "code",
   "execution_count": 267,
   "metadata": {},
   "outputs": [
    {
     "data": {
      "text/plain": [
       "(20, 6)"
      ]
     },
     "execution_count": 267,
     "metadata": {},
     "output_type": "execute_result"
    }
   ],
   "source": [
    "wo_outliers['rvc_log_std']\n",
    "wo_outliers.shape"
   ]
  },
  {
   "cell_type": "code",
   "execution_count": 268,
   "metadata": {},
   "outputs": [
    {
     "name": "stderr",
     "output_type": "stream",
     "text": [
      "Auto-assigning NUTS sampler...\n",
      "Initializing NUTS using jitter+adapt_diag...\n",
      "Multiprocess sampling (4 chains in 4 jobs)\n",
      "NUTS: [a, bR, sigma]\n"
     ]
    },
    {
     "data": {
      "text/html": [
       "\n",
       "    <div>\n",
       "        <style>\n",
       "            /* Turns off some styling */\n",
       "            progress {\n",
       "                /* gets rid of default border in Firefox and Opera. */\n",
       "                border: none;\n",
       "                /* Needs to be in here for Safari polyfill so background images work as expected. */\n",
       "                background-size: auto;\n",
       "            }\n",
       "            .progress-bar-interrupted, .progress-bar-interrupted::-webkit-progress-bar {\n",
       "                background: #F44336;\n",
       "            }\n",
       "        </style>\n",
       "      <progress value='8000' class='' max='8000' style='width:300px; height:20px; vertical-align: middle;'></progress>\n",
       "      100.00% [8000/8000 00:02<00:00 Sampling 4 chains, 0 divergences]\n",
       "    </div>\n",
       "    "
      ],
      "text/plain": [
       "<IPython.core.display.HTML object>"
      ]
     },
     "metadata": {},
     "output_type": "display_data"
    },
    {
     "name": "stderr",
     "output_type": "stream",
     "text": [
      "Sampling 4 chains for 1_000 tune and 1_000 draw iterations (4_000 + 4_000 draws total) took 15 seconds.\n",
      "Got error No model on context stack. trying to find log_likelihood in translation.\n"
     ]
    }
   ],
   "source": [
    "#shared_N = shared(dcc[\"N\"].values)\n",
    "\n",
    "with pm.Model() as m1:\n",
    "    sigma = pm.Exponential(\"sigma\", 1)\n",
    "    bR = pm.Normal(\"bR\", 0, .5)\n",
    "    a = pm.Normal(\"a\", 0, .5)\n",
    "    mu = pm.Deterministic(\"mu\", a + bR * wo_outliers['rvc_log_std'].values)\n",
    "\n",
    "    A = pm.Normal(\"A\", mu, sigma, observed=wo_outliers['Age_std'])\n",
    "\n",
    "    m1_trace = pm.sample()\n",
    "\n",
    "m1_data = az.from_pymc3(m1_trace)\n"
   ]
  },
  {
   "cell_type": "code",
   "execution_count": 269,
   "metadata": {},
   "outputs": [
    {
     "name": "stderr",
     "output_type": "stream",
     "text": [
      "Got error No model on context stack. trying to find log_likelihood in translation.\n",
      "Got error No model on context stack. trying to find log_likelihood in translation.\n"
     ]
    },
    {
     "data": {
      "text/plain": [
       "array([[<matplotlib.axes._subplots.AxesSubplot object at 0x13ab8c490>,\n",
       "        <matplotlib.axes._subplots.AxesSubplot object at 0x13bd47050>],\n",
       "       [<matplotlib.axes._subplots.AxesSubplot object at 0x1393c9590>,\n",
       "        <matplotlib.axes._subplots.AxesSubplot object at 0x13ad48dd0>]],\n",
       "      dtype=object)"
      ]
     },
     "execution_count": 269,
     "metadata": {},
     "output_type": "execute_result"
    },
    {
     "data": {
      "image/png": "[encoded data removed]",
      "text/plain": [
       "<Figure size 864x288 with 4 Axes>"
      ]
     },
     "metadata": {
      "needs_background": "light"
     },
     "output_type": "display_data"
    }
   ],
   "source": [
    "az.plot_trace(m1_trace, var_names=['a','bR'])"
   ]
  },
  {
   "cell_type": "code",
   "execution_count": 270,
   "metadata": {},
   "outputs": [
    {
     "data": {
      "text/plain": [
       "20"
      ]
     },
     "execution_count": 270,
     "metadata": {},
     "output_type": "execute_result"
    }
   ],
   "source": [
    "xseq = np.linspace(wo_outliers['rvc_log_std'].min()-0.15,wo_outliers['rvc_log_std'].max()+0.15,20)\n",
    "len(xseq)"
   ]
  },
  {
   "cell_type": "code",
   "execution_count": 271,
   "metadata": {},
   "outputs": [],
   "source": [
    "#shared_r = shared(merged[\"rvc_log_std\"].values)\n",
    "#shared_r.set_value(xseq)"
   ]
  },
  {
   "cell_type": "code",
   "execution_count": 272,
   "metadata": {},
   "outputs": [],
   "source": [
    "#shared_r"
   ]
  },
  {
   "cell_type": "code",
   "execution_count": 273,
   "metadata": {},
   "outputs": [
    {
     "data": {
      "text/html": [
       "\n",
       "    <div>\n",
       "        <style>\n",
       "            /* Turns off some styling */\n",
       "            progress {\n",
       "                /* gets rid of default border in Firefox and Opera. */\n",
       "                border: none;\n",
       "                /* Needs to be in here for Safari polyfill so background images work as expected. */\n",
       "                background-size: auto;\n",
       "            }\n",
       "            .progress-bar-interrupted, .progress-bar-interrupted::-webkit-progress-bar {\n",
       "                background: #F44336;\n",
       "            }\n",
       "        </style>\n",
       "      <progress value='4000' class='' max='4000' style='width:300px; height:20px; vertical-align: middle;'></progress>\n",
       "      100.00% [4000/4000 00:01<00:00]\n",
       "    </div>\n",
       "    "
      ],
      "text/plain": [
       "<IPython.core.display.HTML object>"
      ]
     },
     "metadata": {},
     "output_type": "display_data"
    }
   ],
   "source": [
    "with m1:\n",
    "    m1_posterior_predictive = pm.sample_posterior_predictive(m1_trace,var_names=['mu'], samples=4000)"
   ]
  },
  {
   "cell_type": "code",
   "execution_count": 274,
   "metadata": {},
   "outputs": [],
   "source": [
    "mu_pred = np.zeros((len(xseq),len(m1_trace)*m1_trace.nchains))"
   ]
  },
  {
   "cell_type": "code",
   "execution_count": 275,
   "metadata": {},
   "outputs": [],
   "source": [
    "for i, age_std in enumerate(xseq):\n",
    "    mu_pred[i] = m1_trace['a'] + age_std*m1_trace['bR'] "
   ]
  },
  {
   "cell_type": "code",
   "execution_count": 276,
   "metadata": {},
   "outputs": [
    {
     "data": {
      "image/png": "[encoded data removed]",
      "text/plain": [
       "<Figure size 432x288 with 1 Axes>"
      ]
     },
     "metadata": {
      "needs_background": "light"
     },
     "output_type": "display_data"
    }
   ],
   "source": [
    "mu_mean = mu_pred.mean(axis=1)\n",
    "\n",
    "# This is equivalent of Percent Interval\n",
    "ax = az.plot_hdi(xseq, mu_pred.T)\n",
    "ax.plot(xseq, mu_mean, c=\"black\")\n",
    "ax.scatter(wo_outliers[\"rvc_log_std\"], wo_outliers[\"Age_std\"], facecolors=\"none\", edgecolors=\"b\")\n",
    "#ax.set_ylim(-1.5, 2.2)\n",
    "ax.set_xlabel(\"Log of Rateable value per capita\")\n",
    "ax.set_ylabel(\"Age\");"
   ]
  },
  {
   "cell_type": "code",
   "execution_count": 44,
   "metadata": {},
   "outputs": [
    {
     "data": {
      "text/plain": [
       "RegDist                   Sex\n",
       "Bethnal Green             F      25.986728\n",
       "                          M      25.584048\n",
       "Camberwell                F      28.020752\n",
       "                          M      26.772290\n",
       "Chelsea                   F      31.333669\n",
       "                          M      30.630576\n",
       "Fulham                    F      27.965891\n",
       "                          M      26.673206\n",
       "Greenwich                 F      27.444230\n",
       "                          M      26.543862\n",
       "Hackney                   F      28.657843\n",
       "                          M      27.401707\n",
       "Hampstead                 F      29.715547\n",
       "                          M      28.972054\n",
       "Holborn                   F      27.436540\n",
       "                          M      27.039121\n",
       "Islington                 F      28.981639\n",
       "                          M      27.609265\n",
       "Kensington                F      30.882661\n",
       "                          M      29.338848\n",
       "Lambeth                   F      28.962971\n",
       "                          M      27.665589\n",
       "Lewisham                  F      28.905182\n",
       "                          M      27.327368\n",
       "London City               F      31.009149\n",
       "                          M      28.228294\n",
       "Marylebone                F      30.537966\n",
       "                          M      29.655853\n",
       "Mile End Old Town         F      26.418444\n",
       "                          M      25.696321\n",
       "Paddington                F      30.489024\n",
       "                          M      28.697331\n",
       "Pancras                   F      29.054087\n",
       "                          M      28.038636\n",
       "Poplar                    F      26.468120\n",
       "                          M      26.647136\n",
       "Shoreditch                F      27.096229\n",
       "                          M      26.693407\n",
       "Southwark                 F      26.983512\n",
       "                          M      27.054790\n",
       "St George Hanover Square  F      30.789299\n",
       "                          M      29.662225\n",
       "St George In The East     F      24.455504\n",
       "                          M      24.743541\n",
       "St Giles                  F      30.261845\n",
       "                          M      31.017506\n",
       "St Olave Southwark        F      26.540323\n",
       "                          M      26.234821\n",
       "Stepney                   F      25.803553\n",
       "                          M      26.136810\n",
       "Strand                    F      29.991236\n",
       "                          M      31.407699\n",
       "Wandsworth                F      27.971095\n",
       "                          M      27.061177\n",
       "Westminster               F      28.794025\n",
       "                          M      29.434919\n",
       "Whitechapel               F      24.755685\n",
       "                          M      25.978121\n",
       "Woolwich                  F      26.855766\n",
       "                          M      26.368479\n",
       "Name: Age, dtype: float64"
      ]
     },
     "execution_count": 44,
     "metadata": {},
     "output_type": "execute_result"
    }
   ],
   "source": [
    "df[df.Sex.isin(['F','M'])].groupby(['RegDist','Sex'])['Age'].mean()"
   ]
  },
  {
   "cell_type": "code",
   "execution_count": 46,
   "metadata": {},
   "outputs": [
    {
     "data": {
      "text/html": [
       "<div>\n",
       "<style scoped>\n",
       "    .dataframe tbody tr th:only-of-type {\n",
       "        vertical-align: middle;\n",
       "    }\n",
       "\n",
       "    .dataframe tbody tr th {\n",
       "        vertical-align: top;\n",
       "    }\n",
       "\n",
       "    .dataframe thead th {\n",
       "        text-align: right;\n",
       "    }\n",
       "</style>\n",
       "<table border=\"1\" class=\"dataframe\">\n",
       "  <thead>\n",
       "    <tr style=\"text-align: right;\">\n",
       "      <th>Sex</th>\n",
       "      <th>F</th>\n",
       "      <th>M</th>\n",
       "    </tr>\n",
       "    <tr>\n",
       "      <th>RegDist</th>\n",
       "      <th></th>\n",
       "      <th></th>\n",
       "    </tr>\n",
       "  </thead>\n",
       "  <tbody>\n",
       "    <tr>\n",
       "      <th>Bethnal Green</th>\n",
       "      <td>25.986728</td>\n",
       "      <td>25.584048</td>\n",
       "    </tr>\n",
       "    <tr>\n",
       "      <th>Camberwell</th>\n",
       "      <td>28.020752</td>\n",
       "      <td>26.772290</td>\n",
       "    </tr>\n",
       "    <tr>\n",
       "      <th>Chelsea</th>\n",
       "      <td>31.333669</td>\n",
       "      <td>30.630576</td>\n",
       "    </tr>\n",
       "    <tr>\n",
       "      <th>Fulham</th>\n",
       "      <td>27.965891</td>\n",
       "      <td>26.673206</td>\n",
       "    </tr>\n",
       "    <tr>\n",
       "      <th>Greenwich</th>\n",
       "      <td>27.444230</td>\n",
       "      <td>26.543862</td>\n",
       "    </tr>\n",
       "    <tr>\n",
       "      <th>Hackney</th>\n",
       "      <td>28.657843</td>\n",
       "      <td>27.401707</td>\n",
       "    </tr>\n",
       "    <tr>\n",
       "      <th>Hampstead</th>\n",
       "      <td>29.715547</td>\n",
       "      <td>28.972054</td>\n",
       "    </tr>\n",
       "    <tr>\n",
       "      <th>Holborn</th>\n",
       "      <td>27.436540</td>\n",
       "      <td>27.039121</td>\n",
       "    </tr>\n",
       "    <tr>\n",
       "      <th>Islington</th>\n",
       "      <td>28.981639</td>\n",
       "      <td>27.609265</td>\n",
       "    </tr>\n",
       "    <tr>\n",
       "      <th>Kensington</th>\n",
       "      <td>30.882661</td>\n",
       "      <td>29.338848</td>\n",
       "    </tr>\n",
       "    <tr>\n",
       "      <th>Lambeth</th>\n",
       "      <td>28.962971</td>\n",
       "      <td>27.665589</td>\n",
       "    </tr>\n",
       "    <tr>\n",
       "      <th>Lewisham</th>\n",
       "      <td>28.905182</td>\n",
       "      <td>27.327368</td>\n",
       "    </tr>\n",
       "    <tr>\n",
       "      <th>London City</th>\n",
       "      <td>31.009149</td>\n",
       "      <td>28.228294</td>\n",
       "    </tr>\n",
       "    <tr>\n",
       "      <th>Marylebone</th>\n",
       "      <td>30.537966</td>\n",
       "      <td>29.655853</td>\n",
       "    </tr>\n",
       "    <tr>\n",
       "      <th>Mile End Old Town</th>\n",
       "      <td>26.418444</td>\n",
       "      <td>25.696321</td>\n",
       "    </tr>\n",
       "    <tr>\n",
       "      <th>Paddington</th>\n",
       "      <td>30.489024</td>\n",
       "      <td>28.697331</td>\n",
       "    </tr>\n",
       "    <tr>\n",
       "      <th>Pancras</th>\n",
       "      <td>29.054087</td>\n",
       "      <td>28.038636</td>\n",
       "    </tr>\n",
       "    <tr>\n",
       "      <th>Poplar</th>\n",
       "      <td>26.468120</td>\n",
       "      <td>26.647136</td>\n",
       "    </tr>\n",
       "    <tr>\n",
       "      <th>Shoreditch</th>\n",
       "      <td>27.096229</td>\n",
       "      <td>26.693407</td>\n",
       "    </tr>\n",
       "    <tr>\n",
       "      <th>Southwark</th>\n",
       "      <td>26.983512</td>\n",
       "      <td>27.054790</td>\n",
       "    </tr>\n",
       "    <tr>\n",
       "      <th>St George Hanover Square</th>\n",
       "      <td>30.789299</td>\n",
       "      <td>29.662225</td>\n",
       "    </tr>\n",
       "    <tr>\n",
       "      <th>St George In The East</th>\n",
       "      <td>24.455504</td>\n",
       "      <td>24.743541</td>\n",
       "    </tr>\n",
       "    <tr>\n",
       "      <th>St Giles</th>\n",
       "      <td>30.261845</td>\n",
       "      <td>31.017506</td>\n",
       "    </tr>\n",
       "    <tr>\n",
       "      <th>St Olave Southwark</th>\n",
       "      <td>26.540323</td>\n",
       "      <td>26.234821</td>\n",
       "    </tr>\n",
       "    <tr>\n",
       "      <th>Stepney</th>\n",
       "      <td>25.803553</td>\n",
       "      <td>26.136810</td>\n",
       "    </tr>\n",
       "    <tr>\n",
       "      <th>Strand</th>\n",
       "      <td>29.991236</td>\n",
       "      <td>31.407699</td>\n",
       "    </tr>\n",
       "    <tr>\n",
       "      <th>Wandsworth</th>\n",
       "      <td>27.971095</td>\n",
       "      <td>27.061177</td>\n",
       "    </tr>\n",
       "    <tr>\n",
       "      <th>Westminster</th>\n",
       "      <td>28.794025</td>\n",
       "      <td>29.434919</td>\n",
       "    </tr>\n",
       "    <tr>\n",
       "      <th>Whitechapel</th>\n",
       "      <td>24.755685</td>\n",
       "      <td>25.978121</td>\n",
       "    </tr>\n",
       "    <tr>\n",
       "      <th>Woolwich</th>\n",
       "      <td>26.855766</td>\n",
       "      <td>26.368479</td>\n",
       "    </tr>\n",
       "  </tbody>\n",
       "</table>\n",
       "</div>"
      ],
      "text/plain": [
       "Sex                               F          M\n",
       "RegDist                                       \n",
       "Bethnal Green             25.986728  25.584048\n",
       "Camberwell                28.020752  26.772290\n",
       "Chelsea                   31.333669  30.630576\n",
       "Fulham                    27.965891  26.673206\n",
       "Greenwich                 27.444230  26.543862\n",
       "Hackney                   28.657843  27.401707\n",
       "Hampstead                 29.715547  28.972054\n",
       "Holborn                   27.436540  27.039121\n",
       "Islington                 28.981639  27.609265\n",
       "Kensington                30.882661  29.338848\n",
       "Lambeth                   28.962971  27.665589\n",
       "Lewisham                  28.905182  27.327368\n",
       "London City               31.009149  28.228294\n",
       "Marylebone                30.537966  29.655853\n",
       "Mile End Old Town         26.418444  25.696321\n",
       "Paddington                30.489024  28.697331\n",
       "Pancras                   29.054087  28.038636\n",
       "Poplar                    26.468120  26.647136\n",
       "Shoreditch                27.096229  26.693407\n",
       "Southwark                 26.983512  27.054790\n",
       "St George Hanover Square  30.789299  29.662225\n",
       "St George In The East     24.455504  24.743541\n",
       "St Giles                  30.261845  31.017506\n",
       "St Olave Southwark        26.540323  26.234821\n",
       "Stepney                   25.803553  26.136810\n",
       "Strand                    29.991236  31.407699\n",
       "Wandsworth                27.971095  27.061177\n",
       "Westminster               28.794025  29.434919\n",
       "Whitechapel               24.755685  25.978121\n",
       "Woolwich                  26.855766  26.368479"
      ]
     },
     "execution_count": 46,
     "metadata": {},
     "output_type": "execute_result"
    }
   ],
   "source": [
    "unstacked = df[df.Sex.isin(['F','M'])].groupby(['RegDist','Sex'])['Age'].mean().unstack()\n",
    "unstacked"
   ]
  },
  {
   "cell_type": "code",
   "execution_count": 49,
   "metadata": {},
   "outputs": [
    {
     "data": {
      "text/html": [
       "<div>\n",
       "<style scoped>\n",
       "    .dataframe tbody tr th:only-of-type {\n",
       "        vertical-align: middle;\n",
       "    }\n",
       "\n",
       "    .dataframe tbody tr th {\n",
       "        vertical-align: top;\n",
       "    }\n",
       "\n",
       "    .dataframe thead th {\n",
       "        text-align: right;\n",
       "    }\n",
       "</style>\n",
       "<table border=\"1\" class=\"dataframe\">\n",
       "  <thead>\n",
       "    <tr style=\"text-align: right;\">\n",
       "      <th>Sex</th>\n",
       "      <th>F</th>\n",
       "      <th>M</th>\n",
       "      <th>diff</th>\n",
       "    </tr>\n",
       "    <tr>\n",
       "      <th>RegDist</th>\n",
       "      <th></th>\n",
       "      <th></th>\n",
       "      <th></th>\n",
       "    </tr>\n",
       "  </thead>\n",
       "  <tbody>\n",
       "    <tr>\n",
       "      <th>Bethnal Green</th>\n",
       "      <td>25.986728</td>\n",
       "      <td>25.584048</td>\n",
       "      <td>0.402680</td>\n",
       "    </tr>\n",
       "    <tr>\n",
       "      <th>Camberwell</th>\n",
       "      <td>28.020752</td>\n",
       "      <td>26.772290</td>\n",
       "      <td>1.248462</td>\n",
       "    </tr>\n",
       "    <tr>\n",
       "      <th>Chelsea</th>\n",
       "      <td>31.333669</td>\n",
       "      <td>30.630576</td>\n",
       "      <td>0.703093</td>\n",
       "    </tr>\n",
       "    <tr>\n",
       "      <th>Fulham</th>\n",
       "      <td>27.965891</td>\n",
       "      <td>26.673206</td>\n",
       "      <td>1.292684</td>\n",
       "    </tr>\n",
       "    <tr>\n",
       "      <th>Greenwich</th>\n",
       "      <td>27.444230</td>\n",
       "      <td>26.543862</td>\n",
       "      <td>0.900369</td>\n",
       "    </tr>\n",
       "    <tr>\n",
       "      <th>Hackney</th>\n",
       "      <td>28.657843</td>\n",
       "      <td>27.401707</td>\n",
       "      <td>1.256136</td>\n",
       "    </tr>\n",
       "    <tr>\n",
       "      <th>Hampstead</th>\n",
       "      <td>29.715547</td>\n",
       "      <td>28.972054</td>\n",
       "      <td>0.743493</td>\n",
       "    </tr>\n",
       "    <tr>\n",
       "      <th>Holborn</th>\n",
       "      <td>27.436540</td>\n",
       "      <td>27.039121</td>\n",
       "      <td>0.397419</td>\n",
       "    </tr>\n",
       "    <tr>\n",
       "      <th>Islington</th>\n",
       "      <td>28.981639</td>\n",
       "      <td>27.609265</td>\n",
       "      <td>1.372373</td>\n",
       "    </tr>\n",
       "    <tr>\n",
       "      <th>Kensington</th>\n",
       "      <td>30.882661</td>\n",
       "      <td>29.338848</td>\n",
       "      <td>1.543813</td>\n",
       "    </tr>\n",
       "    <tr>\n",
       "      <th>Lambeth</th>\n",
       "      <td>28.962971</td>\n",
       "      <td>27.665589</td>\n",
       "      <td>1.297382</td>\n",
       "    </tr>\n",
       "    <tr>\n",
       "      <th>Lewisham</th>\n",
       "      <td>28.905182</td>\n",
       "      <td>27.327368</td>\n",
       "      <td>1.577814</td>\n",
       "    </tr>\n",
       "    <tr>\n",
       "      <th>London City</th>\n",
       "      <td>31.009149</td>\n",
       "      <td>28.228294</td>\n",
       "      <td>2.780855</td>\n",
       "    </tr>\n",
       "    <tr>\n",
       "      <th>Marylebone</th>\n",
       "      <td>30.537966</td>\n",
       "      <td>29.655853</td>\n",
       "      <td>0.882112</td>\n",
       "    </tr>\n",
       "    <tr>\n",
       "      <th>Mile End Old Town</th>\n",
       "      <td>26.418444</td>\n",
       "      <td>25.696321</td>\n",
       "      <td>0.722124</td>\n",
       "    </tr>\n",
       "    <tr>\n",
       "      <th>Paddington</th>\n",
       "      <td>30.489024</td>\n",
       "      <td>28.697331</td>\n",
       "      <td>1.791692</td>\n",
       "    </tr>\n",
       "    <tr>\n",
       "      <th>Pancras</th>\n",
       "      <td>29.054087</td>\n",
       "      <td>28.038636</td>\n",
       "      <td>1.015450</td>\n",
       "    </tr>\n",
       "    <tr>\n",
       "      <th>Poplar</th>\n",
       "      <td>26.468120</td>\n",
       "      <td>26.647136</td>\n",
       "      <td>-0.179016</td>\n",
       "    </tr>\n",
       "    <tr>\n",
       "      <th>Shoreditch</th>\n",
       "      <td>27.096229</td>\n",
       "      <td>26.693407</td>\n",
       "      <td>0.402822</td>\n",
       "    </tr>\n",
       "    <tr>\n",
       "      <th>Southwark</th>\n",
       "      <td>26.983512</td>\n",
       "      <td>27.054790</td>\n",
       "      <td>-0.071278</td>\n",
       "    </tr>\n",
       "    <tr>\n",
       "      <th>St George Hanover Square</th>\n",
       "      <td>30.789299</td>\n",
       "      <td>29.662225</td>\n",
       "      <td>1.127074</td>\n",
       "    </tr>\n",
       "    <tr>\n",
       "      <th>St George In The East</th>\n",
       "      <td>24.455504</td>\n",
       "      <td>24.743541</td>\n",
       "      <td>-0.288037</td>\n",
       "    </tr>\n",
       "    <tr>\n",
       "      <th>St Giles</th>\n",
       "      <td>30.261845</td>\n",
       "      <td>31.017506</td>\n",
       "      <td>-0.755661</td>\n",
       "    </tr>\n",
       "    <tr>\n",
       "      <th>St Olave Southwark</th>\n",
       "      <td>26.540323</td>\n",
       "      <td>26.234821</td>\n",
       "      <td>0.305502</td>\n",
       "    </tr>\n",
       "    <tr>\n",
       "      <th>Stepney</th>\n",
       "      <td>25.803553</td>\n",
       "      <td>26.136810</td>\n",
       "      <td>-0.333257</td>\n",
       "    </tr>\n",
       "    <tr>\n",
       "      <th>Strand</th>\n",
       "      <td>29.991236</td>\n",
       "      <td>31.407699</td>\n",
       "      <td>-1.416463</td>\n",
       "    </tr>\n",
       "    <tr>\n",
       "      <th>Wandsworth</th>\n",
       "      <td>27.971095</td>\n",
       "      <td>27.061177</td>\n",
       "      <td>0.909918</td>\n",
       "    </tr>\n",
       "    <tr>\n",
       "      <th>Westminster</th>\n",
       "      <td>28.794025</td>\n",
       "      <td>29.434919</td>\n",
       "      <td>-0.640894</td>\n",
       "    </tr>\n",
       "    <tr>\n",
       "      <th>Whitechapel</th>\n",
       "      <td>24.755685</td>\n",
       "      <td>25.978121</td>\n",
       "      <td>-1.222436</td>\n",
       "    </tr>\n",
       "    <tr>\n",
       "      <th>Woolwich</th>\n",
       "      <td>26.855766</td>\n",
       "      <td>26.368479</td>\n",
       "      <td>0.487287</td>\n",
       "    </tr>\n",
       "  </tbody>\n",
       "</table>\n",
       "</div>"
      ],
      "text/plain": [
       "Sex                               F          M      diff\n",
       "RegDist                                                 \n",
       "Bethnal Green             25.986728  25.584048  0.402680\n",
       "Camberwell                28.020752  26.772290  1.248462\n",
       "Chelsea                   31.333669  30.630576  0.703093\n",
       "Fulham                    27.965891  26.673206  1.292684\n",
       "Greenwich                 27.444230  26.543862  0.900369\n",
       "Hackney                   28.657843  27.401707  1.256136\n",
       "Hampstead                 29.715547  28.972054  0.743493\n",
       "Holborn                   27.436540  27.039121  0.397419\n",
       "Islington                 28.981639  27.609265  1.372373\n",
       "Kensington                30.882661  29.338848  1.543813\n",
       "Lambeth                   28.962971  27.665589  1.297382\n",
       "Lewisham                  28.905182  27.327368  1.577814\n",
       "London City               31.009149  28.228294  2.780855\n",
       "Marylebone                30.537966  29.655853  0.882112\n",
       "Mile End Old Town         26.418444  25.696321  0.722124\n",
       "Paddington                30.489024  28.697331  1.791692\n",
       "Pancras                   29.054087  28.038636  1.015450\n",
       "Poplar                    26.468120  26.647136 -0.179016\n",
       "Shoreditch                27.096229  26.693407  0.402822\n",
       "Southwark                 26.983512  27.054790 -0.071278\n",
       "St George Hanover Square  30.789299  29.662225  1.127074\n",
       "St George In The East     24.455504  24.743541 -0.288037\n",
       "St Giles                  30.261845  31.017506 -0.755661\n",
       "St Olave Southwark        26.540323  26.234821  0.305502\n",
       "Stepney                   25.803553  26.136810 -0.333257\n",
       "Strand                    29.991236  31.407699 -1.416463\n",
       "Wandsworth                27.971095  27.061177  0.909918\n",
       "Westminster               28.794025  29.434919 -0.640894\n",
       "Whitechapel               24.755685  25.978121 -1.222436\n",
       "Woolwich                  26.855766  26.368479  0.487287"
      ]
     },
     "execution_count": 49,
     "metadata": {},
     "output_type": "execute_result"
    }
   ],
   "source": [
    "unstacked['diff'] = unstacked['F'] - unstacked['M']\n",
    "unstacked"
   ]
  },
  {
   "cell_type": "code",
   "execution_count": 50,
   "metadata": {},
   "outputs": [
    {
     "data": {
      "text/html": [
       "<div>\n",
       "<style scoped>\n",
       "    .dataframe tbody tr th:only-of-type {\n",
       "        vertical-align: middle;\n",
       "    }\n",
       "\n",
       "    .dataframe tbody tr th {\n",
       "        vertical-align: top;\n",
       "    }\n",
       "\n",
       "    .dataframe thead th {\n",
       "        text-align: right;\n",
       "    }\n",
       "</style>\n",
       "<table border=\"1\" class=\"dataframe\">\n",
       "  <thead>\n",
       "    <tr style=\"text-align: right;\">\n",
       "      <th>Sex</th>\n",
       "      <th>F</th>\n",
       "      <th>M</th>\n",
       "      <th>diff</th>\n",
       "    </tr>\n",
       "    <tr>\n",
       "      <th>RegDist</th>\n",
       "      <th></th>\n",
       "      <th></th>\n",
       "      <th></th>\n",
       "    </tr>\n",
       "  </thead>\n",
       "  <tbody>\n",
       "    <tr>\n",
       "      <th>Strand</th>\n",
       "      <td>29.991236</td>\n",
       "      <td>31.407699</td>\n",
       "      <td>-1.416463</td>\n",
       "    </tr>\n",
       "    <tr>\n",
       "      <th>Whitechapel</th>\n",
       "      <td>24.755685</td>\n",
       "      <td>25.978121</td>\n",
       "      <td>-1.222436</td>\n",
       "    </tr>\n",
       "    <tr>\n",
       "      <th>St Giles</th>\n",
       "      <td>30.261845</td>\n",
       "      <td>31.017506</td>\n",
       "      <td>-0.755661</td>\n",
       "    </tr>\n",
       "    <tr>\n",
       "      <th>Westminster</th>\n",
       "      <td>28.794025</td>\n",
       "      <td>29.434919</td>\n",
       "      <td>-0.640894</td>\n",
       "    </tr>\n",
       "    <tr>\n",
       "      <th>Stepney</th>\n",
       "      <td>25.803553</td>\n",
       "      <td>26.136810</td>\n",
       "      <td>-0.333257</td>\n",
       "    </tr>\n",
       "    <tr>\n",
       "      <th>St George In The East</th>\n",
       "      <td>24.455504</td>\n",
       "      <td>24.743541</td>\n",
       "      <td>-0.288037</td>\n",
       "    </tr>\n",
       "    <tr>\n",
       "      <th>Poplar</th>\n",
       "      <td>26.468120</td>\n",
       "      <td>26.647136</td>\n",
       "      <td>-0.179016</td>\n",
       "    </tr>\n",
       "    <tr>\n",
       "      <th>Southwark</th>\n",
       "      <td>26.983512</td>\n",
       "      <td>27.054790</td>\n",
       "      <td>-0.071278</td>\n",
       "    </tr>\n",
       "    <tr>\n",
       "      <th>St Olave Southwark</th>\n",
       "      <td>26.540323</td>\n",
       "      <td>26.234821</td>\n",
       "      <td>0.305502</td>\n",
       "    </tr>\n",
       "    <tr>\n",
       "      <th>Holborn</th>\n",
       "      <td>27.436540</td>\n",
       "      <td>27.039121</td>\n",
       "      <td>0.397419</td>\n",
       "    </tr>\n",
       "    <tr>\n",
       "      <th>Bethnal Green</th>\n",
       "      <td>25.986728</td>\n",
       "      <td>25.584048</td>\n",
       "      <td>0.402680</td>\n",
       "    </tr>\n",
       "    <tr>\n",
       "      <th>Shoreditch</th>\n",
       "      <td>27.096229</td>\n",
       "      <td>26.693407</td>\n",
       "      <td>0.402822</td>\n",
       "    </tr>\n",
       "    <tr>\n",
       "      <th>Woolwich</th>\n",
       "      <td>26.855766</td>\n",
       "      <td>26.368479</td>\n",
       "      <td>0.487287</td>\n",
       "    </tr>\n",
       "    <tr>\n",
       "      <th>Chelsea</th>\n",
       "      <td>31.333669</td>\n",
       "      <td>30.630576</td>\n",
       "      <td>0.703093</td>\n",
       "    </tr>\n",
       "    <tr>\n",
       "      <th>Mile End Old Town</th>\n",
       "      <td>26.418444</td>\n",
       "      <td>25.696321</td>\n",
       "      <td>0.722124</td>\n",
       "    </tr>\n",
       "    <tr>\n",
       "      <th>Hampstead</th>\n",
       "      <td>29.715547</td>\n",
       "      <td>28.972054</td>\n",
       "      <td>0.743493</td>\n",
       "    </tr>\n",
       "    <tr>\n",
       "      <th>Marylebone</th>\n",
       "      <td>30.537966</td>\n",
       "      <td>29.655853</td>\n",
       "      <td>0.882112</td>\n",
       "    </tr>\n",
       "    <tr>\n",
       "      <th>Greenwich</th>\n",
       "      <td>27.444230</td>\n",
       "      <td>26.543862</td>\n",
       "      <td>0.900369</td>\n",
       "    </tr>\n",
       "    <tr>\n",
       "      <th>Wandsworth</th>\n",
       "      <td>27.971095</td>\n",
       "      <td>27.061177</td>\n",
       "      <td>0.909918</td>\n",
       "    </tr>\n",
       "    <tr>\n",
       "      <th>Pancras</th>\n",
       "      <td>29.054087</td>\n",
       "      <td>28.038636</td>\n",
       "      <td>1.015450</td>\n",
       "    </tr>\n",
       "    <tr>\n",
       "      <th>St George Hanover Square</th>\n",
       "      <td>30.789299</td>\n",
       "      <td>29.662225</td>\n",
       "      <td>1.127074</td>\n",
       "    </tr>\n",
       "    <tr>\n",
       "      <th>Camberwell</th>\n",
       "      <td>28.020752</td>\n",
       "      <td>26.772290</td>\n",
       "      <td>1.248462</td>\n",
       "    </tr>\n",
       "    <tr>\n",
       "      <th>Hackney</th>\n",
       "      <td>28.657843</td>\n",
       "      <td>27.401707</td>\n",
       "      <td>1.256136</td>\n",
       "    </tr>\n",
       "    <tr>\n",
       "      <th>Fulham</th>\n",
       "      <td>27.965891</td>\n",
       "      <td>26.673206</td>\n",
       "      <td>1.292684</td>\n",
       "    </tr>\n",
       "    <tr>\n",
       "      <th>Lambeth</th>\n",
       "      <td>28.962971</td>\n",
       "      <td>27.665589</td>\n",
       "      <td>1.297382</td>\n",
       "    </tr>\n",
       "    <tr>\n",
       "      <th>Islington</th>\n",
       "      <td>28.981639</td>\n",
       "      <td>27.609265</td>\n",
       "      <td>1.372373</td>\n",
       "    </tr>\n",
       "    <tr>\n",
       "      <th>Kensington</th>\n",
       "      <td>30.882661</td>\n",
       "      <td>29.338848</td>\n",
       "      <td>1.543813</td>\n",
       "    </tr>\n",
       "    <tr>\n",
       "      <th>Lewisham</th>\n",
       "      <td>28.905182</td>\n",
       "      <td>27.327368</td>\n",
       "      <td>1.577814</td>\n",
       "    </tr>\n",
       "    <tr>\n",
       "      <th>Paddington</th>\n",
       "      <td>30.489024</td>\n",
       "      <td>28.697331</td>\n",
       "      <td>1.791692</td>\n",
       "    </tr>\n",
       "    <tr>\n",
       "      <th>London City</th>\n",
       "      <td>31.009149</td>\n",
       "      <td>28.228294</td>\n",
       "      <td>2.780855</td>\n",
       "    </tr>\n",
       "  </tbody>\n",
       "</table>\n",
       "</div>"
      ],
      "text/plain": [
       "Sex                               F          M      diff\n",
       "RegDist                                                 \n",
       "Strand                    29.991236  31.407699 -1.416463\n",
       "Whitechapel               24.755685  25.978121 -1.222436\n",
       "St Giles                  30.261845  31.017506 -0.755661\n",
       "Westminster               28.794025  29.434919 -0.640894\n",
       "Stepney                   25.803553  26.136810 -0.333257\n",
       "St George In The East     24.455504  24.743541 -0.288037\n",
       "Poplar                    26.468120  26.647136 -0.179016\n",
       "Southwark                 26.983512  27.054790 -0.071278\n",
       "St Olave Southwark        26.540323  26.234821  0.305502\n",
       "Holborn                   27.436540  27.039121  0.397419\n",
       "Bethnal Green             25.986728  25.584048  0.402680\n",
       "Shoreditch                27.096229  26.693407  0.402822\n",
       "Woolwich                  26.855766  26.368479  0.487287\n",
       "Chelsea                   31.333669  30.630576  0.703093\n",
       "Mile End Old Town         26.418444  25.696321  0.722124\n",
       "Hampstead                 29.715547  28.972054  0.743493\n",
       "Marylebone                30.537966  29.655853  0.882112\n",
       "Greenwich                 27.444230  26.543862  0.900369\n",
       "Wandsworth                27.971095  27.061177  0.909918\n",
       "Pancras                   29.054087  28.038636  1.015450\n",
       "St George Hanover Square  30.789299  29.662225  1.127074\n",
       "Camberwell                28.020752  26.772290  1.248462\n",
       "Hackney                   28.657843  27.401707  1.256136\n",
       "Fulham                    27.965891  26.673206  1.292684\n",
       "Lambeth                   28.962971  27.665589  1.297382\n",
       "Islington                 28.981639  27.609265  1.372373\n",
       "Kensington                30.882661  29.338848  1.543813\n",
       "Lewisham                  28.905182  27.327368  1.577814\n",
       "Paddington                30.489024  28.697331  1.791692\n",
       "London City               31.009149  28.228294  2.780855"
      ]
     },
     "execution_count": 50,
     "metadata": {},
     "output_type": "execute_result"
    }
   ],
   "source": [
    "unstacked.sort_values('diff')"
   ]
  },
  {
   "cell_type": "code",
   "execution_count": null,
   "metadata": {},
   "outputs": [],
   "source": [
    "# Disability"
   ]
  },
  {
   "cell_type": "code",
   "execution_count": 26,
   "metadata": {},
   "outputs": [],
   "source": [
    "prime_code = lambda x : int(str(x)[0])\n",
    "df['DisCodeMain'] = df.DisCode2.apply(prime_code)"
   ]
  },
  {
   "cell_type": "code",
   "execution_count": 27,
   "metadata": {},
   "outputs": [
    {
     "data": {
      "text/plain": [
       "0    4397451\n",
       "2       5070\n",
       "8       4460\n",
       "1       4413\n",
       "4       3965\n",
       "5       3499\n",
       "9       1933\n",
       "3        154\n",
       "7          2\n",
       "Name: DisCodeMain, dtype: int64"
      ]
     },
     "execution_count": 27,
     "metadata": {},
     "output_type": "execute_result"
    }
   ],
   "source": [
    "df.DisCodeMain.value_counts()"
   ]
  },
  {
   "cell_type": "code",
   "execution_count": 28,
   "metadata": {},
   "outputs": [],
   "source": [
    "df['Disability'] = 0 "
   ]
  },
  {
   "cell_type": "code",
   "execution_count": 29,
   "metadata": {},
   "outputs": [],
   "source": [
    "df.loc[df.DisCodeMain > 0,'Disability'] = 1"
   ]
  },
  {
   "cell_type": "code",
   "execution_count": 30,
   "metadata": {},
   "outputs": [
    {
     "data": {
      "text/plain": [
       "0    4397451\n",
       "1      23496\n",
       "Name: Disability, dtype: int64"
      ]
     },
     "execution_count": 30,
     "metadata": {},
     "output_type": "execute_result"
    }
   ],
   "source": [
    "df.Disability.value_counts()"
   ]
  },
  {
   "cell_type": "code",
   "execution_count": 80,
   "metadata": {},
   "outputs": [],
   "source": []
  },
  {
   "cell_type": "code",
   "execution_count": 81,
   "metadata": {},
   "outputs": [],
   "source": []
  },
  {
   "cell_type": "code",
   "execution_count": 82,
   "metadata": {},
   "outputs": [
    {
     "data": {
      "text/plain": [
       "0    4397451\n",
       "1      23496\n",
       "Name: Disability, dtype: int64"
      ]
     },
     "execution_count": 82,
     "metadata": {},
     "output_type": "execute_result"
    }
   ],
   "source": []
  },
  {
   "cell_type": "code",
   "execution_count": 89,
   "metadata": {},
   "outputs": [
    {
     "data": {
      "text/plain": [
       "Sex\n",
       "F    2302507\n",
       "M    1955910\n",
       "U     162530\n",
       "Name: Disability, dtype: int64"
      ]
     },
     "execution_count": 89,
     "metadata": {},
     "output_type": "execute_result"
    }
   ],
   "source": [
    "df.groupby('Sex')['Disability'].count()"
   ]
  },
  {
   "cell_type": "code",
   "execution_count": 84,
   "metadata": {},
   "outputs": [
    {
     "data": {
      "text/plain": [
       "Sex\n",
       "F    10110\n",
       "M     9895\n",
       "U     3491\n",
       "Name: Disability, dtype: int64"
      ]
     },
     "execution_count": 84,
     "metadata": {},
     "output_type": "execute_result"
    }
   ],
   "source": [
    "df.groupby('Sex')['Disability'].sum()"
   ]
  },
  {
   "cell_type": "code",
   "execution_count": 105,
   "metadata": {},
   "outputs": [
    {
     "data": {
      "text/html": [
       "<div>\n",
       "<style scoped>\n",
       "    .dataframe tbody tr th:only-of-type {\n",
       "        vertical-align: middle;\n",
       "    }\n",
       "\n",
       "    .dataframe tbody tr th {\n",
       "        vertical-align: top;\n",
       "    }\n",
       "\n",
       "    .dataframe thead th {\n",
       "        text-align: right;\n",
       "    }\n",
       "</style>\n",
       "<table border=\"1\" class=\"dataframe\">\n",
       "  <thead>\n",
       "    <tr style=\"text-align: right;\">\n",
       "      <th>Disability</th>\n",
       "      <th>0</th>\n",
       "      <th>1</th>\n",
       "    </tr>\n",
       "    <tr>\n",
       "      <th>Sex</th>\n",
       "      <th></th>\n",
       "      <th></th>\n",
       "    </tr>\n",
       "  </thead>\n",
       "  <tbody>\n",
       "    <tr>\n",
       "      <th>F</th>\n",
       "      <td>2292397</td>\n",
       "      <td>10110</td>\n",
       "    </tr>\n",
       "    <tr>\n",
       "      <th>M</th>\n",
       "      <td>1946015</td>\n",
       "      <td>9895</td>\n",
       "    </tr>\n",
       "    <tr>\n",
       "      <th>U</th>\n",
       "      <td>159039</td>\n",
       "      <td>3491</td>\n",
       "    </tr>\n",
       "  </tbody>\n",
       "</table>\n",
       "</div>"
      ],
      "text/plain": [
       "Disability        0      1\n",
       "Sex                       \n",
       "F           2292397  10110\n",
       "M           1946015   9895\n",
       "U            159039   3491"
      ]
     },
     "execution_count": 105,
     "metadata": {},
     "output_type": "execute_result"
    }
   ],
   "source": [
    "df.groupby(['Sex','Disability'])['RegDist'].count().unstack()"
   ]
  },
  {
   "cell_type": "code",
   "execution_count": 87,
   "metadata": {},
   "outputs": [
    {
     "data": {
      "text/plain": [
       "Sex\n",
       "F    10110\n",
       "M     9895\n",
       "Name: Disability, dtype: int64"
      ]
     },
     "execution_count": 87,
     "metadata": {},
     "output_type": "execute_result"
    }
   ],
   "source": [
    "df.groupby('Sex')['Disability'].sum()[['F','M']]"
   ]
  },
  {
   "cell_type": "code",
   "execution_count": 88,
   "metadata": {},
   "outputs": [
    {
     "data": {
      "text/plain": [
       "Power_divergenceResult(statistic=2.310672331917021, pvalue=0.12848846303704548)"
      ]
     },
     "execution_count": 88,
     "metadata": {},
     "output_type": "execute_result"
    }
   ],
   "source": [
    "from scipy.stats import chisquare\n",
    "chisquare(df.groupby('Sex')['Disability'].sum()[['F','M']])"
   ]
  },
  {
   "cell_type": "code",
   "execution_count": null,
   "metadata": {},
   "outputs": [],
   "source": [
    "df.groupby(['Sex','Disability'])['RegDist'].count().unstack()"
   ]
  },
  {
   "cell_type": "code",
   "execution_count": 107,
   "metadata": {},
   "outputs": [
    {
     "data": {
      "text/plain": [
       "(8429.120773525228, 0.0, 2, array([[2.29026987e+06, 1.22371303e+04],\n",
       "        [1.94551493e+06, 1.03950718e+04],\n",
       "        [1.61666202e+05, 8.63797933e+02]]))"
      ]
     },
     "execution_count": 107,
     "metadata": {},
     "output_type": "execute_result"
    }
   ],
   "source": [
    "from scipy.stats import chi2_contingency\n",
    "chi2_contingency(df.groupby(['Sex','Disability'])['RegDist'].count().unstack())\n",
    "\n"
   ]
  },
  {
   "cell_type": "code",
   "execution_count": null,
   "metadata": {},
   "outputs": [],
   "source": [
    "df.groupby('Sex')['Disco'].sum()[['F','M']]"
   ]
  },
  {
   "cell_type": "code",
   "execution_count": null,
   "metadata": {},
   "outputs": [],
   "source": [
    "df.groupby('Sex')['Age'].mean()"
   ]
  },
  {
   "cell_type": "code",
   "execution_count": null,
   "metadata": {},
   "outputs": [],
   "source": [
    "by_regdist = df.groupby(['RegDist','Sex'])['Age'].mean()"
   ]
  },
  {
   "cell_type": "code",
   "execution_count": null,
   "metadata": {},
   "outputs": [],
   "source": [
    "by_regdist['Whitechapel']"
   ]
  },
  {
   "cell_type": "code",
   "execution_count": null,
   "metadata": {},
   "outputs": [],
   "source": [
    "by_regdist['Westminster']"
   ]
  },
  {
   "cell_type": "code",
   "execution_count": null,
   "metadata": {},
   "outputs": [],
   "source": [
    "byregd = df.groupby(['RegDist','Sex'])['SubDist'].count()"
   ]
  },
  {
   "cell_type": "code",
   "execution_count": null,
   "metadata": {},
   "outputs": [],
   "source": [
    "byregd.groupby(level=0).apply(lambda x: x / x.sum())"
   ]
  },
  {
   "cell_type": "code",
   "execution_count": null,
   "metadata": {},
   "outputs": [],
   "source": [
    "df['RegDist'].unique()"
   ]
  },
  {
   "cell_type": "code",
   "execution_count": null,
   "metadata": {},
   "outputs": [],
   "source": [
    "ext = pd.read_csv('/Users/kbeelen/Documents/OtherProjects/LondonPulse/metadata/metadata.tsv',sep='\\t')\n",
    "ext.head()"
   ]
  },
  {
   "cell_type": "code",
   "execution_count": null,
   "metadata": {},
   "outputs": [],
   "source": [
    "df.Age.plot(kind='hist',bins=100)"
   ]
  },
  {
   "cell_type": "code",
   "execution_count": null,
   "metadata": {},
   "outputs": [],
   "source": [
    "import tqdm\n",
    "sample_mean = []\n",
    "for _ in tqdm.notebook.tqdm(range(1000)):\n",
    "    sample_mean.append(df.sample(100).Age.mean())"
   ]
  },
  {
   "cell_type": "code",
   "execution_count": null,
   "metadata": {},
   "outputs": [],
   "source": [
    "pd.Series(sample_mean).plot(kind='density')"
   ]
  },
  {
   "cell_type": "code",
   "execution_count": null,
   "metadata": {},
   "outputs": [],
   "source": [
    "import tqdm\n",
    "sample_mean_m = []; sample_mean_f = []\n",
    "for _ in tqdm.notebook.tqdm(range(2000)):\n",
    "    sample_mean_m.append(df[df.Sex=='M'].sample(100).Age.mean())\n",
    "    sample_mean_f.append(df[df.Sex=='F'].sample(100).Age.mean())"
   ]
  },
  {
   "cell_type": "code",
   "execution_count": null,
   "metadata": {},
   "outputs": [],
   "source": [
    "pd.Series(sample_mean_m).plot(kind='density')\n",
    "pd.Series(sample_mean_f).plot(kind='density')"
   ]
  },
  {
   "cell_type": "code",
   "execution_count": null,
   "metadata": {},
   "outputs": [],
   "source": [
    "pd.Series(sample_mean_m).plot(kind='density')\n",
    "pd.Series(sample_mean_f).plot(kind='density')"
   ]
  },
  {
   "cell_type": "code",
   "execution_count": null,
   "metadata": {},
   "outputs": [],
   "source": [
    "sns.violinplot(df.Sex, df.Age,inner='quartile')"
   ]
  },
  {
   "cell_type": "code",
   "execution_count": null,
   "metadata": {},
   "outputs": [],
   "source": [
    "df.groupby('RegCnty')['Age'].mean()"
   ]
  },
  {
   "cell_type": "code",
   "execution_count": 129,
   "metadata": {},
   "outputs": [],
   "source": [
    "X = pd.get_dummies(df[df.Sex.isin(['M','F'])][['Sex','Age','Disability']],drop_first=True)"
   ]
  },
  {
   "cell_type": "code",
   "execution_count": 130,
   "metadata": {},
   "outputs": [
    {
     "data": {
      "text/html": [
       "<div>\n",
       "<style scoped>\n",
       "    .dataframe tbody tr th:only-of-type {\n",
       "        vertical-align: middle;\n",
       "    }\n",
       "\n",
       "    .dataframe tbody tr th {\n",
       "        vertical-align: top;\n",
       "    }\n",
       "\n",
       "    .dataframe thead th {\n",
       "        text-align: right;\n",
       "    }\n",
       "</style>\n",
       "<table border=\"1\" class=\"dataframe\">\n",
       "  <thead>\n",
       "    <tr style=\"text-align: right;\">\n",
       "      <th></th>\n",
       "      <th>Age</th>\n",
       "      <th>Disability</th>\n",
       "      <th>Sex_M</th>\n",
       "    </tr>\n",
       "  </thead>\n",
       "  <tbody>\n",
       "    <tr>\n",
       "      <th>0</th>\n",
       "      <td>63</td>\n",
       "      <td>0</td>\n",
       "      <td>1</td>\n",
       "    </tr>\n",
       "    <tr>\n",
       "      <th>1</th>\n",
       "      <td>54</td>\n",
       "      <td>0</td>\n",
       "      <td>0</td>\n",
       "    </tr>\n",
       "    <tr>\n",
       "      <th>2</th>\n",
       "      <td>30</td>\n",
       "      <td>0</td>\n",
       "      <td>1</td>\n",
       "    </tr>\n",
       "    <tr>\n",
       "      <th>3</th>\n",
       "      <td>28</td>\n",
       "      <td>0</td>\n",
       "      <td>1</td>\n",
       "    </tr>\n",
       "    <tr>\n",
       "      <th>4</th>\n",
       "      <td>26</td>\n",
       "      <td>0</td>\n",
       "      <td>1</td>\n",
       "    </tr>\n",
       "  </tbody>\n",
       "</table>\n",
       "</div>"
      ],
      "text/plain": [
       "   Age  Disability  Sex_M\n",
       "0   63           0      1\n",
       "1   54           0      0\n",
       "2   30           0      1\n",
       "3   28           0      1\n",
       "4   26           0      1"
      ]
     },
     "execution_count": 130,
     "metadata": {},
     "output_type": "execute_result"
    }
   ],
   "source": [
    "X.head()"
   ]
  },
  {
   "cell_type": "code",
   "execution_count": 136,
   "metadata": {},
   "outputs": [],
   "source": [
    "from statsmodels.discrete.discrete_model import Probit"
   ]
  },
  {
   "cell_type": "code",
   "execution_count": 141,
   "metadata": {},
   "outputs": [
    {
     "name": "stdout",
     "output_type": "stream",
     "text": [
      "Optimization terminated successfully.\n",
      "         Current function value: 0.029858\n",
      "         Iterations 8\n"
     ]
    },
    {
     "data": {
      "text/html": [
       "<table class=\"simpletable\">\n",
       "<caption>Probit Regression Results</caption>\n",
       "<tr>\n",
       "  <th>Dep. Variable:</th>           <td>y</td>        <th>  No. Observations:  </th>   <td>4258417</td>  \n",
       "</tr>\n",
       "<tr>\n",
       "  <th>Model:</th>                <td>Probit</td>      <th>  Df Residuals:      </th>   <td>4258415</td>  \n",
       "</tr>\n",
       "<tr>\n",
       "  <th>Method:</th>                 <td>MLE</td>       <th>  Df Model:          </th>   <td>     1</td>   \n",
       "</tr>\n",
       "<tr>\n",
       "  <th>Date:</th>            <td>Wed, 29 Dec 2021</td> <th>  Pseudo R-squ.:     </th>  <td>0.0003957</td> \n",
       "</tr>\n",
       "<tr>\n",
       "  <th>Time:</th>                <td>15:17:32</td>     <th>  Log-Likelihood:    </th> <td>-1.2715e+05</td>\n",
       "</tr>\n",
       "<tr>\n",
       "  <th>converged:</th>             <td>True</td>       <th>  LL-Null:           </th> <td>-1.2720e+05</td>\n",
       "</tr>\n",
       "<tr>\n",
       "  <th>Covariance Type:</th>     <td>nonrobust</td>    <th>  LLR p-value:       </th>  <td>1.085e-23</td> \n",
       "</tr>\n",
       "</table>\n",
       "<table class=\"simpletable\">\n",
       "<tr>\n",
       "    <td></td>       <th>coef</th>     <th>std err</th>      <th>z</th>      <th>P>|z|</th>  <th>[0.025</th>    <th>0.975]</th>  \n",
       "</tr>\n",
       "<tr>\n",
       "  <th>Sex_M</th> <td>    0.0487</td> <td>    0.005</td> <td>   10.039</td> <td> 0.000</td> <td>    0.039</td> <td>    0.058</td>\n",
       "</tr>\n",
       "<tr>\n",
       "  <th>const</th> <td>   -2.6204</td> <td>    0.003</td> <td> -774.431</td> <td> 0.000</td> <td>   -2.627</td> <td>   -2.614</td>\n",
       "</tr>\n",
       "</table>"
      ],
      "text/plain": [
       "<class 'statsmodels.iolib.summary.Summary'>\n",
       "\"\"\"\n",
       "                          Probit Regression Results                           \n",
       "==============================================================================\n",
       "Dep. Variable:                      y   No. Observations:              4258417\n",
       "Model:                         Probit   Df Residuals:                  4258415\n",
       "Method:                           MLE   Df Model:                            1\n",
       "Date:                Wed, 29 Dec 2021   Pseudo R-squ.:               0.0003957\n",
       "Time:                        15:17:32   Log-Likelihood:            -1.2715e+05\n",
       "converged:                       True   LL-Null:                   -1.2720e+05\n",
       "Covariance Type:            nonrobust   LLR p-value:                 1.085e-23\n",
       "==============================================================================\n",
       "                 coef    std err          z      P>|z|      [0.025      0.975]\n",
       "------------------------------------------------------------------------------\n",
       "Sex_M          0.0487      0.005     10.039      0.000       0.039       0.058\n",
       "const         -2.6204      0.003   -774.431      0.000      -2.627      -2.614\n",
       "==============================================================================\n",
       "\"\"\""
      ]
     },
     "execution_count": 141,
     "metadata": {},
     "output_type": "execute_result"
    }
   ],
   "source": [
    "\n",
    "model = Probit(np.array(X['Disability']), pd.DataFrame(X[['Sex_M']]).assign(const=1))\n",
    "results = model.fit()\n",
    "results.summary()"
   ]
  },
  {
   "cell_type": "code",
   "execution_count": 140,
   "metadata": {},
   "outputs": [
    {
     "data": {
      "text/html": [
       "<table class=\"simpletable\">\n",
       "<caption>Generalized Linear Model Regression Results</caption>\n",
       "<tr>\n",
       "  <th>Dep. Variable:</th>           <td>y</td>        <th>  No. Observations:  </th>   <td>4258417</td>  \n",
       "</tr>\n",
       "<tr>\n",
       "  <th>Model:</th>                  <td>GLM</td>       <th>  Df Residuals:      </th>   <td>4258414</td>  \n",
       "</tr>\n",
       "<tr>\n",
       "  <th>Model Family:</th>        <td>Binomial</td>     <th>  Df Model:          </th>   <td>     2</td>   \n",
       "</tr>\n",
       "<tr>\n",
       "  <th>Link Function:</th>         <td>logit</td>      <th>  Scale:             </th>  <td>  1.0000</td>  \n",
       "</tr>\n",
       "<tr>\n",
       "  <th>Method:</th>                <td>IRLS</td>       <th>  Log-Likelihood:    </th> <td>-1.2282e+05</td>\n",
       "</tr>\n",
       "<tr>\n",
       "  <th>Date:</th>            <td>Wed, 29 Dec 2021</td> <th>  Deviance:          </th> <td>2.4564e+05</td> \n",
       "</tr>\n",
       "<tr>\n",
       "  <th>Time:</th>                <td>15:13:32</td>     <th>  Pearson chi2:      </th>  <td>4.44e+06</td>  \n",
       "</tr>\n",
       "<tr>\n",
       "  <th>No. Iterations:</th>          <td>9</td>        <th>                     </th>      <td> </td>     \n",
       "</tr>\n",
       "<tr>\n",
       "  <th>Covariance Type:</th>     <td>nonrobust</td>    <th>                     </th>      <td> </td>     \n",
       "</tr>\n",
       "</table>\n",
       "<table class=\"simpletable\">\n",
       "<tr>\n",
       "    <td></td>       <th>coef</th>     <th>std err</th>      <th>z</th>      <th>P>|z|</th>  <th>[0.025</th>    <th>0.975]</th>  \n",
       "</tr>\n",
       "<tr>\n",
       "  <th>Age</th>   <td>    0.0327</td> <td>    0.000</td> <td>   94.931</td> <td> 0.000</td> <td>    0.032</td> <td>    0.033</td>\n",
       "</tr>\n",
       "<tr>\n",
       "  <th>Sex_M</th> <td>    0.1868</td> <td>    0.014</td> <td>   13.150</td> <td> 0.000</td> <td>    0.159</td> <td>    0.215</td>\n",
       "</tr>\n",
       "<tr>\n",
       "  <th>const</th> <td>   -6.5586</td> <td>    0.017</td> <td> -376.186</td> <td> 0.000</td> <td>   -6.593</td> <td>   -6.524</td>\n",
       "</tr>\n",
       "</table>"
      ],
      "text/plain": [
       "<class 'statsmodels.iolib.summary.Summary'>\n",
       "\"\"\"\n",
       "                 Generalized Linear Model Regression Results                  \n",
       "==============================================================================\n",
       "Dep. Variable:                      y   No. Observations:              4258417\n",
       "Model:                            GLM   Df Residuals:                  4258414\n",
       "Model Family:                Binomial   Df Model:                            2\n",
       "Link Function:                  logit   Scale:                          1.0000\n",
       "Method:                          IRLS   Log-Likelihood:            -1.2282e+05\n",
       "Date:                Wed, 29 Dec 2021   Deviance:                   2.4564e+05\n",
       "Time:                        15:13:32   Pearson chi2:                 4.44e+06\n",
       "No. Iterations:                     9                                         \n",
       "Covariance Type:            nonrobust                                         \n",
       "==============================================================================\n",
       "                 coef    std err          z      P>|z|      [0.025      0.975]\n",
       "------------------------------------------------------------------------------\n",
       "Age            0.0327      0.000     94.931      0.000       0.032       0.033\n",
       "Sex_M          0.1868      0.014     13.150      0.000       0.159       0.215\n",
       "const         -6.5586      0.017   -376.186      0.000      -6.593      -6.524\n",
       "==============================================================================\n",
       "\"\"\""
      ]
     },
     "execution_count": 140,
     "metadata": {},
     "output_type": "execute_result"
    }
   ],
   "source": [
    "import statsmodels.api as sm\n",
    "model = sm.GLM(np.array(X['Disability']), pd.DataFrame(X[['Age','Sex_M']]).assign(const=1), family=sm.families.Binomial())\n",
    "results = model.fit()\n",
    "results.summary()"
   ]
  },
  {
   "cell_type": "code",
   "execution_count": null,
   "metadata": {},
   "outputs": [],
   "source": []
  }
 ],
 "metadata": {
  "kernelspec": {
   "display_name": "Python 3",
   "language": "python",
   "name": "python3"
  },
  "language_info": {
   "codemirror_mode": {
    "name": "ipython",
    "version": 3
   },
   "file_extension": ".py",
   "mimetype": "text/x-python",
   "name": "python",
   "nbconvert_exporter": "python",
   "pygments_lexer": "ipython3",
   "version": "3.7.4"
  }
 },
 "nbformat": 4,
 "nbformat_minor": 2
}
