{
 "cells": [
  {
   "cell_type": "markdown",
   "metadata": {},
   "source": [
    "[![Binder](https://mybinder.org/badge_logo.svg)](https://mybinder.org/v2/gh/kasparvonbeelen/ghi_python/main?labpath=12_-_Generalised_Linear_Models.ipynb)\n",
    "\n",
    "\n",
    "\n",
    "# Lecture 12: Generalised Linear Models\n",
    "\n",
    "## Data Science for Historians (with Python)\n",
    "## A Gentle Introduction to Working with Data in Python\n",
    "\n",
    "### Created by Kaspar Beelen and Luke Blaxill\n",
    "\n",
    "### For the German Historical Institute, London\n",
    "\n",
    "<img align=\"left\" src=\"https://www.ghil.ac.uk/typo3conf/ext/wacon_ghil/Resources/Public/Images/institute_icon_small.png\">\n"
   ]
  },
  {
   "cell_type": "markdown",
   "metadata": {},
   "source": [
    "## Predicting Counts\n",
    "### ** Under Construction (done by 10/02)**\n",
    "\n",
    "Linear models are the bread and butter of social sciences but are also increasingly present in digital history. The models are the first option when solving a problem with statistical means, but they are not always appropriate or the best solution. Often we know something about our response variable that should be reflected in the model (so it can not make silly or irrelevant predictions). \n",
    "\n",
    "For example, sometimes our outcomes are discrete counts (1,2, etc) or bounded by a lower or upper limit (for example, when the outcome variable contains probabilities, each value has to be between zero and one).\n",
    "\n",
    "\n",
    "This example is based on (and inspired by) the Statistical Rethinking. An excellent course into Bayesian modelling. We can not cover this topic (yet, maybe later) and continue with what's called the frequentits approach. However, the outcome will be similar.\n",
    "\n",
    "Returning to counts.\n",
    "\n",
    "A scenario where this often occurs is when we are modelling counts (i.e. positive integers ranging from zero, one, two, onwards) or binary response (X, not X).\n",
    "\n",
    "In this tutorial we will be having a closer look at modelling counts that arise from binary (yes, no) process. For example modelling the number of heads after $n$ coin tosses. \n",
    "\n",
    "\n",
    "Important differences: the OLS, parameters easy interpretable in the relation to the predictions or outcomes. Linear relation easy to understand, one unit change in x leads to one unity change in y. \n",
    "\n",
    "Not the same for the models we will investigate below for predicting counts. Understanding and deploying GLM not as straightforward. \n",
    "\n",
    "We will focus on the Binomial regression to model outcomes that arise from binary trials, accept or rejections of applications. Count the number of successful or applications (or rejections)\n",
    "\n",
    "\n",
    "But it also appears in many other situations, the coin toss the most common example.\n"
   ]
  },
  {
   "cell_type": "markdown",
   "metadata": {},
   "source": [
    "## Overview\n",
    "\n",
    "This lecture focussess on two different case-studies\n",
    "\n",
    "- modelling gender bias on university application\n",
    "- modelling gender and representation in parliamentary questions "
   ]
  },
  {
   "cell_type": "markdown",
   "metadata": {},
   "source": [
    "### The Binomial distribution\n",
    "\n",
    "\n",
    "In the chapter we focus on modelling (predicting) count outcomes using a Binomial distribution.\n",
    "\n",
    "\n",
    "$y ∼ Binomial(N, p)$\n",
    "\n",
    "- $y$ the expected number of positive trials\n",
    "- $N$ the number of trials\n",
    "- $p$ the probababilty that an individual trial is successful\n",
    "\n",
    "We say that $y$ is binomially distributed or more formally \"the relative counts of ways to realize $y$ in $N$ trials with probability $p$ on each trial comes from the binomial distribution.\" (See McELreath, Statistical Rethinking 2nd Edition p. 36).\n",
    "\n",
    "But let's unpack this sentence, and have a closer look at why the Binomial distribution is so useful for modelling various social phenonomena. \n",
    "\n",
    "\n",
    "As said earlier the Binomial distribution helps us modelling the outcomes of repeated trials. Imagine for example flipping a unbiased (p=0.5) coin 5 (N) times? What's the number of heads you expect to observe? \n",
    "\n",
    "We can do one experiment. In the code below we ask exactly this question."
   ]
  },
  {
   "cell_type": "code",
   "execution_count": 162,
   "metadata": {},
   "outputs": [
    {
     "data": {
      "text/plain": [
       "array([2])"
      ]
     },
     "execution_count": 162,
     "metadata": {},
     "output_type": "execute_result"
    }
   ],
   "source": [
    "np.random.seed(seed=1)\n",
    "heads = binom.rvs(n=5, p=.5, size=1)\n",
    "heads"
   ]
  },
  {
   "cell_type": "markdown",
   "metadata": {},
   "source": [
    "This return 2, i.e. 2 heads over 5 trials. That's possible but of of course with each experiment this number can change. Let's therefore repeat this 10 times."
   ]
  },
  {
   "cell_type": "code",
   "execution_count": 193,
   "metadata": {},
   "outputs": [],
   "source": [
    "from scipy.stats import binom"
   ]
  },
  {
   "cell_type": "code",
   "execution_count": 194,
   "metadata": {},
   "outputs": [
    {
     "data": {
      "text/plain": [
       "array([2, 0, 3, 2, 2, 2, 2, 3, 2, 2])"
      ]
     },
     "execution_count": 194,
     "metadata": {},
     "output_type": "execute_result"
    }
   ],
   "source": [
    "np.random.seed(seed=2)\n",
    "heads = binom.rvs(n=5, p=.5, size=10)\n",
    "heads"
   ]
  },
  {
   "cell_type": "markdown",
   "metadata": {},
   "source": [
    "Each number represents the outcomes of tossing a coin five times. What we are interested in modelling is the relative number of ways each outcome occurs. "
   ]
  },
  {
   "cell_type": "code",
   "execution_count": 204,
   "metadata": {},
   "outputs": [],
   "source": [
    "np.random.seed(seed=2)\n",
    "heads = binom.rvs(n=5, p=.5, size=10000)"
   ]
  },
  {
   "cell_type": "code",
   "execution_count": 205,
   "metadata": {},
   "outputs": [
    {
     "data": {
      "text/plain": [
       "(array([2, 0, 3, 2, 2, 2, 2, 3, 2, 2]), 10000)"
      ]
     },
     "execution_count": 205,
     "metadata": {},
     "output_type": "execute_result"
    }
   ],
   "source": [
    "heads[:10], len(heads)"
   ]
  },
  {
   "cell_type": "code",
   "execution_count": 206,
   "metadata": {},
   "outputs": [
    {
     "data": {
      "text/plain": [
       "array([ 321, 1628, 3183, 2995, 1571,  302])"
      ]
     },
     "execution_count": 206,
     "metadata": {},
     "output_type": "execute_result"
    }
   ],
   "source": [
    "hist = np.histogram(heads,bins=range(0,7))[0]\n",
    "hist "
   ]
  },
  {
   "cell_type": "code",
   "execution_count": 207,
   "metadata": {},
   "outputs": [
    {
     "data": {
      "text/plain": [
       "array([0.0321, 0.1628, 0.3183, 0.2995, 0.1571, 0.0302])"
      ]
     },
     "execution_count": 207,
     "metadata": {},
     "output_type": "execute_result"
    }
   ],
   "source": [
    "relative_counts = hist / sum(hist)\n",
    "relative_counts"
   ]
  },
  {
   "cell_type": "code",
   "execution_count": 208,
   "metadata": {},
   "outputs": [
    {
     "data": {
      "text/plain": [
       "<matplotlib.axes._subplots.AxesSubplot at 0x139562ed0>"
      ]
     },
     "execution_count": 208,
     "metadata": {},
     "output_type": "execute_result"
    },
    {
     "data": {
      "image/png": "[encoded data removed]",
      "text/plain": [
       "<Figure size 432x288 with 1 Axes>"
      ]
     },
     "metadata": {},
     "output_type": "display_data"
    }
   ],
   "source": [
    "pd.Series(relative_counts).plot(kind='bar')"
   ]
  },
  {
   "cell_type": "markdown",
   "metadata": {},
   "source": [
    "The outcomes, heads, are counts which are binomially distributed with the same probability in each toss."
   ]
  },
  {
   "cell_type": "code",
   "execution_count": 209,
   "metadata": {},
   "outputs": [
    {
     "data": {
      "text/plain": [
       "0.3125"
      ]
     },
     "execution_count": 209,
     "metadata": {},
     "output_type": "execute_result"
    }
   ],
   "source": [
    "binom(n=5,p=.5).pmf(3)"
   ]
  },
  {
   "cell_type": "code",
   "execution_count": 210,
   "metadata": {},
   "outputs": [
    {
     "data": {
      "text/plain": [
       "<matplotlib.axes._subplots.AxesSubplot at 0x1395bb6d0>"
      ]
     },
     "execution_count": 210,
     "metadata": {},
     "output_type": "execute_result"
    },
    {
     "data": {
      "image/png": "[encoded data removed]",
      "text/plain": [
       "<Figure size 432x288 with 1 Axes>"
      ]
     },
     "metadata": {},
     "output_type": "display_data"
    }
   ],
   "source": [
    "pd.Series(binom(n=5,p=.5).pmf([0,1,2,3,4,5])).plot(kind='bar')"
   ]
  },
  {
   "cell_type": "markdown",
   "metadata": {},
   "source": [
    "Remember that in the OLS regression we simply modelling $y$ as linear combination of other intercepts and slope (or an extension thereof). This made the interpretation of the model more straightforward as the units and relations between predictor and response variables was easy to interpret."
   ]
  },
  {
   "cell_type": "markdown",
   "metadata": {},
   "source": [
    "This is different when using a Binomial. If we assume y arise from repeated trials, we can to model how $p$ varies in function of other variables, in other words \"the probability of a success is related to explanatory variables\" ([Wikipedia](https://en.wikipedia.org/wiki/Binomial_regression))."
   ]
  },
  {
   "cell_type": "markdown",
   "metadata": {},
   "source": [
    "$p$ however is a probability and always has to be between 0 and 1 by definition. We can not model at is a simple linear function as this a line is not guaranteed to adhere to these constriants.\n",
    "\n",
    "In other words we can not say $y = a + b*x$ because y can (and will) easily be negative or bigger than one."
   ]
  },
  {
   "cell_type": "markdown",
   "metadata": {},
   "source": [
    "To relate the probability $p_i$ to a linear function we have to do a small trick."
   ]
  },
  {
   "cell_type": "markdown",
   "metadata": {},
   "source": [
    "$y$ ~ Binomial($N$, $p_i$) \n",
    "\n",
    "logit($p_i$) = $a$ + $b$*$x_i$\n",
    "\n",
    "logit($p_i$) = log($p_i$ / (1 - $p_i$)) = $a$ + $b$*$x_i$\n",
    "\n",
    "$p_i$ = $exp(a + b*x_i) / 1 + exp(a + b*x_i)$"
   ]
  },
  {
   "cell_type": "markdown",
   "metadata": {},
   "source": [
    "### Gender bias in university admissions?\n",
    "\n",
    "aggregated binomial"
   ]
  },
  {
   "cell_type": "code",
   "execution_count": 45,
   "metadata": {},
   "outputs": [],
   "source": [
    "import pandas as pd\n",
    "import numpy as np\n",
    "import statsmodels.api as sm\n",
    "import statsmodels.formula.api as smf\n",
    "from scipy.special import expit as logistic\n",
    "import seaborn as sns\n",
    "sns.set()"
   ]
  },
  {
   "cell_type": "code",
   "execution_count": 46,
   "metadata": {},
   "outputs": [
    {
     "data": {
      "text/html": [
       "<div>\n",
       "<style scoped>\n",
       "    .dataframe tbody tr th:only-of-type {\n",
       "        vertical-align: middle;\n",
       "    }\n",
       "\n",
       "    .dataframe tbody tr th {\n",
       "        vertical-align: top;\n",
       "    }\n",
       "\n",
       "    .dataframe thead th {\n",
       "        text-align: right;\n",
       "    }\n",
       "</style>\n",
       "<table border=\"1\" class=\"dataframe\">\n",
       "  <thead>\n",
       "    <tr style=\"text-align: right;\">\n",
       "      <th></th>\n",
       "      <th>dept</th>\n",
       "      <th>applicant.gender</th>\n",
       "      <th>admit</th>\n",
       "      <th>reject</th>\n",
       "      <th>applications</th>\n",
       "    </tr>\n",
       "  </thead>\n",
       "  <tbody>\n",
       "    <tr>\n",
       "      <th>1</th>\n",
       "      <td>A</td>\n",
       "      <td>male</td>\n",
       "      <td>512</td>\n",
       "      <td>313</td>\n",
       "      <td>825</td>\n",
       "    </tr>\n",
       "    <tr>\n",
       "      <th>2</th>\n",
       "      <td>A</td>\n",
       "      <td>female</td>\n",
       "      <td>89</td>\n",
       "      <td>19</td>\n",
       "      <td>108</td>\n",
       "    </tr>\n",
       "    <tr>\n",
       "      <th>3</th>\n",
       "      <td>B</td>\n",
       "      <td>male</td>\n",
       "      <td>353</td>\n",
       "      <td>207</td>\n",
       "      <td>560</td>\n",
       "    </tr>\n",
       "    <tr>\n",
       "      <th>4</th>\n",
       "      <td>B</td>\n",
       "      <td>female</td>\n",
       "      <td>17</td>\n",
       "      <td>8</td>\n",
       "      <td>25</td>\n",
       "    </tr>\n",
       "    <tr>\n",
       "      <th>5</th>\n",
       "      <td>C</td>\n",
       "      <td>male</td>\n",
       "      <td>120</td>\n",
       "      <td>205</td>\n",
       "      <td>325</td>\n",
       "    </tr>\n",
       "  </tbody>\n",
       "</table>\n",
       "</div>"
      ],
      "text/plain": [
       "  dept applicant.gender  admit  reject  applications\n",
       "1    A             male    512     313           825\n",
       "2    A           female     89      19           108\n",
       "3    B             male    353     207           560\n",
       "4    B           female     17       8            25\n",
       "5    C             male    120     205           325"
      ]
     },
     "execution_count": 46,
     "metadata": {},
     "output_type": "execute_result"
    }
   ],
   "source": [
    "data = pd.read_csv('https://raw.githubusercontent.com/rmcelreath/rethinking/master/data/UCBadmit.csv',sep=';')\n",
    "data.head()"
   ]
  },
  {
   "cell_type": "code",
   "execution_count": 47,
   "metadata": {},
   "outputs": [],
   "source": [
    "data = data.rename({'applicant.gender':'gender'},axis=1)"
   ]
  },
  {
   "cell_type": "code",
   "execution_count": 57,
   "metadata": {},
   "outputs": [
    {
     "name": "stderr",
     "output_type": "stream",
     "text": [
      "/usr/local/lib/python3.7/site-packages/ipykernel_launcher.py:1: FutureWarning: Indexing with multiple keys (implicitly converted to a tuple of keys) will be deprecated, use a list instead.\n",
      "  \"\"\"Entry point for launching an IPython kernel.\n"
     ]
    }
   ],
   "source": [
    "by_gender = data.groupby('gender')['admit','applications'].sum()"
   ]
  },
  {
   "cell_type": "code",
   "execution_count": 59,
   "metadata": {},
   "outputs": [
    {
     "data": {
      "text/plain": [
       "<matplotlib.axes._subplots.AxesSubplot at 0x13271d190>"
      ]
     },
     "execution_count": 59,
     "metadata": {},
     "output_type": "execute_result"
    },
    {
     "data": {
      "image/png": "[encoded data removed]",
      "text/plain": [
       "<Figure size 432x288 with 1 Axes>"
      ]
     },
     "metadata": {},
     "output_type": "display_data"
    }
   ],
   "source": [
    "(by_gender['admit'] / by_gender['applications']).plot(kind='bar')"
   ]
  },
  {
   "cell_type": "code",
   "execution_count": 6,
   "metadata": {},
   "outputs": [
    {
     "data": {
      "text/html": [
       "<div>\n",
       "<style scoped>\n",
       "    .dataframe tbody tr th:only-of-type {\n",
       "        vertical-align: middle;\n",
       "    }\n",
       "\n",
       "    .dataframe tbody tr th {\n",
       "        vertical-align: top;\n",
       "    }\n",
       "\n",
       "    .dataframe thead th {\n",
       "        text-align: right;\n",
       "    }\n",
       "</style>\n",
       "<table border=\"1\" class=\"dataframe\">\n",
       "  <thead>\n",
       "    <tr style=\"text-align: right;\">\n",
       "      <th></th>\n",
       "      <th>dept</th>\n",
       "      <th>gender</th>\n",
       "      <th>admit</th>\n",
       "      <th>reject</th>\n",
       "      <th>applications</th>\n",
       "      <th>gid</th>\n",
       "      <th>did</th>\n",
       "    </tr>\n",
       "  </thead>\n",
       "  <tbody>\n",
       "    <tr>\n",
       "      <th>1</th>\n",
       "      <td>A</td>\n",
       "      <td>male</td>\n",
       "      <td>512</td>\n",
       "      <td>313</td>\n",
       "      <td>825</td>\n",
       "      <td>1</td>\n",
       "      <td>0</td>\n",
       "    </tr>\n",
       "    <tr>\n",
       "      <th>2</th>\n",
       "      <td>A</td>\n",
       "      <td>female</td>\n",
       "      <td>89</td>\n",
       "      <td>19</td>\n",
       "      <td>108</td>\n",
       "      <td>0</td>\n",
       "      <td>0</td>\n",
       "    </tr>\n",
       "    <tr>\n",
       "      <th>3</th>\n",
       "      <td>B</td>\n",
       "      <td>male</td>\n",
       "      <td>353</td>\n",
       "      <td>207</td>\n",
       "      <td>560</td>\n",
       "      <td>1</td>\n",
       "      <td>1</td>\n",
       "    </tr>\n",
       "    <tr>\n",
       "      <th>4</th>\n",
       "      <td>B</td>\n",
       "      <td>female</td>\n",
       "      <td>17</td>\n",
       "      <td>8</td>\n",
       "      <td>25</td>\n",
       "      <td>0</td>\n",
       "      <td>1</td>\n",
       "    </tr>\n",
       "    <tr>\n",
       "      <th>5</th>\n",
       "      <td>C</td>\n",
       "      <td>male</td>\n",
       "      <td>120</td>\n",
       "      <td>205</td>\n",
       "      <td>325</td>\n",
       "      <td>1</td>\n",
       "      <td>2</td>\n",
       "    </tr>\n",
       "  </tbody>\n",
       "</table>\n",
       "</div>"
      ],
      "text/plain": [
       "  dept  gender  admit  reject  applications  gid  did\n",
       "1    A    male    512     313           825    1    0\n",
       "2    A  female     89      19           108    0    0\n",
       "3    B    male    353     207           560    1    1\n",
       "4    B  female     17       8            25    0    1\n",
       "5    C    male    120     205           325    1    2"
      ]
     },
     "execution_count": 6,
     "metadata": {},
     "output_type": "execute_result"
    }
   ],
   "source": [
    "data['gid'] = pd.Categorical(data['gender']).codes \n",
    "data['did'] = pd.Categorical(data['dept']).codes \n",
    "data.head()"
   ]
  },
  {
   "cell_type": "code",
   "execution_count": 7,
   "metadata": {},
   "outputs": [
    {
     "name": "stdout",
     "output_type": "stream",
     "text": [
      "                  Generalized Linear Model Regression Results                  \n",
      "===============================================================================\n",
      "Dep. Variable:     ['admit', 'reject']   No. Observations:                   12\n",
      "Model:                             GLM   Df Residuals:                       10\n",
      "Model Family:                 Binomial   Df Model:                            1\n",
      "Link Function:                   logit   Scale:                          1.0000\n",
      "Method:                           IRLS   Log-Likelihood:                -426.27\n",
      "Date:                 Sat, 22 Jan 2022   Deviance:                       783.61\n",
      "Time:                         16:30:25   Pearson chi2:                     715.\n",
      "No. Iterations:                      4                                         \n",
      "Covariance Type:             nonrobust                                         \n",
      "===============================================================================\n",
      "                  coef    std err          z      P>|z|      [0.025      0.975]\n",
      "-------------------------------------------------------------------------------\n",
      "Intercept      -0.8305      0.051    -16.357      0.000      -0.930      -0.731\n",
      "C(gid)[T.1]     0.6104      0.064      9.553      0.000       0.485       0.736\n",
      "===============================================================================\n"
     ]
    }
   ],
   "source": [
    "formula = 'admit +  reject ~ C(gid)'\n",
    "mod1 = smf.glm(formula=formula, data=data, family=sm.families.Binomial()).fit()\n",
    "print(mod1.summary())"
   ]
  },
  {
   "cell_type": "code",
   "execution_count": 225,
   "metadata": {},
   "outputs": [
    {
     "data": {
      "text/plain": [
       "-0.22009999999999996"
      ]
     },
     "execution_count": 225,
     "metadata": {},
     "output_type": "execute_result"
    }
   ],
   "source": [
    "-0.8305 + 0.6104*1"
   ]
  },
  {
   "cell_type": "code",
   "execution_count": 227,
   "metadata": {},
   "outputs": [
    {
     "data": {
      "text/plain": [
       "0.4358313161754524"
      ]
     },
     "execution_count": 227,
     "metadata": {},
     "output_type": "execute_result"
    }
   ],
   "source": [
    "np.exp(-0.8305 + 0.6104*0)"
   ]
  },
  {
   "cell_type": "code",
   "execution_count": 228,
   "metadata": {},
   "outputs": [
    {
     "data": {
      "text/plain": [
       "0.8024385500951425"
      ]
     },
     "execution_count": 228,
     "metadata": {},
     "output_type": "execute_result"
    }
   ],
   "source": [
    "np.exp(-0.8305 + 0.6104*1)"
   ]
  },
  {
   "cell_type": "code",
   "execution_count": 211,
   "metadata": {},
   "outputs": [],
   "source": [
    "p_0 = np.exp(-0.8305 + 0.6104 * 0) / (1 + np.exp(-0.8305 + 0.6104 * 0) )\n",
    "p_1 = np.exp(-0.8305 + 0.6104 * 1) / (1 + np.exp(-0.8305 + 0.6104 * 1) )"
   ]
  },
  {
   "cell_type": "code",
   "execution_count": 212,
   "metadata": {},
   "outputs": [
    {
     "data": {
      "text/plain": [
       "(0.3035393581861365, 0.44519606510456927)"
      ]
     },
     "execution_count": 212,
     "metadata": {},
     "output_type": "execute_result"
    }
   ],
   "source": [
    "p_0,p_1"
   ]
  },
  {
   "cell_type": "code",
   "execution_count": 214,
   "metadata": {},
   "outputs": [
    {
     "data": {
      "text/plain": [
       "0.1416567069184328"
      ]
     },
     "execution_count": 214,
     "metadata": {},
     "output_type": "execute_result"
    }
   ],
   "source": [
    "p_1 - p_0 "
   ]
  },
  {
   "cell_type": "code",
   "execution_count": 213,
   "metadata": {},
   "outputs": [
    {
     "data": {
      "text/plain": [
       "array([0.44518766, 0.30354223, 0.44518766, 0.30354223, 0.44518766,\n",
       "       0.30354223, 0.44518766, 0.30354223, 0.44518766, 0.30354223,\n",
       "       0.44518766, 0.30354223])"
      ]
     },
     "execution_count": 213,
     "metadata": {},
     "output_type": "execute_result"
    }
   ],
   "source": [
    "mod2.predict()"
   ]
  },
  {
   "cell_type": "code",
   "execution_count": 216,
   "metadata": {},
   "outputs": [
    {
     "data": {
      "text/plain": [
       "0.1416567069184328"
      ]
     },
     "execution_count": 216,
     "metadata": {},
     "output_type": "execute_result"
    }
   ],
   "source": [
    "logistic(-0.8305 + 0.6104*1) - logistic(-0.8305 + 0.6104*0)"
   ]
  },
  {
   "cell_type": "code",
   "execution_count": 9,
   "metadata": {},
   "outputs": [
    {
     "data": {
      "text/html": [
       "<div>\n",
       "<style scoped>\n",
       "    .dataframe tbody tr th:only-of-type {\n",
       "        vertical-align: middle;\n",
       "    }\n",
       "\n",
       "    .dataframe tbody tr th {\n",
       "        vertical-align: top;\n",
       "    }\n",
       "\n",
       "    .dataframe thead th {\n",
       "        text-align: right;\n",
       "    }\n",
       "</style>\n",
       "<table border=\"1\" class=\"dataframe\">\n",
       "  <thead>\n",
       "    <tr style=\"text-align: right;\">\n",
       "      <th></th>\n",
       "      <th>admit</th>\n",
       "      <th>reject</th>\n",
       "      <th>applications</th>\n",
       "      <th>gid</th>\n",
       "      <th>did</th>\n",
       "      <th>dept_A</th>\n",
       "      <th>dept_B</th>\n",
       "      <th>dept_C</th>\n",
       "      <th>dept_D</th>\n",
       "      <th>dept_E</th>\n",
       "      <th>dept_F</th>\n",
       "      <th>gender_female</th>\n",
       "      <th>gender_male</th>\n",
       "    </tr>\n",
       "  </thead>\n",
       "  <tbody>\n",
       "    <tr>\n",
       "      <th>1</th>\n",
       "      <td>512</td>\n",
       "      <td>313</td>\n",
       "      <td>825</td>\n",
       "      <td>1</td>\n",
       "      <td>0</td>\n",
       "      <td>1</td>\n",
       "      <td>0</td>\n",
       "      <td>0</td>\n",
       "      <td>0</td>\n",
       "      <td>0</td>\n",
       "      <td>0</td>\n",
       "      <td>0</td>\n",
       "      <td>1</td>\n",
       "    </tr>\n",
       "    <tr>\n",
       "      <th>2</th>\n",
       "      <td>89</td>\n",
       "      <td>19</td>\n",
       "      <td>108</td>\n",
       "      <td>0</td>\n",
       "      <td>0</td>\n",
       "      <td>1</td>\n",
       "      <td>0</td>\n",
       "      <td>0</td>\n",
       "      <td>0</td>\n",
       "      <td>0</td>\n",
       "      <td>0</td>\n",
       "      <td>1</td>\n",
       "      <td>0</td>\n",
       "    </tr>\n",
       "    <tr>\n",
       "      <th>3</th>\n",
       "      <td>353</td>\n",
       "      <td>207</td>\n",
       "      <td>560</td>\n",
       "      <td>1</td>\n",
       "      <td>1</td>\n",
       "      <td>0</td>\n",
       "      <td>1</td>\n",
       "      <td>0</td>\n",
       "      <td>0</td>\n",
       "      <td>0</td>\n",
       "      <td>0</td>\n",
       "      <td>0</td>\n",
       "      <td>1</td>\n",
       "    </tr>\n",
       "    <tr>\n",
       "      <th>4</th>\n",
       "      <td>17</td>\n",
       "      <td>8</td>\n",
       "      <td>25</td>\n",
       "      <td>0</td>\n",
       "      <td>1</td>\n",
       "      <td>0</td>\n",
       "      <td>1</td>\n",
       "      <td>0</td>\n",
       "      <td>0</td>\n",
       "      <td>0</td>\n",
       "      <td>0</td>\n",
       "      <td>1</td>\n",
       "      <td>0</td>\n",
       "    </tr>\n",
       "    <tr>\n",
       "      <th>5</th>\n",
       "      <td>120</td>\n",
       "      <td>205</td>\n",
       "      <td>325</td>\n",
       "      <td>1</td>\n",
       "      <td>2</td>\n",
       "      <td>0</td>\n",
       "      <td>0</td>\n",
       "      <td>1</td>\n",
       "      <td>0</td>\n",
       "      <td>0</td>\n",
       "      <td>0</td>\n",
       "      <td>0</td>\n",
       "      <td>1</td>\n",
       "    </tr>\n",
       "    <tr>\n",
       "      <th>6</th>\n",
       "      <td>202</td>\n",
       "      <td>391</td>\n",
       "      <td>593</td>\n",
       "      <td>0</td>\n",
       "      <td>2</td>\n",
       "      <td>0</td>\n",
       "      <td>0</td>\n",
       "      <td>1</td>\n",
       "      <td>0</td>\n",
       "      <td>0</td>\n",
       "      <td>0</td>\n",
       "      <td>1</td>\n",
       "      <td>0</td>\n",
       "    </tr>\n",
       "    <tr>\n",
       "      <th>7</th>\n",
       "      <td>138</td>\n",
       "      <td>279</td>\n",
       "      <td>417</td>\n",
       "      <td>1</td>\n",
       "      <td>3</td>\n",
       "      <td>0</td>\n",
       "      <td>0</td>\n",
       "      <td>0</td>\n",
       "      <td>1</td>\n",
       "      <td>0</td>\n",
       "      <td>0</td>\n",
       "      <td>0</td>\n",
       "      <td>1</td>\n",
       "    </tr>\n",
       "    <tr>\n",
       "      <th>8</th>\n",
       "      <td>131</td>\n",
       "      <td>244</td>\n",
       "      <td>375</td>\n",
       "      <td>0</td>\n",
       "      <td>3</td>\n",
       "      <td>0</td>\n",
       "      <td>0</td>\n",
       "      <td>0</td>\n",
       "      <td>1</td>\n",
       "      <td>0</td>\n",
       "      <td>0</td>\n",
       "      <td>1</td>\n",
       "      <td>0</td>\n",
       "    </tr>\n",
       "    <tr>\n",
       "      <th>9</th>\n",
       "      <td>53</td>\n",
       "      <td>138</td>\n",
       "      <td>191</td>\n",
       "      <td>1</td>\n",
       "      <td>4</td>\n",
       "      <td>0</td>\n",
       "      <td>0</td>\n",
       "      <td>0</td>\n",
       "      <td>0</td>\n",
       "      <td>1</td>\n",
       "      <td>0</td>\n",
       "      <td>0</td>\n",
       "      <td>1</td>\n",
       "    </tr>\n",
       "    <tr>\n",
       "      <th>10</th>\n",
       "      <td>94</td>\n",
       "      <td>299</td>\n",
       "      <td>393</td>\n",
       "      <td>0</td>\n",
       "      <td>4</td>\n",
       "      <td>0</td>\n",
       "      <td>0</td>\n",
       "      <td>0</td>\n",
       "      <td>0</td>\n",
       "      <td>1</td>\n",
       "      <td>0</td>\n",
       "      <td>1</td>\n",
       "      <td>0</td>\n",
       "    </tr>\n",
       "    <tr>\n",
       "      <th>11</th>\n",
       "      <td>22</td>\n",
       "      <td>351</td>\n",
       "      <td>373</td>\n",
       "      <td>1</td>\n",
       "      <td>5</td>\n",
       "      <td>0</td>\n",
       "      <td>0</td>\n",
       "      <td>0</td>\n",
       "      <td>0</td>\n",
       "      <td>0</td>\n",
       "      <td>1</td>\n",
       "      <td>0</td>\n",
       "      <td>1</td>\n",
       "    </tr>\n",
       "    <tr>\n",
       "      <th>12</th>\n",
       "      <td>24</td>\n",
       "      <td>317</td>\n",
       "      <td>341</td>\n",
       "      <td>0</td>\n",
       "      <td>5</td>\n",
       "      <td>0</td>\n",
       "      <td>0</td>\n",
       "      <td>0</td>\n",
       "      <td>0</td>\n",
       "      <td>0</td>\n",
       "      <td>1</td>\n",
       "      <td>1</td>\n",
       "      <td>0</td>\n",
       "    </tr>\n",
       "  </tbody>\n",
       "</table>\n",
       "</div>"
      ],
      "text/plain": [
       "    admit  reject  applications  gid  did  dept_A  dept_B  dept_C  dept_D  \\\n",
       "1     512     313           825    1    0       1       0       0       0   \n",
       "2      89      19           108    0    0       1       0       0       0   \n",
       "3     353     207           560    1    1       0       1       0       0   \n",
       "4      17       8            25    0    1       0       1       0       0   \n",
       "5     120     205           325    1    2       0       0       1       0   \n",
       "6     202     391           593    0    2       0       0       1       0   \n",
       "7     138     279           417    1    3       0       0       0       1   \n",
       "8     131     244           375    0    3       0       0       0       1   \n",
       "9      53     138           191    1    4       0       0       0       0   \n",
       "10     94     299           393    0    4       0       0       0       0   \n",
       "11     22     351           373    1    5       0       0       0       0   \n",
       "12     24     317           341    0    5       0       0       0       0   \n",
       "\n",
       "    dept_E  dept_F  gender_female  gender_male  \n",
       "1        0       0              0            1  \n",
       "2        0       0              1            0  \n",
       "3        0       0              0            1  \n",
       "4        0       0              1            0  \n",
       "5        0       0              0            1  \n",
       "6        0       0              1            0  \n",
       "7        0       0              0            1  \n",
       "8        0       0              1            0  \n",
       "9        1       0              0            1  \n",
       "10       1       0              1            0  \n",
       "11       0       1              0            1  \n",
       "12       0       1              1            0  "
      ]
     },
     "execution_count": 9,
     "metadata": {},
     "output_type": "execute_result"
    }
   ],
   "source": [
    "data_dummies = pd.get_dummies(data)\n",
    "data_dummies"
   ]
  },
  {
   "cell_type": "code",
   "execution_count": 10,
   "metadata": {},
   "outputs": [
    {
     "name": "stdout",
     "output_type": "stream",
     "text": [
      "                  Generalized Linear Model Regression Results                  \n",
      "===============================================================================\n",
      "Dep. Variable:     ['admit', 'reject']   No. Observations:                   12\n",
      "Model:                             GLM   Df Residuals:                       10\n",
      "Model Family:                 Binomial   Df Model:                            1\n",
      "Link Function:                   logit   Scale:                          1.0000\n",
      "Method:                           IRLS   Log-Likelihood:                -426.27\n",
      "Date:                 Sat, 22 Jan 2022   Deviance:                       783.61\n",
      "Time:                         16:30:26   Pearson chi2:                     715.\n",
      "No. Iterations:                      7                                         \n",
      "Covariance Type:             nonrobust                                         \n",
      "=================================================================================\n",
      "                    coef    std err          z      P>|z|      [0.025      0.975]\n",
      "---------------------------------------------------------------------------------\n",
      "Intercept        -0.3502      0.021    -16.443      0.000      -0.392      -0.308\n",
      "gender_female    -0.4803      0.036    -13.255      0.000      -0.551      -0.409\n",
      "gender_male       0.1301      0.031      4.209      0.000       0.070       0.191\n",
      "=================================================================================\n"
     ]
    }
   ],
   "source": [
    "formula = 'admit +  reject ~ gender_female + gender_male'\n",
    "mod2 = smf.glm(formula=formula, data=data_dummies, family=sm.families.Binomial()).fit()\n",
    "print(mod2.summary())"
   ]
  },
  {
   "cell_type": "code",
   "execution_count": 217,
   "metadata": {},
   "outputs": [
    {
     "data": {
      "text/plain": [
       "0.1416567069184328"
      ]
     },
     "execution_count": 217,
     "metadata": {},
     "output_type": "execute_result"
    }
   ],
   "source": [
    "logistic(-0.3502 + 0.1301) - logistic(-0.3502 + -0.4803) "
   ]
  },
  {
   "cell_type": "code",
   "execution_count": 11,
   "metadata": {},
   "outputs": [
    {
     "data": {
      "text/plain": [
       "<matplotlib.axes._subplots.AxesSubplot at 0x12fe059d0>"
      ]
     },
     "execution_count": 11,
     "metadata": {},
     "output_type": "execute_result"
    },
    {
     "data": {
      "image/png": "[encoded data removed]",
      "text/plain": [
       "<Figure size 864x432 with 1 Axes>"
      ]
     },
     "metadata": {
      "needs_background": "light"
     },
     "output_type": "display_data"
    }
   ],
   "source": [
    "data['colname'] = data.apply(lambda x: x.dept + '_' + x.gender, axis=1)\n",
    "data.set_index('colname',inplace=True)\n",
    "data['ratio_obs'] = (data['admit'] / data['applications'])\n",
    "data['ratio_pred'] = mod2.predict()\n",
    "data[['ratio_obs','ratio_pred']].plot(kind='bar',figsize=(12,6),rot=90)"
   ]
  },
  {
   "cell_type": "code",
   "execution_count": 16,
   "metadata": {},
   "outputs": [
    {
     "data": {
      "text/html": [
       "<div>\n",
       "<style scoped>\n",
       "    .dataframe tbody tr th:only-of-type {\n",
       "        vertical-align: middle;\n",
       "    }\n",
       "\n",
       "    .dataframe tbody tr th {\n",
       "        vertical-align: top;\n",
       "    }\n",
       "\n",
       "    .dataframe thead th {\n",
       "        text-align: right;\n",
       "    }\n",
       "</style>\n",
       "<table border=\"1\" class=\"dataframe\">\n",
       "  <thead>\n",
       "    <tr style=\"text-align: right;\">\n",
       "      <th></th>\n",
       "      <th>admit</th>\n",
       "      <th>reject</th>\n",
       "      <th>applications</th>\n",
       "      <th>gid</th>\n",
       "      <th>did</th>\n",
       "      <th>dept_A</th>\n",
       "      <th>dept_B</th>\n",
       "      <th>dept_C</th>\n",
       "      <th>dept_D</th>\n",
       "      <th>dept_E</th>\n",
       "      <th>dept_F</th>\n",
       "      <th>gender_female</th>\n",
       "      <th>gender_male</th>\n",
       "    </tr>\n",
       "  </thead>\n",
       "  <tbody>\n",
       "    <tr>\n",
       "      <th>1</th>\n",
       "      <td>512</td>\n",
       "      <td>313</td>\n",
       "      <td>825</td>\n",
       "      <td>1</td>\n",
       "      <td>0</td>\n",
       "      <td>1</td>\n",
       "      <td>0</td>\n",
       "      <td>0</td>\n",
       "      <td>0</td>\n",
       "      <td>0</td>\n",
       "      <td>0</td>\n",
       "      <td>0</td>\n",
       "      <td>1</td>\n",
       "    </tr>\n",
       "    <tr>\n",
       "      <th>2</th>\n",
       "      <td>89</td>\n",
       "      <td>19</td>\n",
       "      <td>108</td>\n",
       "      <td>0</td>\n",
       "      <td>0</td>\n",
       "      <td>1</td>\n",
       "      <td>0</td>\n",
       "      <td>0</td>\n",
       "      <td>0</td>\n",
       "      <td>0</td>\n",
       "      <td>0</td>\n",
       "      <td>1</td>\n",
       "      <td>0</td>\n",
       "    </tr>\n",
       "    <tr>\n",
       "      <th>3</th>\n",
       "      <td>353</td>\n",
       "      <td>207</td>\n",
       "      <td>560</td>\n",
       "      <td>1</td>\n",
       "      <td>1</td>\n",
       "      <td>0</td>\n",
       "      <td>1</td>\n",
       "      <td>0</td>\n",
       "      <td>0</td>\n",
       "      <td>0</td>\n",
       "      <td>0</td>\n",
       "      <td>0</td>\n",
       "      <td>1</td>\n",
       "    </tr>\n",
       "    <tr>\n",
       "      <th>4</th>\n",
       "      <td>17</td>\n",
       "      <td>8</td>\n",
       "      <td>25</td>\n",
       "      <td>0</td>\n",
       "      <td>1</td>\n",
       "      <td>0</td>\n",
       "      <td>1</td>\n",
       "      <td>0</td>\n",
       "      <td>0</td>\n",
       "      <td>0</td>\n",
       "      <td>0</td>\n",
       "      <td>1</td>\n",
       "      <td>0</td>\n",
       "    </tr>\n",
       "    <tr>\n",
       "      <th>5</th>\n",
       "      <td>120</td>\n",
       "      <td>205</td>\n",
       "      <td>325</td>\n",
       "      <td>1</td>\n",
       "      <td>2</td>\n",
       "      <td>0</td>\n",
       "      <td>0</td>\n",
       "      <td>1</td>\n",
       "      <td>0</td>\n",
       "      <td>0</td>\n",
       "      <td>0</td>\n",
       "      <td>0</td>\n",
       "      <td>1</td>\n",
       "    </tr>\n",
       "    <tr>\n",
       "      <th>6</th>\n",
       "      <td>202</td>\n",
       "      <td>391</td>\n",
       "      <td>593</td>\n",
       "      <td>0</td>\n",
       "      <td>2</td>\n",
       "      <td>0</td>\n",
       "      <td>0</td>\n",
       "      <td>1</td>\n",
       "      <td>0</td>\n",
       "      <td>0</td>\n",
       "      <td>0</td>\n",
       "      <td>1</td>\n",
       "      <td>0</td>\n",
       "    </tr>\n",
       "    <tr>\n",
       "      <th>7</th>\n",
       "      <td>138</td>\n",
       "      <td>279</td>\n",
       "      <td>417</td>\n",
       "      <td>1</td>\n",
       "      <td>3</td>\n",
       "      <td>0</td>\n",
       "      <td>0</td>\n",
       "      <td>0</td>\n",
       "      <td>1</td>\n",
       "      <td>0</td>\n",
       "      <td>0</td>\n",
       "      <td>0</td>\n",
       "      <td>1</td>\n",
       "    </tr>\n",
       "    <tr>\n",
       "      <th>8</th>\n",
       "      <td>131</td>\n",
       "      <td>244</td>\n",
       "      <td>375</td>\n",
       "      <td>0</td>\n",
       "      <td>3</td>\n",
       "      <td>0</td>\n",
       "      <td>0</td>\n",
       "      <td>0</td>\n",
       "      <td>1</td>\n",
       "      <td>0</td>\n",
       "      <td>0</td>\n",
       "      <td>1</td>\n",
       "      <td>0</td>\n",
       "    </tr>\n",
       "    <tr>\n",
       "      <th>9</th>\n",
       "      <td>53</td>\n",
       "      <td>138</td>\n",
       "      <td>191</td>\n",
       "      <td>1</td>\n",
       "      <td>4</td>\n",
       "      <td>0</td>\n",
       "      <td>0</td>\n",
       "      <td>0</td>\n",
       "      <td>0</td>\n",
       "      <td>1</td>\n",
       "      <td>0</td>\n",
       "      <td>0</td>\n",
       "      <td>1</td>\n",
       "    </tr>\n",
       "    <tr>\n",
       "      <th>10</th>\n",
       "      <td>94</td>\n",
       "      <td>299</td>\n",
       "      <td>393</td>\n",
       "      <td>0</td>\n",
       "      <td>4</td>\n",
       "      <td>0</td>\n",
       "      <td>0</td>\n",
       "      <td>0</td>\n",
       "      <td>0</td>\n",
       "      <td>1</td>\n",
       "      <td>0</td>\n",
       "      <td>1</td>\n",
       "      <td>0</td>\n",
       "    </tr>\n",
       "    <tr>\n",
       "      <th>11</th>\n",
       "      <td>22</td>\n",
       "      <td>351</td>\n",
       "      <td>373</td>\n",
       "      <td>1</td>\n",
       "      <td>5</td>\n",
       "      <td>0</td>\n",
       "      <td>0</td>\n",
       "      <td>0</td>\n",
       "      <td>0</td>\n",
       "      <td>0</td>\n",
       "      <td>1</td>\n",
       "      <td>0</td>\n",
       "      <td>1</td>\n",
       "    </tr>\n",
       "    <tr>\n",
       "      <th>12</th>\n",
       "      <td>24</td>\n",
       "      <td>317</td>\n",
       "      <td>341</td>\n",
       "      <td>0</td>\n",
       "      <td>5</td>\n",
       "      <td>0</td>\n",
       "      <td>0</td>\n",
       "      <td>0</td>\n",
       "      <td>0</td>\n",
       "      <td>0</td>\n",
       "      <td>1</td>\n",
       "      <td>1</td>\n",
       "      <td>0</td>\n",
       "    </tr>\n",
       "  </tbody>\n",
       "</table>\n",
       "</div>"
      ],
      "text/plain": [
       "    admit  reject  applications  gid  did  dept_A  dept_B  dept_C  dept_D  \\\n",
       "1     512     313           825    1    0       1       0       0       0   \n",
       "2      89      19           108    0    0       1       0       0       0   \n",
       "3     353     207           560    1    1       0       1       0       0   \n",
       "4      17       8            25    0    1       0       1       0       0   \n",
       "5     120     205           325    1    2       0       0       1       0   \n",
       "6     202     391           593    0    2       0       0       1       0   \n",
       "7     138     279           417    1    3       0       0       0       1   \n",
       "8     131     244           375    0    3       0       0       0       1   \n",
       "9      53     138           191    1    4       0       0       0       0   \n",
       "10     94     299           393    0    4       0       0       0       0   \n",
       "11     22     351           373    1    5       0       0       0       0   \n",
       "12     24     317           341    0    5       0       0       0       0   \n",
       "\n",
       "    dept_E  dept_F  gender_female  gender_male  \n",
       "1        0       0              0            1  \n",
       "2        0       0              1            0  \n",
       "3        0       0              0            1  \n",
       "4        0       0              1            0  \n",
       "5        0       0              0            1  \n",
       "6        0       0              1            0  \n",
       "7        0       0              0            1  \n",
       "8        0       0              1            0  \n",
       "9        1       0              0            1  \n",
       "10       1       0              1            0  \n",
       "11       0       1              0            1  \n",
       "12       0       1              1            0  "
      ]
     },
     "execution_count": 16,
     "metadata": {},
     "output_type": "execute_result"
    }
   ],
   "source": [
    "data['addm_ratio'] = data['admit'] / data['applications'] \n",
    "sns.barplot(x='dept',y='addm_ratio', hue=\"gender\", data= data)"
   ]
  },
  {
   "cell_type": "code",
   "execution_count": 18,
   "metadata": {},
   "outputs": [
    {
     "name": "stdout",
     "output_type": "stream",
     "text": [
      "                  Generalized Linear Model Regression Results                  \n",
      "===============================================================================\n",
      "Dep. Variable:     ['admit', 'reject']   No. Observations:                   12\n",
      "Model:                             GLM   Df Residuals:                        5\n",
      "Model Family:                 Binomial   Df Model:                            6\n",
      "Link Function:                   logit   Scale:                          1.0000\n",
      "Method:                           IRLS   Log-Likelihood:                -44.572\n",
      "Date:                 Sat, 22 Jan 2022   Deviance:                       20.204\n",
      "Time:                         16:31:36   Pearson chi2:                     18.8\n",
      "No. Iterations:                      6                                         \n",
      "Covariance Type:             nonrobust                                         \n",
      "=================================================================================\n",
      "                    coef    std err          z      P>|z|      [0.025      0.975]\n",
      "---------------------------------------------------------------------------------\n",
      "Intercept         0.4213      0.050      8.402      0.000       0.323       0.520\n",
      "C(did)[T.1]      -0.0434      0.110     -0.395      0.693      -0.259       0.172\n",
      "C(did)[T.2]      -1.2626      0.107    -11.841      0.000      -1.472      -1.054\n",
      "C(did)[T.3]      -1.2946      0.106    -12.234      0.000      -1.502      -1.087\n",
      "C(did)[T.4]      -1.7393      0.126    -13.792      0.000      -1.986      -1.492\n",
      "C(did)[T.5]      -3.3065      0.170    -19.452      0.000      -3.640      -2.973\n",
      "gender_female     0.2606      0.056      4.676      0.000       0.151       0.370\n",
      "gender_male       0.1607      0.038      4.267      0.000       0.087       0.235\n",
      "=================================================================================\n"
     ]
    }
   ],
   "source": [
    "formula = 'admit +  reject ~ gender_female + gender_male + C(did)'\n",
    "mod3 = smf.glm(formula=formula, data=data_dummies, family=sm.families.Binomial()).fit()\n",
    "print(mod3.summary())"
   ]
  },
  {
   "cell_type": "code",
   "execution_count": 22,
   "metadata": {},
   "outputs": [
    {
     "data": {
      "text/plain": [
       "0.1"
      ]
     },
     "execution_count": 22,
     "metadata": {},
     "output_type": "execute_result"
    }
   ],
   "source": [
    "round(0.2606 - 0.1607,1)"
   ]
  },
  {
   "cell_type": "code",
   "execution_count": 23,
   "metadata": {},
   "outputs": [
    {
     "data": {
      "text/plain": [
       "0.02"
      ]
     },
     "execution_count": 23,
     "metadata": {},
     "output_type": "execute_result"
    }
   ],
   "source": [
    "round(logistic(0.2606) - logistic(0.1607),2)"
   ]
  },
  {
   "cell_type": "code",
   "execution_count": 24,
   "metadata": {},
   "outputs": [
    {
     "data": {
      "text/plain": [
       "<matplotlib.axes._subplots.AxesSubplot at 0x131cffcd0>"
      ]
     },
     "execution_count": 24,
     "metadata": {},
     "output_type": "execute_result"
    },
    {
     "data": {
      "image/png": "[encoded data removed]",
      "text/plain": [
       "<Figure size 864x432 with 1 Axes>"
      ]
     },
     "metadata": {
      "needs_background": "light"
     },
     "output_type": "display_data"
    }
   ],
   "source": [
    "\n",
    "data['ratio_pred'] = mod3.predict()\n",
    "data[['ratio_obs','ratio_pred']].plot(kind='bar',figsize=(12,6),rot=90)"
   ]
  },
  {
   "cell_type": "markdown",
   "metadata": {},
   "source": [
    "## Gender and parliamentary questions"
   ]
  },
  {
   "cell_type": "code",
   "execution_count": null,
   "metadata": {},
   "outputs": [],
   "source": [
    "#!pip3 install seaborn==0.11.2"
   ]
  },
  {
   "cell_type": "code",
   "execution_count": 60,
   "metadata": {},
   "outputs": [],
   "source": [
    "df = pd.read_csv('data/questions/parl_questions.csv',index_col=0,\n",
    "                 parse_dates=[\"dob\",'date tabled'],\n",
    "                date_parser= lambda x: pd.to_datetime(x, format=\"%Y-%m-%\"))"
   ]
  },
  {
   "cell_type": "code",
   "execution_count": null,
   "metadata": {},
   "outputs": [],
   "source": [
    "df.shape"
   ]
  },
  {
   "cell_type": "code",
   "execution_count": 66,
   "metadata": {},
   "outputs": [
    {
     "data": {
      "text/plain": [
       "Index(['uri', 'answer date', 'answer date time', 'answering body',\n",
       "       'commons question time > question type', 'location > pref label',\n",
       "       'question status', 'ballot number', 'date tabled', 'modified',\n",
       "       'question text', 'tabling member > label', 'tabling member > uri',\n",
       "       'tabling member > constituency > pref label', 'tabling member printed',\n",
       "       'uin', 'tabling member', 'gender', 'party', 'uri_mp', 'dob', 'uri_dob'],\n",
       "      dtype='object')"
      ]
     },
     "execution_count": 66,
     "metadata": {},
     "output_type": "execute_result"
    }
   ],
   "source": [
    "df.columns"
   ]
  },
  {
   "cell_type": "code",
   "execution_count": 61,
   "metadata": {},
   "outputs": [
    {
     "data": {
      "text/html": [
       "<div>\n",
       "<style scoped>\n",
       "    .dataframe tbody tr th:only-of-type {\n",
       "        vertical-align: middle;\n",
       "    }\n",
       "\n",
       "    .dataframe tbody tr th {\n",
       "        vertical-align: top;\n",
       "    }\n",
       "\n",
       "    .dataframe thead th {\n",
       "        text-align: right;\n",
       "    }\n",
       "</style>\n",
       "<table border=\"1\" class=\"dataframe\">\n",
       "  <thead>\n",
       "    <tr style=\"text-align: right;\">\n",
       "      <th></th>\n",
       "      <th>uri</th>\n",
       "      <th>answer date</th>\n",
       "      <th>answer date time</th>\n",
       "      <th>answering body</th>\n",
       "      <th>commons question time &gt; question type</th>\n",
       "      <th>location &gt; pref label</th>\n",
       "      <th>question status</th>\n",
       "      <th>ballot number</th>\n",
       "      <th>date tabled</th>\n",
       "      <th>modified</th>\n",
       "      <th>...</th>\n",
       "      <th>tabling member &gt; uri</th>\n",
       "      <th>tabling member &gt; constituency &gt; pref label</th>\n",
       "      <th>tabling member printed</th>\n",
       "      <th>uin</th>\n",
       "      <th>tabling member</th>\n",
       "      <th>gender</th>\n",
       "      <th>party</th>\n",
       "      <th>uri_mp</th>\n",
       "      <th>dob</th>\n",
       "      <th>uri_dob</th>\n",
       "    </tr>\n",
       "  </thead>\n",
       "  <tbody>\n",
       "    <tr>\n",
       "      <th>0</th>\n",
       "      <td>http://data.parliament.uk/resources/1388433</td>\n",
       "      <td>2022-01-05</td>\n",
       "      <td>2022-01-05T00:00:00</td>\n",
       "      <td>Prime Minister</td>\n",
       "      <td>Substantive</td>\n",
       "      <td>House of Commons chamber</td>\n",
       "      <td>Tabled</td>\n",
       "      <td>5</td>\n",
       "      <td>2021-12-16</td>\n",
       "      <td>2021-12-16T14:51:06.915</td>\n",
       "      <td>...</td>\n",
       "      <td>http://data.parliament.uk/members/1601</td>\n",
       "      <td>Bromley and Chislehurst</td>\n",
       "      <td>Sir Robert Neill</td>\n",
       "      <td>904884.0</td>\n",
       "      <td>NaN</td>\n",
       "      <td>Male</td>\n",
       "      <td>Conservative</td>\n",
       "      <td>http://data.parliament.uk/members/1601</td>\n",
       "      <td>1952-06-24</td>\n",
       "      <td>http://data.parliament.uk/members/1601</td>\n",
       "    </tr>\n",
       "    <tr>\n",
       "      <th>1</th>\n",
       "      <td>http://data.parliament.uk/resources/1386494</td>\n",
       "      <td>2021-12-15</td>\n",
       "      <td>2021-12-15T00:00:00</td>\n",
       "      <td>Prime Minister</td>\n",
       "      <td>Substantive</td>\n",
       "      <td>House of Commons chamber</td>\n",
       "      <td>Tabled</td>\n",
       "      <td>9</td>\n",
       "      <td>2021-12-09</td>\n",
       "      <td>2021-12-15T09:09:06.008</td>\n",
       "      <td>...</td>\n",
       "      <td>http://data.parliament.uk/members/1601</td>\n",
       "      <td>Bromley and Chislehurst</td>\n",
       "      <td>Sir Robert Neill</td>\n",
       "      <td>904812.0</td>\n",
       "      <td>NaN</td>\n",
       "      <td>Male</td>\n",
       "      <td>Conservative</td>\n",
       "      <td>http://data.parliament.uk/members/1601</td>\n",
       "      <td>1952-06-24</td>\n",
       "      <td>http://data.parliament.uk/members/1601</td>\n",
       "    </tr>\n",
       "    <tr>\n",
       "      <th>2</th>\n",
       "      <td>http://data.parliament.uk/resources/1379254</td>\n",
       "      <td>2021-11-23</td>\n",
       "      <td>2021-11-23T00:00:00</td>\n",
       "      <td>Department of Health and Social Care</td>\n",
       "      <td>Topical</td>\n",
       "      <td>House of Commons chamber</td>\n",
       "      <td>Tabled</td>\n",
       "      <td>10</td>\n",
       "      <td>2021-11-17</td>\n",
       "      <td>2021-11-23T13:44:07.090</td>\n",
       "      <td>...</td>\n",
       "      <td>http://data.parliament.uk/members/1601</td>\n",
       "      <td>Bromley and Chislehurst</td>\n",
       "      <td>Sir Robert Neill</td>\n",
       "      <td>904329.0</td>\n",
       "      <td>NaN</td>\n",
       "      <td>Male</td>\n",
       "      <td>Conservative</td>\n",
       "      <td>http://data.parliament.uk/members/1601</td>\n",
       "      <td>1952-06-24</td>\n",
       "      <td>http://data.parliament.uk/members/1601</td>\n",
       "    </tr>\n",
       "    <tr>\n",
       "      <th>3</th>\n",
       "      <td>http://data.parliament.uk/resources/1351922</td>\n",
       "      <td>2021-09-06</td>\n",
       "      <td>2021-09-06T00:00:00</td>\n",
       "      <td>Department for Education</td>\n",
       "      <td>Substantive</td>\n",
       "      <td>House of Commons chamber</td>\n",
       "      <td>Tabled</td>\n",
       "      <td>9</td>\n",
       "      <td>2021-08-31</td>\n",
       "      <td>2021-09-06T15:32:44.687</td>\n",
       "      <td>...</td>\n",
       "      <td>http://data.parliament.uk/members/1601</td>\n",
       "      <td>Bromley and Chislehurst</td>\n",
       "      <td>Sir Robert Neill</td>\n",
       "      <td>903323.0</td>\n",
       "      <td>NaN</td>\n",
       "      <td>Male</td>\n",
       "      <td>Conservative</td>\n",
       "      <td>http://data.parliament.uk/members/1601</td>\n",
       "      <td>1952-06-24</td>\n",
       "      <td>http://data.parliament.uk/members/1601</td>\n",
       "    </tr>\n",
       "    <tr>\n",
       "      <th>4</th>\n",
       "      <td>http://data.parliament.uk/resources/1347152</td>\n",
       "      <td>2021-07-22</td>\n",
       "      <td>2021-07-22T00:00:00</td>\n",
       "      <td>Department for Environment, Food and Rural Aff...</td>\n",
       "      <td>Substantive</td>\n",
       "      <td>House of Commons chamber</td>\n",
       "      <td>Tabled</td>\n",
       "      <td>13</td>\n",
       "      <td>2021-07-15</td>\n",
       "      <td>2021-08-18T17:06:49.789</td>\n",
       "      <td>...</td>\n",
       "      <td>http://data.parliament.uk/members/1601</td>\n",
       "      <td>Bromley and Chislehurst</td>\n",
       "      <td>Sir Robert Neill</td>\n",
       "      <td>903142.0</td>\n",
       "      <td>NaN</td>\n",
       "      <td>Male</td>\n",
       "      <td>Conservative</td>\n",
       "      <td>http://data.parliament.uk/members/1601</td>\n",
       "      <td>1952-06-24</td>\n",
       "      <td>http://data.parliament.uk/members/1601</td>\n",
       "    </tr>\n",
       "  </tbody>\n",
       "</table>\n",
       "<p>5 rows × 22 columns</p>\n",
       "</div>"
      ],
      "text/plain": [
       "                                           uri answer date  \\\n",
       "0  http://data.parliament.uk/resources/1388433  2022-01-05   \n",
       "1  http://data.parliament.uk/resources/1386494  2021-12-15   \n",
       "2  http://data.parliament.uk/resources/1379254  2021-11-23   \n",
       "3  http://data.parliament.uk/resources/1351922  2021-09-06   \n",
       "4  http://data.parliament.uk/resources/1347152  2021-07-22   \n",
       "\n",
       "      answer date time                                     answering body  \\\n",
       "0  2022-01-05T00:00:00                                     Prime Minister   \n",
       "1  2021-12-15T00:00:00                                     Prime Minister   \n",
       "2  2021-11-23T00:00:00               Department of Health and Social Care   \n",
       "3  2021-09-06T00:00:00                           Department for Education   \n",
       "4  2021-07-22T00:00:00  Department for Environment, Food and Rural Aff...   \n",
       "\n",
       "  commons question time > question type     location > pref label  \\\n",
       "0                           Substantive  House of Commons chamber   \n",
       "1                           Substantive  House of Commons chamber   \n",
       "2                               Topical  House of Commons chamber   \n",
       "3                           Substantive  House of Commons chamber   \n",
       "4                           Substantive  House of Commons chamber   \n",
       "\n",
       "  question status  ballot number date tabled                 modified  ...  \\\n",
       "0          Tabled              5  2021-12-16  2021-12-16T14:51:06.915  ...   \n",
       "1          Tabled              9  2021-12-09  2021-12-15T09:09:06.008  ...   \n",
       "2          Tabled             10  2021-11-17  2021-11-23T13:44:07.090  ...   \n",
       "3          Tabled              9  2021-08-31  2021-09-06T15:32:44.687  ...   \n",
       "4          Tabled             13  2021-07-15  2021-08-18T17:06:49.789  ...   \n",
       "\n",
       "                     tabling member > uri  \\\n",
       "0  http://data.parliament.uk/members/1601   \n",
       "1  http://data.parliament.uk/members/1601   \n",
       "2  http://data.parliament.uk/members/1601   \n",
       "3  http://data.parliament.uk/members/1601   \n",
       "4  http://data.parliament.uk/members/1601   \n",
       "\n",
       "  tabling member > constituency > pref label tabling member printed       uin  \\\n",
       "0                    Bromley and Chislehurst       Sir Robert Neill  904884.0   \n",
       "1                    Bromley and Chislehurst       Sir Robert Neill  904812.0   \n",
       "2                    Bromley and Chislehurst       Sir Robert Neill  904329.0   \n",
       "3                    Bromley and Chislehurst       Sir Robert Neill  903323.0   \n",
       "4                    Bromley and Chislehurst       Sir Robert Neill  903142.0   \n",
       "\n",
       "  tabling member  gender         party  \\\n",
       "0            NaN    Male  Conservative   \n",
       "1            NaN    Male  Conservative   \n",
       "2            NaN    Male  Conservative   \n",
       "3            NaN    Male  Conservative   \n",
       "4            NaN    Male  Conservative   \n",
       "\n",
       "                                   uri_mp        dob  \\\n",
       "0  http://data.parliament.uk/members/1601 1952-06-24   \n",
       "1  http://data.parliament.uk/members/1601 1952-06-24   \n",
       "2  http://data.parliament.uk/members/1601 1952-06-24   \n",
       "3  http://data.parliament.uk/members/1601 1952-06-24   \n",
       "4  http://data.parliament.uk/members/1601 1952-06-24   \n",
       "\n",
       "                                  uri_dob  \n",
       "0  http://data.parliament.uk/members/1601  \n",
       "1  http://data.parliament.uk/members/1601  \n",
       "2  http://data.parliament.uk/members/1601  \n",
       "3  http://data.parliament.uk/members/1601  \n",
       "4  http://data.parliament.uk/members/1601  \n",
       "\n",
       "[5 rows x 22 columns]"
      ]
     },
     "execution_count": 61,
     "metadata": {},
     "output_type": "execute_result"
    }
   ],
   "source": [
    "df.head()"
   ]
  },
  {
   "cell_type": "code",
   "execution_count": 88,
   "metadata": {},
   "outputs": [
    {
     "data": {
      "text/plain": [
       "array(['Conservative', 'Labour', 'Plaid Cymru', 'Labour (Co-op)',\n",
       "       'Scottish National Party', 'Liberal Democrat', 'Independent',\n",
       "       'Democratic Unionist Party', 'Green Party', nan,\n",
       "       'The Independent Group for Change', 'Ulster Unionist Party',\n",
       "       'Social Democratic & Labour Party', 'Alliance',\n",
       "       'UK Independence Party'], dtype=object)"
      ]
     },
     "execution_count": 88,
     "metadata": {},
     "output_type": "execute_result"
    }
   ],
   "source": [
    "df.party.unique()"
   ]
  },
  {
   "cell_type": "code",
   "execution_count": 90,
   "metadata": {},
   "outputs": [],
   "source": [
    "df = df[df.party.isin(['Conservative', 'Labour'])]"
   ]
  },
  {
   "cell_type": "code",
   "execution_count": 91,
   "metadata": {},
   "outputs": [
    {
     "data": {
      "text/plain": [
       "['woman', 'women', 'mothers']"
      ]
     },
     "execution_count": 91,
     "metadata": {},
     "output_type": "execute_result"
    }
   ],
   "source": [
    "import re\n",
    "pattern = re.compile(r'\\bwoman\\b|\\bwomen\\b|\\bmother\\b|\\bmothers\\b')\n",
    "pattern.findall('woman bwomeno women. mothers.')"
   ]
  },
  {
   "cell_type": "code",
   "execution_count": 97,
   "metadata": {},
   "outputs": [
    {
     "name": "stderr",
     "output_type": "stream",
     "text": [
      "/usr/local/lib/python3.7/site-packages/ipykernel_launcher.py:1: SettingWithCopyWarning: \n",
      "A value is trying to be set on a copy of a slice from a DataFrame.\n",
      "Try using .loc[row_indexer,col_indexer] = value instead\n",
      "\n",
      "See the caveats in the documentation: https://pandas.pydata.org/pandas-docs/stable/user_guide/indexing.html#returning-a-view-versus-a-copy\n",
      "  \"\"\"Entry point for launching an IPython kernel.\n"
     ]
    }
   ],
   "source": [
    "\n",
    "df['about_woman'] = df['question text'].apply(lambda x: int(bool(pattern.findall(str(x).lower()))))"
   ]
  },
  {
   "cell_type": "code",
   "execution_count": 98,
   "metadata": {},
   "outputs": [
    {
     "data": {
      "text/plain": [
       "0    27807\n",
       "1      396\n",
       "Name: about_woman, dtype: int64"
      ]
     },
     "execution_count": 98,
     "metadata": {},
     "output_type": "execute_result"
    }
   ],
   "source": [
    "df['about_woman'].value_counts()"
   ]
  },
  {
   "cell_type": "code",
   "execution_count": 99,
   "metadata": {},
   "outputs": [],
   "source": [
    "df[['gender_Female','gender_Male','party_Conservative','party_Labour']] =pd.get_dummies(df[['gender','party']])"
   ]
  },
  {
   "cell_type": "code",
   "execution_count": 100,
   "metadata": {},
   "outputs": [
    {
     "name": "stdout",
     "output_type": "stream",
     "text": [
      "                 Generalized Linear Model Regression Results                  \n",
      "==============================================================================\n",
      "Dep. Variable:            about_woman   No. Observations:                28203\n",
      "Model:                            GLM   Df Residuals:                    28200\n",
      "Model Family:                Binomial   Df Model:                            2\n",
      "Link Function:                  logit   Scale:                          1.0000\n",
      "Method:                          IRLS   Log-Likelihood:                -2043.0\n",
      "Date:                Sat, 22 Jan 2022   Deviance:                       4085.9\n",
      "Time:                        17:01:41   Pearson chi2:                 2.82e+04\n",
      "No. Iterations:                     8                                         \n",
      "Covariance Type:            nonrobust                                         \n",
      "======================================================================================\n",
      "                         coef    std err          z      P>|z|      [0.025      0.975]\n",
      "--------------------------------------------------------------------------------------\n",
      "Intercept             -4.6601      0.104    -44.616      0.000      -4.865      -4.455\n",
      "gender_Female          0.9337      0.108      8.679      0.000       0.723       1.145\n",
      "party_Conservative     0.0673      0.108      0.624      0.533      -0.144       0.279\n",
      "======================================================================================\n"
     ]
    }
   ],
   "source": [
    "formula = 'about_woman ~ gender_Female + party_Conservative'\n",
    "mod1 = smf.glm(formula=formula, data=df, family=sm.families.Binomial()).fit()\n",
    "print(mod1.summary())"
   ]
  },
  {
   "cell_type": "code",
   "execution_count": 113,
   "metadata": {},
   "outputs": [],
   "source": [
    "df_agg = df.groupby(['uri_mp','gender_Female','party_Conservative']).agg({'about_woman':'sum','uri':'count'}).reset_index()"
   ]
  },
  {
   "cell_type": "code",
   "execution_count": 114,
   "metadata": {},
   "outputs": [],
   "source": [
    "df_agg['not_about'] = df_agg['uri'] - df_agg['about_woman']"
   ]
  },
  {
   "cell_type": "code",
   "execution_count": 117,
   "metadata": {},
   "outputs": [
    {
     "name": "stdout",
     "output_type": "stream",
     "text": [
      "                      Generalized Linear Model Regression Results                       \n",
      "========================================================================================\n",
      "Dep. Variable:     ['about_woman', 'not_about']   No. Observations:                  527\n",
      "Model:                                      GLM   Df Residuals:                      524\n",
      "Model Family:                          Binomial   Df Model:                            2\n",
      "Link Function:                            logit   Scale:                          1.0000\n",
      "Method:                                    IRLS   Log-Likelihood:                -494.72\n",
      "Date:                          Sat, 22 Jan 2022   Deviance:                       533.40\n",
      "Time:                                  17:13:40   Pearson chi2:                     518.\n",
      "No. Iterations:                               8                                         \n",
      "Covariance Type:                      nonrobust                                         \n",
      "======================================================================================\n",
      "                         coef    std err          z      P>|z|      [0.025      0.975]\n",
      "--------------------------------------------------------------------------------------\n",
      "Intercept             -4.6601      0.104    -44.616      0.000      -4.865      -4.455\n",
      "gender_Female          0.9337      0.108      8.679      0.000       0.723       1.145\n",
      "party_Conservative     0.0673      0.108      0.624      0.533      -0.144       0.279\n",
      "======================================================================================\n"
     ]
    }
   ],
   "source": [
    "formula = 'about_woman +  not_about ~ gender_Female + party_Conservative'\n",
    "mod3 = smf.glm(formula=formula, data=df_agg, family=sm.families.Binomial()).fit()\n",
    "print(mod3.summary())"
   ]
  },
  {
   "cell_type": "code",
   "execution_count": 121,
   "metadata": {},
   "outputs": [
    {
     "name": "stdout",
     "output_type": "stream",
     "text": [
      "                 Generalized Linear Model Regression Results                  \n",
      "==============================================================================\n",
      "Dep. Variable:            about_woman   No. Observations:                  527\n",
      "Model:                            GLM   Df Residuals:                      524\n",
      "Model Family:        NegativeBinomial   Df Model:                            2\n",
      "Link Function:                    log   Scale:                          1.0000\n",
      "Method:                          IRLS   Log-Likelihood:                -608.17\n",
      "Date:                Sat, 22 Jan 2022   Deviance:                       543.69\n",
      "Time:                        17:15:19   Pearson chi2:                     753.\n",
      "No. Iterations:                     5                                         \n",
      "Covariance Type:            nonrobust                                         \n",
      "======================================================================================\n",
      "                         coef    std err          z      P>|z|      [0.025      0.975]\n",
      "--------------------------------------------------------------------------------------\n",
      "Intercept             -0.6943      0.129     -5.394      0.000      -0.947      -0.442\n",
      "gender_Female          0.9331      0.144      6.490      0.000       0.651       1.215\n",
      "party_Conservative     0.0695      0.142      0.490      0.624      -0.209       0.348\n",
      "======================================================================================\n"
     ]
    }
   ],
   "source": [
    "formula = 'about_woman ~ gender_Female + party_Conservative'\n",
    "mod3 = smf.glm(formula=formula, data=df_agg, family=sm.families.Poisson()).fit()\n",
    "print(mod3.summary())"
   ]
  },
  {
   "cell_type": "code",
   "execution_count": 107,
   "metadata": {},
   "outputs": [
    {
     "data": {
      "text/plain": [
       "0.2178253320016068"
      ]
     },
     "execution_count": 107,
     "metadata": {},
     "output_type": "execute_result"
    }
   ],
   "source": [
    "logistic(0.9337) - logistic(0)"
   ]
  },
  {
   "cell_type": "code",
   "execution_count": 101,
   "metadata": {},
   "outputs": [
    {
     "name": "stderr",
     "output_type": "stream",
     "text": [
      "/usr/local/lib/python3.7/site-packages/ipykernel_launcher.py:1: SettingWithCopyWarning: \n",
      "A value is trying to be set on a copy of a slice from a DataFrame.\n",
      "Try using .loc[row_indexer,col_indexer] = value instead\n",
      "\n",
      "See the caveats in the documentation: https://pandas.pydata.org/pandas-docs/stable/user_guide/indexing.html#returning-a-view-versus-a-copy\n",
      "  \"\"\"Entry point for launching an IPython kernel.\n"
     ]
    }
   ],
   "source": [
    "df['answering_body_code'] = pd.Categorical(df['answering body']).codes"
   ]
  },
  {
   "cell_type": "code",
   "execution_count": 103,
   "metadata": {},
   "outputs": [
    {
     "name": "stdout",
     "output_type": "stream",
     "text": [
      "                 Generalized Linear Model Regression Results                  \n",
      "==============================================================================\n",
      "Dep. Variable:            about_woman   No. Observations:                28203\n",
      "Model:                            GLM   Df Residuals:                    28159\n",
      "Model Family:                Binomial   Df Model:                           43\n",
      "Link Function:                  logit   Scale:                          1.0000\n",
      "Method:                          IRLS   Log-Likelihood:                -1353.9\n",
      "Date:                Sat, 22 Jan 2022   Deviance:                       2707.8\n",
      "Time:                        17:03:25   Pearson chi2:                 1.90e+04\n",
      "No. Iterations:                    27                                         \n",
      "Covariance Type:            nonrobust                                         \n",
      "================================================================================================\n",
      "                                   coef    std err          z      P>|z|      [0.025      0.975]\n",
      "------------------------------------------------------------------------------------------------\n",
      "Intercept                       -5.4837      0.587     -9.346      0.000      -6.634      -4.334\n",
      "C(answering_body_code)[T.1]      0.5255      1.160      0.453      0.650      -1.748       2.799\n",
      "C(answering_body_code)[T.2]     -1.0523      0.915     -1.151      0.250      -2.845       0.740\n",
      "C(answering_body_code)[T.3]    -23.0824   9.68e+05  -2.38e-05      1.000    -1.9e+06     1.9e+06\n",
      "C(answering_body_code)[T.4]    -23.4217    2.1e+05     -0.000      1.000   -4.12e+05    4.12e+05\n",
      "C(answering_body_code)[T.5]      2.2554      0.628      3.590      0.000       1.024       3.487\n",
      "C(answering_body_code)[T.6]     -0.2240      0.766     -0.292      0.770      -1.725       1.277\n",
      "C(answering_body_code)[T.7]      0.2936      0.766      0.383      0.702      -1.209       1.796\n",
      "C(answering_body_code)[T.8]     -0.0072      0.766     -0.009      0.992      -1.509       1.494\n",
      "C(answering_body_code)[T.9]      0.9349      0.680      1.375      0.169      -0.398       2.267\n",
      "C(answering_body_code)[T.10]    -0.1737      0.819     -0.212      0.832      -1.779       1.431\n",
      "C(answering_body_code)[T.11]    -2.0994      1.156     -1.816      0.069      -4.365       0.166\n",
      "C(answering_body_code)[T.12]   -23.3442   4.29e+04     -0.001      1.000   -8.41e+04    8.41e+04\n",
      "C(answering_body_code)[T.13]    -1.9458      1.156     -1.683      0.092      -4.212       0.320\n",
      "C(answering_body_code)[T.14]   -23.3588    7.2e+04     -0.000      1.000   -1.41e+05    1.41e+05\n",
      "C(answering_body_code)[T.15]   -23.3376   6.04e+04     -0.000      1.000   -1.18e+05    1.18e+05\n",
      "C(answering_body_code)[T.16]     1.0685      0.648      1.648      0.099      -0.202       2.339\n",
      "C(answering_body_code)[T.17]   -23.3545   3.58e+04     -0.001      0.999   -7.02e+04    7.02e+04\n",
      "C(answering_body_code)[T.18]   -23.5071   2.67e+05   -8.8e-05      1.000   -5.23e+05    5.23e+05\n",
      "C(answering_body_code)[T.19]   -23.3666    2.6e+04     -0.001      0.999   -5.09e+04    5.09e+04\n",
      "C(answering_body_code)[T.20]     1.6351      0.602      2.716      0.007       0.455       2.815\n",
      "C(answering_body_code)[T.21]     0.1184      0.733      0.162      0.872      -1.318       1.555\n",
      "C(answering_body_code)[T.22]    -1.4509      1.156     -1.255      0.210      -3.717       0.815\n",
      "C(answering_body_code)[T.23]    -0.4373      1.157     -0.378      0.706      -2.706       1.831\n",
      "C(answering_body_code)[T.24]    -1.1910      0.914     -1.302      0.193      -2.983       0.601\n",
      "C(answering_body_code)[T.25]     1.0181      0.734      1.387      0.165      -0.420       2.457\n",
      "C(answering_body_code)[T.26]     0.0721      0.733      0.098      0.922      -1.364       1.508\n",
      "C(answering_body_code)[T.27]     0.4698      0.648      0.725      0.468      -0.800       1.739\n",
      "C(answering_body_code)[T.28]     0.9121      1.162      0.785      0.433      -1.366       3.190\n",
      "C(answering_body_code)[T.29]     0.6103      1.160      0.526      0.599      -1.664       2.884\n",
      "C(answering_body_code)[T.30]    -0.0630      0.692     -0.091      0.928      -1.420       1.294\n",
      "C(answering_body_code)[T.31]   -23.3774   3.68e+04     -0.001      0.999   -7.21e+04     7.2e+04\n",
      "C(answering_body_code)[T.32]     0.8432      0.624      1.352      0.176      -0.379       2.065\n",
      "C(answering_body_code)[T.33]     1.0312      0.670      1.540      0.124      -0.281       2.344\n",
      "C(answering_body_code)[T.34]   -23.1572   3.06e+05  -7.57e-05      1.000      -6e+05       6e+05\n",
      "C(answering_body_code)[T.35]   -23.3659   1.91e+04     -0.001      0.999   -3.75e+04    3.75e+04\n",
      "C(answering_body_code)[T.36]   -23.3228   1.68e+05     -0.000      1.000   -3.29e+05    3.29e+05\n",
      "C(answering_body_code)[T.37]    -0.1635      0.915     -0.179      0.858      -1.958       1.631\n",
      "C(answering_body_code)[T.38]   -23.3392   1.08e+05     -0.000      1.000   -2.11e+05    2.11e+05\n",
      "C(answering_body_code)[T.39]    -0.5997      0.915     -0.655      0.512      -2.393       1.193\n",
      "C(answering_body_code)[T.40]    -1.1001      1.156     -0.951      0.341      -3.367       1.167\n",
      "C(answering_body_code)[T.41]     4.2941      0.585      7.343      0.000       3.148       5.440\n",
      "gender_Female                    0.6443      0.117      5.484      0.000       0.414       0.875\n",
      "party_Conservative               0.1056      0.118      0.896      0.370      -0.125       0.337\n",
      "================================================================================================\n"
     ]
    }
   ],
   "source": [
    "formula = 'about_woman ~ gender_Female + party_Conservative + C(answering_body_code)'\n",
    "mod1 = smf.glm(formula=formula, data=df, family=sm.families.Binomial()).fit()\n",
    "print(mod1.summary())"
   ]
  },
  {
   "cell_type": "code",
   "execution_count": 104,
   "metadata": {},
   "outputs": [
    {
     "data": {
      "text/plain": [
       "0.15572483359492084"
      ]
     },
     "execution_count": 104,
     "metadata": {},
     "output_type": "execute_result"
    }
   ],
   "source": [
    "logistic(0.6443) - logistic(0)"
   ]
  }
 ],
 "metadata": {
  "kernelspec": {
   "display_name": "Python 3 (ipykernel)",
   "language": "python",
   "name": "python3"
  },
  "language_info": {
   "codemirror_mode": {
    "name": "ipython",
    "version": 3
   },
   "file_extension": ".py",
   "mimetype": "text/x-python",
   "name": "python",
   "nbconvert_exporter": "python",
   "pygments_lexer": "ipython3",
   "version": "3.7.4"
  }
 },
 "nbformat": 4,
 "nbformat_minor": 2
}
