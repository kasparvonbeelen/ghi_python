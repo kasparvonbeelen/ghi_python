{
 "cells": [
  {
   "cell_type": "markdown",
   "metadata": {},
   "source": [
    "# Understanding relations between variables \n",
    "## A gentle introduction to correlation and regression for historians \n",
    "### ... in Python and Pandas\n",
    "\n",
    "This chapter turns to more advanced but also more scientifically interesting and contested topics for historians. We will discuss the topic of modelling using linear or generelaized linear models.\n",
    "\n",
    "This is only an introduction, as with the previous lecture we propose further reading, but\n",
    "\n",
    "- What are doing when building a regression model?\n",
    "- How to square the mechanistic assumptions and functions of a model with and historical (or just common sense) knowledge and reasoning?\n",
    "\n",
    "More practically:\n",
    "\n",
    "- How to train and intepret a model?"
   ]
  },
  {
   "cell_type": "markdown",
   "metadata": {},
   "source": [
    "## Understanding relations between variables: Age and Wealth in late Victorian London"
   ]
  },
  {
   "cell_type": "markdown",
   "metadata": {},
   "source": [
    "In this lecture we continue building on the data we used previously: we'd like to investigate the distribution of age in London, but explaining and predicting variation in age.\n",
    "\n",
    "We are specifically interesting in the relation between wealth and age. We have two two dataframes\n",
    "- the mean each in each district (aggregated by gender)\n",
    "- the rateable value per capita for each borough\n",
    "\n",
    "The first case study discussed in this lecture should not be interpreted as realistic research example, it is too problematic for that. However, we hope it will demonstrate multiple practical and philosophical problems (and opportunities) that aries when applying regression to historical data and questions."
   ]
  },
  {
   "cell_type": "markdown",
   "metadata": {},
   "source": [
    "Of course, the first step is the load the required tool we will need later on in this notebook."
   ]
  },
  {
   "cell_type": "code",
   "execution_count": 291,
   "metadata": {},
   "outputs": [],
   "source": [
    "import pandas as pd\n",
    "import numpy as np\n",
    "import seaborn as sns\n",
    "import statsmodels.api as sm\n",
    "import statsmodels.formula.api as smf\n",
    "import scipy\n",
    "import matplotlib.pyplot as plt\n",
    "sns.set()"
   ]
  },
  {
   "cell_type": "markdown",
   "metadata": {},
   "source": [
    "Before we turn to the actual analysis, let's discuss some common data wrangling steps that characterize, and often problematize, data rich research in history. "
   ]
  },
  {
   "cell_type": "markdown",
   "metadata": {},
   "source": [
    "First we create a new dataframe the records the mean age and number of observiations for each district."
   ]
  },
  {
   "cell_type": "code",
   "execution_count": 305,
   "metadata": {},
   "outputs": [
    {
     "data": {
      "text/html": [
       "<div>\n",
       "<style scoped>\n",
       "    .dataframe tbody tr th:only-of-type {\n",
       "        vertical-align: middle;\n",
       "    }\n",
       "\n",
       "    .dataframe tbody tr th {\n",
       "        vertical-align: top;\n",
       "    }\n",
       "\n",
       "    .dataframe thead th {\n",
       "        text-align: right;\n",
       "    }\n",
       "</style>\n",
       "<table border=\"1\" class=\"dataframe\">\n",
       "  <thead>\n",
       "    <tr style=\"text-align: right;\">\n",
       "      <th></th>\n",
       "      <th>RegDist</th>\n",
       "      <th>SubDist</th>\n",
       "      <th>Sex</th>\n",
       "      <th>Age</th>\n",
       "      <th>DisCode1</th>\n",
       "    </tr>\n",
       "  </thead>\n",
       "  <tbody>\n",
       "    <tr>\n",
       "      <th>0</th>\n",
       "      <td>Kensington</td>\n",
       "      <td>Kensington Town</td>\n",
       "      <td>M</td>\n",
       "      <td>18</td>\n",
       "      <td>0</td>\n",
       "    </tr>\n",
       "    <tr>\n",
       "      <th>1</th>\n",
       "      <td>Greenwich</td>\n",
       "      <td>Deptford South</td>\n",
       "      <td>U</td>\n",
       "      <td>14</td>\n",
       "      <td>0</td>\n",
       "    </tr>\n",
       "    <tr>\n",
       "      <th>2</th>\n",
       "      <td>St George Hanover Square</td>\n",
       "      <td>St Margaret And St John</td>\n",
       "      <td>M</td>\n",
       "      <td>38</td>\n",
       "      <td>0</td>\n",
       "    </tr>\n",
       "    <tr>\n",
       "      <th>3</th>\n",
       "      <td>St Olave Southwark</td>\n",
       "      <td>Bermondsey</td>\n",
       "      <td>F</td>\n",
       "      <td>42</td>\n",
       "      <td>0</td>\n",
       "    </tr>\n",
       "    <tr>\n",
       "      <th>4</th>\n",
       "      <td>St George Hanover Square</td>\n",
       "      <td>St Margaret And St John</td>\n",
       "      <td>M</td>\n",
       "      <td>19</td>\n",
       "      <td>0</td>\n",
       "    </tr>\n",
       "  </tbody>\n",
       "</table>\n",
       "</div>"
      ],
      "text/plain": [
       "                    RegDist                  SubDist Sex  Age  DisCode1\n",
       "0                Kensington          Kensington Town   M   18         0\n",
       "1                 Greenwich           Deptford South   U   14         0\n",
       "2  St George Hanover Square  St Margaret And St John   M   38         0\n",
       "3        St Olave Southwark               Bermondsey   F   42         0\n",
       "4  St George Hanover Square  St Margaret And St John   M   19         0"
      ]
     },
     "execution_count": 305,
     "metadata": {},
     "output_type": "execute_result"
    }
   ],
   "source": [
    "df = pd.read_csv('data/icem/EW01_london_subsample.csv',index_col=0)\n",
    "df.head()"
   ]
  },
  {
   "cell_type": "code",
   "execution_count": 997,
   "metadata": {},
   "outputs": [
    {
     "data": {
      "text/plain": [
       "27.786728095422067"
      ]
     },
     "execution_count": 997,
     "metadata": {},
     "output_type": "execute_result"
    }
   ],
   "source": [
    "df.Age.mean()"
   ]
  },
  {
   "cell_type": "code",
   "execution_count": 353,
   "metadata": {},
   "outputs": [],
   "source": [
    "age_by_dist = df.groupby(['RegDist']).agg({'Age':'mean','Sex':'count'})"
   ]
  },
  {
   "cell_type": "code",
   "execution_count": 1055,
   "metadata": {},
   "outputs": [],
   "source": [
    "age_by_dist = df.groupby(['RegDist']).agg({'Age':lambda x: np.mean(x > 60),'Sex':'count'})"
   ]
  },
  {
   "cell_type": "code",
   "execution_count": 1056,
   "metadata": {},
   "outputs": [
    {
     "data": {
      "text/html": [
       "<div>\n",
       "<style scoped>\n",
       "    .dataframe tbody tr th:only-of-type {\n",
       "        vertical-align: middle;\n",
       "    }\n",
       "\n",
       "    .dataframe tbody tr th {\n",
       "        vertical-align: top;\n",
       "    }\n",
       "\n",
       "    .dataframe thead th {\n",
       "        text-align: right;\n",
       "    }\n",
       "</style>\n",
       "<table border=\"1\" class=\"dataframe\">\n",
       "  <thead>\n",
       "    <tr style=\"text-align: right;\">\n",
       "      <th></th>\n",
       "      <th>Age</th>\n",
       "      <th>Sex</th>\n",
       "    </tr>\n",
       "    <tr>\n",
       "      <th>RegDist</th>\n",
       "      <th></th>\n",
       "      <th></th>\n",
       "    </tr>\n",
       "  </thead>\n",
       "  <tbody>\n",
       "    <tr>\n",
       "      <th>Bethnal Green</th>\n",
       "      <td>0.054189</td>\n",
       "      <td>31593</td>\n",
       "    </tr>\n",
       "    <tr>\n",
       "      <th>Camberwell</th>\n",
       "      <td>0.061101</td>\n",
       "      <td>63060</td>\n",
       "    </tr>\n",
       "    <tr>\n",
       "      <th>Chelsea</th>\n",
       "      <td>0.091494</td>\n",
       "      <td>18329</td>\n",
       "    </tr>\n",
       "    <tr>\n",
       "      <th>Fulham</th>\n",
       "      <td>0.055481</td>\n",
       "      <td>60489</td>\n",
       "    </tr>\n",
       "    <tr>\n",
       "      <th>Greenwich</th>\n",
       "      <td>0.060359</td>\n",
       "      <td>44832</td>\n",
       "    </tr>\n",
       "    <tr>\n",
       "      <th>Hackney</th>\n",
       "      <td>0.066741</td>\n",
       "      <td>65687</td>\n",
       "    </tr>\n",
       "    <tr>\n",
       "      <th>Hampstead</th>\n",
       "      <td>0.064821</td>\n",
       "      <td>20117</td>\n",
       "    </tr>\n",
       "    <tr>\n",
       "      <th>Holborn</th>\n",
       "      <td>0.054023</td>\n",
       "      <td>31320</td>\n",
       "    </tr>\n",
       "    <tr>\n",
       "      <th>Islington</th>\n",
       "      <td>0.064808</td>\n",
       "      <td>81826</td>\n",
       "    </tr>\n",
       "    <tr>\n",
       "      <th>Kensington</th>\n",
       "      <td>0.071808</td>\n",
       "      <td>43115</td>\n",
       "    </tr>\n",
       "    <tr>\n",
       "      <th>Lambeth</th>\n",
       "      <td>0.064956</td>\n",
       "      <td>73511</td>\n",
       "    </tr>\n",
       "    <tr>\n",
       "      <th>Lewisham</th>\n",
       "      <td>0.070391</td>\n",
       "      <td>32902</td>\n",
       "    </tr>\n",
       "    <tr>\n",
       "      <th>London City</th>\n",
       "      <td>0.060646</td>\n",
       "      <td>6909</td>\n",
       "    </tr>\n",
       "    <tr>\n",
       "      <th>Marylebone</th>\n",
       "      <td>0.070387</td>\n",
       "      <td>32776</td>\n",
       "    </tr>\n",
       "    <tr>\n",
       "      <th>Mile End Old Town</th>\n",
       "      <td>0.055979</td>\n",
       "      <td>26778</td>\n",
       "    </tr>\n",
       "    <tr>\n",
       "      <th>Paddington</th>\n",
       "      <td>0.067976</td>\n",
       "      <td>35042</td>\n",
       "    </tr>\n",
       "    <tr>\n",
       "      <th>Pancras</th>\n",
       "      <td>0.063769</td>\n",
       "      <td>57285</td>\n",
       "    </tr>\n",
       "    <tr>\n",
       "      <th>Poplar</th>\n",
       "      <td>0.058695</td>\n",
       "      <td>40838</td>\n",
       "    </tr>\n",
       "    <tr>\n",
       "      <th>Shoreditch</th>\n",
       "      <td>0.059748</td>\n",
       "      <td>28687</td>\n",
       "    </tr>\n",
       "    <tr>\n",
       "      <th>Southwark</th>\n",
       "      <td>0.053154</td>\n",
       "      <td>50213</td>\n",
       "    </tr>\n",
       "    <tr>\n",
       "      <th>St George Hanover Square</th>\n",
       "      <td>0.058518</td>\n",
       "      <td>31785</td>\n",
       "    </tr>\n",
       "    <tr>\n",
       "      <th>St George In The East</th>\n",
       "      <td>0.041716</td>\n",
       "      <td>11866</td>\n",
       "    </tr>\n",
       "    <tr>\n",
       "      <th>St Giles</th>\n",
       "      <td>0.064520</td>\n",
       "      <td>7765</td>\n",
       "    </tr>\n",
       "    <tr>\n",
       "      <th>St Olave Southwark</th>\n",
       "      <td>0.055670</td>\n",
       "      <td>32154</td>\n",
       "    </tr>\n",
       "    <tr>\n",
       "      <th>Stepney</th>\n",
       "      <td>0.051765</td>\n",
       "      <td>14083</td>\n",
       "    </tr>\n",
       "    <tr>\n",
       "      <th>Strand</th>\n",
       "      <td>0.056138</td>\n",
       "      <td>5344</td>\n",
       "    </tr>\n",
       "    <tr>\n",
       "      <th>Wandsworth</th>\n",
       "      <td>0.058411</td>\n",
       "      <td>98217</td>\n",
       "    </tr>\n",
       "    <tr>\n",
       "      <th>Westminster</th>\n",
       "      <td>0.057264</td>\n",
       "      <td>8033</td>\n",
       "    </tr>\n",
       "    <tr>\n",
       "      <th>Whitechapel</th>\n",
       "      <td>0.039048</td>\n",
       "      <td>18772</td>\n",
       "    </tr>\n",
       "    <tr>\n",
       "      <th>Woolwich</th>\n",
       "      <td>0.051584</td>\n",
       "      <td>31909</td>\n",
       "    </tr>\n",
       "  </tbody>\n",
       "</table>\n",
       "</div>"
      ],
      "text/plain": [
       "                               Age    Sex\n",
       "RegDist                                  \n",
       "Bethnal Green             0.054189  31593\n",
       "Camberwell                0.061101  63060\n",
       "Chelsea                   0.091494  18329\n",
       "Fulham                    0.055481  60489\n",
       "Greenwich                 0.060359  44832\n",
       "Hackney                   0.066741  65687\n",
       "Hampstead                 0.064821  20117\n",
       "Holborn                   0.054023  31320\n",
       "Islington                 0.064808  81826\n",
       "Kensington                0.071808  43115\n",
       "Lambeth                   0.064956  73511\n",
       "Lewisham                  0.070391  32902\n",
       "London City               0.060646   6909\n",
       "Marylebone                0.070387  32776\n",
       "Mile End Old Town         0.055979  26778\n",
       "Paddington                0.067976  35042\n",
       "Pancras                   0.063769  57285\n",
       "Poplar                    0.058695  40838\n",
       "Shoreditch                0.059748  28687\n",
       "Southwark                 0.053154  50213\n",
       "St George Hanover Square  0.058518  31785\n",
       "St George In The East     0.041716  11866\n",
       "St Giles                  0.064520   7765\n",
       "St Olave Southwark        0.055670  32154\n",
       "Stepney                   0.051765  14083\n",
       "Strand                    0.056138   5344\n",
       "Wandsworth                0.058411  98217\n",
       "Westminster               0.057264   8033\n",
       "Whitechapel               0.039048  18772\n",
       "Woolwich                  0.051584  31909"
      ]
     },
     "execution_count": 1056,
     "metadata": {},
     "output_type": "execute_result"
    }
   ],
   "source": [
    "age_by_dist"
   ]
  },
  {
   "cell_type": "markdown",
   "metadata": {},
   "source": [
    "We can do the same but now disagregating by gender."
   ]
  },
  {
   "cell_type": "code",
   "execution_count": 1057,
   "metadata": {},
   "outputs": [],
   "source": [
    "age_by_dist_gen = df.groupby(['RegDist','Sex']).agg({'Age':'mean','Sex':'count'})\n",
    "age_by_dist_gen = df.groupby(['RegDist','Sex']).agg({'Age':lambda x: np.mean(x > 50),'Sex':'count'})"
   ]
  },
  {
   "cell_type": "code",
   "execution_count": 1058,
   "metadata": {},
   "outputs": [
    {
     "data": {
      "text/html": [
       "<div>\n",
       "<style scoped>\n",
       "    .dataframe tbody tr th:only-of-type {\n",
       "        vertical-align: middle;\n",
       "    }\n",
       "\n",
       "    .dataframe tbody tr th {\n",
       "        vertical-align: top;\n",
       "    }\n",
       "\n",
       "    .dataframe thead th {\n",
       "        text-align: right;\n",
       "    }\n",
       "</style>\n",
       "<table border=\"1\" class=\"dataframe\">\n",
       "  <thead>\n",
       "    <tr style=\"text-align: right;\">\n",
       "      <th></th>\n",
       "      <th>Age</th>\n",
       "      <th>Sex</th>\n",
       "    </tr>\n",
       "    <tr>\n",
       "      <th>Sex</th>\n",
       "      <th></th>\n",
       "      <th></th>\n",
       "    </tr>\n",
       "  </thead>\n",
       "  <tbody>\n",
       "    <tr>\n",
       "      <th>F</th>\n",
       "      <td>0.122878</td>\n",
       "      <td>16081</td>\n",
       "    </tr>\n",
       "    <tr>\n",
       "      <th>M</th>\n",
       "      <td>0.113501</td>\n",
       "      <td>14458</td>\n",
       "    </tr>\n",
       "    <tr>\n",
       "      <th>U</th>\n",
       "      <td>0.089184</td>\n",
       "      <td>1054</td>\n",
       "    </tr>\n",
       "  </tbody>\n",
       "</table>\n",
       "</div>"
      ],
      "text/plain": [
       "          Age    Sex\n",
       "Sex                 \n",
       "F    0.122878  16081\n",
       "M    0.113501  14458\n",
       "U    0.089184   1054"
      ]
     },
     "execution_count": 1058,
     "metadata": {},
     "output_type": "execute_result"
    }
   ],
   "source": [
    "age_by_dist_gen.loc['Bethnal Green']"
   ]
  },
  {
   "cell_type": "markdown",
   "metadata": {},
   "source": [
    "To understand the relation between how wealthy a place is and the average age of the people living in that location we need to add additional information to our dataframe. \n",
    "\n",
    "The dataframe below capture the rateable value per capita in each London borough (the data is synthetic but follows the pattern of a 'real' values collected for 1922.\n",
    "\n",
    "Rateable value per capita is proxy for [...].\n",
    "\n",
    "The latter is something prevalent in statistical research where we use variables as standing in for some phenomemen you want to explain. This topic is also called **construct validity**."
   ]
  },
  {
   "cell_type": "code",
   "execution_count": 1059,
   "metadata": {},
   "outputs": [
    {
     "data": {
      "text/html": [
       "<div>\n",
       "<style scoped>\n",
       "    .dataframe tbody tr th:only-of-type {\n",
       "        vertical-align: middle;\n",
       "    }\n",
       "\n",
       "    .dataframe tbody tr th {\n",
       "        vertical-align: top;\n",
       "    }\n",
       "\n",
       "    .dataframe thead th {\n",
       "        text-align: right;\n",
       "    }\n",
       "</style>\n",
       "<table border=\"1\" class=\"dataframe\">\n",
       "  <thead>\n",
       "    <tr style=\"text-align: right;\">\n",
       "      <th></th>\n",
       "      <th>borough</th>\n",
       "      <th>rateable_value_pc</th>\n",
       "    </tr>\n",
       "  </thead>\n",
       "  <tbody>\n",
       "    <tr>\n",
       "      <th>0</th>\n",
       "      <td>Battersea</td>\n",
       "      <td>6.1</td>\n",
       "    </tr>\n",
       "    <tr>\n",
       "      <th>1</th>\n",
       "      <td>Bermondsey</td>\n",
       "      <td>8.5</td>\n",
       "    </tr>\n",
       "    <tr>\n",
       "      <th>2</th>\n",
       "      <td>Bethnal Green</td>\n",
       "      <td>4.9</td>\n",
       "    </tr>\n",
       "    <tr>\n",
       "      <th>3</th>\n",
       "      <td>Camberwell</td>\n",
       "      <td>5.2</td>\n",
       "    </tr>\n",
       "    <tr>\n",
       "      <th>4</th>\n",
       "      <td>Chelsea</td>\n",
       "      <td>14.7</td>\n",
       "    </tr>\n",
       "  </tbody>\n",
       "</table>\n",
       "</div>"
      ],
      "text/plain": [
       "         borough  rateable_value_pc\n",
       "0      Battersea                6.1\n",
       "1     Bermondsey                8.5\n",
       "2  Bethnal Green                4.9\n",
       "3     Camberwell                5.2\n",
       "4        Chelsea               14.7"
      ]
     },
     "execution_count": 1059,
     "metadata": {},
     "output_type": "execute_result"
    }
   ],
   "source": [
    "rv = pd.read_csv('./data/icem/rateable_value.csv',index_col=0)\n",
    "rv.head()"
   ]
  },
  {
   "cell_type": "markdown",
   "metadata": {},
   "source": [
    "We want to merge the dataframes together but first we should check to what extent this is possible, both practically and theoretically.\n",
    "\n",
    "- What names occur in both datasets? We will use these to combine information from heterogeneous sources.\n",
    "- To what extent are the districts that appear in the census the same as the boroughs in the data on rateable value per capita?"
   ]
  },
  {
   "cell_type": "markdown",
   "metadata": {},
   "source": [
    "First we want check which place names appear in both datasets\n",
    "\n",
    "We create a Python `set`, a list of unique values, for the place names in both dataframes.\n",
    "\n",
    "We first take the column that records place names and  we convert this to a set of unique names."
   ]
  },
  {
   "cell_type": "code",
   "execution_count": 1060,
   "metadata": {},
   "outputs": [
    {
     "name": "stdout",
     "output_type": "stream",
     "text": [
      "{'St George Hanover Square', 'Pancras', 'Shoreditch', 'Poplar', 'Stepney', 'Chelsea', 'Hackney', 'Camberwell', 'Lambeth', 'Lewisham', 'St George In The East', 'Kensington', 'Westminster', 'Bethnal Green', 'St Giles', 'Paddington', 'London City', 'Holborn', 'Hampstead', 'St Olave Southwark', 'Islington', 'Marylebone', 'Strand', 'Greenwich', 'Southwark', 'Mile End Old Town', 'Fulham', 'Wandsworth', 'Woolwich', 'Whitechapel'}\n"
     ]
    }
   ],
   "source": [
    "d1_pl = set(df['RegDist'])\n",
    "print(d1_pl)"
   ]
  },
  {
   "cell_type": "code",
   "execution_count": 1061,
   "metadata": {},
   "outputs": [
    {
     "name": "stdout",
     "output_type": "stream",
     "text": [
      "{'Battersea', 'Deptford', 'Pancras', 'Shoreditch', 'Poplar', 'Stepney', 'Chelsea', 'Hackney', 'Stoke Newington', 'Camberwell', 'Lambeth', 'Lewisham', 'Hammersmith', 'Bermondsey', 'Finsbury', 'Kensington', 'Westminster', 'Bethnal Green', 'Paddington', 'Holborn', 'Hampstead', 'Islington', 'Marylebone', 'Greenwich', 'Fulham', 'Southwark', 'Wandsworth', 'Woolwich'}\n"
     ]
    }
   ],
   "source": [
    "d2_pl = set(rv['borough'])\n",
    "print(d2_pl)"
   ]
  },
  {
   "cell_type": "markdown",
   "metadata": {},
   "source": [
    "After getting these two sets we compute their intersection, i.e. the names that appear in both dataframes.\n",
    "\n",
    "The syntax is set1.intersection(set2). We basically apply the `.intersection()` to a set and pass another set as argument."
   ]
  },
  {
   "cell_type": "code",
   "execution_count": 1062,
   "metadata": {},
   "outputs": [
    {
     "name": "stdout",
     "output_type": "stream",
     "text": [
      "{'Pancras', 'Shoreditch', 'Poplar', 'Stepney', 'Chelsea', 'Hackney', 'Camberwell', 'Lambeth', 'Lewisham', 'Kensington', 'Westminster', 'Bethnal Green', 'Paddington', 'Holborn', 'Hampstead', 'Islington', 'Marylebone', 'Greenwich', 'Fulham', 'Southwark', 'Wandsworth', 'Woolwich'}\n"
     ]
    }
   ],
   "source": [
    "print(d1_pl.intersection(d2_pl))"
   ]
  },
  {
   "cell_type": "code",
   "execution_count": 1063,
   "metadata": {},
   "outputs": [
    {
     "data": {
      "text/plain": [
       "{'London City',\n",
       " 'Mile End Old Town',\n",
       " 'St George Hanover Square',\n",
       " 'St George In The East',\n",
       " 'St Giles',\n",
       " 'St Olave Southwark',\n",
       " 'Strand',\n",
       " 'Whitechapel'}"
      ]
     },
     "execution_count": 1063,
     "metadata": {},
     "output_type": "execute_result"
    }
   ],
   "source": [
    "d1_pl - d2_pl"
   ]
  },
  {
   "cell_type": "code",
   "execution_count": 1064,
   "metadata": {},
   "outputs": [
    {
     "data": {
      "text/plain": [
       "{'Battersea',\n",
       " 'Bermondsey',\n",
       " 'Deptford',\n",
       " 'Finsbury',\n",
       " 'Hammersmith',\n",
       " 'Stoke Newington'}"
      ]
     },
     "execution_count": 1064,
     "metadata": {},
     "output_type": "execute_result"
    }
   ],
   "source": [
    "d2_pl - d1_pl"
   ]
  },
  {
   "cell_type": "markdown",
   "metadata": {},
   "source": [
    "Now we can go ahead and merge the data. However, be careful: it is not because the strings match that they mean the same thing. Don't worry about the syntax we will explain it in more detail below."
   ]
  },
  {
   "cell_type": "code",
   "execution_count": 1065,
   "metadata": {},
   "outputs": [
    {
     "data": {
      "text/html": [
       "<div>\n",
       "<style scoped>\n",
       "    .dataframe tbody tr th:only-of-type {\n",
       "        vertical-align: middle;\n",
       "    }\n",
       "\n",
       "    .dataframe tbody tr th {\n",
       "        vertical-align: top;\n",
       "    }\n",
       "\n",
       "    .dataframe thead th {\n",
       "        text-align: right;\n",
       "    }\n",
       "</style>\n",
       "<table border=\"1\" class=\"dataframe\">\n",
       "  <thead>\n",
       "    <tr style=\"text-align: right;\">\n",
       "      <th></th>\n",
       "      <th>Age</th>\n",
       "      <th>Sex</th>\n",
       "      <th>borough</th>\n",
       "      <th>rateable_value_pc</th>\n",
       "    </tr>\n",
       "  </thead>\n",
       "  <tbody>\n",
       "    <tr>\n",
       "      <th>2</th>\n",
       "      <td>0.054189</td>\n",
       "      <td>31593</td>\n",
       "      <td>Bethnal Green</td>\n",
       "      <td>4.9</td>\n",
       "    </tr>\n",
       "    <tr>\n",
       "      <th>3</th>\n",
       "      <td>0.061101</td>\n",
       "      <td>63060</td>\n",
       "      <td>Camberwell</td>\n",
       "      <td>5.2</td>\n",
       "    </tr>\n",
       "    <tr>\n",
       "      <th>4</th>\n",
       "      <td>0.091494</td>\n",
       "      <td>18329</td>\n",
       "      <td>Chelsea</td>\n",
       "      <td>14.7</td>\n",
       "    </tr>\n",
       "    <tr>\n",
       "      <th>7</th>\n",
       "      <td>0.055481</td>\n",
       "      <td>60489</td>\n",
       "      <td>Fulham</td>\n",
       "      <td>6.1</td>\n",
       "    </tr>\n",
       "    <tr>\n",
       "      <th>8</th>\n",
       "      <td>0.060359</td>\n",
       "      <td>44832</td>\n",
       "      <td>Greenwich</td>\n",
       "      <td>7.6</td>\n",
       "    </tr>\n",
       "    <tr>\n",
       "      <th>9</th>\n",
       "      <td>0.066741</td>\n",
       "      <td>65687</td>\n",
       "      <td>Hackney</td>\n",
       "      <td>5.7</td>\n",
       "    </tr>\n",
       "    <tr>\n",
       "      <th>11</th>\n",
       "      <td>0.064821</td>\n",
       "      <td>20117</td>\n",
       "      <td>Hampstead</td>\n",
       "      <td>13.3</td>\n",
       "    </tr>\n",
       "    <tr>\n",
       "      <th>12</th>\n",
       "      <td>0.054023</td>\n",
       "      <td>31320</td>\n",
       "      <td>Holborn</td>\n",
       "      <td>32.0</td>\n",
       "    </tr>\n",
       "    <tr>\n",
       "      <th>13</th>\n",
       "      <td>0.064808</td>\n",
       "      <td>81826</td>\n",
       "      <td>Islington</td>\n",
       "      <td>5.7</td>\n",
       "    </tr>\n",
       "    <tr>\n",
       "      <th>14</th>\n",
       "      <td>0.071808</td>\n",
       "      <td>43115</td>\n",
       "      <td>Kensington</td>\n",
       "      <td>14.4</td>\n",
       "    </tr>\n",
       "    <tr>\n",
       "      <th>15</th>\n",
       "      <td>0.064956</td>\n",
       "      <td>73511</td>\n",
       "      <td>Lambeth</td>\n",
       "      <td>6.3</td>\n",
       "    </tr>\n",
       "    <tr>\n",
       "      <th>16</th>\n",
       "      <td>0.070391</td>\n",
       "      <td>32902</td>\n",
       "      <td>Lewisham</td>\n",
       "      <td>6.4</td>\n",
       "    </tr>\n",
       "    <tr>\n",
       "      <th>19</th>\n",
       "      <td>0.070387</td>\n",
       "      <td>32776</td>\n",
       "      <td>Marylebone</td>\n",
       "      <td>23.2</td>\n",
       "    </tr>\n",
       "    <tr>\n",
       "      <th>17</th>\n",
       "      <td>0.067976</td>\n",
       "      <td>35042</td>\n",
       "      <td>Paddington</td>\n",
       "      <td>10.7</td>\n",
       "    </tr>\n",
       "    <tr>\n",
       "      <th>20</th>\n",
       "      <td>0.063769</td>\n",
       "      <td>57285</td>\n",
       "      <td>Pancras</td>\n",
       "      <td>8.7</td>\n",
       "    </tr>\n",
       "    <tr>\n",
       "      <th>18</th>\n",
       "      <td>0.058695</td>\n",
       "      <td>40838</td>\n",
       "      <td>Poplar</td>\n",
       "      <td>5.7</td>\n",
       "    </tr>\n",
       "    <tr>\n",
       "      <th>21</th>\n",
       "      <td>0.059748</td>\n",
       "      <td>28687</td>\n",
       "      <td>Shoreditch</td>\n",
       "      <td>8.2</td>\n",
       "    </tr>\n",
       "    <tr>\n",
       "      <th>22</th>\n",
       "      <td>0.053154</td>\n",
       "      <td>50213</td>\n",
       "      <td>Southwark</td>\n",
       "      <td>6.7</td>\n",
       "    </tr>\n",
       "    <tr>\n",
       "      <th>23</th>\n",
       "      <td>0.051765</td>\n",
       "      <td>14083</td>\n",
       "      <td>Stepney</td>\n",
       "      <td>6.5</td>\n",
       "    </tr>\n",
       "    <tr>\n",
       "      <th>25</th>\n",
       "      <td>0.058411</td>\n",
       "      <td>98217</td>\n",
       "      <td>Wandsworth</td>\n",
       "      <td>6.9</td>\n",
       "    </tr>\n",
       "    <tr>\n",
       "      <th>26</th>\n",
       "      <td>0.057264</td>\n",
       "      <td>8033</td>\n",
       "      <td>Westminster</td>\n",
       "      <td>57.2</td>\n",
       "    </tr>\n",
       "    <tr>\n",
       "      <th>27</th>\n",
       "      <td>0.051584</td>\n",
       "      <td>31909</td>\n",
       "      <td>Woolwich</td>\n",
       "      <td>6.6</td>\n",
       "    </tr>\n",
       "  </tbody>\n",
       "</table>\n",
       "</div>"
      ],
      "text/plain": [
       "         Age    Sex        borough  rateable_value_pc\n",
       "2   0.054189  31593  Bethnal Green                4.9\n",
       "3   0.061101  63060     Camberwell                5.2\n",
       "4   0.091494  18329        Chelsea               14.7\n",
       "7   0.055481  60489         Fulham                6.1\n",
       "8   0.060359  44832      Greenwich                7.6\n",
       "9   0.066741  65687        Hackney                5.7\n",
       "11  0.064821  20117      Hampstead               13.3\n",
       "12  0.054023  31320        Holborn               32.0\n",
       "13  0.064808  81826      Islington                5.7\n",
       "14  0.071808  43115     Kensington               14.4\n",
       "15  0.064956  73511        Lambeth                6.3\n",
       "16  0.070391  32902       Lewisham                6.4\n",
       "19  0.070387  32776     Marylebone               23.2\n",
       "17  0.067976  35042     Paddington               10.7\n",
       "20  0.063769  57285        Pancras                8.7\n",
       "18  0.058695  40838         Poplar                5.7\n",
       "21  0.059748  28687     Shoreditch                8.2\n",
       "22  0.053154  50213      Southwark                6.7\n",
       "23  0.051765  14083        Stepney                6.5\n",
       "25  0.058411  98217     Wandsworth                6.9\n",
       "26  0.057264   8033    Westminster               57.2\n",
       "27  0.051584  31909       Woolwich                6.6"
      ]
     },
     "execution_count": 1065,
     "metadata": {},
     "output_type": "execute_result"
    }
   ],
   "source": [
    "data_merged = age_by_dist.merge(rv,left_index=True,right_on='borough')\n",
    "data_merged"
   ]
  },
  {
   "cell_type": "markdown",
   "metadata": {},
   "source": [
    "`.merge` is a very, very useful method to combine dataframes based on shared information. More precisely, a shared variable or columns. What we did in the previous code, was adding information from `rv` to `age_by_dist`. As we shown before, both share a columns that have similar values, namely place names in London. We use the values to combine dataframes, i.e. rows that have the value `Bethnal Green` in the `age_by_dist` dataframes will be joined by those\n",
    "\n",
    "Please notice that the name of the columns can be different but the values in the columns have to overlap.\n",
    "\n",
    "Below we show a simple toy example slight adapted from very thorough Pandas [documentation](https://pandas.pydata.org/docs/reference/api/pandas.merge.html).\n",
    "\n",
    "Imagine that I recorded the number of cats and dogs I spotted each day, but keep this information in two separate dataframes."
   ]
  },
  {
   "cell_type": "code",
   "execution_count": 1066,
   "metadata": {},
   "outputs": [],
   "source": [
    "df1 = pd.DataFrame({'day': ['mon', 'tue', 'wed', 'thu'],\n",
    "                    'cats': [1, 2, 3, 5]})\n",
    "df2 = pd.DataFrame({'dayz': ['mon', 'tue', 'wed', 'thu'],\n",
    "                    'dogs': [5, 6, 7, 8]})"
   ]
  },
  {
   "cell_type": "code",
   "execution_count": 1067,
   "metadata": {},
   "outputs": [
    {
     "data": {
      "text/html": [
       "<div>\n",
       "<style scoped>\n",
       "    .dataframe tbody tr th:only-of-type {\n",
       "        vertical-align: middle;\n",
       "    }\n",
       "\n",
       "    .dataframe tbody tr th {\n",
       "        vertical-align: top;\n",
       "    }\n",
       "\n",
       "    .dataframe thead th {\n",
       "        text-align: right;\n",
       "    }\n",
       "</style>\n",
       "<table border=\"1\" class=\"dataframe\">\n",
       "  <thead>\n",
       "    <tr style=\"text-align: right;\">\n",
       "      <th></th>\n",
       "      <th>day</th>\n",
       "      <th>cats</th>\n",
       "    </tr>\n",
       "  </thead>\n",
       "  <tbody>\n",
       "    <tr>\n",
       "      <th>0</th>\n",
       "      <td>mon</td>\n",
       "      <td>1</td>\n",
       "    </tr>\n",
       "    <tr>\n",
       "      <th>1</th>\n",
       "      <td>tue</td>\n",
       "      <td>2</td>\n",
       "    </tr>\n",
       "    <tr>\n",
       "      <th>2</th>\n",
       "      <td>wed</td>\n",
       "      <td>3</td>\n",
       "    </tr>\n",
       "    <tr>\n",
       "      <th>3</th>\n",
       "      <td>thu</td>\n",
       "      <td>5</td>\n",
       "    </tr>\n",
       "  </tbody>\n",
       "</table>\n",
       "</div>"
      ],
      "text/plain": [
       "   day  cats\n",
       "0  mon     1\n",
       "1  tue     2\n",
       "2  wed     3\n",
       "3  thu     5"
      ]
     },
     "execution_count": 1067,
     "metadata": {},
     "output_type": "execute_result"
    }
   ],
   "source": [
    "df1"
   ]
  },
  {
   "cell_type": "code",
   "execution_count": 1068,
   "metadata": {},
   "outputs": [
    {
     "data": {
      "text/html": [
       "<div>\n",
       "<style scoped>\n",
       "    .dataframe tbody tr th:only-of-type {\n",
       "        vertical-align: middle;\n",
       "    }\n",
       "\n",
       "    .dataframe tbody tr th {\n",
       "        vertical-align: top;\n",
       "    }\n",
       "\n",
       "    .dataframe thead th {\n",
       "        text-align: right;\n",
       "    }\n",
       "</style>\n",
       "<table border=\"1\" class=\"dataframe\">\n",
       "  <thead>\n",
       "    <tr style=\"text-align: right;\">\n",
       "      <th></th>\n",
       "      <th>dayz</th>\n",
       "      <th>dogs</th>\n",
       "    </tr>\n",
       "  </thead>\n",
       "  <tbody>\n",
       "    <tr>\n",
       "      <th>0</th>\n",
       "      <td>mon</td>\n",
       "      <td>5</td>\n",
       "    </tr>\n",
       "    <tr>\n",
       "      <th>1</th>\n",
       "      <td>tue</td>\n",
       "      <td>6</td>\n",
       "    </tr>\n",
       "    <tr>\n",
       "      <th>2</th>\n",
       "      <td>wed</td>\n",
       "      <td>7</td>\n",
       "    </tr>\n",
       "    <tr>\n",
       "      <th>3</th>\n",
       "      <td>thu</td>\n",
       "      <td>8</td>\n",
       "    </tr>\n",
       "  </tbody>\n",
       "</table>\n",
       "</div>"
      ],
      "text/plain": [
       "  dayz  dogs\n",
       "0  mon     5\n",
       "1  tue     6\n",
       "2  wed     7\n",
       "3  thu     8"
      ]
     },
     "execution_count": 1068,
     "metadata": {},
     "output_type": "execute_result"
    }
   ],
   "source": [
    "df2"
   ]
  },
  {
   "cell_type": "markdown",
   "metadata": {},
   "source": [
    "As you notice both dataframes have a column that records that day of the week, even though the column name slightly differz. We can combine these dataframes into one with `left_df.merge(right_df)` method. This method is apply to a dataframe at the left hand side (before the dot) and one at the right hand side passed as an argument to the method.\n",
    "\n",
    "To merge properly, we have to instruct Pandas by telling which columns we want to use for combining information. `left_on` indicates the column name we use in the dataframe at the left hand side of the `.merge()` method."
   ]
  },
  {
   "cell_type": "code",
   "execution_count": 1069,
   "metadata": {},
   "outputs": [
    {
     "data": {
      "text/html": [
       "<div>\n",
       "<style scoped>\n",
       "    .dataframe tbody tr th:only-of-type {\n",
       "        vertical-align: middle;\n",
       "    }\n",
       "\n",
       "    .dataframe tbody tr th {\n",
       "        vertical-align: top;\n",
       "    }\n",
       "\n",
       "    .dataframe thead th {\n",
       "        text-align: right;\n",
       "    }\n",
       "</style>\n",
       "<table border=\"1\" class=\"dataframe\">\n",
       "  <thead>\n",
       "    <tr style=\"text-align: right;\">\n",
       "      <th></th>\n",
       "      <th>day</th>\n",
       "      <th>cats</th>\n",
       "      <th>dayz</th>\n",
       "      <th>dogs</th>\n",
       "    </tr>\n",
       "  </thead>\n",
       "  <tbody>\n",
       "    <tr>\n",
       "      <th>0</th>\n",
       "      <td>mon</td>\n",
       "      <td>1</td>\n",
       "      <td>mon</td>\n",
       "      <td>5</td>\n",
       "    </tr>\n",
       "    <tr>\n",
       "      <th>1</th>\n",
       "      <td>tue</td>\n",
       "      <td>2</td>\n",
       "      <td>tue</td>\n",
       "      <td>6</td>\n",
       "    </tr>\n",
       "    <tr>\n",
       "      <th>2</th>\n",
       "      <td>wed</td>\n",
       "      <td>3</td>\n",
       "      <td>wed</td>\n",
       "      <td>7</td>\n",
       "    </tr>\n",
       "    <tr>\n",
       "      <th>3</th>\n",
       "      <td>thu</td>\n",
       "      <td>5</td>\n",
       "      <td>thu</td>\n",
       "      <td>8</td>\n",
       "    </tr>\n",
       "  </tbody>\n",
       "</table>\n",
       "</div>"
      ],
      "text/plain": [
       "   day  cats dayz  dogs\n",
       "0  mon     1  mon     5\n",
       "1  tue     2  tue     6\n",
       "2  wed     3  wed     7\n",
       "3  thu     5  thu     8"
      ]
     },
     "execution_count": 1069,
     "metadata": {},
     "output_type": "execute_result"
    }
   ],
   "source": [
    "df1.merge(df2, left_on='day', right_on='dayz')"
   ]
  },
  {
   "cell_type": "markdown",
   "metadata": {},
   "source": [
    "Sometimes we want merge using the index of a dataframe instead of a column. In this case we use the argument `left_index` (or `right_index`) and takes a boolean (`True` or `False` as value).\n",
    "\n",
    "To revisit a previous line of code, which should be more understable at this point: the line below merges `age_by_dist` (left) with `rv`. For the left dataframe we use the index (`left_index=True`), for the right one a column named `'borough'` (`right_on='borough'`)."
   ]
  },
  {
   "cell_type": "code",
   "execution_count": 1070,
   "metadata": {},
   "outputs": [
    {
     "data": {
      "text/html": [
       "<div>\n",
       "<style scoped>\n",
       "    .dataframe tbody tr th:only-of-type {\n",
       "        vertical-align: middle;\n",
       "    }\n",
       "\n",
       "    .dataframe tbody tr th {\n",
       "        vertical-align: top;\n",
       "    }\n",
       "\n",
       "    .dataframe thead th {\n",
       "        text-align: right;\n",
       "    }\n",
       "</style>\n",
       "<table border=\"1\" class=\"dataframe\">\n",
       "  <thead>\n",
       "    <tr style=\"text-align: right;\">\n",
       "      <th></th>\n",
       "      <th>Age</th>\n",
       "      <th>Sex</th>\n",
       "      <th>borough</th>\n",
       "      <th>rateable_value_pc</th>\n",
       "    </tr>\n",
       "  </thead>\n",
       "  <tbody>\n",
       "    <tr>\n",
       "      <th>2</th>\n",
       "      <td>0.054189</td>\n",
       "      <td>31593</td>\n",
       "      <td>Bethnal Green</td>\n",
       "      <td>4.9</td>\n",
       "    </tr>\n",
       "    <tr>\n",
       "      <th>3</th>\n",
       "      <td>0.061101</td>\n",
       "      <td>63060</td>\n",
       "      <td>Camberwell</td>\n",
       "      <td>5.2</td>\n",
       "    </tr>\n",
       "    <tr>\n",
       "      <th>4</th>\n",
       "      <td>0.091494</td>\n",
       "      <td>18329</td>\n",
       "      <td>Chelsea</td>\n",
       "      <td>14.7</td>\n",
       "    </tr>\n",
       "    <tr>\n",
       "      <th>7</th>\n",
       "      <td>0.055481</td>\n",
       "      <td>60489</td>\n",
       "      <td>Fulham</td>\n",
       "      <td>6.1</td>\n",
       "    </tr>\n",
       "    <tr>\n",
       "      <th>8</th>\n",
       "      <td>0.060359</td>\n",
       "      <td>44832</td>\n",
       "      <td>Greenwich</td>\n",
       "      <td>7.6</td>\n",
       "    </tr>\n",
       "    <tr>\n",
       "      <th>9</th>\n",
       "      <td>0.066741</td>\n",
       "      <td>65687</td>\n",
       "      <td>Hackney</td>\n",
       "      <td>5.7</td>\n",
       "    </tr>\n",
       "    <tr>\n",
       "      <th>11</th>\n",
       "      <td>0.064821</td>\n",
       "      <td>20117</td>\n",
       "      <td>Hampstead</td>\n",
       "      <td>13.3</td>\n",
       "    </tr>\n",
       "    <tr>\n",
       "      <th>12</th>\n",
       "      <td>0.054023</td>\n",
       "      <td>31320</td>\n",
       "      <td>Holborn</td>\n",
       "      <td>32.0</td>\n",
       "    </tr>\n",
       "    <tr>\n",
       "      <th>13</th>\n",
       "      <td>0.064808</td>\n",
       "      <td>81826</td>\n",
       "      <td>Islington</td>\n",
       "      <td>5.7</td>\n",
       "    </tr>\n",
       "    <tr>\n",
       "      <th>14</th>\n",
       "      <td>0.071808</td>\n",
       "      <td>43115</td>\n",
       "      <td>Kensington</td>\n",
       "      <td>14.4</td>\n",
       "    </tr>\n",
       "    <tr>\n",
       "      <th>15</th>\n",
       "      <td>0.064956</td>\n",
       "      <td>73511</td>\n",
       "      <td>Lambeth</td>\n",
       "      <td>6.3</td>\n",
       "    </tr>\n",
       "    <tr>\n",
       "      <th>16</th>\n",
       "      <td>0.070391</td>\n",
       "      <td>32902</td>\n",
       "      <td>Lewisham</td>\n",
       "      <td>6.4</td>\n",
       "    </tr>\n",
       "    <tr>\n",
       "      <th>19</th>\n",
       "      <td>0.070387</td>\n",
       "      <td>32776</td>\n",
       "      <td>Marylebone</td>\n",
       "      <td>23.2</td>\n",
       "    </tr>\n",
       "    <tr>\n",
       "      <th>17</th>\n",
       "      <td>0.067976</td>\n",
       "      <td>35042</td>\n",
       "      <td>Paddington</td>\n",
       "      <td>10.7</td>\n",
       "    </tr>\n",
       "    <tr>\n",
       "      <th>20</th>\n",
       "      <td>0.063769</td>\n",
       "      <td>57285</td>\n",
       "      <td>Pancras</td>\n",
       "      <td>8.7</td>\n",
       "    </tr>\n",
       "    <tr>\n",
       "      <th>18</th>\n",
       "      <td>0.058695</td>\n",
       "      <td>40838</td>\n",
       "      <td>Poplar</td>\n",
       "      <td>5.7</td>\n",
       "    </tr>\n",
       "    <tr>\n",
       "      <th>21</th>\n",
       "      <td>0.059748</td>\n",
       "      <td>28687</td>\n",
       "      <td>Shoreditch</td>\n",
       "      <td>8.2</td>\n",
       "    </tr>\n",
       "    <tr>\n",
       "      <th>22</th>\n",
       "      <td>0.053154</td>\n",
       "      <td>50213</td>\n",
       "      <td>Southwark</td>\n",
       "      <td>6.7</td>\n",
       "    </tr>\n",
       "    <tr>\n",
       "      <th>23</th>\n",
       "      <td>0.051765</td>\n",
       "      <td>14083</td>\n",
       "      <td>Stepney</td>\n",
       "      <td>6.5</td>\n",
       "    </tr>\n",
       "    <tr>\n",
       "      <th>25</th>\n",
       "      <td>0.058411</td>\n",
       "      <td>98217</td>\n",
       "      <td>Wandsworth</td>\n",
       "      <td>6.9</td>\n",
       "    </tr>\n",
       "    <tr>\n",
       "      <th>26</th>\n",
       "      <td>0.057264</td>\n",
       "      <td>8033</td>\n",
       "      <td>Westminster</td>\n",
       "      <td>57.2</td>\n",
       "    </tr>\n",
       "    <tr>\n",
       "      <th>27</th>\n",
       "      <td>0.051584</td>\n",
       "      <td>31909</td>\n",
       "      <td>Woolwich</td>\n",
       "      <td>6.6</td>\n",
       "    </tr>\n",
       "  </tbody>\n",
       "</table>\n",
       "</div>"
      ],
      "text/plain": [
       "         Age    Sex        borough  rateable_value_pc\n",
       "2   0.054189  31593  Bethnal Green                4.9\n",
       "3   0.061101  63060     Camberwell                5.2\n",
       "4   0.091494  18329        Chelsea               14.7\n",
       "7   0.055481  60489         Fulham                6.1\n",
       "8   0.060359  44832      Greenwich                7.6\n",
       "9   0.066741  65687        Hackney                5.7\n",
       "11  0.064821  20117      Hampstead               13.3\n",
       "12  0.054023  31320        Holborn               32.0\n",
       "13  0.064808  81826      Islington                5.7\n",
       "14  0.071808  43115     Kensington               14.4\n",
       "15  0.064956  73511        Lambeth                6.3\n",
       "16  0.070391  32902       Lewisham                6.4\n",
       "19  0.070387  32776     Marylebone               23.2\n",
       "17  0.067976  35042     Paddington               10.7\n",
       "20  0.063769  57285        Pancras                8.7\n",
       "18  0.058695  40838         Poplar                5.7\n",
       "21  0.059748  28687     Shoreditch                8.2\n",
       "22  0.053154  50213      Southwark                6.7\n",
       "23  0.051765  14083        Stepney                6.5\n",
       "25  0.058411  98217     Wandsworth                6.9\n",
       "26  0.057264   8033    Westminster               57.2\n",
       "27  0.051584  31909       Woolwich                6.6"
      ]
     },
     "execution_count": 1070,
     "metadata": {},
     "output_type": "execute_result"
    }
   ],
   "source": [
    "data_merged = age_by_dist.merge(rv,left_index=True,right_on='borough')\n",
    "data_merged"
   ]
  },
  {
   "cell_type": "markdown",
   "metadata": {},
   "source": [
    "##  Correlation"
   ]
  },
  {
   "cell_type": "markdown",
   "metadata": {},
   "source": [
    "Having combined information from these dataframes, we can explore the relation between variables. Let's start with the most the most obvious point: correlation. \n",
    "\n",
    "Correlation tells us the extent to which two variables are related. Imagine I collect the number of dogs I observed in a variable `v1` and the daily cats in `v2`. If there is a correlation between cats and dogs on the street, I expect the to see many (of few) dogs and cats on the same days, or if the number of daily spotted dogs is up, so does the number of cats.\n",
    "\n",
    "To inspect the correlation visually we can make a scatterplot. This plots for each value in `v1` the corresponding value in `v2`. For example the first point in the figure below looks at the first value in both vector. The x value is 1 and the y value is 2 producing at point (1,2). **[rephrase]**"
   ]
  },
  {
   "cell_type": "code",
   "execution_count": 1071,
   "metadata": {},
   "outputs": [],
   "source": [
    "v1 = [1,3,5,7,2,6]\n",
    "v2 = [2,4,8,7,3,5]"
   ]
  },
  {
   "cell_type": "code",
   "execution_count": 1072,
   "metadata": {},
   "outputs": [
    {
     "data": {
      "text/plain": [
       "<matplotlib.axes._subplots.AxesSubplot at 0x13a690a10>"
      ]
     },
     "execution_count": 1072,
     "metadata": {},
     "output_type": "execute_result"
    },
    {
     "data": {
      "image/png": "[encoded data removed]",
      "text/plain": [
       "<Figure size 432x288 with 1 Axes>"
      ]
     },
     "metadata": {},
     "output_type": "display_data"
    }
   ],
   "source": [
    "sns.scatterplot(x=v1,y=v2)"
   ]
  },
  {
   "cell_type": "markdown",
   "metadata": {},
   "source": [
    "The figure suggests a strong correlation between `v1` and `v2`, i.e. we observe hight values for y when x is high. \n",
    "\n",
    "However nice, we'd like to put a number on this, the expressess the strength of this relation, so we can compare if other vectors are stronger correlated.\n",
    "\n",
    "\n",
    "We can compute the strength of this relation between using Pearson correlation coefficient.\n",
    "\n",
    "Please notice that computing correlation is based on an implicit alignment of the tow vectors. Each position captures the same days. If the order in v2 would be different (for example starts at Wednesday) I could technically still make a scatterplot and computer correlation but the results would be meaningless (or at least not match the intention).\n"
   ]
  },
  {
   "cell_type": "markdown",
   "metadata": {},
   "source": [
    "### Pearson correlation coefficient\n",
    "\n",
    "A widely used measure to compute the relation between to arrays or vectors is the pearsion correlation coefficient. This coefficient will vary between -1 and +1, meaning a strong negative respectively positive correlation.\n",
    "\n",
    "\n",
    "Below we will show how to compute it yourself, but as you can guess, there exist method in Pandas.\n",
    "\n",
    "However, showing the process is good to demystify such measures.\n",
    "\n",
    "We need a few ingredients to compute the pearson correlation coeffient. First we need to compute the mean for each vector and their standard deviation. We also need to normalize by the amount of data we have, for this we need to record `n` the number of observations (this is equaly to the length of `v1` (or `v2`, remember both are aligned and equal in length)."
   ]
  },
  {
   "cell_type": "code",
   "execution_count": 1073,
   "metadata": {},
   "outputs": [],
   "source": [
    "mean_v1 = np.mean(v1)\n",
    "mean_v2 = np.mean(v2)\n",
    "std_v1 = np.std(v1)\n",
    "std_v2 = np.std(v2)\n",
    "n = len(v1)"
   ]
  },
  {
   "cell_type": "markdown",
   "metadata": {},
   "source": [
    "Next, for each vector we substract each value with the mean of the vector"
   ]
  },
  {
   "cell_type": "code",
   "execution_count": 1074,
   "metadata": {},
   "outputs": [],
   "source": [
    "sub_mean_v1 = [i - mean_v1 for i in v1]\n",
    "sub_mean_v2 = [i - mean_v2 for i in v2]"
   ]
  },
  {
   "cell_type": "code",
   "execution_count": 1075,
   "metadata": {},
   "outputs": [
    {
     "data": {
      "text/plain": [
       "([-3.0, -1.0, 1.0, 3.0, -2.0, 2.0],\n",
       " [-2.833333333333333,\n",
       "  -0.833333333333333,\n",
       "  3.166666666666667,\n",
       "  2.166666666666667,\n",
       "  -1.833333333333333,\n",
       "  0.16666666666666696])"
      ]
     },
     "execution_count": 1075,
     "metadata": {},
     "output_type": "execute_result"
    }
   ],
   "source": [
    "sub_mean_v1,sub_mean_v2"
   ]
  },
  {
   "cell_type": "markdown",
   "metadata": {},
   "source": [
    "Then we compute the position-wise product of the value in `sub_mean_v1` and `sub_mean_v2`, i.e we we multiple the first position in `sub_mean_v1` with the value in the corresponding postion in `sub_mean_v1`.\n",
    "\n",
    "A convenient function here is `zip()` which as the name suggest zips two lists based on the index. For example if we `zip` `sub_mean_v1` and `sub_mean_v1` we get:"
   ]
  },
  {
   "cell_type": "code",
   "execution_count": 1076,
   "metadata": {},
   "outputs": [
    {
     "data": {
      "text/plain": [
       "[(-3.0, -2.833333333333333),\n",
       " (-1.0, -0.833333333333333),\n",
       " (1.0, 3.166666666666667),\n",
       " (3.0, 2.166666666666667),\n",
       " (-2.0, -1.833333333333333),\n",
       " (2.0, 0.16666666666666696)]"
      ]
     },
     "execution_count": 1076,
     "metadata": {},
     "output_type": "execute_result"
    }
   ],
   "source": [
    "diffs_zipped = list(zip(sub_mean_v1,sub_mean_v2))\n",
    "diffs_zipped"
   ]
  },
  {
   "cell_type": "markdown",
   "metadata": {},
   "source": [
    "Each element in the list `diffs_zipped` is a tuple. Next we multiply the elements in each tuple and sum all the values."
   ]
  },
  {
   "cell_type": "code",
   "execution_count": 1077,
   "metadata": {},
   "outputs": [
    {
     "data": {
      "text/plain": [
       "[8.5,\n",
       " 0.833333333333333,\n",
       " 3.166666666666667,\n",
       " 6.500000000000001,\n",
       " 3.666666666666666,\n",
       " 0.3333333333333339]"
      ]
     },
     "execution_count": 1077,
     "metadata": {},
     "output_type": "execute_result"
    }
   ],
   "source": [
    "products = [i*j for i,j in diffs_zipped]\n",
    "products"
   ]
  },
  {
   "cell_type": "markdown",
   "metadata": {},
   "source": [
    "Now we can compute the nominator of the pearson correlation coefficient, by taking the sum of these products."
   ]
  },
  {
   "cell_type": "code",
   "execution_count": 1078,
   "metadata": {},
   "outputs": [
    {
     "data": {
      "text/plain": [
       "23.0"
      ]
     },
     "execution_count": 1078,
     "metadata": {},
     "output_type": "execute_result"
    }
   ],
   "source": [
    "nominator = sum(products)\n",
    "nominator"
   ]
  },
  {
   "cell_type": "markdown",
   "metadata": {},
   "source": [
    "To obtain the coefficient we divide the nominator by the product of the standard deviations and the number of observiations"
   ]
  },
  {
   "cell_type": "code",
   "execution_count": 1079,
   "metadata": {},
   "outputs": [],
   "source": [
    "denominator = std_v1 * std_v2 * len(v1)"
   ]
  },
  {
   "cell_type": "code",
   "execution_count": 1080,
   "metadata": {},
   "outputs": [
    {
     "data": {
      "text/plain": [
       "0.8390957231764806"
      ]
     },
     "execution_count": 1080,
     "metadata": {},
     "output_type": "execute_result"
    }
   ],
   "source": [
    "nominator / denominator"
   ]
  },
  {
   "cell_type": "markdown",
   "metadata": {},
   "source": [
    "Looking closer at these steps you can intuitively grasp what the determines the strength of the coerration. Looking at `diffs_zipped` and `product` you observe that if two values (at the same position) equally differ from the mean this will result in higher products (remember from hight school that the product of two negative numbers is positive!) and produces a higher values for the nominator. For yourself, you can establish that when the difference from the mean but in an opposite direction wil result in negative nominator."
   ]
  },
  {
   "cell_type": "markdown",
   "metadata": {},
   "source": [
    "Of course you can skip these steps, as Pandas provide you with a method `.corr()` to compute correlation between two series. Below we first convert each vector to an instance of `pd.Series` and then calculate the correlation coefficient, which, too no surprise, should be exactly the same!"
   ]
  },
  {
   "cell_type": "markdown",
   "metadata": {},
   "source": [
    "Of course, now we can also compute the relation between age and wealth."
   ]
  },
  {
   "cell_type": "code",
   "execution_count": 1081,
   "metadata": {},
   "outputs": [
    {
     "data": {
      "text/plain": [
       "0.007468551985364732"
      ]
     },
     "execution_count": 1081,
     "metadata": {},
     "output_type": "execute_result"
    }
   ],
   "source": [
    "data_merged['Age'].corr(data_merged['rateable_value_pc'])"
   ]
  },
  {
   "cell_type": "markdown",
   "metadata": {},
   "source": [
    "Actually, that's quite a low correlation!"
   ]
  },
  {
   "cell_type": "code",
   "execution_count": 1082,
   "metadata": {},
   "outputs": [
    {
     "data": {
      "text/plain": [
       "<matplotlib.axes._subplots.AxesSubplot at 0x139769890>"
      ]
     },
     "execution_count": 1082,
     "metadata": {},
     "output_type": "execute_result"
    },
    {
     "data": {
      "image/png": "[encoded data removed]",
      "text/plain": [
       "<Figure size 432x288 with 1 Axes>"
      ]
     },
     "metadata": {},
     "output_type": "display_data"
    }
   ],
   "source": [
    "sns.scatterplot(x='rateable_value_pc',y='Age',data=data_merged)"
   ]
  },
  {
   "cell_type": "markdown",
   "metadata": {},
   "source": [
    "### Spearman correlation"
   ]
  },
  {
   "cell_type": "markdown",
   "metadata": {},
   "source": [
    "As any statistics text will tell you, there are many different ways to compute correlation between variables and depending on your research some will be more valid then others. \n",
    "\n",
    "Pearson takes into accounts the differences between the number of cats and dogs. But imagine, that I care are more if I spot more of these animals on the same day. In this case I care more about the rank correlation. \n",
    "**[explain a bit better]**\n",
    "\n",
    "We compute this using the Spearman rank correlation."
   ]
  },
  {
   "cell_type": "code",
   "execution_count": 1083,
   "metadata": {},
   "outputs": [
    {
     "data": {
      "text/plain": [
       "([1, 3, 5, 7, 2, 6], [1, 3, 4, 6, 2, 5])"
      ]
     },
     "execution_count": 1083,
     "metadata": {},
     "output_type": "execute_result"
    }
   ],
   "source": [
    "v1_ranked = {v:i+1 for i,v in enumerate(sorted(v1))}\n",
    "v1_rank = [v1_ranked[i] for i in v1]\n",
    "v1, v1_rank"
   ]
  },
  {
   "cell_type": "code",
   "execution_count": 1084,
   "metadata": {},
   "outputs": [
    {
     "data": {
      "text/plain": [
       "[1, 3, 6, 5, 2, 4]"
      ]
     },
     "execution_count": 1084,
     "metadata": {},
     "output_type": "execute_result"
    }
   ],
   "source": [
    "v2_ranked = {v:i+1 for i,v in enumerate(sorted(v2))}\n",
    "v2_rank = [v2_ranked[i] for i in v2]\n",
    "v2_rank"
   ]
  },
  {
   "cell_type": "code",
   "execution_count": 1085,
   "metadata": {},
   "outputs": [],
   "source": [
    "mean_v1 = np.mean(v1_rank)\n",
    "mean_v2 = np.mean(v2_rank)"
   ]
  },
  {
   "cell_type": "code",
   "execution_count": 1086,
   "metadata": {},
   "outputs": [],
   "source": [
    "nominator = np.sum([(i1 - mean_v1)*(i2 - mean_v2) for i1,i2 in zip(v1_rank,v2_rank)])"
   ]
  },
  {
   "cell_type": "code",
   "execution_count": 1087,
   "metadata": {},
   "outputs": [],
   "source": [
    "denominator = np.std(v1_rank) * np.std(v2_rank) * len(v2_rank)"
   ]
  },
  {
   "cell_type": "code",
   "execution_count": 1088,
   "metadata": {},
   "outputs": [
    {
     "data": {
      "text/plain": [
       "0.8285714285714286"
      ]
     },
     "execution_count": 1088,
     "metadata": {},
     "output_type": "execute_result"
    }
   ],
   "source": [
    "nominator/denominator"
   ]
  },
  {
   "cell_type": "code",
   "execution_count": 1089,
   "metadata": {},
   "outputs": [
    {
     "data": {
      "text/plain": [
       "0.8285714285714287"
      ]
     },
     "execution_count": 1089,
     "metadata": {},
     "output_type": "execute_result"
    }
   ],
   "source": [
    "pd.Series(v1).corr(pd.Series(v2), method='spearman')"
   ]
  },
  {
   "cell_type": "code",
   "execution_count": 1090,
   "metadata": {},
   "outputs": [
    {
     "data": {
      "text/plain": [
       "0.20293964355004646"
      ]
     },
     "execution_count": 1090,
     "metadata": {},
     "output_type": "execute_result"
    }
   ],
   "source": [
    "data_merged['Age'].corr(data_merged['rateable_value_pc'],method='spearman')"
   ]
  },
  {
   "cell_type": "markdown",
   "metadata": {},
   "source": [
    "Even those who don't engage with statistics, have heard that correlation doesn't mean causation, and is often called 'spurious'. \n",
    "Correlation doesn't mean that two variables are associated in the 'real world' (and the opposite: the lack of correlation doesn't mean there is no meaningfull relation between variables).\n",
    "\n",
    "There is even a website on this topic: https://www.tylervigen.com/spurious-correlations\n",
    "\n",
    "Be careful when making claims based on the correlation. As often, the statistsical experiment won't give you an answer to your question. There is no simple way to determine if a correlation is spurious, this depends on your domain and theoretical knowledge.\n"
   ]
  },
  {
   "cell_type": "markdown",
   "metadata": {},
   "source": [
    "# Linear Regression"
   ]
  },
  {
   "cell_type": "markdown",
   "metadata": {},
   "source": [
    "Whereas correlation tells you that two variables are related (albeit in a very superficial way) you can not tell more besides the fact the when X goes up we expect Y to do the same. If I see more dogs, I'm also expecting to notice more cats.\n",
    "\n",
    "Regression modelling on the other hand will tell us more about the mechanistic relation between two variables: how many cats do I expect to see after on a day where I \n",
    "\n",
    "The mechanistic relationship allows us to predict a phenomena based on a number of what are usually called independent of predictor variables.\n",
    "\n",
    "Returning to our example of age and wealth (goodby doggies, you were very helpful), we'd like to see if we can predict the average age (response) in a district given the rateable value per capita (predictor).\n",
    "\n",
    "Notice here that we have to rely on common sense and domain expertise to construct model that make sense. We could also model the reverse, assuming that populating an area with younger people will affect rateable value. Of course, that also make sense in some universe and could be called reverse causality. \n",
    "\n",
    "However, in the way we framed the research (and again this a construction and based on construct validity) we framed as wealth having an impact on age: in poor district the people die younger, people dying younger doesn't make a place poorer. \n",
    "\n",
    "R -> A\n",
    "\n",
    "and not \n",
    "\n",
    "R <- A\n",
    "\n",
    "But these are assumption, (questionable) projections on the data. Oftentimes, when reading a historical paper that usess statistical methods, it is often more important to critically look at the relation between narrative and method (what is data supposed to capture (or mean) and how is combined into a causal theory)."
   ]
  },
  {
   "cell_type": "markdown",
   "metadata": {},
   "source": [
    "Let's first discuss what a regression model does, before we continue with a more detailed discussion on how to run a regression model."
   ]
  },
  {
   "cell_type": "markdown",
   "metadata": {},
   "source": [
    "In it's simplest form a linear model we try to predict a value (age) based on a linear combination of another valie (rateable value per capita). We want to predict the former using the latter.\n",
    "\n",
    "Using `seaborn` we can make a dispersion plot where each observation is turned into a point on the figure. The x-axis (`x=`) shows the rateable value, the y-axis (`y=`) age. "
   ]
  },
  {
   "cell_type": "code",
   "execution_count": 1091,
   "metadata": {},
   "outputs": [
    {
     "data": {
      "text/plain": [
       "<matplotlib.axes._subplots.AxesSubplot at 0x139498850>"
      ]
     },
     "execution_count": 1091,
     "metadata": {},
     "output_type": "execute_result"
    },
    {
     "data": {
      "image/png": "[encoded data removed]",
      "text/plain": [
       "<Figure size 432x288 with 1 Axes>"
      ]
     },
     "metadata": {},
     "output_type": "display_data"
    }
   ],
   "source": [
    "sns.scatterplot(x='rateable_value_pc',\n",
    "                y='Age',\n",
    "                data=data_merged)"
   ]
  },
  {
   "cell_type": "markdown",
   "metadata": {},
   "source": [
    "How? Looking at the scatterplot the relation between the two is not obvious. In it's simplest, a linear regression will model the relation between x and y by drawing a line best \"fits\" the data, i.e. closest to the observations as possible."
   ]
  },
  {
   "cell_type": "markdown",
   "metadata": {},
   "source": [
    "From your high school you may remember the equation of a line.\n",
    "\n",
    "y = a + b*x\n",
    "\n",
    "age = intercept + slope * rateable value per capita\n",
    "\n",
    "a is intercept, the point where the line crosses to y-axis if x is zero. You may also think as: what age do we expect for a place with zero rateable value.\n",
    "\n",
    "b is the slope, and determinss the strength the y and x: how much change to we expect in y after one unit change x. What how many years do we expect to add moving from a place with rateable value 3 to 4 for example.\n",
    "\n",
    "We know age and rateable value. We use these data to estimate the value of a (intercept) and b slope. We have a closer look at this later.\n",
    "\n",
    "For now we plot the result, i.e. what the model thinks the line should look like after observing the data."
   ]
  },
  {
   "cell_type": "code",
   "execution_count": 1092,
   "metadata": {},
   "outputs": [
    {
     "data": {
      "text/plain": [
       "<matplotlib.axes._subplots.AxesSubplot at 0x13896e550>"
      ]
     },
     "execution_count": 1092,
     "metadata": {},
     "output_type": "execute_result"
    },
    {
     "data": {
      "image/png": "[encoded data removed]",
      "text/plain": [
       "<Figure size 432x288 with 1 Axes>"
      ]
     },
     "metadata": {},
     "output_type": "display_data"
    }
   ],
   "source": [
    "sns.regplot(x=\"rateable_value_pc\", y=\"Age\", \n",
    "                 data=data_merged,\n",
    "                 scatter_kws={\"s\": 10},\n",
    "                 order=1,ci=False)"
   ]
  },
  {
   "cell_type": "markdown",
   "metadata": {},
   "source": [
    "The line plotted is based on a linear regression and is the line that fits best all observations. \n",
    "\n",
    "The fact that models \"work\", doesn't nesicarilly mean they make sense. A best fit can still be pretty bad.\n",
    "\n",
    "As you observe there are many values cluttered together in the lower range and only a few at the right hand side of the figure.\n",
    "\n",
    "We can improve the fit by transforming the values on a-axis. We take the natural logarthim of the rateable value per capite, this will make small differences (pull apart the observation at the lower end of independent variable) and large difference smaller (push those places at the far right to the other observations).\n",
    "\n",
    "But what is the natural logarithm? Let's have a look, what happens if we take the logarithm of 1000"
   ]
  },
  {
   "cell_type": "code",
   "execution_count": 1093,
   "metadata": {},
   "outputs": [
    {
     "data": {
      "text/plain": [
       "6.907755278982137"
      ]
     },
     "execution_count": 1093,
     "metadata": {},
     "output_type": "execute_result"
    }
   ],
   "source": [
    "np.log(1000)"
   ]
  },
  {
   "cell_type": "markdown",
   "metadata": {},
   "source": [
    "We get a number close to 7 (i.e. 6.907755278982137). What does this mean? The logarithm is inverse of exponentation: if x = log(y) and y = exp(x), or sticking to our example, if np.log(1000) produces 6.907755 then \n",
    "e<sup>6.90775</sup> will approximately equal 1000 (not exactly as rounded the numbers.\n",
    "`e` is called Euler's number and is approximately equal to 2.71828182845904523536028747135266249775724709369995 according to [Wikipedia]. You can check this for yourself"
   ]
  },
  {
   "cell_type": "code",
   "execution_count": 1094,
   "metadata": {},
   "outputs": [
    {
     "data": {
      "text/plain": [
       "999.9999999999998"
      ]
     },
     "execution_count": 1094,
     "metadata": {},
     "output_type": "execute_result"
    }
   ],
   "source": [
    "np.exp(6.907755278982137)"
   ]
  },
  {
   "cell_type": "code",
   "execution_count": 1095,
   "metadata": {},
   "outputs": [
    {
     "data": {
      "text/plain": [
       "999.9953534904313"
      ]
     },
     "execution_count": 1095,
     "metadata": {},
     "output_type": "execute_result"
    }
   ],
   "source": [
    "np.power(2.71828,6.907755278982137)"
   ]
  },
  {
   "cell_type": "markdown",
   "metadata": {},
   "source": [
    "But why we would we do this, why would we effectively rescale one our variables? This partly solves the problem of dispersion: the logarithmic scale can make linear modelling easier, as sometimes value becomes linear on a logarithmic scale. Below we first show a toy example using numbers that become increasingly separated."
   ]
  },
  {
   "cell_type": "code",
   "execution_count": 1096,
   "metadata": {},
   "outputs": [],
   "source": [
    "x_1 = [10,100,1000,10000]"
   ]
  },
  {
   "cell_type": "markdown",
   "metadata": {},
   "source": [
    "As you seen it is very difficult to model sudden gaps with a linear line..."
   ]
  },
  {
   "cell_type": "code",
   "execution_count": 1097,
   "metadata": {},
   "outputs": [
    {
     "data": {
      "text/plain": [
       "<matplotlib.axes._subplots.AxesSubplot at 0x136986150>"
      ]
     },
     "execution_count": 1097,
     "metadata": {},
     "output_type": "execute_result"
    },
    {
     "data": {
      "image/png": "[encoded data removed]",
      "text/plain": [
       "<Figure size 432x288 with 1 Axes>"
      ]
     },
     "metadata": {},
     "output_type": "display_data"
    }
   ],
   "source": [
    "sns.regplot(x=list(range(len(x_1))), y=x_1, \n",
    "                 scatter_kws={\"s\": 80},\n",
    "                 order=1,ci=False)"
   ]
  },
  {
   "cell_type": "markdown",
   "metadata": {},
   "source": [
    "However, if we take the logarith, these values become neatly linear."
   ]
  },
  {
   "cell_type": "code",
   "execution_count": 1098,
   "metadata": {},
   "outputs": [],
   "source": [
    "x_2 = np.log([10,100,1000,10000])"
   ]
  },
  {
   "cell_type": "code",
   "execution_count": 1099,
   "metadata": {},
   "outputs": [
    {
     "data": {
      "text/plain": [
       "<matplotlib.axes._subplots.AxesSubplot at 0x1381282d0>"
      ]
     },
     "execution_count": 1099,
     "metadata": {},
     "output_type": "execute_result"
    },
    {
     "data": {
      "image/png": "[encoded data removed]",
      "text/plain": [
       "<Figure size 432x288 with 1 Axes>"
      ]
     },
     "metadata": {},
     "output_type": "display_data"
    }
   ],
   "source": [
    "sns.regplot(x=list(range(len(x_2))), y=x_2, \n",
    "                 scatter_kws={\"s\": 80},\n",
    "                 order=1,ci=False)"
   ]
  },
  {
   "cell_type": "markdown",
   "metadata": {},
   "source": [
    "Even though 'real' data never fits patterns as neatly, we observe similar changes when inspecting the rateable value per capita variable."
   ]
  },
  {
   "cell_type": "code",
   "execution_count": 1100,
   "metadata": {},
   "outputs": [],
   "source": [
    "data_merged.sort_values('rateable_value_pc',inplace=True)"
   ]
  },
  {
   "cell_type": "code",
   "execution_count": 1101,
   "metadata": {},
   "outputs": [
    {
     "data": {
      "text/plain": [
       "<matplotlib.axes._subplots.AxesSubplot at 0x136986310>"
      ]
     },
     "execution_count": 1101,
     "metadata": {},
     "output_type": "execute_result"
    },
    {
     "data": {
      "image/png": "[encoded data removed]",
      "text/plain": [
       "<Figure size 432x288 with 1 Axes>"
      ]
     },
     "metadata": {},
     "output_type": "display_data"
    }
   ],
   "source": [
    "sns.regplot(x=list(range(22)), y=data_merged[\"rateable_value_pc\"], \n",
    "                 scatter_kws={\"s\": 10},\n",
    "                 order=1,ci=False)"
   ]
  },
  {
   "cell_type": "code",
   "execution_count": 1102,
   "metadata": {},
   "outputs": [],
   "source": [
    "data_merged['rvc_log'] = np.log(data_merged['rateable_value_pc'])"
   ]
  },
  {
   "cell_type": "code",
   "execution_count": 1103,
   "metadata": {},
   "outputs": [
    {
     "data": {
      "text/plain": [
       "<matplotlib.axes._subplots.AxesSubplot at 0x139aac3d0>"
      ]
     },
     "execution_count": 1103,
     "metadata": {},
     "output_type": "execute_result"
    },
    {
     "data": {
      "image/png": "[encoded data removed]",
      "text/plain": [
       "<Figure size 432x288 with 1 Axes>"
      ]
     },
     "metadata": {},
     "output_type": "display_data"
    }
   ],
   "source": [
    "sns.regplot(x=list(range(22)), y=data_merged[\"rvc_log\"], \n",
    "                 scatter_kws={\"s\": 10},\n",
    "                 order=1,ci=False)"
   ]
  },
  {
   "cell_type": "markdown",
   "metadata": {},
   "source": [
    "Both lines don't fit the data perfectly, however the later one does seem approximate the actual observed values better.\n",
    "\n",
    "Also, if now model age as a function of the logged rateable value, we "
   ]
  },
  {
   "cell_type": "code",
   "execution_count": 1104,
   "metadata": {},
   "outputs": [],
   "source": [
    "data_merged['rvc_log'] = np.log(data_merged['rateable_value_pc'])"
   ]
  },
  {
   "cell_type": "code",
   "execution_count": 1105,
   "metadata": {},
   "outputs": [
    {
     "data": {
      "text/plain": [
       "<matplotlib.axes._subplots.AxesSubplot at 0x13860d190>"
      ]
     },
     "execution_count": 1105,
     "metadata": {},
     "output_type": "execute_result"
    },
    {
     "data": {
      "image/png": "[encoded data removed]",
      "text/plain": [
       "<Figure size 432x288 with 1 Axes>"
      ]
     },
     "metadata": {},
     "output_type": "display_data"
    }
   ],
   "source": [
    "sns.regplot(x=\"rvc_log\", y=\"Age\", \n",
    "                 data=data_merged,\n",
    "                 scatter_kws={\"s\": 10},\n",
    "                 order=1,ci=False)"
   ]
  },
  {
   "cell_type": "markdown",
   "metadata": {},
   "source": [
    "Later in this lecture we have a closer look and actually quantify the difference logging makes with respect to the goodness of fit. For now, a visual inspection suffices. Even though, we could add, that logging also improved the correlation between the two variables."
   ]
  },
  {
   "cell_type": "code",
   "execution_count": 1106,
   "metadata": {},
   "outputs": [
    {
     "data": {
      "text/plain": [
       "0.007468551985364711"
      ]
     },
     "execution_count": 1106,
     "metadata": {},
     "output_type": "execute_result"
    }
   ],
   "source": [
    "data_merged['rateable_value_pc'].corr(data_merged['Age'],method='pearson')"
   ]
  },
  {
   "cell_type": "code",
   "execution_count": 1107,
   "metadata": {},
   "outputs": [
    {
     "data": {
      "text/plain": [
       "0.18591858770172157"
      ]
     },
     "execution_count": 1107,
     "metadata": {},
     "output_type": "execute_result"
    }
   ],
   "source": [
    "data_merged['rvc_log'].corr(data_merged['Age'],method='pearson')"
   ]
  },
  {
   "cell_type": "markdown",
   "metadata": {},
   "source": [
    "Generally logging values doesn't harm, but you'll have to be careful as it influences your interpretation and the predictions to model will make. So you have to be carefull nonetheless. "
   ]
  },
  {
   "cell_type": "markdown",
   "metadata": {},
   "source": [
    "A closer look at the scatterplot and the data shown that two (or three) places have a signficantly higher rateable value: Holborn and Westminster, and also Marelybone. This is confirmed by the boxplot below.  \n",
    "\n",
    "How to approach these observation: one albeit, very problematich approach is to consider them as outlier and remove them from the datasets.\n",
    "\n",
    "This is a classical example of where interventions need to motivated or at least explained by domain expertise. Excluding the Holborn and Westminster has a huge effect on the slope of the regression line."
   ]
  },
  {
   "cell_type": "code",
   "execution_count": 1108,
   "metadata": {},
   "outputs": [
    {
     "data": {
      "text/html": [
       "<div>\n",
       "<style scoped>\n",
       "    .dataframe tbody tr th:only-of-type {\n",
       "        vertical-align: middle;\n",
       "    }\n",
       "\n",
       "    .dataframe tbody tr th {\n",
       "        vertical-align: top;\n",
       "    }\n",
       "\n",
       "    .dataframe thead th {\n",
       "        text-align: right;\n",
       "    }\n",
       "</style>\n",
       "<table border=\"1\" class=\"dataframe\">\n",
       "  <thead>\n",
       "    <tr style=\"text-align: right;\">\n",
       "      <th></th>\n",
       "      <th>borough</th>\n",
       "      <th>rateable_value_pc</th>\n",
       "    </tr>\n",
       "  </thead>\n",
       "  <tbody>\n",
       "    <tr>\n",
       "      <th>2</th>\n",
       "      <td>Bethnal Green</td>\n",
       "      <td>4.9</td>\n",
       "    </tr>\n",
       "    <tr>\n",
       "      <th>3</th>\n",
       "      <td>Camberwell</td>\n",
       "      <td>5.2</td>\n",
       "    </tr>\n",
       "    <tr>\n",
       "      <th>18</th>\n",
       "      <td>Poplar</td>\n",
       "      <td>5.7</td>\n",
       "    </tr>\n",
       "    <tr>\n",
       "      <th>13</th>\n",
       "      <td>Islington</td>\n",
       "      <td>5.7</td>\n",
       "    </tr>\n",
       "    <tr>\n",
       "      <th>9</th>\n",
       "      <td>Hackney</td>\n",
       "      <td>5.7</td>\n",
       "    </tr>\n",
       "    <tr>\n",
       "      <th>7</th>\n",
       "      <td>Fulham</td>\n",
       "      <td>6.1</td>\n",
       "    </tr>\n",
       "    <tr>\n",
       "      <th>15</th>\n",
       "      <td>Lambeth</td>\n",
       "      <td>6.3</td>\n",
       "    </tr>\n",
       "    <tr>\n",
       "      <th>16</th>\n",
       "      <td>Lewisham</td>\n",
       "      <td>6.4</td>\n",
       "    </tr>\n",
       "    <tr>\n",
       "      <th>23</th>\n",
       "      <td>Stepney</td>\n",
       "      <td>6.5</td>\n",
       "    </tr>\n",
       "    <tr>\n",
       "      <th>27</th>\n",
       "      <td>Woolwich</td>\n",
       "      <td>6.6</td>\n",
       "    </tr>\n",
       "    <tr>\n",
       "      <th>22</th>\n",
       "      <td>Southwark</td>\n",
       "      <td>6.7</td>\n",
       "    </tr>\n",
       "    <tr>\n",
       "      <th>25</th>\n",
       "      <td>Wandsworth</td>\n",
       "      <td>6.9</td>\n",
       "    </tr>\n",
       "    <tr>\n",
       "      <th>8</th>\n",
       "      <td>Greenwich</td>\n",
       "      <td>7.6</td>\n",
       "    </tr>\n",
       "    <tr>\n",
       "      <th>21</th>\n",
       "      <td>Shoreditch</td>\n",
       "      <td>8.2</td>\n",
       "    </tr>\n",
       "    <tr>\n",
       "      <th>20</th>\n",
       "      <td>Pancras</td>\n",
       "      <td>8.7</td>\n",
       "    </tr>\n",
       "    <tr>\n",
       "      <th>17</th>\n",
       "      <td>Paddington</td>\n",
       "      <td>10.7</td>\n",
       "    </tr>\n",
       "    <tr>\n",
       "      <th>11</th>\n",
       "      <td>Hampstead</td>\n",
       "      <td>13.3</td>\n",
       "    </tr>\n",
       "    <tr>\n",
       "      <th>14</th>\n",
       "      <td>Kensington</td>\n",
       "      <td>14.4</td>\n",
       "    </tr>\n",
       "    <tr>\n",
       "      <th>4</th>\n",
       "      <td>Chelsea</td>\n",
       "      <td>14.7</td>\n",
       "    </tr>\n",
       "    <tr>\n",
       "      <th>19</th>\n",
       "      <td>Marylebone</td>\n",
       "      <td>23.2</td>\n",
       "    </tr>\n",
       "    <tr>\n",
       "      <th>12</th>\n",
       "      <td>Holborn</td>\n",
       "      <td>32.0</td>\n",
       "    </tr>\n",
       "    <tr>\n",
       "      <th>26</th>\n",
       "      <td>Westminster</td>\n",
       "      <td>57.2</td>\n",
       "    </tr>\n",
       "  </tbody>\n",
       "</table>\n",
       "</div>"
      ],
      "text/plain": [
       "          borough  rateable_value_pc\n",
       "2   Bethnal Green                4.9\n",
       "3      Camberwell                5.2\n",
       "18         Poplar                5.7\n",
       "13      Islington                5.7\n",
       "9         Hackney                5.7\n",
       "7          Fulham                6.1\n",
       "15        Lambeth                6.3\n",
       "16       Lewisham                6.4\n",
       "23        Stepney                6.5\n",
       "27       Woolwich                6.6\n",
       "22      Southwark                6.7\n",
       "25     Wandsworth                6.9\n",
       "8       Greenwich                7.6\n",
       "21     Shoreditch                8.2\n",
       "20        Pancras                8.7\n",
       "17     Paddington               10.7\n",
       "11      Hampstead               13.3\n",
       "14     Kensington               14.4\n",
       "4         Chelsea               14.7\n",
       "19     Marylebone               23.2\n",
       "12        Holborn               32.0\n",
       "26    Westminster               57.2"
      ]
     },
     "execution_count": 1108,
     "metadata": {},
     "output_type": "execute_result"
    }
   ],
   "source": [
    "data_merged[['borough','rateable_value_pc']]"
   ]
  },
  {
   "cell_type": "code",
   "execution_count": 1109,
   "metadata": {},
   "outputs": [
    {
     "name": "stderr",
     "output_type": "stream",
     "text": [
      "/usr/local/lib/python3.7/site-packages/seaborn/_decorators.py:43: FutureWarning: Pass the following variable as a keyword arg: x. From version 0.12, the only valid positional argument will be `data`, and passing other arguments without an explicit keyword will result in an error or misinterpretation.\n",
      "  FutureWarning\n"
     ]
    },
    {
     "data": {
      "text/plain": [
       "<matplotlib.axes._subplots.AxesSubplot at 0x1389c7f10>"
      ]
     },
     "execution_count": 1109,
     "metadata": {},
     "output_type": "execute_result"
    },
    {
     "data": {
      "image/png": "[encoded data removed]",
      "text/plain": [
       "<Figure size 432x288 with 1 Axes>"
      ]
     },
     "metadata": {},
     "output_type": "display_data"
    }
   ],
   "source": [
    "sns.boxplot(data_merged.rateable_value_pc)"
   ]
  },
  {
   "cell_type": "markdown",
   "metadata": {},
   "source": [
    "Let's remove these districts to how they affect our model."
   ]
  },
  {
   "cell_type": "code",
   "execution_count": 1110,
   "metadata": {},
   "outputs": [],
   "source": [
    "data_wo_outliers = data_merged[~data_merged.borough.isin(['Westminster',\"Holborn\"])]"
   ]
  },
  {
   "cell_type": "code",
   "execution_count": 1111,
   "metadata": {},
   "outputs": [
    {
     "data": {
      "text/plain": [
       "<matplotlib.axes._subplots.AxesSubplot at 0x136bba410>"
      ]
     },
     "execution_count": 1111,
     "metadata": {},
     "output_type": "execute_result"
    },
    {
     "data": {
      "image/png": "[encoded data removed]",
      "text/plain": [
       "<Figure size 432x288 with 1 Axes>"
      ]
     },
     "metadata": {},
     "output_type": "display_data"
    }
   ],
   "source": [
    "sns.regplot(x=\"rvc_log\", y=\"Age\", data=data_merged,\n",
    "                 scatter_kws={\"s\": 10},\n",
    "                 order=1,ci=False)\n",
    "\n",
    "sns.regplot(x=\"rvc_log\", y=\"Age\", data=data_wo_outliers,\n",
    "                 scatter_kws={\"s\": 10},\n",
    "                 order=1,ci=False)"
   ]
  },
  {
   "cell_type": "markdown",
   "metadata": {},
   "source": [
    "In the figure the orange line shows the regression line after removing the so-called 'outliers'. You see how throwing away information (i.e. observations) is tricky thing: yes it easier to model the relationship between the variables linearly. However, this comes at a cost, we won't be able to accurately say something about the wealthier districts, and (if we believe the orange \n",
    "\n",
    "However, if you're only interested in predicting the age for a certain type of boroughs, and have good reasons to believe the ones we throwns are qualitatively different and should be considered as seperate case studies, then yes, it could be allow the consider only certain boroughs.\n",
    "\n",
    "In any case, it is important to know the a few place carry a lot of weight, i.e. the influence the slope of the regression lines substantially.\n",
    "\n",
    "\n",
    "Again, here, or domain expertise has priority over statistics, and the statistics alone can not provide you with the answer of how to proceed and analyse your data."
   ]
  },
  {
   "cell_type": "code",
   "execution_count": 1112,
   "metadata": {},
   "outputs": [
    {
     "name": "stdout",
     "output_type": "stream",
     "text": [
      "0.18591858770172157\n",
      "0.6144105064733825\n"
     ]
    }
   ],
   "source": [
    "print(data_merged['rvc_log'].corr(data_merged['Age']))\n",
    "print(data_wo_outliers['rvc_log'].corr(data_wo_outliers['Age']))\n"
   ]
  },
  {
   "cell_type": "code",
   "execution_count": 1113,
   "metadata": {},
   "outputs": [
    {
     "data": {
      "text/plain": [
       "<matplotlib.axes._subplots.AxesSubplot at 0x13c1bf110>"
      ]
     },
     "execution_count": 1113,
     "metadata": {},
     "output_type": "execute_result"
    },
    {
     "data": {
      "image/png": "[encoded data removed]",
      "text/plain": [
       "<Figure size 432x288 with 1 Axes>"
      ]
     },
     "metadata": {},
     "output_type": "display_data"
    }
   ],
   "source": [
    "sns.regplot(x=\"rvc_log\", y=\"Age\", \n",
    "                 data=data_wo_outliers,\n",
    "                 scatter_kws={\"s\": 10},\n",
    "                 order=1,ci=False)"
   ]
  },
  {
   "cell_type": "markdown",
   "metadata": {},
   "source": [
    "Hopefully, this largely visual introduction demonstrated the use of linear regression and some of problems that you are likely to encounter. Again, we'd like to stress that often the solution to these issues often require you to lean on your domain expertise as historian. To solutions are often not statistical. \n",
    "\n",
    "History always should come before statistics."
   ]
  },
  {
   "cell_type": "markdown",
   "metadata": {},
   "source": [
    "## Linear Regression (a closer look)\n",
    "\n",
    "In the preceding section we approached the idea of linear regression from a more intuitive, visual perspective. In this section we have a closer look at the reading the results and outputs that accompany regression analysis. \n",
    "\n",
    "Performing a linear regression is rather straightforward with  the `statsmodels` package in Python. There a just a few things to be careful about. First we define the response variable, in this case 'Age'."
   ]
  },
  {
   "cell_type": "code",
   "execution_count": 1114,
   "metadata": {},
   "outputs": [],
   "source": [
    "Y = data_merged['Age']"
   ]
  },
  {
   "cell_type": "markdown",
   "metadata": {},
   "source": [
    "Next we select the independent variable from the dataframe."
   ]
  },
  {
   "cell_type": "code",
   "execution_count": 1115,
   "metadata": {},
   "outputs": [],
   "source": [
    "X = data_merged['rateable_value_pc']"
   ]
  },
  {
   "cell_type": "markdown",
   "metadata": {},
   "source": [
    "Now there is one small trick to keep in mind. As said earlier the equation of a simple linear model is \n",
    "\n",
    "$y = a + b*x$\n",
    "\n",
    "In this equation we know both $y$ and $x$ these are data we observed. We don't know $a$ and $b$, these are the parameters we want to learn from the data. \n",
    "\n",
    "Running a regression will return an estimate for $a$ and $b$ most consistent with the observed data. \n",
    "\n",
    "Because we want `statsmodels` to estimate both the intercept $a$ and the slope $b$ we have to add one more column with only a constant to `X`. Luckily this is really straightforwards with the `add_constant` function."
   ]
  },
  {
   "cell_type": "code",
   "execution_count": 1116,
   "metadata": {},
   "outputs": [
    {
     "name": "stderr",
     "output_type": "stream",
     "text": [
      "/usr/local/lib/python3.7/site-packages/statsmodels/tsa/tsatools.py:117: FutureWarning: In a future version of pandas all arguments of concat except for the argument 'objs' will be keyword-only\n",
      "  x = pd.concat(x[::order], 1)\n"
     ]
    },
    {
     "data": {
      "text/html": [
       "<div>\n",
       "<style scoped>\n",
       "    .dataframe tbody tr th:only-of-type {\n",
       "        vertical-align: middle;\n",
       "    }\n",
       "\n",
       "    .dataframe tbody tr th {\n",
       "        vertical-align: top;\n",
       "    }\n",
       "\n",
       "    .dataframe thead th {\n",
       "        text-align: right;\n",
       "    }\n",
       "</style>\n",
       "<table border=\"1\" class=\"dataframe\">\n",
       "  <thead>\n",
       "    <tr style=\"text-align: right;\">\n",
       "      <th></th>\n",
       "      <th>const</th>\n",
       "      <th>rateable_value_pc</th>\n",
       "    </tr>\n",
       "  </thead>\n",
       "  <tbody>\n",
       "    <tr>\n",
       "      <th>2</th>\n",
       "      <td>1.0</td>\n",
       "      <td>4.9</td>\n",
       "    </tr>\n",
       "    <tr>\n",
       "      <th>3</th>\n",
       "      <td>1.0</td>\n",
       "      <td>5.2</td>\n",
       "    </tr>\n",
       "    <tr>\n",
       "      <th>18</th>\n",
       "      <td>1.0</td>\n",
       "      <td>5.7</td>\n",
       "    </tr>\n",
       "    <tr>\n",
       "      <th>13</th>\n",
       "      <td>1.0</td>\n",
       "      <td>5.7</td>\n",
       "    </tr>\n",
       "    <tr>\n",
       "      <th>9</th>\n",
       "      <td>1.0</td>\n",
       "      <td>5.7</td>\n",
       "    </tr>\n",
       "    <tr>\n",
       "      <th>7</th>\n",
       "      <td>1.0</td>\n",
       "      <td>6.1</td>\n",
       "    </tr>\n",
       "    <tr>\n",
       "      <th>15</th>\n",
       "      <td>1.0</td>\n",
       "      <td>6.3</td>\n",
       "    </tr>\n",
       "    <tr>\n",
       "      <th>16</th>\n",
       "      <td>1.0</td>\n",
       "      <td>6.4</td>\n",
       "    </tr>\n",
       "    <tr>\n",
       "      <th>23</th>\n",
       "      <td>1.0</td>\n",
       "      <td>6.5</td>\n",
       "    </tr>\n",
       "    <tr>\n",
       "      <th>27</th>\n",
       "      <td>1.0</td>\n",
       "      <td>6.6</td>\n",
       "    </tr>\n",
       "    <tr>\n",
       "      <th>22</th>\n",
       "      <td>1.0</td>\n",
       "      <td>6.7</td>\n",
       "    </tr>\n",
       "    <tr>\n",
       "      <th>25</th>\n",
       "      <td>1.0</td>\n",
       "      <td>6.9</td>\n",
       "    </tr>\n",
       "    <tr>\n",
       "      <th>8</th>\n",
       "      <td>1.0</td>\n",
       "      <td>7.6</td>\n",
       "    </tr>\n",
       "    <tr>\n",
       "      <th>21</th>\n",
       "      <td>1.0</td>\n",
       "      <td>8.2</td>\n",
       "    </tr>\n",
       "    <tr>\n",
       "      <th>20</th>\n",
       "      <td>1.0</td>\n",
       "      <td>8.7</td>\n",
       "    </tr>\n",
       "    <tr>\n",
       "      <th>17</th>\n",
       "      <td>1.0</td>\n",
       "      <td>10.7</td>\n",
       "    </tr>\n",
       "    <tr>\n",
       "      <th>11</th>\n",
       "      <td>1.0</td>\n",
       "      <td>13.3</td>\n",
       "    </tr>\n",
       "    <tr>\n",
       "      <th>14</th>\n",
       "      <td>1.0</td>\n",
       "      <td>14.4</td>\n",
       "    </tr>\n",
       "    <tr>\n",
       "      <th>4</th>\n",
       "      <td>1.0</td>\n",
       "      <td>14.7</td>\n",
       "    </tr>\n",
       "    <tr>\n",
       "      <th>19</th>\n",
       "      <td>1.0</td>\n",
       "      <td>23.2</td>\n",
       "    </tr>\n",
       "    <tr>\n",
       "      <th>12</th>\n",
       "      <td>1.0</td>\n",
       "      <td>32.0</td>\n",
       "    </tr>\n",
       "    <tr>\n",
       "      <th>26</th>\n",
       "      <td>1.0</td>\n",
       "      <td>57.2</td>\n",
       "    </tr>\n",
       "  </tbody>\n",
       "</table>\n",
       "</div>"
      ],
      "text/plain": [
       "    const  rateable_value_pc\n",
       "2     1.0                4.9\n",
       "3     1.0                5.2\n",
       "18    1.0                5.7\n",
       "13    1.0                5.7\n",
       "9     1.0                5.7\n",
       "7     1.0                6.1\n",
       "15    1.0                6.3\n",
       "16    1.0                6.4\n",
       "23    1.0                6.5\n",
       "27    1.0                6.6\n",
       "22    1.0                6.7\n",
       "25    1.0                6.9\n",
       "8     1.0                7.6\n",
       "21    1.0                8.2\n",
       "20    1.0                8.7\n",
       "17    1.0               10.7\n",
       "11    1.0               13.3\n",
       "14    1.0               14.4\n",
       "4     1.0               14.7\n",
       "19    1.0               23.2\n",
       "12    1.0               32.0\n",
       "26    1.0               57.2"
      ]
     },
     "execution_count": 1116,
     "metadata": {},
     "output_type": "execute_result"
    }
   ],
   "source": [
    "X = sm.add_constant(X)\n",
    "X "
   ]
  },
  {
   "cell_type": "markdown",
   "metadata": {},
   "source": [
    "Now we are ready instantiate the model and fit it. We save the result of the fitted model in the `results` variable."
   ]
  },
  {
   "cell_type": "code",
   "execution_count": 1117,
   "metadata": {},
   "outputs": [],
   "source": [
    "model = sm.OLS(Y,X) # instantiate model\n",
    "results = model.fit() # fit model"
   ]
  },
  {
   "cell_type": "markdown",
   "metadata": {},
   "source": [
    "Applying the `.summary()` method to the fitted model will print a rather large report."
   ]
  },
  {
   "cell_type": "code",
   "execution_count": 1118,
   "metadata": {},
   "outputs": [
    {
     "data": {
      "text/html": [
       "<table class=\"simpletable\">\n",
       "<caption>OLS Regression Results</caption>\n",
       "<tr>\n",
       "  <th>Dep. Variable:</th>           <td>Age</td>       <th>  R-squared:         </th> <td>   0.000</td>\n",
       "</tr>\n",
       "<tr>\n",
       "  <th>Model:</th>                   <td>OLS</td>       <th>  Adj. R-squared:    </th> <td>  -0.050</td>\n",
       "</tr>\n",
       "<tr>\n",
       "  <th>Method:</th>             <td>Least Squares</td>  <th>  F-statistic:       </th> <td>0.001116</td>\n",
       "</tr>\n",
       "<tr>\n",
       "  <th>Date:</th>             <td>Fri, 21 Jan 2022</td> <th>  Prob (F-statistic):</th>  <td> 0.974</td> \n",
       "</tr>\n",
       "<tr>\n",
       "  <th>Time:</th>                 <td>00:36:03</td>     <th>  Log-Likelihood:    </th> <td>  72.917</td>\n",
       "</tr>\n",
       "<tr>\n",
       "  <th>No. Observations:</th>      <td>    22</td>      <th>  AIC:               </th> <td>  -141.8</td>\n",
       "</tr>\n",
       "<tr>\n",
       "  <th>Df Residuals:</th>          <td>    20</td>      <th>  BIC:               </th> <td>  -139.7</td>\n",
       "</tr>\n",
       "<tr>\n",
       "  <th>Df Model:</th>              <td>     1</td>      <th>                     </th>     <td> </td>   \n",
       "</tr>\n",
       "<tr>\n",
       "  <th>Covariance Type:</th>      <td>nonrobust</td>    <th>                     </th>     <td> </td>   \n",
       "</tr>\n",
       "</table>\n",
       "<table class=\"simpletable\">\n",
       "<tr>\n",
       "          <td></td>             <th>coef</th>     <th>std err</th>      <th>t</th>      <th>P>|t|</th>  <th>[0.025</th>    <th>0.975]</th>  \n",
       "</tr>\n",
       "<tr>\n",
       "  <th>const</th>             <td>    0.0623</td> <td>    0.003</td> <td>   22.265</td> <td> 0.000</td> <td>    0.056</td> <td>    0.068</td>\n",
       "</tr>\n",
       "<tr>\n",
       "  <th>rateable_value_pc</th> <td> 5.573e-06</td> <td>    0.000</td> <td>    0.033</td> <td> 0.974</td> <td>   -0.000</td> <td>    0.000</td>\n",
       "</tr>\n",
       "</table>\n",
       "<table class=\"simpletable\">\n",
       "<tr>\n",
       "  <th>Omnibus:</th>       <td>15.000</td> <th>  Durbin-Watson:     </th> <td>   1.133</td>\n",
       "</tr>\n",
       "<tr>\n",
       "  <th>Prob(Omnibus):</th> <td> 0.001</td> <th>  Jarque-Bera (JB):  </th> <td>  15.453</td>\n",
       "</tr>\n",
       "<tr>\n",
       "  <th>Skew:</th>          <td> 1.449</td> <th>  Prob(JB):          </th> <td>0.000441</td>\n",
       "</tr>\n",
       "<tr>\n",
       "  <th>Kurtosis:</th>      <td> 5.909</td> <th>  Cond. No.          </th> <td>    23.9</td>\n",
       "</tr>\n",
       "</table><br/><br/>Warnings:<br/>[1] Standard Errors assume that the covariance matrix of the errors is correctly specified."
      ],
      "text/plain": [
       "<class 'statsmodels.iolib.summary.Summary'>\n",
       "\"\"\"\n",
       "                            OLS Regression Results                            \n",
       "==============================================================================\n",
       "Dep. Variable:                    Age   R-squared:                       0.000\n",
       "Model:                            OLS   Adj. R-squared:                 -0.050\n",
       "Method:                 Least Squares   F-statistic:                  0.001116\n",
       "Date:                Fri, 21 Jan 2022   Prob (F-statistic):              0.974\n",
       "Time:                        00:36:03   Log-Likelihood:                 72.917\n",
       "No. Observations:                  22   AIC:                            -141.8\n",
       "Df Residuals:                      20   BIC:                            -139.7\n",
       "Df Model:                           1                                         \n",
       "Covariance Type:            nonrobust                                         \n",
       "=====================================================================================\n",
       "                        coef    std err          t      P>|t|      [0.025      0.975]\n",
       "-------------------------------------------------------------------------------------\n",
       "const                 0.0623      0.003     22.265      0.000       0.056       0.068\n",
       "rateable_value_pc  5.573e-06      0.000      0.033      0.974      -0.000       0.000\n",
       "==============================================================================\n",
       "Omnibus:                       15.000   Durbin-Watson:                   1.133\n",
       "Prob(Omnibus):                  0.001   Jarque-Bera (JB):               15.453\n",
       "Skew:                           1.449   Prob(JB):                     0.000441\n",
       "Kurtosis:                       5.909   Cond. No.                         23.9\n",
       "==============================================================================\n",
       "\n",
       "Warnings:\n",
       "[1] Standard Errors assume that the covariance matrix of the errors is correctly specified.\n",
       "\"\"\""
      ]
     },
     "execution_count": 1118,
     "metadata": {},
     "output_type": "execute_result"
    }
   ],
   "source": [
    "results.summary()"
   ]
  },
  {
   "cell_type": "markdown",
   "metadata": {},
   "source": [
    "Most import values (for our purposes) are at the top right and the midde lines that report on the coefficients (`const` and `rvc_log`). Let's start with the latter, as these are most influential in the interpretations based on regression modelling.\n"
   ]
  },
  {
   "cell_type": "markdown",
   "metadata": {},
   "source": [
    "`const 27.4098` means that for place with zero rateable value, we expect the average age to be around 25.2. This is the estimate for the intercept, i.e. the value of y (Age) when x (rateable value) = 0. \n",
    "`rateable_value_pc 0.0429` this is an estimate of the slape, the increase in y for one unit change in y: for example if the rateable value changes from 1 to 2 we expect the mean age to increase with 0.04 years. \n",
    "\n",
    "Now let's look at the other statistics reported here for these coefficients. Continuing with the estimate for `rateable_value_pc` the p-value is around 0.1 higher than the traditional 0.5 threshold commonly used in statistics. And the confidence intervals range from -0.010 to 0.096. \n",
    "\n",
    "Notice that this 0 is included in the confidence interval. A slope of zero means a horizontal line, and actually no change in y for x. The possibiliy that x and y are not related in any positive or negative way is well within the range of possibilities.\n",
    "\n",
    "p-values and confidence remain rather abstract and difficult to explain, and statisticians tend to doubt their use. In human language, these number tells you how confident the model is about where to draw a line to best fit all observed variables. It is really shore that the intercepts is higher than zero, which is not surprising and probably somewhere between `26.523`\t`28.296`. \n",
    "\n",
    "However, it is less confident about the slope, which can go down (-0.010) as well as up (0.096).\n",
    "\n",
    "What happens if we fit a new model with logged rateable values values."
   ]
  },
  {
   "cell_type": "code",
   "execution_count": 1119,
   "metadata": {},
   "outputs": [
    {
     "name": "stderr",
     "output_type": "stream",
     "text": [
      "/usr/local/lib/python3.7/site-packages/statsmodels/tsa/tsatools.py:117: FutureWarning: In a future version of pandas all arguments of concat except for the argument 'objs' will be keyword-only\n",
      "  x = pd.concat(x[::order], 1)\n"
     ]
    }
   ],
   "source": [
    "Y_2 = data_merged['Age']\n",
    "X_2 = data_merged['rvc_log']\n",
    "X_2 = sm.add_constant(X_2)\n",
    "model_2 = sm.OLS(Y_2,X_2) # instantiate model\n",
    "results_2 = model_2.fit() # fit model"
   ]
  },
  {
   "cell_type": "code",
   "execution_count": 1120,
   "metadata": {},
   "outputs": [
    {
     "data": {
      "text/html": [
       "<table class=\"simpletable\">\n",
       "<caption>OLS Regression Results</caption>\n",
       "<tr>\n",
       "  <th>Dep. Variable:</th>           <td>Age</td>       <th>  R-squared:         </th> <td>   0.035</td>\n",
       "</tr>\n",
       "<tr>\n",
       "  <th>Model:</th>                   <td>OLS</td>       <th>  Adj. R-squared:    </th> <td>  -0.014</td>\n",
       "</tr>\n",
       "<tr>\n",
       "  <th>Method:</th>             <td>Least Squares</td>  <th>  F-statistic:       </th> <td>  0.7161</td>\n",
       "</tr>\n",
       "<tr>\n",
       "  <th>Date:</th>             <td>Fri, 21 Jan 2022</td> <th>  Prob (F-statistic):</th>  <td> 0.407</td> \n",
       "</tr>\n",
       "<tr>\n",
       "  <th>Time:</th>                 <td>00:36:05</td>     <th>  Log-Likelihood:    </th> <td>  73.303</td>\n",
       "</tr>\n",
       "<tr>\n",
       "  <th>No. Observations:</th>      <td>    22</td>      <th>  AIC:               </th> <td>  -142.6</td>\n",
       "</tr>\n",
       "<tr>\n",
       "  <th>Df Residuals:</th>          <td>    20</td>      <th>  BIC:               </th> <td>  -140.4</td>\n",
       "</tr>\n",
       "<tr>\n",
       "  <th>Df Model:</th>              <td>     1</td>      <th>                     </th>     <td> </td>   \n",
       "</tr>\n",
       "<tr>\n",
       "  <th>Covariance Type:</th>      <td>nonrobust</td>    <th>                     </th>     <td> </td>   \n",
       "</tr>\n",
       "</table>\n",
       "<table class=\"simpletable\">\n",
       "<tr>\n",
       "     <td></td>        <th>coef</th>     <th>std err</th>      <th>t</th>      <th>P>|t|</th>  <th>[0.025</th>    <th>0.975]</th>  \n",
       "</tr>\n",
       "<tr>\n",
       "  <th>const</th>   <td>    0.0566</td> <td>    0.007</td> <td>    7.964</td> <td> 0.000</td> <td>    0.042</td> <td>    0.071</td>\n",
       "</tr>\n",
       "<tr>\n",
       "  <th>rvc_log</th> <td>    0.0026</td> <td>    0.003</td> <td>    0.846</td> <td> 0.407</td> <td>   -0.004</td> <td>    0.009</td>\n",
       "</tr>\n",
       "</table>\n",
       "<table class=\"simpletable\">\n",
       "<tr>\n",
       "  <th>Omnibus:</th>       <td>12.427</td> <th>  Durbin-Watson:     </th> <td>   1.212</td>\n",
       "</tr>\n",
       "<tr>\n",
       "  <th>Prob(Omnibus):</th> <td> 0.002</td> <th>  Jarque-Bera (JB):  </th> <td>  11.412</td>\n",
       "</tr>\n",
       "<tr>\n",
       "  <th>Skew:</th>          <td> 1.259</td> <th>  Prob(JB):          </th> <td> 0.00333</td>\n",
       "</tr>\n",
       "<tr>\n",
       "  <th>Kurtosis:</th>      <td> 5.472</td> <th>  Cond. No.          </th> <td>    9.98</td>\n",
       "</tr>\n",
       "</table><br/><br/>Warnings:<br/>[1] Standard Errors assume that the covariance matrix of the errors is correctly specified."
      ],
      "text/plain": [
       "<class 'statsmodels.iolib.summary.Summary'>\n",
       "\"\"\"\n",
       "                            OLS Regression Results                            \n",
       "==============================================================================\n",
       "Dep. Variable:                    Age   R-squared:                       0.035\n",
       "Model:                            OLS   Adj. R-squared:                 -0.014\n",
       "Method:                 Least Squares   F-statistic:                    0.7161\n",
       "Date:                Fri, 21 Jan 2022   Prob (F-statistic):              0.407\n",
       "Time:                        00:36:05   Log-Likelihood:                 73.303\n",
       "No. Observations:                  22   AIC:                            -142.6\n",
       "Df Residuals:                      20   BIC:                            -140.4\n",
       "Df Model:                           1                                         \n",
       "Covariance Type:            nonrobust                                         \n",
       "==============================================================================\n",
       "                 coef    std err          t      P>|t|      [0.025      0.975]\n",
       "------------------------------------------------------------------------------\n",
       "const          0.0566      0.007      7.964      0.000       0.042       0.071\n",
       "rvc_log        0.0026      0.003      0.846      0.407      -0.004       0.009\n",
       "==============================================================================\n",
       "Omnibus:                       12.427   Durbin-Watson:                   1.212\n",
       "Prob(Omnibus):                  0.002   Jarque-Bera (JB):               11.412\n",
       "Skew:                           1.259   Prob(JB):                      0.00333\n",
       "Kurtosis:                       5.472   Cond. No.                         9.98\n",
       "==============================================================================\n",
       "\n",
       "Warnings:\n",
       "[1] Standard Errors assume that the covariance matrix of the errors is correctly specified.\n",
       "\"\"\""
      ]
     },
     "execution_count": 1120,
     "metadata": {},
     "output_type": "execute_result"
    }
   ],
   "source": [
    "results_2.summary()"
   ]
  },
  {
   "cell_type": "markdown",
   "metadata": {},
   "source": [
    "Using the log-scale, change coefficients quite a lot especially for the rateable value. The model is now more certain the relation is postive and does not include the zero in the range of possibilities. \n",
    "\n",
    "For each change in x (the log of rateable value) we expect to add one year and a bit to `y` (1.2195). It is now a bit more difficult to understand, as the absolute change is bigger with each step in `x`."
   ]
  },
  {
   "cell_type": "code",
   "execution_count": 1121,
   "metadata": {},
   "outputs": [
    {
     "data": {
      "text/plain": [
       "(7.38905609893065, 20.085536923187668, 54.598150033144236)"
      ]
     },
     "execution_count": 1121,
     "metadata": {},
     "output_type": "execute_result"
    }
   ],
   "source": [
    "np.exp(2), np.exp(3), np.exp(4)"
   ]
  },
  {
   "cell_type": "markdown",
   "metadata": {},
   "source": [
    "This means that the model thinks that change in age is the same when going from a place with rateable value 7 to 20 as is transitioning from 20 to 54."
   ]
  },
  {
   "cell_type": "markdown",
   "metadata": {},
   "source": [
    "What all the statistics for the `const` and `rvc_log` are more formal ways for conveying where the model thinks the line should be.\n",
    "\n",
    "We can make these results more intuitive using a \"bootstrap\" method. We construct the mean and confidence intervals repeatin the following steps, let's say 1000 times:\n",
    "- sample a few observations from the data (50% in each iterations)\n",
    "- fit the model and record the values for the intercept and the slope\n",
    "- plot the line using these value or collect them and compute the 2.5 and 97.5 percentile range."
   ]
  },
  {
   "cell_type": "code",
   "execution_count": 1122,
   "metadata": {},
   "outputs": [
    {
     "name": "stderr",
     "output_type": "stream",
     "text": [
      "/usr/local/lib/python3.7/site-packages/matplotlib/cbook/__init__.py:1402: FutureWarning: Support for multi-dimensional indexing (e.g. `obj[:, None]`) is deprecated and will be removed in a future version.  Convert to a numpy array before indexing instead.\n",
      "  x[:, None]\n",
      "/usr/local/lib/python3.7/site-packages/matplotlib/axes/_base.py:276: FutureWarning: Support for multi-dimensional indexing (e.g. `obj[:, None]`) is deprecated and will be removed in a future version.  Convert to a numpy array before indexing instead.\n",
      "  x = x[:, np.newaxis]\n",
      "/usr/local/lib/python3.7/site-packages/matplotlib/axes/_base.py:278: FutureWarning: Support for multi-dimensional indexing (e.g. `obj[:, None]`) is deprecated and will be removed in a future version.  Convert to a numpy array before indexing instead.\n",
      "  y = y[:, np.newaxis]\n"
     ]
    },
    {
     "data": {
      "image/png": "[encoded data removed]",
      "text/plain": [
       "<Figure size 360x360 with 1 Axes>"
      ]
     },
     "metadata": {},
     "output_type": "display_data"
    }
   ],
   "source": [
    "#data_merged.sort_values('re',inplace=True)\n",
    "fig, ax = plt.subplots(figsize=(5, 5))\n",
    "ax.scatter('rvc_log', 'Age',data=data_merged)\n",
    "beta = []\n",
    "\n",
    "for _ in range(1000):\n",
    "    dms = data_merged.sample(frac=.66)\n",
    "    Y_ = dms['Age']\n",
    "    X_ = dms['rvc_log']\n",
    "    X_ = sm.add_constant(X_)\n",
    "    model_ = sm.OLS(Y_,X_)\n",
    "    results_ = model_.fit() \n",
    "    beta.append(results_.params['rvc_log'])\n",
    "\n",
    "    ax.plot(data_merged['rvc_log'], results_.params['const'] + (data_merged['rvc_log']*results_.params['rvc_log']) , '-g',alpha=.5)\n"
   ]
  },
  {
   "cell_type": "code",
   "execution_count": 1123,
   "metadata": {},
   "outputs": [
    {
     "data": {
      "text/plain": [
       "0.025   -0.000718\n",
       "0.975    0.016180\n",
       "dtype: float64"
      ]
     },
     "execution_count": 1123,
     "metadata": {},
     "output_type": "execute_result"
    },
    {
     "data": {
      "image/png": "[encoded data removed]",
      "text/plain": [
       "<Figure size 432x288 with 1 Axes>"
      ]
     },
     "metadata": {},
     "output_type": "display_data"
    }
   ],
   "source": [
    "pd.Series(beta).plot(kind='density')\n",
    "pd.Series(beta).quantile([.025,.975])"
   ]
  },
  {
   "cell_type": "markdown",
   "metadata": {},
   "source": [
    "The values are not exactly the same because we have a small sample and only ran a few iterations. However it gives more intuitive way of understanding of what the p-values and confidence intervals mean. Instead of bootstrapping you can also compute the formula-based intervals with `statsmodels`."
   ]
  },
  {
   "cell_type": "code",
   "execution_count": 1124,
   "metadata": {},
   "outputs": [],
   "source": [
    "pred = results_2.get_prediction(X_2)\n",
    "df_pred = pd.DataFrame(pred.conf_int())\n",
    "df_pred['mean'] = pred.predicted_mean"
   ]
  },
  {
   "cell_type": "code",
   "execution_count": 1125,
   "metadata": {},
   "outputs": [
    {
     "data": {
      "text/plain": [
       "[<matplotlib.lines.Line2D at 0x139cc9450>]"
      ]
     },
     "execution_count": 1125,
     "metadata": {},
     "output_type": "execute_result"
    },
    {
     "data": {
      "image/png": "[encoded data removed]",
      "text/plain": [
       "<Figure size 360x360 with 1 Axes>"
      ]
     },
     "metadata": {},
     "output_type": "display_data"
    }
   ],
   "source": [
    "fig, ax = plt.subplots(figsize=(5, 5))\n",
    "ax.scatter(data_merged['rvc_log'], 'Age',data=data_merged,alpha=.5)\n",
    "ax.plot(data_merged['rvc_log'], df_pred['mean']  , '-ro',alpha=.75)\n",
    "ax.plot(data_merged['rvc_log'], df_pred[0]  , '-g',alpha=.75)\n",
    "ax.plot(data_merged['rvc_log'], df_pred[1]  , '-g',alpha=.75)"
   ]
  },
  {
   "cell_type": "markdown",
   "metadata": {},
   "source": [
    "Please notice that coeficients and their confidence intervals are estimates of the line not the actual data. These are, as you can see, well outside the range given by the predicted values and their confidence intervals."
   ]
  },
  {
   "cell_type": "markdown",
   "metadata": {},
   "source": [
    "The `.summary()` method provides other statistics that help you understanding how well the model performs."
   ]
  },
  {
   "cell_type": "code",
   "execution_count": 1126,
   "metadata": {},
   "outputs": [
    {
     "data": {
      "text/html": [
       "<table class=\"simpletable\">\n",
       "<caption>OLS Regression Results</caption>\n",
       "<tr>\n",
       "  <th>Dep. Variable:</th>           <td>Age</td>       <th>  R-squared:         </th> <td>   0.035</td>\n",
       "</tr>\n",
       "<tr>\n",
       "  <th>Model:</th>                   <td>OLS</td>       <th>  Adj. R-squared:    </th> <td>  -0.014</td>\n",
       "</tr>\n",
       "<tr>\n",
       "  <th>Method:</th>             <td>Least Squares</td>  <th>  F-statistic:       </th> <td>  0.7161</td>\n",
       "</tr>\n",
       "<tr>\n",
       "  <th>Date:</th>             <td>Fri, 21 Jan 2022</td> <th>  Prob (F-statistic):</th>  <td> 0.407</td> \n",
       "</tr>\n",
       "<tr>\n",
       "  <th>Time:</th>                 <td>00:36:12</td>     <th>  Log-Likelihood:    </th> <td>  73.303</td>\n",
       "</tr>\n",
       "<tr>\n",
       "  <th>No. Observations:</th>      <td>    22</td>      <th>  AIC:               </th> <td>  -142.6</td>\n",
       "</tr>\n",
       "<tr>\n",
       "  <th>Df Residuals:</th>          <td>    20</td>      <th>  BIC:               </th> <td>  -140.4</td>\n",
       "</tr>\n",
       "<tr>\n",
       "  <th>Df Model:</th>              <td>     1</td>      <th>                     </th>     <td> </td>   \n",
       "</tr>\n",
       "<tr>\n",
       "  <th>Covariance Type:</th>      <td>nonrobust</td>    <th>                     </th>     <td> </td>   \n",
       "</tr>\n",
       "</table>\n",
       "<table class=\"simpletable\">\n",
       "<tr>\n",
       "     <td></td>        <th>coef</th>     <th>std err</th>      <th>t</th>      <th>P>|t|</th>  <th>[0.025</th>    <th>0.975]</th>  \n",
       "</tr>\n",
       "<tr>\n",
       "  <th>const</th>   <td>    0.0566</td> <td>    0.007</td> <td>    7.964</td> <td> 0.000</td> <td>    0.042</td> <td>    0.071</td>\n",
       "</tr>\n",
       "<tr>\n",
       "  <th>rvc_log</th> <td>    0.0026</td> <td>    0.003</td> <td>    0.846</td> <td> 0.407</td> <td>   -0.004</td> <td>    0.009</td>\n",
       "</tr>\n",
       "</table>\n",
       "<table class=\"simpletable\">\n",
       "<tr>\n",
       "  <th>Omnibus:</th>       <td>12.427</td> <th>  Durbin-Watson:     </th> <td>   1.212</td>\n",
       "</tr>\n",
       "<tr>\n",
       "  <th>Prob(Omnibus):</th> <td> 0.002</td> <th>  Jarque-Bera (JB):  </th> <td>  11.412</td>\n",
       "</tr>\n",
       "<tr>\n",
       "  <th>Skew:</th>          <td> 1.259</td> <th>  Prob(JB):          </th> <td> 0.00333</td>\n",
       "</tr>\n",
       "<tr>\n",
       "  <th>Kurtosis:</th>      <td> 5.472</td> <th>  Cond. No.          </th> <td>    9.98</td>\n",
       "</tr>\n",
       "</table><br/><br/>Warnings:<br/>[1] Standard Errors assume that the covariance matrix of the errors is correctly specified."
      ],
      "text/plain": [
       "<class 'statsmodels.iolib.summary.Summary'>\n",
       "\"\"\"\n",
       "                            OLS Regression Results                            \n",
       "==============================================================================\n",
       "Dep. Variable:                    Age   R-squared:                       0.035\n",
       "Model:                            OLS   Adj. R-squared:                 -0.014\n",
       "Method:                 Least Squares   F-statistic:                    0.7161\n",
       "Date:                Fri, 21 Jan 2022   Prob (F-statistic):              0.407\n",
       "Time:                        00:36:12   Log-Likelihood:                 73.303\n",
       "No. Observations:                  22   AIC:                            -142.6\n",
       "Df Residuals:                      20   BIC:                            -140.4\n",
       "Df Model:                           1                                         \n",
       "Covariance Type:            nonrobust                                         \n",
       "==============================================================================\n",
       "                 coef    std err          t      P>|t|      [0.025      0.975]\n",
       "------------------------------------------------------------------------------\n",
       "const          0.0566      0.007      7.964      0.000       0.042       0.071\n",
       "rvc_log        0.0026      0.003      0.846      0.407      -0.004       0.009\n",
       "==============================================================================\n",
       "Omnibus:                       12.427   Durbin-Watson:                   1.212\n",
       "Prob(Omnibus):                  0.002   Jarque-Bera (JB):               11.412\n",
       "Skew:                           1.259   Prob(JB):                      0.00333\n",
       "Kurtosis:                       5.472   Cond. No.                         9.98\n",
       "==============================================================================\n",
       "\n",
       "Warnings:\n",
       "[1] Standard Errors assume that the covariance matrix of the errors is correctly specified.\n",
       "\"\"\""
      ]
     },
     "execution_count": 1126,
     "metadata": {},
     "output_type": "execute_result"
    }
   ],
   "source": [
    "results_2.summary()"
   ]
  },
  {
   "cell_type": "markdown",
   "metadata": {},
   "source": [
    "`RMSE`"
   ]
  },
  {
   "cell_type": "code",
   "execution_count": 1127,
   "metadata": {},
   "outputs": [],
   "source": [
    "pred = results_2.get_prediction(X_2)\n",
    "Y_hat = pred.predicted_mean \n",
    "var_pred = [(y - y_hat)**2 for y,y_hat in zip(Y,Y_hat)] "
   ]
  },
  {
   "cell_type": "code",
   "execution_count": 1128,
   "metadata": {},
   "outputs": [
    {
     "data": {
      "text/plain": [
       "array([0.06076238, 0.06091739, 0.06115688, 0.06115688, 0.06115688,\n",
       "       0.0613338 , 0.06141795, 0.06145904, 0.06149948, 0.06153931,\n",
       "       0.06157853, 0.06165526, 0.06190732, 0.06210553, 0.06225993,\n",
       "       0.0627997 , 0.06336712, 0.06357441, 0.06362819, 0.0648185 ,\n",
       "       0.06565737, 0.06717248])"
      ]
     },
     "execution_count": 1128,
     "metadata": {},
     "output_type": "execute_result"
    }
   ],
   "source": [
    "Y_hat"
   ]
  },
  {
   "cell_type": "markdown",
   "metadata": {},
   "source": [
    "`R-squared`"
   ]
  },
  {
   "cell_type": "code",
   "execution_count": 1129,
   "metadata": {},
   "outputs": [
    {
     "data": {
      "text/plain": [
       "0.008643794286218545"
      ]
     },
     "execution_count": 1129,
     "metadata": {},
     "output_type": "execute_result"
    }
   ],
   "source": [
    "np.sqrt(np.sum(var_pred) / len(Y))"
   ]
  },
  {
   "cell_type": "code",
   "execution_count": 1130,
   "metadata": {},
   "outputs": [],
   "source": [
    "var_total = [(y - np.mean(Y))**2 for y,y_hat in zip(Y,Y_hat)] "
   ]
  },
  {
   "cell_type": "code",
   "execution_count": 1131,
   "metadata": {},
   "outputs": [
    {
     "data": {
      "text/plain": [
       "0.035"
      ]
     },
     "execution_count": 1131,
     "metadata": {},
     "output_type": "execute_result"
    }
   ],
   "source": [
    "round(1 - (sum(var_pred)/sum(var_total)),3)"
   ]
  },
  {
   "cell_type": "code",
   "execution_count": 1132,
   "metadata": {},
   "outputs": [
    {
     "data": {
      "text/plain": [
       "Text(0, 0.5, 'standardized residuals')"
      ]
     },
     "execution_count": 1132,
     "metadata": {},
     "output_type": "execute_result"
    },
    {
     "data": {
      "image/png": "[encoded data removed]",
      "text/plain": [
       "<Figure size 360x360 with 1 Axes>"
      ]
     },
     "metadata": {},
     "output_type": "display_data"
    }
   ],
   "source": [
    "from statsmodels.stats.outliers_influence import OLSInfluence\n",
    "influence = OLSInfluence(results)\n",
    "fig, ax = plt.subplots(figsize=(5, 5))\n",
    "ax.axhline(-2.5, linestyle='--', color='C1')\n",
    "ax.axhline(2.5, linestyle='--', color='C1')\n",
    "ax.scatter(influence.cooks_distance[0], influence.influence,\n",
    "s=1000 * np.sqrt(influence.cooks_distance[0]),\n",
    "alpha=0.5)\n",
    "ax.set_xlabel('influence')\n",
    "ax.set_ylabel('standardized residuals')"
   ]
  },
  {
   "cell_type": "code",
   "execution_count": 1133,
   "metadata": {},
   "outputs": [
    {
     "data": {
      "text/plain": [
       "Age                     0.057264\n",
       "Sex                         8033\n",
       "borough              Westminster\n",
       "rateable_value_pc           57.2\n",
       "rvc_log                 4.046554\n",
       "Name: 26, dtype: object"
      ]
     },
     "execution_count": 1133,
     "metadata": {},
     "output_type": "execute_result"
    }
   ],
   "source": [
    "data_merged.iloc[np.argmax(influence.hat_diag_factor)]"
   ]
  },
  {
   "cell_type": "code",
   "execution_count": 1134,
   "metadata": {},
   "outputs": [],
   "source": [
    "Y_woo = data_wo_outliers['Age']\n",
    "x_woo = data_wo_outliers['rvc_log']\n",
    "#X_woo = np.column_stack((x_woo, np.log(data_wo_outliers['index'])))\n",
    "X_woo = sm.add_constant(x_woo)\n",
    "model_woo = sm.OLS(Y_woo,X_woo)\n",
    "results_woo = model_woo.fit()"
   ]
  },
  {
   "cell_type": "code",
   "execution_count": 1135,
   "metadata": {},
   "outputs": [
    {
     "data": {
      "text/html": [
       "<table class=\"simpletable\">\n",
       "<caption>OLS Regression Results</caption>\n",
       "<tr>\n",
       "  <th>Dep. Variable:</th>           <td>Age</td>       <th>  R-squared:         </th> <td>   0.378</td>\n",
       "</tr>\n",
       "<tr>\n",
       "  <th>Model:</th>                   <td>OLS</td>       <th>  Adj. R-squared:    </th> <td>   0.343</td>\n",
       "</tr>\n",
       "<tr>\n",
       "  <th>Method:</th>             <td>Least Squares</td>  <th>  F-statistic:       </th> <td>   10.92</td>\n",
       "</tr>\n",
       "<tr>\n",
       "  <th>Date:</th>             <td>Fri, 21 Jan 2022</td> <th>  Prob (F-statistic):</th>  <td>0.00395</td>\n",
       "</tr>\n",
       "<tr>\n",
       "  <th>Time:</th>                 <td>00:36:16</td>     <th>  Log-Likelihood:    </th> <td>  70.717</td>\n",
       "</tr>\n",
       "<tr>\n",
       "  <th>No. Observations:</th>      <td>    20</td>      <th>  AIC:               </th> <td>  -137.4</td>\n",
       "</tr>\n",
       "<tr>\n",
       "  <th>Df Residuals:</th>          <td>    18</td>      <th>  BIC:               </th> <td>  -135.4</td>\n",
       "</tr>\n",
       "<tr>\n",
       "  <th>Df Model:</th>              <td>     1</td>      <th>                     </th>     <td> </td>   \n",
       "</tr>\n",
       "<tr>\n",
       "  <th>Covariance Type:</th>      <td>nonrobust</td>    <th>                     </th>     <td> </td>   \n",
       "</tr>\n",
       "</table>\n",
       "<table class=\"simpletable\">\n",
       "<tr>\n",
       "     <td></td>        <th>coef</th>     <th>std err</th>      <th>t</th>      <th>P>|t|</th>  <th>[0.025</th>    <th>0.975]</th>  \n",
       "</tr>\n",
       "<tr>\n",
       "  <th>const</th>   <td>    0.0351</td> <td>    0.009</td> <td>    4.065</td> <td> 0.001</td> <td>    0.017</td> <td>    0.053</td>\n",
       "</tr>\n",
       "<tr>\n",
       "  <th>rvc_log</th> <td>    0.0135</td> <td>    0.004</td> <td>    3.304</td> <td> 0.004</td> <td>    0.005</td> <td>    0.022</td>\n",
       "</tr>\n",
       "</table>\n",
       "<table class=\"simpletable\">\n",
       "<tr>\n",
       "  <th>Omnibus:</th>       <td> 7.001</td> <th>  Durbin-Watson:     </th> <td>   1.950</td>\n",
       "</tr>\n",
       "<tr>\n",
       "  <th>Prob(Omnibus):</th> <td> 0.030</td> <th>  Jarque-Bera (JB):  </th> <td>   4.480</td>\n",
       "</tr>\n",
       "<tr>\n",
       "  <th>Skew:</th>          <td> 1.050</td> <th>  Prob(JB):          </th> <td>   0.106</td>\n",
       "</tr>\n",
       "<tr>\n",
       "  <th>Kurtosis:</th>      <td> 3.982</td> <th>  Cond. No.          </th> <td>    13.3</td>\n",
       "</tr>\n",
       "</table><br/><br/>Warnings:<br/>[1] Standard Errors assume that the covariance matrix of the errors is correctly specified."
      ],
      "text/plain": [
       "<class 'statsmodels.iolib.summary.Summary'>\n",
       "\"\"\"\n",
       "                            OLS Regression Results                            \n",
       "==============================================================================\n",
       "Dep. Variable:                    Age   R-squared:                       0.378\n",
       "Model:                            OLS   Adj. R-squared:                  0.343\n",
       "Method:                 Least Squares   F-statistic:                     10.92\n",
       "Date:                Fri, 21 Jan 2022   Prob (F-statistic):            0.00395\n",
       "Time:                        00:36:16   Log-Likelihood:                 70.717\n",
       "No. Observations:                  20   AIC:                            -137.4\n",
       "Df Residuals:                      18   BIC:                            -135.4\n",
       "Df Model:                           1                                         \n",
       "Covariance Type:            nonrobust                                         \n",
       "==============================================================================\n",
       "                 coef    std err          t      P>|t|      [0.025      0.975]\n",
       "------------------------------------------------------------------------------\n",
       "const          0.0351      0.009      4.065      0.001       0.017       0.053\n",
       "rvc_log        0.0135      0.004      3.304      0.004       0.005       0.022\n",
       "==============================================================================\n",
       "Omnibus:                        7.001   Durbin-Watson:                   1.950\n",
       "Prob(Omnibus):                  0.030   Jarque-Bera (JB):                4.480\n",
       "Skew:                           1.050   Prob(JB):                        0.106\n",
       "Kurtosis:                       3.982   Cond. No.                         13.3\n",
       "==============================================================================\n",
       "\n",
       "Warnings:\n",
       "[1] Standard Errors assume that the covariance matrix of the errors is correctly specified.\n",
       "\"\"\""
      ]
     },
     "execution_count": 1135,
     "metadata": {},
     "output_type": "execute_result"
    }
   ],
   "source": [
    "results_woo.summary()"
   ]
  },
  {
   "cell_type": "code",
   "execution_count": 1139,
   "metadata": {},
   "outputs": [
    {
     "data": {
      "image/png": "[encoded data removed]",
      "text/plain": [
       "<Figure size 360x360 with 1 Axes>"
      ]
     },
     "metadata": {},
     "output_type": "display_data"
    }
   ],
   "source": [
    "data_wo_outliers.sort_values('rvc_log',inplace=True)\n",
    "fig, ax = plt.subplots(figsize=(5, 5))\n",
    "ax.scatter('rvc_log', 'Age',data=data_wo_outliers)\n",
    "beta = []\n",
    "for _ in range(100):\n",
    "    dms = data_wo_outliers.sample(frac=.5)\n",
    "    Y = dms['Age']\n",
    "    X = dms['rvc_log']\n",
    "    X = sm.add_constant(X)\n",
    "    model = sm.OLS(Y,X)\n",
    "    results = model.fit() \n",
    "    beta.append(results.params['rvc_log'])\n",
    "\n",
    "    ax.plot(data_wo_outliers['rvc_log'], results.params['const'] + (data_wo_outliers['rvc_log']*results.params['rvc_log']) , '-g',alpha=.5)\n"
   ]
  },
  {
   "cell_type": "code",
   "execution_count": 1137,
   "metadata": {},
   "outputs": [
    {
     "data": {
      "text/plain": [
       "0.025    1.624484\n",
       "0.975    4.239491\n",
       "dtype: float64"
      ]
     },
     "execution_count": 1137,
     "metadata": {},
     "output_type": "execute_result"
    },
    {
     "data": {
      "image/png": "[encoded data removed]",
      "text/plain": [
       "<Figure size 432x288 with 1 Axes>"
      ]
     },
     "metadata": {},
     "output_type": "display_data"
    }
   ],
   "source": [
    "pd.Series(beta).plot(kind='hist',bins=25)\n",
    "pd.Series(beta).quantile([.025,0.975])"
   ]
  },
  {
   "cell_type": "code",
   "execution_count": 983,
   "metadata": {},
   "outputs": [
    {
     "name": "stderr",
     "output_type": "stream",
     "text": [
      "/usr/local/lib/python3.7/site-packages/ipykernel_launcher.py:1: SettingWithCopyWarning: \n",
      "A value is trying to be set on a copy of a slice from a DataFrame.\n",
      "Try using .loc[row_indexer,col_indexer] = value instead\n",
      "\n",
      "See the caveats in the documentation: https://pandas.pydata.org/pandas-docs/stable/user_guide/indexing.html#returning-a-view-versus-a-copy\n",
      "  \"\"\"Entry point for launching an IPython kernel.\n"
     ]
    }
   ],
   "source": [
    "wo_outliers['predictions'] = results.predict(X)"
   ]
  },
  {
   "cell_type": "code",
   "execution_count": 985,
   "metadata": {},
   "outputs": [
    {
     "data": {
      "text/html": [
       "<div>\n",
       "<style scoped>\n",
       "    .dataframe tbody tr th:only-of-type {\n",
       "        vertical-align: middle;\n",
       "    }\n",
       "\n",
       "    .dataframe tbody tr th {\n",
       "        vertical-align: top;\n",
       "    }\n",
       "\n",
       "    .dataframe thead th {\n",
       "        text-align: right;\n",
       "    }\n",
       "</style>\n",
       "<table border=\"1\" class=\"dataframe\">\n",
       "  <thead>\n",
       "    <tr style=\"text-align: right;\">\n",
       "      <th></th>\n",
       "      <th>Age</th>\n",
       "      <th>Sex</th>\n",
       "      <th>borough</th>\n",
       "      <th>rateable_value_pc</th>\n",
       "      <th>rvc_log</th>\n",
       "    </tr>\n",
       "  </thead>\n",
       "  <tbody>\n",
       "    <tr>\n",
       "      <th>2</th>\n",
       "      <td>0.117463</td>\n",
       "      <td>31593</td>\n",
       "      <td>Bethnal Green</td>\n",
       "      <td>4.9</td>\n",
       "      <td>1.589235</td>\n",
       "    </tr>\n",
       "    <tr>\n",
       "      <th>3</th>\n",
       "      <td>0.131304</td>\n",
       "      <td>63060</td>\n",
       "      <td>Camberwell</td>\n",
       "      <td>5.2</td>\n",
       "      <td>1.648659</td>\n",
       "    </tr>\n",
       "    <tr>\n",
       "      <th>18</th>\n",
       "      <td>0.125373</td>\n",
       "      <td>40838</td>\n",
       "      <td>Poplar</td>\n",
       "      <td>5.7</td>\n",
       "      <td>1.740466</td>\n",
       "    </tr>\n",
       "    <tr>\n",
       "      <th>13</th>\n",
       "      <td>0.138770</td>\n",
       "      <td>81826</td>\n",
       "      <td>Islington</td>\n",
       "      <td>5.7</td>\n",
       "      <td>1.740466</td>\n",
       "    </tr>\n",
       "    <tr>\n",
       "      <th>9</th>\n",
       "      <td>0.138932</td>\n",
       "      <td>65687</td>\n",
       "      <td>Hackney</td>\n",
       "      <td>5.7</td>\n",
       "      <td>1.740466</td>\n",
       "    </tr>\n",
       "    <tr>\n",
       "      <th>7</th>\n",
       "      <td>0.123097</td>\n",
       "      <td>60489</td>\n",
       "      <td>Fulham</td>\n",
       "      <td>6.1</td>\n",
       "      <td>1.808289</td>\n",
       "    </tr>\n",
       "    <tr>\n",
       "      <th>15</th>\n",
       "      <td>0.138292</td>\n",
       "      <td>73511</td>\n",
       "      <td>Lambeth</td>\n",
       "      <td>6.3</td>\n",
       "      <td>1.840550</td>\n",
       "    </tr>\n",
       "    <tr>\n",
       "      <th>16</th>\n",
       "      <td>0.138958</td>\n",
       "      <td>32902</td>\n",
       "      <td>Lewisham</td>\n",
       "      <td>6.4</td>\n",
       "      <td>1.856298</td>\n",
       "    </tr>\n",
       "    <tr>\n",
       "      <th>23</th>\n",
       "      <td>0.114748</td>\n",
       "      <td>14083</td>\n",
       "      <td>Stepney</td>\n",
       "      <td>6.5</td>\n",
       "      <td>1.871802</td>\n",
       "    </tr>\n",
       "    <tr>\n",
       "      <th>27</th>\n",
       "      <td>0.111003</td>\n",
       "      <td>31909</td>\n",
       "      <td>Woolwich</td>\n",
       "      <td>6.6</td>\n",
       "      <td>1.887070</td>\n",
       "    </tr>\n",
       "    <tr>\n",
       "      <th>22</th>\n",
       "      <td>0.120586</td>\n",
       "      <td>50213</td>\n",
       "      <td>Southwark</td>\n",
       "      <td>6.7</td>\n",
       "      <td>1.902108</td>\n",
       "    </tr>\n",
       "    <tr>\n",
       "      <th>25</th>\n",
       "      <td>0.126495</td>\n",
       "      <td>98217</td>\n",
       "      <td>Wandsworth</td>\n",
       "      <td>6.9</td>\n",
       "      <td>1.931521</td>\n",
       "    </tr>\n",
       "    <tr>\n",
       "      <th>8</th>\n",
       "      <td>0.126405</td>\n",
       "      <td>44832</td>\n",
       "      <td>Greenwich</td>\n",
       "      <td>7.6</td>\n",
       "      <td>2.028148</td>\n",
       "    </tr>\n",
       "    <tr>\n",
       "      <th>21</th>\n",
       "      <td>0.126364</td>\n",
       "      <td>28687</td>\n",
       "      <td>Shoreditch</td>\n",
       "      <td>8.2</td>\n",
       "      <td>2.104134</td>\n",
       "    </tr>\n",
       "    <tr>\n",
       "      <th>20</th>\n",
       "      <td>0.138745</td>\n",
       "      <td>57285</td>\n",
       "      <td>Pancras</td>\n",
       "      <td>8.7</td>\n",
       "      <td>2.163323</td>\n",
       "    </tr>\n",
       "    <tr>\n",
       "      <th>17</th>\n",
       "      <td>0.147480</td>\n",
       "      <td>35042</td>\n",
       "      <td>Paddington</td>\n",
       "      <td>10.7</td>\n",
       "      <td>2.370244</td>\n",
       "    </tr>\n",
       "    <tr>\n",
       "      <th>11</th>\n",
       "      <td>0.134613</td>\n",
       "      <td>20117</td>\n",
       "      <td>Hampstead</td>\n",
       "      <td>13.3</td>\n",
       "      <td>2.587764</td>\n",
       "    </tr>\n",
       "    <tr>\n",
       "      <th>14</th>\n",
       "      <td>0.152105</td>\n",
       "      <td>43115</td>\n",
       "      <td>Kensington</td>\n",
       "      <td>14.4</td>\n",
       "      <td>2.667228</td>\n",
       "    </tr>\n",
       "    <tr>\n",
       "      <th>4</th>\n",
       "      <td>0.171204</td>\n",
       "      <td>18329</td>\n",
       "      <td>Chelsea</td>\n",
       "      <td>14.7</td>\n",
       "      <td>2.687847</td>\n",
       "    </tr>\n",
       "    <tr>\n",
       "      <th>19</th>\n",
       "      <td>0.144679</td>\n",
       "      <td>32776</td>\n",
       "      <td>Marylebone</td>\n",
       "      <td>23.2</td>\n",
       "      <td>3.144152</td>\n",
       "    </tr>\n",
       "    <tr>\n",
       "      <th>12</th>\n",
       "      <td>0.125383</td>\n",
       "      <td>31320</td>\n",
       "      <td>Holborn</td>\n",
       "      <td>32.0</td>\n",
       "      <td>3.465736</td>\n",
       "    </tr>\n",
       "    <tr>\n",
       "      <th>26</th>\n",
       "      <td>0.123491</td>\n",
       "      <td>8033</td>\n",
       "      <td>Westminster</td>\n",
       "      <td>57.2</td>\n",
       "      <td>4.046554</td>\n",
       "    </tr>\n",
       "  </tbody>\n",
       "</table>\n",
       "</div>"
      ],
      "text/plain": [
       "         Age    Sex        borough  rateable_value_pc   rvc_log\n",
       "2   0.117463  31593  Bethnal Green                4.9  1.589235\n",
       "3   0.131304  63060     Camberwell                5.2  1.648659\n",
       "18  0.125373  40838         Poplar                5.7  1.740466\n",
       "13  0.138770  81826      Islington                5.7  1.740466\n",
       "9   0.138932  65687        Hackney                5.7  1.740466\n",
       "7   0.123097  60489         Fulham                6.1  1.808289\n",
       "15  0.138292  73511        Lambeth                6.3  1.840550\n",
       "16  0.138958  32902       Lewisham                6.4  1.856298\n",
       "23  0.114748  14083        Stepney                6.5  1.871802\n",
       "27  0.111003  31909       Woolwich                6.6  1.887070\n",
       "22  0.120586  50213      Southwark                6.7  1.902108\n",
       "25  0.126495  98217     Wandsworth                6.9  1.931521\n",
       "8   0.126405  44832      Greenwich                7.6  2.028148\n",
       "21  0.126364  28687     Shoreditch                8.2  2.104134\n",
       "20  0.138745  57285        Pancras                8.7  2.163323\n",
       "17  0.147480  35042     Paddington               10.7  2.370244\n",
       "11  0.134613  20117      Hampstead               13.3  2.587764\n",
       "14  0.152105  43115     Kensington               14.4  2.667228\n",
       "4   0.171204  18329        Chelsea               14.7  2.687847\n",
       "19  0.144679  32776     Marylebone               23.2  3.144152\n",
       "12  0.125383  31320        Holborn               32.0  3.465736\n",
       "26  0.123491   8033    Westminster               57.2  4.046554"
      ]
     },
     "execution_count": 985,
     "metadata": {},
     "output_type": "execute_result"
    }
   ],
   "source": [
    "data_merged"
   ]
  },
  {
   "cell_type": "code",
   "execution_count": 986,
   "metadata": {},
   "outputs": [],
   "source": [
    "Y_mr = data_merged['Age']\n",
    "x_mr = data_merged['rvc_log']\n",
    "X_mr = np.column_stack((x_mr, np.log(data_merged['Sex'])))\n",
    "X_mr = sm.add_constant(X_mr)\n",
    "model_mr = sm.OLS(Y_mr,X_mr)\n",
    "results_mr = model_mr.fit()"
   ]
  },
  {
   "cell_type": "code",
   "execution_count": 987,
   "metadata": {},
   "outputs": [
    {
     "data": {
      "text/html": [
       "<table class=\"simpletable\">\n",
       "<caption>OLS Regression Results</caption>\n",
       "<tr>\n",
       "  <th>Dep. Variable:</th>           <td>Age</td>       <th>  R-squared:         </th> <td>   0.116</td>\n",
       "</tr>\n",
       "<tr>\n",
       "  <th>Model:</th>                   <td>OLS</td>       <th>  Adj. R-squared:    </th> <td>   0.022</td>\n",
       "</tr>\n",
       "<tr>\n",
       "  <th>Method:</th>             <td>Least Squares</td>  <th>  F-statistic:       </th> <td>   1.241</td>\n",
       "</tr>\n",
       "<tr>\n",
       "  <th>Date:</th>             <td>Fri, 21 Jan 2022</td> <th>  Prob (F-statistic):</th>  <td> 0.311</td> \n",
       "</tr>\n",
       "<tr>\n",
       "  <th>Time:</th>                 <td>00:31:48</td>     <th>  Log-Likelihood:    </th> <td>  64.918</td>\n",
       "</tr>\n",
       "<tr>\n",
       "  <th>No. Observations:</th>      <td>    22</td>      <th>  AIC:               </th> <td>  -123.8</td>\n",
       "</tr>\n",
       "<tr>\n",
       "  <th>Df Residuals:</th>          <td>    19</td>      <th>  BIC:               </th> <td>  -120.6</td>\n",
       "</tr>\n",
       "<tr>\n",
       "  <th>Df Model:</th>              <td>     2</td>      <th>                     </th>     <td> </td>   \n",
       "</tr>\n",
       "<tr>\n",
       "  <th>Covariance Type:</th>      <td>nonrobust</td>    <th>                     </th>     <td> </td>   \n",
       "</tr>\n",
       "</table>\n",
       "<table class=\"simpletable\">\n",
       "<tr>\n",
       "    <td></td>       <th>coef</th>     <th>std err</th>      <th>t</th>      <th>P>|t|</th>  <th>[0.025</th>    <th>0.975]</th>  \n",
       "</tr>\n",
       "<tr>\n",
       "  <th>const</th> <td>    0.0362</td> <td>    0.075</td> <td>    0.484</td> <td> 0.634</td> <td>   -0.120</td> <td>    0.193</td>\n",
       "</tr>\n",
       "<tr>\n",
       "  <th>x1</th>    <td>    0.0091</td> <td>    0.006</td> <td>    1.555</td> <td> 0.136</td> <td>   -0.003</td> <td>    0.021</td>\n",
       "</tr>\n",
       "<tr>\n",
       "  <th>x2</th>    <td>    0.0072</td> <td>    0.006</td> <td>    1.152</td> <td> 0.264</td> <td>   -0.006</td> <td>    0.020</td>\n",
       "</tr>\n",
       "</table>\n",
       "<table class=\"simpletable\">\n",
       "<tr>\n",
       "  <th>Omnibus:</th>       <td>10.682</td> <th>  Durbin-Watson:     </th> <td>   1.095</td>\n",
       "</tr>\n",
       "<tr>\n",
       "  <th>Prob(Omnibus):</th> <td> 0.005</td> <th>  Jarque-Bera (JB):  </th> <td>   8.768</td>\n",
       "</tr>\n",
       "<tr>\n",
       "  <th>Skew:</th>          <td> 1.174</td> <th>  Prob(JB):          </th> <td>  0.0125</td>\n",
       "</tr>\n",
       "<tr>\n",
       "  <th>Kurtosis:</th>      <td> 5.013</td> <th>  Cond. No.          </th> <td>    280.</td>\n",
       "</tr>\n",
       "</table><br/><br/>Warnings:<br/>[1] Standard Errors assume that the covariance matrix of the errors is correctly specified."
      ],
      "text/plain": [
       "<class 'statsmodels.iolib.summary.Summary'>\n",
       "\"\"\"\n",
       "                            OLS Regression Results                            \n",
       "==============================================================================\n",
       "Dep. Variable:                    Age   R-squared:                       0.116\n",
       "Model:                            OLS   Adj. R-squared:                  0.022\n",
       "Method:                 Least Squares   F-statistic:                     1.241\n",
       "Date:                Fri, 21 Jan 2022   Prob (F-statistic):              0.311\n",
       "Time:                        00:31:48   Log-Likelihood:                 64.918\n",
       "No. Observations:                  22   AIC:                            -123.8\n",
       "Df Residuals:                      19   BIC:                            -120.6\n",
       "Df Model:                           2                                         \n",
       "Covariance Type:            nonrobust                                         \n",
       "==============================================================================\n",
       "                 coef    std err          t      P>|t|      [0.025      0.975]\n",
       "------------------------------------------------------------------------------\n",
       "const          0.0362      0.075      0.484      0.634      -0.120       0.193\n",
       "x1             0.0091      0.006      1.555      0.136      -0.003       0.021\n",
       "x2             0.0072      0.006      1.152      0.264      -0.006       0.020\n",
       "==============================================================================\n",
       "Omnibus:                       10.682   Durbin-Watson:                   1.095\n",
       "Prob(Omnibus):                  0.005   Jarque-Bera (JB):                8.768\n",
       "Skew:                           1.174   Prob(JB):                       0.0125\n",
       "Kurtosis:                       5.013   Cond. No.                         280.\n",
       "==============================================================================\n",
       "\n",
       "Warnings:\n",
       "[1] Standard Errors assume that the covariance matrix of the errors is correctly specified.\n",
       "\"\"\""
      ]
     },
     "execution_count": 987,
     "metadata": {},
     "output_type": "execute_result"
    }
   ],
   "source": [
    "results_mr.summary()"
   ]
  },
  {
   "cell_type": "code",
   "execution_count": 988,
   "metadata": {},
   "outputs": [],
   "source": [
    "data_merged['predictions'] = results_mr.predict(X_mr)"
   ]
  },
  {
   "cell_type": "code",
   "execution_count": 989,
   "metadata": {},
   "outputs": [
    {
     "data": {
      "text/plain": [
       "(22, 22)"
      ]
     },
     "execution_count": 989,
     "metadata": {},
     "output_type": "execute_result"
    }
   ],
   "source": [
    "len(predictions),len(data_merged)"
   ]
  },
  {
   "cell_type": "code",
   "execution_count": 990,
   "metadata": {},
   "outputs": [
    {
     "data": {
      "text/plain": [
       "<matplotlib.collections.PathCollection at 0x13caa5dd0>"
      ]
     },
     "execution_count": 990,
     "metadata": {},
     "output_type": "execute_result"
    },
    {
     "data": {
      "image/png": "[encoded data removed]",
      "text/plain": [
       "<Figure size 360x360 with 1 Axes>"
      ]
     },
     "metadata": {},
     "output_type": "display_data"
    }
   ],
   "source": [
    "\n",
    "fig, ax = plt.subplots(figsize=(5, 5))\n",
    "ax.scatter('rvc_log', 'Age',data=data_merged)\n",
    "ax.scatter('rvc_log', 'predictions',data=data_merged)"
   ]
  },
  {
   "cell_type": "markdown",
   "metadata": {},
   "source": [
    "### Categorical Variables"
   ]
  },
  {
   "cell_type": "code",
   "execution_count": 991,
   "metadata": {},
   "outputs": [],
   "source": [
    "import statsmodels.formula.api as smf\n",
    "age_by_dist_gen.columns = ['Age','Count']\n",
    "temp = age_by_dist_gen.reset_index()"
   ]
  },
  {
   "cell_type": "code",
   "execution_count": 992,
   "metadata": {},
   "outputs": [
    {
     "data": {
      "text/html": [
       "<div>\n",
       "<style scoped>\n",
       "    .dataframe tbody tr th:only-of-type {\n",
       "        vertical-align: middle;\n",
       "    }\n",
       "\n",
       "    .dataframe tbody tr th {\n",
       "        vertical-align: top;\n",
       "    }\n",
       "\n",
       "    .dataframe thead th {\n",
       "        text-align: right;\n",
       "    }\n",
       "</style>\n",
       "<table border=\"1\" class=\"dataframe\">\n",
       "  <thead>\n",
       "    <tr style=\"text-align: right;\">\n",
       "      <th></th>\n",
       "      <th>RegDist</th>\n",
       "      <th>Sex</th>\n",
       "      <th>Age</th>\n",
       "      <th>Count</th>\n",
       "    </tr>\n",
       "  </thead>\n",
       "  <tbody>\n",
       "    <tr>\n",
       "      <th>0</th>\n",
       "      <td>Bethnal Green</td>\n",
       "      <td>F</td>\n",
       "      <td>25.920963</td>\n",
       "      <td>16081</td>\n",
       "    </tr>\n",
       "    <tr>\n",
       "      <th>1</th>\n",
       "      <td>Bethnal Green</td>\n",
       "      <td>M</td>\n",
       "      <td>25.613501</td>\n",
       "      <td>14458</td>\n",
       "    </tr>\n",
       "    <tr>\n",
       "      <th>2</th>\n",
       "      <td>Bethnal Green</td>\n",
       "      <td>U</td>\n",
       "      <td>20.766603</td>\n",
       "      <td>1054</td>\n",
       "    </tr>\n",
       "    <tr>\n",
       "      <th>3</th>\n",
       "      <td>Camberwell</td>\n",
       "      <td>F</td>\n",
       "      <td>27.986109</td>\n",
       "      <td>32898</td>\n",
       "    </tr>\n",
       "    <tr>\n",
       "      <th>4</th>\n",
       "      <td>Camberwell</td>\n",
       "      <td>M</td>\n",
       "      <td>26.708931</td>\n",
       "      <td>28172</td>\n",
       "    </tr>\n",
       "    <tr>\n",
       "      <th>...</th>\n",
       "      <td>...</td>\n",
       "      <td>...</td>\n",
       "      <td>...</td>\n",
       "      <td>...</td>\n",
       "    </tr>\n",
       "    <tr>\n",
       "      <th>85</th>\n",
       "      <td>Whitechapel</td>\n",
       "      <td>M</td>\n",
       "      <td>26.254569</td>\n",
       "      <td>9357</td>\n",
       "    </tr>\n",
       "    <tr>\n",
       "      <th>86</th>\n",
       "      <td>Whitechapel</td>\n",
       "      <td>U</td>\n",
       "      <td>24.051316</td>\n",
       "      <td>760</td>\n",
       "    </tr>\n",
       "    <tr>\n",
       "      <th>87</th>\n",
       "      <td>Woolwich</td>\n",
       "      <td>F</td>\n",
       "      <td>26.653639</td>\n",
       "      <td>15250</td>\n",
       "    </tr>\n",
       "    <tr>\n",
       "      <th>88</th>\n",
       "      <td>Woolwich</td>\n",
       "      <td>M</td>\n",
       "      <td>26.311769</td>\n",
       "      <td>15643</td>\n",
       "    </tr>\n",
       "    <tr>\n",
       "      <th>89</th>\n",
       "      <td>Woolwich</td>\n",
       "      <td>U</td>\n",
       "      <td>21.427165</td>\n",
       "      <td>1016</td>\n",
       "    </tr>\n",
       "  </tbody>\n",
       "</table>\n",
       "<p>90 rows × 4 columns</p>\n",
       "</div>"
      ],
      "text/plain": [
       "          RegDist Sex        Age  Count\n",
       "0   Bethnal Green   F  25.920963  16081\n",
       "1   Bethnal Green   M  25.613501  14458\n",
       "2   Bethnal Green   U  20.766603   1054\n",
       "3      Camberwell   F  27.986109  32898\n",
       "4      Camberwell   M  26.708931  28172\n",
       "..            ...  ..        ...    ...\n",
       "85    Whitechapel   M  26.254569   9357\n",
       "86    Whitechapel   U  24.051316    760\n",
       "87       Woolwich   F  26.653639  15250\n",
       "88       Woolwich   M  26.311769  15643\n",
       "89       Woolwich   U  21.427165   1016\n",
       "\n",
       "[90 rows x 4 columns]"
      ]
     },
     "execution_count": 992,
     "metadata": {},
     "output_type": "execute_result"
    }
   ],
   "source": [
    "temp"
   ]
  },
  {
   "cell_type": "code",
   "execution_count": 878,
   "metadata": {},
   "outputs": [
    {
     "data": {
      "text/plain": [
       "array([[ 1.        ,  1.58923521,  1.        ,  9.68539373],\n",
       "       [ 1.        ,  1.58923521,  0.        ,  9.57900317],\n",
       "       [ 1.        ,  1.58923521,  0.        ,  6.96034773],\n",
       "       [ 1.        ,  1.64865863,  1.        , 10.40116714],\n",
       "       [ 1.        ,  1.64865863,  0.        , 10.24608386],\n",
       "       [ 1.        ,  1.64865863,  0.        ,  7.59588992],\n",
       "       [ 1.        ,  2.68784749,  1.        ,  9.21333588],\n",
       "       [ 1.        ,  2.68784749,  0.        ,  8.94754602],\n",
       "       [ 1.        ,  2.68784749,  0.        ,  6.41345896],\n",
       "       [ 1.        ,  1.80828877,  1.        , 10.36703287],\n",
       "       [ 1.        ,  1.80828877,  0.        , 10.19283074],\n",
       "       [ 1.        ,  1.80828877,  0.        ,  7.59287029],\n",
       "       [ 1.        ,  2.02814825,  1.        , 10.02976772],\n",
       "       [ 1.        ,  2.02814825,  0.        ,  9.93522844],\n",
       "       [ 1.        ,  2.02814825,  0.        ,  7.30988149],\n",
       "       [ 1.        ,  1.74046617,  1.        , 10.47647074],\n",
       "       [ 1.        ,  1.74046617,  0.        , 10.24860092],\n",
       "       [ 1.        ,  1.74046617,  0.        ,  7.58731051],\n",
       "       [ 1.        ,  2.58776404,  1.        ,  9.40533133],\n",
       "       [ 1.        ,  2.58776404,  0.        ,  8.89398444],\n",
       "       [ 1.        ,  2.58776404,  0.        ,  6.51619308],\n",
       "       [ 1.        ,  3.4657359 ,  1.        ,  9.65963096],\n",
       "       [ 1.        ,  3.4657359 ,  0.        ,  9.56948227],\n",
       "       [ 1.        ,  3.4657359 ,  0.        ,  7.19067603],\n",
       "       [ 1.        ,  1.74046617,  1.        , 10.6571417 ],\n",
       "       [ 1.        ,  1.74046617,  0.        , 10.50794012],\n",
       "       [ 1.        ,  1.74046617,  0.        ,  7.91059061],\n",
       "       [ 1.        ,  2.66722821,  1.        , 10.14983969],\n",
       "       [ 1.        ,  2.66722821,  0.        ,  9.66338857],\n",
       "       [ 1.        ,  2.66722821,  0.        ,  7.49387389],\n",
       "       [ 1.        ,  1.84054963,  1.        , 10.55048608],\n",
       "       [ 1.        ,  1.84054963,  0.        , 10.3952221 ],\n",
       "       [ 1.        ,  1.84054963,  0.        ,  7.86787149],\n",
       "       [ 1.        ,  1.85629799,  1.        ,  9.80438519],\n",
       "       [ 1.        ,  1.85629799,  0.        ,  9.53777186],\n",
       "       [ 1.        ,  1.85629799,  0.        ,  6.81892407],\n",
       "       [ 1.        ,  3.14415228,  1.        ,  9.80950649],\n",
       "       [ 1.        ,  3.14415228,  0.        ,  9.48653168],\n",
       "       [ 1.        ,  3.14415228,  0.        ,  7.23633934],\n",
       "       [ 1.        ,  2.37024374,  1.        ,  9.89187033],\n",
       "       [ 1.        ,  2.37024374,  0.        ,  9.54395138],\n",
       "       [ 1.        ,  2.37024374,  0.        ,  7.18006987],\n",
       "       [ 1.        ,  2.16332303,  1.        , 10.27667049],\n",
       "       [ 1.        ,  2.16332303,  0.        , 10.16873228],\n",
       "       [ 1.        ,  2.16332303,  0.        ,  7.67925143],\n",
       "       [ 1.        ,  1.74046617,  1.        ,  9.90313749],\n",
       "       [ 1.        ,  1.74046617,  0.        ,  9.87179047],\n",
       "       [ 1.        ,  1.74046617,  0.        ,  7.29233718],\n",
       "       [ 1.        ,  2.10413415,  1.        ,  9.58238657],\n",
       "       [ 1.        ,  2.10413415,  0.        ,  9.47531661],\n",
       "       [ 1.        ,  2.10413415,  0.        ,  7.0440329 ],\n",
       "       [ 1.        ,  1.90210753,  1.        , 10.12029105],\n",
       "       [ 1.        ,  1.90210753,  0.        , 10.06530874],\n",
       "       [ 1.        ,  1.90210753,  0.        ,  7.52725592],\n",
       "       [ 1.        ,  1.87180218,  1.        ,  8.82173238],\n",
       "       [ 1.        ,  1.87180218,  0.        ,  8.80672355],\n",
       "       [ 1.        ,  1.87180218,  0.        ,  6.43615037],\n",
       "       [ 1.        ,  1.93152141,  1.        , 10.86153424],\n",
       "       [ 1.        ,  1.93152141,  0.        , 10.66490067],\n",
       "       [ 1.        ,  1.93152141,  0.        ,  8.08917568],\n",
       "       [ 1.        ,  4.0465539 ,  1.        ,  8.26178468],\n",
       "       [ 1.        ,  4.0465539 ,  0.        ,  8.16650032],\n",
       "       [ 1.        ,  4.0465539 ,  0.        ,  6.45990445],\n",
       "       [ 1.        ,  1.88706965,  1.        ,  9.63233478],\n",
       "       [ 1.        ,  1.88706965,  0.        ,  9.65777881],\n",
       "       [ 1.        ,  1.88706965,  0.        ,  6.92362863]])"
      ]
     },
     "execution_count": 878,
     "metadata": {},
     "output_type": "execute_result"
    }
   ],
   "source": [
    "X_i = temp_m[['rvc_log', 'F','log_count']].values\n",
    "sm.add_constant(X_i)"
   ]
  },
  {
   "cell_type": "code",
   "execution_count": 846,
   "metadata": {},
   "outputs": [],
   "source": [
    "temp_m = temp.merge(data_merged[['borough','rvc_log','rateable_value_pc']], left_on='RegDist',right_on='borough')"
   ]
  },
  {
   "cell_type": "code",
   "execution_count": 848,
   "metadata": {},
   "outputs": [],
   "source": [
    "temp_m['F'] = pd.get_dummies(temp_m['Sex'])['F']"
   ]
  },
  {
   "cell_type": "code",
   "execution_count": 867,
   "metadata": {},
   "outputs": [],
   "source": [
    "temp_m['log_count'] = np.log(temp_m['Count'])"
   ]
  },
  {
   "cell_type": "code",
   "execution_count": 872,
   "metadata": {},
   "outputs": [],
   "source": [
    "model_i = smf.ols(formula='Age ~ rvc_log + F + log_count', data=temp_m)\n",
    "results_i = model_i.fit()"
   ]
  },
  {
   "cell_type": "code",
   "execution_count": 873,
   "metadata": {},
   "outputs": [
    {
     "data": {
      "text/html": [
       "<table class=\"simpletable\">\n",
       "<caption>OLS Regression Results</caption>\n",
       "<tr>\n",
       "  <th>Dep. Variable:</th>           <td>Age</td>       <th>  R-squared:         </th> <td>   0.721</td>\n",
       "</tr>\n",
       "<tr>\n",
       "  <th>Model:</th>                   <td>OLS</td>       <th>  Adj. R-squared:    </th> <td>   0.707</td>\n",
       "</tr>\n",
       "<tr>\n",
       "  <th>Method:</th>             <td>Least Squares</td>  <th>  F-statistic:       </th> <td>   53.29</td>\n",
       "</tr>\n",
       "<tr>\n",
       "  <th>Date:</th>             <td>Fri, 21 Jan 2022</td> <th>  Prob (F-statistic):</th> <td>3.72e-17</td>\n",
       "</tr>\n",
       "<tr>\n",
       "  <th>Time:</th>                 <td>00:15:46</td>     <th>  Log-Likelihood:    </th> <td> -110.93</td>\n",
       "</tr>\n",
       "<tr>\n",
       "  <th>No. Observations:</th>      <td>    66</td>      <th>  AIC:               </th> <td>   229.9</td>\n",
       "</tr>\n",
       "<tr>\n",
       "  <th>Df Residuals:</th>          <td>    62</td>      <th>  BIC:               </th> <td>   238.6</td>\n",
       "</tr>\n",
       "<tr>\n",
       "  <th>Df Model:</th>              <td>     3</td>      <th>                     </th>     <td> </td>   \n",
       "</tr>\n",
       "<tr>\n",
       "  <th>Covariance Type:</th>      <td>nonrobust</td>    <th>                     </th>     <td> </td>   \n",
       "</tr>\n",
       "</table>\n",
       "<table class=\"simpletable\">\n",
       "<tr>\n",
       "      <td></td>         <th>coef</th>     <th>std err</th>      <th>t</th>      <th>P>|t|</th>  <th>[0.025</th>    <th>0.975]</th>  \n",
       "</tr>\n",
       "<tr>\n",
       "  <th>Intercept</th> <td>   10.2655</td> <td>    1.548</td> <td>    6.632</td> <td> 0.000</td> <td>    7.171</td> <td>   13.360</td>\n",
       "</tr>\n",
       "<tr>\n",
       "  <th>rvc_log</th>   <td>    2.2421</td> <td>    0.273</td> <td>    8.201</td> <td> 0.000</td> <td>    1.696</td> <td>    2.789</td>\n",
       "</tr>\n",
       "<tr>\n",
       "  <th>F</th>         <td>    0.6751</td> <td>    0.408</td> <td>    1.654</td> <td> 0.103</td> <td>   -0.141</td> <td>    1.491</td>\n",
       "</tr>\n",
       "<tr>\n",
       "  <th>log_count</th> <td>    1.2636</td> <td>    0.148</td> <td>    8.531</td> <td> 0.000</td> <td>    0.967</td> <td>    1.560</td>\n",
       "</tr>\n",
       "</table>\n",
       "<table class=\"simpletable\">\n",
       "<tr>\n",
       "  <th>Omnibus:</th>       <td> 6.197</td> <th>  Durbin-Watson:     </th> <td>   1.056</td>\n",
       "</tr>\n",
       "<tr>\n",
       "  <th>Prob(Omnibus):</th> <td> 0.045</td> <th>  Jarque-Bera (JB):  </th> <td>   7.719</td>\n",
       "</tr>\n",
       "<tr>\n",
       "  <th>Skew:</th>          <td> 0.314</td> <th>  Prob(JB):          </th> <td>  0.0211</td>\n",
       "</tr>\n",
       "<tr>\n",
       "  <th>Kurtosis:</th>      <td> 4.553</td> <th>  Cond. No.          </th> <td>    89.2</td>\n",
       "</tr>\n",
       "</table><br/><br/>Warnings:<br/>[1] Standard Errors assume that the covariance matrix of the errors is correctly specified."
      ],
      "text/plain": [
       "<class 'statsmodels.iolib.summary.Summary'>\n",
       "\"\"\"\n",
       "                            OLS Regression Results                            \n",
       "==============================================================================\n",
       "Dep. Variable:                    Age   R-squared:                       0.721\n",
       "Model:                            OLS   Adj. R-squared:                  0.707\n",
       "Method:                 Least Squares   F-statistic:                     53.29\n",
       "Date:                Fri, 21 Jan 2022   Prob (F-statistic):           3.72e-17\n",
       "Time:                        00:15:46   Log-Likelihood:                -110.93\n",
       "No. Observations:                  66   AIC:                             229.9\n",
       "Df Residuals:                      62   BIC:                             238.6\n",
       "Df Model:                           3                                         \n",
       "Covariance Type:            nonrobust                                         \n",
       "==============================================================================\n",
       "                 coef    std err          t      P>|t|      [0.025      0.975]\n",
       "------------------------------------------------------------------------------\n",
       "Intercept     10.2655      1.548      6.632      0.000       7.171      13.360\n",
       "rvc_log        2.2421      0.273      8.201      0.000       1.696       2.789\n",
       "F              0.6751      0.408      1.654      0.103      -0.141       1.491\n",
       "log_count      1.2636      0.148      8.531      0.000       0.967       1.560\n",
       "==============================================================================\n",
       "Omnibus:                        6.197   Durbin-Watson:                   1.056\n",
       "Prob(Omnibus):                  0.045   Jarque-Bera (JB):                7.719\n",
       "Skew:                           0.314   Prob(JB):                       0.0211\n",
       "Kurtosis:                       4.553   Cond. No.                         89.2\n",
       "==============================================================================\n",
       "\n",
       "Warnings:\n",
       "[1] Standard Errors assume that the covariance matrix of the errors is correctly specified.\n",
       "\"\"\""
      ]
     },
     "execution_count": 873,
     "metadata": {},
     "output_type": "execute_result"
    }
   ],
   "source": [
    "results_i.summary()"
   ]
  },
  {
   "cell_type": "code",
   "execution_count": 885,
   "metadata": {},
   "outputs": [],
   "source": [
    "temp_m['predictions'] = results_i.predict(temp_m[['rvc_log', 'F','log_count']])"
   ]
  },
  {
   "cell_type": "code",
   "execution_count": null,
   "metadata": {},
   "outputs": [],
   "source": []
  },
  {
   "cell_type": "code",
   "execution_count": 887,
   "metadata": {},
   "outputs": [
    {
     "data": {
      "text/plain": [
       "<matplotlib.collections.PathCollection at 0x136df1c50>"
      ]
     },
     "execution_count": 887,
     "metadata": {},
     "output_type": "execute_result"
    },
    {
     "data": {
      "image/png": "[encoded data removed]",
      "text/plain": [
       "<Figure size 360x360 with 1 Axes>"
      ]
     },
     "metadata": {},
     "output_type": "display_data"
    }
   ],
   "source": [
    "fig, ax = plt.subplots(figsize=(5, 5))\n",
    "ax.scatter('rvc_log', 'Age',data=temp_m)\n",
    "ax.scatter('rvc_log', 'predictions',data=temp_m)"
   ]
  },
  {
   "cell_type": "code",
   "execution_count": 486,
   "metadata": {},
   "outputs": [],
   "source": [
    "df_fm = df[(df.Sex.isin(['F','M'])) & (df.RegDist=='Stepney')]"
   ]
  },
  {
   "cell_type": "code",
   "execution_count": 487,
   "metadata": {},
   "outputs": [],
   "source": [
    "Y = df_fm['Age']\n",
    "X = df_fm['F']\n",
    "#X = np.column_stack((x, x ** 2,x ** 3))\n",
    "X = sm.add_constant(X)\n",
    "model = sm.OLS(Y,X)\n",
    "results = model.fit()"
   ]
  },
  {
   "cell_type": "code",
   "execution_count": 488,
   "metadata": {},
   "outputs": [
    {
     "data": {
      "text/html": [
       "<table class=\"simpletable\">\n",
       "<caption>OLS Regression Results</caption>\n",
       "<tr>\n",
       "  <th>Dep. Variable:</th>           <td>Age</td>       <th>  R-squared:         </th> <td>   0.000</td> \n",
       "</tr>\n",
       "<tr>\n",
       "  <th>Model:</th>                   <td>OLS</td>       <th>  Adj. R-squared:    </th> <td>   0.000</td> \n",
       "</tr>\n",
       "<tr>\n",
       "  <th>Method:</th>             <td>Least Squares</td>  <th>  F-statistic:       </th> <td>   1.119</td> \n",
       "</tr>\n",
       "<tr>\n",
       "  <th>Date:</th>             <td>Tue, 18 Jan 2022</td> <th>  Prob (F-statistic):</th>  <td> 0.290</td>  \n",
       "</tr>\n",
       "<tr>\n",
       "  <th>Time:</th>                 <td>17:40:32</td>     <th>  Log-Likelihood:    </th> <td> -58242.</td> \n",
       "</tr>\n",
       "<tr>\n",
       "  <th>No. Observations:</th>      <td> 13459</td>      <th>  AIC:               </th> <td>1.165e+05</td>\n",
       "</tr>\n",
       "<tr>\n",
       "  <th>Df Residuals:</th>          <td> 13457</td>      <th>  BIC:               </th> <td>1.165e+05</td>\n",
       "</tr>\n",
       "<tr>\n",
       "  <th>Df Model:</th>              <td>     1</td>      <th>                     </th>     <td> </td>    \n",
       "</tr>\n",
       "<tr>\n",
       "  <th>Covariance Type:</th>      <td>nonrobust</td>    <th>                     </th>     <td> </td>    \n",
       "</tr>\n",
       "</table>\n",
       "<table class=\"simpletable\">\n",
       "<tr>\n",
       "    <td></td>       <th>coef</th>     <th>std err</th>      <th>t</th>      <th>P>|t|</th>  <th>[0.025</th>    <th>0.975]</th>  \n",
       "</tr>\n",
       "<tr>\n",
       "  <th>const</th> <td>   26.3201</td> <td>    0.224</td> <td>  117.353</td> <td> 0.000</td> <td>   25.880</td> <td>   26.760</td>\n",
       "</tr>\n",
       "<tr>\n",
       "  <th>F</th>     <td>   -0.3343</td> <td>    0.316</td> <td>   -1.058</td> <td> 0.290</td> <td>   -0.954</td> <td>    0.285</td>\n",
       "</tr>\n",
       "</table>\n",
       "<table class=\"simpletable\">\n",
       "<tr>\n",
       "  <th>Omnibus:</th>       <td>892.983</td> <th>  Durbin-Watson:     </th> <td>   2.012</td> \n",
       "</tr>\n",
       "<tr>\n",
       "  <th>Prob(Omnibus):</th> <td> 0.000</td>  <th>  Jarque-Bera (JB):  </th> <td>1018.276</td> \n",
       "</tr>\n",
       "<tr>\n",
       "  <th>Skew:</th>          <td> 0.653</td>  <th>  Prob(JB):          </th> <td>7.66e-222</td>\n",
       "</tr>\n",
       "<tr>\n",
       "  <th>Kurtosis:</th>      <td> 2.668</td>  <th>  Cond. No.          </th> <td>    2.63</td> \n",
       "</tr>\n",
       "</table><br/><br/>Warnings:<br/>[1] Standard Errors assume that the covariance matrix of the errors is correctly specified."
      ],
      "text/plain": [
       "<class 'statsmodels.iolib.summary.Summary'>\n",
       "\"\"\"\n",
       "                            OLS Regression Results                            \n",
       "==============================================================================\n",
       "Dep. Variable:                    Age   R-squared:                       0.000\n",
       "Model:                            OLS   Adj. R-squared:                  0.000\n",
       "Method:                 Least Squares   F-statistic:                     1.119\n",
       "Date:                Tue, 18 Jan 2022   Prob (F-statistic):              0.290\n",
       "Time:                        17:40:32   Log-Likelihood:                -58242.\n",
       "No. Observations:               13459   AIC:                         1.165e+05\n",
       "Df Residuals:                   13457   BIC:                         1.165e+05\n",
       "Df Model:                           1                                         \n",
       "Covariance Type:            nonrobust                                         \n",
       "==============================================================================\n",
       "                 coef    std err          t      P>|t|      [0.025      0.975]\n",
       "------------------------------------------------------------------------------\n",
       "const         26.3201      0.224    117.353      0.000      25.880      26.760\n",
       "F             -0.3343      0.316     -1.058      0.290      -0.954       0.285\n",
       "==============================================================================\n",
       "Omnibus:                      892.983   Durbin-Watson:                   2.012\n",
       "Prob(Omnibus):                  0.000   Jarque-Bera (JB):             1018.276\n",
       "Skew:                           0.653   Prob(JB):                    7.66e-222\n",
       "Kurtosis:                       2.668   Cond. No.                         2.63\n",
       "==============================================================================\n",
       "\n",
       "Warnings:\n",
       "[1] Standard Errors assume that the covariance matrix of the errors is correctly specified.\n",
       "\"\"\""
      ]
     },
     "execution_count": 488,
     "metadata": {},
     "output_type": "execute_result"
    }
   ],
   "source": [
    "results.summary()"
   ]
  }
 ],
 "metadata": {
  "kernelspec": {
   "display_name": "Python 3 (ipykernel)",
   "language": "python",
   "name": "python3"
  },
  "language_info": {
   "codemirror_mode": {
    "name": "ipython",
    "version": 3
   },
   "file_extension": ".py",
   "mimetype": "text/x-python",
   "name": "python",
   "nbconvert_exporter": "python",
   "pygments_lexer": "ipython3",
   "version": "3.7.4"
  }
 },
 "nbformat": 4,
 "nbformat_minor": 2
}
