{
 "cells": [
  {
   "cell_type": "markdown",
   "metadata": {},
   "source": [
    "[![Open In Colab](https://colab.research.google.com/assets/colab-badge.svg)](https://colab.research.google.com/github/kasparvonbeelen/ghi_python/blob/main/2%20-%20Values%20and%20Variables.ipynb)\n",
    "\n",
    "# 2 Values and Variables\n",
    "\n",
    "## Text Mining for Historians (with Python)\n",
    "## A Gentle Introduction to Working with Textual Data in Python\n",
    "\n",
    "### Created by Kaspar Beelen and Luke Blaxill\n",
    "\n",
    "### For the German Historical Institute, London\n",
    "\n",
    "<img align=\"left\" src=\"https://www.ghil.ac.uk/typo3conf/ext/wacon_ghil/Resources/Public/Images/institute_icon_small.png\">\n"
   ]
  },
  {
   "cell_type": "markdown",
   "metadata": {},
   "source": [
    "### Overview of Chapter\n",
    "\n",
    "Welcome to chapter two of **Text Mining for Historians**. This Notebook takes a closer look at a few basic but essential coding skills.\n"
   ]
  },
  {
   "cell_type": "code",
   "execution_count": null,
   "metadata": {},
   "outputs": [],
   "source": [
    "#from IPython.display import HTML\n",
    "\n",
    "#HTML('<iframe width=\"560\" height=\"315\" src=\"https://www.youtube.com/embed/S_f2qV2_U00?rel=0&amp;controls=0&amp;showinfo=0\" frameborder=\"0\" allowfullscreen></iframe>')\n"
   ]
  },
  {
   "cell_type": "markdown",
   "metadata": {},
   "source": [
    "The overarching aim of the course is to process large collections of text documents using a programming language. We have to explain some basic elements of the Python syntax before we can start working with actual data. \n",
    "\n",
    "This course will start slow, and the topics we discuss may seem abstract at first, but soon we touch on more relevant techniques such as reading and manipulating text. First with one document, but then we demonstrate how to engage with a larger collection of texts. In Python, once can work with a single document, scaling up your research is rather straightforward.\n",
    "\n",
    "Please be patient at the start, we have to begin with elementary Python syntax, before we can proceed with realistic research examples. \n",
    "\n",
    "Just to check if your Notebook works, run the cell below, which should print \"It works!\"."
   ]
  },
  {
   "cell_type": "code",
   "execution_count": null,
   "metadata": {},
   "outputs": [],
   "source": [
    "print('It works')"
   ]
  },
  {
   "cell_type": "markdown",
   "metadata": {},
   "source": [
    "Yey, you are ready proceed!"
   ]
  },
  {
   "cell_type": "markdown",
   "metadata": {},
   "source": [
    "## 3.1 Variables and data types"
   ]
  },
  {
   "cell_type": "markdown",
   "metadata": {},
   "source": [
    "So let's start with the very basics.\n",
    "\n",
    "Python makes a distinction between **text** and **numbers**, which it interprets as **values** belonging to different **data types**. You can enter any number in the following code cell and it will appear below the cell.\n",
    " "
   ]
  },
  {
   "cell_type": "code",
   "execution_count": null,
   "metadata": {},
   "outputs": [],
   "source": [
    "8"
   ]
  },
  {
   "cell_type": "markdown",
   "metadata": {},
   "source": [
    "In a Notebook, the last element of a code cell is always returned. You can also use the `print()` function to make this explicit."
   ]
  },
  {
   "cell_type": "code",
   "execution_count": null,
   "metadata": {},
   "outputs": [],
   "source": [
    "print(8)"
   ]
  },
  {
   "cell_type": "markdown",
   "metadata": {},
   "source": [
    "When you add more lines to a cell, the difference becomes clear. The cell below now returns a `6`."
   ]
  },
  {
   "cell_type": "code",
   "execution_count": null,
   "metadata": {},
   "outputs": [],
   "source": [
    "4\n",
    "50\n",
    "6"
   ]
  },
  {
   "cell_type": "markdown",
   "metadata": {},
   "source": [
    "While this one will print number `4` and eventually return `6`. Note that Python evaluates each line sequentially."
   ]
  },
  {
   "cell_type": "code",
   "execution_count": null,
   "metadata": {},
   "outputs": [],
   "source": [
    "print(4)\n",
    "50\n",
    "6"
   ]
  },
  {
   "cell_type": "markdown",
   "metadata": {},
   "source": [
    "### -- Exercise --\n",
    "\n",
    "Try it yourself: the cell below, you are confronted with your first **comment** `# Enter your favourite number here`\n",
    "\n",
    "**Comments** are marked by **hashtags**. Python ignores everything that is followed a `#`. This is often useful when we want to explain our code in more detail. In these Notebooks, we will extensively use comments to guide you through the Python code.\n",
    "\n",
    "However, \"real\" code is often less well documented: only passages that prove particularly tricky contain comments.\n",
    "\n",
    "Returning the exercise: \n",
    "- First, run the code cell, you will see nothing happens! \n",
    "- Remove the hashtag, this should raise a `SyntaxError`. We tell you more about errors later. For the moment, just observe that Python here attracts your attention to the fact that your code is syntactically incorrect.\n",
    "- Now, remove the whole phrase `Enter your favourite number here`and type a number. This time the error should disappear and the number you entered should be printed below the cell.\n",
    "- Enter multiple numbers, but only one per line, and print a few of them, until you understand which numbers are printed below the cell and which remain hidden"
   ]
  },
  {
   "cell_type": "code",
   "execution_count": null,
   "metadata": {},
   "outputs": [],
   "source": [
    "# Enter your favorite number here"
   ]
  },
  {
   "cell_type": "markdown",
   "metadata": {},
   "source": [
    "You can ask Python to make the data type of a value explicit by using the **`type()` function**. \n",
    "\n",
    "\n",
    "Functions are an essential component of almost any program. So far we've only used the `print()` function (rather sneaky) and we will discuss them more extensively later, but for now only pay attention to the form (the key work `type` with **8** enclosed by parentheses) of the expression and what it returns (`int`).\n",
    "\n",
    "The expression `type(8)` gives you to the data type of a value, more formally, it shows that `8` is an **instance** of the `int` (short for integer) **class** (just to mention it, you can forget about the technical jargon)."
   ]
  },
  {
   "cell_type": "code",
   "execution_count": null,
   "metadata": {},
   "outputs": [],
   "source": [
    "type(8)"
   ]
  },
  {
   "cell_type": "markdown",
   "metadata": {},
   "source": [
    "Now, look at the cell below, you'll notice that the number is surrounded by single quotation marks. These indicate that, in this case, the value is a **string** and not a number"
   ]
  },
  {
   "cell_type": "code",
   "execution_count": null,
   "metadata": {},
   "outputs": [],
   "source": [
    "'8'"
   ]
  },
  {
   "cell_type": "markdown",
   "metadata": {},
   "source": [
    "### --Exercise--\n",
    "\n",
    "Use the `type()` function to give you the data type of the string `'8'`."
   ]
  },
  {
   "cell_type": "code",
   "execution_count": null,
   "metadata": {},
   "outputs": [],
   "source": [
    "# Check this using the type function, i.e. type('8')"
   ]
  },
  {
   "cell_type": "markdown",
   "metadata": {},
   "source": [
    "In Python, text is represented as a string (or `str`). For example, below I enter my first name as a string."
   ]
  },
  {
   "cell_type": "code",
   "execution_count": null,
   "metadata": {},
   "outputs": [],
   "source": [
    "'Kaspar'"
   ]
  },
  {
   "cell_type": "markdown",
   "metadata": {},
   "source": [
    "If I remove the quotation marks, I get a `NameError`, which happens because Python now assumes `Kaspar` refers to a variable and not a string. (We will discuss the distinction soon, don't worry, the important thing here is not to forget to put quotation (single or double!) around words."
   ]
  },
  {
   "cell_type": "code",
   "execution_count": null,
   "metadata": {},
   "outputs": [],
   "source": [
    "Kaspar"
   ]
  },
  {
   "cell_type": "markdown",
   "metadata": {},
   "source": [
    "### -- Exercise -- \n",
    "\n",
    "Create a new code cell below and print your name."
   ]
  },
  {
   "cell_type": "markdown",
   "metadata": {},
   "source": [
    "### `Breakout`\n",
    "\n",
    "- [Strings and quotations marks](break_out/strings_1.ipynb)\n",
    "- [Floats and decimal numbers](break_out/floats.ipynb)"
   ]
  },
  {
   "cell_type": "markdown",
   "metadata": {},
   "source": [
    "## 3.2 Operations\n",
    "\n",
    "Returning values you enter manually, isn't useful, really. In Python, you can **manipulate** these values by performing **operations** on them, such as addition (`+`) and subtraction (`-`).\n",
    "\n",
    "Operations work differently for each data type (i.e. for integers or strings).\n",
    "\n",
    "For example, you can use Python as a simple calculator: summing 2 and 3 returns 5.\n"
   ]
  },
  {
   "cell_type": "code",
   "execution_count": null,
   "metadata": {},
   "outputs": [],
   "source": [
    "2+3"
   ]
  },
  {
   "cell_type": "markdown",
   "metadata": {},
   "source": [
    "You can also add strings together but this will return a different result."
   ]
  },
  {
   "cell_type": "code",
   "execution_count": null,
   "metadata": {},
   "outputs": [],
   "source": [
    "'2'+'3'"
   ]
  },
  {
   "cell_type": "markdown",
   "metadata": {},
   "source": [
    "### -- Exercise: \n",
    "Can you explain what happened and why the results (of the same operation applied to different data types) are different?"
   ]
  },
  {
   "cell_type": "markdown",
   "metadata": {},
   "source": [
    "### -- Exercise: \n",
    "\n",
    "What happens when you subtract 2 and 3 (first as integers then as strings?)."
   ]
  },
  {
   "cell_type": "code",
   "execution_count": null,
   "metadata": {},
   "outputs": [],
   "source": [
    "# Experiment here"
   ]
  },
  {
   "cell_type": "raw",
   "metadata": {},
   "source": [
    "# Write your answer here"
   ]
  },
  {
   "cell_type": "markdown",
   "metadata": {},
   "source": [
    "Please note that these operations return values of the same data type (which is not always the case, so be careful)."
   ]
  },
  {
   "cell_type": "code",
   "execution_count": null,
   "metadata": {},
   "outputs": [],
   "source": [
    "type(2+3)"
   ]
  },
  {
   "cell_type": "code",
   "execution_count": null,
   "metadata": {},
   "outputs": [],
   "source": [
    "type('2'+'3')"
   ]
  },
  {
   "cell_type": "markdown",
   "metadata": {},
   "source": [
    "## `Break out`:\n",
    "\n",
    "- [String operations](break_out/Operations_1.ipynb)\n",
    "- Operator Precedence"
   ]
  },
  {
   "cell_type": "markdown",
   "metadata": {},
   "source": [
    "## 3.3 Variables and variable assignment\n",
    "\n",
    "But Python is more powerful than a simple pocket calculator. A powerful feature is its ability to **store and manipulate variables**. A variable is a **name** that refers to a value. The **assignment statement** creates a new variable and assigns it to a concrete value. For examples: instead of passing the string 'Hello World.' as an argument to the `print()` function, we can **store** it, thereby creating a variable that refers to this 'Hello, World.\".\n",
    "\n",
    "We make use of comments in the code below, to explain what happens in each line."
   ]
  },
  {
   "cell_type": "code",
   "execution_count": null,
   "metadata": {},
   "outputs": [],
   "source": [
    "x = 'Hello World.' # declare a variable, x refers to 'Hello World.' \n",
    "print(x) # print the value of x"
   ]
  },
  {
   "cell_type": "markdown",
   "metadata": {},
   "source": [
    "The variable assignment contains a `=`, the statement declares that `x` now refers to the string `\"Hello world\"`. Variables are often described as boxes that store information (even though the metaphor is technically less correct, it is still useful, and we won't mind if it's easier to remember).\n",
    "\n",
    "Variable assignment follows the syntax `variable_name = value`\n",
    "\n",
    "Please note that the quotations mark only appear at the right-hand side of the `=` sign (using such character in variable names is not allowed, and will raise an error.)\n"
   ]
  },
  {
   "cell_type": "markdown",
   "metadata": {},
   "source": [
    "Of course, you can also assign variables to integers."
   ]
  },
  {
   "cell_type": "code",
   "execution_count": null,
   "metadata": {},
   "outputs": [],
   "source": [
    "x = 15 # x now refers the integer 15\n",
    "y = 22 #  y now refers the integer 22\n",
    "print(x)\n",
    "print(y)\n",
    "print(x+y) # print the sum of x and y"
   ]
  },
  {
   "cell_type": "markdown",
   "metadata": {},
   "source": [
    "In the code block above, two things happen. **First**, we fill `x` with a value, in our case `15` and `y` with `22`, print them in turn and the print the sum of both `x` and `y`, which look like high-school math."
   ]
  },
  {
   "cell_type": "markdown",
   "metadata": {},
   "source": [
    "In the preceding example, we changed the value of `x` from \"Hello World.\" (still stored in memory) to the integer 15. \n",
    "\n",
    "In Python you can change the values of a variable, i.e. make it refer to something else (even from a different data type). In the code cell belwo, the variable `text` first refers to the string `\"Hello World!\"` and then we change it to `\"Hello Planet!\"`"
   ]
  },
  {
   "cell_type": "code",
   "execution_count": null,
   "metadata": {},
   "outputs": [],
   "source": [
    "text = 'Hello, World!'\n",
    "print(text)\n",
    "text = 'Hello, Planet!'\n",
    "print(text)"
   ]
  },
  {
   "cell_type": "markdown",
   "metadata": {},
   "source": [
    "#### --Exercise--\n",
    "Create and print two variables, one containing your name (string) and another one with your year of birth (integer)"
   ]
  },
  {
   "cell_type": "markdown",
   "metadata": {},
   "source": [
    "## `Break out`\n",
    "\n",
    "- [variable names](break_out/variable_names.ipynb)\n",
    "- multiple assignment"
   ]
  },
  {
   "cell_type": "markdown",
   "metadata": {},
   "source": [
    "## Fin."
   ]
  }
 ],
 "metadata": {
  "kernelspec": {
   "display_name": "Python 3",
   "language": "python",
   "name": "python3"
  },
  "language_info": {
   "codemirror_mode": {
    "name": "ipython",
    "version": 3
   },
   "file_extension": ".py",
   "mimetype": "text/x-python",
   "name": "python",
   "nbconvert_exporter": "python",
   "pygments_lexer": "ipython3",
   "version": "3.7.4"
  }
 },
 "nbformat": 4,
 "nbformat_minor": 2
}
