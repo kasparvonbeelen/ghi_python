{
 "cells": [
  {
   "cell_type": "code",
   "execution_count": 28,
   "metadata": {},
   "outputs": [],
   "source": [
    "import requests\n",
    "import tqdm\n",
    "import pandas as pd"
   ]
  },
  {
   "cell_type": "markdown",
   "metadata": {},
   "source": [
    "# Get oral questions"
   ]
  },
  {
   "cell_type": "code",
   "execution_count": 142,
   "metadata": {},
   "outputs": [
    {
     "data": {
      "text/plain": [
       "97"
      ]
     },
     "execution_count": 142,
     "metadata": {},
     "output_type": "execute_result"
    }
   ],
   "source": [
    "48918 // 500"
   ]
  },
  {
   "cell_type": "code",
   "execution_count": 143,
   "metadata": {},
   "outputs": [
    {
     "data": {
      "application/vnd.jupyter.widget-view+json": {
       "model_id": "910b4e95d64a45bbb1d57ee72c4d0ce7",
       "version_major": 2,
       "version_minor": 0
      },
      "text/plain": [
       "HBox(children=(FloatProgress(value=0.0, max=98.0), HTML(value='')))"
      ]
     },
     "metadata": {},
     "output_type": "display_data"
    },
    {
     "name": "stdout",
     "output_type": "stream",
     "text": [
      "\n"
     ]
    }
   ],
   "source": [
    "data = []\n",
    "for page in tqdm.notebook.tqdm(range(98)):\n",
    "    url = f'https://lda.data.parliament.uk/commonsoralquestions.csv?_pageSize=500&_page={page}'\n",
    "    data.append(requests.get(url))"
   ]
  },
  {
   "cell_type": "code",
   "execution_count": 144,
   "metadata": {},
   "outputs": [
    {
     "data": {
      "text/plain": [
       "(5000, 16)"
      ]
     },
     "execution_count": 144,
     "metadata": {},
     "output_type": "execute_result"
    }
   ],
   "source": [
    "df.shape"
   ]
  },
  {
   "cell_type": "code",
   "execution_count": 145,
   "metadata": {},
   "outputs": [
    {
     "data": {
      "text/plain": [
       "(48918, 17)"
      ]
     },
     "execution_count": 145,
     "metadata": {},
     "output_type": "execute_result"
    }
   ],
   "source": [
    "dfs = [pd.read_csv(StringIO(d.text)) for d in data]\n",
    "df = pd.concat(dfs)\n",
    "df.shape\n"
   ]
  },
  {
   "cell_type": "code",
   "execution_count": 146,
   "metadata": {},
   "outputs": [
    {
     "data": {
      "text/html": [
       "<div>\n",
       "<style scoped>\n",
       "    .dataframe tbody tr th:only-of-type {\n",
       "        vertical-align: middle;\n",
       "    }\n",
       "\n",
       "    .dataframe tbody tr th {\n",
       "        vertical-align: top;\n",
       "    }\n",
       "\n",
       "    .dataframe thead th {\n",
       "        text-align: right;\n",
       "    }\n",
       "</style>\n",
       "<table border=\"1\" class=\"dataframe\">\n",
       "  <thead>\n",
       "    <tr style=\"text-align: right;\">\n",
       "      <th></th>\n",
       "      <th>uri</th>\n",
       "      <th>answer date</th>\n",
       "      <th>answer date time</th>\n",
       "      <th>answering body</th>\n",
       "      <th>commons question time &gt; question type</th>\n",
       "      <th>location &gt; pref label</th>\n",
       "      <th>question status</th>\n",
       "      <th>ballot number</th>\n",
       "      <th>date tabled</th>\n",
       "      <th>modified</th>\n",
       "      <th>question text</th>\n",
       "      <th>tabling member &gt; label</th>\n",
       "      <th>tabling member &gt; uri</th>\n",
       "      <th>tabling member &gt; constituency &gt; pref label</th>\n",
       "      <th>tabling member printed</th>\n",
       "      <th>uin</th>\n",
       "      <th>tabling member</th>\n",
       "    </tr>\n",
       "  </thead>\n",
       "  <tbody>\n",
       "    <tr>\n",
       "      <th>0</th>\n",
       "      <td>http://data.parliament.uk/resources/1388433</td>\n",
       "      <td>2022-01-05</td>\n",
       "      <td>2022-01-05T00:00:00</td>\n",
       "      <td>Prime Minister</td>\n",
       "      <td>Substantive</td>\n",
       "      <td>House of Commons chamber</td>\n",
       "      <td>Tabled</td>\n",
       "      <td>5</td>\n",
       "      <td>2021-12-16</td>\n",
       "      <td>2021-12-16T14:51:06.915</td>\n",
       "      <td>If he will list his official engagements for W...</td>\n",
       "      <td>Biography information for Sir Robert Neill</td>\n",
       "      <td>http://data.parliament.uk/members/1601</td>\n",
       "      <td>Bromley and Chislehurst</td>\n",
       "      <td>Sir Robert Neill</td>\n",
       "      <td>904884.0</td>\n",
       "      <td>NaN</td>\n",
       "    </tr>\n",
       "    <tr>\n",
       "      <th>1</th>\n",
       "      <td>http://data.parliament.uk/resources/1388434</td>\n",
       "      <td>2022-01-05</td>\n",
       "      <td>2022-01-05T00:00:00</td>\n",
       "      <td>Prime Minister</td>\n",
       "      <td>Substantive</td>\n",
       "      <td>House of Commons chamber</td>\n",
       "      <td>Tabled</td>\n",
       "      <td>3</td>\n",
       "      <td>2021-12-16</td>\n",
       "      <td>2021-12-16T14:51:09.551</td>\n",
       "      <td>If he will list his official engagements for W...</td>\n",
       "      <td>Biography information for Sarah Owen</td>\n",
       "      <td>http://data.parliament.uk/members/4777</td>\n",
       "      <td>Luton North</td>\n",
       "      <td>Sarah Owen</td>\n",
       "      <td>904882.0</td>\n",
       "      <td>NaN</td>\n",
       "    </tr>\n",
       "    <tr>\n",
       "      <th>2</th>\n",
       "      <td>http://data.parliament.uk/resources/1388435</td>\n",
       "      <td>2022-01-05</td>\n",
       "      <td>2022-01-05T00:00:00</td>\n",
       "      <td>Prime Minister</td>\n",
       "      <td>Substantive</td>\n",
       "      <td>House of Commons chamber</td>\n",
       "      <td>Tabled</td>\n",
       "      <td>15</td>\n",
       "      <td>2021-12-16</td>\n",
       "      <td>2021-12-16T14:51:12.243</td>\n",
       "      <td>If he will list his official engagements for W...</td>\n",
       "      <td>Biography information for Simon Fell</td>\n",
       "      <td>http://data.parliament.uk/members/4744</td>\n",
       "      <td>Barrow and Furness</td>\n",
       "      <td>Simon Fell</td>\n",
       "      <td>904894.0</td>\n",
       "      <td>NaN</td>\n",
       "    </tr>\n",
       "    <tr>\n",
       "      <th>3</th>\n",
       "      <td>http://data.parliament.uk/resources/1388436</td>\n",
       "      <td>2022-01-05</td>\n",
       "      <td>2022-01-05T00:00:00</td>\n",
       "      <td>Prime Minister</td>\n",
       "      <td>Substantive</td>\n",
       "      <td>House of Commons chamber</td>\n",
       "      <td>Tabled</td>\n",
       "      <td>1</td>\n",
       "      <td>2021-12-16</td>\n",
       "      <td>2021-12-16T14:51:14.923</td>\n",
       "      <td>If he will list his official engagements for W...</td>\n",
       "      <td>Biography information for Robert Halfon</td>\n",
       "      <td>http://data.parliament.uk/members/3985</td>\n",
       "      <td>Harlow</td>\n",
       "      <td>Robert Halfon</td>\n",
       "      <td>904880.0</td>\n",
       "      <td>NaN</td>\n",
       "    </tr>\n",
       "    <tr>\n",
       "      <th>4</th>\n",
       "      <td>http://data.parliament.uk/resources/1388437</td>\n",
       "      <td>2022-01-05</td>\n",
       "      <td>2022-01-05T00:00:00</td>\n",
       "      <td>Prime Minister</td>\n",
       "      <td>Substantive</td>\n",
       "      <td>House of Commons chamber</td>\n",
       "      <td>Tabled</td>\n",
       "      <td>13</td>\n",
       "      <td>2021-12-16</td>\n",
       "      <td>2021-12-16T14:51:17.563</td>\n",
       "      <td>If he will list his official engagements for W...</td>\n",
       "      <td>Biography information for Andy McDonald</td>\n",
       "      <td>http://data.parliament.uk/members/4269</td>\n",
       "      <td>Middlesbrough</td>\n",
       "      <td>Andy McDonald</td>\n",
       "      <td>904892.0</td>\n",
       "      <td>NaN</td>\n",
       "    </tr>\n",
       "    <tr>\n",
       "      <th>...</th>\n",
       "      <td>...</td>\n",
       "      <td>...</td>\n",
       "      <td>...</td>\n",
       "      <td>...</td>\n",
       "      <td>...</td>\n",
       "      <td>...</td>\n",
       "      <td>...</td>\n",
       "      <td>...</td>\n",
       "      <td>...</td>\n",
       "      <td>...</td>\n",
       "      <td>...</td>\n",
       "      <td>...</td>\n",
       "      <td>...</td>\n",
       "      <td>...</td>\n",
       "      <td>...</td>\n",
       "      <td>...</td>\n",
       "      <td>...</td>\n",
       "    </tr>\n",
       "    <tr>\n",
       "      <th>413</th>\n",
       "      <td>http://data.parliament.uk/resources/99512</td>\n",
       "      <td>2013-09-03</td>\n",
       "      <td>2013-09-03T00:00:00</td>\n",
       "      <td>Foreign and Commonwealth Office</td>\n",
       "      <td>Substantive</td>\n",
       "      <td>House of Commons chamber</td>\n",
       "      <td>Tabled</td>\n",
       "      <td>21</td>\n",
       "      <td>2013-08-27</td>\n",
       "      <td>2013-09-02T22:52:12.010</td>\n",
       "      <td>What recent assessment he has made of the situ...</td>\n",
       "      <td>Biography information for Sheila Gilmore</td>\n",
       "      <td>http://data.parliament.uk/members/3965</td>\n",
       "      <td>Edinburgh East</td>\n",
       "      <td>Gilmore, Sheila</td>\n",
       "      <td>900095.0</td>\n",
       "      <td>NaN</td>\n",
       "    </tr>\n",
       "    <tr>\n",
       "      <th>414</th>\n",
       "      <td>http://data.parliament.uk/resources/99599</td>\n",
       "      <td>2013-09-04</td>\n",
       "      <td>2013-09-04T00:00:00</td>\n",
       "      <td>Prime Minister</td>\n",
       "      <td>Substantive</td>\n",
       "      <td>House of Commons chamber</td>\n",
       "      <td>Tabled</td>\n",
       "      <td>13</td>\n",
       "      <td>2013-08-27</td>\n",
       "      <td>2013-08-30T00:06:41.607</td>\n",
       "      <td>If he will list his official engagements for W...</td>\n",
       "      <td>Biography information for Mr Jim Hood</td>\n",
       "      <td>http://data.parliament.uk/members/582</td>\n",
       "      <td>Lanark and Hamilton East</td>\n",
       "      <td>Hood, Mr Jim</td>\n",
       "      <td>900022.0</td>\n",
       "      <td>NaN</td>\n",
       "    </tr>\n",
       "    <tr>\n",
       "      <th>415</th>\n",
       "      <td>http://data.parliament.uk/resources/99603</td>\n",
       "      <td>2013-09-04</td>\n",
       "      <td>2013-09-04T00:00:00</td>\n",
       "      <td>Cabinet Office</td>\n",
       "      <td>Topical</td>\n",
       "      <td>House of Commons chamber</td>\n",
       "      <td>Tabled</td>\n",
       "      <td>1</td>\n",
       "      <td>2013-08-27</td>\n",
       "      <td>2013-09-02T22:52:12.010</td>\n",
       "      <td>If he will make a statement on his departmenta...</td>\n",
       "      <td>Biography information for Glyn Davies</td>\n",
       "      <td>http://data.parliament.uk/members/4041</td>\n",
       "      <td>Montgomeryshire</td>\n",
       "      <td>Davies, Glyn</td>\n",
       "      <td>900100.0</td>\n",
       "      <td>NaN</td>\n",
       "    </tr>\n",
       "    <tr>\n",
       "      <th>416</th>\n",
       "      <td>http://data.parliament.uk/resources/99614</td>\n",
       "      <td>2013-09-04</td>\n",
       "      <td>2013-09-04T00:00:00</td>\n",
       "      <td>Cabinet Office</td>\n",
       "      <td>Substantive</td>\n",
       "      <td>House of Commons chamber</td>\n",
       "      <td>Tabled</td>\n",
       "      <td>15</td>\n",
       "      <td>2013-08-27</td>\n",
       "      <td>2013-09-04T22:27:58.123</td>\n",
       "      <td>What steps he is taking to open up central Gov...</td>\n",
       "      <td>Biography information for Mr Barry Sheerman</td>\n",
       "      <td>http://data.parliament.uk/members/411</td>\n",
       "      <td>Huddersfield</td>\n",
       "      <td>Sheerman, Mr Barry</td>\n",
       "      <td>900039.0</td>\n",
       "      <td>NaN</td>\n",
       "    </tr>\n",
       "    <tr>\n",
       "      <th>417</th>\n",
       "      <td>http://data.parliament.uk/resources/99645</td>\n",
       "      <td>2013-09-03</td>\n",
       "      <td>2013-09-03T00:00:00</td>\n",
       "      <td>Foreign and Commonwealth Office</td>\n",
       "      <td>Topical</td>\n",
       "      <td>House of Commons chamber</td>\n",
       "      <td>Tabled</td>\n",
       "      <td>9</td>\n",
       "      <td>2013-08-27</td>\n",
       "      <td>2013-08-29T17:27:45.483</td>\n",
       "      <td>If he will make a statement on his departmenta...</td>\n",
       "      <td>Biography information for Tom Blenkinsop</td>\n",
       "      <td>http://data.parliament.uk/members/4037</td>\n",
       "      <td>Middlesbrough South and Cleveland East</td>\n",
       "      <td>Blenkinsop, Tom</td>\n",
       "      <td>900073.0</td>\n",
       "      <td>NaN</td>\n",
       "    </tr>\n",
       "  </tbody>\n",
       "</table>\n",
       "<p>48918 rows × 17 columns</p>\n",
       "</div>"
      ],
      "text/plain": [
       "                                             uri answer date  \\\n",
       "0    http://data.parliament.uk/resources/1388433  2022-01-05   \n",
       "1    http://data.parliament.uk/resources/1388434  2022-01-05   \n",
       "2    http://data.parliament.uk/resources/1388435  2022-01-05   \n",
       "3    http://data.parliament.uk/resources/1388436  2022-01-05   \n",
       "4    http://data.parliament.uk/resources/1388437  2022-01-05   \n",
       "..                                           ...         ...   \n",
       "413    http://data.parliament.uk/resources/99512  2013-09-03   \n",
       "414    http://data.parliament.uk/resources/99599  2013-09-04   \n",
       "415    http://data.parliament.uk/resources/99603  2013-09-04   \n",
       "416    http://data.parliament.uk/resources/99614  2013-09-04   \n",
       "417    http://data.parliament.uk/resources/99645  2013-09-03   \n",
       "\n",
       "        answer date time                   answering body  \\\n",
       "0    2022-01-05T00:00:00                   Prime Minister   \n",
       "1    2022-01-05T00:00:00                   Prime Minister   \n",
       "2    2022-01-05T00:00:00                   Prime Minister   \n",
       "3    2022-01-05T00:00:00                   Prime Minister   \n",
       "4    2022-01-05T00:00:00                   Prime Minister   \n",
       "..                   ...                              ...   \n",
       "413  2013-09-03T00:00:00  Foreign and Commonwealth Office   \n",
       "414  2013-09-04T00:00:00                   Prime Minister   \n",
       "415  2013-09-04T00:00:00                   Cabinet Office   \n",
       "416  2013-09-04T00:00:00                   Cabinet Office   \n",
       "417  2013-09-03T00:00:00  Foreign and Commonwealth Office   \n",
       "\n",
       "    commons question time > question type     location > pref label  \\\n",
       "0                             Substantive  House of Commons chamber   \n",
       "1                             Substantive  House of Commons chamber   \n",
       "2                             Substantive  House of Commons chamber   \n",
       "3                             Substantive  House of Commons chamber   \n",
       "4                             Substantive  House of Commons chamber   \n",
       "..                                    ...                       ...   \n",
       "413                           Substantive  House of Commons chamber   \n",
       "414                           Substantive  House of Commons chamber   \n",
       "415                               Topical  House of Commons chamber   \n",
       "416                           Substantive  House of Commons chamber   \n",
       "417                               Topical  House of Commons chamber   \n",
       "\n",
       "    question status  ballot number date tabled                 modified  \\\n",
       "0            Tabled              5  2021-12-16  2021-12-16T14:51:06.915   \n",
       "1            Tabled              3  2021-12-16  2021-12-16T14:51:09.551   \n",
       "2            Tabled             15  2021-12-16  2021-12-16T14:51:12.243   \n",
       "3            Tabled              1  2021-12-16  2021-12-16T14:51:14.923   \n",
       "4            Tabled             13  2021-12-16  2021-12-16T14:51:17.563   \n",
       "..              ...            ...         ...                      ...   \n",
       "413          Tabled             21  2013-08-27  2013-09-02T22:52:12.010   \n",
       "414          Tabled             13  2013-08-27  2013-08-30T00:06:41.607   \n",
       "415          Tabled              1  2013-08-27  2013-09-02T22:52:12.010   \n",
       "416          Tabled             15  2013-08-27  2013-09-04T22:27:58.123   \n",
       "417          Tabled              9  2013-08-27  2013-08-29T17:27:45.483   \n",
       "\n",
       "                                         question text  \\\n",
       "0    If he will list his official engagements for W...   \n",
       "1    If he will list his official engagements for W...   \n",
       "2    If he will list his official engagements for W...   \n",
       "3    If he will list his official engagements for W...   \n",
       "4    If he will list his official engagements for W...   \n",
       "..                                                 ...   \n",
       "413  What recent assessment he has made of the situ...   \n",
       "414  If he will list his official engagements for W...   \n",
       "415  If he will make a statement on his departmenta...   \n",
       "416  What steps he is taking to open up central Gov...   \n",
       "417  If he will make a statement on his departmenta...   \n",
       "\n",
       "                          tabling member > label  \\\n",
       "0     Biography information for Sir Robert Neill   \n",
       "1           Biography information for Sarah Owen   \n",
       "2           Biography information for Simon Fell   \n",
       "3        Biography information for Robert Halfon   \n",
       "4        Biography information for Andy McDonald   \n",
       "..                                           ...   \n",
       "413     Biography information for Sheila Gilmore   \n",
       "414        Biography information for Mr Jim Hood   \n",
       "415        Biography information for Glyn Davies   \n",
       "416  Biography information for Mr Barry Sheerman   \n",
       "417     Biography information for Tom Blenkinsop   \n",
       "\n",
       "                       tabling member > uri  \\\n",
       "0    http://data.parliament.uk/members/1601   \n",
       "1    http://data.parliament.uk/members/4777   \n",
       "2    http://data.parliament.uk/members/4744   \n",
       "3    http://data.parliament.uk/members/3985   \n",
       "4    http://data.parliament.uk/members/4269   \n",
       "..                                      ...   \n",
       "413  http://data.parliament.uk/members/3965   \n",
       "414   http://data.parliament.uk/members/582   \n",
       "415  http://data.parliament.uk/members/4041   \n",
       "416   http://data.parliament.uk/members/411   \n",
       "417  http://data.parliament.uk/members/4037   \n",
       "\n",
       "    tabling member > constituency > pref label tabling member printed  \\\n",
       "0                      Bromley and Chislehurst       Sir Robert Neill   \n",
       "1                                  Luton North             Sarah Owen   \n",
       "2                           Barrow and Furness             Simon Fell   \n",
       "3                                       Harlow          Robert Halfon   \n",
       "4                                Middlesbrough          Andy McDonald   \n",
       "..                                         ...                    ...   \n",
       "413                             Edinburgh East        Gilmore, Sheila   \n",
       "414                   Lanark and Hamilton East           Hood, Mr Jim   \n",
       "415                            Montgomeryshire           Davies, Glyn   \n",
       "416                               Huddersfield     Sheerman, Mr Barry   \n",
       "417     Middlesbrough South and Cleveland East        Blenkinsop, Tom   \n",
       "\n",
       "          uin tabling member  \n",
       "0    904884.0            NaN  \n",
       "1    904882.0            NaN  \n",
       "2    904894.0            NaN  \n",
       "3    904880.0            NaN  \n",
       "4    904892.0            NaN  \n",
       "..        ...            ...  \n",
       "413  900095.0            NaN  \n",
       "414  900022.0            NaN  \n",
       "415  900100.0            NaN  \n",
       "416  900039.0            NaN  \n",
       "417  900073.0            NaN  \n",
       "\n",
       "[48918 rows x 17 columns]"
      ]
     },
     "execution_count": 146,
     "metadata": {},
     "output_type": "execute_result"
    }
   ],
   "source": [
    "df"
   ]
  },
  {
   "cell_type": "code",
   "execution_count": 60,
   "metadata": {},
   "outputs": [
    {
     "name": "stdout",
     "output_type": "stream",
     "text": [
      "Download Parliamentary Data.ipynb\r\n",
      "Process HMD data - sentence level.ipynb\r\n",
      "Process HMD data.ipynb\r\n",
      "Process Manifesto Data for Sentence Classification.ipynb\r\n",
      "Process Manifesto Data.ipynb\r\n"
     ]
    }
   ],
   "source": [
    "!ls"
   ]
  },
  {
   "cell_type": "code",
   "execution_count": 147,
   "metadata": {},
   "outputs": [],
   "source": [
    "df.to_csv('../data/questions/parl_questions.csv')"
   ]
  },
  {
   "cell_type": "markdown",
   "metadata": {},
   "source": [
    "# Get MP data"
   ]
  },
  {
   "cell_type": "code",
   "execution_count": 148,
   "metadata": {},
   "outputs": [
    {
     "data": {
      "text/plain": [
       "981"
      ]
     },
     "execution_count": 148,
     "metadata": {},
     "output_type": "execute_result"
    }
   ],
   "source": [
    "mp_ids = df['tabling member > uri'].unique() ; len(mp_ids)"
   ]
  },
  {
   "cell_type": "code",
   "execution_count": 149,
   "metadata": {},
   "outputs": [
    {
     "data": {
      "text/plain": [
       "'http://data.parliament.uk/members/4805'"
      ]
     },
     "execution_count": 149,
     "metadata": {},
     "output_type": "execute_result"
    }
   ],
   "source": [
    "mp = mp_ids[5]; mp"
   ]
  },
  {
   "cell_type": "code",
   "execution_count": 150,
   "metadata": {},
   "outputs": [
    {
     "data": {
      "text/plain": [
       "' https://lda.data.parliament.uk/members.json'"
      ]
     },
     "execution_count": 150,
     "metadata": {},
     "output_type": "execute_result"
    }
   ],
   "source": [
    "' https://lda.data.parliament.uk/members.json'"
   ]
  },
  {
   "cell_type": "code",
   "execution_count": 151,
   "metadata": {},
   "outputs": [],
   "source": [
    "mp_data = [requests.get(f\"https://lda.data.parliament.uk/members/{mpid.split('/')[-1]}.json\") for mpid in mp_ids]"
   ]
  },
  {
   "cell_type": "code",
   "execution_count": 152,
   "metadata": {},
   "outputs": [
    {
     "data": {
      "text/plain": [
       "{'_about': 'http://data.parliament.uk/members/1585',\n",
       " 'additionalName': {'_value': 'William'},\n",
       " 'constituency': {'_about': 'http://data.parliament.uk/resources/147313',\n",
       "  'label': {'_value': 'Wimbledon'}},\n",
       " 'familyName': {'_value': 'Hammond'},\n",
       " 'fullName': {'_value': 'Stephen Hammond'},\n",
       " 'gender': {'_value': 'Male'},\n",
       " 'givenName': {'_value': 'Stephen'},\n",
       " 'isPrimaryTopicOf': 'http://eldaddp.azurewebsites.net/members/1585.json',\n",
       " 'label': {'_value': 'Biography information for Stephen Hammond'},\n",
       " 'party': {'_value': 'Conservative'},\n",
       " 'twitter': {'_value': 'https://twitter.com/s_hammond'}}"
      ]
     },
     "execution_count": 152,
     "metadata": {},
     "output_type": "execute_result"
    }
   ],
   "source": [
    "mp_data[10].json()['result']['primaryTopic']"
   ]
  },
  {
   "cell_type": "code",
   "execution_count": 153,
   "metadata": {},
   "outputs": [],
   "source": [
    "def get_info(mp_info):\n",
    "    try:\n",
    "        res = mp_info.json()['result']['primaryTopic']\n",
    "        gender = res.get('gender',{}).get('_value',None)\n",
    "        party = res.get('party',{}).get('_value',None)\n",
    "        uri = res.get('_about',None)\n",
    "        return [gender,party,uri]\n",
    "    except:\n",
    "        return [None,None,None]\n"
   ]
  },
  {
   "cell_type": "code",
   "execution_count": 154,
   "metadata": {},
   "outputs": [],
   "source": [
    "#[get_info(mp) for mp in mp_data]"
   ]
  },
  {
   "cell_type": "code",
   "execution_count": 155,
   "metadata": {},
   "outputs": [
    {
     "data": {
      "application/vnd.jupyter.widget-view+json": {
       "model_id": "8d8f90f2ef1d403baf320b25822e059b",
       "version_major": 2,
       "version_minor": 0
      },
      "text/plain": [
       "HBox(children=(FloatProgress(value=0.0, max=981.0), HTML(value='')))"
      ]
     },
     "metadata": {},
     "output_type": "display_data"
    },
    {
     "name": "stdout",
     "output_type": "stream",
     "text": [
      "\n"
     ]
    }
   ],
   "source": [
    "df_mp = pd.DataFrame([get_info(mp) for mp in tqdm.notebook.tqdm(mp_data)],\n",
    "                    columns=['gender','party','uri_mp'])"
   ]
  },
  {
   "cell_type": "code",
   "execution_count": 156,
   "metadata": {},
   "outputs": [
    {
     "data": {
      "text/html": [
       "<div>\n",
       "<style scoped>\n",
       "    .dataframe tbody tr th:only-of-type {\n",
       "        vertical-align: middle;\n",
       "    }\n",
       "\n",
       "    .dataframe tbody tr th {\n",
       "        vertical-align: top;\n",
       "    }\n",
       "\n",
       "    .dataframe thead th {\n",
       "        text-align: right;\n",
       "    }\n",
       "</style>\n",
       "<table border=\"1\" class=\"dataframe\">\n",
       "  <thead>\n",
       "    <tr style=\"text-align: right;\">\n",
       "      <th></th>\n",
       "      <th>gender</th>\n",
       "      <th>party</th>\n",
       "      <th>uri_mp</th>\n",
       "    </tr>\n",
       "  </thead>\n",
       "  <tbody>\n",
       "    <tr>\n",
       "      <th>0</th>\n",
       "      <td>Male</td>\n",
       "      <td>Conservative</td>\n",
       "      <td>http://data.parliament.uk/members/1601</td>\n",
       "    </tr>\n",
       "    <tr>\n",
       "      <th>1</th>\n",
       "      <td>Female</td>\n",
       "      <td>Labour</td>\n",
       "      <td>http://data.parliament.uk/members/4777</td>\n",
       "    </tr>\n",
       "    <tr>\n",
       "      <th>2</th>\n",
       "      <td>Male</td>\n",
       "      <td>Conservative</td>\n",
       "      <td>http://data.parliament.uk/members/4744</td>\n",
       "    </tr>\n",
       "    <tr>\n",
       "      <th>3</th>\n",
       "      <td>Male</td>\n",
       "      <td>Conservative</td>\n",
       "      <td>http://data.parliament.uk/members/3985</td>\n",
       "    </tr>\n",
       "    <tr>\n",
       "      <th>4</th>\n",
       "      <td>Male</td>\n",
       "      <td>Labour</td>\n",
       "      <td>http://data.parliament.uk/members/4269</td>\n",
       "    </tr>\n",
       "    <tr>\n",
       "      <th>...</th>\n",
       "      <td>...</td>\n",
       "      <td>...</td>\n",
       "      <td>...</td>\n",
       "    </tr>\n",
       "    <tr>\n",
       "      <th>976</th>\n",
       "      <td>Female</td>\n",
       "      <td>Labour</td>\n",
       "      <td>http://data.parliament.uk/members/3915</td>\n",
       "    </tr>\n",
       "    <tr>\n",
       "      <th>977</th>\n",
       "      <td>Male</td>\n",
       "      <td>Liberal Democrat</td>\n",
       "      <td>http://data.parliament.uk/members/3946</td>\n",
       "    </tr>\n",
       "    <tr>\n",
       "      <th>978</th>\n",
       "      <td>Female</td>\n",
       "      <td>Conservative</td>\n",
       "      <td>http://data.parliament.uk/members/36</td>\n",
       "    </tr>\n",
       "    <tr>\n",
       "      <th>979</th>\n",
       "      <td>Male</td>\n",
       "      <td>None</td>\n",
       "      <td>http://data.parliament.uk/members/3955</td>\n",
       "    </tr>\n",
       "    <tr>\n",
       "      <th>980</th>\n",
       "      <td>Male</td>\n",
       "      <td>Labour</td>\n",
       "      <td>http://data.parliament.uk/members/582</td>\n",
       "    </tr>\n",
       "  </tbody>\n",
       "</table>\n",
       "<p>981 rows × 3 columns</p>\n",
       "</div>"
      ],
      "text/plain": [
       "     gender             party                                  uri_mp\n",
       "0      Male      Conservative  http://data.parliament.uk/members/1601\n",
       "1    Female            Labour  http://data.parliament.uk/members/4777\n",
       "2      Male      Conservative  http://data.parliament.uk/members/4744\n",
       "3      Male      Conservative  http://data.parliament.uk/members/3985\n",
       "4      Male            Labour  http://data.parliament.uk/members/4269\n",
       "..      ...               ...                                     ...\n",
       "976  Female            Labour  http://data.parliament.uk/members/3915\n",
       "977    Male  Liberal Democrat  http://data.parliament.uk/members/3946\n",
       "978  Female      Conservative    http://data.parliament.uk/members/36\n",
       "979    Male              None  http://data.parliament.uk/members/3955\n",
       "980    Male            Labour   http://data.parliament.uk/members/582\n",
       "\n",
       "[981 rows x 3 columns]"
      ]
     },
     "execution_count": 156,
     "metadata": {},
     "output_type": "execute_result"
    }
   ],
   "source": [
    "df_mp"
   ]
  },
  {
   "cell_type": "code",
   "execution_count": 157,
   "metadata": {},
   "outputs": [],
   "source": [
    "df_merged = df.merge(df_mp,right_on='uri_mp',left_on='tabling member > uri')"
   ]
  },
  {
   "cell_type": "code",
   "execution_count": null,
   "metadata": {},
   "outputs": [],
   "source": []
  },
  {
   "cell_type": "code",
   "execution_count": 158,
   "metadata": {},
   "outputs": [],
   "source": [
    "df_populo = requests.get('https://cdn.jsdelivr.net/gh/everypolitician/everypolitician-data@8382ff6bd31785d630950716ccb53eccfbe8485f/data/UK/Commons/ep-popolo-v1.0.json').json()"
   ]
  },
  {
   "cell_type": "code",
   "execution_count": 159,
   "metadata": {},
   "outputs": [
    {
     "data": {
      "text/plain": [
       "1347"
      ]
     },
     "execution_count": 159,
     "metadata": {},
     "output_type": "execute_result"
    }
   ],
   "source": [
    "len(df_populo['persons'])"
   ]
  },
  {
   "cell_type": "code",
   "execution_count": 166,
   "metadata": {},
   "outputs": [
    {
     "data": {
      "text/plain": [
       "{'birth_date': '1962-05-06',\n",
       " 'contact_details': [{'type': 'email', 'value': 'info@tombrake.co.uk'},\n",
       "  {'type': 'phone', 'value': '020 7219 0924'},\n",
       "  {'type': 'twitter', 'value': 'thomasbrake'}],\n",
       " 'email': 'info@tombrake.co.uk',\n",
       " 'gender': 'male',\n",
       " 'given_name': 'Thomas',\n",
       " 'id': '01fbdbc4-1cf7-4da3-a91c-1df42f806716',\n",
       " 'identifiers': [{'identifier': '25726', 'scheme': 'bbc_democracy_live'},\n",
       "  {'identifier': '2268', 'scheme': 'current_hansard'},\n",
       "  {'identifier': '151', 'scheme': 'datadotparl'},\n",
       "  {'identifier': '25726', 'scheme': 'dods'},\n",
       "  {'identifier': '10063', 'scheme': 'everypolitician_legacy'},\n",
       "  {'identifier': '/m/025ktk', 'scheme': 'freebase'},\n",
       "  {'identifier': 'mr-tom-brake', 'scheme': 'hansard'},\n",
       "  {'identifier': '144', 'scheme': 'historichansard'},\n",
       "  {'identifier': 'tom-brake', 'scheme': 'journalisted'},\n",
       "  {'identifier': 'commons/tom-brake/151', 'scheme': 'parliamentdotuk'},\n",
       "  {'identifier': 'uk.org.publicwhip/person/10063', 'scheme': 'parlparse'},\n",
       "  {'identifier': '2268', 'scheme': 'pims'},\n",
       "  {'identifier': 'Tom_Brake', 'scheme': 'publicwhip'},\n",
       "  {'identifier': 'tom_brake', 'scheme': 'twfy'},\n",
       "  {'identifier': 'Q264720', 'scheme': 'wikidata'}],\n",
       " 'image': 'https://candidates.democracyclub.org.uk/media/images/5481e8e3b150e238702c060f.png',\n",
       " 'images': [{'url': 'https://candidates.democracyclub.org.uk/media/images/5481e8e3b150e238702c060f.png'},\n",
       "  {'url': 'https://upload.wikimedia.org/wikipedia/commons/1/11/Tom_Brake_MP_at_Bournemouth_2009.jpg'},\n",
       "  {'url': 'https://pbs.twimg.com/profile_images/809781492415086592/1tql85Nc.jpg'}],\n",
       " 'links': [{'note': 'Wikipedia (en)',\n",
       "   'url': 'https://en.wikipedia.org/wiki/Tom_Brake'},\n",
       "  {'note': 'Wikipedia (la)',\n",
       "   'url': 'https://la.wikipedia.org/wiki/Thomas_Brake'},\n",
       "  {'note': 'Wikipedia (sv)', 'url': 'https://sv.wikipedia.org/wiki/Tom_Brake'},\n",
       "  {'note': 'Wikipedia (uk)', 'url': 'https://uk.wikipedia.org/wiki/Том_Брейк'},\n",
       "  {'note': 'Wikipedia (zh)', 'url': 'https://zh.wikipedia.org/wiki/湯姆·布雷克'},\n",
       "  {'note': 'facebook', 'url': 'https://facebook.com/brake'},\n",
       "  {'note': 'twitter', 'url': 'https://twitter.com/thomasbrake'},\n",
       "  {'note': 'website', 'url': 'http://www.tombrake.co.uk'},\n",
       "  {'note': 'wikipedia', 'url': 'https://en.wikipedia.org/wiki/Tom_Brake'}],\n",
       " 'name': 'Tom Brake',\n",
       " 'other_names': [{'lang': 'de', 'name': 'Tom Brake', 'note': 'multilingual'},\n",
       "  {'lang': 'en', 'name': 'Tom Brake', 'note': 'multilingual'},\n",
       "  {'lang': 'en-ca', 'name': 'Tom Brake', 'note': 'multilingual'},\n",
       "  {'lang': 'en-gb', 'name': 'Tom Brake', 'note': 'multilingual'},\n",
       "  {'lang': 'es', 'name': 'Tom Brake', 'note': 'multilingual'},\n",
       "  {'lang': 'fr', 'name': 'Tom Brake', 'note': 'multilingual'},\n",
       "  {'lang': 'hu', 'name': 'Tom Brake', 'note': 'multilingual'},\n",
       "  {'lang': 'la', 'name': 'Thomas Brake', 'note': 'multilingual'},\n",
       "  {'lang': 'nl', 'name': 'Tom Brake', 'note': 'multilingual'},\n",
       "  {'lang': 'sv', 'name': 'Tom Brake', 'note': 'multilingual'},\n",
       "  {'lang': 'uk', 'name': 'Том Брейк', 'note': 'multilingual'},\n",
       "  {'lang': 'zh', 'name': '湯姆·布雷克', 'note': 'multilingual'}],\n",
       " 'sort_name': 'Brake, Tom'}"
      ]
     },
     "execution_count": 166,
     "metadata": {},
     "output_type": "execute_result"
    }
   ],
   "source": [
    "df_populo['persons'][10]"
   ]
  },
  {
   "cell_type": "code",
   "execution_count": 167,
   "metadata": {},
   "outputs": [],
   "source": [
    "people = requests.get('https://raw.githubusercontent.com/mysociety/parlparse/master/members/people.json').json()"
   ]
  },
  {
   "cell_type": "code",
   "execution_count": 191,
   "metadata": {},
   "outputs": [
    {
     "data": {
      "text/plain": [
       "{'id': 'uk.org.publicwhip/person/22008',\n",
       " 'identifiers': [{'identifier': '8733', 'scheme': 'historichansard_person_id'},\n",
       "  {'identifier': 'mr-kenneth-lindsay', 'scheme': 'historichansard_url'}],\n",
       " 'other_names': [{'family_name': 'Lindsay',\n",
       "   'given_name': 'Kenneth',\n",
       "   'honorific_prefix': 'Mr',\n",
       "   'note': 'Main'}]}"
      ]
     },
     "execution_count": 191,
     "metadata": {},
     "output_type": "execute_result"
    }
   ],
   "source": [
    "people['persons'][10001]"
   ]
  },
  {
   "cell_type": "code",
   "execution_count": 192,
   "metadata": {},
   "outputs": [
    {
     "data": {
      "application/vnd.jupyter.widget-view+json": {
       "model_id": "25e1491383bd4829aca1917b7cb20262",
       "version_major": 2,
       "version_minor": 0
      },
      "text/plain": [
       "HBox(children=(FloatProgress(value=0.0, max=13992.0), HTML(value='')))"
      ]
     },
     "metadata": {},
     "output_type": "display_data"
    },
    {
     "name": "stdout",
     "output_type": "stream",
     "text": [
      "\n"
     ]
    },
    {
     "data": {
      "text/plain": [
       "2430"
      ]
     },
     "execution_count": 192,
     "metadata": {},
     "output_type": "execute_result"
    }
   ],
   "source": [
    "dob = []\n",
    "#persons = df_populo['persons']\n",
    "for p in tqdm.notebook.tqdm(people['persons']):\n",
    "    \n",
    "    for m_id in p.get('identifiers',[]):\n",
    "        if m_id['scheme'] == 'datadotparl_id':\n",
    "            dob.append([p,\n",
    "                         'http://data.parliament.uk/members/'+ m_id['identifier'].split('/')[-1]])\n",
    "len(dob)"
   ]
  },
  {
   "cell_type": "code",
   "execution_count": 193,
   "metadata": {},
   "outputs": [
    {
     "data": {
      "text/plain": [
       "[{'id': 'uk.org.publicwhip/person/10001',\n",
       "  'identifiers': [{'identifier': '7', 'scheme': 'historichansard_person_id'},\n",
       "   {'identifier': '172', 'scheme': 'datadotparl_id'},\n",
       "   {'identifier': 2567, 'scheme': 'yournextmp'},\n",
       "   {'identifier': '3572', 'scheme': 'pims_id'},\n",
       "   {'identifier': 'Q153454', 'scheme': 'wikidata'}],\n",
       "  'other_names': [{'family_name': 'Abbott',\n",
       "    'given_name': 'Diane',\n",
       "    'note': 'Main'}],\n",
       "  'shortcuts': {'current_constituency': 'Hackney North and Stoke Newington',\n",
       "   'current_party': 'Labour'}},\n",
       " 'http://data.parliament.uk/members/172']"
      ]
     },
     "execution_count": 193,
     "metadata": {},
     "output_type": "execute_result"
    }
   ],
   "source": [
    "dob[0]"
   ]
  },
  {
   "cell_type": "code",
   "execution_count": 160,
   "metadata": {},
   "outputs": [],
   "source": [
    "dob = []\n",
    "persons = df_populo['persons']\n",
    "for p in persons:\n",
    "    for m_id in p['identifiers']:\n",
    "        if m_id['scheme'] == 'parliamentdotuk':\n",
    "            dob.append([p['birth_date'],\n",
    "                         'http://data.parliament.uk/members/'+ m_id['identifier'].split('/')[-1]])\n"
   ]
  },
  {
   "cell_type": "code",
   "execution_count": 161,
   "metadata": {},
   "outputs": [],
   "source": [
    "dob_df = pd.DataFrame(dob,columns=['dob','uri_dob'])"
   ]
  },
  {
   "cell_type": "code",
   "execution_count": 162,
   "metadata": {},
   "outputs": [],
   "source": [
    "df_merged = df_merged.merge(dob_df,left_on='tabling member > uri',right_on='uri_dob')"
   ]
  },
  {
   "cell_type": "code",
   "execution_count": 163,
   "metadata": {},
   "outputs": [],
   "source": [
    "df_merged.to_csv('../data/questions/parl_questions.csv')"
   ]
  },
  {
   "cell_type": "code",
   "execution_count": null,
   "metadata": {},
   "outputs": [],
   "source": []
  },
  {
   "cell_type": "code",
   "execution_count": null,
   "metadata": {},
   "outputs": [],
   "source": [
    "https://lda.data.parliament.uk/members.json/"
   ]
  }
 ],
 "metadata": {
  "kernelspec": {
   "display_name": "Python 3",
   "language": "python",
   "name": "python3"
  },
  "language_info": {
   "codemirror_mode": {
    "name": "ipython",
    "version": 3
   },
   "file_extension": ".py",
   "mimetype": "text/x-python",
   "name": "python",
   "nbconvert_exporter": "python",
   "pygments_lexer": "ipython3",
   "version": "3.7.4"
  }
 },
 "nbformat": 4,
 "nbformat_minor": 2
}
