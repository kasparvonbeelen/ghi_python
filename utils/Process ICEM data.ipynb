{
 "cells": [
  {
   "cell_type": "code",
   "execution_count": 72,
   "metadata": {},
   "outputs": [],
   "source": [
    "import pandas as pd\n",
    "import tqdm"
   ]
  },
  {
   "cell_type": "code",
   "execution_count": 73,
   "metadata": {},
   "outputs": [],
   "source": [
    "all_cols = ['Year', 'RecID', 'ParID', 'ConParID', 'Country', 'Division', 'RegCnty', 'RegDist', 'SubDist', 'RC', 'RD', 'RSD', 'Parish', 'Area', 'Part', 'Population', 'MalePop', 'FemalePop', 'NoOfInstit', 'InstitPop', 'ParType', 'Censusref', 'ImageRef', 'PageType', 'DocType', 'EnuDist', 'BuildType', 'BTCode', 'NoOfRooms', 'NoOfRoomsCode', 'Schedule', 'H', 'Absent', 'Absentcode', 'HSS', 'Size', 'InstName', 'InstDesc', 'VessName', 'VessPos', 'PID', 'Sex', 'SexInf', 'Age', 'Cage', 'AgeInf', 'Cond', 'Mar', 'MarInf', 'Relat', 'Rela', 'RelInf', 'HeadInf', 'Occ', 'HollerOcc', 'Occode', 'HISCO', 'Industry', 'HollerInd', 'Employ', 'EmployCode', 'AtHome', 'Inactive', 'Disab', 'DisCode1', 'DisCode2', 'Bpstring', 'BpCmty', 'Std_Par', 'BpCnty', 'Cnti', 'Alt_Cnti', 'BpCtry', 'Ctry', 'Alt_Ctry', 'HollerB', 'Nationality', 'Lang', 'Langcode', 'YearsMar', 'MarYear', 'ChildTot', 'ChildAlive', 'ChildDead', 'ChildrenCode', 'HHD', 'H_Sname', 'H_Sex', 'H_Age', 'H_Rela', 'H_Mar', 'H_Occ', 'H_CFU', 'SameName', 'CFU', 'n_CFUs', 'tn_CFUs', 'CFUsize', 'Spouse', 'Father', 'Mother', 'f_Off', 'm_Off', 'm_Offm', 'f_Offm', 'Offsp', 'Kids', 'Relats', 'Inmates', 'Servts', 'Non_Rels', 'Visitors', 'Military']"
   ]
  },
  {
   "cell_type": "code",
   "execution_count": 74,
   "metadata": {},
   "outputs": [],
   "source": [
    "cols = ['RegCnty','RegDist','SubDist','Sex', 'SexInf', 'Age',\"AgeInf\",'Disab', 'DisCode1', 'DisCode2','Industry','HISCO']"
   ]
  },
  {
   "cell_type": "code",
   "execution_count": 75,
   "metadata": {},
   "outputs": [
    {
     "data": {
      "application/vnd.jupyter.widget-view+json": {
       "model_id": "1099a83a049c448fa88f21843a507b35",
       "version_major": 2,
       "version_minor": 0
      },
      "text/plain": [
       "HBox(children=(FloatProgress(value=1.0, bar_style='info', max=1.0), HTML(value='')))"
      ]
     },
     "metadata": {},
     "output_type": "display_data"
    },
    {
     "name": "stdout",
     "output_type": "stream",
     "text": [
      "\n"
     ]
    }
   ],
   "source": [
    "data = []\n",
    "with pd.read_csv(r'/Users/kbeelen/Downloads/EW01outputfile.txt',sep='\\t', \n",
    "                 iterator=True, \n",
    "                 chunksize=1000000,\n",
    "                 low_memory=False,\n",
    "                 encoding = \"ISO-8859-1\") as reader:\n",
    "    for chunk in tqdm.notebook.tqdm(reader):\n",
    "        #print(chunk.shape)\n",
    "        data.append(chunk[cols])\n"
   ]
  },
  {
   "cell_type": "code",
   "execution_count": 76,
   "metadata": {},
   "outputs": [
    {
     "data": {
      "text/plain": [
       "(32342705, 12)"
      ]
     },
     "execution_count": 76,
     "metadata": {},
     "output_type": "execute_result"
    }
   ],
   "source": [
    "df = pd.concat(data); len(data); df.shape"
   ]
  },
  {
   "cell_type": "code",
   "execution_count": 77,
   "metadata": {},
   "outputs": [],
   "source": [
    "df.reset_index(inplace=True)\n",
    "#df.to_csv('../data/icem/EW01_selected_full.csv')"
   ]
  },
  {
   "cell_type": "code",
   "execution_count": 81,
   "metadata": {},
   "outputs": [],
   "source": [
    "sample = df.sample(frac=.01,random_state=0)\n",
    "sample.to_csv('../data/icem/EW01_selected_sample.csv')"
   ]
  },
  {
   "cell_type": "code",
   "execution_count": 82,
   "metadata": {},
   "outputs": [],
   "source": [
    "ages = [str(i) for i in range(0,110)]\n",
    "df_london = df[df.RegCnty.str.startswith('London')]\n",
    "df_london = df_london[df_london.Age.isin(ages)]\n",
    "df_london[['RegDist','SubDist','Sex','Age','DisCode1','DisCode2','Industry','HISCO']].to_csv('../data/icem/EW01_london_sample.csv')"
   ]
  },
  {
   "cell_type": "code",
   "execution_count": null,
   "metadata": {},
   "outputs": [],
   "source": []
  }
 ],
 "metadata": {
  "kernelspec": {
   "display_name": "Python 3",
   "language": "python",
   "name": "python3"
  },
  "language_info": {
   "codemirror_mode": {
    "name": "ipython",
    "version": 3
   },
   "file_extension": ".py",
   "mimetype": "text/x-python",
   "name": "python",
   "nbconvert_exporter": "python",
   "pygments_lexer": "ipython3",
   "version": "3.7.4"
  }
 },
 "nbformat": 4,
 "nbformat_minor": 2
}
