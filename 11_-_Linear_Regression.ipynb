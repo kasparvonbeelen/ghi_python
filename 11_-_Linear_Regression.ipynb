{
 "cells": [
  {
   "cell_type": "markdown",
   "metadata": {},
   "source": [
    "[![Binder](https://mybinder.org/badge_logo.svg)](https://mybinder.org/v2/gh/kasparvonbeelen/ghi_python/4-tables?labpath=11_-_Linear_Regression.ipynb)\n",
    "\n",
    "\n",
    "# Lecture 11: Linear Regression\n",
    "## A gentle introduction to correlation and regression for historians \n",
    "### ... in Python and Pandas\n",
    "\n",
    "\n",
    "## Data Science for Historians (with Python)\n",
    "\n",
    "### Created by Kaspar Beelen and Luke Blaxill\n",
    "\n",
    "### For the German Historical Institute, London\n",
    "\n",
    "<img align=\"left\" src=\"https://www.ghil.ac.uk/typo3conf/ext/wacon_ghil/Resources/Public/Images/institute_icon_small.png\">\n"
   ]
  },
  {
   "cell_type": "markdown",
   "metadata": {},
   "source": [
    "\n",
    "This notebook turns to more advanced and scientifically interesting methods. We will discuss linear regression and later on generalised linear models. \n",
    "\n",
    "So far, we focused on quantifying and interpreting differences between subgroups in our data (place and gender), more specifically estimating the significance between the means.\n",
    "\n",
    "\n",
    "Now we turn the analysing the relationship between variables, the extent to which variables are associated with each other. This allows us to model historical phenomena and make predictions. \n",
    "\n",
    "As in the previous notebook, we highly recommend you watch the lecture by Luke Blaxill for an introduction to the concepts and terminology used in this lecture."
   ]
  },
  {
   "cell_type": "markdown",
   "metadata": {},
   "source": [
    "## Understanding relations between variables: Lifespan and Wealth in late Victorian London"
   ]
  },
  {
   "cell_type": "markdown",
   "metadata": {},
   "source": [
    "We continue with the data used previously but change the research question and analyse the relationship between wealth and lifespan. Concretely, we will asess if the wealthier districts causes a higher ratio of older people. We don't have information on the possession or income for each individual but we have access to the rateable value per capita for each borough in London, which serves as a proxy for the average prosperity of place. We will abbreviate this variable as `rvc` in what follows. \n",
    "\n",
    "When it comes to lifespan we use the same synthetic census data as in notebook ten. We don't have information on how long people live, but we can establish the ratio of 'old' people, for example, those aged over 50. \n",
    "\n",
    "Notice how both variables (wealth and lifespan) are proxies for concepts we can not measure directly. In many ways, this makes this case study highly problematic (but therefore morer useful from a didactic perspective). However, working with imperfect proxies is often the only option and being creative with your data is a necessity. In the social sciences, the operationalisation of your research is called [construct validity](https://en.wikipedia.org/wiki/Construct_validity): as we project meaning onto our data we should be critical of our semantics.\n",
    "\n"
   ]
  },
  {
   "cell_type": "markdown",
   "metadata": {},
   "source": [
    "Let's turn to our code. The first step is to load the required tools we need later on in this notebook."
   ]
  },
  {
   "cell_type": "code",
   "execution_count": 19,
   "metadata": {},
   "outputs": [],
   "source": [
    "import pandas as pd\n",
    "import numpy as np\n",
    "import seaborn as sns\n",
    "import statsmodels.api as sm\n",
    "import statsmodels.formula.api as smf\n",
    "import scipy\n",
    "import matplotlib.pyplot as plt\n",
    "sns.set()"
   ]
  },
  {
   "cell_type": "markdown",
   "metadata": {},
   "source": [
    "Before turning to the actual regression analysis, we need to discuss the data wrangling. We will cover a few steps that you will often encounter when preparing your data for analysis."
   ]
  },
  {
   "cell_type": "markdown",
   "metadata": {},
   "source": [
    "We create a new dataframe that records the ratio of people over 50 for each district. \n",
    "\n",
    "Why? We don't know how long Londoners live on average. Here we reason that districts where people have a higher probability of getting \"old\" (beyond 50) they tend to live longer. For \"old\", we computed the ratio of residents over 50 years (twice the median) but we could have chosen other thresholds. We encourage you to do this and assess the extent to which the results will change."
   ]
  },
  {
   "cell_type": "code",
   "execution_count": 304,
   "metadata": {},
   "outputs": [
    {
     "name": "stdout",
     "output_type": "stream",
     "text": [
      "EW01_london_sample.csv    EW01_selected.csv         rateable_value.csv\r\n",
      "EW01_london_subsample.csv EW01_selected_sample.csv\r\n"
     ]
    }
   ],
   "source": [
    "!ls data/icem/"
   ]
  },
  {
   "cell_type": "code",
   "execution_count": 417,
   "metadata": {},
   "outputs": [
    {
     "data": {
      "text/html": [
       "<div>\n",
       "<style scoped>\n",
       "    .dataframe tbody tr th:only-of-type {\n",
       "        vertical-align: middle;\n",
       "    }\n",
       "\n",
       "    .dataframe tbody tr th {\n",
       "        vertical-align: top;\n",
       "    }\n",
       "\n",
       "    .dataframe thead th {\n",
       "        text-align: right;\n",
       "    }\n",
       "</style>\n",
       "<table border=\"1\" class=\"dataframe\">\n",
       "  <thead>\n",
       "    <tr style=\"text-align: right;\">\n",
       "      <th></th>\n",
       "      <th>RegDist</th>\n",
       "      <th>SubDist</th>\n",
       "      <th>Sex</th>\n",
       "      <th>Age</th>\n",
       "    </tr>\n",
       "  </thead>\n",
       "  <tbody>\n",
       "    <tr>\n",
       "      <th>2402205</th>\n",
       "      <td>St George In The East</td>\n",
       "      <td>St George North</td>\n",
       "      <td>M</td>\n",
       "      <td>42</td>\n",
       "    </tr>\n",
       "    <tr>\n",
       "      <th>3065353</th>\n",
       "      <td>St Olave Southwark</td>\n",
       "      <td>Bermondsey</td>\n",
       "      <td>F</td>\n",
       "      <td>56</td>\n",
       "    </tr>\n",
       "    <tr>\n",
       "      <th>2972022</th>\n",
       "      <td>Southwark</td>\n",
       "      <td>St Mary Newington</td>\n",
       "      <td>F</td>\n",
       "      <td>44</td>\n",
       "    </tr>\n",
       "    <tr>\n",
       "      <th>2121692</th>\n",
       "      <td>Shoreditch</td>\n",
       "      <td>Hoxton Old Town</td>\n",
       "      <td>M</td>\n",
       "      <td>40</td>\n",
       "    </tr>\n",
       "    <tr>\n",
       "      <th>2225893</th>\n",
       "      <td>Bethnal Green</td>\n",
       "      <td>Bethnal Green North</td>\n",
       "      <td>F</td>\n",
       "      <td>5</td>\n",
       "    </tr>\n",
       "  </tbody>\n",
       "</table>\n",
       "</div>"
      ],
      "text/plain": [
       "                       RegDist              SubDist Sex  Age\n",
       "2402205  St George In The East      St George North   M   42\n",
       "3065353     St Olave Southwark           Bermondsey   F   56\n",
       "2972022              Southwark    St Mary Newington   F   44\n",
       "2121692             Shoreditch      Hoxton Old Town   M   40\n",
       "2225893          Bethnal Green  Bethnal Green North   F    5"
      ]
     },
     "execution_count": 417,
     "metadata": {},
     "output_type": "execute_result"
    }
   ],
   "source": [
    "df = pd.read_csv('data/icem/EW01_london_subsample_2.csv',index_col=0)\n",
    "df.head()"
   ]
  },
  {
   "cell_type": "code",
   "execution_count": 418,
   "metadata": {},
   "outputs": [
    {
     "data": {
      "text/plain": [
       "(27.74792555804773, 25.0)"
      ]
     },
     "execution_count": 418,
     "metadata": {},
     "output_type": "execute_result"
    }
   ],
   "source": [
    "df.Age.mean(), df.Age.median()"
   ]
  },
  {
   "cell_type": "code",
   "execution_count": 419,
   "metadata": {},
   "outputs": [],
   "source": [
    "#age_by_dist = df.groupby(['RegDist']).agg({'Age':'mean','Sex':'count'})"
   ]
  },
  {
   "cell_type": "code",
   "execution_count": 514,
   "metadata": {},
   "outputs": [],
   "source": [
    "age_by_dist = df.groupby(['RegDist','SubDist']).agg({'Age':lambda x: round(np.mean(x > 50) *100,1),'Sex':'count'}).reset_index()"
   ]
  },
  {
   "cell_type": "code",
   "execution_count": 515,
   "metadata": {},
   "outputs": [
    {
     "data": {
      "text/html": [
       "<div>\n",
       "<style scoped>\n",
       "    .dataframe tbody tr th:only-of-type {\n",
       "        vertical-align: middle;\n",
       "    }\n",
       "\n",
       "    .dataframe tbody tr th {\n",
       "        vertical-align: top;\n",
       "    }\n",
       "\n",
       "    .dataframe thead th {\n",
       "        text-align: right;\n",
       "    }\n",
       "</style>\n",
       "<table border=\"1\" class=\"dataframe\">\n",
       "  <thead>\n",
       "    <tr style=\"text-align: right;\">\n",
       "      <th></th>\n",
       "      <th>RegDist</th>\n",
       "      <th>SubDist</th>\n",
       "      <th>Age</th>\n",
       "      <th>Sex</th>\n",
       "    </tr>\n",
       "  </thead>\n",
       "  <tbody>\n",
       "    <tr>\n",
       "      <th>0</th>\n",
       "      <td>Bethnal Green</td>\n",
       "      <td>Bethnal Green East</td>\n",
       "      <td>13.7</td>\n",
       "      <td>10826</td>\n",
       "    </tr>\n",
       "    <tr>\n",
       "      <th>1</th>\n",
       "      <td>Bethnal Green</td>\n",
       "      <td>Bethnal Green North</td>\n",
       "      <td>10.6</td>\n",
       "      <td>12570</td>\n",
       "    </tr>\n",
       "    <tr>\n",
       "      <th>2</th>\n",
       "      <td>Bethnal Green</td>\n",
       "      <td>Bethnal Green South</td>\n",
       "      <td>9.6</td>\n",
       "      <td>8121</td>\n",
       "    </tr>\n",
       "    <tr>\n",
       "      <th>3</th>\n",
       "      <td>Camberwell</td>\n",
       "      <td>Camberwell</td>\n",
       "      <td>14.7</td>\n",
       "      <td>22260</td>\n",
       "    </tr>\n",
       "    <tr>\n",
       "      <th>4</th>\n",
       "      <td>Camberwell</td>\n",
       "      <td>Dulwich</td>\n",
       "      <td>14.5</td>\n",
       "      <td>2491</td>\n",
       "    </tr>\n",
       "    <tr>\n",
       "      <th>...</th>\n",
       "      <td>...</td>\n",
       "      <td>...</td>\n",
       "      <td>...</td>\n",
       "      <td>...</td>\n",
       "    </tr>\n",
       "    <tr>\n",
       "      <th>109</th>\n",
       "      <td>Whitechapel</td>\n",
       "      <td>Spitalfields</td>\n",
       "      <td>9.4</td>\n",
       "      <td>6659</td>\n",
       "    </tr>\n",
       "    <tr>\n",
       "      <th>110</th>\n",
       "      <td>Woolwich</td>\n",
       "      <td>Charlton</td>\n",
       "      <td>11.9</td>\n",
       "      <td>5220</td>\n",
       "    </tr>\n",
       "    <tr>\n",
       "      <th>111</th>\n",
       "      <td>Woolwich</td>\n",
       "      <td>Plumstead East</td>\n",
       "      <td>10.7</td>\n",
       "      <td>12100</td>\n",
       "    </tr>\n",
       "    <tr>\n",
       "      <th>112</th>\n",
       "      <td>Woolwich</td>\n",
       "      <td>Plumstead West</td>\n",
       "      <td>13.9</td>\n",
       "      <td>4444</td>\n",
       "    </tr>\n",
       "    <tr>\n",
       "      <th>113</th>\n",
       "      <td>Woolwich</td>\n",
       "      <td>Woolwich</td>\n",
       "      <td>11.1</td>\n",
       "      <td>10062</td>\n",
       "    </tr>\n",
       "  </tbody>\n",
       "</table>\n",
       "<p>114 rows × 4 columns</p>\n",
       "</div>"
      ],
      "text/plain": [
       "           RegDist              SubDist   Age    Sex\n",
       "0    Bethnal Green   Bethnal Green East  13.7  10826\n",
       "1    Bethnal Green  Bethnal Green North  10.6  12570\n",
       "2    Bethnal Green  Bethnal Green South   9.6   8121\n",
       "3       Camberwell           Camberwell  14.7  22260\n",
       "4       Camberwell              Dulwich  14.5   2491\n",
       "..             ...                  ...   ...    ...\n",
       "109    Whitechapel         Spitalfields   9.4   6659\n",
       "110       Woolwich             Charlton  11.9   5220\n",
       "111       Woolwich       Plumstead East  10.7  12100\n",
       "112       Woolwich       Plumstead West  13.9   4444\n",
       "113       Woolwich             Woolwich  11.1  10062\n",
       "\n",
       "[114 rows x 4 columns]"
      ]
     },
     "execution_count": 515,
     "metadata": {},
     "output_type": "execute_result"
    }
   ],
   "source": [
    "age_by_dist"
   ]
  },
  {
   "cell_type": "markdown",
   "metadata": {},
   "source": [
    "To understand the relationship between average wealth and lifespan we need to add additional information to our dataframe. \n",
    "\n",
    "The dataframe below capture the rateable value per capita in each London borough (these data are synthetic but follow the pattern of  \"real\" values collected for 1922)."
   ]
  },
  {
   "cell_type": "code",
   "execution_count": 516,
   "metadata": {},
   "outputs": [
    {
     "data": {
      "text/html": [
       "<div>\n",
       "<style scoped>\n",
       "    .dataframe tbody tr th:only-of-type {\n",
       "        vertical-align: middle;\n",
       "    }\n",
       "\n",
       "    .dataframe tbody tr th {\n",
       "        vertical-align: top;\n",
       "    }\n",
       "\n",
       "    .dataframe thead th {\n",
       "        text-align: right;\n",
       "    }\n",
       "</style>\n",
       "<table border=\"1\" class=\"dataframe\">\n",
       "  <thead>\n",
       "    <tr style=\"text-align: right;\">\n",
       "      <th></th>\n",
       "      <th>borough</th>\n",
       "      <th>rateable_value_pc</th>\n",
       "    </tr>\n",
       "  </thead>\n",
       "  <tbody>\n",
       "    <tr>\n",
       "      <th>0</th>\n",
       "      <td>Battersea</td>\n",
       "      <td>6.1</td>\n",
       "    </tr>\n",
       "    <tr>\n",
       "      <th>1</th>\n",
       "      <td>Bermondsey</td>\n",
       "      <td>8.5</td>\n",
       "    </tr>\n",
       "    <tr>\n",
       "      <th>2</th>\n",
       "      <td>Bethnal Green</td>\n",
       "      <td>4.9</td>\n",
       "    </tr>\n",
       "    <tr>\n",
       "      <th>3</th>\n",
       "      <td>Camberwell</td>\n",
       "      <td>5.2</td>\n",
       "    </tr>\n",
       "    <tr>\n",
       "      <th>4</th>\n",
       "      <td>Chelsea</td>\n",
       "      <td>14.7</td>\n",
       "    </tr>\n",
       "  </tbody>\n",
       "</table>\n",
       "</div>"
      ],
      "text/plain": [
       "         borough  rateable_value_pc\n",
       "0      Battersea                6.1\n",
       "1     Bermondsey                8.5\n",
       "2  Bethnal Green                4.9\n",
       "3     Camberwell                5.2\n",
       "4        Chelsea               14.7"
      ]
     },
     "execution_count": 516,
     "metadata": {},
     "output_type": "execute_result"
    }
   ],
   "source": [
    "rvc = pd.read_csv('./data/icem/rateable_value.csv',index_col=0)\n",
    "rvc.head()"
   ]
  },
  {
   "cell_type": "markdown",
   "metadata": {},
   "source": [
    "We want to merge the data frames, but first, we should check to what extent this is possible, both practically and theoretically.\n",
    "\n",
    "Our first question is: What variables occur in both datasets? Which ones can we use to combine information from different sources?\n",
    "\n",
    "For our data, both data frames have information about place. The census lists registration districts while the rateable value is organised by the borough.\n",
    "\n",
    "This leads to a second question: To what extent are the districts that appear in the census the same as the boroughs in the data on rateable value per capita?"
   ]
  },
  {
   "cell_type": "markdown",
   "metadata": {},
   "source": [
    "First we want check which place names appear in both datasets. We create a Python `set`, a list of unique values, for the place names in both dataframes.\n"
   ]
  },
  {
   "cell_type": "code",
   "execution_count": 517,
   "metadata": {},
   "outputs": [
    {
     "name": "stdout",
     "output_type": "stream",
     "text": [
      "{'Hampstead', 'St Giles', 'Fulham', 'Kensington', 'Pancras', 'Holborn', 'Poplar', 'London City', 'Islington', 'St George Hanover Square', 'Lewisham', 'Wandsworth', 'St Olave Southwark', 'Hackney', 'Greenwich', 'St George In The East', 'Woolwich', 'Bethnal Green', 'Marylebone', 'Chelsea', 'Westminster', 'Whitechapel', 'Southwark', 'Strand', 'Paddington', 'Lambeth', 'Shoreditch', 'Mile End Old Town', 'Stepney', 'Camberwell'}\n"
     ]
    }
   ],
   "source": [
    "d1_pl = set(df['RegDist'])\n",
    "print(d1_pl)"
   ]
  },
  {
   "cell_type": "code",
   "execution_count": 518,
   "metadata": {},
   "outputs": [
    {
     "name": "stdout",
     "output_type": "stream",
     "text": [
      "{'Battersea', 'Hampstead', 'Fulham', 'Kensington', 'Holborn', 'Pancras', 'Poplar', 'Islington', 'Lewisham', 'Wandsworth', 'Finsbury', 'Bermondsey', 'Hackney', 'Hammersmith', 'Greenwich', 'Woolwich', 'Bethnal Green', 'Stepney', 'Marylebone', 'Chelsea', 'Stoke Newington', 'Westminster', 'Southwark', 'Paddington', 'Lambeth', 'Shoreditch', 'Deptford', 'Camberwell'}\n"
     ]
    }
   ],
   "source": [
    "d2_pl = set(rvc['borough'])\n",
    "print(d2_pl)"
   ]
  },
  {
   "cell_type": "markdown",
   "metadata": {},
   "source": [
    "We then compute the intersection of these two sets, i.e. the names that appear in both dataframes.\n",
    "\n",
    "The syntax is `set1.intersection(set2)`. We basically apply the `.intersection()` to a set and pass another set as argument."
   ]
  },
  {
   "cell_type": "code",
   "execution_count": 519,
   "metadata": {},
   "outputs": [
    {
     "name": "stdout",
     "output_type": "stream",
     "text": [
      "{'Hampstead', 'Fulham', 'Kensington', 'Holborn', 'Pancras', 'Poplar', 'Islington', 'Lewisham', 'Wandsworth', 'Hackney', 'Greenwich', 'Woolwich', 'Bethnal Green', 'Marylebone', 'Chelsea', 'Westminster', 'Southwark', 'Paddington', 'Lambeth', 'Shoreditch', 'Stepney', 'Camberwell'}\n"
     ]
    }
   ],
   "source": [
    "print(d1_pl.intersection(d2_pl)) # place names that appear in both dataframes"
   ]
  },
  {
   "cell_type": "code",
   "execution_count": 520,
   "metadata": {},
   "outputs": [
    {
     "data": {
      "text/plain": [
       "{'London City',\n",
       " 'Mile End Old Town',\n",
       " 'St George Hanover Square',\n",
       " 'St George In The East',\n",
       " 'St Giles',\n",
       " 'St Olave Southwark',\n",
       " 'Strand',\n",
       " 'Whitechapel'}"
      ]
     },
     "execution_count": 520,
     "metadata": {},
     "output_type": "execute_result"
    }
   ],
   "source": [
    "d1_pl - d2_pl # place names that appear in df and not rvc"
   ]
  },
  {
   "cell_type": "code",
   "execution_count": 521,
   "metadata": {},
   "outputs": [
    {
     "data": {
      "text/plain": [
       "{'Battersea',\n",
       " 'Bermondsey',\n",
       " 'Deptford',\n",
       " 'Finsbury',\n",
       " 'Hammersmith',\n",
       " 'Stoke Newington'}"
      ]
     },
     "execution_count": 521,
     "metadata": {},
     "output_type": "execute_result"
    }
   ],
   "source": [
    "d2_pl - d1_pl # place names that appear in rvc and not in df"
   ]
  },
  {
   "cell_type": "markdown",
   "metadata": {},
   "source": [
    "We can merge these two data frame based on the place names. However, be careful: it is not because the strings match that they mean the same thing!\n",
    "\n",
    "Don't worry about the syntax we will explain it in more detail below."
   ]
  },
  {
   "cell_type": "code",
   "execution_count": 522,
   "metadata": {},
   "outputs": [
    {
     "data": {
      "text/html": [
       "<div>\n",
       "<style scoped>\n",
       "    .dataframe tbody tr th:only-of-type {\n",
       "        vertical-align: middle;\n",
       "    }\n",
       "\n",
       "    .dataframe tbody tr th {\n",
       "        vertical-align: top;\n",
       "    }\n",
       "\n",
       "    .dataframe thead th {\n",
       "        text-align: right;\n",
       "    }\n",
       "</style>\n",
       "<table border=\"1\" class=\"dataframe\">\n",
       "  <thead>\n",
       "    <tr style=\"text-align: right;\">\n",
       "      <th></th>\n",
       "      <th>RegDist</th>\n",
       "      <th>SubDist</th>\n",
       "      <th>Age</th>\n",
       "      <th>Sex</th>\n",
       "      <th>borough</th>\n",
       "      <th>rateable_value_pc</th>\n",
       "    </tr>\n",
       "  </thead>\n",
       "  <tbody>\n",
       "    <tr>\n",
       "      <th>0</th>\n",
       "      <td>Bethnal Green</td>\n",
       "      <td>Bethnal Green East</td>\n",
       "      <td>13.7</td>\n",
       "      <td>10826</td>\n",
       "      <td>Bethnal Green</td>\n",
       "      <td>4.9</td>\n",
       "    </tr>\n",
       "    <tr>\n",
       "      <th>1</th>\n",
       "      <td>Bethnal Green</td>\n",
       "      <td>Bethnal Green North</td>\n",
       "      <td>10.6</td>\n",
       "      <td>12570</td>\n",
       "      <td>Bethnal Green</td>\n",
       "      <td>4.9</td>\n",
       "    </tr>\n",
       "    <tr>\n",
       "      <th>2</th>\n",
       "      <td>Bethnal Green</td>\n",
       "      <td>Bethnal Green South</td>\n",
       "      <td>9.6</td>\n",
       "      <td>8121</td>\n",
       "      <td>Bethnal Green</td>\n",
       "      <td>4.9</td>\n",
       "    </tr>\n",
       "    <tr>\n",
       "      <th>3</th>\n",
       "      <td>Camberwell</td>\n",
       "      <td>Camberwell</td>\n",
       "      <td>14.7</td>\n",
       "      <td>22260</td>\n",
       "      <td>Camberwell</td>\n",
       "      <td>5.2</td>\n",
       "    </tr>\n",
       "    <tr>\n",
       "      <th>4</th>\n",
       "      <td>Camberwell</td>\n",
       "      <td>Dulwich</td>\n",
       "      <td>14.5</td>\n",
       "      <td>2491</td>\n",
       "      <td>Camberwell</td>\n",
       "      <td>5.2</td>\n",
       "    </tr>\n",
       "    <tr>\n",
       "      <th>...</th>\n",
       "      <td>...</td>\n",
       "      <td>...</td>\n",
       "      <td>...</td>\n",
       "      <td>...</td>\n",
       "      <td>...</td>\n",
       "      <td>...</td>\n",
       "    </tr>\n",
       "    <tr>\n",
       "      <th>89</th>\n",
       "      <td>Westminster</td>\n",
       "      <td>St James Westminster</td>\n",
       "      <td>14.1</td>\n",
       "      <td>5317</td>\n",
       "      <td>Westminster</td>\n",
       "      <td>57.2</td>\n",
       "    </tr>\n",
       "    <tr>\n",
       "      <th>90</th>\n",
       "      <td>Woolwich</td>\n",
       "      <td>Charlton</td>\n",
       "      <td>11.9</td>\n",
       "      <td>5220</td>\n",
       "      <td>Woolwich</td>\n",
       "      <td>6.6</td>\n",
       "    </tr>\n",
       "    <tr>\n",
       "      <th>91</th>\n",
       "      <td>Woolwich</td>\n",
       "      <td>Plumstead East</td>\n",
       "      <td>10.7</td>\n",
       "      <td>12100</td>\n",
       "      <td>Woolwich</td>\n",
       "      <td>6.6</td>\n",
       "    </tr>\n",
       "    <tr>\n",
       "      <th>92</th>\n",
       "      <td>Woolwich</td>\n",
       "      <td>Plumstead West</td>\n",
       "      <td>13.9</td>\n",
       "      <td>4444</td>\n",
       "      <td>Woolwich</td>\n",
       "      <td>6.6</td>\n",
       "    </tr>\n",
       "    <tr>\n",
       "      <th>93</th>\n",
       "      <td>Woolwich</td>\n",
       "      <td>Woolwich</td>\n",
       "      <td>11.1</td>\n",
       "      <td>10062</td>\n",
       "      <td>Woolwich</td>\n",
       "      <td>6.6</td>\n",
       "    </tr>\n",
       "  </tbody>\n",
       "</table>\n",
       "<p>94 rows × 6 columns</p>\n",
       "</div>"
      ],
      "text/plain": [
       "          RegDist               SubDist   Age    Sex        borough  \\\n",
       "0   Bethnal Green    Bethnal Green East  13.7  10826  Bethnal Green   \n",
       "1   Bethnal Green   Bethnal Green North  10.6  12570  Bethnal Green   \n",
       "2   Bethnal Green   Bethnal Green South   9.6   8121  Bethnal Green   \n",
       "3      Camberwell            Camberwell  14.7  22260     Camberwell   \n",
       "4      Camberwell               Dulwich  14.5   2491     Camberwell   \n",
       "..            ...                   ...   ...    ...            ...   \n",
       "89    Westminster  St James Westminster  14.1   5317    Westminster   \n",
       "90       Woolwich              Charlton  11.9   5220       Woolwich   \n",
       "91       Woolwich        Plumstead East  10.7  12100       Woolwich   \n",
       "92       Woolwich        Plumstead West  13.9   4444       Woolwich   \n",
       "93       Woolwich              Woolwich  11.1  10062       Woolwich   \n",
       "\n",
       "    rateable_value_pc  \n",
       "0                 4.9  \n",
       "1                 4.9  \n",
       "2                 4.9  \n",
       "3                 5.2  \n",
       "4                 5.2  \n",
       "..                ...  \n",
       "89               57.2  \n",
       "90                6.6  \n",
       "91                6.6  \n",
       "92                6.6  \n",
       "93                6.6  \n",
       "\n",
       "[94 rows x 6 columns]"
      ]
     },
     "execution_count": 522,
     "metadata": {},
     "output_type": "execute_result"
    }
   ],
   "source": [
    "data_merged = age_by_dist.merge(rv,left_on='RegDist',right_on='borough')\n",
    "data_merged"
   ]
  },
  {
   "cell_type": "markdown",
   "metadata": {},
   "source": [
    "`.merge()` is an extremely useful method combining data frames. It requires us to specify which variable (or column) is shared across data frames and can be used for merging tables. \n",
    "\n",
    "\n",
    "In this `.merge()` operation, we combined information from `rvc` with `age_by_dist`. \n",
    "\n",
    "As we have shown before, both data frames contain a column with similar values, namely, place names in London. \n",
    "\n",
    "We use these values to combine the data frames, i.e. rows that have the value `Bethnal Green` in the `age_by_dist` data frames will be joined by the information we have for 'Bethnal Green' in `rvc`\n",
    "\n",
    "Please notice: the names of the columns can be different but the values in the columns have to overlap.\n",
    "\n",
    "Below we show a toy example slight adapted from very thorough Pandas [documentation](https://pandas.pydata.org/docs/reference/api/pandas.merge.html).\n",
    "\n",
    "Imagine that I recorded the number of cats and dogs I spotted each day, but kept this information in two separate data frames."
   ]
  },
  {
   "cell_type": "code",
   "execution_count": 523,
   "metadata": {},
   "outputs": [],
   "source": [
    "df1 = pd.DataFrame({'day': ['mon', 'tue', 'wed', 'thu'],\n",
    "                    'cats': [1, 2, 3, 5]})\n",
    "df2 = pd.DataFrame({'dayz': ['mon', 'tue', 'wed', 'thu'],\n",
    "                    'dogs': [5, 6, 7, 8]})"
   ]
  },
  {
   "cell_type": "code",
   "execution_count": 524,
   "metadata": {},
   "outputs": [
    {
     "data": {
      "text/html": [
       "<div>\n",
       "<style scoped>\n",
       "    .dataframe tbody tr th:only-of-type {\n",
       "        vertical-align: middle;\n",
       "    }\n",
       "\n",
       "    .dataframe tbody tr th {\n",
       "        vertical-align: top;\n",
       "    }\n",
       "\n",
       "    .dataframe thead th {\n",
       "        text-align: right;\n",
       "    }\n",
       "</style>\n",
       "<table border=\"1\" class=\"dataframe\">\n",
       "  <thead>\n",
       "    <tr style=\"text-align: right;\">\n",
       "      <th></th>\n",
       "      <th>day</th>\n",
       "      <th>cats</th>\n",
       "    </tr>\n",
       "  </thead>\n",
       "  <tbody>\n",
       "    <tr>\n",
       "      <th>0</th>\n",
       "      <td>mon</td>\n",
       "      <td>1</td>\n",
       "    </tr>\n",
       "    <tr>\n",
       "      <th>1</th>\n",
       "      <td>tue</td>\n",
       "      <td>2</td>\n",
       "    </tr>\n",
       "    <tr>\n",
       "      <th>2</th>\n",
       "      <td>wed</td>\n",
       "      <td>3</td>\n",
       "    </tr>\n",
       "    <tr>\n",
       "      <th>3</th>\n",
       "      <td>thu</td>\n",
       "      <td>5</td>\n",
       "    </tr>\n",
       "  </tbody>\n",
       "</table>\n",
       "</div>"
      ],
      "text/plain": [
       "   day  cats\n",
       "0  mon     1\n",
       "1  tue     2\n",
       "2  wed     3\n",
       "3  thu     5"
      ]
     },
     "execution_count": 524,
     "metadata": {},
     "output_type": "execute_result"
    }
   ],
   "source": [
    "df1"
   ]
  },
  {
   "cell_type": "code",
   "execution_count": 525,
   "metadata": {},
   "outputs": [
    {
     "data": {
      "text/html": [
       "<div>\n",
       "<style scoped>\n",
       "    .dataframe tbody tr th:only-of-type {\n",
       "        vertical-align: middle;\n",
       "    }\n",
       "\n",
       "    .dataframe tbody tr th {\n",
       "        vertical-align: top;\n",
       "    }\n",
       "\n",
       "    .dataframe thead th {\n",
       "        text-align: right;\n",
       "    }\n",
       "</style>\n",
       "<table border=\"1\" class=\"dataframe\">\n",
       "  <thead>\n",
       "    <tr style=\"text-align: right;\">\n",
       "      <th></th>\n",
       "      <th>dayz</th>\n",
       "      <th>dogs</th>\n",
       "    </tr>\n",
       "  </thead>\n",
       "  <tbody>\n",
       "    <tr>\n",
       "      <th>0</th>\n",
       "      <td>mon</td>\n",
       "      <td>5</td>\n",
       "    </tr>\n",
       "    <tr>\n",
       "      <th>1</th>\n",
       "      <td>tue</td>\n",
       "      <td>6</td>\n",
       "    </tr>\n",
       "    <tr>\n",
       "      <th>2</th>\n",
       "      <td>wed</td>\n",
       "      <td>7</td>\n",
       "    </tr>\n",
       "    <tr>\n",
       "      <th>3</th>\n",
       "      <td>thu</td>\n",
       "      <td>8</td>\n",
       "    </tr>\n",
       "  </tbody>\n",
       "</table>\n",
       "</div>"
      ],
      "text/plain": [
       "  dayz  dogs\n",
       "0  mon     5\n",
       "1  tue     6\n",
       "2  wed     7\n",
       "3  thu     8"
      ]
     },
     "execution_count": 525,
     "metadata": {},
     "output_type": "execute_result"
    }
   ],
   "source": [
    "df2"
   ]
  },
  {
   "cell_type": "markdown",
   "metadata": {},
   "source": [
    "Both tables have a column that records that day of the week, even though the column name is slightly differentz. We can combine these data frames into one using `left_df.merge(right_df)`. The method is applied to a dataframe at the left-hand side (before the dot) and one at the right-hand side (passed as an argument to the method).\n",
    "\n",
    "To merge properly, we have to instruct Pandas precisely which columns we want to use for combining information. `left_on` (`right_on`) indicates the column name we use in the dataframe at the left-hand (right-hand) side of the `.merge()` method. "
   ]
  },
  {
   "cell_type": "code",
   "execution_count": 526,
   "metadata": {},
   "outputs": [
    {
     "data": {
      "text/html": [
       "<div>\n",
       "<style scoped>\n",
       "    .dataframe tbody tr th:only-of-type {\n",
       "        vertical-align: middle;\n",
       "    }\n",
       "\n",
       "    .dataframe tbody tr th {\n",
       "        vertical-align: top;\n",
       "    }\n",
       "\n",
       "    .dataframe thead th {\n",
       "        text-align: right;\n",
       "    }\n",
       "</style>\n",
       "<table border=\"1\" class=\"dataframe\">\n",
       "  <thead>\n",
       "    <tr style=\"text-align: right;\">\n",
       "      <th></th>\n",
       "      <th>day</th>\n",
       "      <th>cats</th>\n",
       "      <th>dayz</th>\n",
       "      <th>dogs</th>\n",
       "    </tr>\n",
       "  </thead>\n",
       "  <tbody>\n",
       "    <tr>\n",
       "      <th>0</th>\n",
       "      <td>mon</td>\n",
       "      <td>1</td>\n",
       "      <td>mon</td>\n",
       "      <td>5</td>\n",
       "    </tr>\n",
       "    <tr>\n",
       "      <th>1</th>\n",
       "      <td>tue</td>\n",
       "      <td>2</td>\n",
       "      <td>tue</td>\n",
       "      <td>6</td>\n",
       "    </tr>\n",
       "    <tr>\n",
       "      <th>2</th>\n",
       "      <td>wed</td>\n",
       "      <td>3</td>\n",
       "      <td>wed</td>\n",
       "      <td>7</td>\n",
       "    </tr>\n",
       "    <tr>\n",
       "      <th>3</th>\n",
       "      <td>thu</td>\n",
       "      <td>5</td>\n",
       "      <td>thu</td>\n",
       "      <td>8</td>\n",
       "    </tr>\n",
       "  </tbody>\n",
       "</table>\n",
       "</div>"
      ],
      "text/plain": [
       "   day  cats dayz  dogs\n",
       "0  mon     1  mon     5\n",
       "1  tue     2  tue     6\n",
       "2  wed     3  wed     7\n",
       "3  thu     5  thu     8"
      ]
     },
     "execution_count": 526,
     "metadata": {},
     "output_type": "execute_result"
    }
   ],
   "source": [
    "df1.merge(df2, left_on='day', right_on='dayz')"
   ]
  },
  {
   "cell_type": "markdown",
   "metadata": {},
   "source": [
    "Sometimes we want `.merge()` using the index of a data frame instead of a column. In this case, we select the argument `left_index` (or `right_index`) and which takes a boolean value (`True` or `False`).\n",
    "\n",
    "The `.merge()` operation should be more understandable at this point: we merge `age_by_dist` (left) with `rvc`. For the left data frame we use the index (`left_index=True`), for the right the `'borough'` column  (`right_on='borough'`)."
   ]
  },
  {
   "cell_type": "code",
   "execution_count": 527,
   "metadata": {},
   "outputs": [
    {
     "data": {
      "text/html": [
       "<div>\n",
       "<style scoped>\n",
       "    .dataframe tbody tr th:only-of-type {\n",
       "        vertical-align: middle;\n",
       "    }\n",
       "\n",
       "    .dataframe tbody tr th {\n",
       "        vertical-align: top;\n",
       "    }\n",
       "\n",
       "    .dataframe thead th {\n",
       "        text-align: right;\n",
       "    }\n",
       "</style>\n",
       "<table border=\"1\" class=\"dataframe\">\n",
       "  <thead>\n",
       "    <tr style=\"text-align: right;\">\n",
       "      <th></th>\n",
       "      <th>RegDist</th>\n",
       "      <th>SubDist</th>\n",
       "      <th>Age</th>\n",
       "      <th>Sex</th>\n",
       "      <th>borough</th>\n",
       "      <th>rateable_value_pc</th>\n",
       "    </tr>\n",
       "  </thead>\n",
       "  <tbody>\n",
       "    <tr>\n",
       "      <th>0</th>\n",
       "      <td>Bethnal Green</td>\n",
       "      <td>Bethnal Green East</td>\n",
       "      <td>13.7</td>\n",
       "      <td>10826</td>\n",
       "      <td>Bethnal Green</td>\n",
       "      <td>4.9</td>\n",
       "    </tr>\n",
       "    <tr>\n",
       "      <th>1</th>\n",
       "      <td>Bethnal Green</td>\n",
       "      <td>Bethnal Green North</td>\n",
       "      <td>10.6</td>\n",
       "      <td>12570</td>\n",
       "      <td>Bethnal Green</td>\n",
       "      <td>4.9</td>\n",
       "    </tr>\n",
       "    <tr>\n",
       "      <th>2</th>\n",
       "      <td>Bethnal Green</td>\n",
       "      <td>Bethnal Green South</td>\n",
       "      <td>9.6</td>\n",
       "      <td>8121</td>\n",
       "      <td>Bethnal Green</td>\n",
       "      <td>4.9</td>\n",
       "    </tr>\n",
       "    <tr>\n",
       "      <th>3</th>\n",
       "      <td>Camberwell</td>\n",
       "      <td>Camberwell</td>\n",
       "      <td>14.7</td>\n",
       "      <td>22260</td>\n",
       "      <td>Camberwell</td>\n",
       "      <td>5.2</td>\n",
       "    </tr>\n",
       "    <tr>\n",
       "      <th>4</th>\n",
       "      <td>Camberwell</td>\n",
       "      <td>Dulwich</td>\n",
       "      <td>14.5</td>\n",
       "      <td>2491</td>\n",
       "      <td>Camberwell</td>\n",
       "      <td>5.2</td>\n",
       "    </tr>\n",
       "  </tbody>\n",
       "</table>\n",
       "</div>"
      ],
      "text/plain": [
       "         RegDist              SubDist   Age    Sex        borough  \\\n",
       "0  Bethnal Green   Bethnal Green East  13.7  10826  Bethnal Green   \n",
       "1  Bethnal Green  Bethnal Green North  10.6  12570  Bethnal Green   \n",
       "2  Bethnal Green  Bethnal Green South   9.6   8121  Bethnal Green   \n",
       "3     Camberwell           Camberwell  14.7  22260     Camberwell   \n",
       "4     Camberwell              Dulwich  14.5   2491     Camberwell   \n",
       "\n",
       "   rateable_value_pc  \n",
       "0                4.9  \n",
       "1                4.9  \n",
       "2                4.9  \n",
       "3                5.2  \n",
       "4                5.2  "
      ]
     },
     "execution_count": 527,
     "metadata": {},
     "output_type": "execute_result"
    }
   ],
   "source": [
    "data_merged = age_by_dist.merge(rv,left_on='RegDist',right_on='borough')\n",
    "data_merged.head()"
   ]
  },
  {
   "cell_type": "code",
   "execution_count": 528,
   "metadata": {},
   "outputs": [
    {
     "data": {
      "text/html": [
       "<div>\n",
       "<style scoped>\n",
       "    .dataframe tbody tr th:only-of-type {\n",
       "        vertical-align: middle;\n",
       "    }\n",
       "\n",
       "    .dataframe tbody tr th {\n",
       "        vertical-align: top;\n",
       "    }\n",
       "\n",
       "    .dataframe thead th {\n",
       "        text-align: right;\n",
       "    }\n",
       "</style>\n",
       "<table border=\"1\" class=\"dataframe\">\n",
       "  <thead>\n",
       "    <tr style=\"text-align: right;\">\n",
       "      <th></th>\n",
       "      <th>SubDist</th>\n",
       "      <th>Age</th>\n",
       "      <th>Sex</th>\n",
       "      <th>borough</th>\n",
       "      <th>rateable_value_pc</th>\n",
       "    </tr>\n",
       "  </thead>\n",
       "  <tbody>\n",
       "    <tr>\n",
       "      <th>0</th>\n",
       "      <td>Bethnal Green East</td>\n",
       "      <td>13.7</td>\n",
       "      <td>10826</td>\n",
       "      <td>Bethnal Green</td>\n",
       "      <td>4.9</td>\n",
       "    </tr>\n",
       "    <tr>\n",
       "      <th>1</th>\n",
       "      <td>Bethnal Green North</td>\n",
       "      <td>10.6</td>\n",
       "      <td>12570</td>\n",
       "      <td>Bethnal Green</td>\n",
       "      <td>4.9</td>\n",
       "    </tr>\n",
       "    <tr>\n",
       "      <th>2</th>\n",
       "      <td>Bethnal Green South</td>\n",
       "      <td>9.6</td>\n",
       "      <td>8121</td>\n",
       "      <td>Bethnal Green</td>\n",
       "      <td>4.9</td>\n",
       "    </tr>\n",
       "    <tr>\n",
       "      <th>3</th>\n",
       "      <td>Camberwell</td>\n",
       "      <td>14.7</td>\n",
       "      <td>22260</td>\n",
       "      <td>Camberwell</td>\n",
       "      <td>5.2</td>\n",
       "    </tr>\n",
       "    <tr>\n",
       "      <th>4</th>\n",
       "      <td>Dulwich</td>\n",
       "      <td>14.5</td>\n",
       "      <td>2491</td>\n",
       "      <td>Camberwell</td>\n",
       "      <td>5.2</td>\n",
       "    </tr>\n",
       "  </tbody>\n",
       "</table>\n",
       "</div>"
      ],
      "text/plain": [
       "               SubDist   Age    Sex        borough  rateable_value_pc\n",
       "0   Bethnal Green East  13.7  10826  Bethnal Green                4.9\n",
       "1  Bethnal Green North  10.6  12570  Bethnal Green                4.9\n",
       "2  Bethnal Green South   9.6   8121  Bethnal Green                4.9\n",
       "3           Camberwell  14.7  22260     Camberwell                5.2\n",
       "4              Dulwich  14.5   2491     Camberwell                5.2"
      ]
     },
     "execution_count": 528,
     "metadata": {},
     "output_type": "execute_result"
    }
   ],
   "source": [
    "data_merged.drop('RegDist',inplace=True, axis=1)\n",
    "data_merged.head()"
   ]
  },
  {
   "cell_type": "markdown",
   "metadata": {},
   "source": [
    "##  Correlation"
   ]
  },
  {
   "cell_type": "markdown",
   "metadata": {},
   "source": [
    "After combining information from these two data frames, we can explore the relationship between variables. Let's start with the most obvious: correlation. \n",
    "\n",
    "Correlation tells us the extent to which two variables are related. Imagine, each day I collect the number of dogs and cats I observed in two separate variables or vectors (`dogs` and `cats`). \n",
    "\n",
    "If there is a correlation, I expect that if the number of (spotted) dogs up, the same will apply to cats.\n",
    "\n",
    "Visually, we can make a scatterplot to assess whether there is a correlation: the x-axis shows the number of dogs, the y-axis the number of cats. "
   ]
  },
  {
   "cell_type": "code",
   "execution_count": 529,
   "metadata": {},
   "outputs": [],
   "source": [
    "dogs = [1,3,5,7,2,6] # first vector\n",
    "cats = [2,4,8,7,3,5] # second vector"
   ]
  },
  {
   "cell_type": "code",
   "execution_count": 530,
   "metadata": {},
   "outputs": [
    {
     "data": {
      "text/plain": [
       "<matplotlib.axes._subplots.AxesSubplot at 0x12aaf56d0>"
      ]
     },
     "execution_count": 530,
     "metadata": {},
     "output_type": "execute_result"
    },
    {
     "data": {
      "image/png": "[encoded data removed]",
      "text/plain": [
       "<Figure size 432x288 with 1 Axes>"
      ]
     },
     "metadata": {},
     "output_type": "display_data"
    }
   ],
   "source": [
    "sns.scatterplot(x=dogs,y=cats)"
   ]
  },
  {
   "cell_type": "markdown",
   "metadata": {},
   "source": [
    "The figure suggests a strong correlation between the vectors for`dogs` and `cats`, i.e. we observe high values for y when x is high (and vice versa of course). \n",
    "\n",
    "Please notice that computing correlation is based on an implicit alignment between the two vectors. Each position captures the same day. If the order in `cats` would be different from `dogs` (for example the former starts on Wednesday and the latter on Sunday) I could, technically, still make a scatterplot and computer correlation but the results would be meaningless (or at least not match the intention).\n",
    "\n",
    "The visualization is helpful, but we'd like to put a number on this, quantify the strength of the relation, so we can compare if other vectors are stronger correlated. Here the Pearson correlation coefficient will come to our rescue.\n",
    "\n",
    "\n"
   ]
  },
  {
   "cell_type": "markdown",
   "metadata": {},
   "source": [
    "### Pearson Correlation\n",
    "\n",
    "A widely used measure for computing the relationship between two vectors or vectors is the Pearson correlation coefficient. This coefficient will vary between -1 and +1, meaning a strong negative respectively positive correlation. A score of 0 indicates no correlation.\n",
    "\n",
    "We will first show you how to compute the Pearson correlation coefficient yourself, purely for didactic purposes, so you know what is going on (the score is not magic, far from!). But as you can probably guess by this point, there exists a method in Pandas that will help you. We'll have a look at that later.\n",
    "\n",
    "Showing how the calculation is done, demystifies the process and helps you to understand what is going on.\n",
    "\n",
    "We need a few ingredients to compute the Pearson correlation coefficient. First, we calculate the mean and standard deviation for each vector. We need to normalize by the amount of data we have and record the number of observations  `n`, which is equal to the length of `v1` (or `v2`—remember both are aligned and equal in length!)."
   ]
  },
  {
   "cell_type": "code",
   "execution_count": 531,
   "metadata": {},
   "outputs": [],
   "source": [
    "v1 = [1,3,5,7,2,6] # first vector\n",
    "v2 = [2,4,8,7,3,5] # second vector"
   ]
  },
  {
   "cell_type": "code",
   "execution_count": 532,
   "metadata": {},
   "outputs": [],
   "source": [
    "mean_v1 = np.mean(v1)\n",
    "mean_v2 = np.mean(v2)\n",
    "std_v1 = np.std(v1)\n",
    "std_v2 = np.std(v2)\n",
    "n = len(v1)"
   ]
  },
  {
   "cell_type": "markdown",
   "metadata": {},
   "source": [
    "Next, we subtract each value a vector with the mean (of that vector of course). We repeat this for `v1` and `v2`."
   ]
  },
  {
   "cell_type": "code",
   "execution_count": 533,
   "metadata": {},
   "outputs": [],
   "source": [
    "sub_mean_v1 = [i - mean_v1 for i in v1]\n",
    "sub_mean_v2 = [i - mean_v2 for i in v2]"
   ]
  },
  {
   "cell_type": "code",
   "execution_count": 534,
   "metadata": {},
   "outputs": [
    {
     "data": {
      "text/plain": [
       "([-3.0, -1.0, 1.0, 3.0, -2.0, 2.0],\n",
       " [-2.833333333333333,\n",
       "  -0.833333333333333,\n",
       "  3.166666666666667,\n",
       "  2.166666666666667,\n",
       "  -1.833333333333333,\n",
       "  0.16666666666666696])"
      ]
     },
     "execution_count": 534,
     "metadata": {},
     "output_type": "execute_result"
    }
   ],
   "source": [
    "sub_mean_v1,sub_mean_v2"
   ]
  },
  {
   "cell_type": "markdown",
   "metadata": {},
   "source": [
    "Then we compute products of the values in `sub_mean_v1` and `sub_mean_v2` position-wise, i.e we multiply the first value in `sub_mean_v1` with first the value `sub_mean_v2` etc.\n",
    "\n",
    "A convenient function for doing this `zip()`, which, as the name suggests, \"zips\" two lists based on their positional index. For example if we `zip` `sub_mean_v1` and `sub_mean_v1` we get:"
   ]
  },
  {
   "cell_type": "code",
   "execution_count": 535,
   "metadata": {},
   "outputs": [
    {
     "data": {
      "text/plain": [
       "[(-3.0, -2.833333333333333),\n",
       " (-1.0, -0.833333333333333),\n",
       " (1.0, 3.166666666666667),\n",
       " (3.0, 2.166666666666667),\n",
       " (-2.0, -1.833333333333333),\n",
       " (2.0, 0.16666666666666696)]"
      ]
     },
     "execution_count": 535,
     "metadata": {},
     "output_type": "execute_result"
    }
   ],
   "source": [
    "diffs_zipped = list(zip(sub_mean_v1,sub_mean_v2))\n",
    "diffs_zipped"
   ]
  },
  {
   "cell_type": "markdown",
   "metadata": {},
   "source": [
    "Each element in the list `diffs_zipped` is a tuple. We multiply the elements in each tuple.."
   ]
  },
  {
   "cell_type": "code",
   "execution_count": 536,
   "metadata": {},
   "outputs": [
    {
     "data": {
      "text/plain": [
       "[8.5,\n",
       " 0.833333333333333,\n",
       " 3.166666666666667,\n",
       " 6.500000000000001,\n",
       " 3.666666666666666,\n",
       " 0.3333333333333339]"
      ]
     },
     "execution_count": 536,
     "metadata": {},
     "output_type": "execute_result"
    }
   ],
   "source": [
    "products = [i*j for i,j in diffs_zipped]\n",
    "products"
   ]
  },
  {
   "cell_type": "markdown",
   "metadata": {},
   "source": [
    "\n",
    "... and we sum all the values, which will give is the nominator of Pearson correlation coefficient."
   ]
  },
  {
   "cell_type": "code",
   "execution_count": 537,
   "metadata": {},
   "outputs": [
    {
     "data": {
      "text/plain": [
       "23.0"
      ]
     },
     "execution_count": 537,
     "metadata": {},
     "output_type": "execute_result"
    }
   ],
   "source": [
    "nominator = sum(products)\n",
    "nominator"
   ]
  },
  {
   "cell_type": "markdown",
   "metadata": {},
   "source": [
    "To obtain the coefficient, we divide the nominator by the product of the standard deviations and the number of observations."
   ]
  },
  {
   "cell_type": "code",
   "execution_count": 538,
   "metadata": {},
   "outputs": [],
   "source": [
    "denominator = std_v1 * std_v2 * len(v1)"
   ]
  },
  {
   "cell_type": "code",
   "execution_count": 539,
   "metadata": {},
   "outputs": [
    {
     "data": {
      "text/plain": [
       "0.8390957231764806"
      ]
     },
     "execution_count": 539,
     "metadata": {},
     "output_type": "execute_result"
    }
   ],
   "source": [
    "nominator / denominator"
   ]
  },
  {
   "cell_type": "markdown",
   "metadata": {},
   "source": [
    "Looking closer at these steps you can intuitively grasp what determines the strength of the correlation. If two values (at the same position) differ from the mean in equal terms, this will result in a higher product (remember from high school that the product of two negative numbers is positive!) and, in turn, increases the value of the nominator. "
   ]
  },
  {
   "cell_type": "markdown",
   "metadata": {},
   "source": [
    "Of course, Pandas provides a method called`.corr()` to compute correlations between two instances of `pd.Series`. We first convert each vector to an instance of `pd.Series` and then calculate the correlation coefficient, which, no surprise, should be exactly the same!"
   ]
  },
  {
   "cell_type": "code",
   "execution_count": 540,
   "metadata": {},
   "outputs": [
    {
     "data": {
      "text/plain": [
       "0.8390957231764807"
      ]
     },
     "execution_count": 540,
     "metadata": {},
     "output_type": "execute_result"
    }
   ],
   "source": [
    "pd.Series(v1).corr(pd.Series(v2))"
   ]
  },
  {
   "cell_type": "markdown",
   "metadata": {},
   "source": [
    "Of course, now we can also compute the relation between age and wealth."
   ]
  },
  {
   "cell_type": "code",
   "execution_count": 541,
   "metadata": {},
   "outputs": [
    {
     "data": {
      "text/plain": [
       "0.0477830510512453"
      ]
     },
     "execution_count": 541,
     "metadata": {},
     "output_type": "execute_result"
    }
   ],
   "source": [
    "data_merged['Age'].corr(data_merged['rateable_value_pc'])"
   ]
  },
  {
   "cell_type": "markdown",
   "metadata": {},
   "source": [
    "Actually, that's quite a low correlation! This does not bode well for our expectation that richer boroughs are associated with longer lifespans. But we'll turn that to that shortly."
   ]
  },
  {
   "cell_type": "code",
   "execution_count": 542,
   "metadata": {},
   "outputs": [
    {
     "data": {
      "text/plain": [
       "<matplotlib.axes._subplots.AxesSubplot at 0x12b4bc0d0>"
      ]
     },
     "execution_count": 542,
     "metadata": {},
     "output_type": "execute_result"
    },
    {
     "data": {
      "image/png": "[encoded data removed]",
      "text/plain": [
       "<Figure size 432x288 with 1 Axes>"
      ]
     },
     "metadata": {},
     "output_type": "display_data"
    }
   ],
   "source": [
    "sns.scatterplot(x='rateable_value_pc',y='Age',data=data_merged)"
   ]
  },
  {
   "cell_type": "markdown",
   "metadata": {},
   "source": [
    "### Spearman Correlation"
   ]
  },
  {
   "cell_type": "markdown",
   "metadata": {},
   "source": [
    "Pearson correlation is one option of many to compute the strength of the relationship between two variables. The choice depends on your research priorities and some procedures will be more relevant or valid than others. \n",
    "\n",
    "Pearson takes into account the absolute counts of the number of cats and dogs. But imagine, that I don't care about how many animals I observe each day what matters is that ranking of the days is correlated. In this case, the ranking of the days has priority. In this scenario, we should calculate the Spearman rank correlation.  \n",
    "\n",
    "To obtain this coefficient, we need to compute the rank of each day, for example, the third item in `v1` has rank 4 (i.e. it comes fourth after the items on positions 0, 1 and 4)"
   ]
  },
  {
   "cell_type": "code",
   "execution_count": 543,
   "metadata": {},
   "outputs": [
    {
     "data": {
      "text/plain": [
       "([1, 3, 5, 7, 2, 6], [1, 3, 4, 6, 2, 5])"
      ]
     },
     "execution_count": 543,
     "metadata": {},
     "output_type": "execute_result"
    }
   ],
   "source": [
    "v1_ranked = {v:i+1 for i,v in enumerate(sorted(v1))} # compute the rank if each days\n",
    "v1_rank = [v1_ranked[i] for i in v1]\n",
    "v1, v1_rank "
   ]
  },
  {
   "cell_type": "code",
   "execution_count": 544,
   "metadata": {},
   "outputs": [
    {
     "data": {
      "text/plain": [
       "([2, 4, 8, 7, 3, 5], [1, 3, 6, 5, 2, 4])"
      ]
     },
     "execution_count": 544,
     "metadata": {},
     "output_type": "execute_result"
    }
   ],
   "source": [
    "v2_ranked = {v:i+1 for i,v in enumerate(sorted(v2))} # compute the rank if each days\n",
    "v2_rank = [v2_ranked[i] for i in v2]\n",
    "v2, v2_rank"
   ]
  },
  {
   "cell_type": "code",
   "execution_count": 545,
   "metadata": {},
   "outputs": [],
   "source": [
    "mean_v1 = np.mean(v1_rank) # we compute the mean ranks\n",
    "mean_v2 = np.mean(v2_rank)"
   ]
  },
  {
   "cell_type": "code",
   "execution_count": 546,
   "metadata": {},
   "outputs": [],
   "source": [
    "nominator = np.sum([(i1 - mean_v1)*(i2 - mean_v2) for i1,i2 in zip(v1_rank,v2_rank)]) # we compute the difference between rank and mean rank"
   ]
  },
  {
   "cell_type": "code",
   "execution_count": 547,
   "metadata": {},
   "outputs": [],
   "source": [
    "denominator = np.std(v1_rank) * np.std(v2_rank) * len(v2_rank)"
   ]
  },
  {
   "cell_type": "code",
   "execution_count": 548,
   "metadata": {},
   "outputs": [
    {
     "data": {
      "text/plain": [
       "0.8285714285714286"
      ]
     },
     "execution_count": 548,
     "metadata": {},
     "output_type": "execute_result"
    }
   ],
   "source": [
    "nominator/denominator"
   ]
  },
  {
   "cell_type": "code",
   "execution_count": 549,
   "metadata": {},
   "outputs": [
    {
     "data": {
      "text/plain": [
       "0.8285714285714287"
      ]
     },
     "execution_count": 549,
     "metadata": {},
     "output_type": "execute_result"
    }
   ],
   "source": [
    "pd.Series(v1).corr(pd.Series(v2), method='spearman')"
   ]
  },
  {
   "cell_type": "code",
   "execution_count": 550,
   "metadata": {},
   "outputs": [
    {
     "data": {
      "text/plain": [
       "0.10742706678948936"
      ]
     },
     "execution_count": 550,
     "metadata": {},
     "output_type": "execute_result"
    }
   ],
   "source": [
    "data_merged['Age'].corr(data_merged['rateable_value_pc'],method='spearman')"
   ]
  },
  {
   "cell_type": "markdown",
   "metadata": {},
   "source": [
    "Correlation does not mean causation. Oftentimes, correlations are 'spurious', i.e. it is unlikely there exists a realistic mechanism that explains the association between two variables. \n",
    " \n",
    "There is even [a website on this topic!](https://www.tylervigen.com/spurious-correlations)\n",
    "\n",
    "Be careful when making claims based on correlation. As often, the statistical experiment won't give you an answer to your question. There is no simple way to determine if a correlation is spurious. It depends on your domain expertise to make sense of these results and justify them.\n"
   ]
  },
  {
   "cell_type": "markdown",
   "metadata": {},
   "source": [
    "# Linear Regression"
   ]
  },
  {
   "cell_type": "markdown",
   "metadata": {},
   "source": [
    "Whereas correlation tells you that two variables, X and Y, are related you can not model their relationship, i.e. you can not predict Y using X. Correlation can only tell you that when X goes up, Y goes up (or not).\n",
    "\n",
    "Regression modelling attempts to model the mechanistic relationship between two variables: how many cats do I expect to see, given that I observed five dogs?\n",
    "\n",
    "Modelling the mechanistic relationship enables us to predict outcomes based on independent variables or predictors.\n",
    "\n",
    "Returning to our example of age and wealth (goodbye doggies, you were helpful), we'd want to predict the lifespan (the response variable approximated by the ratio of residents older than 50) given the rateable value per capita (predictor variable).\n",
    "\n",
    "Notice that we rely on domain expertise to construct a model that makes sense. We could also model the reverse, assuming that increasing lifespan will push rateable value upwards.\n",
    "\n",
    "However, we assumed wealth has a positive impact on lifespan and not vice versa. Our causal model, therefore, looks as follows: \n",
    "\n",
    "`Wealth -> lifespan`\n",
    "\n",
    "and not \n",
    "\n",
    "`Wealth <- lifespan`\n",
    "\n",
    "Whether a causal model makes sense is not a statistical question but depends on your domain expertise as a historian (and in this case, there is room for dispute!?). When reading a historical paper that uses statistical methods, it is often more important to critically look at the relation between the narrative and the method than just the regression procedure: What are data supposed to capture and how are they combined into/framed as a causal theory?"
   ]
  },
  {
   "cell_type": "markdown",
   "metadata": {},
   "source": [
    "Let's discuss these questions with some actual data. We first demonstrate what a regression model does before we continue with a more detailed explanation of how to run and evaluate a regression model."
   ]
  },
  {
   "cell_type": "markdown",
   "metadata": {},
   "source": [
    "A linear model tries to predict a value (lifespan/ratio of 50+) based on a linear combination of other variables (for now, just one, the rateable value per capita). We want to predict the former using the latter.\n",
    "\n",
    "Using `seaborn` we can make a dispersion plot where each observation is turned into a point on the figure. The x-axis (`x=`) shows the rateable value, the y-axis (`y=`) the ratio of residents older than 50. "
   ]
  },
  {
   "cell_type": "code",
   "execution_count": 551,
   "metadata": {},
   "outputs": [
    {
     "data": {
      "text/plain": [
       "<matplotlib.axes._subplots.AxesSubplot at 0x126fec590>"
      ]
     },
     "execution_count": 551,
     "metadata": {},
     "output_type": "execute_result"
    },
    {
     "data": {
      "image/png": "[encoded data removed]",
      "text/plain": [
       "<Figure size 432x288 with 1 Axes>"
      ]
     },
     "metadata": {},
     "output_type": "display_data"
    }
   ],
   "source": [
    "sns.scatterplot(x='rateable_value_pc',\n",
    "                y='Age',\n",
    "                data=data_merged)"
   ]
  },
  {
   "cell_type": "markdown",
   "metadata": {},
   "source": [
    "\n",
    "\n",
    "A linear regression models the relation between `x` and `y` by drawing a line best \"fits\" the data, i.e. is closest to the observations as possible.\n",
    "\n",
    "\n",
    "From your high school education, you may remember the equation of a line.\n",
    "\n",
    "$y = a + b*x$\n",
    "\n",
    "\n",
    "Which can convert this equation to our variables of interest\n",
    "\n",
    "- $a$ is the intercept, the point where the line crosses to y-axis when x is zero. You may also think as: what ratio do we expect for a place with zero rateable value?\n",
    "\n",
    "- $b$ is the slope, and determines the strength of the relationship between $y$ and $x$: how much change do we expect in $y$ after one unit change $x$. \n",
    "\n",
    "\n",
    "\n",
    "We know lifespan and rateable value. \n",
    "\n",
    "lifespan = intercept + slope * rateable value per capita\n",
    "\n",
    "We use these data to estimate the values of $a$ (intercept) and $b$ slope. \n",
    "We will discuss later how, but for now, we just plot the outcome of running a linear regression, to show what the model thinks the line should look like after observing the data."
   ]
  },
  {
   "cell_type": "code",
   "execution_count": 552,
   "metadata": {},
   "outputs": [
    {
     "data": {
      "text/plain": [
       "<matplotlib.axes._subplots.AxesSubplot at 0x127616650>"
      ]
     },
     "execution_count": 552,
     "metadata": {},
     "output_type": "execute_result"
    },
    {
     "data": {
      "image/png": "[encoded data removed]",
      "text/plain": [
       "<Figure size 432x288 with 1 Axes>"
      ]
     },
     "metadata": {},
     "output_type": "display_data"
    }
   ],
   "source": [
    "sns.regplot(x=\"rateable_value_pc\", y=\"Age\", \n",
    "                 data=data_merged,\n",
    "                 scatter_kws={\"s\": 10},\n",
    "                 order=1,ci=False)"
   ]
  },
  {
   "cell_type": "markdown",
   "metadata": {},
   "source": [
    "The line visualizes the outcome of linear regression. The fact that a model throws back a result, a line, doesn't necessarily mean that this result makes sense. The best fit can still be pretty bad. In this case, the line is pretty flat, suggesting that $b% is close to zero, but also pretty bad (it doesn't capture much of the variation).\n",
    "\n",
    "As you observe there are many values are clustered together in the lower range of the x-axis, and only a few appear at the right-hand side of the figure.\n",
    "\n",
    "We can improve the fit by transforming the values on x-axis. We take the natural logarithm of the rateable value per capita, this will make small differences bigger and bigger ones smaller, it pulls apart the observation at the lower end of the independent variable and pushes those placed at the far right towards the other observations).\n",
    "\n",
    "But what is the natural logarithm? Let's have a look, what happens if we take the logarithm of 1000"
   ]
  },
  {
   "cell_type": "code",
   "execution_count": 553,
   "metadata": {},
   "outputs": [
    {
     "data": {
      "text/plain": [
       "6.907755278982137"
      ]
     },
     "execution_count": 553,
     "metadata": {},
     "output_type": "execute_result"
    }
   ],
   "source": [
    "np.log(1000)"
   ]
  },
  {
   "cell_type": "markdown",
   "metadata": {},
   "source": [
    "We get a number close to 7 (i.e. 6.907755278982137). What does this mean? The logarithm is inverse of exponentiation: if x = log(y) then y = exp(x), or sticking to our example, if np.log(1000) produces 6.907755 then \n",
    "e<sup>6.90775</sup> will approximately equal 1000 (not exactly as rounded the numbers.\n",
    "`e` is called Euler's number and is approximately equal to 2.71828182845904523536028747135266249775724709369995 according to [Wikipedia](https://en.wikipedia.org/wiki/E_(mathematical_constant)). You can check this for yourself"
   ]
  },
  {
   "cell_type": "code",
   "execution_count": 554,
   "metadata": {},
   "outputs": [
    {
     "data": {
      "text/plain": [
       "999.9999999999998"
      ]
     },
     "execution_count": 554,
     "metadata": {},
     "output_type": "execute_result"
    }
   ],
   "source": [
    "np.exp(6.907755278982137)"
   ]
  },
  {
   "cell_type": "markdown",
   "metadata": {},
   "source": [
    "..is equivalent to..."
   ]
  },
  {
   "cell_type": "code",
   "execution_count": 555,
   "metadata": {},
   "outputs": [
    {
     "data": {
      "text/plain": [
       "999.9953534904313"
      ]
     },
     "execution_count": 555,
     "metadata": {},
     "output_type": "execute_result"
    }
   ],
   "source": [
    "np.power(2.71828,6.907755278982137)"
   ]
  },
  {
   "cell_type": "markdown",
   "metadata": {},
   "source": [
    "But why would we do this? Why would we effectively rescale our variables? Taking the logarithm partly solves the problem of dispersion:  the logarithmic scale makes linear modelling often easier if a  variable is linear on the logarithmic scale. "
   ]
  },
  {
   "cell_type": "code",
   "execution_count": 556,
   "metadata": {},
   "outputs": [],
   "source": [
    "x_1 = [10,100,1000,10000]"
   ]
  },
  {
   "cell_type": "markdown",
   "metadata": {},
   "source": [
    "It is difficult to model these gaps with a line..."
   ]
  },
  {
   "cell_type": "code",
   "execution_count": 557,
   "metadata": {},
   "outputs": [
    {
     "data": {
      "text/plain": [
       "<matplotlib.axes._subplots.AxesSubplot at 0x127014890>"
      ]
     },
     "execution_count": 557,
     "metadata": {},
     "output_type": "execute_result"
    },
    {
     "data": {
      "image/png": "[encoded data removed]",
      "text/plain": [
       "<Figure size 432x288 with 1 Axes>"
      ]
     },
     "metadata": {},
     "output_type": "display_data"
    }
   ],
   "source": [
    "sns.regplot(x=list(range(len(x_1))), y=x_1, \n",
    "                 scatter_kws={\"s\": 80},\n",
    "                 order=1,ci=False)"
   ]
  },
  {
   "cell_type": "markdown",
   "metadata": {},
   "source": [
    "However, on a logarithmic scale, these values become neatly fit a line."
   ]
  },
  {
   "cell_type": "code",
   "execution_count": 558,
   "metadata": {},
   "outputs": [],
   "source": [
    "x_2 = np.log([10,100,1000,10000])"
   ]
  },
  {
   "cell_type": "code",
   "execution_count": 559,
   "metadata": {},
   "outputs": [
    {
     "data": {
      "text/plain": [
       "<matplotlib.axes._subplots.AxesSubplot at 0x126a90990>"
      ]
     },
     "execution_count": 559,
     "metadata": {},
     "output_type": "execute_result"
    },
    {
     "data": {
      "image/png": "[encoded data removed]",
      "text/plain": [
       "<Figure size 432x288 with 1 Axes>"
      ]
     },
     "metadata": {},
     "output_type": "display_data"
    }
   ],
   "source": [
    "sns.regplot(x=list(range(len(x_2))), y=x_2, \n",
    "                 scatter_kws={\"s\": 80},\n",
    "                 order=1,ci=False)"
   ]
  },
  {
   "cell_type": "markdown",
   "metadata": {},
   "source": [
    "Even though 'real' data never fits a pattern as neatly, we observe similar changes when inspecting the rateable value per capita variable."
   ]
  },
  {
   "cell_type": "code",
   "execution_count": 560,
   "metadata": {},
   "outputs": [],
   "source": [
    "data_merged.sort_values('rateable_value_pc',inplace=True)"
   ]
  },
  {
   "cell_type": "code",
   "execution_count": 561,
   "metadata": {},
   "outputs": [
    {
     "data": {
      "text/plain": [
       "<matplotlib.axes._subplots.AxesSubplot at 0x1275cba50>"
      ]
     },
     "execution_count": 561,
     "metadata": {},
     "output_type": "execute_result"
    },
    {
     "data": {
      "image/png": "[encoded data removed]",
      "text/plain": [
       "<Figure size 432x288 with 1 Axes>"
      ]
     },
     "metadata": {},
     "output_type": "display_data"
    }
   ],
   "source": [
    "sns.regplot(x=list(range(len(data_merged))), y=data_merged[\"rateable_value_pc\"], \n",
    "                 scatter_kws={\"s\": 10},\n",
    "                 order=1,ci=False)"
   ]
  },
  {
   "cell_type": "code",
   "execution_count": 562,
   "metadata": {},
   "outputs": [],
   "source": [
    "data_merged['rvc_log'] = np.log(data_merged['rateable_value_pc'])"
   ]
  },
  {
   "cell_type": "code",
   "execution_count": 563,
   "metadata": {},
   "outputs": [
    {
     "data": {
      "text/plain": [
       "<matplotlib.axes._subplots.AxesSubplot at 0x12750ea90>"
      ]
     },
     "execution_count": 563,
     "metadata": {},
     "output_type": "execute_result"
    },
    {
     "data": {
      "image/png": "[encoded data removed]",
      "text/plain": [
       "<Figure size 432x288 with 1 Axes>"
      ]
     },
     "metadata": {},
     "output_type": "display_data"
    }
   ],
   "source": [
    "sns.regplot(x=list(range(len(data_merged))), y=data_merged[\"rvc_log\"], \n",
    "                 scatter_kws={\"s\": 10},\n",
    "                 order=1,ci=False)"
   ]
  },
  {
   "cell_type": "markdown",
   "metadata": {},
   "source": [
    "Both lines don't fit the data perfectly, However, the latter one seems to approximate the actual observed values better.\n",
    "\n",
    "Also, if now model age as a function of the logged rateable value, the line will fit our observation better across all values of the x-axis. Still the result isn't great..."
   ]
  },
  {
   "cell_type": "code",
   "execution_count": 564,
   "metadata": {},
   "outputs": [],
   "source": [
    "data_merged['rvc_log'] = np.log(data_merged['rateable_value_pc']) # take the logarithm of rvc"
   ]
  },
  {
   "cell_type": "code",
   "execution_count": 565,
   "metadata": {},
   "outputs": [
    {
     "data": {
      "text/plain": [
       "<matplotlib.axes._subplots.AxesSubplot at 0x126bf1990>"
      ]
     },
     "execution_count": 565,
     "metadata": {},
     "output_type": "execute_result"
    },
    {
     "data": {
      "image/png": "[encoded data removed]",
      "text/plain": [
       "<Figure size 432x288 with 1 Axes>"
      ]
     },
     "metadata": {},
     "output_type": "display_data"
    }
   ],
   "source": [
    "sns.regplot(x=\"rvc_log\", y=\"Age\", \n",
    "                 data=data_merged,\n",
    "                 scatter_kws={\"s\": 10},\n",
    "                 order=1,ci=False)"
   ]
  },
  {
   "cell_type": "markdown",
   "metadata": {},
   "source": [
    "Later we will quantify goodness of fit of the different lines (before and after taking the logarithm). For now, a visual inspection suffices. \n",
    "\n",
    "(Please notice that logging also improve the correlation between the two variables.)"
   ]
  },
  {
   "cell_type": "code",
   "execution_count": 566,
   "metadata": {},
   "outputs": [
    {
     "data": {
      "text/plain": [
       "0.04778305105124528"
      ]
     },
     "execution_count": 566,
     "metadata": {},
     "output_type": "execute_result"
    }
   ],
   "source": [
    "data_merged['rateable_value_pc'].corr(data_merged['Age'],method='pearson')"
   ]
  },
  {
   "cell_type": "code",
   "execution_count": 567,
   "metadata": {},
   "outputs": [
    {
     "data": {
      "text/plain": [
       "0.13820568259755875"
      ]
     },
     "execution_count": 567,
     "metadata": {},
     "output_type": "execute_result"
    }
   ],
   "source": [
    "data_merged['rvc_log'].corr(data_merged['Age'],method='pearson')"
   ]
  },
  {
   "cell_type": "markdown",
   "metadata": {},
   "source": [
    "Taking the logarithm values doesn't harm, but you'll have to be careful as it influences your interpretation of the results and the predictions of the model. "
   ]
  },
  {
   "cell_type": "markdown",
   "metadata": {},
   "source": [
    "A closer look at the scatterplot and the data show that two (maybe ever three) places have a significantly higher rateable value: Holborn and Westminster, and also Marylebone. This is confirmed by the boxplot below.  \n"
   ]
  },
  {
   "cell_type": "code",
   "execution_count": 568,
   "metadata": {},
   "outputs": [
    {
     "data": {
      "text/html": [
       "<div>\n",
       "<style scoped>\n",
       "    .dataframe tbody tr th:only-of-type {\n",
       "        vertical-align: middle;\n",
       "    }\n",
       "\n",
       "    .dataframe tbody tr th {\n",
       "        vertical-align: top;\n",
       "    }\n",
       "\n",
       "    .dataframe thead th {\n",
       "        text-align: right;\n",
       "    }\n",
       "</style>\n",
       "<table border=\"1\" class=\"dataframe\">\n",
       "  <thead>\n",
       "    <tr style=\"text-align: right;\">\n",
       "      <th></th>\n",
       "      <th>borough</th>\n",
       "      <th>rateable_value_pc</th>\n",
       "    </tr>\n",
       "  </thead>\n",
       "  <tbody>\n",
       "    <tr>\n",
       "      <th>26</th>\n",
       "      <td>Westminster</td>\n",
       "      <td>57.2</td>\n",
       "    </tr>\n",
       "    <tr>\n",
       "      <th>12</th>\n",
       "      <td>Holborn</td>\n",
       "      <td>32.0</td>\n",
       "    </tr>\n",
       "    <tr>\n",
       "      <th>19</th>\n",
       "      <td>Marylebone</td>\n",
       "      <td>23.2</td>\n",
       "    </tr>\n",
       "    <tr>\n",
       "      <th>4</th>\n",
       "      <td>Chelsea</td>\n",
       "      <td>14.7</td>\n",
       "    </tr>\n",
       "    <tr>\n",
       "      <th>14</th>\n",
       "      <td>Kensington</td>\n",
       "      <td>14.4</td>\n",
       "    </tr>\n",
       "    <tr>\n",
       "      <th>6</th>\n",
       "      <td>Finsbury</td>\n",
       "      <td>14.2</td>\n",
       "    </tr>\n",
       "    <tr>\n",
       "      <th>11</th>\n",
       "      <td>Hampstead</td>\n",
       "      <td>13.3</td>\n",
       "    </tr>\n",
       "    <tr>\n",
       "      <th>17</th>\n",
       "      <td>Paddington</td>\n",
       "      <td>10.7</td>\n",
       "    </tr>\n",
       "    <tr>\n",
       "      <th>20</th>\n",
       "      <td>Pancras</td>\n",
       "      <td>8.7</td>\n",
       "    </tr>\n",
       "    <tr>\n",
       "      <th>1</th>\n",
       "      <td>Bermondsey</td>\n",
       "      <td>8.5</td>\n",
       "    </tr>\n",
       "    <tr>\n",
       "      <th>21</th>\n",
       "      <td>Shoreditch</td>\n",
       "      <td>8.2</td>\n",
       "    </tr>\n",
       "    <tr>\n",
       "      <th>8</th>\n",
       "      <td>Greenwich</td>\n",
       "      <td>7.6</td>\n",
       "    </tr>\n",
       "    <tr>\n",
       "      <th>10</th>\n",
       "      <td>Hammersmith</td>\n",
       "      <td>7.0</td>\n",
       "    </tr>\n",
       "    <tr>\n",
       "      <th>25</th>\n",
       "      <td>Wandsworth</td>\n",
       "      <td>6.9</td>\n",
       "    </tr>\n",
       "    <tr>\n",
       "      <th>22</th>\n",
       "      <td>Southwark</td>\n",
       "      <td>6.7</td>\n",
       "    </tr>\n",
       "    <tr>\n",
       "      <th>27</th>\n",
       "      <td>Woolwich</td>\n",
       "      <td>6.6</td>\n",
       "    </tr>\n",
       "    <tr>\n",
       "      <th>23</th>\n",
       "      <td>Stepney</td>\n",
       "      <td>6.5</td>\n",
       "    </tr>\n",
       "    <tr>\n",
       "      <th>24</th>\n",
       "      <td>Stoke Newington</td>\n",
       "      <td>6.5</td>\n",
       "    </tr>\n",
       "    <tr>\n",
       "      <th>16</th>\n",
       "      <td>Lewisham</td>\n",
       "      <td>6.4</td>\n",
       "    </tr>\n",
       "    <tr>\n",
       "      <th>15</th>\n",
       "      <td>Lambeth</td>\n",
       "      <td>6.3</td>\n",
       "    </tr>\n",
       "    <tr>\n",
       "      <th>7</th>\n",
       "      <td>Fulham</td>\n",
       "      <td>6.1</td>\n",
       "    </tr>\n",
       "    <tr>\n",
       "      <th>0</th>\n",
       "      <td>Battersea</td>\n",
       "      <td>6.1</td>\n",
       "    </tr>\n",
       "    <tr>\n",
       "      <th>5</th>\n",
       "      <td>Deptford</td>\n",
       "      <td>5.8</td>\n",
       "    </tr>\n",
       "    <tr>\n",
       "      <th>18</th>\n",
       "      <td>Poplar</td>\n",
       "      <td>5.7</td>\n",
       "    </tr>\n",
       "    <tr>\n",
       "      <th>13</th>\n",
       "      <td>Islington</td>\n",
       "      <td>5.7</td>\n",
       "    </tr>\n",
       "    <tr>\n",
       "      <th>9</th>\n",
       "      <td>Hackney</td>\n",
       "      <td>5.7</td>\n",
       "    </tr>\n",
       "    <tr>\n",
       "      <th>3</th>\n",
       "      <td>Camberwell</td>\n",
       "      <td>5.2</td>\n",
       "    </tr>\n",
       "    <tr>\n",
       "      <th>2</th>\n",
       "      <td>Bethnal Green</td>\n",
       "      <td>4.9</td>\n",
       "    </tr>\n",
       "  </tbody>\n",
       "</table>\n",
       "</div>"
      ],
      "text/plain": [
       "            borough  rateable_value_pc\n",
       "26      Westminster               57.2\n",
       "12          Holborn               32.0\n",
       "19       Marylebone               23.2\n",
       "4           Chelsea               14.7\n",
       "14       Kensington               14.4\n",
       "6          Finsbury               14.2\n",
       "11        Hampstead               13.3\n",
       "17       Paddington               10.7\n",
       "20          Pancras                8.7\n",
       "1        Bermondsey                8.5\n",
       "21       Shoreditch                8.2\n",
       "8         Greenwich                7.6\n",
       "10      Hammersmith                7.0\n",
       "25       Wandsworth                6.9\n",
       "22        Southwark                6.7\n",
       "27         Woolwich                6.6\n",
       "23          Stepney                6.5\n",
       "24  Stoke Newington                6.5\n",
       "16         Lewisham                6.4\n",
       "15          Lambeth                6.3\n",
       "7            Fulham                6.1\n",
       "0         Battersea                6.1\n",
       "5          Deptford                5.8\n",
       "18           Poplar                5.7\n",
       "13        Islington                5.7\n",
       "9           Hackney                5.7\n",
       "3        Camberwell                5.2\n",
       "2     Bethnal Green                4.9"
      ]
     },
     "execution_count": 568,
     "metadata": {},
     "output_type": "execute_result"
    }
   ],
   "source": [
    "rvc.sort_values(by='rateable_value_pc',ascending=False)"
   ]
  },
  {
   "cell_type": "code",
   "execution_count": 569,
   "metadata": {},
   "outputs": [
    {
     "name": "stderr",
     "output_type": "stream",
     "text": [
      "/usr/local/lib/python3.7/site-packages/seaborn/_decorators.py:43: FutureWarning: Pass the following variable as a keyword arg: x. From version 0.12, the only valid positional argument will be `data`, and passing other arguments without an explicit keyword will result in an error or misinterpretation.\n",
      "  FutureWarning\n"
     ]
    },
    {
     "data": {
      "text/plain": [
       "<matplotlib.axes._subplots.AxesSubplot at 0x126b8dcd0>"
      ]
     },
     "execution_count": 569,
     "metadata": {},
     "output_type": "execute_result"
    },
    {
     "data": {
      "image/png": "[encoded data removed]",
      "text/plain": [
       "<Figure size 432x288 with 1 Axes>"
      ]
     },
     "metadata": {},
     "output_type": "display_data"
    }
   ],
   "source": [
    "sns.boxplot(rvc.rateable_value_pc)"
   ]
  },
  {
   "cell_type": "markdown",
   "metadata": {},
   "source": [
    "\n",
    "How to approach these observations: one easy, albeit problematic, approach is to consider them as \"outliers\" and remove them from the datasets.\n",
    "\n",
    "This is a classical example of where interventions need to be motivated or at least explained by domain expertise. "
   ]
  },
  {
   "cell_type": "markdown",
   "metadata": {},
   "source": [
    "Let's remove these districts to understand the extent to which they affect our model and more importantly our understanding of the effect of wealth on lifespan. As you'll notice, the figure below suggests that after excluding  Holborn and Westminster, the relation become positive. These two districts have a large effect on the slope of the regression line."
   ]
  },
  {
   "cell_type": "code",
   "execution_count": 570,
   "metadata": {},
   "outputs": [],
   "source": [
    "data_wo_outliers = data_merged[~data_merged.borough.isin(['Westminster',\"Holborn\",\"Marylebone\"])]"
   ]
  },
  {
   "cell_type": "code",
   "execution_count": 571,
   "metadata": {},
   "outputs": [
    {
     "data": {
      "text/plain": [
       "<matplotlib.axes._subplots.AxesSubplot at 0x12374fdd0>"
      ]
     },
     "execution_count": 571,
     "metadata": {},
     "output_type": "execute_result"
    },
    {
     "data": {
      "image/png": "[encoded data removed]",
      "text/plain": [
       "<Figure size 432x288 with 1 Axes>"
      ]
     },
     "metadata": {},
     "output_type": "display_data"
    }
   ],
   "source": [
    "sns.regplot(x=\"rvc_log\", y=\"Age\", data=data_merged,\n",
    "                 scatter_kws={\"s\": 10},\n",
    "                 order=1,ci=False)\n",
    "\n",
    "sns.regplot(x=\"rvc_log\", y=\"Age\", data=data_wo_outliers,\n",
    "                 scatter_kws={\"s\": 10},\n",
    "                 order=1,ci=False)"
   ]
  },
  {
   "cell_type": "markdown",
   "metadata": {},
   "source": [
    "The orange line shows the impact of removing the so-called 'outliers'. Throwing away information (i.e. observations) is a tricky thing: yes, it becomes easier to model the relationship between the variables linearly. However, this \"solution\" comes at a cost, we won't be able to accurately say something about the wealthier districts. If we were to believe the orange line, we'd disastrously overestimate the ratio of older residents in districts like Westminster.\n",
    "\n",
    "However, if you're only interested in predicting the age for a certain type of boroughs, and have good reasons to believe that the other ones away are qualitatively different (and deserve to be treated as separate case studies) than discarding observations is to some extent justifiable (but, of course, this should be made explicit).\n",
    "\n",
    "In any case, we need to acknowledge that a few places carry a lot of weight in determining the outcome and interpretation of the regression model (they influence the estimate of the slope substantially).\n",
    "\n",
    "Again, domain expertise has priority over statistics: the latter alone can not tell you what is the right approach."
   ]
  },
  {
   "cell_type": "code",
   "execution_count": 572,
   "metadata": {},
   "outputs": [
    {
     "name": "stdout",
     "output_type": "stream",
     "text": [
      "0.13820568259755875\n",
      "0.34931346861521706\n"
     ]
    }
   ],
   "source": [
    "print(data_merged['rvc_log'].corr(data_merged['Age']))\n",
    "print(data_wo_outliers['rvc_log'].corr(data_wo_outliers['Age']))"
   ]
  },
  {
   "cell_type": "code",
   "execution_count": 573,
   "metadata": {},
   "outputs": [
    {
     "data": {
      "text/plain": [
       "<matplotlib.axes._subplots.AxesSubplot at 0x123d34c50>"
      ]
     },
     "execution_count": 573,
     "metadata": {},
     "output_type": "execute_result"
    },
    {
     "data": {
      "image/png": "[encoded data removed]",
      "text/plain": [
       "<Figure size 432x288 with 1 Axes>"
      ]
     },
     "metadata": {},
     "output_type": "display_data"
    }
   ],
   "source": [
    "sns.regplot(x=\"rvc_log\", y=\"Age\", \n",
    "                 data=data_wo_outliers,\n",
    "                 scatter_kws={\"s\": 10},\n",
    "                 order=1,ci=False)"
   ]
  },
  {
   "cell_type": "markdown",
   "metadata": {},
   "source": [
    "Hopefully, this visual introduction demonstrated the use of linear regression and some of the problems that you are likely to encounter. Again, we'd like to stress that often the solution to these issues often require you to lean on your domain expertise as a historian. To solutions are often not statistical. \n",
    "\n",
    "History always should come before statistics."
   ]
  },
  {
   "cell_type": "markdown",
   "metadata": {},
   "source": [
    "The regression model attempts to capture as much as possible variation by drawing a straight line as close as to all the observations. However, the line doesn't have to be straight: this was a choice we made to constrain our model. We could have used, what is called, a \"quadratic function\" (i.e. $y$ = $a$ + $b$*$x$ + $c$*$x$<sup>2</sup>) to obtain a curve. Below we plot the quadratic approximation for the complete (blue) as well as the reduced (orange) data.\n"
   ]
  },
  {
   "cell_type": "code",
   "execution_count": 574,
   "metadata": {},
   "outputs": [
    {
     "data": {
      "text/plain": [
       "<matplotlib.axes._subplots.AxesSubplot at 0x126c287d0>"
      ]
     },
     "execution_count": 574,
     "metadata": {},
     "output_type": "execute_result"
    },
    {
     "data": {
      "image/png": "[encoded data removed]",
      "text/plain": [
       "<Figure size 432x288 with 1 Axes>"
      ]
     },
     "metadata": {},
     "output_type": "display_data"
    }
   ],
   "source": [
    "sns.regplot(x=\"rvc_log\", y=\"Age\", \n",
    "                 data=data_merged,\n",
    "                 scatter_kws={\"s\": 10},\n",
    "                 order=2,ci=False)\n",
    "sns.regplot(x=\"rvc_log\", y=\"Age\", \n",
    "                 data=data_wo_outliers,\n",
    "                 scatter_kws={\"s\": 10},\n",
    "                 order=2,ci=False)"
   ]
  },
  {
   "cell_type": "markdown",
   "metadata": {},
   "source": [
    "## Linear Regression (a closer look)\n",
    "\n",
    "In the preceding section, we introduced linear regression from a more visual, intuitive perspective. We did not discuss how to fit and read the results. \n",
    "Let's, therefore, have a closer look at the statistical nitty-gritty of regression analysis. Running a linear regression model is rather straightforward with the `statsmodels` package in Python. There a just a few things to be careful about. First, we define the response variable, in this case 'Age'."
   ]
  },
  {
   "cell_type": "code",
   "execution_count": 575,
   "metadata": {},
   "outputs": [],
   "source": [
    "Y = data_merged['Age']"
   ]
  },
  {
   "cell_type": "markdown",
   "metadata": {},
   "source": [
    "Next, we select the independent variable from the dataframe."
   ]
  },
  {
   "cell_type": "code",
   "execution_count": 576,
   "metadata": {},
   "outputs": [],
   "source": [
    "X = data_merged['rateable_value_pc']"
   ]
  },
  {
   "cell_type": "markdown",
   "metadata": {},
   "source": [
    "Now there is one small trick to keep in mind. The equation of a simple linear model is:\n",
    "\n",
    "$y = a + b*x$\n",
    "\n",
    "Both $y$ and $x$ are data we observed. We don't know $a$ and $b$, these are the parameters we want to learn from the data. Running a regression will return an estimate for $a$ and $b$ that is most consistent with the observed data. \n",
    "\n",
    "Because we want `statsmodels` to estimate both the intercept $a$ and the slope $b$ we have to add one more column with only a constant to `X`. Luckily this is really straightforwards with the `add_constant` function."
   ]
  },
  {
   "cell_type": "code",
   "execution_count": 577,
   "metadata": {},
   "outputs": [
    {
     "name": "stderr",
     "output_type": "stream",
     "text": [
      "/usr/local/lib/python3.7/site-packages/statsmodels/tsa/tsatools.py:117: FutureWarning: In a future version of pandas all arguments of concat except for the argument 'objs' will be keyword-only\n",
      "  x = pd.concat(x[::order], 1)\n"
     ]
    },
    {
     "data": {
      "text/html": [
       "<div>\n",
       "<style scoped>\n",
       "    .dataframe tbody tr th:only-of-type {\n",
       "        vertical-align: middle;\n",
       "    }\n",
       "\n",
       "    .dataframe tbody tr th {\n",
       "        vertical-align: top;\n",
       "    }\n",
       "\n",
       "    .dataframe thead th {\n",
       "        text-align: right;\n",
       "    }\n",
       "</style>\n",
       "<table border=\"1\" class=\"dataframe\">\n",
       "  <thead>\n",
       "    <tr style=\"text-align: right;\">\n",
       "      <th></th>\n",
       "      <th>const</th>\n",
       "      <th>rateable_value_pc</th>\n",
       "    </tr>\n",
       "  </thead>\n",
       "  <tbody>\n",
       "    <tr>\n",
       "      <th>0</th>\n",
       "      <td>1.0</td>\n",
       "      <td>4.9</td>\n",
       "    </tr>\n",
       "    <tr>\n",
       "      <th>1</th>\n",
       "      <td>1.0</td>\n",
       "      <td>4.9</td>\n",
       "    </tr>\n",
       "    <tr>\n",
       "      <th>2</th>\n",
       "      <td>1.0</td>\n",
       "      <td>4.9</td>\n",
       "    </tr>\n",
       "    <tr>\n",
       "      <th>3</th>\n",
       "      <td>1.0</td>\n",
       "      <td>5.2</td>\n",
       "    </tr>\n",
       "    <tr>\n",
       "      <th>4</th>\n",
       "      <td>1.0</td>\n",
       "      <td>5.2</td>\n",
       "    </tr>\n",
       "  </tbody>\n",
       "</table>\n",
       "</div>"
      ],
      "text/plain": [
       "   const  rateable_value_pc\n",
       "0    1.0                4.9\n",
       "1    1.0                4.9\n",
       "2    1.0                4.9\n",
       "3    1.0                5.2\n",
       "4    1.0                5.2"
      ]
     },
     "execution_count": 577,
     "metadata": {},
     "output_type": "execute_result"
    }
   ],
   "source": [
    "X = sm.add_constant(X)\n",
    "X.head()"
   ]
  },
  {
   "cell_type": "markdown",
   "metadata": {},
   "source": [
    "Now we are ready to fit the model. 'Fitting the model' means finding the optimale fit with the data, in our case we estimate the parameters for a line (intercept and slope) that best capture the variation in our data. Please notice that a line may not necessarily provide \n",
    "\n",
    "We save the fitted model in the `results` variable."
   ]
  },
  {
   "cell_type": "code",
   "execution_count": 578,
   "metadata": {},
   "outputs": [],
   "source": [
    "model = sm.OLS(Y,X) # instantiate model\n",
    "results = model.fit() # fit model"
   ]
  },
  {
   "cell_type": "markdown",
   "metadata": {},
   "source": [
    "Applying the `.summary()` method to the fitted model will print a report."
   ]
  },
  {
   "cell_type": "code",
   "execution_count": 579,
   "metadata": {},
   "outputs": [
    {
     "data": {
      "text/html": [
       "<table class=\"simpletable\">\n",
       "<caption>OLS Regression Results</caption>\n",
       "<tr>\n",
       "  <th>Dep. Variable:</th>           <td>Age</td>       <th>  R-squared:         </th> <td>   0.002</td>\n",
       "</tr>\n",
       "<tr>\n",
       "  <th>Model:</th>                   <td>OLS</td>       <th>  Adj. R-squared:    </th> <td>  -0.009</td>\n",
       "</tr>\n",
       "<tr>\n",
       "  <th>Method:</th>             <td>Least Squares</td>  <th>  F-statistic:       </th> <td>  0.2105</td>\n",
       "</tr>\n",
       "<tr>\n",
       "  <th>Date:</th>             <td>Wed, 02 Feb 2022</td> <th>  Prob (F-statistic):</th>  <td> 0.647</td> \n",
       "</tr>\n",
       "<tr>\n",
       "  <th>Time:</th>                 <td>19:23:05</td>     <th>  Log-Likelihood:    </th> <td> -198.53</td>\n",
       "</tr>\n",
       "<tr>\n",
       "  <th>No. Observations:</th>      <td>    94</td>      <th>  AIC:               </th> <td>   401.1</td>\n",
       "</tr>\n",
       "<tr>\n",
       "  <th>Df Residuals:</th>          <td>    92</td>      <th>  BIC:               </th> <td>   406.1</td>\n",
       "</tr>\n",
       "<tr>\n",
       "  <th>Df Model:</th>              <td>     1</td>      <th>                     </th>     <td> </td>   \n",
       "</tr>\n",
       "<tr>\n",
       "  <th>Covariance Type:</th>      <td>nonrobust</td>    <th>                     </th>     <td> </td>   \n",
       "</tr>\n",
       "</table>\n",
       "<table class=\"simpletable\">\n",
       "<tr>\n",
       "          <td></td>             <th>coef</th>     <th>std err</th>      <th>t</th>      <th>P>|t|</th>  <th>[0.025</th>    <th>0.975]</th>  \n",
       "</tr>\n",
       "<tr>\n",
       "  <th>const</th>             <td>   12.9145</td> <td>    0.307</td> <td>   42.037</td> <td> 0.000</td> <td>   12.304</td> <td>   13.525</td>\n",
       "</tr>\n",
       "<tr>\n",
       "  <th>rateable_value_pc</th> <td>    0.0097</td> <td>    0.021</td> <td>    0.459</td> <td> 0.647</td> <td>   -0.032</td> <td>    0.052</td>\n",
       "</tr>\n",
       "</table>\n",
       "<table class=\"simpletable\">\n",
       "<tr>\n",
       "  <th>Omnibus:</th>       <td> 9.979</td> <th>  Durbin-Watson:     </th> <td>   1.732</td>\n",
       "</tr>\n",
       "<tr>\n",
       "  <th>Prob(Omnibus):</th> <td> 0.007</td> <th>  Jarque-Bera (JB):  </th> <td>  10.252</td>\n",
       "</tr>\n",
       "<tr>\n",
       "  <th>Skew:</th>          <td> 0.662</td> <th>  Prob(JB):          </th> <td> 0.00594</td>\n",
       "</tr>\n",
       "<tr>\n",
       "  <th>Kurtosis:</th>      <td> 3.929</td> <th>  Cond. No.          </th> <td>    21.5</td>\n",
       "</tr>\n",
       "</table><br/><br/>Warnings:<br/>[1] Standard Errors assume that the covariance matrix of the errors is correctly specified."
      ],
      "text/plain": [
       "<class 'statsmodels.iolib.summary.Summary'>\n",
       "\"\"\"\n",
       "                            OLS Regression Results                            \n",
       "==============================================================================\n",
       "Dep. Variable:                    Age   R-squared:                       0.002\n",
       "Model:                            OLS   Adj. R-squared:                 -0.009\n",
       "Method:                 Least Squares   F-statistic:                    0.2105\n",
       "Date:                Wed, 02 Feb 2022   Prob (F-statistic):              0.647\n",
       "Time:                        19:23:05   Log-Likelihood:                -198.53\n",
       "No. Observations:                  94   AIC:                             401.1\n",
       "Df Residuals:                      92   BIC:                             406.1\n",
       "Df Model:                           1                                         \n",
       "Covariance Type:            nonrobust                                         \n",
       "=====================================================================================\n",
       "                        coef    std err          t      P>|t|      [0.025      0.975]\n",
       "-------------------------------------------------------------------------------------\n",
       "const                12.9145      0.307     42.037      0.000      12.304      13.525\n",
       "rateable_value_pc     0.0097      0.021      0.459      0.647      -0.032       0.052\n",
       "==============================================================================\n",
       "Omnibus:                        9.979   Durbin-Watson:                   1.732\n",
       "Prob(Omnibus):                  0.007   Jarque-Bera (JB):               10.252\n",
       "Skew:                           0.662   Prob(JB):                      0.00594\n",
       "Kurtosis:                       3.929   Cond. No.                         21.5\n",
       "==============================================================================\n",
       "\n",
       "Warnings:\n",
       "[1] Standard Errors assume that the covariance matrix of the errors is correctly specified.\n",
       "\"\"\""
      ]
     },
     "execution_count": 579,
     "metadata": {},
     "output_type": "execute_result"
    }
   ],
   "source": [
    "results.summary()"
   ]
  },
  {
   "cell_type": "markdown",
   "metadata": {},
   "source": [
    "The most important parts of this (admittedly extensive) report are located at the top right (`R-squared`) and in the middle (`const` and `rvc_log`). Let's start with the latter. These numbers will figure most prominently in the interpretation of the results.\n"
   ]
  },
  {
   "cell_type": "markdown",
   "metadata": {},
   "source": [
    "- `const 12.9145` means that for a place with zero rateable value, we expect the percentage of those over 50 to be around 12.9. This is the estimate for the intercept, i.e. the value of y (Age) when x (rateable value) = 0. \n",
    "- `rateable_value_pc 0.0097\t` is an estimate of the slope which is the increase in y for one unit change in x. For example: if the rateable value changes from 1 to 2 we expect an increase of 0.0097% (not a lot in other words). \n",
    "- What do the other statistics reported tell us about these coefficients? Continuing with the estimate for `rateable_value_pc` the p-value is around 0.65, substantially higher than the traditional 0.05 threshold. So far there is a weak positive association, it is unlikely to be of any significance. \n",
    "- The confidence intervals range from `-0.032` to `0.052`. Notice that zero is included in the confidence interval. A slope of zero implies a horizontal line, meaning no change in y for x (they are largely independent, x does not influence y at all!). The chance that x and y are not related (in any positive or negative way) is well within the range of possibilities.\n",
    "- p-values and confidence intervals remain rather abstract and difficult to explain, and statisticians tend to doubt their use. In human language, these number tells you how sure the model is about where to draw the line. It is really sure that the intercept is higher than zero, which is not surprising. However, it is less confident about the slope, which can go down (-0.032) as well as up (0.052).\n",
    "\n",
    "What happens if we fit a new model with logged rateable values?"
   ]
  },
  {
   "cell_type": "code",
   "execution_count": 583,
   "metadata": {},
   "outputs": [],
   "source": [
    "Y_2 = data_merged['Age']\n",
    "X_2 = data_merged['rvc_log']\n",
    "X_2 = sm.add_constant(X_2)\n",
    "model_2 = sm.OLS(Y_2,X_2) # instantiate model\n",
    "results_2 = model_2.fit() # fit model"
   ]
  },
  {
   "cell_type": "code",
   "execution_count": 584,
   "metadata": {},
   "outputs": [
    {
     "data": {
      "text/html": [
       "<table class=\"simpletable\">\n",
       "<caption>OLS Regression Results</caption>\n",
       "<tr>\n",
       "  <th>Dep. Variable:</th>           <td>Age</td>       <th>  R-squared:         </th> <td>   0.019</td>\n",
       "</tr>\n",
       "<tr>\n",
       "  <th>Model:</th>                   <td>OLS</td>       <th>  Adj. R-squared:    </th> <td>   0.008</td>\n",
       "</tr>\n",
       "<tr>\n",
       "  <th>Method:</th>             <td>Least Squares</td>  <th>  F-statistic:       </th> <td>   1.791</td>\n",
       "</tr>\n",
       "<tr>\n",
       "  <th>Date:</th>             <td>Wed, 02 Feb 2022</td> <th>  Prob (F-statistic):</th>  <td> 0.184</td> \n",
       "</tr>\n",
       "<tr>\n",
       "  <th>Time:</th>                 <td>19:36:22</td>     <th>  Log-Likelihood:    </th> <td> -197.73</td>\n",
       "</tr>\n",
       "<tr>\n",
       "  <th>No. Observations:</th>      <td>    94</td>      <th>  AIC:               </th> <td>   399.5</td>\n",
       "</tr>\n",
       "<tr>\n",
       "  <th>Df Residuals:</th>          <td>    92</td>      <th>  BIC:               </th> <td>   404.5</td>\n",
       "</tr>\n",
       "<tr>\n",
       "  <th>Df Model:</th>              <td>     1</td>      <th>                     </th>     <td> </td>   \n",
       "</tr>\n",
       "<tr>\n",
       "  <th>Covariance Type:</th>      <td>nonrobust</td>    <th>                     </th>     <td> </td>   \n",
       "</tr>\n",
       "</table>\n",
       "<table class=\"simpletable\">\n",
       "<tr>\n",
       "     <td></td>        <th>coef</th>     <th>std err</th>      <th>t</th>      <th>P>|t|</th>  <th>[0.025</th>    <th>0.975]</th>  \n",
       "</tr>\n",
       "<tr>\n",
       "  <th>const</th>   <td>   11.9857</td> <td>    0.799</td> <td>   15.010</td> <td> 0.000</td> <td>   10.400</td> <td>   13.572</td>\n",
       "</tr>\n",
       "<tr>\n",
       "  <th>rvc_log</th> <td>    0.4809</td> <td>    0.359</td> <td>    1.338</td> <td> 0.184</td> <td>   -0.233</td> <td>    1.194</td>\n",
       "</tr>\n",
       "</table>\n",
       "<table class=\"simpletable\">\n",
       "<tr>\n",
       "  <th>Omnibus:</th>       <td> 7.154</td> <th>  Durbin-Watson:     </th> <td>   1.761</td>\n",
       "</tr>\n",
       "<tr>\n",
       "  <th>Prob(Omnibus):</th> <td> 0.028</td> <th>  Jarque-Bera (JB):  </th> <td>   6.612</td>\n",
       "</tr>\n",
       "<tr>\n",
       "  <th>Skew:</th>          <td> 0.573</td> <th>  Prob(JB):          </th> <td>  0.0367</td>\n",
       "</tr>\n",
       "<tr>\n",
       "  <th>Kurtosis:</th>      <td> 3.614</td> <th>  Cond. No.          </th> <td>    10.2</td>\n",
       "</tr>\n",
       "</table><br/><br/>Warnings:<br/>[1] Standard Errors assume that the covariance matrix of the errors is correctly specified."
      ],
      "text/plain": [
       "<class 'statsmodels.iolib.summary.Summary'>\n",
       "\"\"\"\n",
       "                            OLS Regression Results                            \n",
       "==============================================================================\n",
       "Dep. Variable:                    Age   R-squared:                       0.019\n",
       "Model:                            OLS   Adj. R-squared:                  0.008\n",
       "Method:                 Least Squares   F-statistic:                     1.791\n",
       "Date:                Wed, 02 Feb 2022   Prob (F-statistic):              0.184\n",
       "Time:                        19:36:22   Log-Likelihood:                -197.73\n",
       "No. Observations:                  94   AIC:                             399.5\n",
       "Df Residuals:                      92   BIC:                             404.5\n",
       "Df Model:                           1                                         \n",
       "Covariance Type:            nonrobust                                         \n",
       "==============================================================================\n",
       "                 coef    std err          t      P>|t|      [0.025      0.975]\n",
       "------------------------------------------------------------------------------\n",
       "const         11.9857      0.799     15.010      0.000      10.400      13.572\n",
       "rvc_log        0.4809      0.359      1.338      0.184      -0.233       1.194\n",
       "==============================================================================\n",
       "Omnibus:                        7.154   Durbin-Watson:                   1.761\n",
       "Prob(Omnibus):                  0.028   Jarque-Bera (JB):                6.612\n",
       "Skew:                           0.573   Prob(JB):                       0.0367\n",
       "Kurtosis:                       3.614   Cond. No.                         10.2\n",
       "==============================================================================\n",
       "\n",
       "Warnings:\n",
       "[1] Standard Errors assume that the covariance matrix of the errors is correctly specified.\n",
       "\"\"\""
      ]
     },
     "execution_count": 584,
     "metadata": {},
     "output_type": "execute_result"
    }
   ],
   "source": [
    "results_2.summary()"
   ]
  },
  {
   "cell_type": "markdown",
   "metadata": {},
   "source": [
    "Using the log-scale changes coefficients quite a lot (especially for the rateable value). To coefficient is higher (we expect 0.5% change in y for a unit change in x). Nonetheless, the p-value suggests that this positive association may still be the result of random chance. The model is now more certain the relation is positive but still includes zero within the 95% confidence interval. \n",
    "\n",
    "Place notice that the scale of the x-axis is different now. For each change in x, the logged rateable value, we expect to add half a percentage to y. "
   ]
  },
  {
   "cell_type": "code",
   "execution_count": 585,
   "metadata": {},
   "outputs": [
    {
     "data": {
      "text/plain": [
       "(7.38905609893065, 20.085536923187668, 54.598150033144236)"
      ]
     },
     "execution_count": 585,
     "metadata": {},
     "output_type": "execute_result"
    }
   ],
   "source": [
    "np.exp(2), np.exp(3), np.exp(4)"
   ]
  },
  {
   "cell_type": "markdown",
   "metadata": {},
   "source": [
    "This implies that the model thinks that change in age is the same when going from a place with rateable value 7 to 20 as is transitioning from 20 to 54."
   ]
  },
  {
   "cell_type": "markdown",
   "metadata": {},
   "source": [
    "What all the statistics for the `const` and `rvc_log` are more formal ways for conveying where the model thinks the line should be.\n",
    "\n",
    "We can make these results more intuitive using a \"bootstrap\" method. We construct the mean and confidence intervals repeatin the following steps, let's say 1000 times:\n",
    "- sample a few observations from the data (50% in each iterations)\n",
    "- fit the model and record the values for the intercept and the slope\n",
    "- plot the line using these value or collect them and compute the 2.5 and 97.5 percentile range."
   ]
  },
  {
   "cell_type": "code",
   "execution_count": 586,
   "metadata": {},
   "outputs": [
    {
     "data": {
      "image/png": "[encoded data removed]",
      "text/plain": [
       "<Figure size 360x360 with 1 Axes>"
      ]
     },
     "metadata": {},
     "output_type": "display_data"
    }
   ],
   "source": [
    "#data_merged.sort_values('re',inplace=True)\n",
    "fig, ax = plt.subplots(figsize=(5, 5))\n",
    "ax.scatter('rvc_log', 'Age',data=data_merged)\n",
    "beta = []\n",
    "\n",
    "for _ in range(1000):\n",
    "    dms = data_merged.sample(frac=.66)\n",
    "    Y_ = dms['Age']\n",
    "    X_ = dms['rvc_log']\n",
    "    X_ = sm.add_constant(X_)\n",
    "    model_ = sm.OLS(Y_,X_)\n",
    "    results_ = model_.fit() \n",
    "    beta.append(results_.params['rvc_log'])\n",
    "\n",
    "    ax.plot(data_merged['rvc_log'], results_.params['const'] + (data_merged['rvc_log']*results_.params['rvc_log']) , '-g',alpha=.5)\n"
   ]
  },
  {
   "cell_type": "code",
   "execution_count": 398,
   "metadata": {},
   "outputs": [
    {
     "data": {
      "text/plain": [
       "0.025    0.001463\n",
       "0.975    0.017826\n",
       "dtype: float64"
      ]
     },
     "execution_count": 398,
     "metadata": {},
     "output_type": "execute_result"
    },
    {
     "data": {
      "image/png": "[encoded data removed]",
      "text/plain": [
       "<Figure size 432x288 with 1 Axes>"
      ]
     },
     "metadata": {},
     "output_type": "display_data"
    }
   ],
   "source": [
    "pd.Series(beta).plot(kind='density')\n",
    "pd.Series(beta).quantile([.025,.975])"
   ]
  },
  {
   "cell_type": "markdown",
   "metadata": {},
   "source": [
    "The values are not exactly the same because we have a small sample and only ran a few iterations. However it gives more intuitive way of understanding of what the p-values and confidence intervals mean. Instead of bootstrapping you can also compute the formula-based intervals with `statsmodels`."
   ]
  },
  {
   "cell_type": "code",
   "execution_count": 399,
   "metadata": {},
   "outputs": [],
   "source": [
    "pred = results_2.get_prediction(X_2)\n",
    "df_pred = pd.DataFrame(pred.conf_int())\n",
    "df_pred['mean'] = pred.predicted_mean"
   ]
  },
  {
   "cell_type": "code",
   "execution_count": 400,
   "metadata": {},
   "outputs": [
    {
     "data": {
      "text/plain": [
       "[<matplotlib.lines.Line2D at 0x127562590>]"
      ]
     },
     "execution_count": 400,
     "metadata": {},
     "output_type": "execute_result"
    },
    {
     "data": {
      "image/png": "[encoded data removed]",
      "text/plain": [
       "<Figure size 360x360 with 1 Axes>"
      ]
     },
     "metadata": {},
     "output_type": "display_data"
    }
   ],
   "source": [
    "fig, ax = plt.subplots(figsize=(5, 5))\n",
    "ax.scatter(data_merged['rvc_log'], 'Age',data=data_merged,alpha=.5)\n",
    "ax.plot(data_merged['rvc_log'], df_pred['mean']  , '-ro',alpha=.75)\n",
    "ax.plot(data_merged['rvc_log'], df_pred[0]  , '-g',alpha=.75)\n",
    "ax.plot(data_merged['rvc_log'], df_pred[1]  , '-g',alpha=.75)"
   ]
  },
  {
   "cell_type": "markdown",
   "metadata": {},
   "source": [
    "Please notice that coeficients and their confidence intervals are estimates of the line not the actual data. These are, as you can see, well outside the range given by the predicted values and their confidence intervals."
   ]
  },
  {
   "cell_type": "markdown",
   "metadata": {},
   "source": [
    "The `.summary()` method provides other statistics that help you understanding how well the model performs."
   ]
  },
  {
   "cell_type": "code",
   "execution_count": 401,
   "metadata": {},
   "outputs": [
    {
     "data": {
      "text/html": [
       "<table class=\"simpletable\">\n",
       "<caption>OLS Regression Results</caption>\n",
       "<tr>\n",
       "  <th>Dep. Variable:</th>           <td>Age</td>       <th>  R-squared:         </th> <td>   0.038</td>\n",
       "</tr>\n",
       "<tr>\n",
       "  <th>Model:</th>                   <td>OLS</td>       <th>  Adj. R-squared:    </th> <td>   0.028</td>\n",
       "</tr>\n",
       "<tr>\n",
       "  <th>Method:</th>             <td>Least Squares</td>  <th>  F-statistic:       </th> <td>   3.633</td>\n",
       "</tr>\n",
       "<tr>\n",
       "  <th>Date:</th>             <td>Wed, 02 Feb 2022</td> <th>  Prob (F-statistic):</th>  <td>0.0598</td> \n",
       "</tr>\n",
       "<tr>\n",
       "  <th>Time:</th>                 <td>16:58:33</td>     <th>  Log-Likelihood:    </th> <td>  217.75</td>\n",
       "</tr>\n",
       "<tr>\n",
       "  <th>No. Observations:</th>      <td>    94</td>      <th>  AIC:               </th> <td>  -431.5</td>\n",
       "</tr>\n",
       "<tr>\n",
       "  <th>Df Residuals:</th>          <td>    92</td>      <th>  BIC:               </th> <td>  -426.4</td>\n",
       "</tr>\n",
       "<tr>\n",
       "  <th>Df Model:</th>              <td>     1</td>      <th>                     </th>     <td> </td>   \n",
       "</tr>\n",
       "<tr>\n",
       "  <th>Covariance Type:</th>      <td>nonrobust</td>    <th>                     </th>     <td> </td>   \n",
       "</tr>\n",
       "</table>\n",
       "<table class=\"simpletable\">\n",
       "<tr>\n",
       "     <td></td>        <th>coef</th>     <th>std err</th>      <th>t</th>      <th>P>|t|</th>  <th>[0.025</th>    <th>0.975]</th>  \n",
       "</tr>\n",
       "<tr>\n",
       "  <th>const</th>   <td>    0.2215</td> <td>    0.010</td> <td>   23.052</td> <td> 0.000</td> <td>    0.202</td> <td>    0.241</td>\n",
       "</tr>\n",
       "<tr>\n",
       "  <th>rvc_log</th> <td>    0.0082</td> <td>    0.004</td> <td>    1.906</td> <td> 0.060</td> <td>   -0.000</td> <td>    0.017</td>\n",
       "</tr>\n",
       "</table>\n",
       "<table class=\"simpletable\">\n",
       "<tr>\n",
       "  <th>Omnibus:</th>       <td> 6.067</td> <th>  Durbin-Watson:     </th> <td>   1.626</td>\n",
       "</tr>\n",
       "<tr>\n",
       "  <th>Prob(Omnibus):</th> <td> 0.048</td> <th>  Jarque-Bera (JB):  </th> <td>   5.423</td>\n",
       "</tr>\n",
       "<tr>\n",
       "  <th>Skew:</th>          <td> 0.547</td> <th>  Prob(JB):          </th> <td>  0.0664</td>\n",
       "</tr>\n",
       "<tr>\n",
       "  <th>Kurtosis:</th>      <td> 3.432</td> <th>  Cond. No.          </th> <td>    10.2</td>\n",
       "</tr>\n",
       "</table><br/><br/>Warnings:<br/>[1] Standard Errors assume that the covariance matrix of the errors is correctly specified."
      ],
      "text/plain": [
       "<class 'statsmodels.iolib.summary.Summary'>\n",
       "\"\"\"\n",
       "                            OLS Regression Results                            \n",
       "==============================================================================\n",
       "Dep. Variable:                    Age   R-squared:                       0.038\n",
       "Model:                            OLS   Adj. R-squared:                  0.028\n",
       "Method:                 Least Squares   F-statistic:                     3.633\n",
       "Date:                Wed, 02 Feb 2022   Prob (F-statistic):             0.0598\n",
       "Time:                        16:58:33   Log-Likelihood:                 217.75\n",
       "No. Observations:                  94   AIC:                            -431.5\n",
       "Df Residuals:                      92   BIC:                            -426.4\n",
       "Df Model:                           1                                         \n",
       "Covariance Type:            nonrobust                                         \n",
       "==============================================================================\n",
       "                 coef    std err          t      P>|t|      [0.025      0.975]\n",
       "------------------------------------------------------------------------------\n",
       "const          0.2215      0.010     23.052      0.000       0.202       0.241\n",
       "rvc_log        0.0082      0.004      1.906      0.060      -0.000       0.017\n",
       "==============================================================================\n",
       "Omnibus:                        6.067   Durbin-Watson:                   1.626\n",
       "Prob(Omnibus):                  0.048   Jarque-Bera (JB):                5.423\n",
       "Skew:                           0.547   Prob(JB):                       0.0664\n",
       "Kurtosis:                       3.432   Cond. No.                         10.2\n",
       "==============================================================================\n",
       "\n",
       "Warnings:\n",
       "[1] Standard Errors assume that the covariance matrix of the errors is correctly specified.\n",
       "\"\"\""
      ]
     },
     "execution_count": 401,
     "metadata": {},
     "output_type": "execute_result"
    }
   ],
   "source": [
    "results_2.summary()"
   ]
  },
  {
   "cell_type": "markdown",
   "metadata": {},
   "source": [
    "`RMSE`"
   ]
  },
  {
   "cell_type": "code",
   "execution_count": 402,
   "metadata": {},
   "outputs": [],
   "source": [
    "pred = results_2.get_prediction(X_2)\n",
    "Y_hat = pred.predicted_mean \n",
    "var_pred = [(y - y_hat)**2 for y,y_hat in zip(Y,Y_hat)] "
   ]
  },
  {
   "cell_type": "code",
   "execution_count": 403,
   "metadata": {},
   "outputs": [
    {
     "data": {
      "text/plain": [
       "array([0.23462327, 0.23462327, 0.23462327, 0.23511298, 0.23511298,\n",
       "       0.23511298, 0.23511298, 0.23586958, 0.23586958, 0.23586958,\n",
       "       0.23586958, 0.23586958, 0.23586958, 0.23586958, 0.23586958,\n",
       "       0.23586958, 0.23586958, 0.23586958, 0.23586958, 0.23586958,\n",
       "       0.23642851, 0.23642851, 0.23642851, 0.23642851, 0.23642851,\n",
       "       0.23669438, 0.23669438, 0.23669438, 0.23669438, 0.23669438,\n",
       "       0.23669438, 0.23669438, 0.23682416, 0.23682416, 0.23682416,\n",
       "       0.23682416, 0.23695194, 0.23695194, 0.23695194, 0.23707776,\n",
       "       0.23707776, 0.23707776, 0.23707776, 0.23720169, 0.23720169,\n",
       "       0.23720169, 0.23720169, 0.23720169, 0.23720169, 0.23720169,\n",
       "       0.23720169, 0.23744409, 0.23744409, 0.23744409, 0.23744409,\n",
       "       0.23744409, 0.23744409, 0.23744409, 0.2382404 , 0.2382404 ,\n",
       "       0.2382404 , 0.2382404 , 0.2382404 , 0.23886661, 0.23886661,\n",
       "       0.23886661, 0.23886661, 0.23935439, 0.23935439, 0.23935439,\n",
       "       0.23935439, 0.23935439, 0.23935439, 0.24105965, 0.24105965,\n",
       "       0.24105965, 0.24285226, 0.24350714, 0.24350714, 0.24367706,\n",
       "       0.24367706, 0.24743753, 0.24743753, 0.24743753, 0.24743753,\n",
       "       0.24743753, 0.25008774, 0.25008774, 0.25008774, 0.25008774,\n",
       "       0.25008774, 0.25008774, 0.25487433, 0.25487433])"
      ]
     },
     "execution_count": 403,
     "metadata": {},
     "output_type": "execute_result"
    }
   ],
   "source": [
    "Y_hat"
   ]
  },
  {
   "cell_type": "markdown",
   "metadata": {},
   "source": [
    "`R-squared`"
   ]
  },
  {
   "cell_type": "code",
   "execution_count": 404,
   "metadata": {},
   "outputs": [
    {
     "data": {
      "text/plain": [
       "0.02386204589167519"
      ]
     },
     "execution_count": 404,
     "metadata": {},
     "output_type": "execute_result"
    }
   ],
   "source": [
    "np.sqrt(np.sum(var_pred) / len(Y))"
   ]
  },
  {
   "cell_type": "code",
   "execution_count": 405,
   "metadata": {},
   "outputs": [],
   "source": [
    "var_total = [(y - np.mean(Y))**2 for y,y_hat in zip(Y,Y_hat)] "
   ]
  },
  {
   "cell_type": "code",
   "execution_count": 406,
   "metadata": {},
   "outputs": [
    {
     "data": {
      "text/plain": [
       "0.038"
      ]
     },
     "execution_count": 406,
     "metadata": {},
     "output_type": "execute_result"
    }
   ],
   "source": [
    "round(1 - (sum(var_pred)/sum(var_total)),3)"
   ]
  },
  {
   "cell_type": "code",
   "execution_count": 407,
   "metadata": {},
   "outputs": [
    {
     "data": {
      "text/plain": [
       "Text(0, 0.5, 'standardized residuals')"
      ]
     },
     "execution_count": 407,
     "metadata": {},
     "output_type": "execute_result"
    },
    {
     "data": {
      "image/png": "[encoded data removed]",
      "text/plain": [
       "<Figure size 360x360 with 1 Axes>"
      ]
     },
     "metadata": {},
     "output_type": "display_data"
    }
   ],
   "source": [
    "from statsmodels.stats.outliers_influence import OLSInfluence\n",
    "influence = OLSInfluence(results)\n",
    "fig, ax = plt.subplots(figsize=(5, 5))\n",
    "ax.axhline(-2.5, linestyle='--', color='C1')\n",
    "ax.axhline(2.5, linestyle='--', color='C1')\n",
    "ax.scatter(influence.cooks_distance[0], influence.influence,\n",
    "s=1000 * np.sqrt(influence.cooks_distance[0]),\n",
    "alpha=0.5)\n",
    "ax.set_xlabel('influence')\n",
    "ax.set_ylabel('standardized residuals')"
   ]
  },
  {
   "cell_type": "code",
   "execution_count": 408,
   "metadata": {},
   "outputs": [
    {
     "data": {
      "text/plain": [
       "RegDist               Westminster\n",
       "SubDist              St Anne Soho\n",
       "Age                      0.207171\n",
       "Sex                          2761\n",
       "borough               Westminster\n",
       "rateable_value_pc            57.2\n",
       "rvc_log                  4.046554\n",
       "Name: 88, dtype: object"
      ]
     },
     "execution_count": 408,
     "metadata": {},
     "output_type": "execute_result"
    }
   ],
   "source": [
    "data_merged.iloc[np.argmax(influence.hat_diag_factor)]"
   ]
  },
  {
   "cell_type": "code",
   "execution_count": 409,
   "metadata": {},
   "outputs": [],
   "source": [
    "Y_woo = data_wo_outliers['Age']\n",
    "x_woo = data_wo_outliers['rvc_log']\n",
    "#X_woo = np.column_stack((x_woo, np.log(data_wo_outliers['index'])))\n",
    "X_woo = sm.add_constant(x_woo)\n",
    "model_woo = sm.OLS(Y_woo,X_woo)\n",
    "results_woo = model_woo.fit()"
   ]
  },
  {
   "cell_type": "code",
   "execution_count": 410,
   "metadata": {},
   "outputs": [
    {
     "data": {
      "text/html": [
       "<table class=\"simpletable\">\n",
       "<caption>OLS Regression Results</caption>\n",
       "<tr>\n",
       "  <th>Dep. Variable:</th>           <td>Age</td>       <th>  R-squared:         </th> <td>   0.186</td>\n",
       "</tr>\n",
       "<tr>\n",
       "  <th>Model:</th>                   <td>OLS</td>       <th>  Adj. R-squared:    </th> <td>   0.176</td>\n",
       "</tr>\n",
       "<tr>\n",
       "  <th>Method:</th>             <td>Least Squares</td>  <th>  F-statistic:       </th> <td>   18.05</td>\n",
       "</tr>\n",
       "<tr>\n",
       "  <th>Date:</th>             <td>Wed, 02 Feb 2022</td> <th>  Prob (F-statistic):</th> <td>5.84e-05</td>\n",
       "</tr>\n",
       "<tr>\n",
       "  <th>Time:</th>                 <td>16:58:43</td>     <th>  Log-Likelihood:    </th> <td>  198.91</td>\n",
       "</tr>\n",
       "<tr>\n",
       "  <th>No. Observations:</th>      <td>    81</td>      <th>  AIC:               </th> <td>  -393.8</td>\n",
       "</tr>\n",
       "<tr>\n",
       "  <th>Df Residuals:</th>          <td>    79</td>      <th>  BIC:               </th> <td>  -389.0</td>\n",
       "</tr>\n",
       "<tr>\n",
       "  <th>Df Model:</th>              <td>     1</td>      <th>                     </th>     <td> </td>   \n",
       "</tr>\n",
       "<tr>\n",
       "  <th>Covariance Type:</th>      <td>nonrobust</td>    <th>                     </th>     <td> </td>   \n",
       "</tr>\n",
       "</table>\n",
       "<table class=\"simpletable\">\n",
       "<tr>\n",
       "     <td></td>        <th>coef</th>     <th>std err</th>      <th>t</th>      <th>P>|t|</th>  <th>[0.025</th>    <th>0.975]</th>  \n",
       "</tr>\n",
       "<tr>\n",
       "  <th>const</th>   <td>    0.1610</td> <td>    0.018</td> <td>    8.790</td> <td> 0.000</td> <td>    0.125</td> <td>    0.197</td>\n",
       "</tr>\n",
       "<tr>\n",
       "  <th>rvc_log</th> <td>    0.0398</td> <td>    0.009</td> <td>    4.248</td> <td> 0.000</td> <td>    0.021</td> <td>    0.058</td>\n",
       "</tr>\n",
       "</table>\n",
       "<table class=\"simpletable\">\n",
       "<tr>\n",
       "  <th>Omnibus:</th>       <td> 2.200</td> <th>  Durbin-Watson:     </th> <td>   2.099</td>\n",
       "</tr>\n",
       "<tr>\n",
       "  <th>Prob(Omnibus):</th> <td> 0.333</td> <th>  Jarque-Bera (JB):  </th> <td>   1.915</td>\n",
       "</tr>\n",
       "<tr>\n",
       "  <th>Skew:</th>          <td> 0.377</td> <th>  Prob(JB):          </th> <td>   0.384</td>\n",
       "</tr>\n",
       "<tr>\n",
       "  <th>Kurtosis:</th>      <td> 2.977</td> <th>  Cond. No.          </th> <td>    19.3</td>\n",
       "</tr>\n",
       "</table><br/><br/>Warnings:<br/>[1] Standard Errors assume that the covariance matrix of the errors is correctly specified."
      ],
      "text/plain": [
       "<class 'statsmodels.iolib.summary.Summary'>\n",
       "\"\"\"\n",
       "                            OLS Regression Results                            \n",
       "==============================================================================\n",
       "Dep. Variable:                    Age   R-squared:                       0.186\n",
       "Model:                            OLS   Adj. R-squared:                  0.176\n",
       "Method:                 Least Squares   F-statistic:                     18.05\n",
       "Date:                Wed, 02 Feb 2022   Prob (F-statistic):           5.84e-05\n",
       "Time:                        16:58:43   Log-Likelihood:                 198.91\n",
       "No. Observations:                  81   AIC:                            -393.8\n",
       "Df Residuals:                      79   BIC:                            -389.0\n",
       "Df Model:                           1                                         \n",
       "Covariance Type:            nonrobust                                         \n",
       "==============================================================================\n",
       "                 coef    std err          t      P>|t|      [0.025      0.975]\n",
       "------------------------------------------------------------------------------\n",
       "const          0.1610      0.018      8.790      0.000       0.125       0.197\n",
       "rvc_log        0.0398      0.009      4.248      0.000       0.021       0.058\n",
       "==============================================================================\n",
       "Omnibus:                        2.200   Durbin-Watson:                   2.099\n",
       "Prob(Omnibus):                  0.333   Jarque-Bera (JB):                1.915\n",
       "Skew:                           0.377   Prob(JB):                        0.384\n",
       "Kurtosis:                       2.977   Cond. No.                         19.3\n",
       "==============================================================================\n",
       "\n",
       "Warnings:\n",
       "[1] Standard Errors assume that the covariance matrix of the errors is correctly specified.\n",
       "\"\"\""
      ]
     },
     "execution_count": 410,
     "metadata": {},
     "output_type": "execute_result"
    }
   ],
   "source": [
    "results_woo.summary()"
   ]
  },
  {
   "cell_type": "code",
   "execution_count": 411,
   "metadata": {},
   "outputs": [
    {
     "name": "stderr",
     "output_type": "stream",
     "text": [
      "/usr/local/lib/python3.7/site-packages/pandas/util/_decorators.py:311: SettingWithCopyWarning: \n",
      "A value is trying to be set on a copy of a slice from a DataFrame\n",
      "\n",
      "See the caveats in the documentation: https://pandas.pydata.org/pandas-docs/stable/user_guide/indexing.html#returning-a-view-versus-a-copy\n",
      "  return func(*args, **kwargs)\n"
     ]
    },
    {
     "data": {
      "image/png": "[encoded data removed]",
      "text/plain": [
       "<Figure size 360x360 with 1 Axes>"
      ]
     },
     "metadata": {},
     "output_type": "display_data"
    }
   ],
   "source": [
    "data_wo_outliers.sort_values('rvc_log',inplace=True)\n",
    "fig, ax = plt.subplots(figsize=(5, 5))\n",
    "ax.scatter('rvc_log', 'Age',data=data_wo_outliers)\n",
    "beta = []\n",
    "for _ in range(100):\n",
    "    dms = data_wo_outliers.sample(frac=.5)\n",
    "    Y = dms['Age']\n",
    "    X = dms['rvc_log']\n",
    "    X = sm.add_constant(X)\n",
    "    model = sm.OLS(Y,X)\n",
    "    results = model.fit() \n",
    "    beta.append(results.params['rvc_log'])\n",
    "\n",
    "    ax.plot(data_wo_outliers['rvc_log'], results.params['const'] + (data_wo_outliers['rvc_log']*results.params['rvc_log']) , '-g',alpha=.5)\n"
   ]
  },
  {
   "cell_type": "code",
   "execution_count": 412,
   "metadata": {},
   "outputs": [
    {
     "data": {
      "text/plain": [
       "0.025    0.015885\n",
       "0.975    0.057765\n",
       "dtype: float64"
      ]
     },
     "execution_count": 412,
     "metadata": {},
     "output_type": "execute_result"
    },
    {
     "data": {
      "image/png": "[encoded data removed]",
      "text/plain": [
       "<Figure size 432x288 with 1 Axes>"
      ]
     },
     "metadata": {},
     "output_type": "display_data"
    }
   ],
   "source": [
    "pd.Series(beta).plot(kind='hist',bins=25)\n",
    "pd.Series(beta).quantile([.025,0.975])"
   ]
  },
  {
   "cell_type": "code",
   "execution_count": 413,
   "metadata": {},
   "outputs": [
    {
     "ename": "NameError",
     "evalue": "name 'wo_outliers' is not defined",
     "output_type": "error",
     "traceback": [
      "\u001b[0;31m---------------------------------------------------------------------------\u001b[0m",
      "\u001b[0;31mNameError\u001b[0m                                 Traceback (most recent call last)",
      "\u001b[0;32m/var/folders/2_/fcdvqwzs6j75cfr97nggzfn499sjqf/T/ipykernel_47699/2021059115.py\u001b[0m in \u001b[0;36m<module>\u001b[0;34m\u001b[0m\n\u001b[0;32m----> 1\u001b[0;31m \u001b[0mwo_outliers\u001b[0m\u001b[0;34m[\u001b[0m\u001b[0;34m'predictions'\u001b[0m\u001b[0;34m]\u001b[0m \u001b[0;34m=\u001b[0m \u001b[0mresults\u001b[0m\u001b[0;34m.\u001b[0m\u001b[0mpredict\u001b[0m\u001b[0;34m(\u001b[0m\u001b[0mX\u001b[0m\u001b[0;34m)\u001b[0m\u001b[0;34m\u001b[0m\u001b[0;34m\u001b[0m\u001b[0m\n\u001b[0m",
      "\u001b[0;31mNameError\u001b[0m: name 'wo_outliers' is not defined"
     ]
    }
   ],
   "source": [
    "wo_outliers['predictions'] = results.predict(X)"
   ]
  },
  {
   "cell_type": "code",
   "execution_count": 301,
   "metadata": {},
   "outputs": [
    {
     "data": {
      "text/html": [
       "<div>\n",
       "<style scoped>\n",
       "    .dataframe tbody tr th:only-of-type {\n",
       "        vertical-align: middle;\n",
       "    }\n",
       "\n",
       "    .dataframe tbody tr th {\n",
       "        vertical-align: top;\n",
       "    }\n",
       "\n",
       "    .dataframe thead th {\n",
       "        text-align: right;\n",
       "    }\n",
       "</style>\n",
       "<table border=\"1\" class=\"dataframe\">\n",
       "  <thead>\n",
       "    <tr style=\"text-align: right;\">\n",
       "      <th></th>\n",
       "      <th>Age</th>\n",
       "      <th>Sex</th>\n",
       "      <th>borough</th>\n",
       "      <th>rateable_value_pc</th>\n",
       "      <th>rvc_log</th>\n",
       "    </tr>\n",
       "  </thead>\n",
       "  <tbody>\n",
       "    <tr>\n",
       "      <th>2</th>\n",
       "      <td>0.211503</td>\n",
       "      <td>31593</td>\n",
       "      <td>Bethnal Green</td>\n",
       "      <td>4.9</td>\n",
       "      <td>1.589235</td>\n",
       "    </tr>\n",
       "    <tr>\n",
       "      <th>3</th>\n",
       "      <td>0.238122</td>\n",
       "      <td>63060</td>\n",
       "      <td>Camberwell</td>\n",
       "      <td>5.2</td>\n",
       "      <td>1.648659</td>\n",
       "    </tr>\n",
       "    <tr>\n",
       "      <th>18</th>\n",
       "      <td>0.228953</td>\n",
       "      <td>40838</td>\n",
       "      <td>Poplar</td>\n",
       "      <td>5.7</td>\n",
       "      <td>1.740466</td>\n",
       "    </tr>\n",
       "    <tr>\n",
       "      <th>13</th>\n",
       "      <td>0.247146</td>\n",
       "      <td>81826</td>\n",
       "      <td>Islington</td>\n",
       "      <td>5.7</td>\n",
       "      <td>1.740466</td>\n",
       "    </tr>\n",
       "    <tr>\n",
       "      <th>9</th>\n",
       "      <td>0.244630</td>\n",
       "      <td>65687</td>\n",
       "      <td>Hackney</td>\n",
       "      <td>5.7</td>\n",
       "      <td>1.740466</td>\n",
       "    </tr>\n",
       "    <tr>\n",
       "      <th>7</th>\n",
       "      <td>0.228951</td>\n",
       "      <td>60489</td>\n",
       "      <td>Fulham</td>\n",
       "      <td>6.1</td>\n",
       "      <td>1.808289</td>\n",
       "    </tr>\n",
       "    <tr>\n",
       "      <th>15</th>\n",
       "      <td>0.248357</td>\n",
       "      <td>73511</td>\n",
       "      <td>Lambeth</td>\n",
       "      <td>6.3</td>\n",
       "      <td>1.840550</td>\n",
       "    </tr>\n",
       "    <tr>\n",
       "      <th>16</th>\n",
       "      <td>0.244089</td>\n",
       "      <td>32902</td>\n",
       "      <td>Lewisham</td>\n",
       "      <td>6.4</td>\n",
       "      <td>1.856298</td>\n",
       "    </tr>\n",
       "    <tr>\n",
       "      <th>23</th>\n",
       "      <td>0.216360</td>\n",
       "      <td>14083</td>\n",
       "      <td>Stepney</td>\n",
       "      <td>6.5</td>\n",
       "      <td>1.871802</td>\n",
       "    </tr>\n",
       "    <tr>\n",
       "      <th>27</th>\n",
       "      <td>0.212855</td>\n",
       "      <td>31909</td>\n",
       "      <td>Woolwich</td>\n",
       "      <td>6.6</td>\n",
       "      <td>1.887070</td>\n",
       "    </tr>\n",
       "    <tr>\n",
       "      <th>22</th>\n",
       "      <td>0.231812</td>\n",
       "      <td>50213</td>\n",
       "      <td>Southwark</td>\n",
       "      <td>6.7</td>\n",
       "      <td>1.902108</td>\n",
       "    </tr>\n",
       "    <tr>\n",
       "      <th>25</th>\n",
       "      <td>0.235692</td>\n",
       "      <td>98217</td>\n",
       "      <td>Wandsworth</td>\n",
       "      <td>6.9</td>\n",
       "      <td>1.931521</td>\n",
       "    </tr>\n",
       "    <tr>\n",
       "      <th>8</th>\n",
       "      <td>0.230304</td>\n",
       "      <td>44832</td>\n",
       "      <td>Greenwich</td>\n",
       "      <td>7.6</td>\n",
       "      <td>2.028148</td>\n",
       "    </tr>\n",
       "    <tr>\n",
       "      <th>21</th>\n",
       "      <td>0.234008</td>\n",
       "      <td>28687</td>\n",
       "      <td>Shoreditch</td>\n",
       "      <td>8.2</td>\n",
       "      <td>2.104134</td>\n",
       "    </tr>\n",
       "    <tr>\n",
       "      <th>20</th>\n",
       "      <td>0.249577</td>\n",
       "      <td>57285</td>\n",
       "      <td>Pancras</td>\n",
       "      <td>8.7</td>\n",
       "      <td>2.163323</td>\n",
       "    </tr>\n",
       "    <tr>\n",
       "      <th>17</th>\n",
       "      <td>0.260288</td>\n",
       "      <td>35042</td>\n",
       "      <td>Paddington</td>\n",
       "      <td>10.7</td>\n",
       "      <td>2.370244</td>\n",
       "    </tr>\n",
       "    <tr>\n",
       "      <th>11</th>\n",
       "      <td>0.244569</td>\n",
       "      <td>20117</td>\n",
       "      <td>Hampstead</td>\n",
       "      <td>13.3</td>\n",
       "      <td>2.587764</td>\n",
       "    </tr>\n",
       "    <tr>\n",
       "      <th>14</th>\n",
       "      <td>0.269999</td>\n",
       "      <td>43115</td>\n",
       "      <td>Kensington</td>\n",
       "      <td>14.4</td>\n",
       "      <td>2.667228</td>\n",
       "    </tr>\n",
       "    <tr>\n",
       "      <th>4</th>\n",
       "      <td>0.288450</td>\n",
       "      <td>18329</td>\n",
       "      <td>Chelsea</td>\n",
       "      <td>14.7</td>\n",
       "      <td>2.687847</td>\n",
       "    </tr>\n",
       "    <tr>\n",
       "      <th>19</th>\n",
       "      <td>0.263241</td>\n",
       "      <td>32776</td>\n",
       "      <td>Marylebone</td>\n",
       "      <td>23.2</td>\n",
       "      <td>3.144152</td>\n",
       "    </tr>\n",
       "    <tr>\n",
       "      <th>12</th>\n",
       "      <td>0.239240</td>\n",
       "      <td>31320</td>\n",
       "      <td>Holborn</td>\n",
       "      <td>32.0</td>\n",
       "      <td>3.465736</td>\n",
       "    </tr>\n",
       "    <tr>\n",
       "      <th>26</th>\n",
       "      <td>0.230176</td>\n",
       "      <td>8033</td>\n",
       "      <td>Westminster</td>\n",
       "      <td>57.2</td>\n",
       "      <td>4.046554</td>\n",
       "    </tr>\n",
       "  </tbody>\n",
       "</table>\n",
       "</div>"
      ],
      "text/plain": [
       "         Age    Sex        borough  rateable_value_pc   rvc_log\n",
       "2   0.211503  31593  Bethnal Green                4.9  1.589235\n",
       "3   0.238122  63060     Camberwell                5.2  1.648659\n",
       "18  0.228953  40838         Poplar                5.7  1.740466\n",
       "13  0.247146  81826      Islington                5.7  1.740466\n",
       "9   0.244630  65687        Hackney                5.7  1.740466\n",
       "7   0.228951  60489         Fulham                6.1  1.808289\n",
       "15  0.248357  73511        Lambeth                6.3  1.840550\n",
       "16  0.244089  32902       Lewisham                6.4  1.856298\n",
       "23  0.216360  14083        Stepney                6.5  1.871802\n",
       "27  0.212855  31909       Woolwich                6.6  1.887070\n",
       "22  0.231812  50213      Southwark                6.7  1.902108\n",
       "25  0.235692  98217     Wandsworth                6.9  1.931521\n",
       "8   0.230304  44832      Greenwich                7.6  2.028148\n",
       "21  0.234008  28687     Shoreditch                8.2  2.104134\n",
       "20  0.249577  57285        Pancras                8.7  2.163323\n",
       "17  0.260288  35042     Paddington               10.7  2.370244\n",
       "11  0.244569  20117      Hampstead               13.3  2.587764\n",
       "14  0.269999  43115     Kensington               14.4  2.667228\n",
       "4   0.288450  18329        Chelsea               14.7  2.687847\n",
       "19  0.263241  32776     Marylebone               23.2  3.144152\n",
       "12  0.239240  31320        Holborn               32.0  3.465736\n",
       "26  0.230176   8033    Westminster               57.2  4.046554"
      ]
     },
     "execution_count": 301,
     "metadata": {},
     "output_type": "execute_result"
    }
   ],
   "source": [
    "data_merged"
   ]
  },
  {
   "cell_type": "code",
   "execution_count": 302,
   "metadata": {},
   "outputs": [],
   "source": [
    "Y_mr = data_merged['Age']\n",
    "x_mr = data_merged['rvc_log']\n",
    "X_mr = np.column_stack((x_mr, np.log(data_merged['Sex'])))\n",
    "X_mr = sm.add_constant(X_mr)\n",
    "model_mr = sm.OLS(Y_mr,X_mr)\n",
    "results_mr = model_mr.fit()"
   ]
  },
  {
   "cell_type": "code",
   "execution_count": 303,
   "metadata": {},
   "outputs": [
    {
     "data": {
      "text/html": [
       "<table class=\"simpletable\">\n",
       "<caption>OLS Regression Results</caption>\n",
       "<tr>\n",
       "  <th>Dep. Variable:</th>           <td>Age</td>       <th>  R-squared:         </th> <td>   0.232</td>\n",
       "</tr>\n",
       "<tr>\n",
       "  <th>Model:</th>                   <td>OLS</td>       <th>  Adj. R-squared:    </th> <td>   0.151</td>\n",
       "</tr>\n",
       "<tr>\n",
       "  <th>Method:</th>             <td>Least Squares</td>  <th>  F-statistic:       </th> <td>   2.868</td>\n",
       "</tr>\n",
       "<tr>\n",
       "  <th>Date:</th>             <td>Tue, 01 Feb 2022</td> <th>  Prob (F-statistic):</th>  <td>0.0816</td> \n",
       "</tr>\n",
       "<tr>\n",
       "  <th>Time:</th>                 <td>17:50:29</td>     <th>  Log-Likelihood:    </th> <td>  60.075</td>\n",
       "</tr>\n",
       "<tr>\n",
       "  <th>No. Observations:</th>      <td>    22</td>      <th>  AIC:               </th> <td>  -114.1</td>\n",
       "</tr>\n",
       "<tr>\n",
       "  <th>Df Residuals:</th>          <td>    19</td>      <th>  BIC:               </th> <td>  -110.9</td>\n",
       "</tr>\n",
       "<tr>\n",
       "  <th>Df Model:</th>              <td>     2</td>      <th>                     </th>     <td> </td>   \n",
       "</tr>\n",
       "<tr>\n",
       "  <th>Covariance Type:</th>      <td>nonrobust</td>    <th>                     </th>     <td> </td>   \n",
       "</tr>\n",
       "</table>\n",
       "<table class=\"simpletable\">\n",
       "<tr>\n",
       "    <td></td>       <th>coef</th>     <th>std err</th>      <th>t</th>      <th>P>|t|</th>  <th>[0.025</th>    <th>0.975]</th>  \n",
       "</tr>\n",
       "<tr>\n",
       "  <th>const</th> <td>    0.0639</td> <td>    0.093</td> <td>    0.685</td> <td> 0.501</td> <td>   -0.131</td> <td>    0.259</td>\n",
       "</tr>\n",
       "<tr>\n",
       "  <th>x1</th>    <td>    0.0174</td> <td>    0.007</td> <td>    2.378</td> <td> 0.028</td> <td>    0.002</td> <td>    0.033</td>\n",
       "</tr>\n",
       "<tr>\n",
       "  <th>x2</th>    <td>    0.0131</td> <td>    0.008</td> <td>    1.681</td> <td> 0.109</td> <td>   -0.003</td> <td>    0.029</td>\n",
       "</tr>\n",
       "</table>\n",
       "<table class=\"simpletable\">\n",
       "<tr>\n",
       "  <th>Omnibus:</th>       <td>10.035</td> <th>  Durbin-Watson:     </th> <td>   1.027</td>\n",
       "</tr>\n",
       "<tr>\n",
       "  <th>Prob(Omnibus):</th> <td> 0.007</td> <th>  Jarque-Bera (JB):  </th> <td>   8.008</td>\n",
       "</tr>\n",
       "<tr>\n",
       "  <th>Skew:</th>          <td> 1.116</td> <th>  Prob(JB):          </th> <td>  0.0182</td>\n",
       "</tr>\n",
       "<tr>\n",
       "  <th>Kurtosis:</th>      <td> 4.938</td> <th>  Cond. No.          </th> <td>    280.</td>\n",
       "</tr>\n",
       "</table><br/><br/>Warnings:<br/>[1] Standard Errors assume that the covariance matrix of the errors is correctly specified."
      ],
      "text/plain": [
       "<class 'statsmodels.iolib.summary.Summary'>\n",
       "\"\"\"\n",
       "                            OLS Regression Results                            \n",
       "==============================================================================\n",
       "Dep. Variable:                    Age   R-squared:                       0.232\n",
       "Model:                            OLS   Adj. R-squared:                  0.151\n",
       "Method:                 Least Squares   F-statistic:                     2.868\n",
       "Date:                Tue, 01 Feb 2022   Prob (F-statistic):             0.0816\n",
       "Time:                        17:50:29   Log-Likelihood:                 60.075\n",
       "No. Observations:                  22   AIC:                            -114.1\n",
       "Df Residuals:                      19   BIC:                            -110.9\n",
       "Df Model:                           2                                         \n",
       "Covariance Type:            nonrobust                                         \n",
       "==============================================================================\n",
       "                 coef    std err          t      P>|t|      [0.025      0.975]\n",
       "------------------------------------------------------------------------------\n",
       "const          0.0639      0.093      0.685      0.501      -0.131       0.259\n",
       "x1             0.0174      0.007      2.378      0.028       0.002       0.033\n",
       "x2             0.0131      0.008      1.681      0.109      -0.003       0.029\n",
       "==============================================================================\n",
       "Omnibus:                       10.035   Durbin-Watson:                   1.027\n",
       "Prob(Omnibus):                  0.007   Jarque-Bera (JB):                8.008\n",
       "Skew:                           1.116   Prob(JB):                       0.0182\n",
       "Kurtosis:                       4.938   Cond. No.                         280.\n",
       "==============================================================================\n",
       "\n",
       "Warnings:\n",
       "[1] Standard Errors assume that the covariance matrix of the errors is correctly specified.\n",
       "\"\"\""
      ]
     },
     "execution_count": 303,
     "metadata": {},
     "output_type": "execute_result"
    }
   ],
   "source": [
    "results_mr.summary()"
   ]
  },
  {
   "cell_type": "code",
   "execution_count": null,
   "metadata": {},
   "outputs": [],
   "source": [
    "data_merged['predictions'] = results_mr.predict(X_mr)"
   ]
  },
  {
   "cell_type": "code",
   "execution_count": null,
   "metadata": {},
   "outputs": [],
   "source": [
    "len(predictions),len(data_merged)"
   ]
  },
  {
   "cell_type": "code",
   "execution_count": null,
   "metadata": {},
   "outputs": [],
   "source": [
    "\n",
    "fig, ax = plt.subplots(figsize=(5, 5))\n",
    "ax.scatter('rvc_log', 'Age',data=data_merged)\n",
    "ax.scatter('rvc_log', 'predictions',data=data_merged)"
   ]
  }
 ],
 "metadata": {
  "kernelspec": {
   "display_name": "Python 3 (ipykernel)",
   "language": "python",
   "name": "python3"
  },
  "language_info": {
   "codemirror_mode": {
    "name": "ipython",
    "version": 3
   },
   "file_extension": ".py",
   "mimetype": "text/x-python",
   "name": "python",
   "nbconvert_exporter": "python",
   "pygments_lexer": "ipython3",
   "version": "3.7.4"
  }
 },
 "nbformat": 4,
 "nbformat_minor": 2
}
