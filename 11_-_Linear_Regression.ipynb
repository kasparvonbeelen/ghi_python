{
 "cells": [
  {
   "cell_type": "markdown",
   "metadata": {},
   "source": [
    "[![Binder](https://mybinder.org/badge_logo.svg)](https://mybinder.org/v2/gh/kasparvonbeelen/ghi_python/4-tables?labpath=11_-_Linear_Regression.ipynb)\n",
    "\n",
    "\n",
    "# Lecture 11: Linear Regression\n",
    "## A gentle introduction to correlation and regression for historians \n",
    "### ... in Python and Pandas\n",
    "\n",
    "\n",
    "## Data Science for Historians (with Python)\n",
    "\n",
    "### Created by Kaspar Beelen and Luke Blaxill\n",
    "\n",
    "### For the German Historical Institute, London\n",
    "\n",
    "<img align=\"left\" src=\"https://www.ghil.ac.uk/typo3conf/ext/wacon_ghil/Resources/Public/Images/institute_icon_small.png\">\n"
   ]
  },
  {
   "cell_type": "markdown",
   "metadata": {},
   "source": [
    "\n",
    "This notebook turns to more advanced and scientifically interesting methods. We will discuss linear regression and later on generalised linear models. \n",
    "\n",
    "So far, we focused on quantifying and interpreting differences between subgroups in our data (place and gender), more specifically estimating the significance between the means.\n",
    "\n",
    "\n",
    "Now we turn the analysing the relationship between variables, the extent to which variables are associated with each other. This allows us to model historical phenomena and make predictions. \n",
    "\n",
    "As in the previous notebook, we highly recommend you watch the lecture by Luke Blaxill for an introduction to the concepts and terminology used in this lecture."
   ]
  },
  {
   "cell_type": "markdown",
   "metadata": {},
   "source": [
    "## Understanding relations between variables: Lifespan and Wealth in late Victorian London"
   ]
  },
  {
   "cell_type": "markdown",
   "metadata": {},
   "source": [
    "We continue with the data used previously but change the research question and analyse the relationship between wealth and lifespan. Concretely, we will asess if the wealthier districts causes a higher ratio of older people. We don't have information on the possession or income for each individual but we have access to the rateable value per capita for each borough in London, which serves as a proxy for the average prosperity of place. We will abbreviate this variable as `rvc` in what follows. \n",
    "\n",
    "When it comes to lifespan we use the same synthetic census data as in notebook ten. We don't have information on how long people live, but we can establish the ratio of 'old' people, for example, those aged over 50. \n",
    "\n",
    "Notice how both variables (wealth and lifespan) are proxies for concepts we can not measure directly. In many ways, this makes this case study highly problematic (but therefore morer useful from a didactic perspective). However, working with imperfect proxies is often the only option and being creative with your data is a necessity. In the social sciences, the operationalisation of your research is called [construct validity](https://en.wikipedia.org/wiki/Construct_validity): as we project meaning onto our data we should be critical of our semantics.\n",
    "\n"
   ]
  },
  {
   "cell_type": "markdown",
   "metadata": {},
   "source": [
    "Let's turn to our code. The first step is to load the required tools we need later on in this notebook."
   ]
  },
  {
   "cell_type": "code",
   "execution_count": 19,
   "metadata": {},
   "outputs": [],
   "source": [
    "import pandas as pd\n",
    "import numpy as np\n",
    "import seaborn as sns\n",
    "import statsmodels.api as sm\n",
    "import statsmodels.formula.api as smf\n",
    "import scipy\n",
    "import matplotlib.pyplot as plt\n",
    "sns.set()"
   ]
  },
  {
   "cell_type": "markdown",
   "metadata": {},
   "source": [
    "Before turning to the actual regression analysis, we need to discuss the data wrangling. We will cover a few steps that you will often encounter when preparing your data for analysis."
   ]
  },
  {
   "cell_type": "markdown",
   "metadata": {},
   "source": [
    "We create a new dataframe that records the ratio of people over 50 for each district. \n",
    "\n",
    "Why? We don't know how long Londoners live on average. Here we reason that districts where people have a higher probability of getting \"old\" (beyond 50) they tend to live longer. For \"old\", we computed the ratio of residents over 50 years (twice the median) but we could have chosen other thresholds. We encourage you to do this and assess the extent to which the results will change."
   ]
  },
  {
   "cell_type": "code",
   "execution_count": 20,
   "metadata": {},
   "outputs": [
    {
     "data": {
      "text/html": [
       "<div>\n",
       "<style scoped>\n",
       "    .dataframe tbody tr th:only-of-type {\n",
       "        vertical-align: middle;\n",
       "    }\n",
       "\n",
       "    .dataframe tbody tr th {\n",
       "        vertical-align: top;\n",
       "    }\n",
       "\n",
       "    .dataframe thead th {\n",
       "        text-align: right;\n",
       "    }\n",
       "</style>\n",
       "<table border=\"1\" class=\"dataframe\">\n",
       "  <thead>\n",
       "    <tr style=\"text-align: right;\">\n",
       "      <th></th>\n",
       "      <th>RegDist</th>\n",
       "      <th>Sex</th>\n",
       "      <th>Age</th>\n",
       "      <th>Disability</th>\n",
       "    </tr>\n",
       "  </thead>\n",
       "  <tbody>\n",
       "    <tr>\n",
       "      <th>0</th>\n",
       "      <td>Kensington</td>\n",
       "      <td>M</td>\n",
       "      <td>18</td>\n",
       "      <td>0</td>\n",
       "    </tr>\n",
       "    <tr>\n",
       "      <th>1</th>\n",
       "      <td>Greenwich</td>\n",
       "      <td>U</td>\n",
       "      <td>14</td>\n",
       "      <td>0</td>\n",
       "    </tr>\n",
       "    <tr>\n",
       "      <th>2</th>\n",
       "      <td>St George Hanover Square</td>\n",
       "      <td>M</td>\n",
       "      <td>38</td>\n",
       "      <td>0</td>\n",
       "    </tr>\n",
       "    <tr>\n",
       "      <th>3</th>\n",
       "      <td>St Olave Southwark</td>\n",
       "      <td>F</td>\n",
       "      <td>42</td>\n",
       "      <td>0</td>\n",
       "    </tr>\n",
       "    <tr>\n",
       "      <th>4</th>\n",
       "      <td>St George Hanover Square</td>\n",
       "      <td>M</td>\n",
       "      <td>19</td>\n",
       "      <td>0</td>\n",
       "    </tr>\n",
       "  </tbody>\n",
       "</table>\n",
       "</div>"
      ],
      "text/plain": [
       "                    RegDist Sex  Age  Disability\n",
       "0                Kensington   M   18           0\n",
       "1                 Greenwich   U   14           0\n",
       "2  St George Hanover Square   M   38           0\n",
       "3        St Olave Southwark   F   42           0\n",
       "4  St George Hanover Square   M   19           0"
      ]
     },
     "execution_count": 20,
     "metadata": {},
     "output_type": "execute_result"
    }
   ],
   "source": [
    "df = pd.read_csv('data/icem/EW01_london_subsample.csv',index_col=0)\n",
    "df.head()"
   ]
  },
  {
   "cell_type": "code",
   "execution_count": 21,
   "metadata": {},
   "outputs": [
    {
     "data": {
      "text/plain": [
       "(27.786728095422067, 25.0)"
      ]
     },
     "execution_count": 21,
     "metadata": {},
     "output_type": "execute_result"
    }
   ],
   "source": [
    "df.Age.mean(), df.Age.median()"
   ]
  },
  {
   "cell_type": "code",
   "execution_count": 22,
   "metadata": {},
   "outputs": [],
   "source": [
    "#age_by_dist = df.groupby(['RegDist']).agg({'Age':'mean','Sex':'count'})"
   ]
  },
  {
   "cell_type": "code",
   "execution_count": 23,
   "metadata": {},
   "outputs": [],
   "source": [
    "age_by_dist = df.groupby(['RegDist']).agg({'Age':lambda x: np.mean(x > 50),'Sex':'count'})"
   ]
  },
  {
   "cell_type": "code",
   "execution_count": 24,
   "metadata": {},
   "outputs": [
    {
     "data": {
      "text/html": [
       "<div>\n",
       "<style scoped>\n",
       "    .dataframe tbody tr th:only-of-type {\n",
       "        vertical-align: middle;\n",
       "    }\n",
       "\n",
       "    .dataframe tbody tr th {\n",
       "        vertical-align: top;\n",
       "    }\n",
       "\n",
       "    .dataframe thead th {\n",
       "        text-align: right;\n",
       "    }\n",
       "</style>\n",
       "<table border=\"1\" class=\"dataframe\">\n",
       "  <thead>\n",
       "    <tr style=\"text-align: right;\">\n",
       "      <th></th>\n",
       "      <th>Age</th>\n",
       "      <th>Sex</th>\n",
       "    </tr>\n",
       "    <tr>\n",
       "      <th>RegDist</th>\n",
       "      <th></th>\n",
       "      <th></th>\n",
       "    </tr>\n",
       "  </thead>\n",
       "  <tbody>\n",
       "    <tr>\n",
       "      <th>Bethnal Green</th>\n",
       "      <td>0.117463</td>\n",
       "      <td>31593</td>\n",
       "    </tr>\n",
       "    <tr>\n",
       "      <th>Camberwell</th>\n",
       "      <td>0.131304</td>\n",
       "      <td>63060</td>\n",
       "    </tr>\n",
       "    <tr>\n",
       "      <th>Chelsea</th>\n",
       "      <td>0.171204</td>\n",
       "      <td>18329</td>\n",
       "    </tr>\n",
       "    <tr>\n",
       "      <th>Fulham</th>\n",
       "      <td>0.123097</td>\n",
       "      <td>60489</td>\n",
       "    </tr>\n",
       "    <tr>\n",
       "      <th>Greenwich</th>\n",
       "      <td>0.126405</td>\n",
       "      <td>44832</td>\n",
       "    </tr>\n",
       "    <tr>\n",
       "      <th>Hackney</th>\n",
       "      <td>0.138932</td>\n",
       "      <td>65687</td>\n",
       "    </tr>\n",
       "    <tr>\n",
       "      <th>Hampstead</th>\n",
       "      <td>0.134613</td>\n",
       "      <td>20117</td>\n",
       "    </tr>\n",
       "    <tr>\n",
       "      <th>Holborn</th>\n",
       "      <td>0.125383</td>\n",
       "      <td>31320</td>\n",
       "    </tr>\n",
       "    <tr>\n",
       "      <th>Islington</th>\n",
       "      <td>0.138770</td>\n",
       "      <td>81826</td>\n",
       "    </tr>\n",
       "    <tr>\n",
       "      <th>Kensington</th>\n",
       "      <td>0.152105</td>\n",
       "      <td>43115</td>\n",
       "    </tr>\n",
       "    <tr>\n",
       "      <th>Lambeth</th>\n",
       "      <td>0.138292</td>\n",
       "      <td>73511</td>\n",
       "    </tr>\n",
       "    <tr>\n",
       "      <th>Lewisham</th>\n",
       "      <td>0.138958</td>\n",
       "      <td>32902</td>\n",
       "    </tr>\n",
       "    <tr>\n",
       "      <th>London City</th>\n",
       "      <td>0.140107</td>\n",
       "      <td>6909</td>\n",
       "    </tr>\n",
       "    <tr>\n",
       "      <th>Marylebone</th>\n",
       "      <td>0.144679</td>\n",
       "      <td>32776</td>\n",
       "    </tr>\n",
       "    <tr>\n",
       "      <th>Mile End Old Town</th>\n",
       "      <td>0.121219</td>\n",
       "      <td>26778</td>\n",
       "    </tr>\n",
       "    <tr>\n",
       "      <th>Paddington</th>\n",
       "      <td>0.147480</td>\n",
       "      <td>35042</td>\n",
       "    </tr>\n",
       "    <tr>\n",
       "      <th>Pancras</th>\n",
       "      <td>0.138745</td>\n",
       "      <td>57285</td>\n",
       "    </tr>\n",
       "    <tr>\n",
       "      <th>Poplar</th>\n",
       "      <td>0.125373</td>\n",
       "      <td>40838</td>\n",
       "    </tr>\n",
       "    <tr>\n",
       "      <th>Shoreditch</th>\n",
       "      <td>0.126364</td>\n",
       "      <td>28687</td>\n",
       "    </tr>\n",
       "    <tr>\n",
       "      <th>Southwark</th>\n",
       "      <td>0.120586</td>\n",
       "      <td>50213</td>\n",
       "    </tr>\n",
       "    <tr>\n",
       "      <th>St George Hanover Square</th>\n",
       "      <td>0.135724</td>\n",
       "      <td>31785</td>\n",
       "    </tr>\n",
       "    <tr>\n",
       "      <th>St George In The East</th>\n",
       "      <td>0.091691</td>\n",
       "      <td>11866</td>\n",
       "    </tr>\n",
       "    <tr>\n",
       "      <th>St Giles</th>\n",
       "      <td>0.143078</td>\n",
       "      <td>7765</td>\n",
       "    </tr>\n",
       "    <tr>\n",
       "      <th>St Olave Southwark</th>\n",
       "      <td>0.123220</td>\n",
       "      <td>32154</td>\n",
       "    </tr>\n",
       "    <tr>\n",
       "      <th>Stepney</th>\n",
       "      <td>0.114748</td>\n",
       "      <td>14083</td>\n",
       "    </tr>\n",
       "    <tr>\n",
       "      <th>Strand</th>\n",
       "      <td>0.137163</td>\n",
       "      <td>5344</td>\n",
       "    </tr>\n",
       "    <tr>\n",
       "      <th>Wandsworth</th>\n",
       "      <td>0.126495</td>\n",
       "      <td>98217</td>\n",
       "    </tr>\n",
       "    <tr>\n",
       "      <th>Westminster</th>\n",
       "      <td>0.123491</td>\n",
       "      <td>8033</td>\n",
       "    </tr>\n",
       "    <tr>\n",
       "      <th>Whitechapel</th>\n",
       "      <td>0.095728</td>\n",
       "      <td>18772</td>\n",
       "    </tr>\n",
       "    <tr>\n",
       "      <th>Woolwich</th>\n",
       "      <td>0.111003</td>\n",
       "      <td>31909</td>\n",
       "    </tr>\n",
       "  </tbody>\n",
       "</table>\n",
       "</div>"
      ],
      "text/plain": [
       "                               Age    Sex\n",
       "RegDist                                  \n",
       "Bethnal Green             0.117463  31593\n",
       "Camberwell                0.131304  63060\n",
       "Chelsea                   0.171204  18329\n",
       "Fulham                    0.123097  60489\n",
       "Greenwich                 0.126405  44832\n",
       "Hackney                   0.138932  65687\n",
       "Hampstead                 0.134613  20117\n",
       "Holborn                   0.125383  31320\n",
       "Islington                 0.138770  81826\n",
       "Kensington                0.152105  43115\n",
       "Lambeth                   0.138292  73511\n",
       "Lewisham                  0.138958  32902\n",
       "London City               0.140107   6909\n",
       "Marylebone                0.144679  32776\n",
       "Mile End Old Town         0.121219  26778\n",
       "Paddington                0.147480  35042\n",
       "Pancras                   0.138745  57285\n",
       "Poplar                    0.125373  40838\n",
       "Shoreditch                0.126364  28687\n",
       "Southwark                 0.120586  50213\n",
       "St George Hanover Square  0.135724  31785\n",
       "St George In The East     0.091691  11866\n",
       "St Giles                  0.143078   7765\n",
       "St Olave Southwark        0.123220  32154\n",
       "Stepney                   0.114748  14083\n",
       "Strand                    0.137163   5344\n",
       "Wandsworth                0.126495  98217\n",
       "Westminster               0.123491   8033\n",
       "Whitechapel               0.095728  18772\n",
       "Woolwich                  0.111003  31909"
      ]
     },
     "execution_count": 24,
     "metadata": {},
     "output_type": "execute_result"
    }
   ],
   "source": [
    "age_by_dist"
   ]
  },
  {
   "cell_type": "markdown",
   "metadata": {},
   "source": [
    "To understand the relationship between average wealth and lifespan we need to add additional information to our dataframe. \n",
    "\n",
    "The dataframe below capture the rateable value per capita in each London borough (these data are synthetic but follow the pattern of  \"real\" values collected for 1922)."
   ]
  },
  {
   "cell_type": "code",
   "execution_count": 31,
   "metadata": {},
   "outputs": [
    {
     "data": {
      "text/html": [
       "<div>\n",
       "<style scoped>\n",
       "    .dataframe tbody tr th:only-of-type {\n",
       "        vertical-align: middle;\n",
       "    }\n",
       "\n",
       "    .dataframe tbody tr th {\n",
       "        vertical-align: top;\n",
       "    }\n",
       "\n",
       "    .dataframe thead th {\n",
       "        text-align: right;\n",
       "    }\n",
       "</style>\n",
       "<table border=\"1\" class=\"dataframe\">\n",
       "  <thead>\n",
       "    <tr style=\"text-align: right;\">\n",
       "      <th></th>\n",
       "      <th>borough</th>\n",
       "      <th>rateable_value_pc</th>\n",
       "    </tr>\n",
       "  </thead>\n",
       "  <tbody>\n",
       "    <tr>\n",
       "      <th>0</th>\n",
       "      <td>Battersea</td>\n",
       "      <td>6.1</td>\n",
       "    </tr>\n",
       "    <tr>\n",
       "      <th>1</th>\n",
       "      <td>Bermondsey</td>\n",
       "      <td>8.5</td>\n",
       "    </tr>\n",
       "    <tr>\n",
       "      <th>2</th>\n",
       "      <td>Bethnal Green</td>\n",
       "      <td>4.9</td>\n",
       "    </tr>\n",
       "    <tr>\n",
       "      <th>3</th>\n",
       "      <td>Camberwell</td>\n",
       "      <td>5.2</td>\n",
       "    </tr>\n",
       "    <tr>\n",
       "      <th>4</th>\n",
       "      <td>Chelsea</td>\n",
       "      <td>14.7</td>\n",
       "    </tr>\n",
       "  </tbody>\n",
       "</table>\n",
       "</div>"
      ],
      "text/plain": [
       "         borough  rateable_value_pc\n",
       "0      Battersea                6.1\n",
       "1     Bermondsey                8.5\n",
       "2  Bethnal Green                4.9\n",
       "3     Camberwell                5.2\n",
       "4        Chelsea               14.7"
      ]
     },
     "execution_count": 31,
     "metadata": {},
     "output_type": "execute_result"
    }
   ],
   "source": [
    "rvc = pd.read_csv('./data/icem/rateable_value.csv',index_col=0)\n",
    "rvc.head()"
   ]
  },
  {
   "cell_type": "markdown",
   "metadata": {},
   "source": [
    "We want to merge the data frames, but first, we should check to what extent this is possible, both practically and theoretically.\n",
    "\n",
    "Our first question is: What variables occur in both datasets? Which ones can we use to combine information from different sources?\n",
    "\n",
    "For our data, both data frames have information about place. The census lists registration districts while the rateable value is organised by the borough.\n",
    "\n",
    "This leads to a second question: To what extent are the districts that appear in the census the same as the boroughs in the data on rateable value per capita?"
   ]
  },
  {
   "cell_type": "markdown",
   "metadata": {},
   "source": [
    "First we want check which place names appear in both datasets. We create a Python `set`, a list of unique values, for the place names in both dataframes.\n"
   ]
  },
  {
   "cell_type": "code",
   "execution_count": 27,
   "metadata": {},
   "outputs": [
    {
     "name": "stdout",
     "output_type": "stream",
     "text": [
      "{'Hampstead', 'St Giles', 'Fulham', 'Kensington', 'Pancras', 'Holborn', 'Poplar', 'London City', 'Islington', 'St George Hanover Square', 'Lewisham', 'Wandsworth', 'St Olave Southwark', 'Hackney', 'Greenwich', 'Woolwich', 'St George In The East', 'Bethnal Green', 'Marylebone', 'Chelsea', 'Westminster', 'Whitechapel', 'Southwark', 'Strand', 'Paddington', 'Lambeth', 'Shoreditch', 'Mile End Old Town', 'Stepney', 'Camberwell'}\n"
     ]
    }
   ],
   "source": [
    "d1_pl = set(df['RegDist'])\n",
    "print(d1_pl)"
   ]
  },
  {
   "cell_type": "code",
   "execution_count": 32,
   "metadata": {},
   "outputs": [
    {
     "name": "stdout",
     "output_type": "stream",
     "text": [
      "{'Battersea', 'Hampstead', 'Fulham', 'Kensington', 'Holborn', 'Pancras', 'Poplar', 'Islington', 'Lewisham', 'Wandsworth', 'Finsbury', 'Bermondsey', 'Hackney', 'Hammersmith', 'Greenwich', 'Woolwich', 'Bethnal Green', 'Stepney', 'Marylebone', 'Chelsea', 'Stoke Newington', 'Westminster', 'Southwark', 'Paddington', 'Lambeth', 'Shoreditch', 'Deptford', 'Camberwell'}\n"
     ]
    }
   ],
   "source": [
    "d2_pl = set(rvc['borough'])\n",
    "print(d2_pl)"
   ]
  },
  {
   "cell_type": "markdown",
   "metadata": {},
   "source": [
    "We then compute the intersection of these two sets, i.e. the names that appear in both dataframes.\n",
    "\n",
    "The syntax is `set1.intersection(set2)`. We basically apply the `.intersection()` to a set and pass another set as argument."
   ]
  },
  {
   "cell_type": "code",
   "execution_count": 33,
   "metadata": {},
   "outputs": [
    {
     "name": "stdout",
     "output_type": "stream",
     "text": [
      "{'Hampstead', 'Fulham', 'Kensington', 'Holborn', 'Pancras', 'Poplar', 'Islington', 'Lewisham', 'Wandsworth', 'Hackney', 'Greenwich', 'Woolwich', 'Bethnal Green', 'Marylebone', 'Chelsea', 'Westminster', 'Southwark', 'Paddington', 'Lambeth', 'Shoreditch', 'Stepney', 'Camberwell'}\n"
     ]
    }
   ],
   "source": [
    "print(d1_pl.intersection(d2_pl)) # place names that appear in both dataframes"
   ]
  },
  {
   "cell_type": "code",
   "execution_count": 30,
   "metadata": {},
   "outputs": [
    {
     "data": {
      "text/plain": [
       "{'London City',\n",
       " 'Mile End Old Town',\n",
       " 'St George Hanover Square',\n",
       " 'St George In The East',\n",
       " 'St Giles',\n",
       " 'St Olave Southwark',\n",
       " 'Strand',\n",
       " 'Whitechapel'}"
      ]
     },
     "execution_count": 30,
     "metadata": {},
     "output_type": "execute_result"
    }
   ],
   "source": [
    "d1_pl - d2_pl # place names that appear in df and not rvc"
   ]
  },
  {
   "cell_type": "code",
   "execution_count": 34,
   "metadata": {},
   "outputs": [
    {
     "data": {
      "text/plain": [
       "{'Battersea',\n",
       " 'Bermondsey',\n",
       " 'Deptford',\n",
       " 'Finsbury',\n",
       " 'Hammersmith',\n",
       " 'Stoke Newington'}"
      ]
     },
     "execution_count": 34,
     "metadata": {},
     "output_type": "execute_result"
    }
   ],
   "source": [
    "d2_pl - d1_pl # place names that appear in rvc and not in df"
   ]
  },
  {
   "cell_type": "markdown",
   "metadata": {},
   "source": [
    "We can merge these two data frame based on the place names. However, be careful: it is not because the strings match that they mean the same thing!\n",
    "\n",
    "Don't worry about the syntax we will explain it in more detail below."
   ]
  },
  {
   "cell_type": "code",
   "execution_count": 36,
   "metadata": {},
   "outputs": [
    {
     "data": {
      "text/html": [
       "<div>\n",
       "<style scoped>\n",
       "    .dataframe tbody tr th:only-of-type {\n",
       "        vertical-align: middle;\n",
       "    }\n",
       "\n",
       "    .dataframe tbody tr th {\n",
       "        vertical-align: top;\n",
       "    }\n",
       "\n",
       "    .dataframe thead th {\n",
       "        text-align: right;\n",
       "    }\n",
       "</style>\n",
       "<table border=\"1\" class=\"dataframe\">\n",
       "  <thead>\n",
       "    <tr style=\"text-align: right;\">\n",
       "      <th></th>\n",
       "      <th>Age</th>\n",
       "      <th>Sex</th>\n",
       "      <th>borough</th>\n",
       "      <th>rateable_value_pc</th>\n",
       "    </tr>\n",
       "  </thead>\n",
       "  <tbody>\n",
       "    <tr>\n",
       "      <th>2</th>\n",
       "      <td>0.117463</td>\n",
       "      <td>31593</td>\n",
       "      <td>Bethnal Green</td>\n",
       "      <td>4.9</td>\n",
       "    </tr>\n",
       "    <tr>\n",
       "      <th>3</th>\n",
       "      <td>0.131304</td>\n",
       "      <td>63060</td>\n",
       "      <td>Camberwell</td>\n",
       "      <td>5.2</td>\n",
       "    </tr>\n",
       "    <tr>\n",
       "      <th>4</th>\n",
       "      <td>0.171204</td>\n",
       "      <td>18329</td>\n",
       "      <td>Chelsea</td>\n",
       "      <td>14.7</td>\n",
       "    </tr>\n",
       "    <tr>\n",
       "      <th>7</th>\n",
       "      <td>0.123097</td>\n",
       "      <td>60489</td>\n",
       "      <td>Fulham</td>\n",
       "      <td>6.1</td>\n",
       "    </tr>\n",
       "    <tr>\n",
       "      <th>8</th>\n",
       "      <td>0.126405</td>\n",
       "      <td>44832</td>\n",
       "      <td>Greenwich</td>\n",
       "      <td>7.6</td>\n",
       "    </tr>\n",
       "    <tr>\n",
       "      <th>9</th>\n",
       "      <td>0.138932</td>\n",
       "      <td>65687</td>\n",
       "      <td>Hackney</td>\n",
       "      <td>5.7</td>\n",
       "    </tr>\n",
       "    <tr>\n",
       "      <th>11</th>\n",
       "      <td>0.134613</td>\n",
       "      <td>20117</td>\n",
       "      <td>Hampstead</td>\n",
       "      <td>13.3</td>\n",
       "    </tr>\n",
       "    <tr>\n",
       "      <th>12</th>\n",
       "      <td>0.125383</td>\n",
       "      <td>31320</td>\n",
       "      <td>Holborn</td>\n",
       "      <td>32.0</td>\n",
       "    </tr>\n",
       "    <tr>\n",
       "      <th>13</th>\n",
       "      <td>0.138770</td>\n",
       "      <td>81826</td>\n",
       "      <td>Islington</td>\n",
       "      <td>5.7</td>\n",
       "    </tr>\n",
       "    <tr>\n",
       "      <th>14</th>\n",
       "      <td>0.152105</td>\n",
       "      <td>43115</td>\n",
       "      <td>Kensington</td>\n",
       "      <td>14.4</td>\n",
       "    </tr>\n",
       "    <tr>\n",
       "      <th>15</th>\n",
       "      <td>0.138292</td>\n",
       "      <td>73511</td>\n",
       "      <td>Lambeth</td>\n",
       "      <td>6.3</td>\n",
       "    </tr>\n",
       "    <tr>\n",
       "      <th>16</th>\n",
       "      <td>0.138958</td>\n",
       "      <td>32902</td>\n",
       "      <td>Lewisham</td>\n",
       "      <td>6.4</td>\n",
       "    </tr>\n",
       "    <tr>\n",
       "      <th>19</th>\n",
       "      <td>0.144679</td>\n",
       "      <td>32776</td>\n",
       "      <td>Marylebone</td>\n",
       "      <td>23.2</td>\n",
       "    </tr>\n",
       "    <tr>\n",
       "      <th>17</th>\n",
       "      <td>0.147480</td>\n",
       "      <td>35042</td>\n",
       "      <td>Paddington</td>\n",
       "      <td>10.7</td>\n",
       "    </tr>\n",
       "    <tr>\n",
       "      <th>20</th>\n",
       "      <td>0.138745</td>\n",
       "      <td>57285</td>\n",
       "      <td>Pancras</td>\n",
       "      <td>8.7</td>\n",
       "    </tr>\n",
       "    <tr>\n",
       "      <th>18</th>\n",
       "      <td>0.125373</td>\n",
       "      <td>40838</td>\n",
       "      <td>Poplar</td>\n",
       "      <td>5.7</td>\n",
       "    </tr>\n",
       "    <tr>\n",
       "      <th>21</th>\n",
       "      <td>0.126364</td>\n",
       "      <td>28687</td>\n",
       "      <td>Shoreditch</td>\n",
       "      <td>8.2</td>\n",
       "    </tr>\n",
       "    <tr>\n",
       "      <th>22</th>\n",
       "      <td>0.120586</td>\n",
       "      <td>50213</td>\n",
       "      <td>Southwark</td>\n",
       "      <td>6.7</td>\n",
       "    </tr>\n",
       "    <tr>\n",
       "      <th>23</th>\n",
       "      <td>0.114748</td>\n",
       "      <td>14083</td>\n",
       "      <td>Stepney</td>\n",
       "      <td>6.5</td>\n",
       "    </tr>\n",
       "    <tr>\n",
       "      <th>25</th>\n",
       "      <td>0.126495</td>\n",
       "      <td>98217</td>\n",
       "      <td>Wandsworth</td>\n",
       "      <td>6.9</td>\n",
       "    </tr>\n",
       "    <tr>\n",
       "      <th>26</th>\n",
       "      <td>0.123491</td>\n",
       "      <td>8033</td>\n",
       "      <td>Westminster</td>\n",
       "      <td>57.2</td>\n",
       "    </tr>\n",
       "    <tr>\n",
       "      <th>27</th>\n",
       "      <td>0.111003</td>\n",
       "      <td>31909</td>\n",
       "      <td>Woolwich</td>\n",
       "      <td>6.6</td>\n",
       "    </tr>\n",
       "  </tbody>\n",
       "</table>\n",
       "</div>"
      ],
      "text/plain": [
       "         Age    Sex        borough  rateable_value_pc\n",
       "2   0.117463  31593  Bethnal Green                4.9\n",
       "3   0.131304  63060     Camberwell                5.2\n",
       "4   0.171204  18329        Chelsea               14.7\n",
       "7   0.123097  60489         Fulham                6.1\n",
       "8   0.126405  44832      Greenwich                7.6\n",
       "9   0.138932  65687        Hackney                5.7\n",
       "11  0.134613  20117      Hampstead               13.3\n",
       "12  0.125383  31320        Holborn               32.0\n",
       "13  0.138770  81826      Islington                5.7\n",
       "14  0.152105  43115     Kensington               14.4\n",
       "15  0.138292  73511        Lambeth                6.3\n",
       "16  0.138958  32902       Lewisham                6.4\n",
       "19  0.144679  32776     Marylebone               23.2\n",
       "17  0.147480  35042     Paddington               10.7\n",
       "20  0.138745  57285        Pancras                8.7\n",
       "18  0.125373  40838         Poplar                5.7\n",
       "21  0.126364  28687     Shoreditch                8.2\n",
       "22  0.120586  50213      Southwark                6.7\n",
       "23  0.114748  14083        Stepney                6.5\n",
       "25  0.126495  98217     Wandsworth                6.9\n",
       "26  0.123491   8033    Westminster               57.2\n",
       "27  0.111003  31909       Woolwich                6.6"
      ]
     },
     "execution_count": 36,
     "metadata": {},
     "output_type": "execute_result"
    }
   ],
   "source": [
    "data_merged = age_by_dist.merge(rv,left_index=True,right_on='borough')\n",
    "data_merged"
   ]
  },
  {
   "cell_type": "markdown",
   "metadata": {},
   "source": [
    "`.merge()` is an extremely useful method combining data frames. It requires us to specify which variable (or column) is shared across data frames and can be used for merging tables. \n",
    "\n",
    "\n",
    "In this `.merge()` operation, we combined information from `rvc` with `age_by_dist`. \n",
    "\n",
    "As we have shown before, both data frames contain a column with similar values, namely, place names in London. \n",
    "\n",
    "We use these values to combine the data frames, i.e. rows that have the value `Bethnal Green` in the `age_by_dist` data frames will be joined by the information we have for 'Bethnal Green' in `rvc`\n",
    "\n",
    "Please notice: the names of the columns can be different but the values in the columns have to overlap.\n",
    "\n",
    "Below we show a toy example slight adapted from very thorough Pandas [documentation](https://pandas.pydata.org/docs/reference/api/pandas.merge.html).\n",
    "\n",
    "Imagine that I recorded the number of cats and dogs I spotted each day, but kept this information in two separate data frames."
   ]
  },
  {
   "cell_type": "code",
   "execution_count": 37,
   "metadata": {},
   "outputs": [],
   "source": [
    "df1 = pd.DataFrame({'day': ['mon', 'tue', 'wed', 'thu'],\n",
    "                    'cats': [1, 2, 3, 5]})\n",
    "df2 = pd.DataFrame({'dayz': ['mon', 'tue', 'wed', 'thu'],\n",
    "                    'dogs': [5, 6, 7, 8]})"
   ]
  },
  {
   "cell_type": "code",
   "execution_count": 38,
   "metadata": {},
   "outputs": [
    {
     "data": {
      "text/html": [
       "<div>\n",
       "<style scoped>\n",
       "    .dataframe tbody tr th:only-of-type {\n",
       "        vertical-align: middle;\n",
       "    }\n",
       "\n",
       "    .dataframe tbody tr th {\n",
       "        vertical-align: top;\n",
       "    }\n",
       "\n",
       "    .dataframe thead th {\n",
       "        text-align: right;\n",
       "    }\n",
       "</style>\n",
       "<table border=\"1\" class=\"dataframe\">\n",
       "  <thead>\n",
       "    <tr style=\"text-align: right;\">\n",
       "      <th></th>\n",
       "      <th>day</th>\n",
       "      <th>cats</th>\n",
       "    </tr>\n",
       "  </thead>\n",
       "  <tbody>\n",
       "    <tr>\n",
       "      <th>0</th>\n",
       "      <td>mon</td>\n",
       "      <td>1</td>\n",
       "    </tr>\n",
       "    <tr>\n",
       "      <th>1</th>\n",
       "      <td>tue</td>\n",
       "      <td>2</td>\n",
       "    </tr>\n",
       "    <tr>\n",
       "      <th>2</th>\n",
       "      <td>wed</td>\n",
       "      <td>3</td>\n",
       "    </tr>\n",
       "    <tr>\n",
       "      <th>3</th>\n",
       "      <td>thu</td>\n",
       "      <td>5</td>\n",
       "    </tr>\n",
       "  </tbody>\n",
       "</table>\n",
       "</div>"
      ],
      "text/plain": [
       "   day  cats\n",
       "0  mon     1\n",
       "1  tue     2\n",
       "2  wed     3\n",
       "3  thu     5"
      ]
     },
     "execution_count": 38,
     "metadata": {},
     "output_type": "execute_result"
    }
   ],
   "source": [
    "df1"
   ]
  },
  {
   "cell_type": "code",
   "execution_count": 39,
   "metadata": {},
   "outputs": [
    {
     "data": {
      "text/html": [
       "<div>\n",
       "<style scoped>\n",
       "    .dataframe tbody tr th:only-of-type {\n",
       "        vertical-align: middle;\n",
       "    }\n",
       "\n",
       "    .dataframe tbody tr th {\n",
       "        vertical-align: top;\n",
       "    }\n",
       "\n",
       "    .dataframe thead th {\n",
       "        text-align: right;\n",
       "    }\n",
       "</style>\n",
       "<table border=\"1\" class=\"dataframe\">\n",
       "  <thead>\n",
       "    <tr style=\"text-align: right;\">\n",
       "      <th></th>\n",
       "      <th>dayz</th>\n",
       "      <th>dogs</th>\n",
       "    </tr>\n",
       "  </thead>\n",
       "  <tbody>\n",
       "    <tr>\n",
       "      <th>0</th>\n",
       "      <td>mon</td>\n",
       "      <td>5</td>\n",
       "    </tr>\n",
       "    <tr>\n",
       "      <th>1</th>\n",
       "      <td>tue</td>\n",
       "      <td>6</td>\n",
       "    </tr>\n",
       "    <tr>\n",
       "      <th>2</th>\n",
       "      <td>wed</td>\n",
       "      <td>7</td>\n",
       "    </tr>\n",
       "    <tr>\n",
       "      <th>3</th>\n",
       "      <td>thu</td>\n",
       "      <td>8</td>\n",
       "    </tr>\n",
       "  </tbody>\n",
       "</table>\n",
       "</div>"
      ],
      "text/plain": [
       "  dayz  dogs\n",
       "0  mon     5\n",
       "1  tue     6\n",
       "2  wed     7\n",
       "3  thu     8"
      ]
     },
     "execution_count": 39,
     "metadata": {},
     "output_type": "execute_result"
    }
   ],
   "source": [
    "df2"
   ]
  },
  {
   "cell_type": "markdown",
   "metadata": {},
   "source": [
    "Both tables have a column that records that day of the week, even though the column name is slightly differentz. We can combine these data frames into one using `left_df.merge(right_df)`. The method is applied to a dataframe at the left-hand side (before the dot) and one at the right-hand side (passed as an argument to the method).\n",
    "\n",
    "To merge properly, we have to instruct Pandas precisely which columns we want to use for combining information. `left_on` (`right_on`) indicates the column name we use in the dataframe at the left-hand (right-hand) side of the `.merge()` method. "
   ]
  },
  {
   "cell_type": "code",
   "execution_count": 41,
   "metadata": {},
   "outputs": [
    {
     "data": {
      "text/html": [
       "<div>\n",
       "<style scoped>\n",
       "    .dataframe tbody tr th:only-of-type {\n",
       "        vertical-align: middle;\n",
       "    }\n",
       "\n",
       "    .dataframe tbody tr th {\n",
       "        vertical-align: top;\n",
       "    }\n",
       "\n",
       "    .dataframe thead th {\n",
       "        text-align: right;\n",
       "    }\n",
       "</style>\n",
       "<table border=\"1\" class=\"dataframe\">\n",
       "  <thead>\n",
       "    <tr style=\"text-align: right;\">\n",
       "      <th></th>\n",
       "      <th>day</th>\n",
       "      <th>cats</th>\n",
       "      <th>dayz</th>\n",
       "      <th>dogs</th>\n",
       "    </tr>\n",
       "  </thead>\n",
       "  <tbody>\n",
       "    <tr>\n",
       "      <th>0</th>\n",
       "      <td>mon</td>\n",
       "      <td>1</td>\n",
       "      <td>mon</td>\n",
       "      <td>5</td>\n",
       "    </tr>\n",
       "    <tr>\n",
       "      <th>1</th>\n",
       "      <td>tue</td>\n",
       "      <td>2</td>\n",
       "      <td>tue</td>\n",
       "      <td>6</td>\n",
       "    </tr>\n",
       "    <tr>\n",
       "      <th>2</th>\n",
       "      <td>wed</td>\n",
       "      <td>3</td>\n",
       "      <td>wed</td>\n",
       "      <td>7</td>\n",
       "    </tr>\n",
       "    <tr>\n",
       "      <th>3</th>\n",
       "      <td>thu</td>\n",
       "      <td>5</td>\n",
       "      <td>thu</td>\n",
       "      <td>8</td>\n",
       "    </tr>\n",
       "  </tbody>\n",
       "</table>\n",
       "</div>"
      ],
      "text/plain": [
       "   day  cats dayz  dogs\n",
       "0  mon     1  mon     5\n",
       "1  tue     2  tue     6\n",
       "2  wed     3  wed     7\n",
       "3  thu     5  thu     8"
      ]
     },
     "execution_count": 41,
     "metadata": {},
     "output_type": "execute_result"
    }
   ],
   "source": [
    "df1.merge(df2, left_on='day', right_on='dayz')"
   ]
  },
  {
   "cell_type": "markdown",
   "metadata": {},
   "source": [
    "Sometimes we want `.merge()` using the index of a data frame instead of a column. In this case, we select the argument `left_index` (or `right_index`) and which takes a boolean value (`True` or `False`).\n",
    "\n",
    "The `.merge()` operation should be more understandable at this point: we merge `age_by_dist` (left) with `rvc`. For the left data frame we use the index (`left_index=True`), for the right the `'borough'` column  (`right_on='borough'`)."
   ]
  },
  {
   "cell_type": "code",
   "execution_count": 44,
   "metadata": {},
   "outputs": [
    {
     "data": {
      "text/html": [
       "<div>\n",
       "<style scoped>\n",
       "    .dataframe tbody tr th:only-of-type {\n",
       "        vertical-align: middle;\n",
       "    }\n",
       "\n",
       "    .dataframe tbody tr th {\n",
       "        vertical-align: top;\n",
       "    }\n",
       "\n",
       "    .dataframe thead th {\n",
       "        text-align: right;\n",
       "    }\n",
       "</style>\n",
       "<table border=\"1\" class=\"dataframe\">\n",
       "  <thead>\n",
       "    <tr style=\"text-align: right;\">\n",
       "      <th></th>\n",
       "      <th>Age</th>\n",
       "      <th>Sex</th>\n",
       "      <th>borough</th>\n",
       "      <th>rateable_value_pc</th>\n",
       "    </tr>\n",
       "  </thead>\n",
       "  <tbody>\n",
       "    <tr>\n",
       "      <th>2</th>\n",
       "      <td>0.117463</td>\n",
       "      <td>31593</td>\n",
       "      <td>Bethnal Green</td>\n",
       "      <td>4.9</td>\n",
       "    </tr>\n",
       "    <tr>\n",
       "      <th>3</th>\n",
       "      <td>0.131304</td>\n",
       "      <td>63060</td>\n",
       "      <td>Camberwell</td>\n",
       "      <td>5.2</td>\n",
       "    </tr>\n",
       "    <tr>\n",
       "      <th>4</th>\n",
       "      <td>0.171204</td>\n",
       "      <td>18329</td>\n",
       "      <td>Chelsea</td>\n",
       "      <td>14.7</td>\n",
       "    </tr>\n",
       "    <tr>\n",
       "      <th>7</th>\n",
       "      <td>0.123097</td>\n",
       "      <td>60489</td>\n",
       "      <td>Fulham</td>\n",
       "      <td>6.1</td>\n",
       "    </tr>\n",
       "    <tr>\n",
       "      <th>8</th>\n",
       "      <td>0.126405</td>\n",
       "      <td>44832</td>\n",
       "      <td>Greenwich</td>\n",
       "      <td>7.6</td>\n",
       "    </tr>\n",
       "    <tr>\n",
       "      <th>9</th>\n",
       "      <td>0.138932</td>\n",
       "      <td>65687</td>\n",
       "      <td>Hackney</td>\n",
       "      <td>5.7</td>\n",
       "    </tr>\n",
       "    <tr>\n",
       "      <th>11</th>\n",
       "      <td>0.134613</td>\n",
       "      <td>20117</td>\n",
       "      <td>Hampstead</td>\n",
       "      <td>13.3</td>\n",
       "    </tr>\n",
       "    <tr>\n",
       "      <th>12</th>\n",
       "      <td>0.125383</td>\n",
       "      <td>31320</td>\n",
       "      <td>Holborn</td>\n",
       "      <td>32.0</td>\n",
       "    </tr>\n",
       "    <tr>\n",
       "      <th>13</th>\n",
       "      <td>0.138770</td>\n",
       "      <td>81826</td>\n",
       "      <td>Islington</td>\n",
       "      <td>5.7</td>\n",
       "    </tr>\n",
       "    <tr>\n",
       "      <th>14</th>\n",
       "      <td>0.152105</td>\n",
       "      <td>43115</td>\n",
       "      <td>Kensington</td>\n",
       "      <td>14.4</td>\n",
       "    </tr>\n",
       "    <tr>\n",
       "      <th>15</th>\n",
       "      <td>0.138292</td>\n",
       "      <td>73511</td>\n",
       "      <td>Lambeth</td>\n",
       "      <td>6.3</td>\n",
       "    </tr>\n",
       "    <tr>\n",
       "      <th>16</th>\n",
       "      <td>0.138958</td>\n",
       "      <td>32902</td>\n",
       "      <td>Lewisham</td>\n",
       "      <td>6.4</td>\n",
       "    </tr>\n",
       "    <tr>\n",
       "      <th>19</th>\n",
       "      <td>0.144679</td>\n",
       "      <td>32776</td>\n",
       "      <td>Marylebone</td>\n",
       "      <td>23.2</td>\n",
       "    </tr>\n",
       "    <tr>\n",
       "      <th>17</th>\n",
       "      <td>0.147480</td>\n",
       "      <td>35042</td>\n",
       "      <td>Paddington</td>\n",
       "      <td>10.7</td>\n",
       "    </tr>\n",
       "    <tr>\n",
       "      <th>20</th>\n",
       "      <td>0.138745</td>\n",
       "      <td>57285</td>\n",
       "      <td>Pancras</td>\n",
       "      <td>8.7</td>\n",
       "    </tr>\n",
       "    <tr>\n",
       "      <th>18</th>\n",
       "      <td>0.125373</td>\n",
       "      <td>40838</td>\n",
       "      <td>Poplar</td>\n",
       "      <td>5.7</td>\n",
       "    </tr>\n",
       "    <tr>\n",
       "      <th>21</th>\n",
       "      <td>0.126364</td>\n",
       "      <td>28687</td>\n",
       "      <td>Shoreditch</td>\n",
       "      <td>8.2</td>\n",
       "    </tr>\n",
       "    <tr>\n",
       "      <th>22</th>\n",
       "      <td>0.120586</td>\n",
       "      <td>50213</td>\n",
       "      <td>Southwark</td>\n",
       "      <td>6.7</td>\n",
       "    </tr>\n",
       "    <tr>\n",
       "      <th>23</th>\n",
       "      <td>0.114748</td>\n",
       "      <td>14083</td>\n",
       "      <td>Stepney</td>\n",
       "      <td>6.5</td>\n",
       "    </tr>\n",
       "    <tr>\n",
       "      <th>25</th>\n",
       "      <td>0.126495</td>\n",
       "      <td>98217</td>\n",
       "      <td>Wandsworth</td>\n",
       "      <td>6.9</td>\n",
       "    </tr>\n",
       "    <tr>\n",
       "      <th>26</th>\n",
       "      <td>0.123491</td>\n",
       "      <td>8033</td>\n",
       "      <td>Westminster</td>\n",
       "      <td>57.2</td>\n",
       "    </tr>\n",
       "    <tr>\n",
       "      <th>27</th>\n",
       "      <td>0.111003</td>\n",
       "      <td>31909</td>\n",
       "      <td>Woolwich</td>\n",
       "      <td>6.6</td>\n",
       "    </tr>\n",
       "  </tbody>\n",
       "</table>\n",
       "</div>"
      ],
      "text/plain": [
       "         Age    Sex        borough  rateable_value_pc\n",
       "2   0.117463  31593  Bethnal Green                4.9\n",
       "3   0.131304  63060     Camberwell                5.2\n",
       "4   0.171204  18329        Chelsea               14.7\n",
       "7   0.123097  60489         Fulham                6.1\n",
       "8   0.126405  44832      Greenwich                7.6\n",
       "9   0.138932  65687        Hackney                5.7\n",
       "11  0.134613  20117      Hampstead               13.3\n",
       "12  0.125383  31320        Holborn               32.0\n",
       "13  0.138770  81826      Islington                5.7\n",
       "14  0.152105  43115     Kensington               14.4\n",
       "15  0.138292  73511        Lambeth                6.3\n",
       "16  0.138958  32902       Lewisham                6.4\n",
       "19  0.144679  32776     Marylebone               23.2\n",
       "17  0.147480  35042     Paddington               10.7\n",
       "20  0.138745  57285        Pancras                8.7\n",
       "18  0.125373  40838         Poplar                5.7\n",
       "21  0.126364  28687     Shoreditch                8.2\n",
       "22  0.120586  50213      Southwark                6.7\n",
       "23  0.114748  14083        Stepney                6.5\n",
       "25  0.126495  98217     Wandsworth                6.9\n",
       "26  0.123491   8033    Westminster               57.2\n",
       "27  0.111003  31909       Woolwich                6.6"
      ]
     },
     "execution_count": 44,
     "metadata": {},
     "output_type": "execute_result"
    }
   ],
   "source": [
    "data_merged = age_by_dist.merge(rv,left_index=True,right_on='borough')\n",
    "data_merged"
   ]
  },
  {
   "cell_type": "markdown",
   "metadata": {},
   "source": [
    "##  Correlation"
   ]
  },
  {
   "cell_type": "markdown",
   "metadata": {},
   "source": [
    "After combining information from these two data frames, we can explore the relationship between variables. Let's start with the most obvious: correlation. \n",
    "\n",
    "Correlation tells us the extent to which two variables are related. Imagine, each day I collect the number of dogs and cats I observed in two separate variables or vectors (`dogs` and `cats`). \n",
    "\n",
    "If there is a correlation, I expect that if the number of (spotted) dogs up, the same will apply to cats.\n",
    "\n",
    "Visually, we can make a scatterplot to assess whether there is a correlation: the x-axis shows the number of dogs, the y-axis the number of cats. "
   ]
  },
  {
   "cell_type": "code",
   "execution_count": 50,
   "metadata": {},
   "outputs": [],
   "source": [
    "dogs = [1,3,5,7,2,6] # first vector\n",
    "cats = [2,4,8,7,3,5] # second vector"
   ]
  },
  {
   "cell_type": "code",
   "execution_count": 51,
   "metadata": {},
   "outputs": [
    {
     "data": {
      "text/plain": [
       "<matplotlib.axes._subplots.AxesSubplot at 0x12568cb50>"
      ]
     },
     "execution_count": 51,
     "metadata": {},
     "output_type": "execute_result"
    },
    {
     "data": {
      "image/png": "[encoded data removed]",
      "text/plain": [
       "<Figure size 432x288 with 1 Axes>"
      ]
     },
     "metadata": {},
     "output_type": "display_data"
    }
   ],
   "source": [
    "sns.scatterplot(x=dogs,y=cats)"
   ]
  },
  {
   "cell_type": "markdown",
   "metadata": {},
   "source": [
    "The figure suggests a strong correlation between the vectors for`dogs` and `cats`, i.e. we observe high values for y when x is high (and vice versa of course). \n",
    "\n",
    "Please notice that computing correlation is based on an implicit alignment between the two vectors. Each position captures the same day. If the order in `cats` would be different from `dogs` (for example the former starts on Wednesday and the latter on Sunday) I could, technically, still make a scatterplot and computer correlation but the results would be meaningless (or at least not match the intention).\n",
    "\n",
    "The visualization is helpful, but we'd like to put a number on this, quantify the strength of the relation, so we can compare if other vectors are stronger correlated. Here the Pearson correlation coefficient will come to our rescue.\n",
    "\n",
    "\n"
   ]
  },
  {
   "cell_type": "markdown",
   "metadata": {},
   "source": [
    "### Pearson Correlation\n",
    "\n",
    "A widely used measure for computing the relationship between two vectors or vectors is the Pearson correlation coefficient. This coefficient will vary between -1 and +1, meaning a strong negative respectively positive correlation. A score of 0 indicates no correlation.\n",
    "\n",
    "We will first show you how to compute the Pearson correlation coefficient yourself, purely for didactic purposes, so you know what is going on (the score is not magic, far from!). But as you can probably guess by this point, there exists a method in Pandas that will help you. We'll have a look at that later.\n",
    "\n",
    "Showing how the calculation is done, demystifies the process and helps you to understand what is going on.\n",
    "\n",
    "We need a few ingredients to compute the Pearson correlation coefficient. First, we calculate the mean and standard deviation for each vector. We need to normalize by the amount of data we have and record the number of observations  `n`, which is equal to the length of `v1` (or `v2`—remember both are aligned and equal in length!)."
   ]
  },
  {
   "cell_type": "code",
   "execution_count": 70,
   "metadata": {},
   "outputs": [],
   "source": [
    "v1 = [1,3,5,7,2,6] # first vector\n",
    "v2 = [2,4,8,7,3,5] # second vector"
   ]
  },
  {
   "cell_type": "code",
   "execution_count": 71,
   "metadata": {},
   "outputs": [],
   "source": [
    "mean_v1 = np.mean(v1)\n",
    "mean_v2 = np.mean(v2)\n",
    "std_v1 = np.std(v1)\n",
    "std_v2 = np.std(v2)\n",
    "n = len(v1)"
   ]
  },
  {
   "cell_type": "markdown",
   "metadata": {},
   "source": [
    "Next, we subtract each value a vector with the mean (of that vector of course). We repeat this for `v1` and `v2`."
   ]
  },
  {
   "cell_type": "code",
   "execution_count": 72,
   "metadata": {},
   "outputs": [],
   "source": [
    "sub_mean_v1 = [i - mean_v1 for i in v1]\n",
    "sub_mean_v2 = [i - mean_v2 for i in v2]"
   ]
  },
  {
   "cell_type": "code",
   "execution_count": 73,
   "metadata": {},
   "outputs": [
    {
     "data": {
      "text/plain": [
       "([-3.0, -1.0, 1.0, 3.0, -2.0, 2.0],\n",
       " [-2.833333333333333,\n",
       "  -0.833333333333333,\n",
       "  3.166666666666667,\n",
       "  2.166666666666667,\n",
       "  -1.833333333333333,\n",
       "  0.16666666666666696])"
      ]
     },
     "execution_count": 73,
     "metadata": {},
     "output_type": "execute_result"
    }
   ],
   "source": [
    "sub_mean_v1,sub_mean_v2"
   ]
  },
  {
   "cell_type": "markdown",
   "metadata": {},
   "source": [
    "Then we compute products of the values in `sub_mean_v1` and `sub_mean_v2` position-wise, i.e we multiply the first value in `sub_mean_v1` with first the value `sub_mean_v2` etc.\n",
    "\n",
    "A convenient function for doing this `zip()`, which, as the name suggests, \"zips\" two lists based on their positional index. For example if we `zip` `sub_mean_v1` and `sub_mean_v1` we get:"
   ]
  },
  {
   "cell_type": "code",
   "execution_count": 74,
   "metadata": {},
   "outputs": [
    {
     "data": {
      "text/plain": [
       "[(-3.0, -2.833333333333333),\n",
       " (-1.0, -0.833333333333333),\n",
       " (1.0, 3.166666666666667),\n",
       " (3.0, 2.166666666666667),\n",
       " (-2.0, -1.833333333333333),\n",
       " (2.0, 0.16666666666666696)]"
      ]
     },
     "execution_count": 74,
     "metadata": {},
     "output_type": "execute_result"
    }
   ],
   "source": [
    "diffs_zipped = list(zip(sub_mean_v1,sub_mean_v2))\n",
    "diffs_zipped"
   ]
  },
  {
   "cell_type": "markdown",
   "metadata": {},
   "source": [
    "Each element in the list `diffs_zipped` is a tuple. We multiply the elements in each tuple.."
   ]
  },
  {
   "cell_type": "code",
   "execution_count": 75,
   "metadata": {},
   "outputs": [
    {
     "data": {
      "text/plain": [
       "[8.5,\n",
       " 0.833333333333333,\n",
       " 3.166666666666667,\n",
       " 6.500000000000001,\n",
       " 3.666666666666666,\n",
       " 0.3333333333333339]"
      ]
     },
     "execution_count": 75,
     "metadata": {},
     "output_type": "execute_result"
    }
   ],
   "source": [
    "products = [i*j for i,j in diffs_zipped]\n",
    "products"
   ]
  },
  {
   "cell_type": "markdown",
   "metadata": {},
   "source": [
    "\n",
    "... and we sum all the values, which will give is the nominator of Pearson correlation coefficient."
   ]
  },
  {
   "cell_type": "code",
   "execution_count": 76,
   "metadata": {},
   "outputs": [
    {
     "data": {
      "text/plain": [
       "23.0"
      ]
     },
     "execution_count": 76,
     "metadata": {},
     "output_type": "execute_result"
    }
   ],
   "source": [
    "nominator = sum(products)\n",
    "nominator"
   ]
  },
  {
   "cell_type": "markdown",
   "metadata": {},
   "source": [
    "To obtain the coefficient, we divide the nominator by the product of the standard deviations and the number of observations."
   ]
  },
  {
   "cell_type": "code",
   "execution_count": 77,
   "metadata": {},
   "outputs": [],
   "source": [
    "denominator = std_v1 * std_v2 * len(v1)"
   ]
  },
  {
   "cell_type": "code",
   "execution_count": 78,
   "metadata": {},
   "outputs": [
    {
     "data": {
      "text/plain": [
       "0.8390957231764806"
      ]
     },
     "execution_count": 78,
     "metadata": {},
     "output_type": "execute_result"
    }
   ],
   "source": [
    "nominator / denominator"
   ]
  },
  {
   "cell_type": "markdown",
   "metadata": {},
   "source": [
    "Looking closer at these steps you can intuitively grasp what determines the strength of the correlation. If two values (at the same position) differ from the mean in equal terms, this will result in a higher product (remember from high school that the product of two negative numbers is positive!) and, in turn, increases the value of the nominator. "
   ]
  },
  {
   "cell_type": "markdown",
   "metadata": {},
   "source": [
    "Of course, Pandas provides a method called`.corr()` to compute correlations between two instances of `pd.Series`. We first convert each vector to an instance of `pd.Series` and then calculate the correlation coefficient, which, no surprise, should be exactly the same!"
   ]
  },
  {
   "cell_type": "code",
   "execution_count": 79,
   "metadata": {},
   "outputs": [
    {
     "data": {
      "text/plain": [
       "0.8390957231764807"
      ]
     },
     "execution_count": 79,
     "metadata": {},
     "output_type": "execute_result"
    }
   ],
   "source": [
    "pd.Series(v1).corr(pd.Series(v2))"
   ]
  },
  {
   "cell_type": "markdown",
   "metadata": {},
   "source": [
    "Of course, now we can also compute the relation between age and wealth."
   ]
  },
  {
   "cell_type": "code",
   "execution_count": 80,
   "metadata": {},
   "outputs": [
    {
     "data": {
      "text/plain": [
       "0.03575731342455902"
      ]
     },
     "execution_count": 80,
     "metadata": {},
     "output_type": "execute_result"
    }
   ],
   "source": [
    "data_merged['Age'].corr(data_merged['rateable_value_pc'])"
   ]
  },
  {
   "cell_type": "markdown",
   "metadata": {},
   "source": [
    "Actually, that's quite a low correlation! This does not bode well for our expectation that richer boroughs are associated with longer lifespans. But we'll turn that to that shortly."
   ]
  },
  {
   "cell_type": "code",
   "execution_count": 81,
   "metadata": {},
   "outputs": [
    {
     "data": {
      "text/plain": [
       "<matplotlib.axes._subplots.AxesSubplot at 0x1257c95d0>"
      ]
     },
     "execution_count": 81,
     "metadata": {},
     "output_type": "execute_result"
    },
    {
     "data": {
      "image/png": "[encoded data removed]",
      "text/plain": [
       "<Figure size 432x288 with 1 Axes>"
      ]
     },
     "metadata": {},
     "output_type": "display_data"
    }
   ],
   "source": [
    "sns.scatterplot(x='rateable_value_pc',y='Age',data=data_merged)"
   ]
  },
  {
   "cell_type": "markdown",
   "metadata": {},
   "source": [
    "### Spearman Correlation"
   ]
  },
  {
   "cell_type": "markdown",
   "metadata": {},
   "source": [
    "Pearson correlation is one option of many to compute the strength of the relationship between two variables. The choice depends on your research priorities and some procedures will be more relevant or valid than others. \n",
    "\n",
    "Pearson takes into account the absolute counts of the number of cats and dogs. But imagine, that I don't care about how many animals I observe each day what matters is that ranking of the days is correlated. In this case, the ranking of the days has priority. In this scenario, we should calculate the Spearman rank correlation.  \n",
    "\n",
    "To obtain this coefficient, we need to compute the rank of each day, for example, the third item in `v1` has rank 4 (i.e. it comes fourth after the items on positions 0, 1 and 4)"
   ]
  },
  {
   "cell_type": "code",
   "execution_count": 86,
   "metadata": {},
   "outputs": [
    {
     "data": {
      "text/plain": [
       "([1, 3, 5, 7, 2, 6], [1, 3, 4, 6, 2, 5])"
      ]
     },
     "execution_count": 86,
     "metadata": {},
     "output_type": "execute_result"
    }
   ],
   "source": [
    "v1_ranked = {v:i+1 for i,v in enumerate(sorted(v1))} # compute the rank if each days\n",
    "v1_rank = [v1_ranked[i] for i in v1]\n",
    "v1, v1_rank "
   ]
  },
  {
   "cell_type": "code",
   "execution_count": 87,
   "metadata": {},
   "outputs": [
    {
     "data": {
      "text/plain": [
       "([2, 4, 8, 7, 3, 5], [1, 3, 6, 5, 2, 4])"
      ]
     },
     "execution_count": 87,
     "metadata": {},
     "output_type": "execute_result"
    }
   ],
   "source": [
    "v2_ranked = {v:i+1 for i,v in enumerate(sorted(v2))} # compute the rank if each days\n",
    "v2_rank = [v2_ranked[i] for i in v2]\n",
    "v2, v2_rank"
   ]
  },
  {
   "cell_type": "code",
   "execution_count": 89,
   "metadata": {},
   "outputs": [],
   "source": [
    "mean_v1 = np.mean(v1_rank) # we compute the mean ranks\n",
    "mean_v2 = np.mean(v2_rank)"
   ]
  },
  {
   "cell_type": "code",
   "execution_count": 99,
   "metadata": {},
   "outputs": [],
   "source": [
    "nominator = np.sum([(i1 - mean_v1)*(i2 - mean_v2) for i1,i2 in zip(v1_rank,v2_rank)]) # we compute the difference between rank and mean rank"
   ]
  },
  {
   "cell_type": "code",
   "execution_count": 100,
   "metadata": {},
   "outputs": [],
   "source": [
    "denominator = np.std(v1_rank) * np.std(v2_rank) * len(v2_rank)"
   ]
  },
  {
   "cell_type": "code",
   "execution_count": 101,
   "metadata": {},
   "outputs": [
    {
     "data": {
      "text/plain": [
       "0.8285714285714286"
      ]
     },
     "execution_count": 101,
     "metadata": {},
     "output_type": "execute_result"
    }
   ],
   "source": [
    "nominator/denominator"
   ]
  },
  {
   "cell_type": "code",
   "execution_count": 102,
   "metadata": {},
   "outputs": [
    {
     "data": {
      "text/plain": [
       "0.8285714285714287"
      ]
     },
     "execution_count": 102,
     "metadata": {},
     "output_type": "execute_result"
    }
   ],
   "source": [
    "pd.Series(v1).corr(pd.Series(v2), method='spearman')"
   ]
  },
  {
   "cell_type": "code",
   "execution_count": 103,
   "metadata": {},
   "outputs": [
    {
     "data": {
      "text/plain": [
       "0.2843416175645498"
      ]
     },
     "execution_count": 103,
     "metadata": {},
     "output_type": "execute_result"
    }
   ],
   "source": [
    "data_merged['Age'].corr(data_merged['rateable_value_pc'],method='spearman')"
   ]
  },
  {
   "cell_type": "markdown",
   "metadata": {},
   "source": [
    "Correlation does not mean causation. Oftentimes, correlations are 'spurious', i.e. it is unlikely there exists a realistic mechanism that explains the association between two variables. \n",
    " \n",
    "There is even [a website on this topic!](https://www.tylervigen.com/spurious-correlations)\n",
    "\n",
    "Be careful when making claims based on correlation. As often, the statistical experiment won't give you an answer to your question. There is no simple way to determine if a correlation is spurious. It depends on your domain expertise to make sense of these results and justify them.\n"
   ]
  },
  {
   "cell_type": "markdown",
   "metadata": {},
   "source": [
    "# Linear Regression"
   ]
  },
  {
   "cell_type": "markdown",
   "metadata": {},
   "source": [
    "Whereas correlation tells you that two variables, X and Y, are related (albeit in a very superficial way) you can not model their relationship: you can not predict Y using X (you only know that when X goes up, Y goes up, seeing more dogs implies more cats to gaze at).\n",
    "\n",
    "Regression modelling, on the other hand, attempts to model the mechanistic relationship between two variables: how many cats do I expect to see, given that I observed 5 dogs?\n",
    "\n",
    "Modelling the mechanistic relationship allows us to predict phenomena based on a number of what are usually called independent predictor variables.\n",
    "\n",
    "Returning to our example of age and wealth (goodbye doggies, you were very helpful), we'd like to see if we can predict the average age (response) in a district given the rateable value per capita (predictor).\n",
    "\n",
    "Notice here that we have to rely on common sense and domain expertise to construct a model that makes sense. We could also model the reverse, assuming that populating an area with younger people will affect rateable value. Of course, that also makes sense in some universe and could be called reverse causality. \n",
    "\n",
    "However, in the way we framed the research (and again this a construction and based on construct validity) we framed as wealth having an impact on age: in poor district the people die younger, people dying younger doesn't make a place poorer. \n",
    "\n",
    "R -> A\n",
    "\n",
    "and not \n",
    "\n",
    "R <- A\n",
    "\n",
    "But these are assumptions, (questionable) projections on the data. Oftentimes, when reading a historical paper that uses statistical methods, it is often more important to critically look at the relation between narrative and method (what is data supposed to capture (or mean) and how is combined into a causal theory)."
   ]
  },
  {
   "cell_type": "markdown",
   "metadata": {},
   "source": [
    "Let's first discuss what a regression model does, before we continue with a more detailed discussion on how to run a regression model."
   ]
  },
  {
   "cell_type": "markdown",
   "metadata": {},
   "source": [
    "In it's simplest form a linear model we try to predict a value (age) based on a linear combination of another valie (rateable value per capita). We want to predict the former using the latter.\n",
    "\n",
    "Using `seaborn` we can make a dispersion plot where each observation is turned into a point on the figure. The x-axis (`x=`) shows the rateable value, the y-axis (`y=`) age. "
   ]
  },
  {
   "cell_type": "code",
   "execution_count": null,
   "metadata": {},
   "outputs": [],
   "source": [
    "sns.scatterplot(x='rateable_value_pc',\n",
    "                y='Age',\n",
    "                data=data_merged)"
   ]
  },
  {
   "cell_type": "markdown",
   "metadata": {},
   "source": [
    "How? Looking at the scatterplot the relation between the two is not obvious. In it's simplest, a linear regression will model the relation between x and y by drawing a line best \"fits\" the data, i.e. closest to the observations as possible."
   ]
  },
  {
   "cell_type": "markdown",
   "metadata": {},
   "source": [
    "From your high school you may remember the equation of a line.\n",
    "\n",
    "y = a + b*x\n",
    "\n",
    "age = intercept + slope * rateable value per capita\n",
    "\n",
    "a is intercept, the point where the line crosses to y-axis if x is zero. You may also think as: what age do we expect for a place with zero rateable value.\n",
    "\n",
    "b is the slope, and determinss the strength the y and x: how much change to we expect in y after one unit change x. What how many years do we expect to add moving from a place with rateable value 3 to 4 for example.\n",
    "\n",
    "We know age and rateable value. We use these data to estimate the value of a (intercept) and b slope. We have a closer look at this later.\n",
    "\n",
    "For now we plot the result, i.e. what the model thinks the line should look like after observing the data."
   ]
  },
  {
   "cell_type": "code",
   "execution_count": null,
   "metadata": {},
   "outputs": [],
   "source": [
    "sns.regplot(x=\"rateable_value_pc\", y=\"Age\", \n",
    "                 data=data_merged,\n",
    "                 scatter_kws={\"s\": 10},\n",
    "                 order=1,ci=False)"
   ]
  },
  {
   "cell_type": "markdown",
   "metadata": {},
   "source": [
    "The line plotted is based on a linear regression and is the line that fits best all observations. \n",
    "\n",
    "The fact that models \"work\", doesn't nesicarilly mean they make sense. A best fit can still be pretty bad.\n",
    "\n",
    "As you observe there are many values cluttered together in the lower range and only a few at the right hand side of the figure.\n",
    "\n",
    "We can improve the fit by transforming the values on a-axis. We take the natural logarthim of the rateable value per capite, this will make small differences (pull apart the observation at the lower end of independent variable) and large difference smaller (push those places at the far right to the other observations).\n",
    "\n",
    "But what is the natural logarithm? Let's have a look, what happens if we take the logarithm of 1000"
   ]
  },
  {
   "cell_type": "code",
   "execution_count": null,
   "metadata": {},
   "outputs": [],
   "source": [
    "np.log(1000)"
   ]
  },
  {
   "cell_type": "markdown",
   "metadata": {},
   "source": [
    "We get a number close to 7 (i.e. 6.907755278982137). What does this mean? The logarithm is inverse of exponentation: if x = log(y) and y = exp(x), or sticking to our example, if np.log(1000) produces 6.907755 then \n",
    "e<sup>6.90775</sup> will approximately equal 1000 (not exactly as rounded the numbers.\n",
    "`e` is called Euler's number and is approximately equal to 2.71828182845904523536028747135266249775724709369995 according to [Wikipedia]. You can check this for yourself"
   ]
  },
  {
   "cell_type": "code",
   "execution_count": null,
   "metadata": {},
   "outputs": [],
   "source": [
    "np.exp(6.907755278982137)"
   ]
  },
  {
   "cell_type": "code",
   "execution_count": null,
   "metadata": {},
   "outputs": [],
   "source": [
    "np.power(2.71828,6.907755278982137)"
   ]
  },
  {
   "cell_type": "markdown",
   "metadata": {},
   "source": [
    "But why we would we do this, why would we effectively rescale one our variables? This partly solves the problem of dispersion: the logarithmic scale can make linear modelling easier, as sometimes value becomes linear on a logarithmic scale. Below we first show a toy example using numbers that become increasingly separated."
   ]
  },
  {
   "cell_type": "code",
   "execution_count": null,
   "metadata": {},
   "outputs": [],
   "source": [
    "x_1 = [10,100,1000,10000]"
   ]
  },
  {
   "cell_type": "markdown",
   "metadata": {},
   "source": [
    "As you seen it is very difficult to model sudden gaps with a linear line..."
   ]
  },
  {
   "cell_type": "code",
   "execution_count": null,
   "metadata": {},
   "outputs": [],
   "source": [
    "sns.regplot(x=list(range(len(x_1))), y=x_1, \n",
    "                 scatter_kws={\"s\": 80},\n",
    "                 order=1,ci=False)"
   ]
  },
  {
   "cell_type": "markdown",
   "metadata": {},
   "source": [
    "However, if we take the logarith, these values become neatly linear."
   ]
  },
  {
   "cell_type": "code",
   "execution_count": null,
   "metadata": {},
   "outputs": [],
   "source": [
    "x_2 = np.log([10,100,1000,10000])"
   ]
  },
  {
   "cell_type": "code",
   "execution_count": null,
   "metadata": {},
   "outputs": [],
   "source": [
    "sns.regplot(x=list(range(len(x_2))), y=x_2, \n",
    "                 scatter_kws={\"s\": 80},\n",
    "                 order=1,ci=False)"
   ]
  },
  {
   "cell_type": "markdown",
   "metadata": {},
   "source": [
    "Even though 'real' data never fits patterns as neatly, we observe similar changes when inspecting the rateable value per capita variable."
   ]
  },
  {
   "cell_type": "code",
   "execution_count": null,
   "metadata": {},
   "outputs": [],
   "source": [
    "data_merged.sort_values('rateable_value_pc',inplace=True)"
   ]
  },
  {
   "cell_type": "code",
   "execution_count": null,
   "metadata": {},
   "outputs": [],
   "source": [
    "sns.regplot(x=list(range(22)), y=data_merged[\"rateable_value_pc\"], \n",
    "                 scatter_kws={\"s\": 10},\n",
    "                 order=1,ci=False)"
   ]
  },
  {
   "cell_type": "code",
   "execution_count": null,
   "metadata": {},
   "outputs": [],
   "source": [
    "data_merged['rvc_log'] = np.log(data_merged['rateable_value_pc'])"
   ]
  },
  {
   "cell_type": "code",
   "execution_count": null,
   "metadata": {},
   "outputs": [],
   "source": [
    "sns.regplot(x=list(range(22)), y=data_merged[\"rvc_log\"], \n",
    "                 scatter_kws={\"s\": 10},\n",
    "                 order=1,ci=False)"
   ]
  },
  {
   "cell_type": "markdown",
   "metadata": {},
   "source": [
    "Both lines don't fit the data perfectly, however the later one does seem approximate the actual observed values better.\n",
    "\n",
    "Also, if now model age as a function of the logged rateable value, we "
   ]
  },
  {
   "cell_type": "code",
   "execution_count": null,
   "metadata": {},
   "outputs": [],
   "source": [
    "data_merged['rvc_log'] = np.log(data_merged['rateable_value_pc'])"
   ]
  },
  {
   "cell_type": "code",
   "execution_count": null,
   "metadata": {},
   "outputs": [],
   "source": [
    "sns.regplot(x=\"rvc_log\", y=\"Age\", \n",
    "                 data=data_merged,\n",
    "                 scatter_kws={\"s\": 10},\n",
    "                 order=1,ci=False)"
   ]
  },
  {
   "cell_type": "markdown",
   "metadata": {},
   "source": [
    "Later in this lecture we have a closer look and actually quantify the difference logging makes with respect to the goodness of fit. For now, a visual inspection suffices. Even though, we could add, that logging also improved the correlation between the two variables."
   ]
  },
  {
   "cell_type": "code",
   "execution_count": null,
   "metadata": {},
   "outputs": [],
   "source": [
    "data_merged['rateable_value_pc'].corr(data_merged['Age'],method='pearson')"
   ]
  },
  {
   "cell_type": "code",
   "execution_count": null,
   "metadata": {},
   "outputs": [],
   "source": [
    "data_merged['rvc_log'].corr(data_merged['Age'],method='pearson')"
   ]
  },
  {
   "cell_type": "markdown",
   "metadata": {},
   "source": [
    "Generally logging values doesn't harm, but you'll have to be careful as it influences your interpretation and the predictions to model will make. So you have to be carefull nonetheless. "
   ]
  },
  {
   "cell_type": "markdown",
   "metadata": {},
   "source": [
    "A closer look at the scatterplot and the data shown that two (or three) places have a signficantly higher rateable value: Holborn and Westminster, and also Marelybone. This is confirmed by the boxplot below.  \n",
    "\n",
    "How to approach these observation: one albeit, very problematich approach is to consider them as outlier and remove them from the datasets.\n",
    "\n",
    "This is a classical example of where interventions need to motivated or at least explained by domain expertise. Excluding the Holborn and Westminster has a huge effect on the slope of the regression line."
   ]
  },
  {
   "cell_type": "code",
   "execution_count": null,
   "metadata": {},
   "outputs": [],
   "source": [
    "data_merged[['borough','rateable_value_pc']]"
   ]
  },
  {
   "cell_type": "code",
   "execution_count": null,
   "metadata": {},
   "outputs": [],
   "source": [
    "sns.boxplot(data_merged.rateable_value_pc)"
   ]
  },
  {
   "cell_type": "markdown",
   "metadata": {},
   "source": [
    "Let's remove these districts to how they affect our model."
   ]
  },
  {
   "cell_type": "code",
   "execution_count": null,
   "metadata": {},
   "outputs": [],
   "source": [
    "data_wo_outliers = data_merged[~data_merged.borough.isin(['Westminster',\"Holborn\"])]"
   ]
  },
  {
   "cell_type": "code",
   "execution_count": null,
   "metadata": {},
   "outputs": [],
   "source": [
    "sns.regplot(x=\"rvc_log\", y=\"Age\", data=data_merged,\n",
    "                 scatter_kws={\"s\": 10},\n",
    "                 order=1,ci=False)\n",
    "\n",
    "sns.regplot(x=\"rvc_log\", y=\"Age\", data=data_wo_outliers,\n",
    "                 scatter_kws={\"s\": 10},\n",
    "                 order=1,ci=False)"
   ]
  },
  {
   "cell_type": "markdown",
   "metadata": {},
   "source": [
    "In the figure the orange line shows the regression line after removing the so-called 'outliers'. You see how throwing away information (i.e. observations) is tricky thing: yes it easier to model the relationship between the variables linearly. However, this comes at a cost, we won't be able to accurately say something about the wealthier districts, and (if we believe the orange \n",
    "\n",
    "However, if you're only interested in predicting the age for a certain type of boroughs, and have good reasons to believe the ones we throwns are qualitatively different and should be considered as seperate case studies, then yes, it could be allow the consider only certain boroughs.\n",
    "\n",
    "In any case, it is important to know the a few place carry a lot of weight, i.e. the influence the slope of the regression lines substantially.\n",
    "\n",
    "\n",
    "Again, here, or domain expertise has priority over statistics, and the statistics alone can not provide you with the answer of how to proceed and analyse your data."
   ]
  },
  {
   "cell_type": "code",
   "execution_count": null,
   "metadata": {},
   "outputs": [],
   "source": [
    "print(data_merged['rvc_log'].corr(data_merged['Age']))\n",
    "print(data_wo_outliers['rvc_log'].corr(data_wo_outliers['Age']))\n"
   ]
  },
  {
   "cell_type": "code",
   "execution_count": null,
   "metadata": {},
   "outputs": [],
   "source": [
    "sns.regplot(x=\"rvc_log\", y=\"Age\", \n",
    "                 data=data_wo_outliers,\n",
    "                 scatter_kws={\"s\": 10},\n",
    "                 order=1,ci=False)"
   ]
  },
  {
   "cell_type": "markdown",
   "metadata": {},
   "source": [
    "Hopefully, this largely visual introduction demonstrated the use of linear regression and some of problems that you are likely to encounter. Again, we'd like to stress that often the solution to these issues often require you to lean on your domain expertise as historian. To solutions are often not statistical. \n",
    "\n",
    "History always should come before statistics."
   ]
  },
  {
   "cell_type": "markdown",
   "metadata": {},
   "source": [
    "## Linear Regression (a closer look)\n",
    "\n",
    "In the preceding section we approached the idea of linear regression from a more intuitive, visual perspective. In this section we have a closer look at the reading the results and outputs that accompany regression analysis. \n",
    "\n",
    "Performing a linear regression is rather straightforward with  the `statsmodels` package in Python. There a just a few things to be careful about. First we define the response variable, in this case 'Age'."
   ]
  },
  {
   "cell_type": "code",
   "execution_count": null,
   "metadata": {},
   "outputs": [],
   "source": [
    "Y = data_merged['Age']"
   ]
  },
  {
   "cell_type": "markdown",
   "metadata": {},
   "source": [
    "Next we select the independent variable from the dataframe."
   ]
  },
  {
   "cell_type": "code",
   "execution_count": null,
   "metadata": {},
   "outputs": [],
   "source": [
    "X = data_merged['rateable_value_pc']"
   ]
  },
  {
   "cell_type": "markdown",
   "metadata": {},
   "source": [
    "Now there is one small trick to keep in mind. As said earlier the equation of a simple linear model is \n",
    "\n",
    "$y = a + b*x$\n",
    "\n",
    "In this equation we know both $y$ and $x$ these are data we observed. We don't know $a$ and $b$, these are the parameters we want to learn from the data. \n",
    "\n",
    "Running a regression will return an estimate for $a$ and $b$ most consistent with the observed data. \n",
    "\n",
    "Because we want `statsmodels` to estimate both the intercept $a$ and the slope $b$ we have to add one more column with only a constant to `X`. Luckily this is really straightforwards with the `add_constant` function."
   ]
  },
  {
   "cell_type": "code",
   "execution_count": null,
   "metadata": {},
   "outputs": [],
   "source": [
    "X = sm.add_constant(X)\n",
    "X "
   ]
  },
  {
   "cell_type": "markdown",
   "metadata": {},
   "source": [
    "Now we are ready instantiate the model and fit it. We save the result of the fitted model in the `results` variable."
   ]
  },
  {
   "cell_type": "code",
   "execution_count": null,
   "metadata": {},
   "outputs": [],
   "source": [
    "model = sm.OLS(Y,X) # instantiate model\n",
    "results = model.fit() # fit model"
   ]
  },
  {
   "cell_type": "markdown",
   "metadata": {},
   "source": [
    "Applying the `.summary()` method to the fitted model will print a rather large report."
   ]
  },
  {
   "cell_type": "code",
   "execution_count": null,
   "metadata": {},
   "outputs": [],
   "source": [
    "results.summary()"
   ]
  },
  {
   "cell_type": "markdown",
   "metadata": {},
   "source": [
    "Most import values (for our purposes) are at the top right and the midde lines that report on the coefficients (`const` and `rvc_log`). Let's start with the latter, as these are most influential in the interpretations based on regression modelling.\n"
   ]
  },
  {
   "cell_type": "markdown",
   "metadata": {},
   "source": [
    "`const 27.4098` means that for place with zero rateable value, we expect the average age to be around 25.2. This is the estimate for the intercept, i.e. the value of y (Age) when x (rateable value) = 0. \n",
    "`rateable_value_pc 0.0429` this is an estimate of the slape, the increase in y for one unit change in y: for example if the rateable value changes from 1 to 2 we expect the mean age to increase with 0.04 years. \n",
    "\n",
    "Now let's look at the other statistics reported here for these coefficients. Continuing with the estimate for `rateable_value_pc` the p-value is around 0.1 higher than the traditional 0.5 threshold commonly used in statistics. And the confidence intervals range from -0.010 to 0.096. \n",
    "\n",
    "Notice that this 0 is included in the confidence interval. A slope of zero means a horizontal line, and actually no change in y for x. The possibiliy that x and y are not related in any positive or negative way is well within the range of possibilities.\n",
    "\n",
    "p-values and confidence remain rather abstract and difficult to explain, and statisticians tend to doubt their use. In human language, these number tells you how confident the model is about where to draw a line to best fit all observed variables. It is really shore that the intercepts is higher than zero, which is not surprising and probably somewhere between `26.523`\t`28.296`. \n",
    "\n",
    "However, it is less confident about the slope, which can go down (-0.010) as well as up (0.096).\n",
    "\n",
    "What happens if we fit a new model with logged rateable values values."
   ]
  },
  {
   "cell_type": "code",
   "execution_count": null,
   "metadata": {},
   "outputs": [],
   "source": [
    "Y_2 = data_merged['Age']\n",
    "X_2 = data_merged['rvc_log']\n",
    "X_2 = sm.add_constant(X_2)\n",
    "model_2 = sm.OLS(Y_2,X_2) # instantiate model\n",
    "results_2 = model_2.fit() # fit model"
   ]
  },
  {
   "cell_type": "code",
   "execution_count": null,
   "metadata": {},
   "outputs": [],
   "source": [
    "results_2.summary()"
   ]
  },
  {
   "cell_type": "markdown",
   "metadata": {},
   "source": [
    "Using the log-scale, change coefficients quite a lot especially for the rateable value. The model is now more certain the relation is postive and does not include the zero in the range of possibilities. \n",
    "\n",
    "For each change in x (the log of rateable value) we expect to add one year and a bit to `y` (1.2195). It is now a bit more difficult to understand, as the absolute change is bigger with each step in `x`."
   ]
  },
  {
   "cell_type": "code",
   "execution_count": null,
   "metadata": {},
   "outputs": [],
   "source": [
    "np.exp(2), np.exp(3), np.exp(4)"
   ]
  },
  {
   "cell_type": "markdown",
   "metadata": {},
   "source": [
    "This means that the model thinks that change in age is the same when going from a place with rateable value 7 to 20 as is transitioning from 20 to 54."
   ]
  },
  {
   "cell_type": "markdown",
   "metadata": {},
   "source": [
    "What all the statistics for the `const` and `rvc_log` are more formal ways for conveying where the model thinks the line should be.\n",
    "\n",
    "We can make these results more intuitive using a \"bootstrap\" method. We construct the mean and confidence intervals repeatin the following steps, let's say 1000 times:\n",
    "- sample a few observations from the data (50% in each iterations)\n",
    "- fit the model and record the values for the intercept and the slope\n",
    "- plot the line using these value or collect them and compute the 2.5 and 97.5 percentile range."
   ]
  },
  {
   "cell_type": "code",
   "execution_count": null,
   "metadata": {},
   "outputs": [],
   "source": [
    "#data_merged.sort_values('re',inplace=True)\n",
    "fig, ax = plt.subplots(figsize=(5, 5))\n",
    "ax.scatter('rvc_log', 'Age',data=data_merged)\n",
    "beta = []\n",
    "\n",
    "for _ in range(1000):\n",
    "    dms = data_merged.sample(frac=.66)\n",
    "    Y_ = dms['Age']\n",
    "    X_ = dms['rvc_log']\n",
    "    X_ = sm.add_constant(X_)\n",
    "    model_ = sm.OLS(Y_,X_)\n",
    "    results_ = model_.fit() \n",
    "    beta.append(results_.params['rvc_log'])\n",
    "\n",
    "    ax.plot(data_merged['rvc_log'], results_.params['const'] + (data_merged['rvc_log']*results_.params['rvc_log']) , '-g',alpha=.5)\n"
   ]
  },
  {
   "cell_type": "code",
   "execution_count": null,
   "metadata": {},
   "outputs": [],
   "source": [
    "pd.Series(beta).plot(kind='density')\n",
    "pd.Series(beta).quantile([.025,.975])"
   ]
  },
  {
   "cell_type": "markdown",
   "metadata": {},
   "source": [
    "The values are not exactly the same because we have a small sample and only ran a few iterations. However it gives more intuitive way of understanding of what the p-values and confidence intervals mean. Instead of bootstrapping you can also compute the formula-based intervals with `statsmodels`."
   ]
  },
  {
   "cell_type": "code",
   "execution_count": null,
   "metadata": {},
   "outputs": [],
   "source": [
    "pred = results_2.get_prediction(X_2)\n",
    "df_pred = pd.DataFrame(pred.conf_int())\n",
    "df_pred['mean'] = pred.predicted_mean"
   ]
  },
  {
   "cell_type": "code",
   "execution_count": null,
   "metadata": {},
   "outputs": [],
   "source": [
    "fig, ax = plt.subplots(figsize=(5, 5))\n",
    "ax.scatter(data_merged['rvc_log'], 'Age',data=data_merged,alpha=.5)\n",
    "ax.plot(data_merged['rvc_log'], df_pred['mean']  , '-ro',alpha=.75)\n",
    "ax.plot(data_merged['rvc_log'], df_pred[0]  , '-g',alpha=.75)\n",
    "ax.plot(data_merged['rvc_log'], df_pred[1]  , '-g',alpha=.75)"
   ]
  },
  {
   "cell_type": "markdown",
   "metadata": {},
   "source": [
    "Please notice that coeficients and their confidence intervals are estimates of the line not the actual data. These are, as you can see, well outside the range given by the predicted values and their confidence intervals."
   ]
  },
  {
   "cell_type": "markdown",
   "metadata": {},
   "source": [
    "The `.summary()` method provides other statistics that help you understanding how well the model performs."
   ]
  },
  {
   "cell_type": "code",
   "execution_count": null,
   "metadata": {},
   "outputs": [],
   "source": [
    "results_2.summary()"
   ]
  },
  {
   "cell_type": "markdown",
   "metadata": {},
   "source": [
    "`RMSE`"
   ]
  },
  {
   "cell_type": "code",
   "execution_count": null,
   "metadata": {},
   "outputs": [],
   "source": [
    "pred = results_2.get_prediction(X_2)\n",
    "Y_hat = pred.predicted_mean \n",
    "var_pred = [(y - y_hat)**2 for y,y_hat in zip(Y,Y_hat)] "
   ]
  },
  {
   "cell_type": "code",
   "execution_count": null,
   "metadata": {},
   "outputs": [],
   "source": [
    "Y_hat"
   ]
  },
  {
   "cell_type": "markdown",
   "metadata": {},
   "source": [
    "`R-squared`"
   ]
  },
  {
   "cell_type": "code",
   "execution_count": null,
   "metadata": {},
   "outputs": [],
   "source": [
    "np.sqrt(np.sum(var_pred) / len(Y))"
   ]
  },
  {
   "cell_type": "code",
   "execution_count": null,
   "metadata": {},
   "outputs": [],
   "source": [
    "var_total = [(y - np.mean(Y))**2 for y,y_hat in zip(Y,Y_hat)] "
   ]
  },
  {
   "cell_type": "code",
   "execution_count": null,
   "metadata": {},
   "outputs": [],
   "source": [
    "round(1 - (sum(var_pred)/sum(var_total)),3)"
   ]
  },
  {
   "cell_type": "code",
   "execution_count": null,
   "metadata": {},
   "outputs": [],
   "source": [
    "from statsmodels.stats.outliers_influence import OLSInfluence\n",
    "influence = OLSInfluence(results)\n",
    "fig, ax = plt.subplots(figsize=(5, 5))\n",
    "ax.axhline(-2.5, linestyle='--', color='C1')\n",
    "ax.axhline(2.5, linestyle='--', color='C1')\n",
    "ax.scatter(influence.cooks_distance[0], influence.influence,\n",
    "s=1000 * np.sqrt(influence.cooks_distance[0]),\n",
    "alpha=0.5)\n",
    "ax.set_xlabel('influence')\n",
    "ax.set_ylabel('standardized residuals')"
   ]
  },
  {
   "cell_type": "code",
   "execution_count": null,
   "metadata": {},
   "outputs": [],
   "source": [
    "data_merged.iloc[np.argmax(influence.hat_diag_factor)]"
   ]
  },
  {
   "cell_type": "code",
   "execution_count": null,
   "metadata": {},
   "outputs": [],
   "source": [
    "Y_woo = data_wo_outliers['Age']\n",
    "x_woo = data_wo_outliers['rvc_log']\n",
    "#X_woo = np.column_stack((x_woo, np.log(data_wo_outliers['index'])))\n",
    "X_woo = sm.add_constant(x_woo)\n",
    "model_woo = sm.OLS(Y_woo,X_woo)\n",
    "results_woo = model_woo.fit()"
   ]
  },
  {
   "cell_type": "code",
   "execution_count": null,
   "metadata": {},
   "outputs": [],
   "source": [
    "results_woo.summary()"
   ]
  },
  {
   "cell_type": "code",
   "execution_count": null,
   "metadata": {},
   "outputs": [],
   "source": [
    "data_wo_outliers.sort_values('rvc_log',inplace=True)\n",
    "fig, ax = plt.subplots(figsize=(5, 5))\n",
    "ax.scatter('rvc_log', 'Age',data=data_wo_outliers)\n",
    "beta = []\n",
    "for _ in range(100):\n",
    "    dms = data_wo_outliers.sample(frac=.5)\n",
    "    Y = dms['Age']\n",
    "    X = dms['rvc_log']\n",
    "    X = sm.add_constant(X)\n",
    "    model = sm.OLS(Y,X)\n",
    "    results = model.fit() \n",
    "    beta.append(results.params['rvc_log'])\n",
    "\n",
    "    ax.plot(data_wo_outliers['rvc_log'], results.params['const'] + (data_wo_outliers['rvc_log']*results.params['rvc_log']) , '-g',alpha=.5)\n"
   ]
  },
  {
   "cell_type": "code",
   "execution_count": null,
   "metadata": {},
   "outputs": [],
   "source": [
    "pd.Series(beta).plot(kind='hist',bins=25)\n",
    "pd.Series(beta).quantile([.025,0.975])"
   ]
  },
  {
   "cell_type": "code",
   "execution_count": null,
   "metadata": {},
   "outputs": [],
   "source": [
    "wo_outliers['predictions'] = results.predict(X)"
   ]
  },
  {
   "cell_type": "code",
   "execution_count": null,
   "metadata": {},
   "outputs": [],
   "source": [
    "data_merged"
   ]
  },
  {
   "cell_type": "code",
   "execution_count": null,
   "metadata": {},
   "outputs": [],
   "source": [
    "Y_mr = data_merged['Age']\n",
    "x_mr = data_merged['rvc_log']\n",
    "X_mr = np.column_stack((x_mr, np.log(data_merged['Sex'])))\n",
    "X_mr = sm.add_constant(X_mr)\n",
    "model_mr = sm.OLS(Y_mr,X_mr)\n",
    "results_mr = model_mr.fit()"
   ]
  },
  {
   "cell_type": "code",
   "execution_count": null,
   "metadata": {},
   "outputs": [],
   "source": [
    "results_mr.summary()"
   ]
  },
  {
   "cell_type": "code",
   "execution_count": null,
   "metadata": {},
   "outputs": [],
   "source": [
    "data_merged['predictions'] = results_mr.predict(X_mr)"
   ]
  },
  {
   "cell_type": "code",
   "execution_count": null,
   "metadata": {},
   "outputs": [],
   "source": [
    "len(predictions),len(data_merged)"
   ]
  },
  {
   "cell_type": "code",
   "execution_count": null,
   "metadata": {},
   "outputs": [],
   "source": [
    "\n",
    "fig, ax = plt.subplots(figsize=(5, 5))\n",
    "ax.scatter('rvc_log', 'Age',data=data_merged)\n",
    "ax.scatter('rvc_log', 'predictions',data=data_merged)"
   ]
  }
 ],
 "metadata": {
  "kernelspec": {
   "display_name": "Python 3 (ipykernel)",
   "language": "python",
   "name": "python3"
  },
  "language_info": {
   "codemirror_mode": {
    "name": "ipython",
    "version": 3
   },
   "file_extension": ".py",
   "mimetype": "text/x-python",
   "name": "python",
   "nbconvert_exporter": "python",
   "pygments_lexer": "ipython3",
   "version": "3.7.4"
  }
 },
 "nbformat": 4,
 "nbformat_minor": 2
}
