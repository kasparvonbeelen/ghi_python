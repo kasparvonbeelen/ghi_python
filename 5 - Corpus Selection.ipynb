{
 "cells": [
  {
   "cell_type": "markdown",
   "metadata": {},
   "source": [
    "# 5 Corpus Selection\n",
    "\n",
    "\n",
    "## 5.1 Introduction\n",
    "\n",
    "Creating research corpora is often an critical feature of the historian's research. In this Notebook, we demonstrate how Python is a very powerful tool to filtering text data. When confronted with a huge collection, the first step usually involves source selection, finding those documents the possible merit closer inspection. \n",
    "\n",
    "By selecting and filtering data, we can bring together otherwise disparate elements in one subcorpus.\n",
    "\n",
    "In most scenarios we'd like to filter documents based on a combination of **metadata** and **content** criteria:\n",
    "- Metadata criteria:  for example retaining only documents within a certain date range, or produced in a specific geography, or by a political party. This information is often encoded in the document metadata, in our case study below we will use the file names as metadata. \n",
    "- Content criteria: this involves selecting documents based on words (or more broadly patterns of tokens) they contain. In this Notebook we have look at regular expressions, and powerful query technique that allows you to select documents based on complex patterns. We won't have time to go into details, but discuss a rather powerfulle example in which you can use mutliple sequence of patterns.\n",
    "\n",
    "Lastly, Python gives us to tools to save the output of the selection process in formats convenient for further analaysis."
   ]
  },
  {
   "cell_type": "markdown",
   "metadata": {},
   "source": [
    "## 5.2 Unit of Analysis"
   ]
  },
  {
   "cell_type": "markdown",
   "metadata": {},
   "source": [
    "Before we start creating our own subcorpora, we bave to define which units of a document we need for our analysis (depending on what type of access we have).  We should ask the question: what is unit of analysis we'd prefer to work with? Ar these whole documents, paragraphs, sentences or even ngrams?\n",
    "\n",
    "For studying specific keywords we don't require the whole document, and sentences would suffice. In other words: what contexts do we want to include? All this depends on the tasks and we will explore different scenarios later.\n",
    "\n",
    "But it is good to know the the different options. For example, you could approximately splite a text into paragraphs using splitting on hard returns (two hard returns).\n"
   ]
  },
  {
   "cell_type": "code",
   "execution_count": 14,
   "metadata": {},
   "outputs": [],
   "source": [
    "import requests\n",
    "text  = requests.get('https://www.gutenberg.org/files/730/730-0.txt').content.decode('utf-8')\n",
    "content = text.split(' CHAPTER I.')[1]"
   ]
  },
  {
   "cell_type": "code",
   "execution_count": 15,
   "metadata": {},
   "outputs": [
    {
     "data": {
      "text/plain": [
       "'\\r\\nTREATS OF THE PLACE WHERE OLIVER TWIST WAS BORN AND OF THE\\r\\nCIRCUMSTANCES ATTENDING HIS BIRTH\\r\\n\\r\\n\\r\\nAmong other public buildings in a certain town, which for many reasons\\r\\nit will be prudent to refrain from mentioning, and to which I will\\r\\nassign no fictitious name, there is one anciently common to most towns,\\r\\ngreat or small: to wit, a workhouse; and in this workhouse was born; on\\r\\na day and date which I need not trouble myself to repeat, inasmuch as\\r\\nit can be of no possible consequence to the reader, in this stage of\\r\\nthe business at all events; the item of mortality whose name is\\r\\nprefixed to the head of this chapter.\\r\\n\\r\\nFor a long time after it was ushered into this world of sorrow and\\r\\ntrouble, by the parish surgeon, it remained a matter of considerable\\r\\ndoubt whether the child would survive to bear any name at all; in which\\r\\ncase it is somewhat more than probable that these memoirs would never\\r\\nhave appeared; or, if they had, that being comprised within a couple of\\r\\npages, they would have possessed the inestimable merit of being the\\r\\nmost concise and faithful specimen of biography, extant in the\\r\\nliterature of any age or country.\\r\\n\\r\\nAlthough I am not disposed to maintain that the being born in a\\r\\nworkhouse, is in itself the most fortunate and enviable circumstance\\r\\nthat can possibly befall a human being, I do mean to say that in this\\r\\nparticular instance, it was the best thing for Oliver Twist that could\\r\\nby possibility have occurred. The fact is, that there was considerable\\r\\ndifficulty in inducing Oliver to take upon himself the office of\\r\\nrespiration,—a troublesome practice, but one which custom has rendered\\r\\nnecessary to our easy existence; and for some time he lay gasping on a\\r\\nlittle flock mattress, rather unequally poised between this world and\\r\\nthe next: the balance being decidedly in favour of the latter. Now, if,\\r\\nduring this brief period, Oliver had been surrounded by careful\\r\\ngrandmothers, anxious aunts, experienced nurses, and doctors of\\r\\nprofoun'"
      ]
     },
     "execution_count": 15,
     "metadata": {},
     "output_type": "execute_result"
    }
   ],
   "source": [
    "content[:2000]"
   ]
  },
  {
   "cell_type": "code",
   "execution_count": 16,
   "metadata": {},
   "outputs": [
    {
     "data": {
      "text/plain": [
       "3997"
      ]
     },
     "execution_count": 16,
     "metadata": {},
     "output_type": "execute_result"
    }
   ],
   "source": [
    "paragraphs = content.split('\\r\\n\\r\\n')\n",
    "len(paragraphs)"
   ]
  },
  {
   "cell_type": "code",
   "execution_count": 17,
   "metadata": {},
   "outputs": [
    {
     "name": "stdout",
     "output_type": "stream",
     "text": [
      "The surgeon deposited it in her arms. She imprinted her cold white lips\r\n",
      "passionately on its forehead; passed her hands over her face; gazed\r\n",
      "wildly round; shuddered; fell back—and died. They chafed her breast,\r\n",
      "hands, and temples; but the blood had stopped forever. They talked of\r\n",
      "hope and comfort. They had been strangers too long.\n"
     ]
    }
   ],
   "source": [
    "print(paragraphs[10])"
   ]
  },
  {
   "cell_type": "markdown",
   "metadata": {},
   "source": [
    "Another option is to split a text into sentences."
   ]
  },
  {
   "cell_type": "code",
   "execution_count": 25,
   "metadata": {},
   "outputs": [],
   "source": [
    "from nltk.tokenize import sent_tokenize"
   ]
  },
  {
   "cell_type": "code",
   "execution_count": 24,
   "metadata": {},
   "outputs": [
    {
     "data": {
      "text/plain": [
       "6668"
      ]
     },
     "execution_count": 24,
     "metadata": {},
     "output_type": "execute_result"
    }
   ],
   "source": [
    "sentences = sent_tokenize(content)\n",
    "len(sentences)"
   ]
  },
  {
   "cell_type": "code",
   "execution_count": 23,
   "metadata": {},
   "outputs": [
    {
     "data": {
      "text/plain": [
       "'I have come out\\r\\nmyself to take him there.'"
      ]
     },
     "execution_count": 23,
     "metadata": {},
     "output_type": "execute_result"
    }
   ],
   "source": [
    "sentences[100]"
   ]
  },
  {
   "cell_type": "markdown",
   "metadata": {},
   "source": [
    "### --- Exercise\n",
    "\n",
    "average number of sentences per paragraph for another book."
   ]
  },
  {
   "cell_type": "code",
   "execution_count": null,
   "metadata": {},
   "outputs": [],
   "source": []
  },
  {
   "cell_type": "markdown",
   "metadata": {},
   "source": [
    "### --- Exercise\n",
    "\n",
    "average sentence length between two books of Charles Dickens"
   ]
  },
  {
   "cell_type": "code",
   "execution_count": null,
   "metadata": {},
   "outputs": [],
   "source": []
  },
  {
   "cell_type": "markdown",
   "metadata": {},
   "source": [
    "### --- Exercise\n",
    "\n",
    "\n",
    "Longest sentence"
   ]
  },
  {
   "cell_type": "code",
   "execution_count": null,
   "metadata": {},
   "outputs": [],
   "source": []
  },
  {
   "cell_type": "markdown",
   "metadata": {},
   "source": [
    "## 5.3 Filtering Based on Metadata\n",
    "\n",
    "After deciding which units to extract, you can proceed the defining other criteria for data selection. Here we focus on aspects related to the documents metadata, first on source and time, then other criteria.\n",
    "\n",
    "In the examples we below we use articles from Heritage Made Digital newspapers. This corpus is already a selection (becaus the whole dataset was too large to share) since we retained only articles containing the word **\"slavery\"**. The exercises below demonstrate different techniques that would enable you to zoom in specific aspects of press coverage on this topic."
   ]
  },
  {
   "cell_type": "markdown",
   "metadata": {},
   "source": [
    "### 5.3.1 Paths\n",
    "\n",
    "First, we show how paths and file name encode specific information about the document. Is in the previous examples we use a libary `pathlib` to make working with files and directories a bit easier.  "
   ]
  },
  {
   "cell_type": "code",
   "execution_count": 35,
   "metadata": {},
   "outputs": [],
   "source": [
    "from pathlib import Path"
   ]
  },
  {
   "cell_type": "markdown",
   "metadata": {},
   "source": [
    "Let's first inspect where (and how) the articles are stored. For this we use the bash command `ls .` to list all documents in the current directory. The differentiate between bash an python code, the former always start with an exclamation mark!"
   ]
  },
  {
   "cell_type": "code",
   "execution_count": 38,
   "metadata": {},
   "outputs": [
    {
     "name": "stdout",
     "output_type": "stream",
     "text": [
      "1 - Introduction.ipynb\r\n",
      "2 - Values and Variables.ipynb\r\n",
      "3 - Text and String Methods.ipynb\r\n",
      "4 -  Processing texts.ipynb\r\n",
      "5 - Corpus Selection.ipynb\r\n",
      "6 - Corpus Exploration.ipynb\r\n",
      "7 - Trends over time.ipynb\r\n",
      "8 - Advanced Topics - Classification and Topic Modelling with SKLearn.ipynb\r\n",
      "8 - Trends over time II.ipynb\r\n",
      "LICENSE\r\n",
      "README.md\r\n",
      "\u001b[34mbreak_out\u001b[m\u001b[m\r\n",
      "\u001b[34mdata\u001b[m\u001b[m\r\n",
      "\u001b[34mexample_data\u001b[m\u001b[m\r\n",
      "\u001b[34mimgs\u001b[m\u001b[m\r\n",
      "\u001b[34mold_notebooks\u001b[m\u001b[m\r\n",
      "\u001b[34mutils\u001b[m\u001b[m\r\n"
     ]
    }
   ],
   "source": [
    "!ls ."
   ]
  },
  {
   "cell_type": "markdown",
   "metadata": {},
   "source": [
    "Now we list all folders in `data/hmd_data/plaintext/`. Each newspaper in the collection has each folder. The names are IDs:\n",
    "\n",
    "- 0002088:\n",
    "- 0002194:\n",
    "- 0002643:\n",
    "- 0002644:\n",
    "- 0002646:\n",
    "- 0002647: \n"
   ]
  },
  {
   "cell_type": "code",
   "execution_count": 30,
   "metadata": {},
   "outputs": [
    {
     "name": "stdout",
     "output_type": "stream",
     "text": [
      "\u001b[34m0002088\u001b[m\u001b[m \u001b[34m0002194\u001b[m\u001b[m \u001b[34m0002643\u001b[m\u001b[m \u001b[34m0002644\u001b[m\u001b[m \u001b[34m0002646\u001b[m\u001b[m \u001b[34m0002647\u001b[m\u001b[m\r\n"
     ]
    }
   ],
   "source": [
    "!ls data/hmd_data/plaintext/"
   ]
  },
  {
   "cell_type": "markdown",
   "metadata": {},
   "source": [
    "The command below lists all files in `0002643`. You'll notice that filenames have a particular structure. The `_` separate different parts of metadata. "
   ]
  },
  {
   "cell_type": "code",
   "execution_count": 31,
   "metadata": {},
   "outputs": [
    {
     "name": "stdout",
     "output_type": "stream",
     "text": [
      "0002643_18030128_art0012.txt 0002643_18240124_art0011.txt\r\n",
      "0002643_18030201_art0004.txt 0002643_18240131_art0006.txt\r\n",
      "0002643_18030303_art0014.txt 0002643_18240131_art0015.txt\r\n",
      "0002643_18030308_art0018.txt 0002643_18240202_art0009.txt\r\n",
      "0002643_18030318_art0016.txt 0002643_18240204_art0018.txt\r\n",
      "0002643_18030325_art0029.txt 0002643_18240205_art0020.txt\r\n",
      "0002643_18030326_art0001.txt 0002643_18240207_art0038.txt\r\n",
      "0002643_18030425_art0023.txt 0002643_18240209_art0017.txt\r\n",
      "0002643_18030531_art0005.txt 0002643_18240211_art0023.txt\r\n",
      "0002643_18030604_art0022.txt 0002643_18240211_art0024.txt\r\n",
      "0002643_18030610_art0012.txt 0002643_18240218_art0037.txt\r\n",
      "0002643_18030613_art0015.txt 0002643_18240219_art0012.txt\r\n",
      "0002643_18030613_art0018.txt 0002643_18240223_art0026.txt\r\n",
      "0002643_18030621_art0019.txt 0002643_18240223_art0033.txt\r\n",
      "0002643_18030630_art0026.txt 0002643_18240225_art0011.txt\r\n",
      "0002643_18040515_art0016.txt 0002643_18240225_art0016.txt\r\n",
      "0002643_18040522_art0013.txt 0002643_18240227_art0012.txt\r\n",
      "0002643_18040531_art0006.txt 0002643_18240228_art0008.txt\r\n",
      "0002643_18040531_art0007.txt 0002643_18240301_art0018.txt\r\n",
      "0002643_18040608_art0005.txt 0002643_18240302_art0015.txt\r\n",
      "0002643_18040613_art0004.txt 0002643_18240303_art0012.txt\r\n",
      "0002643_18040613_art0005.txt 0002643_18240305_art0010.txt\r\n",
      "0002643_18040616_art0003.txt 0002643_18240306_art0007.txt\r\n",
      "0002643_18040622_art0004.txt 0002643_18240309_art0013.txt\r\n",
      "0002643_18040626_art0001.txt 0002643_18240309_art0021.txt\r\n",
      "0002643_18040628_art0012.txt 0002643_18240310_art0014.txt\r\n",
      "0002643_18040706_art0001.txt 0002643_18240310_art0032.txt\r\n",
      "0002643_18040706_art0007.txt 0002643_18240311_art0011.txt\r\n",
      "0002643_18040714_art0006.txt 0002643_18240311_art0026.txt\r\n",
      "0002643_18040728_art0005.txt 0002643_18240315_art0022.txt\r\n",
      "0002643_18040804_art0010.txt 0002643_18240316_art0008.txt\r\n",
      "0002643_18040816_art0020.txt 0002643_18240316_art0010.txt\r\n",
      "0002643_18040817_art0009.txt 0002643_18240316_art0011.txt\r\n",
      "0002643_18040822_art0012.txt 0002643_18240317_art0003.txt\r\n",
      "0002643_18040825_art0005.txt 0002643_18240317_art0004.txt\r\n",
      "0002643_18040830_art0012.txt 0002643_18240317_art0005.txt\r\n",
      "0002643_18040906_art0007.txt 0002643_18240317_art0006.txt\r\n",
      "0002643_18040908_art0009.txt 0002643_18240317_art0012.txt\r\n",
      "0002643_18040910_art0009.txt 0002643_18240318_art0009.txt\r\n",
      "0002643_18040920_art0018.txt 0002643_18240319_art0007.txt\r\n",
      "0002643_18040921_art0007.txt 0002643_18240319_art0010.txt\r\n",
      "0002643_18041011_art0008.txt 0002643_18240319_art0013.txt\r\n",
      "0002643_18041120_art0010.txt 0002643_18240320_art0017.txt\r\n",
      "0002643_18041123_art0017.txt 0002643_18240322_art0023.txt\r\n",
      "0002643_18041128_art0010.txt 0002643_18240323_art0014.txt\r\n",
      "0002643_18041201_art0003.txt 0002643_18240323_art0019.txt\r\n",
      "0002643_18050111_art0003.txt 0002643_18240323_art0020.txt\r\n",
      "0002643_18050117_art0009.txt 0002643_18240324_art0003.txt\r\n",
      "0002643_18050212_art0004.txt 0002643_18240325_art0008.txt\r\n",
      "0002643_18050302_art0006.txt 0002643_18240325_art0010.txt\r\n",
      "0002643_18050309_art0001.txt 0002643_18240326_art0003.txt\r\n",
      "0002643_18050402_art0014.txt 0002643_18240326_art0005.txt\r\n",
      "0002643_18050408_art0017.txt 0002643_18240326_art0006.txt\r\n",
      "0002643_18050413_art0011.txt 0002643_18240326_art0014.txt\r\n",
      "0002643_18050413_art0015.txt 0002643_18240327_art0013.txt\r\n",
      "0002643_18050420_art0016.txt 0002643_18240330_art0006.txt\r\n",
      "0002643_18050514_art0006.txt 0002643_18240330_art0008.txt\r\n",
      "0002643_18050514_art0007.txt 0002643_18240331_art0021.txt\r\n",
      "0002643_18050515_art0003.txt 0002643_18240331_art0022.txt\r\n",
      "0002643_18050613_art0007.txt 0002643_18240401_art0007.txt\r\n",
      "0002643_18050625_art0008.txt 0002643_18240401_art0013.txt\r\n",
      "0002643_18050723_art0001.txt 0002643_18240402_art0011.txt\r\n",
      "0002643_18050913_art0011.txt 0002643_18240403_art0002.txt\r\n",
      "0002643_18050927_art0013.txt 0002643_18240405_art0036.txt\r\n",
      "0002643_18050930_art0015.txt 0002643_18240406_art0022.txt\r\n",
      "0002643_18050930_art0023.txt 0002643_18240407_art0011.txt\r\n",
      "0002643_18051004_art0018.txt 0002643_18240409_art0003.txt\r\n",
      "0002643_18051121_art0003.txt 0002643_18240409_art0007.txt\r\n",
      "0002643_18051122_art0015.txt 0002643_18240409_art0008.txt\r\n",
      "0002643_18051213_art0011.txt 0002643_18240410_art0010.txt\r\n",
      "0002643_18051220_art0012.txt 0002643_18240410_art0020.txt\r\n",
      "0002643_18060115_art0013.txt 0002643_18240413_art0011.txt\r\n",
      "0002643_18060607_art0008.txt 0002643_18240414_art0023.txt\r\n",
      "0002643_18060611_art0011.txt 0002643_18240414_art0024.txt\r\n",
      "0002643_18060611_art0012.txt 0002643_18240415_art0016.txt\r\n",
      "0002643_18060616_art0007.txt 0002643_18240416_art0005.txt\r\n",
      "0002643_18060625_art0002.txt 0002643_18240423_art0020.txt\r\n",
      "0002643_18060625_art0003.txt 0002643_18240426_art0013.txt\r\n",
      "0002643_18060625_art0006.txt 0002643_18240428_art0015.txt\r\n",
      "0002643_18060721_art0006.txt 0002643_18240501_art0008.txt\r\n",
      "0002643_18060730_art0008.txt 0002643_18240501_art0012.txt\r\n",
      "0002643_18060821_art0007.txt 0002643_18240503_art0060.txt\r\n",
      "0002643_18060828_art0006.txt 0002643_18240504_art0016.txt\r\n",
      "0002643_18060901_art0008.txt 0002643_18240510_art0013.txt\r\n",
      "0002643_18061030_art0015.txt 0002643_18240510_art0015.txt\r\n",
      "0002643_18061031_art0005.txt 0002643_18240511_art0007.txt\r\n",
      "0002643_18070130_art0013.txt 0002643_18240511_art0008.txt\r\n",
      "0002643_18070131_art0009.txt 0002643_18240512_art0004.txt\r\n",
      "0002643_18070211_art0011.txt 0002643_18240513_art0016.txt\r\n",
      "0002643_18070224_art0006.txt 0002643_18240513_art0018.txt\r\n",
      "0002643_18070224_art0009.txt 0002643_18240513_art0020.txt\r\n",
      "0002643_18070228_art0012.txt 0002643_18240514_art0012.txt\r\n",
      "0002643_18070302_art0022.txt 0002643_18240514_art0014.txt\r\n",
      "0002643_18070317_art0020.txt 0002643_18240514_art0015.txt\r\n",
      "0002643_18070318_art0008.txt 0002643_18240515_art0021.txt\r\n",
      "0002643_18070324_art0005.txt 0002643_18240519_art0008.txt\r\n",
      "0002643_18070402_art0027.txt 0002643_18240519_art0013.txt\r\n",
      "0002643_18070409_art0022.txt 0002643_18240519_art0016.txt\r\n",
      "0002643_18070416_art0004.txt 0002643_18240520_art0009.txt\r\n",
      "0002643_18070425_art0014.txt 0002643_18240521_art0047.txt\r\n",
      "0002643_18070516_art0024.txt 0002643_18240524_art0033.txt\r\n",
      "0002643_18070603_art0014.txt 0002643_18240525_art0025.txt\r\n",
      "0002643_18070623_art0014.txt 0002643_18240527_art0012.txt\r\n",
      "0002643_18070723_art0010.txt 0002643_18240528_art0011.txt\r\n",
      "0002643_18070812_art0017.txt 0002643_18240601_art0006.txt\r\n",
      "0002643_18070909_art0009.txt 0002643_18240601_art0008.txt\r\n",
      "0002643_18071019_art0010.txt 0002643_18240602_art0015.txt\r\n",
      "0002643_18071120_art0007.txt 0002643_18240602_art0019.txt\r\n",
      "0002643_18071124_art0002.txt 0002643_18240604_art0017.txt\r\n",
      "0002643_18080106_art0008.txt 0002643_18240607_art0013.txt\r\n",
      "0002643_18080109_art0008.txt 0002643_18240607_art0016.txt\r\n",
      "0002643_18080109_art0012.txt 0002643_18240608_art0010.txt\r\n",
      "0002643_18080126_art0013.txt 0002643_18240609_art0022.txt\r\n",
      "0002643_18080204_art0008.txt 0002643_18240611_art0006.txt\r\n",
      "0002643_18080218_art0012.txt 0002643_18240612_art0005.txt\r\n",
      "0002643_18080510_art0018.txt 0002643_18240616_art0006.txt\r\n",
      "0002643_18080629_art0007.txt 0002643_18240616_art0008.txt\r\n",
      "0002643_18080711_art0008.txt 0002643_18240616_art0010.txt\r\n",
      "0002643_18080723_art0002.txt 0002643_18240617_art0009.txt\r\n",
      "0002643_18080811_art0004.txt 0002643_18240618_art0012.txt\r\n",
      "0002643_18080830_art0004.txt 0002643_18240619_art0004.txt\r\n",
      "0002643_18080908_art0011.txt 0002643_18240622_art0013.txt\r\n",
      "0002643_18080910_art0001.txt 0002643_18240622_art0017.txt\r\n",
      "0002643_18080916_art0006.txt 0002643_18240625_art0007.txt\r\n",
      "0002643_18081011_art0003.txt 0002643_18240626_art0025.txt\r\n",
      "0002643_18081013_art0024.txt 0002643_18240702_art0010.txt\r\n",
      "0002643_18081013_art0025.txt 0002643_18240703_art0020.txt\r\n",
      "0002643_18081104_art0012.txt 0002643_18240705_art0044.txt\r\n",
      "0002643_18081109_art0007.txt 0002643_18240706_art0025.txt\r\n",
      "0002643_18081124_art0002.txt 0002643_18240721_art0009.txt\r\n",
      "0002643_18081124_art0005.txt 0002643_18240729_art0011.txt\r\n",
      "0002643_18090104_art0015.txt 0002643_18240804_art0016.txt\r\n",
      "0002643_18090112_art0009.txt 0002643_18240810_art0029.txt\r\n",
      "0002643_18090114_art0007.txt 0002643_18240812_art0007.txt\r\n",
      "0002643_18090201_art0006.txt 0002643_18240818_art0008.txt\r\n",
      "0002643_18090207_art0012.txt 0002643_18240818_art0011.txt\r\n",
      "0002643_18090401_art0001.txt 0002643_18240818_art0013.txt\r\n",
      "0002643_18090411_art0007.txt 0002643_18240820_art0006.txt\r\n",
      "0002643_18090505_art0010.txt 0002643_18240824_art0015.txt\r\n",
      "0002643_18090511_art0007.txt 0002643_18240901_art0013.txt\r\n",
      "0002643_18090519_art0002.txt 0002643_18240901_art0015.txt\r\n",
      "0002643_18090615_art0006.txt 0002643_18240902_art0031.txt\r\n",
      "0002643_18090819_art0008.txt 0002643_18240904_art0031.txt\r\n",
      "0002643_18090908_art0011.txt 0002643_18240910_art0014.txt\r\n",
      "0002643_18090921_art0012.txt 0002643_18240910_art0015.txt\r\n",
      "0002643_18091021_art0021.txt 0002643_18240917_art0013.txt\r\n",
      "0002643_18091102_art0014.txt 0002643_18240917_art0020.txt\r\n",
      "0002643_18091201_art0010.txt 0002643_18240918_art0024.txt\r\n",
      "0002643_18091211_art0012.txt 0002643_18240923_art0023.txt\r\n",
      "0002643_18091218_art0013.txt 0002643_18241001_art0018.txt\r\n",
      "0002643_18100102_art0010.txt 0002643_18241004_art0013.txt\r\n",
      "0002643_18100109_art0002.txt 0002643_18241008_art0011.txt\r\n",
      "0002643_18100112_art0012.txt 0002643_18241013_art0023.txt\r\n",
      "0002643_18100112_art0013.txt 0002643_18241014_art0015.txt\r\n",
      "0002643_18100124_art0004.txt 0002643_18241019_art0001.txt\r\n",
      "0002643_18100314_art0006.txt 0002643_18241025_art0017.txt\r\n",
      "0002643_18100324_art0004.txt 0002643_18241026_art0002.txt\r\n",
      "0002643_18100420_art0007.txt 0002643_18241028_art0038.txt\r\n",
      "0002643_18100423_art0008.txt 0002643_18241030_art0031.txt\r\n",
      "0002643_18100428_art0010.txt 0002643_18241227_art0015.txt\r\n",
      "0002643_18100430_art0007.txt 0002643_18241228_art0004.txt\r\n",
      "0002643_18100517_art0011.txt 0002643_18250107_art0015.txt\r\n",
      "0002643_18100707_art0006.txt 0002643_18250111_art0019.txt\r\n",
      "0002643_18100810_art0005.txt 0002643_18250115_art0022.txt\r\n",
      "0002643_18101018_art0013.txt 0002643_18250117_art0023.txt\r\n",
      "0002643_18101124_art0003.txt 0002643_18250126_art0017.txt\r\n",
      "0002643_18101229_art0024.txt 0002643_18250203_art0011.txt\r\n",
      "0002643_18151003_art0016.txt 0002643_18250205_art0017.txt\r\n",
      "0002643_18151214_art0018.txt 0002643_18250215_art0011.txt\r\n",
      "0002643_18151215_art0010.txt 0002643_18250225_art0021.txt\r\n",
      "0002643_18180107_art0021.txt 0002643_18250302_art0050.txt\r\n",
      "0002643_18180110_art0016.txt 0002643_18250319_art0013.txt\r\n",
      "0002643_18180113_art0015.txt 0002643_18250319_art0014.txt\r\n",
      "0002643_18180123_art0037.txt 0002643_18250329_art0011.txt\r\n",
      "0002643_18180410_art0009.txt 0002643_18250330_art0033.txt\r\n",
      "0002643_18180423_art0019.txt 0002643_18250418_art0026.txt\r\n",
      "0002643_18180423_art0021.txt 0002643_18250423_art0037.txt\r\n",
      "0002643_18180505_art0011.txt 0002643_18250428_art0021.txt\r\n",
      "0002643_18180514_art0010.txt 0002643_18250502_art0019.txt\r\n",
      "0002643_18180514_art0012.txt 0002643_18250502_art0020.txt\r\n",
      "0002643_18180520_art0015.txt 0002643_18250502_art0021.txt\r\n",
      "0002643_18180521_art0011.txt 0002643_18250509_art0024.txt\r\n",
      "0002643_18180521_art0012.txt 0002643_18250510_art0001.txt\r\n",
      "0002643_18180527_art0012.txt 0002643_18250514_art0019.txt\r\n",
      "0002643_18180528_art0016.txt 0002643_18250514_art0023.txt\r\n",
      "0002643_18180602_art0016.txt 0002643_18250514_art0026.txt\r\n",
      "0002643_18180603_art0017.txt 0002643_18250514_art0027.txt\r\n",
      "0002643_18180608_art0016.txt 0002643_18250516_art0019.txt\r\n",
      "0002643_18180616_art0020.txt 0002643_18250516_art0020.txt\r\n",
      "0002643_18180618_art0015.txt 0002643_18250517_art0003.txt\r\n",
      "0002643_18180619_art0016.txt 0002643_18250517_art0007.txt\r\n",
      "0002643_18180624_art0009.txt 0002643_18250524_art0012.txt\r\n",
      "0002643_18180707_art0011.txt 0002643_18250527_art0001.txt\r\n",
      "0002643_18180711_art0011.txt 0002643_18250615_art0015.txt\r\n",
      "0002643_18180713_art0012.txt 0002643_18250617_art0014.txt\r\n",
      "0002643_18180716_art0026.txt 0002643_18250624_art0005.txt\r\n",
      "0002643_18180718_art0006.txt 0002643_18250624_art0010.txt\r\n",
      "0002643_18180731_art0024.txt 0002643_18250627_art0030.txt\r\n",
      "0002643_18180902_art0019.txt 0002643_18250701_art0001.txt\r\n",
      "0002643_18180908_art0001.txt 0002643_18250702_art0002.txt\r\n",
      "0002643_18180908_art0005.txt 0002643_18250702_art0005.txt\r\n",
      "0002643_18180919_art0010.txt 0002643_18250705_art0004.txt\r\n",
      "0002643_18181009_art0011.txt 0002643_18250706_art0002.txt\r\n",
      "0002643_18181017_art0005.txt 0002643_18250709_art0005.txt\r\n",
      "0002643_18181021_art0008.txt 0002643_18250718_art0006.txt\r\n",
      "0002643_18181028_art0019.txt 0002643_18250719_art0005.txt\r\n",
      "0002643_18181104_art0007.txt 0002643_18250722_art0009.txt\r\n",
      "0002643_18181105_art0010.txt 0002643_18250723_art0012.txt\r\n",
      "0002643_18181107_art0009.txt 0002643_18250728_art0017.txt\r\n",
      "0002643_18181112_art0006.txt 0002643_18250803_art0014.txt\r\n",
      "0002643_18181118_art0007.txt 0002643_18250808_art0019.txt\r\n",
      "0002643_18181226_art0009.txt 0002643_18250811_art0019.txt\r\n",
      "0002643_18190107_art0003.txt 0002643_18250817_art0019.txt\r\n",
      "0002643_18190120_art0018.txt 0002643_18250820_art0009.txt\r\n",
      "0002643_18190120_art0025.txt 0002643_18250823_art0019.txt\r\n",
      "0002643_18190125_art0017.txt 0002643_18250824_art0025.txt\r\n",
      "0002643_18190201_art0001.txt 0002643_18250827_art0025.txt\r\n",
      "0002643_18190212_art0011.txt 0002643_18250831_art0014.txt\r\n",
      "0002643_18190222_art0015.txt 0002643_18250905_art0010.txt\r\n",
      "0002643_18190222_art0016.txt 0002643_18250907_art0022.txt\r\n",
      "0002643_18190222_art0017.txt 0002643_18250920_art0008.txt\r\n",
      "0002643_18190320_art0009.txt 0002643_18251007_art0010.txt\r\n",
      "0002643_18190414_art0006.txt 0002643_18251010_art0011.txt\r\n",
      "0002643_18190417_art0002.txt 0002643_18251013_art0001.txt\r\n",
      "0002643_18190417_art0005.txt 0002643_18251014_art0001.txt\r\n",
      "0002643_18190419_art0018.txt 0002643_18251019_art0011.txt\r\n",
      "0002643_18190422_art0007.txt 0002643_18251022_art0012.txt\r\n",
      "0002643_18190503_art0006.txt 0002643_18251024_art0009.txt\r\n",
      "0002643_18190514_art0011.txt 0002643_18251102_art0024.txt\r\n",
      "0002643_18190621_art0016.txt 0002643_18251103_art0012.txt\r\n",
      "0002643_18190626_art0008.txt 0002643_18251219_art0002.txt\r\n",
      "0002643_18190708_art0011.txt 0002643_18251222_art0042.txt\r\n",
      "0002643_18190803_art0007.txt 0002643_18251222_art0044.txt\r\n",
      "0002643_18190826_art0005.txt 0002643_18251223_art0009.txt\r\n",
      "0002643_18190903_art0019.txt 0002643_18251223_art0010.txt\r\n",
      "0002643_18190908_art0017.txt 0002643_18251228_art0012.txt\r\n",
      "0002643_18190909_art0020.txt 0002643_18251228_art0015.txt\r\n",
      "0002643_18190910_art0010.txt 0002643_18260107_art0011.txt\r\n",
      "0002643_18190911_art0016.txt 0002643_18260117_art0025.txt\r\n",
      "0002643_18190914_art0014.txt 0002643_18260126_art0038.txt\r\n",
      "0002643_18190930_art0008.txt 0002643_18260204_art0015.txt\r\n",
      "0002643_18191006_art0007.txt 0002643_18260207_art0012.txt\r\n",
      "0002643_18191006_art0021.txt 0002643_18260207_art0019.txt\r\n",
      "0002643_18191007_art0027.txt 0002643_18260208_art0009.txt\r\n",
      "0002643_18191027_art0008.txt 0002643_18260210_art0029.txt\r\n",
      "0002643_18191104_art0010.txt 0002643_18260210_art0040.txt\r\n",
      "0002643_18191108_art0004.txt 0002643_18260211_art0008.txt\r\n",
      "0002643_18191201_art0005.txt 0002643_18260213_art0037.txt\r\n",
      "0002643_18191209_art0014.txt 0002643_18260214_art0015.txt\r\n",
      "0002643_18191210_art0020.txt 0002643_18260214_art0028.txt\r\n",
      "0002643_18191225_art0017.txt 0002643_18260215_art0005.txt\r\n",
      "0002643_18200121_art0019.txt 0002643_18260216_art0020.txt\r\n",
      "0002643_18200122_art0006.txt 0002643_18260216_art0030.txt\r\n",
      "0002643_18200125_art0004.txt 0002643_18260217_art0001.txt\r\n",
      "0002643_18200128_art0012.txt 0002643_18260218_art0002.txt\r\n",
      "0002643_18200216_art0006.txt 0002643_18260221_art0020.txt\r\n",
      "0002643_18200216_art0009.txt 0002643_18260221_art0022.txt\r\n",
      "0002643_18200228_art0007.txt 0002643_18260221_art0026.txt\r\n",
      "0002643_18200308_art0005.txt 0002643_18260222_art0023.txt\r\n",
      "0002643_18200317_art0009.txt 0002643_18260223_art0015.txt\r\n",
      "0002643_18200318_art0014.txt 0002643_18260224_art0007.txt\r\n",
      "0002643_18200324_art0012.txt 0002643_18260225_art0004.txt\r\n",
      "0002643_18200401_art0009.txt 0002643_18260301_art0031.txt\r\n",
      "0002643_18200407_art0015.txt 0002643_18260301_art0034.txt\r\n",
      "0002643_18200418_art0017.txt 0002643_18260301_art0035.txt\r\n",
      "0002643_18200424_art0022.txt 0002643_18260301_art0036.txt\r\n",
      "0002643_18200502_art0031.txt 0002643_18260301_art0042.txt\r\n",
      "0002643_18200518_art0040.txt 0002643_18260302_art0009.txt\r\n",
      "0002643_18200602_art0032.txt 0002643_18260302_art0010.txt\r\n",
      "0002643_18200602_art0037.txt 0002643_18260302_art0011.txt\r\n",
      "0002643_18200607_art0010.txt 0002643_18260302_art0012.txt\r\n",
      "0002643_18200706_art0011.txt 0002643_18260302_art0014.txt\r\n",
      "0002643_18200804_art0010.txt 0002643_18260303_art0001.txt\r\n",
      "0002643_18200804_art0017.txt 0002643_18260303_art0004.txt\r\n",
      "0002643_18200807_art0007.txt 0002643_18260303_art0005.txt\r\n",
      "0002643_18200810_art0005.txt 0002643_18260304_art0004.txt\r\n",
      "0002643_18200810_art0009.txt 0002643_18260307_art0019.txt\r\n",
      "0002643_18200916_art0009.txt 0002643_18260308_art0003.txt\r\n",
      "0002643_18200918_art0004.txt 0002643_18260308_art0007.txt\r\n",
      "0002643_18200923_art0001.txt 0002643_18260308_art0009.txt\r\n",
      "0002643_18200926_art0018.txt 0002643_18260308_art0010.txt\r\n",
      "0002643_18200930_art0017.txt 0002643_18260309_art0012.txt\r\n",
      "0002643_18201003_art0004.txt 0002643_18260309_art0013.txt\r\n",
      "0002643_18201003_art0006.txt 0002643_18260309_art0015.txt\r\n",
      "0002643_18201007_art0027.txt 0002643_18260309_art0028.txt\r\n",
      "0002643_18201023_art0016.txt 0002643_18260310_art0005.txt\r\n",
      "0002643_18201107_art0008.txt 0002643_18260310_art0007.txt\r\n",
      "0002643_18201201_art0021.txt 0002643_18260311_art0016.txt\r\n",
      "0002643_18201212_art0009.txt 0002643_18260314_art0009.txt\r\n",
      "0002643_18201221_art0013.txt 0002643_18260314_art0014.txt\r\n",
      "0002643_18201225_art0003.txt 0002643_18260315_art0003.txt\r\n",
      "0002643_18201229_art0023.txt 0002643_18260315_art0004.txt\r\n",
      "0002643_18201230_art0027.txt 0002643_18260315_art0005.txt\r\n",
      "0002643_18210102_art0022.txt 0002643_18260316_art0003.txt\r\n",
      "0002643_18210115_art0017.txt 0002643_18260317_art0006.txt\r\n",
      "0002643_18210115_art0034.txt 0002643_18260317_art0012.txt\r\n",
      "0002643_18210119_art0019.txt 0002643_18260318_art0005.txt\r\n",
      "0002643_18210127_art0004.txt 0002643_18260320_art0030.txt\r\n",
      "0002643_18210127_art0015.txt 0002643_18260321_art0009.txt\r\n",
      "0002643_18210131_art0022.txt 0002643_18260321_art0010.txt\r\n",
      "0002643_18210220_art0007.txt 0002643_18260322_art0002.txt\r\n",
      "0002643_18210222_art0015.txt 0002643_18260323_art0008.txt\r\n",
      "0002643_18210224_art0016.txt 0002643_18260323_art0009.txt\r\n",
      "0002643_18210303_art0001.txt 0002643_18260324_art0005.txt\r\n",
      "0002643_18210303_art0005.txt 0002643_18260329_art0009.txt\r\n",
      "0002643_18210315_art0023.txt 0002643_18260329_art0012.txt\r\n",
      "0002643_18210316_art0019.txt 0002643_18260330_art0020.txt\r\n",
      "0002643_18210317_art0017.txt 0002643_18260401_art0021.txt\r\n",
      "0002643_18210319_art0007.txt 0002643_18260401_art0022.txt\r\n",
      "0002643_18210403_art0013.txt 0002643_18260403_art0033.txt\r\n",
      "0002643_18210406_art0012.txt 0002643_18260405_art0034.txt\r\n",
      "0002643_18210505_art0001.txt 0002643_18260406_art0013.txt\r\n",
      "0002643_18210521_art0032.txt 0002643_18260406_art0015.txt\r\n",
      "0002643_18210530_art0003.txt 0002643_18260407_art0008.txt\r\n",
      "0002643_18210602_art0002.txt 0002643_18260408_art0008.txt\r\n",
      "0002643_18210622_art0005.txt 0002643_18260410_art0018.txt\r\n",
      "0002643_18210628_art0004.txt 0002643_18260413_art0004.txt\r\n",
      "0002643_18210629_art0009.txt 0002643_18260415_art0008.txt\r\n",
      "0002643_18210630_art0008.txt 0002643_18260415_art0013.txt\r\n",
      "0002643_18210714_art0004.txt 0002643_18260418_art0005.txt\r\n",
      "0002643_18210719_art0021.txt 0002643_18260418_art0012.txt\r\n",
      "0002643_18210724_art0009.txt 0002643_18260419_art0009.txt\r\n",
      "0002643_18210728_art0002.txt 0002643_18260420_art0022.txt\r\n",
      "0002643_18210730_art0008.txt 0002643_18260420_art0040.txt\r\n",
      "0002643_18210801_art0011.txt 0002643_18260421_art0003.txt\r\n",
      "0002643_18210803_art0009.txt 0002643_18260421_art0004.txt\r\n",
      "0002643_18210804_art0021.txt 0002643_18260421_art0006.txt\r\n",
      "0002643_18210806_art0025.txt 0002643_18260421_art0007.txt\r\n",
      "0002643_18210808_art0011.txt 0002643_18260422_art0004.txt\r\n",
      "0002643_18210820_art0010.txt 0002643_18260422_art0011.txt\r\n",
      "0002643_18210831_art0009.txt 0002643_18260424_art0010.txt\r\n",
      "0002643_18211008_art0008.txt 0002643_18260425_art0007.txt\r\n",
      "0002643_18211013_art0002.txt 0002643_18260425_art0024.txt\r\n",
      "0002643_18211024_art0011.txt 0002643_18260426_art0020.txt\r\n",
      "0002643_18211026_art0008.txt 0002643_18260426_art0026.txt\r\n",
      "0002643_18211031_art0010.txt 0002643_18260428_art0005.txt\r\n",
      "0002643_18211101_art0002.txt 0002643_18260502_art0019.txt\r\n",
      "0002643_18211112_art0001.txt 0002643_18260502_art0021.txt\r\n",
      "0002643_18211116_art0001.txt 0002643_18260506_art0013.txt\r\n",
      "0002643_18211117_art0002.txt 0002643_18260506_art0014.txt\r\n",
      "0002643_18211219_art0024.txt 0002643_18260509_art0018.txt\r\n",
      "0002643_18211221_art0005.txt 0002643_18260509_art0020.txt\r\n",
      "0002643_18211226_art0013.txt 0002643_18260509_art0023.txt\r\n",
      "0002643_18211227_art0001.txt 0002643_18260510_art0001.txt\r\n",
      "0002643_18220105_art0010.txt 0002643_18260510_art0014.txt\r\n",
      "0002643_18220118_art0015.txt 0002643_18260510_art0016.txt\r\n",
      "0002643_18220131_art0020.txt 0002643_18260510_art0018.txt\r\n",
      "0002643_18220201_art0022.txt 0002643_18260511_art0024.txt\r\n",
      "0002643_18220204_art0008.txt 0002643_18260512_art0012.txt\r\n",
      "0002643_18220408_art0004.txt 0002643_18260513_art0010.txt\r\n",
      "0002643_18220426_art0001.txt 0002643_18260515_art0035.txt\r\n",
      "0002643_18220426_art0011.txt 0002643_18260518_art0023.txt\r\n",
      "0002643_18220501_art0007.txt 0002643_18260519_art0010.txt\r\n",
      "0002643_18220507_art0009.txt 0002643_18260520_art0029.txt\r\n",
      "0002643_18220511_art0009.txt 0002643_18260520_art0033.txt\r\n",
      "0002643_18220515_art0006.txt 0002643_18260520_art0035.txt\r\n",
      "0002643_18220604_art0026.txt 0002643_18260520_art0057.txt\r\n",
      "0002643_18220614_art0015.txt 0002643_18260520_art0064.txt\r\n",
      "0002643_18220615_art0001.txt 0002643_18260525_art0011.txt\r\n",
      "0002643_18220615_art0009.txt 0002643_18260530_art0038.txt\r\n",
      "0002643_18220628_art0004.txt 0002643_18260530_art0041.txt\r\n",
      "0002643_18220701_art0019.txt 0002643_18260531_art0036.txt\r\n",
      "0002643_18220708_art0011.txt 0002643_18260608_art0002.txt\r\n",
      "0002643_18220711_art0005.txt 0002643_18260612_art0020.txt\r\n",
      "0002643_18220713_art0022.txt 0002643_18260612_art0032.txt\r\n",
      "0002643_18220717_art0020.txt 0002643_18260614_art0006.txt\r\n",
      "0002643_18220718_art0007.txt 0002643_18260614_art0008.txt\r\n",
      "0002643_18220726_art0008.txt 0002643_18260615_art0003.txt\r\n",
      "0002643_18220726_art0009.txt 0002643_18260615_art0015.txt\r\n",
      "0002643_18220806_art0011.txt 0002643_18260615_art0017.txt\r\n",
      "0002643_18220813_art0018.txt 0002643_18260616_art0014.txt\r\n",
      "0002643_18220813_art0025.txt 0002643_18260617_art0010.txt\r\n",
      "0002643_18220817_art0010.txt 0002643_18260617_art0014.txt\r\n",
      "0002643_18220817_art0022.txt 0002643_18260617_art0018.txt\r\n",
      "0002643_18220820_art0008.txt 0002643_18260619_art0006.txt\r\n",
      "0002643_18220826_art0015.txt 0002643_18260620_art0019.txt\r\n",
      "0002643_18220902_art0006.txt 0002643_18260621_art0012.txt\r\n",
      "0002643_18220902_art0019.txt 0002643_18260621_art0015.txt\r\n",
      "0002643_18220904_art0007.txt 0002643_18260624_art0023.txt\r\n",
      "0002643_18220904_art0015.txt 0002643_18260627_art0025.txt\r\n",
      "0002643_18220927_art0010.txt 0002643_18260629_art0005.txt\r\n",
      "0002643_18221002_art0018.txt 0002643_18260630_art0005.txt\r\n",
      "0002643_18221010_art0014.txt 0002643_18260703_art0019.txt\r\n",
      "0002643_18221011_art0004.txt 0002643_18260703_art0023.txt\r\n",
      "0002643_18221012_art0029.txt 0002643_18260704_art0012.txt\r\n",
      "0002643_18221025_art0005.txt 0002643_18260803_art0008.txt\r\n",
      "0002643_18221102_art0004.txt 0002643_18260808_art0027.txt\r\n",
      "0002643_18221104_art0003.txt 0002643_18260810_art0013.txt\r\n",
      "0002643_18221128_art0001.txt 0002643_18260901_art0020.txt\r\n",
      "0002643_18221204_art0010.txt 0002643_18260904_art0017.txt\r\n",
      "0002643_18221214_art0019.txt 0002643_18260908_art0014.txt\r\n",
      "0002643_18240101_art0001.txt 0002643_18260911_art0016.txt\r\n",
      "0002643_18240102_art0008.txt 0002643_18260913_art0028.txt\r\n",
      "0002643_18240106_art0031.txt 0002643_18260914_art0013.txt\r\n",
      "0002643_18240109_art0009.txt 0002643_18260914_art0014.txt\r\n",
      "0002643_18240110_art0014.txt 0002643_18260915_art0012.txt\r\n",
      "0002643_18240112_art0012.txt 0002643_18260915_art0014.txt\r\n",
      "0002643_18240114_art0009.txt 0002643_18260915_art0016.txt\r\n",
      "0002643_18240114_art0010.txt 0002643_18261004_art0026.txt\r\n",
      "0002643_18240114_art0024.txt 0002643_18261012_art0013.txt\r\n",
      "0002643_18240119_art0005.txt 0002643_18261027_art0005.txt\r\n",
      "0002643_18240120_art0040.txt 0002643_18261030_art0008.txt\r\n",
      "0002643_18240121_art0014.txt 0002643_18261030_art0010.txt\r\n",
      "0002643_18240123_art0019.txt 0002643_18261031_art0008.txt\r\n",
      "0002643_18240123_art0021.txt\r\n"
     ]
    }
   ],
   "source": [
    "!ls data/hmd_data/plaintext/0002643"
   ]
  },
  {
   "cell_type": "markdown",
   "metadata": {},
   "source": [
    "Using `pathlib` we can quickly collect paths to all files in the HMD collection. The code below may look a but obscure at first but \n",
    "- define the location where the data are stored as string\n",
    "- convert the string to `Path` object, this allows us to use the convenient functions and methods of the `pathlib` library\n",
    "- we apply `.glob()` to the `Path` object, this return the path to all files that match a specific query pattern. `\"**/*.txt\"` will find all `.txt` files that are descendant of `plaintext`. See the folder structure below:\n",
    "```\n",
    "plaintext\n",
    "|___ 0002643\n",
    "|        |__ 0002643_18030128_art0012.txt\n",
    "|        |__ ...\n",
    "|\n",
    "|___ 0002194\n",
    "|        |__ ...\n",
    "|___ ....\n",
    "```\n",
    "- Lastly we convert the output of `.glob()` to a list for minor technical reason we don't have to discuss at now."
   ]
  },
  {
   "cell_type": "code",
   "execution_count": 39,
   "metadata": {},
   "outputs": [
    {
     "data": {
      "text/plain": [
       "7856"
      ]
     },
     "execution_count": 39,
     "metadata": {},
     "output_type": "execute_result"
    }
   ],
   "source": [
    "path_to_hmd = Path('data/hmd_data/plaintext')\n",
    "path_to_files = path_to_hmd.glob(\"**/*.txt\")\n",
    "path_to_files = list(path_to_files)\n",
    "len(path_to_files)"
   ]
  },
  {
   "cell_type": "markdown",
   "metadata": {},
   "source": [
    "We could write this more concisely:"
   ]
  },
  {
   "cell_type": "code",
   "execution_count": null,
   "metadata": {},
   "outputs": [],
   "source": [
    "path_to_files = list(Path('data/hmd_data/plaintext').glob(\"**/*.txt\"))\n",
    "len(path_to_files)"
   ]
  },
  {
   "cell_type": "markdown",
   "metadata": {},
   "source": [
    "We can print the path to the first file in our collection (and the `.stem` attribute, i.e. the actual file name)"
   ]
  },
  {
   "cell_type": "code",
   "execution_count": 43,
   "metadata": {},
   "outputs": [
    {
     "name": "stdout",
     "output_type": "stream",
     "text": [
      "data/hmd_data/plaintext/0002643/0002643_18210719_art0021.txt\n",
      "0002643_18210719_art0021\n"
     ]
    }
   ],
   "source": [
    "print(path_to_files[0])\n",
    "print(path_to_files[0].stem)"
   ]
  },
  {
   "cell_type": "markdown",
   "metadata": {},
   "source": [
    "You'll notice that file name follows a pattern `{newspaper ID}_{date}_{article ID}` which we can use to filter articles by date. In the scenario bellow we want select only those articles published between the 1st January  and 25th March 1807. Again, as is hopefully familiar by now, we show how to do this for one file, after which scaling up tho the whole collection is rather straightforward. \n",
    "\n",
    "Line 2 and 4 make use of multiple assignment\n",
    "Line 4 also combines string slicing with typecasting"
   ]
  },
  {
   "cell_type": "code",
   "execution_count": 50,
   "metadata": {},
   "outputs": [
    {
     "name": "stdout",
     "output_type": "stream",
     "text": [
      "1821 <class 'str'>\n",
      "1821 <class 'int'>\n"
     ]
    }
   ],
   "source": [
    "date = \"18210629\"\n",
    "year_str = date[:4]\n",
    "print(year_str, type(year_str))\n",
    "year = int(date[:4])\n",
    "print(year, type(year))"
   ]
  },
  {
   "cell_type": "code",
   "execution_count": 47,
   "metadata": {},
   "outputs": [
    {
     "name": "stdout",
     "output_type": "stream",
     "text": [
      "0002643 18210629 art0009\n",
      "1821 6 29\n"
     ]
    }
   ],
   "source": [
    "example_path = path_to_files[100] # select a pathname \n",
    "newspaper_id, date, art_id = example_path.stem.split(\"_\")\n",
    "print(newspaper_id, date, art_id)\n",
    "year,month,day = int(date[:4]),int(date[4:6]),int(date[6:])\n",
    "print(year,month,day)"
   ]
  },
  {
   "cell_type": "markdown",
   "metadata": {},
   "source": [
    "Now we extract different elements from the date string we can convert it to a proper Python time-stamp (i.e. a datetime object.)"
   ]
  },
  {
   "cell_type": "code",
   "execution_count": 52,
   "metadata": {},
   "outputs": [
    {
     "data": {
      "text/plain": [
       "datetime.datetime(1821, 6, 29, 0, 0)"
      ]
     },
     "execution_count": 52,
     "metadata": {},
     "output_type": "execute_result"
    }
   ],
   "source": [
    "from datetime import datetime\n",
    "ts_1 = datetime(year,month,day)\n",
    "ts_1"
   ]
  },
  {
   "cell_type": "markdown",
   "metadata": {},
   "source": [
    "This allows is to compare to dates, for example if one date is before or after another. For this we can use `>` (bigger than) and `<` (smaller than) operators."
   ]
  },
  {
   "cell_type": "code",
   "execution_count": 54,
   "metadata": {},
   "outputs": [
    {
     "name": "stdout",
     "output_type": "stream",
     "text": [
      "True\n"
     ]
    }
   ],
   "source": [
    "ts_2 = datetime(1821,7,1)\n",
    "print(ts_2 > ts_1)"
   ]
  },
  {
   "cell_type": "markdown",
   "metadata": {},
   "source": [
    "We can also test for a range, i.e. test if a time-stamp falls within a particular date-range.\n",
    "We first decide on the lower and upper boundary, and then for different target_dates evaluate if fall within the selected period"
   ]
  },
  {
   "cell_type": "code",
   "execution_count": 56,
   "metadata": {},
   "outputs": [],
   "source": [
    "lower_b = datetime(1807,1,1)\n",
    "upper_b = datetime(1807,3,15)"
   ]
  },
  {
   "cell_type": "code",
   "execution_count": 58,
   "metadata": {},
   "outputs": [
    {
     "data": {
      "text/plain": [
       "True"
      ]
     },
     "execution_count": 58,
     "metadata": {},
     "output_type": "execute_result"
    }
   ],
   "source": [
    "target_date = datetime(1807,2,15)\n",
    "lower_b < target_date < upper_b"
   ]
  },
  {
   "cell_type": "code",
   "execution_count": 59,
   "metadata": {},
   "outputs": [
    {
     "data": {
      "text/plain": [
       "False"
      ]
     },
     "execution_count": 59,
     "metadata": {},
     "output_type": "execute_result"
    }
   ],
   "source": [
    "target_date = datetime(1806,2,15)\n",
    "lower_b < target_date < upper_b"
   ]
  },
  {
   "cell_type": "code",
   "execution_count": 60,
   "metadata": {},
   "outputs": [
    {
     "data": {
      "text/plain": [
       "False"
      ]
     },
     "execution_count": 60,
     "metadata": {},
     "output_type": "execute_result"
    }
   ],
   "source": [
    "target_date = datetime(1808,2,15)\n",
    "lower_b < target_date < upper_b"
   ]
  },
  {
   "cell_type": "markdown",
   "metadata": {},
   "source": [
    "We can packages these steps in together in one function, the takes a path, upper and lower boundary are arguments, and returns a boolean (i.e. `True` or `False`) value. \n",
    "\n",
    "Don't forget to run the code cell below, otherwise you won't be able to use the `in_daterange()` function."
   ]
  },
  {
   "cell_type": "code",
   "execution_count": 61,
   "metadata": {},
   "outputs": [],
   "source": [
    "def in_daterange(path,lower_b,upper_b):\n",
    "    newspaper_id, date, art_id = path.stem.split(\"_\")\n",
    "    year,month,day = int(date[:4]),int(date[4:6]),int(date[6:])\n",
    "    target_date = datetime(year,month,day)\n",
    "    return lower_b < target_date < upper_b"
   ]
  },
  {
   "cell_type": "markdown",
   "metadata": {},
   "source": [
    "Before applying the function, we test it on a few examples."
   ]
  },
  {
   "cell_type": "code",
   "execution_count": null,
   "metadata": {},
   "outputs": [],
   "source": [
    "lower_b = datetime(1807,1,1)\n",
    "upper_b = datetime(1807,3,15)"
   ]
  },
  {
   "cell_type": "code",
   "execution_count": 72,
   "metadata": {},
   "outputs": [
    {
     "data": {
      "text/plain": [
       "PosixPath('data/hmd_data/plaintext/0002643/0002643_18240818_art0008.txt')"
      ]
     },
     "execution_count": 72,
     "metadata": {},
     "output_type": "execute_result"
    }
   ],
   "source": [
    "path_to_files[700]  "
   ]
  },
  {
   "cell_type": "code",
   "execution_count": 70,
   "metadata": {},
   "outputs": [
    {
     "name": "stdout",
     "output_type": "stream",
     "text": [
      "data/hmd_data/plaintext/0002643/0002643_18210629_art0009.txt\n"
     ]
    },
    {
     "data": {
      "text/plain": [
       "False"
      ]
     },
     "execution_count": 70,
     "metadata": {},
     "output_type": "execute_result"
    }
   ],
   "source": [
    "path = path_to_files[100]  \n",
    "print(path)\n",
    "in_daterange(path,lower_b,upper_b)"
   ]
  },
  {
   "cell_type": "markdown",
   "metadata": {},
   "source": [
    "Now we are ready to iterate over the whole corpus. Note that the small program is follow a structure similar to what we have seen earlier. In the first line we define an empty list variable, and fill it with items (using `.append()`) that match the condition defined in liene 3. The we print the number of files we found."
   ]
  },
  {
   "cell_type": "code",
   "execution_count": 75,
   "metadata": {},
   "outputs": [
    {
     "name": "stdout",
     "output_type": "stream",
     "text": [
      "15\n"
     ]
    }
   ],
   "source": [
    "selected_files = []\n",
    "for p in path_to_files:\n",
    "    if in_daterange(p,lower_b,upper_b):\n",
    "        selected_files.append(p)\n",
    "print(len(selected_files))"
   ]
  },
  {
   "cell_type": "code",
   "execution_count": 76,
   "metadata": {},
   "outputs": [
    {
     "data": {
      "text/plain": [
       "[PosixPath('data/hmd_data/plaintext/0002643/0002643_18070130_art0013.txt'),\n",
       " PosixPath('data/hmd_data/plaintext/0002643/0002643_18070302_art0022.txt'),\n",
       " PosixPath('data/hmd_data/plaintext/0002643/0002643_18070131_art0009.txt'),\n",
       " PosixPath('data/hmd_data/plaintext/0002643/0002643_18070224_art0009.txt'),\n",
       " PosixPath('data/hmd_data/plaintext/0002643/0002643_18070211_art0011.txt'),\n",
       " PosixPath('data/hmd_data/plaintext/0002643/0002643_18070224_art0006.txt'),\n",
       " PosixPath('data/hmd_data/plaintext/0002643/0002643_18070228_art0012.txt'),\n",
       " PosixPath('data/hmd_data/plaintext/0002194/0002194_18070224_art0008.txt'),\n",
       " PosixPath('data/hmd_data/plaintext/0002194/0002194_18070226_art0015.txt'),\n",
       " PosixPath('data/hmd_data/plaintext/0002194/0002194_18070207_art0017.txt'),\n",
       " PosixPath('data/hmd_data/plaintext/0002194/0002194_18070206_art0005.txt'),\n",
       " PosixPath('data/hmd_data/plaintext/0002194/0002194_18070206_art0004.txt'),\n",
       " PosixPath('data/hmd_data/plaintext/0002194/0002194_18070228_art0007.txt'),\n",
       " PosixPath('data/hmd_data/plaintext/0002194/0002194_18070128_art0010.txt'),\n",
       " PosixPath('data/hmd_data/plaintext/0002646/0002646_18070206_art0019.txt')]"
      ]
     },
     "execution_count": 76,
     "metadata": {},
     "output_type": "execute_result"
    }
   ],
   "source": [
    "selected_files"
   ]
  },
  {
   "cell_type": "markdown",
   "metadata": {},
   "source": [
    "If you want you could continue with close reading these article."
   ]
  },
  {
   "cell_type": "code",
   "execution_count": 78,
   "metadata": {},
   "outputs": [
    {
     "name": "stdout",
     "output_type": "stream",
     "text": [
      "IA ECON CI IrCU IT.\n",
      "\n",
      "•\n",
      "\n",
      "The Honourable George Harding..\n",
      "Atael Moymy, Esq.\n",
      "Cardiff—Tuesday, March 24.\n",
      "precru fueolay, March 31.\n",
      "Predieigne-o f ussdan April 7.\n",
      "CHESFER CIRCUIT.\n",
      "kobert Delhi>, EN.\n",
      "Francis Burton, E.‘q.\n",
      "Montgnmeryihire—Thursday, March at Pool.\n",
      "Denbighshire-Wednesday, Aiuil t, at ktuthol.\n",
      "Fliotshire--Tuimlay, April 7, at Mold.\n",
      "Cogitate—Monday, Apia 13, at the Castle of Chester.\n",
      "NORTH WALES SPRING CIRCUIT, 11107.\n",
      "Hush Ltyc,ster, laq.\n",
      "Thomas Musser, Esq.\n",
      "hferiemethshire—Thlimlay, Arra 7, at Sala.\n",
      "Carstamonsolre--Wellnestlay, Aped t, at Camarvon.\n",
      "Anglesey—Tutmlay, Match 26, at Be mataris.\n",
      "A \"co.-The F.sighso Circuits have been already given in Taw\n",
      "Btlilita Pawls, with the oirtivvion of the Awns of Hunting-\n",
      "dun, which n fixed loor 7th March, and Cambridge the 10th.\n",
      "\n",
      "The following is a statement of the distribution of\n",
      "nor Naval Force, up to this day:—At sea, eighty-six\n",
      "sail of the line ; seven ships from 50 to 44 guns; 115\n",
      "frigates, 152 sloops, and 1132 gun-brigs and smaller\n",
      "vessels, making a total of 542 ships of war. The\n",
      "number in commission is, 135 sail of the line, 13\n",
      "from SO to 44 guns, 115 fiigates, 152 sloops, &c.\n",
      "and 132 gun-brigs, making a total at sea and re-\n",
      "pairing, 733.\n",
      "An Inquisition was talcon, on Friday evening, at\n",
      "a public house leading from Hindon-hill to Ux-\n",
      "bridge, on the body of Jams' RICHAItD SANDLIIIS,\n",
      "Esq. who met his death by the bursting of a gun on\n",
      "Thursday last. The deceased. who was extremely\n",
      "fond of the diversion of shooting, was pralbsing at\n",
      "pigeons. in a meadow not far from his own residence,\n",
      "preparatory to a match taking place between him and\n",
      "a Mr. 6'nm:iamb, when the fatal accident betel him.\n",
      "He has left an amiabk wife and several childsen.•—\n",
      "leeidcaMi Geate.\n",
      "\n",
      "rte;\n",
      "\n",
      "•\n",
      "•\n",
      "LORD SOMER VILLA'S CitTLE UMW:\n",
      "began to arrive at 6adlMis R. pociti,\n",
      "n Griffinfil-street, which are to be t.iere e4..11.0tt4 .\n",
      "this day and to-nsorroliro as Candidates for tlmi4Pi %mg\n",
      "oistrioricall, offered br 1..0rd S inerville, 4 .r eirc.ru\n",
      "raging early and economically fatterd,ig of boi -\n",
      "mats, and other objeds ei4 imponant. Abisqt\n",
      "dusk in the evening, we learned,. thet rile.) had ar-\n",
      "rived, beluoging\n",
      "Lo-d Viscount Sackeille 5; Major Woodpta John\n",
      "Conyers 1; William Coles 2; J•liti W -mar 3; ti my\n",
      "jun. 1; Samuel C.sand's-• 2; Jahn Tenet ; W It ,r 1 j\n",
      "M.. and Mr Lamb 4.\n",
      "Cows and Heifer belonging to, Lord Se never, 1, ...us\n",
      "Ital,an heiforj•' Lewd Briybeuok.ll; Lort Wii ism !( .41 t;\n",
      "John Weetcar2; .re K •is, jun 1; Kohn? T bbi\n",
      "Jo,' ua Trimmer 1; Mr Laus 2 ; an.. the Rceerer.4 Mr. .\n",
      "Toner, 1.\n",
      "A BuS Warming:a !oho C sayers, Eq.\n",
      "Merino, or IC.,A h •••..gi tg to, Lord Sumettille\n",
      "10 rams ; and Mr Beckenham tra , and 1 as,.\n",
      "Fat Weiher Sheep, tiebing..sg to, Lord Somerville 5; C.d.\n",
      "Montague Burgoyne 12; Chutes C We tri.4 .5; f Stomas\n",
      "Purdy 5 ; and Mr. Mnnkton 5,\n",
      "A Rani, beioilging to, Sir Thema* Can\n",
      "Ewe-Hogs, belonging to, Lord Se...:vire 3; Lord Lay-\n",
      "brooks, 5; Sir Thomas Can 5; Col. Moi,.tague B . rue p;\n",
      "Chalice C. Weiteen 5; Wi. tarn Rutteiotati 5; 1.11,,,u•..\n",
      "dy 5; Finch Hatton 5; Mr. Beckenham 6; Mr. Fame :..4\n",
      "5 ' • and Mr 52aSy 5.\n",
      "Pl', belonging to, S,r William Curtis 4 ; Chi. n C. W.a.\n",
      "tern 4; W. Coles 2 ; Robert Tobss 2 ; L.. Wright 1; and\n",
      "Mr. Sully 1.\n",
      "Several other very fine animals were espeled to\n",
      "arrive in the course of the evening. This Li 'ruing,\n",
      "the Gentlemen s‘leeted as judges wi I,c-iretdlly ex-\n",
      "amine all the animitls for whicri priz-v h as-z- teen\n",
      "offered, and the certificates of the nark p--rt.srmed\n",
      "\n",
      "is~ ~\n",
      "\n",
      "'L\n",
      "\n",
      "+~ - .\n",
      "\n",
      "4 '\n",
      "\n",
      ".?\n",
      "\n",
      "\\\n",
      "\n",
      "by oxen, the d.stance each has traveded to the\n",
      "show, their ages, food, &c. &r And .hey will maki,\n",
      "sign and seal ap their award, to be o?en d by Lcml\n",
      "Somerville, after the dinner whi, be gives to-\n",
      "morrow at Freemason's Cavern ; w: ere handsome\n",
      "silver cups, as priz s, will be pihl.cly &livered to\n",
      "the saccev.ful candidates. Several new agricultural\n",
      "implements, specimens of bread-cl,t'i hum Ar.Altr-\n",
      "Merino wool, by Toilet and Jo)ce, &c. are expected\n",
      "to be shown this day.\n",
      "\n",
      "MONTHLY AGRltill.i UtC.IL REPORT.\n",
      "\n",
      "Th- humidity and attendant inildnei of the sease•i have re.\n",
      "Larded the preparation for sowing and • tunic Field Brans so\n",
      "string soilr; *potations on which usually hays at gh • time\n",
      "been on great forwardoes.. Oa light soils, prsparatioua NOVO\n",
      "been made for sowii.g Barley, and a great orcadtli ad lay\n",
      "ground has been already bn.aen up for Oas.\n",
      "Rye, and W:nter fares, stilt continue to ' a well, —a the\n",
      "Ast,fi...ll G'.l4lCl are vets nn plamise ea. y .04\n",
      "for Ewes and Lambs. Wheat average,.. thro..gdout Eng rill\n",
      "and Wales, 755. Bd Earley, 375. ltd., and la. s, 4d.\n",
      "From the For;, immense droves of ..olsaNal fed sheep bay*\n",
      "been recently sant to fm thfield, ugh eon litaw. Butlnent\n",
      "the prevailing warmth and wetness, cuiescrd is (nowt I. grow\n",
      "too fast, and the remind -r of the feeding stuck, which is still\n",
      "co utterable, do not de -as well.\n",
      "the same observation holds gond in to turnip —4\n",
      "ant, which has be. n this \"Fairer anieers.o g mod abstudants\n",
      "The pradire astalt.troding matt,' on ~li-e • .e, grow-d OMR.\n",
      "turnips, &c. being new general, scarcely a wall.nsan..a sd form •\n",
      "is without • few, and it occasion.. a great steck..f fat cattle, in •\n",
      "the country, which has c ins ,Scranly redueed the ounces al fat\n",
      "mum Notwithstanding the large tUppitei r uted by govern-\n",
      "en•mt and merchant shipping, Cows and Calves are more res.\n",
      "sonable.\n",
      "Little business has been Italy done in the horse\n",
      "GOMM 4111, 'repave can Cutts Isavarbtel sold at very high\n",
      "\n",
      "prices.\n",
      "The &roam] I.r Pocking Pig. still continue: rut. In\n",
      "Smithfield, Beef fetches from 44 6d. to Ss. awl ; hiuttoa,\n",
      "from 4. 3,1 to 51 ; •nd P.. k '.. 'id. to Gs. 6d.\n",
      "\n",
      "r.\n",
      "\n",
      "At the interview, on triJay, between Lod\n",
      "Gazesvihhe and the Gintlemen who prapo,e.: to\n",
      "bid for the Loan, hi, Lordship dee ined to say\n",
      "whether a subsidy would or would not be wanted, •\n",
      "or what the probable amount of it might be Some\n",
      "persons woo ail, et to know ',titter than hi; Lord-\n",
      "ship, assure us, that five minions will be ri quire\"\n",
      "for Russia, and two for Prassia. It must be obvi-\n",
      "ous, that this is a mere sprculation, and that the\n",
      "amount if any subsidy to he sent to the Continent,\n",
      "must depend upon future circumstances.\n",
      "The Spartan, which is abou! to sail for the Me-\n",
      "diterranean, has on board 700,000 dollars, for the\n",
      "payment of the British troops in Sicily.\n",
      "The ,4k4na. Da sat. from Koningsberg for Lon-\n",
      "don, is ',ass rear ; crew saved.\n",
      "The Basta, Rtsaauo, from Shields, is arrived at\n",
      "Gibraltar, after being plundered by five opanish\n",
      "boats. •\n",
      "The Coax uree, Barna AN, from Belfast, and is\n",
      "Nue,. Bosnia, tram Philadalpoia, are captured,\n",
      "and carried into Algeziras.\n",
      "The Three Brothert, Siwousois. from Yarmouth\n",
      "for Leghorn, is put into Mendahl, Norway, with\n",
      "damage.\n",
      "BonAAAITt has ordered all the bulletins of the\n",
      "Grand Army, of the p-eceding and present Cam-\n",
      "Nips, to ba translated into the Arabic and Turkish\n",
      "languages.\n",
      "Orders were sent out, last season, to Prince of\n",
      "Wales's Island, to prevent the further importation\n",
      "of slaves into that Island. By the ships of the pre-\n",
      "sent season, fresh orders have been dispatched for\n",
      "the total abolition of slavery in that Island, Go-\n",
      "vernment making . compensation to those who may\n",
      "suffer any loss or inconvenience.\n",
      "Letters from Halifax, dated January 28, state,\n",
      "that the weather had set in extremely severe. A\n",
      "party of the 99th regiment, consisting of a sr.\n",
      "jeant. corporal. and private, had gone a few darts\n",
      "before in search of a deserter; the private had i..\n",
      "turned, and was then in the hospital. and it was\n",
      "feared the poor fellow world lose both has feet\n",
      "from the seveiity of the fiost. The serjcant and\n",
      "corp sal were both found frozen to death, at some\n",
      "miles distant from Halifax. `[hr-e men, who had\n",
      "gone in search of them, had not returned. and it\n",
      "was dreaded that they had shared the same fates\n",
      "Saturday night's Gautte contains the ordstr of Mg\n",
      "MAJtury in Council, that, tor the supply of the is.\n",
      "habitants and fishermen of Nesrounsiland, for the\n",
      "ensuing season only, bread, Aour, pease, [mbar%\n",
      "cur ‘, butter, and live stock. may be exported unto\n",
      "that island from any of the territaties of the U reed\n",
      "States of America, by B:itish subjects. in irit.sh\n",
      "built ships, owned by His 4VIAJASTY'S auujeas, thivis\n",
      "gated according to law, and which, for toe space of\n",
      "nine rainths previous to the time of such elllettA.\n",
      "tion. have cleared out from soma port of the United\n",
      "Kingdom of Greet Britain and Ireland, or i,:;ier\n",
      "His M AAAAA v's >minions in Europe. for which pur-\n",
      "pose a license shall have been granted by the Com-\n",
      "missioners of the Customs, and such livens JO bey\n",
      "n force only Mae calendar months.\n",
      "*\n",
      "\n",
      "\n",
      "A\n",
      "I\n",
      "\n"
     ]
    }
   ],
   "source": [
    "print(open(selected_files[1]).read())"
   ]
  },
  {
   "cell_type": "markdown",
   "metadata": {},
   "source": [
    "### 5.3.2 XML\n",
    "\n",
    "**[Under construction]**"
   ]
  },
  {
   "cell_type": "markdown",
   "metadata": {},
   "source": [
    "## 5.4. Filtering based on Content\n",
    "\n",
    "Let's now explore techniques for selecting articles based on their content. We will slightly touch on a new topic, Regular Expression, a rich query language that enables you to search for complex textual patterns. It is outsde the scope of this tutorial to discuss REs in depth, but we show a useful example that allows you to search for multiple words at one. \n",
    "\n",
    "Using regular expression often follows this procedure:\n",
    "- import re module (line 1) (only once suffices)\n",
    "- define pattern (line 2)\n",
    "- compile pattern (line 3)\n",
    "- apply pattern (line 4)"
   ]
  },
  {
   "cell_type": "code",
   "execution_count": 87,
   "metadata": {},
   "outputs": [
    {
     "data": {
      "text/plain": [
       "['freedom', 'democracy']"
      ]
     },
     "execution_count": 87,
     "metadata": {},
     "output_type": "execute_result"
    }
   ],
   "source": [
    "import re\n",
    "pattern = r'\\bfreedom\\b|\\bdemocracy\\b'\n",
    "query = re.compile(pattern)\n",
    "query.findall('can there be freedom, without democracy?')"
   ]
  },
  {
   "cell_type": "code",
   "execution_count": 88,
   "metadata": {},
   "outputs": [
    {
     "data": {
      "text/plain": [
       "['freedom']"
      ]
     },
     "execution_count": 88,
     "metadata": {},
     "output_type": "execute_result"
    }
   ],
   "source": [
    "query.findall('can there be freedom, without democracyy?')"
   ]
  },
  {
   "cell_type": "markdown",
   "metadata": {},
   "source": [
    "We'll skip the technicalities, there are plenty of good introduction to working with regular expressions (the [NLTK handbook](https://www.nltk.org/book/ch03.html) is a good starting point) but we can explain the \n",
    "\n",
    "- `|`: 'OR' seperator \n",
    "- `\\b` word boundary\n",
    "\n",
    "The word boundary seperator"
   ]
  },
  {
   "cell_type": "code",
   "execution_count": 89,
   "metadata": {},
   "outputs": [
    {
     "data": {
      "text/plain": [
       "['freedom', 'democracy']"
      ]
     },
     "execution_count": 89,
     "metadata": {},
     "output_type": "execute_result"
    }
   ],
   "source": [
    "import re\n",
    "pattern = r'freedom|democracy'\n",
    "query = re.compile(pattern)\n",
    "query.findall('can there be dfreedomd, without ddemocracys?')"
   ]
  },
  {
   "cell_type": "code",
   "execution_count": 90,
   "metadata": {},
   "outputs": [
    {
     "name": "stdout",
     "output_type": "stream",
     "text": [
      "4230\n"
     ]
    }
   ],
   "source": [
    "import re\n",
    "query = re.compile(r'(?:\\bfreedom\\b|\\bdemocracy\\b|\\babolit)')\n",
    "selected_files = []\n",
    "for p in path_to_files:\n",
    "    txt = open(p).read()\n",
    "    txt_lower = txt.lower()\n",
    "    results = query.findall(txt_lower)\n",
    "    if results:\n",
    "        selected_files.append(p)\n",
    "print(len(selected_files))"
   ]
  },
  {
   "cell_type": "markdown",
   "metadata": {},
   "source": [
    "## 5.5 Putting Everything Together"
   ]
  },
  {
   "cell_type": "markdown",
   "metadata": {},
   "source": [
    "By combining metadata and content criteria you can rigorously navigate corpora and select relevant information. The code cell merges the previous examples.\n",
    "\n",
    "The important difference is in line 20 where the `if` statements contains two conditions, and two have to evaluate to `True`."
   ]
  },
  {
   "cell_type": "code",
   "execution_count": 94,
   "metadata": {},
   "outputs": [
    {
     "name": "stdout",
     "output_type": "stream",
     "text": [
      "!\n"
     ]
    }
   ],
   "source": [
    "if True and True:\n",
    "    print('!')"
   ]
  },
  {
   "cell_type": "code",
   "execution_count": 93,
   "metadata": {},
   "outputs": [],
   "source": [
    "if True and False:\n",
    "    print('!')"
   ]
  },
  {
   "cell_type": "code",
   "execution_count": null,
   "metadata": {},
   "outputs": [],
   "source": []
  },
  {
   "cell_type": "code",
   "execution_count": 91,
   "metadata": {},
   "outputs": [
    {
     "name": "stdout",
     "output_type": "stream",
     "text": [
      "228\n"
     ]
    }
   ],
   "source": [
    "import re\n",
    "from datetime import datetime\n",
    "\n",
    "def in_daterange(path,lower_b,upper_b):\n",
    "    newspaper_id, date, art_id = path.stem.split(\"_\")\n",
    "    year,month,day = int(date[:4]),int(date[4:6]),int(date[6:])\n",
    "    target_date = datetime(year,month,day)\n",
    "    return lower_b < target_date < upper_b\n",
    "\n",
    "lower_b = datetime(1830,1,1)\n",
    "upper_b = datetime(1831,1,1)\n",
    "\n",
    "query = re.compile(r'(?:\\bfreedom\\b|\\bdemocracy\\b|\\babolit)')\n",
    "\n",
    "selected_files = []\n",
    "for p in path_to_files:\n",
    "    txt = open(p).read()\n",
    "    txt_lower = txt.lower()\n",
    "    results = query.findall(txt_lower)\n",
    "    if results and in_daterange(p,lower_b,upper_b):\n",
    "        selected_files.append(p)\n",
    "print(len(selected_files))"
   ]
  },
  {
   "cell_type": "code",
   "execution_count": 92,
   "metadata": {},
   "outputs": [
    {
     "data": {
      "text/plain": [
       "[PosixPath('data/hmd_data/plaintext/0002194/0002194_18300309_art0045.txt'),\n",
       " PosixPath('data/hmd_data/plaintext/0002194/0002194_18301124_art0005.txt'),\n",
       " PosixPath('data/hmd_data/plaintext/0002194/0002194_18301216_art0028.txt'),\n",
       " PosixPath('data/hmd_data/plaintext/0002194/0002194_18301018_art0004.txt'),\n",
       " PosixPath('data/hmd_data/plaintext/0002194/0002194_18301211_art0018.txt'),\n",
       " PosixPath('data/hmd_data/plaintext/0002194/0002194_18300604_art0037.txt'),\n",
       " PosixPath('data/hmd_data/plaintext/0002194/0002194_18301116_art0005.txt'),\n",
       " PosixPath('data/hmd_data/plaintext/0002194/0002194_18300608_art0019.txt'),\n",
       " PosixPath('data/hmd_data/plaintext/0002194/0002194_18301123_art0008.txt'),\n",
       " PosixPath('data/hmd_data/plaintext/0002194/0002194_18301001_art0016.txt'),\n",
       " PosixPath('data/hmd_data/plaintext/0002194/0002194_18301123_art0022.txt'),\n",
       " PosixPath('data/hmd_data/plaintext/0002194/0002194_18300902_art0003.txt'),\n",
       " PosixPath('data/hmd_data/plaintext/0002194/0002194_18301013_art0030.txt'),\n",
       " PosixPath('data/hmd_data/plaintext/0002194/0002194_18300316_art0008.txt'),\n",
       " PosixPath('data/hmd_data/plaintext/0002194/0002194_18300812_art0036.txt'),\n",
       " PosixPath('data/hmd_data/plaintext/0002194/0002194_18301204_art0030.txt'),\n",
       " PosixPath('data/hmd_data/plaintext/0002194/0002194_18300224_art0013.txt'),\n",
       " PosixPath('data/hmd_data/plaintext/0002194/0002194_18300521_art0007.txt'),\n",
       " PosixPath('data/hmd_data/plaintext/0002194/0002194_18300211_art0023.txt'),\n",
       " PosixPath('data/hmd_data/plaintext/0002194/0002194_18300524_art0016.txt'),\n",
       " PosixPath('data/hmd_data/plaintext/0002194/0002194_18300714_art0011.txt'),\n",
       " PosixPath('data/hmd_data/plaintext/0002194/0002194_18301013_art0021.txt'),\n",
       " PosixPath('data/hmd_data/plaintext/0002194/0002194_18301008_art0010.txt'),\n",
       " PosixPath('data/hmd_data/plaintext/0002194/0002194_18301221_art0017.txt'),\n",
       " PosixPath('data/hmd_data/plaintext/0002194/0002194_18301216_art0006.txt'),\n",
       " PosixPath('data/hmd_data/plaintext/0002194/0002194_18300807_art0024.txt'),\n",
       " PosixPath('data/hmd_data/plaintext/0002194/0002194_18301104_art0019.txt'),\n",
       " PosixPath('data/hmd_data/plaintext/0002194/0002194_18301203_art0010.txt'),\n",
       " PosixPath('data/hmd_data/plaintext/0002194/0002194_18300721_art0009.txt'),\n",
       " PosixPath('data/hmd_data/plaintext/0002194/0002194_18301008_art0011.txt'),\n",
       " PosixPath('data/hmd_data/plaintext/0002194/0002194_18301124_art0016.txt'),\n",
       " PosixPath('data/hmd_data/plaintext/0002194/0002194_18300601_art0036.txt'),\n",
       " PosixPath('data/hmd_data/plaintext/0002194/0002194_18301218_art0023.txt'),\n",
       " PosixPath('data/hmd_data/plaintext/0002194/0002194_18300403_art0034.txt'),\n",
       " PosixPath('data/hmd_data/plaintext/0002194/0002194_18300102_art0055.txt'),\n",
       " PosixPath('data/hmd_data/plaintext/0002194/0002194_18301118_art0027.txt'),\n",
       " PosixPath('data/hmd_data/plaintext/0002194/0002194_18301223_art0020.txt'),\n",
       " PosixPath('data/hmd_data/plaintext/0002194/0002194_18300913_art0022.txt'),\n",
       " PosixPath('data/hmd_data/plaintext/0002194/0002194_18301215_art0010.txt'),\n",
       " PosixPath('data/hmd_data/plaintext/0002194/0002194_18300804_art0026.txt'),\n",
       " PosixPath('data/hmd_data/plaintext/0002194/0002194_18301218_art0050.txt'),\n",
       " PosixPath('data/hmd_data/plaintext/0002194/0002194_18300612_art0027.txt'),\n",
       " PosixPath('data/hmd_data/plaintext/0002194/0002194_18300507_art0008.txt'),\n",
       " PosixPath('data/hmd_data/plaintext/0002194/0002194_18301122_art0006.txt'),\n",
       " PosixPath('data/hmd_data/plaintext/0002194/0002194_18300717_art0011.txt'),\n",
       " PosixPath('data/hmd_data/plaintext/0002194/0002194_18300719_art0026.txt'),\n",
       " PosixPath('data/hmd_data/plaintext/0002194/0002194_18300529_art0031.txt'),\n",
       " PosixPath('data/hmd_data/plaintext/0002194/0002194_18300729_art0012.txt'),\n",
       " PosixPath('data/hmd_data/plaintext/0002194/0002194_18301012_art0004.txt'),\n",
       " PosixPath('data/hmd_data/plaintext/0002194/0002194_18300409_art0025.txt'),\n",
       " PosixPath('data/hmd_data/plaintext/0002194/0002194_18300609_art0006.txt'),\n",
       " PosixPath('data/hmd_data/plaintext/0002194/0002194_18300312_art0012.txt'),\n",
       " PosixPath('data/hmd_data/plaintext/0002194/0002194_18300402_art0011.txt'),\n",
       " PosixPath('data/hmd_data/plaintext/0002194/0002194_18300803_art0012.txt'),\n",
       " PosixPath('data/hmd_data/plaintext/0002194/0002194_18301109_art0004.txt'),\n",
       " PosixPath('data/hmd_data/plaintext/0002194/0002194_18300811_art0008.txt'),\n",
       " PosixPath('data/hmd_data/plaintext/0002194/0002194_18300816_art0005.txt'),\n",
       " PosixPath('data/hmd_data/plaintext/0002194/0002194_18301112_art0020.txt'),\n",
       " PosixPath('data/hmd_data/plaintext/0002194/0002194_18301222_art0005.txt'),\n",
       " PosixPath('data/hmd_data/plaintext/0002194/0002194_18301115_art0038.txt'),\n",
       " PosixPath('data/hmd_data/plaintext/0002194/0002194_18300906_art0018.txt'),\n",
       " PosixPath('data/hmd_data/plaintext/0002194/0002194_18301220_art0018.txt'),\n",
       " PosixPath('data/hmd_data/plaintext/0002194/0002194_18300517_art0034.txt'),\n",
       " PosixPath('data/hmd_data/plaintext/0002194/0002194_18300720_art0007.txt'),\n",
       " PosixPath('data/hmd_data/plaintext/0002194/0002194_18301117_art0014.txt'),\n",
       " PosixPath('data/hmd_data/plaintext/0002194/0002194_18300824_art0021.txt'),\n",
       " PosixPath('data/hmd_data/plaintext/0002194/0002194_18300816_art0034.txt'),\n",
       " PosixPath('data/hmd_data/plaintext/0002194/0002194_18301112_art0004.txt'),\n",
       " PosixPath('data/hmd_data/plaintext/0002194/0002194_18300615_art0008.txt'),\n",
       " PosixPath('data/hmd_data/plaintext/0002194/0002194_18300612_art0010.txt'),\n",
       " PosixPath('data/hmd_data/plaintext/0002194/0002194_18300520_art0016.txt'),\n",
       " PosixPath('data/hmd_data/plaintext/0002194/0002194_18300612_art0012.txt'),\n",
       " PosixPath('data/hmd_data/plaintext/0002194/0002194_18300615_art0022.txt'),\n",
       " PosixPath('data/hmd_data/plaintext/0002194/0002194_18300925_art0043.txt'),\n",
       " PosixPath('data/hmd_data/plaintext/0002194/0002194_18301207_art0014.txt'),\n",
       " PosixPath('data/hmd_data/plaintext/0002194/0002194_18301127_art0036.txt'),\n",
       " PosixPath('data/hmd_data/plaintext/0002194/0002194_18301117_art0016.txt'),\n",
       " PosixPath('data/hmd_data/plaintext/0002194/0002194_18300529_art0038.txt'),\n",
       " PosixPath('data/hmd_data/plaintext/0002194/0002194_18300717_art0020.txt'),\n",
       " PosixPath('data/hmd_data/plaintext/0002194/0002194_18301127_art0026.txt'),\n",
       " PosixPath('data/hmd_data/plaintext/0002194/0002194_18301025_art0021.txt'),\n",
       " PosixPath('data/hmd_data/plaintext/0002194/0002194_18300809_art0040.txt'),\n",
       " PosixPath('data/hmd_data/plaintext/0002194/0002194_18300430_art0032.txt'),\n",
       " PosixPath('data/hmd_data/plaintext/0002194/0002194_18301217_art0016.txt'),\n",
       " PosixPath('data/hmd_data/plaintext/0002194/0002194_18301117_art0013.txt'),\n",
       " PosixPath('data/hmd_data/plaintext/0002194/0002194_18301029_art0024.txt'),\n",
       " PosixPath('data/hmd_data/plaintext/0002194/0002194_18301110_art0009.txt'),\n",
       " PosixPath('data/hmd_data/plaintext/0002194/0002194_18300217_art0010.txt'),\n",
       " PosixPath('data/hmd_data/plaintext/0002194/0002194_18301022_art0007.txt'),\n",
       " PosixPath('data/hmd_data/plaintext/0002194/0002194_18301129_art0003.txt'),\n",
       " PosixPath('data/hmd_data/plaintext/0002194/0002194_18300731_art0028.txt'),\n",
       " PosixPath('data/hmd_data/plaintext/0002194/0002194_18300723_art0026.txt'),\n",
       " PosixPath('data/hmd_data/plaintext/0002194/0002194_18301211_art0010.txt'),\n",
       " PosixPath('data/hmd_data/plaintext/0002194/0002194_18301216_art0008.txt'),\n",
       " PosixPath('data/hmd_data/plaintext/0002194/0002194_18301216_art0009.txt'),\n",
       " PosixPath('data/hmd_data/plaintext/0002194/0002194_18300807_art0017.txt'),\n",
       " PosixPath('data/hmd_data/plaintext/0002194/0002194_18300728_art0011.txt'),\n",
       " PosixPath('data/hmd_data/plaintext/0002194/0002194_18300812_art0015.txt'),\n",
       " PosixPath('data/hmd_data/plaintext/0002194/0002194_18301214_art0014.txt'),\n",
       " PosixPath('data/hmd_data/plaintext/0002194/0002194_18301214_art0016.txt'),\n",
       " PosixPath('data/hmd_data/plaintext/0002194/0002194_18300812_art0017.txt'),\n",
       " PosixPath('data/hmd_data/plaintext/0002194/0002194_18300830_art0004.txt'),\n",
       " PosixPath('data/hmd_data/plaintext/0002194/0002194_18300817_art0013.txt'),\n",
       " PosixPath('data/hmd_data/plaintext/0002194/0002194_18301106_art0034.txt'),\n",
       " PosixPath('data/hmd_data/plaintext/0002194/0002194_18301001_art0026.txt'),\n",
       " PosixPath('data/hmd_data/plaintext/0002194/0002194_18300104_art0029.txt'),\n",
       " PosixPath('data/hmd_data/plaintext/0002194/0002194_18301223_art0017.txt'),\n",
       " PosixPath('data/hmd_data/plaintext/0002194/0002194_18301116_art0023.txt'),\n",
       " PosixPath('data/hmd_data/plaintext/0002194/0002194_18301103_art0008.txt'),\n",
       " PosixPath('data/hmd_data/plaintext/0002194/0002194_18301218_art0028.txt'),\n",
       " PosixPath('data/hmd_data/plaintext/0002194/0002194_18301116_art0022.txt'),\n",
       " PosixPath('data/hmd_data/plaintext/0002194/0002194_18300723_art0021.txt'),\n",
       " PosixPath('data/hmd_data/plaintext/0002194/0002194_18300423_art0024.txt'),\n",
       " PosixPath('data/hmd_data/plaintext/0002194/0002194_18300805_art0026.txt'),\n",
       " PosixPath('data/hmd_data/plaintext/0002194/0002194_18301208_art0011.txt'),\n",
       " PosixPath('data/hmd_data/plaintext/0002194/0002194_18300909_art0006.txt'),\n",
       " PosixPath('data/hmd_data/plaintext/0002194/0002194_18301211_art0015.txt'),\n",
       " PosixPath('data/hmd_data/plaintext/0002194/0002194_18301116_art0021.txt'),\n",
       " PosixPath('data/hmd_data/plaintext/0002194/0002194_18300514_art0005.txt'),\n",
       " PosixPath('data/hmd_data/plaintext/0002646/0002646_18300402_art0007.txt'),\n",
       " PosixPath('data/hmd_data/plaintext/0002646/0002646_18300302_art0017.txt'),\n",
       " PosixPath('data/hmd_data/plaintext/0002646/0002646_18300329_art0006.txt'),\n",
       " PosixPath('data/hmd_data/plaintext/0002646/0002646_18301109_art0012.txt'),\n",
       " PosixPath('data/hmd_data/plaintext/0002646/0002646_18300908_art0029.txt'),\n",
       " PosixPath('data/hmd_data/plaintext/0002646/0002646_18301117_art0025.txt'),\n",
       " PosixPath('data/hmd_data/plaintext/0002646/0002646_18301217_art0020.txt'),\n",
       " PosixPath('data/hmd_data/plaintext/0002646/0002646_18300901_art0014.txt'),\n",
       " PosixPath('data/hmd_data/plaintext/0002646/0002646_18301215_art0029.txt'),\n",
       " PosixPath('data/hmd_data/plaintext/0002646/0002646_18300217_art0018.txt'),\n",
       " PosixPath('data/hmd_data/plaintext/0002646/0002646_18300412_art0016.txt'),\n",
       " PosixPath('data/hmd_data/plaintext/0002646/0002646_18300707_art0005.txt'),\n",
       " PosixPath('data/hmd_data/plaintext/0002646/0002646_18300904_art0004.txt'),\n",
       " PosixPath('data/hmd_data/plaintext/0002646/0002646_18300901_art0015.txt'),\n",
       " PosixPath('data/hmd_data/plaintext/0002646/0002646_18301117_art0024.txt'),\n",
       " PosixPath('data/hmd_data/plaintext/0002646/0002646_18300527_art0011.txt'),\n",
       " PosixPath('data/hmd_data/plaintext/0002646/0002646_18301120_art0018.txt'),\n",
       " PosixPath('data/hmd_data/plaintext/0002646/0002646_18301109_art0014.txt'),\n",
       " PosixPath('data/hmd_data/plaintext/0002646/0002646_18301115_art0015.txt'),\n",
       " PosixPath('data/hmd_data/plaintext/0002646/0002646_18300922_art0044.txt'),\n",
       " PosixPath('data/hmd_data/plaintext/0002646/0002646_18301207_art0023.txt'),\n",
       " PosixPath('data/hmd_data/plaintext/0002646/0002646_18300305_art0008.txt'),\n",
       " PosixPath('data/hmd_data/plaintext/0002646/0002646_18300525_art0019.txt'),\n",
       " PosixPath('data/hmd_data/plaintext/0002646/0002646_18301007_art0016.txt'),\n",
       " PosixPath('data/hmd_data/plaintext/0002646/0002646_18300522_art0017.txt'),\n",
       " PosixPath('data/hmd_data/plaintext/0002646/0002646_18300507_art0009.txt'),\n",
       " PosixPath('data/hmd_data/plaintext/0002646/0002646_18301009_art0025.txt'),\n",
       " PosixPath('data/hmd_data/plaintext/0002646/0002646_18300430_art0003.txt'),\n",
       " PosixPath('data/hmd_data/plaintext/0002646/0002646_18300517_art0027.txt'),\n",
       " PosixPath('data/hmd_data/plaintext/0002646/0002646_18300312_art0014.txt'),\n",
       " PosixPath('data/hmd_data/plaintext/0002646/0002646_18301216_art0013.txt'),\n",
       " PosixPath('data/hmd_data/plaintext/0002646/0002646_18300721_art0020.txt'),\n",
       " PosixPath('data/hmd_data/plaintext/0002646/0002646_18301214_art0018.txt'),\n",
       " PosixPath('data/hmd_data/plaintext/0002646/0002646_18301111_art0018.txt'),\n",
       " PosixPath('data/hmd_data/plaintext/0002646/0002646_18300301_art0010.txt'),\n",
       " PosixPath('data/hmd_data/plaintext/0002646/0002646_18300611_art0031.txt'),\n",
       " PosixPath('data/hmd_data/plaintext/0002646/0002646_18300224_art0015.txt'),\n",
       " PosixPath('data/hmd_data/plaintext/0002646/0002646_18301111_art0019.txt'),\n",
       " PosixPath('data/hmd_data/plaintext/0002646/0002646_18301218_art0023.txt'),\n",
       " PosixPath('data/hmd_data/plaintext/0002646/0002646_18301223_art0021.txt'),\n",
       " PosixPath('data/hmd_data/plaintext/0002646/0002646_18300608_art0009.txt'),\n",
       " PosixPath('data/hmd_data/plaintext/0002646/0002646_18301208_art0018.txt'),\n",
       " PosixPath('data/hmd_data/plaintext/0002646/0002646_18300526_art0008.txt'),\n",
       " PosixPath('data/hmd_data/plaintext/0002646/0002646_18301211_art0025.txt'),\n",
       " PosixPath('data/hmd_data/plaintext/0002646/0002646_18300611_art0020.txt'),\n",
       " PosixPath('data/hmd_data/plaintext/0002646/0002646_18300723_art0013.txt'),\n",
       " PosixPath('data/hmd_data/plaintext/0002646/0002646_18300513_art0006.txt'),\n",
       " PosixPath('data/hmd_data/plaintext/0002646/0002646_18300528_art0004.txt'),\n",
       " PosixPath('data/hmd_data/plaintext/0002646/0002646_18300830_art0025.txt'),\n",
       " PosixPath('data/hmd_data/plaintext/0002646/0002646_18300728_art0026.txt'),\n",
       " PosixPath('data/hmd_data/plaintext/0002646/0002646_18301126_art0027.txt'),\n",
       " PosixPath('data/hmd_data/plaintext/0002646/0002646_18300528_art0011.txt'),\n",
       " PosixPath('data/hmd_data/plaintext/0002646/0002646_18301211_art0017.txt'),\n",
       " PosixPath('data/hmd_data/plaintext/0002646/0002646_18300721_art0029.txt'),\n",
       " PosixPath('data/hmd_data/plaintext/0002646/0002646_18300726_art0019.txt'),\n",
       " PosixPath('data/hmd_data/plaintext/0002646/0002646_18301126_art0028.txt'),\n",
       " PosixPath('data/hmd_data/plaintext/0002646/0002646_18301221_art0025.txt'),\n",
       " PosixPath('data/hmd_data/plaintext/0002646/0002646_18300703_art0028.txt'),\n",
       " PosixPath('data/hmd_data/plaintext/0002646/0002646_18300518_art0006.txt'),\n",
       " PosixPath('data/hmd_data/plaintext/0002646/0002646_18300224_art0018.txt'),\n",
       " PosixPath('data/hmd_data/plaintext/0002646/0002646_18300611_art0029.txt'),\n",
       " PosixPath('data/hmd_data/plaintext/0002646/0002646_18300201_art0007.txt'),\n",
       " PosixPath('data/hmd_data/plaintext/0002646/0002646_18301224_art0021.txt'),\n",
       " PosixPath('data/hmd_data/plaintext/0002646/0002646_18301113_art0020.txt'),\n",
       " PosixPath('data/hmd_data/plaintext/0002646/0002646_18301124_art0018.txt'),\n",
       " PosixPath('data/hmd_data/plaintext/0002646/0002646_18301214_art0017.txt'),\n",
       " PosixPath('data/hmd_data/plaintext/0002646/0002646_18300714_art0008.txt'),\n",
       " PosixPath('data/hmd_data/plaintext/0002646/0002646_18301008_art0009.txt'),\n",
       " PosixPath('data/hmd_data/plaintext/0002646/0002646_18300701_art0022.txt'),\n",
       " PosixPath('data/hmd_data/plaintext/0002646/0002646_18301218_art0011.txt'),\n",
       " PosixPath('data/hmd_data/plaintext/0002646/0002646_18301111_art0017.txt'),\n",
       " PosixPath('data/hmd_data/plaintext/0002646/0002646_18301203_art0020.txt'),\n",
       " PosixPath('data/hmd_data/plaintext/0002646/0002646_18301104_art0015.txt'),\n",
       " PosixPath('data/hmd_data/plaintext/0002646/0002646_18300518_art0005.txt'),\n",
       " PosixPath('data/hmd_data/plaintext/0002646/0002646_18301119_art0020.txt'),\n",
       " PosixPath('data/hmd_data/plaintext/0002646/0002646_18301130_art0004.txt'),\n",
       " PosixPath('data/hmd_data/plaintext/0002646/0002646_18300127_art0022.txt'),\n",
       " PosixPath('data/hmd_data/plaintext/0002646/0002646_18300918_art0027.txt'),\n",
       " PosixPath('data/hmd_data/plaintext/0002646/0002646_18300309_art0015.txt'),\n",
       " PosixPath('data/hmd_data/plaintext/0002646/0002646_18300605_art0008.txt'),\n",
       " PosixPath('data/hmd_data/plaintext/0002646/0002646_18301202_art0003.txt'),\n",
       " PosixPath('data/hmd_data/plaintext/0002646/0002646_18301210_art0019.txt'),\n",
       " PosixPath('data/hmd_data/plaintext/0002646/0002646_18301215_art0020.txt'),\n",
       " PosixPath('data/hmd_data/plaintext/0002646/0002646_18301222_art0025.txt'),\n",
       " PosixPath('data/hmd_data/plaintext/0002646/0002646_18300512_art0005.txt'),\n",
       " PosixPath('data/hmd_data/plaintext/0002646/0002646_18301127_art0019.txt'),\n",
       " PosixPath('data/hmd_data/plaintext/0002646/0002646_18301215_art0019.txt'),\n",
       " PosixPath('data/hmd_data/plaintext/0002646/0002646_18300609_art0021.txt'),\n",
       " PosixPath('data/hmd_data/plaintext/0002646/0002646_18301009_art0007.txt'),\n",
       " PosixPath('data/hmd_data/plaintext/0002646/0002646_18300622_art0018.txt'),\n",
       " PosixPath('data/hmd_data/plaintext/0002646/0002646_18301209_art0025.txt'),\n",
       " PosixPath('data/hmd_data/plaintext/0002646/0002646_18300427_art0003.txt'),\n",
       " PosixPath('data/hmd_data/plaintext/0002646/0002646_18301217_art0011.txt'),\n",
       " PosixPath('data/hmd_data/plaintext/0002646/0002646_18300222_art0018.txt'),\n",
       " PosixPath('data/hmd_data/plaintext/0002646/0002646_18300517_art0011.txt'),\n",
       " PosixPath('data/hmd_data/plaintext/0002646/0002646_18300702_art0024.txt'),\n",
       " PosixPath('data/hmd_data/plaintext/0002646/0002646_18301129_art0005.txt'),\n",
       " PosixPath('data/hmd_data/plaintext/0002646/0002646_18300312_art0008.txt'),\n",
       " PosixPath('data/hmd_data/plaintext/0002646/0002646_18300309_art0005.txt'),\n",
       " PosixPath('data/hmd_data/plaintext/0002646/0002646_18301105_art0018.txt'),\n",
       " PosixPath('data/hmd_data/plaintext/0002646/0002646_18300717_art0018.txt'),\n",
       " PosixPath('data/hmd_data/plaintext/0002646/0002646_18301207_art0028.txt'),\n",
       " PosixPath('data/hmd_data/plaintext/0002646/0002646_18301222_art0022.txt'),\n",
       " PosixPath('data/hmd_data/plaintext/0002646/0002646_18301130_art0014.txt'),\n",
       " PosixPath('data/hmd_data/plaintext/0002646/0002646_18301112_art0012.txt'),\n",
       " PosixPath('data/hmd_data/plaintext/0002646/0002646_18301209_art0026.txt'),\n",
       " PosixPath('data/hmd_data/plaintext/0002646/0002646_18300505_art0008.txt'),\n",
       " PosixPath('data/hmd_data/plaintext/0002646/0002646_18300720_art0035.txt'),\n",
       " PosixPath('data/hmd_data/plaintext/0002646/0002646_18300719_art0016.txt')]"
      ]
     },
     "execution_count": 92,
     "metadata": {},
     "output_type": "execute_result"
    }
   ],
   "source": [
    "selected_files"
   ]
  },
  {
   "cell_type": "markdown",
   "metadata": {},
   "source": [
    "## 5.6 Saving the output"
   ]
  },
  {
   "cell_type": "markdown",
   "metadata": {},
   "source": [
    "While selecting articles is useful for creating a specific subcorpus, th\n",
    "\n",
    "dump in an excel file\n",
    "\n",
    "\n",
    "part II focusses more on tabular data"
   ]
  },
  {
   "cell_type": "code",
   "execution_count": 98,
   "metadata": {},
   "outputs": [],
   "source": [
    "import re\n",
    "from datetime import datetime\n",
    "import pandas as pd\n",
    "\n",
    "def in_daterange(path,lower_b,upper_b):\n",
    "    newspaper_id, date, art_id = path.stem.split(\"_\")\n",
    "    year,month,day = int(date[:4]),int(date[4:6]),int(date[6:])\n",
    "    target_date = datetime(year,month,day)\n",
    "    return lower_b < target_date < upper_b\n",
    "\n",
    "lower_b = datetime(1830,1,1)\n",
    "upper_b = datetime(1831,1,1)\n",
    "\n",
    "query = re.compile(r'(?:\\bfreedom\\b|\\bdemocracy\\b|\\babolit)')\n",
    "\n",
    "rows = []\n",
    "for p in path_to_files:\n",
    "    txt = open(p).read()\n",
    "    txt_lower = txt.lower()\n",
    "    results = query.findall(txt_lower)\n",
    "    if results and in_daterange(p,lower_b,upper_b):\n",
    "        row = [p.stem,'; '.join(results),txt]\n",
    "        rows.append(row)\n",
    "\n",
    "        "
   ]
  },
  {
   "cell_type": "code",
   "execution_count": 100,
   "metadata": {},
   "outputs": [],
   "source": [
    "df = pd.DataFrame(rows)\n",
    "df.to_excel('../test.xlsx')"
   ]
  },
  {
   "cell_type": "markdown",
   "metadata": {},
   "source": [
    "## Fin."
   ]
  },
  {
   "cell_type": "code",
   "execution_count": null,
   "metadata": {},
   "outputs": [],
   "source": []
  }
 ],
 "metadata": {
  "kernelspec": {
   "display_name": "Python 3",
   "language": "python",
   "name": "python3"
  },
  "language_info": {
   "codemirror_mode": {
    "name": "ipython",
    "version": 3
   },
   "file_extension": ".py",
   "mimetype": "text/x-python",
   "name": "python",
   "nbconvert_exporter": "python",
   "pygments_lexer": "ipython3",
   "version": "3.7.4"
  }
 },
 "nbformat": 4,
 "nbformat_minor": 2
}
