{
 "cells": [
  {
   "cell_type": "markdown",
   "metadata": {},
   "source": [
    "[![Binder](https://mybinder.org/badge_logo.svg)](https://mybinder.org/v2/gh/kasparvonbeelen/ghi_python/4-tables?labpath=10_-_Hypothesis_Testing.ipynb)\n",
    "\n",
    "\n",
    "# Lecture 10: Hypothesis Testing\n",
    "## Data Science for Historians (with Python)\n",
    "### A very gentle and practical introduction\n",
    "### Created by Kaspar Beelen and Luke Blaxill\n",
    "\n",
    "### For the German Historical Institute, London\n",
    "\n",
    "<img align=\"left\" src=\"https://www.ghil.ac.uk/typo3conf/ext/wacon_ghil/Resources/Public/Images/institute_icon_small.png\">"
   ]
  },
  {
   "cell_type": "markdown",
   "metadata": {},
   "source": [
    "At this point in the course, to describe, summarize, and compare variables. What we lack at this point, is a more formal procedures to understand and assess the importance of the differences we observe in our data. For example, we established that men are, on average, one year younger than women. But how can we establish the value or 'significance' of these differences?\n",
    "\n",
    "We move from descriptive to inferential statistics and continue with predictive modelling in the next notebooks."
   ]
  },
  {
   "cell_type": "markdown",
   "metadata": {},
   "source": [
    "For more background of the concepts and terminology used in this notebook, please consult the lecturer by Luke Blaxill."
   ]
  },
  {
   "cell_type": "code",
   "execution_count": 233,
   "metadata": {},
   "outputs": [],
   "source": [
    "%matplotlib inline\n",
    "import matplotlib.pyplot as plt\n",
    "import pandas as pd\n",
    "import numpy as np\n",
    "import seaborn as sns\n",
    "from tqdm.notebook import tqdm\n",
    "sns.set()"
   ]
  },
  {
   "cell_type": "markdown",
   "metadata": {},
   "source": [
    "We repeat some of the code from the previous notebook and load the synthethic census data."
   ]
  },
  {
   "cell_type": "code",
   "execution_count": 58,
   "metadata": {},
   "outputs": [],
   "source": [
    "df = pd.read_csv('data/icem/EW01_london_subsample.csv',index_col=0)"
   ]
  },
  {
   "cell_type": "markdown",
   "metadata": {},
   "source": [
    "To make our analysis a bit more interesting and complex, we add a dimension: place. We study how the age differences between men and women vary depending on the registration district. In Pandas, adding subgroups is convenient: pass a list of with column namess `['RegDist','Sex']` instead of just one column as previously. `.groupby()` will read this list from left to right, i.e. groups the data first by place and then by sex."
   ]
  },
  {
   "cell_type": "code",
   "execution_count": 59,
   "metadata": {},
   "outputs": [
    {
     "data": {
      "text/plain": [
       "RegDist        Sex\n",
       "Bethnal Green  F      25.920963\n",
       "               M      25.613501\n",
       "               U      20.766603\n",
       "Camberwell     F      27.986109\n",
       "               M      26.708931\n",
       "                        ...    \n",
       "Whitechapel    M      26.254569\n",
       "               U      24.051316\n",
       "Woolwich       F      26.653639\n",
       "               M      26.311769\n",
       "               U      21.427165\n",
       "Name: Age, Length: 90, dtype: float64"
      ]
     },
     "execution_count": 59,
     "metadata": {},
     "output_type": "execute_result"
    }
   ],
   "source": [
    "by_reg_gen = df.groupby(['RegDist','Sex'])['Age'].mean()\n",
    "by_reg_gen"
   ]
  },
  {
   "cell_type": "markdown",
   "metadata": {},
   "source": [
    "Working with output of this operation requires a bit more thought. The `.groupby()` arranges data slightly differently depending on whether you group on one column or more. This becomes apparent when printing the `type()` of the `.index` attribute."
   ]
  },
  {
   "cell_type": "code",
   "execution_count": 62,
   "metadata": {},
   "outputs": [
    {
     "data": {
      "text/plain": [
       "pandas.core.indexes.base.Index"
      ]
     },
     "execution_count": 62,
     "metadata": {},
     "output_type": "execute_result"
    }
   ],
   "source": [
    "type(df.groupby('Sex')['Age'].median().index)"
   ]
  },
  {
   "cell_type": "code",
   "execution_count": 63,
   "metadata": {},
   "outputs": [
    {
     "data": {
      "text/plain": [
       "pandas.core.indexes.multi.MultiIndex"
      ]
     },
     "execution_count": 63,
     "metadata": {},
     "output_type": "execute_result"
    }
   ],
   "source": [
    "type(by_reg_gen.index)"
   ]
  },
  {
   "cell_type": "markdown",
   "metadata": {},
   "source": [
    "`by_reg_gen` orders the data using `MultiIndex`, which means that there multiple levels (place and sex) via which we can access and organize our data.\n",
    "\n",
    "Place is the highest level in our grouped data frame. We can access the seperate"
   ]
  },
  {
   "cell_type": "code",
   "execution_count": 71,
   "metadata": {},
   "outputs": [
    {
     "data": {
      "text/plain": [
       "Sex\n",
       "F    25.920963\n",
       "M    25.613501\n",
       "U    20.766603\n",
       "Name: Age, dtype: float64"
      ]
     },
     "execution_count": 71,
     "metadata": {},
     "output_type": "execute_result"
    }
   ],
   "source": [
    "by_reg_gen.loc['Bethnal Green']"
   ]
  },
  {
   "cell_type": "markdown",
   "metadata": {},
   "source": [
    "Similarly, we can slice the data by place."
   ]
  },
  {
   "cell_type": "code",
   "execution_count": 70,
   "metadata": {},
   "outputs": [
    {
     "data": {
      "text/plain": [
       "RegDist        Sex\n",
       "Bethnal Green  F      25.920963\n",
       "               M      25.613501\n",
       "               U      20.766603\n",
       "Camberwell     F      27.986109\n",
       "               M      26.708931\n",
       "               U      23.410050\n",
       "Chelsea        F      31.318046\n",
       "               M      30.430615\n",
       "               U      28.800000\n",
       "Name: Age, dtype: float64"
      ]
     },
     "execution_count": 70,
     "metadata": {},
     "output_type": "execute_result"
    }
   ],
   "source": [
    "by_reg_gen.loc['Bethnal Green':'Chelsea']"
   ]
  },
  {
   "cell_type": "markdown",
   "metadata": {},
   "source": [
    "But our index has two level, place and sex. We can obtain the means for women using the following syntax."
   ]
  },
  {
   "cell_type": "code",
   "execution_count": 69,
   "metadata": {},
   "outputs": [
    {
     "data": {
      "text/plain": [
       "RegDist\n",
       "Bethnal Green               25.920963\n",
       "Camberwell                  27.986109\n",
       "Chelsea                     31.318046\n",
       "Fulham                      27.920645\n",
       "Greenwich                   27.593689\n",
       "Hackney                     28.796820\n",
       "Hampstead                   29.742615\n",
       "Holborn                     27.719117\n",
       "Islington                   29.047747\n",
       "Kensington                  30.823465\n",
       "Lambeth                     29.019583\n",
       "Lewisham                    28.879865\n",
       "London City                 31.323944\n",
       "Marylebone                  30.465945\n",
       "Mile End Old Town           26.298023\n",
       "Paddington                  30.450756\n",
       "Pancras                     29.136537\n",
       "Poplar                      26.384635\n",
       "Shoreditch                  27.056387\n",
       "Southwark                   27.144232\n",
       "St George Hanover Square    30.821499\n",
       "St George In The East       24.545266\n",
       "St Giles                    30.129131\n",
       "St Olave Southwark          26.486323\n",
       "Stepney                     25.985841\n",
       "Strand                      29.288732\n",
       "Wandsworth                  28.028524\n",
       "Westminster                 28.990447\n",
       "Whitechapel                 24.649451\n",
       "Woolwich                    26.653639\n",
       "Name: Age, dtype: float64"
      ]
     },
     "execution_count": 69,
     "metadata": {},
     "output_type": "execute_result"
    }
   ],
   "source": [
    "by_reg_gen.loc[:,'F']"
   ]
  },
  {
   "cell_type": "markdown",
   "metadata": {},
   "source": [
    "Notice the comma between the square brackets after `.loc`: `by_reg_gen.loc[:,'F']`, \n",
    "- the part before the comma indicates the items we want to access from the first level (place). In this case we entered a colon, meaning from first to last.\n",
    "- the part after the comma indicates the items we want to select from the second level. In this case we want retrieve all elements with key 'F'.\n",
    "\n",
    "Computing the age differences by place is then fairly straightforward."
   ]
  },
  {
   "cell_type": "code",
   "execution_count": 72,
   "metadata": {},
   "outputs": [
    {
     "data": {
      "text/plain": [
       "RegDist\n",
       "Bethnal Green               0.307461\n",
       "Camberwell                  1.277178\n",
       "Chelsea                     0.887431\n",
       "Fulham                      1.295697\n",
       "Greenwich                   0.971892\n",
       "Hackney                     1.357030\n",
       "Hampstead                   0.645606\n",
       "Holborn                     0.341140\n",
       "Islington                   1.430837\n",
       "Kensington                  1.410332\n",
       "Lambeth                     1.411260\n",
       "Lewisham                    1.420661\n",
       "London City                 3.262573\n",
       "Marylebone                  0.921905\n",
       "Mile End Old Town           0.599087\n",
       "Paddington                  1.664367\n",
       "Pancras                     1.031302\n",
       "Poplar                     -0.218534\n",
       "Shoreditch                  0.130194\n",
       "Southwark                   0.101532\n",
       "St George Hanover Square    1.412338\n",
       "St George In The East      -0.011402\n",
       "St Giles                   -0.879827\n",
       "St Olave Southwark          0.088463\n",
       "Stepney                    -0.334267\n",
       "Strand                     -1.759558\n",
       "Wandsworth                  1.004169\n",
       "Westminster                -0.329065\n",
       "Whitechapel                -1.605118\n",
       "Woolwich                    0.341871\n",
       "Name: Age, dtype: float64"
      ]
     },
     "execution_count": 72,
     "metadata": {},
     "output_type": "execute_result"
    }
   ],
   "source": [
    "f_m_diff = by_reg_gen.loc[:,'F'] - by_reg_gen.loc[:,'M']\n",
    "f_m_diff"
   ]
  },
  {
   "cell_type": "markdown",
   "metadata": {},
   "source": [
    "Of course you can be more restrictive, for example, slice the data by place and then only get observations for the 'F' label"
   ]
  },
  {
   "cell_type": "code",
   "execution_count": 73,
   "metadata": {},
   "outputs": [
    {
     "data": {
      "text/plain": [
       "RegDist        Sex\n",
       "Bethnal Green  F      25.920963\n",
       "Camberwell     F      27.986109\n",
       "Chelsea        F      31.318046\n",
       "Name: Age, dtype: float64"
      ]
     },
     "execution_count": 73,
     "metadata": {},
     "output_type": "execute_result"
    }
   ],
   "source": [
    "by_reg_gen.loc['Bethnal Green':'Chelsea','F']"
   ]
  },
  {
   "cell_type": "markdown",
   "metadata": {},
   "source": [
    "## Hypothesis testing"
   ]
  },
  {
   "cell_type": "markdown",
   "metadata": {},
   "source": [
    "At this stage, we can compute and compare distribution of variables, calculate their means or other relevant statistics. But a question than immediately appears: are the differences we observe \"significant\", and what do we mean with \"significance\" anyway. In this section we have a closer look at hypothesis testing from a data driven perspective.\n",
    "\n",
    "Traditionally, statistical methods, such as the Student's t-test arose in times of limited computing power and relied often on theorems and assumptions about the distributions and their properties. Explaining this requires many detours and implies a steep learning for the statistically unitiated. \n",
    "\n",
    "In this lecture therefore focus in more data-driven and hopefully intuitive procedures for signficance testing. We will rely on what is called the *permutation precudure*. The question we first address regards the relation between Sex and Age in Whitechapel and Westminster. We observed in the previous section that both districts deviate from the general pattern, namely a slightly older female population."
   ]
  },
  {
   "cell_type": "code",
   "execution_count": 74,
   "metadata": {},
   "outputs": [
    {
     "data": {
      "text/plain": [
       "((18772, 4), (8033, 4))"
      ]
     },
     "execution_count": 74,
     "metadata": {},
     "output_type": "execute_result"
    }
   ],
   "source": [
    "df_whitechapel = df[df.RegDist=='Whitechapel']\n",
    "df_westminster = df[df.RegDist=='Westminster']\n",
    "df_whitechapel.shape, df_westminster.shape"
   ]
  },
  {
   "cell_type": "code",
   "execution_count": 75,
   "metadata": {},
   "outputs": [
    {
     "data": {
      "text/html": [
       "<div>\n",
       "<style scoped>\n",
       "    .dataframe tbody tr th:only-of-type {\n",
       "        vertical-align: middle;\n",
       "    }\n",
       "\n",
       "    .dataframe tbody tr th {\n",
       "        vertical-align: top;\n",
       "    }\n",
       "\n",
       "    .dataframe thead th {\n",
       "        text-align: right;\n",
       "    }\n",
       "</style>\n",
       "<table border=\"1\" class=\"dataframe\">\n",
       "  <thead>\n",
       "    <tr style=\"text-align: right;\">\n",
       "      <th></th>\n",
       "      <th>mean</th>\n",
       "      <th>std</th>\n",
       "    </tr>\n",
       "    <tr>\n",
       "      <th>Sex</th>\n",
       "      <th></th>\n",
       "      <th></th>\n",
       "    </tr>\n",
       "  </thead>\n",
       "  <tbody>\n",
       "    <tr>\n",
       "      <th>F</th>\n",
       "      <td>24.649451</td>\n",
       "      <td>17.392034</td>\n",
       "    </tr>\n",
       "    <tr>\n",
       "      <th>M</th>\n",
       "      <td>26.254569</td>\n",
       "      <td>17.384621</td>\n",
       "    </tr>\n",
       "    <tr>\n",
       "      <th>U</th>\n",
       "      <td>24.051316</td>\n",
       "      <td>17.402732</td>\n",
       "    </tr>\n",
       "  </tbody>\n",
       "</table>\n",
       "</div>"
      ],
      "text/plain": [
       "          mean        std\n",
       "Sex                      \n",
       "F    24.649451  17.392034\n",
       "M    26.254569  17.384621\n",
       "U    24.051316  17.402732"
      ]
     },
     "execution_count": 75,
     "metadata": {},
     "output_type": "execute_result"
    }
   ],
   "source": [
    "df_whitechapel.groupby('Sex')['Age'].agg([np.mean,np.std])"
   ]
  },
  {
   "cell_type": "code",
   "execution_count": 76,
   "metadata": {},
   "outputs": [
    {
     "data": {
      "text/html": [
       "<div>\n",
       "<style scoped>\n",
       "    .dataframe tbody tr th:only-of-type {\n",
       "        vertical-align: middle;\n",
       "    }\n",
       "\n",
       "    .dataframe tbody tr th {\n",
       "        vertical-align: top;\n",
       "    }\n",
       "\n",
       "    .dataframe thead th {\n",
       "        text-align: right;\n",
       "    }\n",
       "</style>\n",
       "<table border=\"1\" class=\"dataframe\">\n",
       "  <thead>\n",
       "    <tr style=\"text-align: right;\">\n",
       "      <th></th>\n",
       "      <th>mean</th>\n",
       "      <th>std</th>\n",
       "    </tr>\n",
       "    <tr>\n",
       "      <th>Sex</th>\n",
       "      <th></th>\n",
       "      <th></th>\n",
       "    </tr>\n",
       "  </thead>\n",
       "  <tbody>\n",
       "    <tr>\n",
       "      <th>F</th>\n",
       "      <td>28.990447</td>\n",
       "      <td>17.394611</td>\n",
       "    </tr>\n",
       "    <tr>\n",
       "      <th>M</th>\n",
       "      <td>29.319512</td>\n",
       "      <td>17.356371</td>\n",
       "    </tr>\n",
       "    <tr>\n",
       "      <th>U</th>\n",
       "      <td>27.442879</td>\n",
       "      <td>15.662069</td>\n",
       "    </tr>\n",
       "  </tbody>\n",
       "</table>\n",
       "</div>"
      ],
      "text/plain": [
       "          mean        std\n",
       "Sex                      \n",
       "F    28.990447  17.394611\n",
       "M    29.319512  17.356371\n",
       "U    27.442879  15.662069"
      ]
     },
     "execution_count": 76,
     "metadata": {},
     "output_type": "execute_result"
    }
   ],
   "source": [
    "df_westminster.groupby('Sex')['Age'].agg([np.mean,np.std])"
   ]
  },
  {
   "cell_type": "markdown",
   "metadata": {},
   "source": [
    "In the case of Whitechapel, the difference between the mean is a 1.3 years. \n",
    "\n",
    "But is this a \"significant\" difference? Can this difference be a random artefact of the data? Is the product of random chance? The latter will be our Null Hypothesis, namely that random chance explains the observed differences between the mean. The Alternate Hypothesis, is the \"counterpoint\" the Null Hypothesis, namely that the differences are **not** the result of random chance, and there exists a true age gap. It is by rejecting the null-hypothesis that we can accept that age difference are not random. In this sense we never prove Alternative Hypothesis directly, but assume it is true because the Null Hypothesis is clearly inconsistent with the data.\n",
    "\n",
    "To repeat: The procedure we will following is trying \"prove\" that the Alternative Hypothesis is True by rejecting the Null Hypothesis. "
   ]
  },
  {
   "cell_type": "markdown",
   "metadata": {},
   "source": [
    "## Bootstrap: Distribution of a Sample Statistic"
   ]
  },
  {
   "cell_type": "markdown",
   "metadata": {},
   "source": [
    "The statistic we computed give us an idea of the of expected age for residents in different registration districts. This is based on partial data, a subsection of Londoners at a particular point in time. This one statistic is, however, a weak emperical basis, and instead it is often useful to obtain a distribution of possible values, i.e. which means are consistent with the data, and which are unlikely to occur. Our estimate of the mean may contain error, and we'd like to compute. In other words we'd like to understand the distribution of the sample statistic. \n",
    "\n",
    "However we can not draw more subsamples from the sample we have. This technique is called bootstrapping: we randomly selected a set of obervations from our data, compute the mean, and put the observations back (with replacement). If we repeat this procedure for, let's say, 1000 times, we get an idea of which means are likely to emerge from our data, and which one are not.\n",
    "\n",
    "\n",
    "In code it is very easy to implement this procedure. In the for loop, we randomly sample 100 observations, compute the mean, and store this statistic in `mean_sampled`. We repeat this procedure 100 times. \n"
   ]
  },
  {
   "cell_type": "code",
   "execution_count": 99,
   "metadata": {},
   "outputs": [
    {
     "data": {
      "text/plain": [
       "<matplotlib.axes._subplots.AxesSubplot at 0x137d49090>"
      ]
     },
     "execution_count": 99,
     "metadata": {},
     "output_type": "execute_result"
    },
    {
     "data": {
      "image/png": "[encoded data removed]",
      "text/plain": [
       "<Figure size 432x288 with 1 Axes>"
      ]
     },
     "metadata": {},
     "output_type": "display_data"
    }
   ],
   "source": [
    "mean_sampled = []\n",
    "for _ in range(100): # repeat code in block below 100 times\n",
    "    sample = df_wh_M['Age'].sample(100) # randomly sample 100 observations\n",
    "    mean_sampled.append(sample.mean()) # append mean of subsample\n",
    "pd.Series(mean_sampled).plot(kind='density') # plot the sampling distribution a statistic\n",
    "df_wh_M['Age'].plot(kind='density') # plot the original data distribution"
   ]
  },
  {
   "cell_type": "markdown",
   "metadata": {},
   "source": [
    "In this figure we plot the sampling distribution of the statistic (blue) and the distribution original sample (orange). Notice how different these distributions look: the distribution of the sampling is narrower and centered around mean of the distribution (of the sampling statistic). The phenomenom is often referred to as the central limit theorem: the distribution of the sampling statistic (the mean) will converge to a normal distribution. \"The mean drawn from multiple sample will resemble a 'normal distribution' which is a bell shaped function, with most of the values within two standard deviations from the mean. Again, here we are not really obtaining new sample, but bootstrapping means by subsampling the data we have. However, the result are largely identitical and this provides a data-driven method for computing the distribution of sampling statistics.\n",
    "\n",
    "In this lecture, which is practical and not theoretical, we will skip the formal proof and just simulate what happens. In the figure belowe we increase the number of iteration and the size of subsample and plot the mean and standard deviations. You notice that values (means for male in westminster) two standard deviations from the mean are unlikely to occur. The mean age, based on our bootstrap, is likely to fall between 25.21 and 27.25"
   ]
  },
  {
   "cell_type": "code",
   "execution_count": 119,
   "metadata": {},
   "outputs": [
    {
     "data": {
      "text/plain": [
       "<matplotlib.lines.Line2D at 0x1384d3850>"
      ]
     },
     "execution_count": 119,
     "metadata": {},
     "output_type": "execute_result"
    },
    {
     "data": {
      "image/png": "[encoded data removed]",
      "text/plain": [
       "<Figure size 432x288 with 1 Axes>"
      ]
     },
     "metadata": {},
     "output_type": "display_data"
    }
   ],
   "source": [
    "mean_sampled = []\n",
    "for _ in range(1000): # repeat code in block below 100 times\n",
    "    sample = df_wh_M['Age'].sample(1000) # randomly sample 100 observations\n",
    "    mean_sampled.append(sample.mean()) # append mean of subsample\n",
    "ax = pd.Series(mean_sampled).plot(kind='density') # plot the sampling distribution a statistic\n",
    "ax.axvline(x = pd.Series(mean_sampled).mean(), color='black', lw=2) # plot mean of distribution of the sampling statistic\n",
    "ax.axvline(x = pd.Series(mean_sampled).mean() + pd.Series(mean_sampled).std(), color='blue', lw=1) # plot one standard deviation from the mean\n",
    "ax.axvline(x = pd.Series(mean_sampled).mean() - pd.Series(mean_sampled).std(), color='blue', lw=1) # plot one standard deviation from the mean\n",
    "ax.axvline(x = pd.Series(mean_sampled).mean() + (2*pd.Series(mean_sampled).std()), color='red', lw=1) # plot two standard deviations from the mean\n",
    "ax.axvline(x = pd.Series(mean_sampled).mean() - (2*pd.Series(mean_sampled).std()), color='red', lw=1) # plot tow standard deviation from the mean"
   ]
  },
  {
   "cell_type": "markdown",
   "metadata": {},
   "source": [
    "This approach gives us a more accurate way of establishing the significance of the differences: assuming there is no difference betweem men and women with respect to their age,  what's the probability of observing the mean age for women in the distribition of the sampling mean computed for men? You'll notice that even though the actual distribution of age by sex looks fairly similar, when we computing the distribution of the sampling mean, the difference become strikingly apparent, there is hardly any overlap between the two bell shaped curves, and more importantly the sampling mean for women is more than two standard deviations from the sampling mean of men.\n",
    "\n",
    "In this sense, the difference seem significant (even though they remain fairly small)."
   ]
  },
  {
   "cell_type": "code",
   "execution_count": 126,
   "metadata": {},
   "outputs": [
    {
     "data": {
      "text/plain": [
       "<matplotlib.axes._subplots.AxesSubplot at 0x132c7ab10>"
      ]
     },
     "execution_count": 126,
     "metadata": {},
     "output_type": "execute_result"
    },
    {
     "data": {
      "image/png": "[encoded data removed]",
      "text/plain": [
       "<Figure size 432x288 with 1 Axes>"
      ]
     },
     "metadata": {},
     "output_type": "display_data"
    }
   ],
   "source": [
    "df_wh_F.Age.plot(kind='density')\n",
    "df_wh_M.Age.plot(kind='density')"
   ]
  },
  {
   "cell_type": "code",
   "execution_count": 127,
   "metadata": {},
   "outputs": [
    {
     "data": {
      "text/plain": [
       "<matplotlib.lines.Line2D at 0x132b5c790>"
      ]
     },
     "execution_count": 127,
     "metadata": {},
     "output_type": "execute_result"
    },
    {
     "data": {
      "image/png": "[encoded data removed]",
      "text/plain": [
       "<Figure size 432x288 with 1 Axes>"
      ]
     },
     "metadata": {},
     "output_type": "display_data"
    }
   ],
   "source": [
    "mean_sampled_m = []\n",
    "mean_sampled_f = []\n",
    "for _ in range(1000): # repeat code in block below 100 times\n",
    "    mean_sampled_m.append(df_wh_M['Age'].sample(1000).mean())\n",
    "    mean_sampled_f.append(df_wh_F['Age'].sample(1000).mean()) \n",
    "ax = pd.Series(mean_sampled_m).plot(kind='density') \n",
    "pd.Series(mean_sampled_f).plot(kind='density') \n",
    "ax.axvline(x = pd.Series(mean_sampled_m).mean(), color='blue', lw=2)\n",
    "ax.axvline(x = pd.Series(mean_sampled_f).mean(), color='orange', lw=2)"
   ]
  },
  {
   "cell_type": "code",
   "execution_count": 146,
   "metadata": {},
   "outputs": [
    {
     "data": {
      "text/plain": [
       "1000"
      ]
     },
     "execution_count": 146,
     "metadata": {},
     "output_type": "execute_result"
    }
   ],
   "source": [
    "len([i for i in mean_sampled_m if i >= pd.Series(mean_sampled_f).mean()]) "
   ]
  },
  {
   "cell_type": "markdown",
   "metadata": {},
   "source": [
    "Another way to approach significance, is the idea that differences between men and women are unlikely to be zero, which is tested using the code below."
   ]
  },
  {
   "cell_type": "code",
   "execution_count": 153,
   "metadata": {},
   "outputs": [
    {
     "data": {
      "text/plain": [
       "((8655, 4), (9357, 4))"
      ]
     },
     "execution_count": 153,
     "metadata": {},
     "output_type": "execute_result"
    }
   ],
   "source": [
    "df_wh_F.shape,df_wh_M.shape"
   ]
  },
  {
   "cell_type": "code",
   "execution_count": 167,
   "metadata": {},
   "outputs": [
    {
     "data": {
      "text/plain": [
       "<matplotlib.lines.Line2D at 0x133aaa150>"
      ]
     },
     "execution_count": 167,
     "metadata": {},
     "output_type": "execute_result"
    },
    {
     "data": {
      "image/png": "[encoded data removed]",
      "text/plain": [
       "<Figure size 432x288 with 1 Axes>"
      ]
     },
     "metadata": {},
     "output_type": "display_data"
    }
   ],
   "source": [
    "mean_sampled_diff = []\n",
    "\n",
    "for _ in range(1000): # repeat code in block below 100 times\n",
    "    mean_sampled_diff.append(df_wh_F['Age'].sample(1000).mean() - df_wh_M['Age'].sample(1000).mean())\n",
    "    \n",
    "ax = pd.Series(mean_sampled_diff).plot(kind='density') \n",
    "ax.axvline(x = 0, color='blue', lw=2)\n"
   ]
  },
  {
   "cell_type": "markdown",
   "metadata": {},
   "source": [
    "Using quantiles, we conmpute the 95% confidence intervals using the distribution of the sampling statistic. This tells us that in 95% of the cases mean difference between men and women will be -3.017025 and -0.179900, and therefore is unlikely to include zero. The probability that there is no difference is therefore smaller than 0.05 (the traditional threshold for rejecting the null-hypothesis in favour of the alternative hypothesis."
   ]
  },
  {
   "cell_type": "code",
   "execution_count": 174,
   "metadata": {},
   "outputs": [
    {
     "data": {
      "text/plain": [
       "0.025   -2.929675\n",
       "0.975   -0.174625\n",
       "dtype: float64"
      ]
     },
     "execution_count": 174,
     "metadata": {},
     "output_type": "execute_result"
    }
   ],
   "source": [
    "pd.Series(mean_sampled_diff).quantile([0.025,0.975])"
   ]
  },
  {
   "cell_type": "markdown",
   "metadata": {},
   "source": [
    "## Permutation"
   ]
  },
  {
   "cell_type": "markdown",
   "metadata": {},
   "source": [
    "Another approach to establish significance in more data-driven way (without relying on abstract proof or statistical theory) is the permutation test. The bootstrap treats the actual sample as the population and from which it draws examples to compute statistics that could have occurred. Instead of using just one estimate, we created a distribution of sample statistics (each based on a subsection of our data). \n",
    "\n",
    "The permutation follows a slightly different procedure, but also involves resampling from our data. Let's establish wether the age differences we observe between men and women living in Whitechapel are statistically significant. \n",
    "\n",
    "1: we note the number of observations we have for each of our categories of interest (i.e. the number of women and men present in the data frame). Let call these two groups `M` and `F` for convenience. \n",
    "\n",
    "2: we combine the results into one data frame, which embodies the null-hypothesis that, when it comes to age, mean and women can be treated as the same belonging to the same group.\n",
    "\n",
    "3: we shuffle the combined dataset (which mean randomizing the order of the rows) and take a sample that has the same number of observations as `F` (notice that this will contain data from both `M` and `F`.\n",
    "\n",
    "4: we take second is sample (i.e, what what's left over after taken our the number of observations of `len(F)`\n",
    "\n",
    "5: now, we compute the mean for each sample and take difference, and record this number\n",
    "\n",
    "6: repeast step 2 till 5 a number times, let's say 1000, which will generate a distribution of permutation statistics."
   ]
  },
  {
   "cell_type": "markdown",
   "metadata": {},
   "source": [
    "Let's implement this procedure in code. First we create three data frames, in this case we use another registration district, Poplar. But we recommend to repeat the analysis below for Whitechapel or any other borough."
   ]
  },
  {
   "cell_type": "code",
   "execution_count": 261,
   "metadata": {},
   "outputs": [],
   "source": [
    "regdist = 'Poplar'\n",
    "df_sub_F = df[(df.Sex=='F') & (df.RegDist==regdist)]\n",
    "df_sub_M = df[(df.Sex=='M') & (df.RegDist==regdist)]\n",
    "df_sub_C = df[df.Sex.isin(['F','M']) & (df.RegDist==regdist)] "
   ]
  },
  {
   "cell_type": "code",
   "execution_count": 262,
   "metadata": {},
   "outputs": [
    {
     "data": {
      "text/plain": [
       "((19993, 4), (19376, 4), (39369, 4))"
      ]
     },
     "execution_count": 262,
     "metadata": {},
     "output_type": "execute_result"
    }
   ],
   "source": [
    "df_sub_F.shape,df_sub_M.shape, df_sub_C.shape"
   ]
  },
  {
   "cell_type": "markdown",
   "metadata": {},
   "source": [
    "For Poplar we observe that means between the sexes differ with approximately 0.2 years (women being younger) than men. Is this result of random chance? What is the probability of observing this difference if there existed no difference for this borough?"
   ]
  },
  {
   "cell_type": "code",
   "execution_count": 263,
   "metadata": {},
   "outputs": [
    {
     "data": {
      "text/plain": [
       "(26.38463462211774, 26.603168868703552)"
      ]
     },
     "execution_count": 263,
     "metadata": {},
     "output_type": "execute_result"
    }
   ],
   "source": [
    "df_sub_F['Age'].mean(),df_sub_M['Age'].mean()"
   ]
  },
  {
   "cell_type": "code",
   "execution_count": 264,
   "metadata": {},
   "outputs": [
    {
     "data": {
      "text/plain": [
       "-0.21853424658581133"
      ]
     },
     "execution_count": 264,
     "metadata": {},
     "output_type": "execute_result"
    }
   ],
   "source": [
    "df_sub_F['Age'].mean() - df_sub_M['Age'].mean()"
   ]
  },
  {
   "cell_type": "markdown",
   "metadata": {},
   "source": [
    "To answer this question, we've combined the observations for `F` and `M` in one data frame and ."
   ]
  },
  {
   "cell_type": "code",
   "execution_count": 265,
   "metadata": {},
   "outputs": [],
   "source": [
    "\n",
    "num_F = df_sub_F.shape[0] # the number of observations for women\n",
    "all_idx = set(df_sub_C.index) # get all indices"
   ]
  },
  {
   "cell_type": "code",
   "execution_count": 273,
   "metadata": {},
   "outputs": [
    {
     "data": {
      "application/vnd.jupyter.widget-view+json": {
       "model_id": "c83c7eeee41c4d2aa7044af2471ee93b",
       "version_major": 2,
       "version_minor": 0
      },
      "text/plain": [
       "HBox(children=(FloatProgress(value=0.0, max=5000.0), HTML(value='')))"
      ]
     },
     "metadata": {},
     "output_type": "display_data"
    },
    {
     "name": "stdout",
     "output_type": "stream",
     "text": [
      "\n"
     ]
    }
   ],
   "source": [
    "permutations = [] # initiate empty list to collect permutation statistics\n",
    "\n",
    "for _ in tqdm(range(5000)): # we use tqmd to print the progress, running the permutation test can take a while\n",
    "    f_idx = set(df_sub_C.sample(num_F).index) # take sample of size num_F and get index\n",
    "    m_idx = all_idx - f_idx # get the remaining indices (rows not f_idx)\n",
    "    diff_f_m_perm = df_sub_P.loc[f_idx]['Age'].mean() - df_sub_P.loc[m_idx]['Age'].mean() # diff between permuted statistics\n",
    "    permutations.append(diff_f_m_perm) # append permutation statistic"
   ]
  },
  {
   "cell_type": "markdown",
   "metadata": {},
   "source": [
    "Now we can plot the distribution of the permutation statistics, which indicates that if we don't assume any age differences between men and women in Poplar is likely between -0.6 and 0.6."
   ]
  },
  {
   "cell_type": "code",
   "execution_count": 276,
   "metadata": {},
   "outputs": [
    {
     "data": {
      "text/plain": [
       "<matplotlib.axes._subplots.AxesSubplot at 0x1389f2790>"
      ]
     },
     "execution_count": 276,
     "metadata": {},
     "output_type": "execute_result"
    },
    {
     "data": {
      "image/png": "[encoded data removed]",
      "text/plain": [
       "<Figure size 432x288 with 1 Axes>"
      ]
     },
     "metadata": {},
     "output_type": "display_data"
    }
   ],
   "source": [
    "pd.Series(permutations).plot(kind='hist')"
   ]
  },
  {
   "cell_type": "markdown",
   "metadata": {},
   "source": [
    "The observed difference was -0.2 which is well the range of what we'd expect if the Null-hypothesis were True. In this case we don't have enough evidence to reject the null-hypothesis. "
   ]
  },
  {
   "cell_type": "code",
   "execution_count": 277,
   "metadata": {},
   "outputs": [
    {
     "data": {
      "text/plain": [
       "Text(0, 0.5, 'Frequency')"
      ]
     },
     "execution_count": 277,
     "metadata": {},
     "output_type": "execute_result"
    },
    {
     "data": {
      "image/png": "[encoded data removed]",
      "text/plain": [
       "<Figure size 360x360 with 1 Axes>"
      ]
     },
     "metadata": {},
     "output_type": "display_data"
    }
   ],
   "source": [
    "fig, ax = plt.subplots(figsize=(5, 5))\n",
    "ax.hist(permutations, bins=11, rwidth=0.9)\n",
    "ax.axvline(x = df_sub_F['Age'].mean() - df_sub_M['Age'].mean(), color='black', lw=2)\n",
    "ax.set_xlabel('Mean age differences')\n",
    "ax.set_ylabel('Frequency')"
   ]
  },
  {
   "cell_type": "markdown",
   "metadata": {},
   "source": [
    "In this figure we compare the observed difference with distribution of the permuted differences. The black line shows the difference between the means we computed earlier. You'll notice that this values is well within the set of permuated values. In other words, we don't have enough evidence to reject the null-hypothesis, that the observed difference is product of chance."
   ]
  },
  {
   "cell_type": "code",
   "execution_count": 278,
   "metadata": {},
   "outputs": [
    {
     "data": {
      "text/plain": [
       "0.1246"
      ]
     },
     "execution_count": 278,
     "metadata": {},
     "output_type": "execute_result"
    }
   ],
   "source": [
    "np.mean(np.array(permutations) < (df_sub_F['Age'].mean() - df_sub_M['Age'].mean()))"
   ]
  },
  {
   "cell_type": "markdown",
   "metadata": {},
   "source": [
    "We can not reject the null-hypothesis, because there is quite a high probability, namely 0.13 that we observe a mean difference of -0.2 when we assume there is no difference between men and women in Poplar, and the observed age gap may therefore be a product of chance."
   ]
  },
  {
   "cell_type": "code",
   "execution_count": 280,
   "metadata": {},
   "outputs": [
    {
     "data": {
      "text/plain": [
       "0.1246"
      ]
     },
     "execution_count": 280,
     "metadata": {},
     "output_type": "execute_result"
    }
   ],
   "source": [
    "len([i for i in permutations if i < df_sub_F['Age'].mean() - df_sub_M['Age'].mean()]) / len(permutations)"
   ]
  },
  {
   "cell_type": "markdown",
   "metadata": {},
   "source": [
    "The result of the permuation test is largely similar to the Student's t-test. The p-value in this case is the probability of observed values equal to or lower than the observed difference, assuming there is no difference between men amd womenin the sample (a one-side t-test)"
   ]
  },
  {
   "cell_type": "code",
   "execution_count": 282,
   "metadata": {},
   "outputs": [
    {
     "data": {
      "text/plain": [
       "Ttest_indResult(statistic=-1.151420997318941, pvalue=0.12478303628250077)"
      ]
     },
     "execution_count": 282,
     "metadata": {},
     "output_type": "execute_result"
    }
   ],
   "source": [
    "from scipy.stats import ttest_ind\n",
    "ttest_ind(df_sub_F['Age'],df_sub_M['Age'],alternative='less')"
   ]
  },
  {
   "cell_type": "markdown",
   "metadata": {},
   "source": [
    "You can repeat the permutation for Whitechapel and in this case the age difference should be highly significant."
   ]
  },
  {
   "cell_type": "markdown",
   "metadata": {},
   "source": [
    "## Gender and Disability\n",
    "### an example\n",
    "\n",
    "We can also use permutation to test the relation between categorical variables: in this case we study the relation gender and disability as reported in our census sample."
   ]
  },
  {
   "cell_type": "code",
   "execution_count": 366,
   "metadata": {},
   "outputs": [
    {
     "ename": "AttributeError",
     "evalue": "'int' object has no attribute 'groupby'",
     "output_type": "error",
     "traceback": [
      "\u001b[0;31m---------------------------------------------------------------------------\u001b[0m",
      "\u001b[0;31mAttributeError\u001b[0m                            Traceback (most recent call last)",
      "\u001b[0;32m/var/folders/2_/fcdvqwzs6j75cfr97nggzfn499sjqf/T/ipykernel_1650/1740417843.py\u001b[0m in \u001b[0;36m<module>\u001b[0;34m\u001b[0m\n\u001b[0;32m----> 1\u001b[0;31m \u001b[0mp\u001b[0m \u001b[0;34m=\u001b[0m \u001b[0mdf\u001b[0m\u001b[0;34m.\u001b[0m\u001b[0mgroupby\u001b[0m\u001b[0;34m(\u001b[0m\u001b[0;34m'Sex'\u001b[0m\u001b[0;34m)\u001b[0m\u001b[0;34m[\u001b[0m\u001b[0;34m'Disability'\u001b[0m\u001b[0;34m]\u001b[0m\u001b[0;34m.\u001b[0m\u001b[0magg\u001b[0m\u001b[0;34m(\u001b[0m\u001b[0;34m[\u001b[0m\u001b[0mnp\u001b[0m\u001b[0;34m.\u001b[0m\u001b[0msum\u001b[0m\u001b[0;34m,\u001b[0m \u001b[0mlen\u001b[0m\u001b[0;34m]\u001b[0m\u001b[0;34m)\u001b[0m\u001b[0;34m\u001b[0m\u001b[0;34m\u001b[0m\u001b[0m\n\u001b[0m",
      "\u001b[0;31mAttributeError\u001b[0m: 'int' object has no attribute 'groupby'"
     ]
    }
   ],
   "source": [
    "p = df.groupby('Sex')['Disability'].agg([np.sum, len])"
   ]
  },
  {
   "cell_type": "code",
   "execution_count": null,
   "metadata": {},
   "outputs": [],
   "source": [
    "p['no_disability']  = p['len'] - p['sum']"
   ]
  },
  {
   "cell_type": "code",
   "execution_count": null,
   "metadata": {},
   "outputs": [],
   "source": [
    "p.rename({'sum':'disability','len':'all'},axis=1,inplace=True)"
   ]
  },
  {
   "cell_type": "code",
   "execution_count": null,
   "metadata": {},
   "outputs": [],
   "source": [
    "p_t = p.T\n",
    "p_t"
   ]
  },
  {
   "cell_type": "code",
   "execution_count": null,
   "metadata": {},
   "outputs": [],
   "source": [
    "p_t.loc[['disability','no_disability'],['F','M']]"
   ]
  },
  {
   "cell_type": "code",
   "execution_count": null,
   "metadata": {},
   "outputs": [],
   "source": [
    "import random\n",
    "def perm_fun(x, nA, nB):\n",
    "    n = nA + nB\n",
    "    idx_B = set(random.sample(range(n), nB))\n",
    "    idx_A = set(range(n)) - idx_B\n",
    "    return x.loc[idx_B].mean() - x.loc[idx_A].mean()"
   ]
  },
  {
   "cell_type": "code",
   "execution_count": 352,
   "metadata": {},
   "outputs": [],
   "source": [
    "obs_f = p_t.loc['disability','F'] / p_t.loc['all','F']\n",
    "obs_m = p_t.loc['disability','M'] / p_t.loc['all','M']"
   ]
  },
  {
   "cell_type": "code",
   "execution_count": 354,
   "metadata": {},
   "outputs": [
    {
     "name": "stdout",
     "output_type": "stream",
     "text": [
      "Observed difference: -0.0426%\n"
     ]
    }
   ],
   "source": [
    "obs_pct_diff = 100 * (obs_f - obs_m)\n",
    "print(f'Observed difference: {obs_pct_diff:.4f}%')"
   ]
  },
  {
   "cell_type": "code",
   "execution_count": 355,
   "metadata": {},
   "outputs": [
    {
     "data": {
      "text/plain": [
       "1060172"
      ]
     },
     "execution_count": 355,
     "metadata": {},
     "output_type": "execute_result"
    }
   ],
   "source": [
    "conv = [0] * (p_t.loc['no_disability','F']+p_t.loc['no_disability','M'])\n",
    "len(conv)"
   ]
  },
  {
   "cell_type": "code",
   "execution_count": 361,
   "metadata": {},
   "outputs": [
    {
     "data": {
      "text/plain": [
       "0          0\n",
       "1          0\n",
       "2          0\n",
       "3          0\n",
       "4          0\n",
       "          ..\n",
       "1073916    1\n",
       "1073917    1\n",
       "1073918    1\n",
       "1073919    1\n",
       "1073920    1\n",
       "Length: 1073921, dtype: int64"
      ]
     },
     "execution_count": 361,
     "metadata": {},
     "output_type": "execute_result"
    }
   ],
   "source": [
    "conv.extend([1] * (p_t.loc['disability','F']+p_t.loc['disability','M']))\n",
    "conv_series = pd.Series(conv)\n",
    "conv_series"
   ]
  },
  {
   "cell_type": "code",
   "execution_count": null,
   "metadata": {},
   "outputs": [
    {
     "data": {
      "application/vnd.jupyter.widget-view+json": {
       "model_id": "4fa5292307db4e9eada5adbe30d2ef3e",
       "version_major": 2,
       "version_minor": 0
      },
      "text/plain": [
       "HBox(children=(FloatProgress(value=0.0, max=1000.0), HTML(value='')))"
      ]
     },
     "metadata": {},
     "output_type": "display_data"
    }
   ],
   "source": [
    "perm_diffs = [100 * perm_fun(conv_series,  p_t.loc['all','F'],  p_t.loc['all','M']) for _ in tqdm(range(1000))]"
   ]
  },
  {
   "cell_type": "code",
   "execution_count": 364,
   "metadata": {},
   "outputs": [
    {
     "data": {
      "text/plain": [
       "Text(0, 0.5, 'Frequency')"
      ]
     },
     "execution_count": 364,
     "metadata": {},
     "output_type": "execute_result"
    },
    {
     "data": {
      "image/png": "[encoded data removed]",
      "text/plain": [
       "<Figure size 360x360 with 1 Axes>"
      ]
     },
     "metadata": {},
     "output_type": "display_data"
    }
   ],
   "source": [
    "fig, ax = plt.subplots(figsize=(5, 5))\n",
    "ax.hist(perm_diffs, bins=11, rwidth=0.9)\n",
    "ax.axvline(x=obs_pct_diff, color='black', lw=2)\n",
    "ax.set_ylabel('Frequency')"
   ]
  },
  {
   "cell_type": "code",
   "execution_count": 367,
   "metadata": {
    "scrolled": true
   },
   "outputs": [
    {
     "name": "stdout",
     "output_type": "stream",
     "text": [
      "p-value : 0.00087221\n"
     ]
    },
    {
     "data": {
      "text/plain": [
       "11.080911369410547"
      ]
     },
     "execution_count": 367,
     "metadata": {},
     "output_type": "execute_result"
    }
   ],
   "source": [
    "from scipy import stats\n",
    "survivors = np.array([[p_t.loc['disability','F'], p_t.loc['no_disability','F']], \n",
    "                      [p_t.loc['disability','M'], p_t.loc['no_disability','M']]])\n",
    "chi2, p_value, df, _ = stats.chi2_contingency(survivors)\n",
    "print(f'p-value : {p_value*2 / 2:.8f}')\n",
    "chi2"
   ]
  },
  {
   "cell_type": "markdown",
   "metadata": {},
   "source": [
    "# Fin."
   ]
  }
 ],
 "metadata": {
  "kernelspec": {
   "display_name": "Python 3 (ipykernel)",
   "language": "python",
   "name": "python3"
  },
  "language_info": {
   "codemirror_mode": {
    "name": "ipython",
    "version": 3
   },
   "file_extension": ".py",
   "mimetype": "text/x-python",
   "name": "python",
   "nbconvert_exporter": "python",
   "pygments_lexer": "ipython3",
   "version": "3.7.4"
  }
 },
 "nbformat": 4,
 "nbformat_minor": 2
}
