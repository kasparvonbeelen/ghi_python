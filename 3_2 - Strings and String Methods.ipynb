{
 "cells": [
  {
   "cell_type": "markdown",
   "metadata": {},
   "source": [
    "# 3 Reading texts at scale: Strings and string methods"
   ]
  },
  {
   "cell_type": "markdown",
   "metadata": {},
   "source": [
    "## 3.2. String variables and methods\n",
    "\n",
    "Variables can contain (or more correctly) refer to strings. You may have noticed how operations (such as addition) allow you to do simple string manipulation. For example, we can write a simple program that prints a greeting with a name.\n",
    "\n",
    "-- Exercise: change the value of the `first_name` and `last_name` variable, so that the cell below prints a correct greeting."
   ]
  },
  {
   "cell_type": "code",
   "execution_count": 5,
   "metadata": {},
   "outputs": [
    {
     "name": "stdout",
     "output_type": "stream",
     "text": [
      "Hello First_name Last_name\n"
     ]
    }
   ],
   "source": [
    "first_name = 'First_name'\n",
    "last_name = 'Last_name'\n",
    "print(\"Hello\"+' '+first_name+' '+last_name)"
   ]
  },
  {
   "cell_type": "markdown",
   "metadata": {},
   "source": [
    "But Python provides you with with many tools to process strings (and by extension whole documents).\n",
    "\n",
    "Below we first inspect the general syntax and discuss a few simple examples.\n",
    "\n",
    "The intermezzo provides more detailled background information.\n",
    "\n",
    "Let's store part of the opening sentence of Charles Dickens' \"Tale of Two Cities\" in variable with the name `first_sentence`."
   ]
  },
  {
   "cell_type": "code",
   "execution_count": 6,
   "metadata": {},
   "outputs": [],
   "source": [
    "first_sentence = \"It was the best of times, it was the worst of times.\""
   ]
  },
  {
   "cell_type": "markdown",
   "metadata": {},
   "source": [
    "-- Exercise: print the content of `first_sentence`."
   ]
  },
  {
   "cell_type": "code",
   "execution_count": null,
   "metadata": {},
   "outputs": [],
   "source": []
  },
  {
   "cell_type": "markdown",
   "metadata": {},
   "source": [
    "\n",
    "Strings and numbers can be thought of as **objects**, \"things you can do stuff with\". In Python language each object has a set of **methods/functions** attached to it. If objects can be thought of as **nouns**, then methods/functions serve as **verbs**, they are the tools that operate on (do something with) these objects. \n",
    "\n",
    "In general the methods (or functions) appear in these forms:\n",
    "- `function(object,argument)`\n",
    "- `object.method(arguments)`\n",
    "    \n",
    "In the example below, we applied the `len()` function to measure the number of characters in a string; the `.lower()` methods lowercases all characters. \n",
    "\n",
    "Both are called **fruitful** functions, as they return something (i.e. a number and a string respectively)\n",
    "\n",
    "Below we apply a method to the string directly."
   ]
  },
  {
   "cell_type": "code",
   "execution_count": null,
   "metadata": {},
   "outputs": [],
   "source": [
    "print('HELLO'.lower())\n",
    "print(len('HELLO'))"
   ]
  },
  {
   "cell_type": "code",
   "execution_count": null,
   "metadata": {},
   "outputs": [],
   "source": [
    "For sure the methods can also be applied to variables:"
   ]
  },
  {
   "cell_type": "code",
   "execution_count": 7,
   "metadata": {},
   "outputs": [
    {
     "name": "stdout",
     "output_type": "stream",
     "text": [
      "it was the best of times, it was the worst of times.\n",
      "52\n"
     ]
    }
   ],
   "source": [
    "print(first_sentence.lower())\n",
    "print(len(first_sentence))"
   ]
  },
  {
   "cell_type": "markdown",
   "metadata": {},
   "source": [
    "### *str.lowercase()*"
   ]
  },
  {
   "cell_type": "markdown",
   "metadata": {},
   "source": [
    "Lowercasing is often useful for normalizing texts, i.e. removing distinctions between words we don't really care about when processing collections at scale, we discuss a few more methods later, but converting all capitals to lowercase is fairly normal, but of course depends on the purposes of your research. For example, if you are interested in Named Entities (such as place names, you may better retain capitals).\n",
    "\n",
    "However, the most important thing at this point, is that you understand the syntax of the statement and what it returns."
   ]
  },
  {
   "cell_type": "code",
   "execution_count": null,
   "metadata": {},
   "outputs": [],
   "source": [
    "# something more here"
   ]
  },
  {
   "cell_type": "markdown",
   "metadata": {},
   "source": [
    "### *str.endswith()*"
   ]
  },
  {
   "cell_type": "code",
   "execution_count": null,
   "metadata": {},
   "outputs": [],
   "source": []
  },
  {
   "cell_type": "markdown",
   "metadata": {},
   "source": [
    "### dir()"
   ]
  },
  {
   "cell_type": "code",
   "execution_count": 11,
   "metadata": {},
   "outputs": [
    {
     "data": {
      "text/plain": [
       "['__add__',\n",
       " '__class__',\n",
       " '__contains__',\n",
       " '__delattr__',\n",
       " '__dir__',\n",
       " '__doc__',\n",
       " '__eq__',\n",
       " '__format__',\n",
       " '__ge__',\n",
       " '__getattribute__',\n",
       " '__getitem__',\n",
       " '__getnewargs__',\n",
       " '__gt__',\n",
       " '__hash__',\n",
       " '__init__',\n",
       " '__init_subclass__',\n",
       " '__iter__',\n",
       " '__le__',\n",
       " '__len__',\n",
       " '__lt__',\n",
       " '__mod__',\n",
       " '__mul__',\n",
       " '__ne__',\n",
       " '__new__',\n",
       " '__reduce__',\n",
       " '__reduce_ex__',\n",
       " '__repr__',\n",
       " '__rmod__',\n",
       " '__rmul__',\n",
       " '__setattr__',\n",
       " '__sizeof__',\n",
       " '__str__',\n",
       " '__subclasshook__',\n",
       " 'capitalize',\n",
       " 'casefold',\n",
       " 'center',\n",
       " 'count',\n",
       " 'encode',\n",
       " 'endswith',\n",
       " 'expandtabs',\n",
       " 'find',\n",
       " 'format',\n",
       " 'format_map',\n",
       " 'index',\n",
       " 'isalnum',\n",
       " 'isalpha',\n",
       " 'isascii',\n",
       " 'isdecimal',\n",
       " 'isdigit',\n",
       " 'isidentifier',\n",
       " 'islower',\n",
       " 'isnumeric',\n",
       " 'isprintable',\n",
       " 'isspace',\n",
       " 'istitle',\n",
       " 'isupper',\n",
       " 'join',\n",
       " 'ljust',\n",
       " 'lower',\n",
       " 'lstrip',\n",
       " 'maketrans',\n",
       " 'partition',\n",
       " 'replace',\n",
       " 'rfind',\n",
       " 'rindex',\n",
       " 'rjust',\n",
       " 'rpartition',\n",
       " 'rsplit',\n",
       " 'rstrip',\n",
       " 'split',\n",
       " 'splitlines',\n",
       " 'startswith',\n",
       " 'strip',\n",
       " 'swapcase',\n",
       " 'title',\n",
       " 'translate',\n",
       " 'upper',\n",
       " 'zfill']"
      ]
     },
     "execution_count": 11,
     "metadata": {},
     "output_type": "execute_result"
    }
   ],
   "source": [
    "dir(str)"
   ]
  },
  {
   "cell_type": "markdown",
   "metadata": {},
   "source": [
    "## `Intermezzo`\n",
    "- other string operations\n",
    "- sting indexing"
   ]
  },
  {
   "cell_type": "markdown",
   "metadata": {},
   "source": [
    "## 3.3 Reading and opening text documents.\n",
    "\n",
    "But let's now transition to working with more realistic, historical examples, first on a small scale, but soon we'll processing thousands of newspaper articles by the end of the chapter."
   ]
  },
  {
   "cell_type": "markdown",
   "metadata": {},
   "source": [
    "To open a file in Python, you have give a location or `path`, i.e. indicate where it is stored on your computer. The `Intermezzo` below will point you to more information about understanding the syntax of path names, but for now a simple example of what is called a **relative** path, relative to point where you are running this path notebook.\n",
    "\n",
    "The see the files in this folder run the `ls` or list command in the cell below."
   ]
  },
  {
   "cell_type": "code",
   "execution_count": 12,
   "metadata": {},
   "outputs": [
    {
     "name": "stdout",
     "output_type": "stream",
     "text": [
      "1 - Introduction.ipynb                 LICENSE\r\n",
      "2 - First Steps.ipynb                  README.md\r\n",
      "3_1 - Reading texts Introduction.ipynb \u001b[34mdata\u001b[m\u001b[m\r\n",
      "3_2 - Strings and String Methods.ipynb \u001b[34mexample_data\u001b[m\u001b[m\r\n"
     ]
    }
   ],
   "source": [
    "!ls"
   ]
  },
  {
   "cell_type": "markdown",
   "metadata": {},
   "source": [
    "You see the folder `example_data` appearing. Now we can list the subfolders or files in `example_data` again using `ls`."
   ]
  },
  {
   "cell_type": "code",
   "execution_count": 14,
   "metadata": {},
   "outputs": [
    {
     "name": "stdout",
     "output_type": "stream",
     "text": [
      "\u001b[34mnotebook_3\u001b[m\u001b[m\r\n"
     ]
    }
   ],
   "source": [
    "!ls example_data/"
   ]
  },
  {
   "cell_type": "markdown",
   "metadata": {},
   "source": [
    "You see that this series of notebooks has specific folder called `notebook_3` which you can again insepct, but don't forget to add `example_data`."
   ]
  },
  {
   "cell_type": "code",
   "execution_count": 15,
   "metadata": {},
   "outputs": [
    {
     "name": "stdout",
     "output_type": "stream",
     "text": [
      "shakespeare_sonnet_i.txt\r\n"
     ]
    }
   ],
   "source": [
    "!ls example_data/notebook_3/"
   ]
  },
  {
   "cell_type": "markdown",
   "metadata": {},
   "source": [
    "Now you can see the file we were searching for! So the relative path is `example_data/notebook_3/shakespeare_sonnet_i.txt`. Python requires you to define the path as a string (i.e. enclosed by single or double quotation marks).\n",
    "\n",
    "This is the first part of the puzzle. Next, we need some Python tools to open a file and read its content. It may come across a confusing at first but these are seperate steps in Python. \n",
    "\n",
    "Let's use the `open()` function to open the sonnet. As you notice, this doesn't return the actual text, but a `_io.TextIOWrapper` object (you can ignore that safely for now, just notice you "
   ]
  },
  {
   "cell_type": "code",
   "execution_count": 16,
   "metadata": {},
   "outputs": [
    {
     "data": {
      "text/plain": [
       "<_io.TextIOWrapper name='example_data/notebook_3/shakespeare_sonnet_i.txt' mode='r' encoding='UTF-8'>"
      ]
     },
     "execution_count": 16,
     "metadata": {},
     "output_type": "execute_result"
    }
   ],
   "source": [
    "\n",
    "path = \"example_data/notebook_3/shakespeare_sonnet_i.txt\"\n",
    "sonnet = open(path)\n",
    "sonnet"
   ]
  },
  {
   "cell_type": "code",
   "execution_count": null,
   "metadata": {},
   "outputs": [],
   "source": [
    "We need to apply the `read()` method to `_io.TextIOWrapper` object to inspect the content of the file."
   ]
  },
  {
   "cell_type": "code",
   "execution_count": 17,
   "metadata": {},
   "outputs": [
    {
     "data": {
      "text/plain": [
       "\"From fairest creatures we desire increase,\\nThat thereby beauty's rose might never die,\\nBut as the riper should by time decease,\\nHis tender heir might bear his memory:\\nBut thou, contracted to thine own bright eyes,\\nFeed'st thy light's flame with self-substantial fuel,\\nMaking a famine where abundance lies,\\nThyself thy foe, to thy sweet self too cruel:\\nThou that art now the world's fresh ornament,\\nAnd only herald to the gaudy spring,\\nWithin thine own bud buriest thy content,\\nAnd tender churl mak'st waste in niggarding:\\nPity the world, or else this glutton be,\\nTo eat the world's due, by the grave and thee.\""
      ]
     },
     "execution_count": 17,
     "metadata": {},
     "output_type": "execute_result"
    }
   ],
   "source": [
    "sonnet = open(path).read()\n",
    "sonnet"
   ]
  },
  {
   "cell_type": "markdown",
   "metadata": {},
   "source": [
    "Please note the special characters such as `\\n` marking a new line, which will become apparent"
   ]
  },
  {
   "cell_type": "code",
   "execution_count": 18,
   "metadata": {},
   "outputs": [
    {
     "name": "stdout",
     "output_type": "stream",
     "text": [
      "From fairest creatures we desire increase,\n",
      "That thereby beauty's rose might never die,\n",
      "But as the riper should by time decease,\n",
      "His tender heir might bear his memory:\n",
      "But thou, contracted to thine own bright eyes,\n",
      "Feed'st thy light's flame with self-substantial fuel,\n",
      "Making a famine where abundance lies,\n",
      "Thyself thy foe, to thy sweet self too cruel:\n",
      "Thou that art now the world's fresh ornament,\n",
      "And only herald to the gaudy spring,\n",
      "Within thine own bud buriest thy content,\n",
      "And tender churl mak'st waste in niggarding:\n",
      "Pity the world, or else this glutton be,\n",
      "To eat the world's due, by the grave and thee.\n"
     ]
    }
   ],
   "source": [
    "print(sonnet)"
   ]
  },
  {
   "cell_type": "code",
   "execution_count": 20,
   "metadata": {},
   "outputs": [
    {
     "data": {
      "text/plain": [
       "609"
      ]
     },
     "execution_count": 20,
     "metadata": {},
     "output_type": "execute_result"
    }
   ],
   "source": [
    "len(sonnet)"
   ]
  },
  {
   "cell_type": "code",
   "execution_count": 23,
   "metadata": {},
   "outputs": [
    {
     "data": {
      "text/plain": [
       "\"from fairest creatures we desire increase,\\nthat thereby beauty's rose might never die,\\nbut as the riper should by time decease,\\nhis tender heir might bear his memory:\\nbut thou, contracted to thine own bright eyes,\\nfeed'st thy light's flame with self-substantial fuel,\\nmaking a famine where abundance lies,\\nthyself thy foe, to thy sweet self too cruel:\\nthou that art now the world's fresh ornament,\\nand only herald to the gaudy spring,\\nwithin thine own bud buriest thy content,\\nand tender churl mak'st waste in niggarding:\\npity the world, or else this glutton be,\\nto eat the world's due, by the grave and thee.\""
      ]
     },
     "execution_count": 23,
     "metadata": {},
     "output_type": "execute_result"
    }
   ],
   "source": [
    "sonnet.lower()"
   ]
  },
  {
   "cell_type": "code",
   "execution_count": 21,
   "metadata": {},
   "outputs": [
    {
     "data": {
      "text/plain": [
       "98"
      ]
     },
     "execution_count": 21,
     "metadata": {},
     "output_type": "execute_result"
    }
   ],
   "source": [
    "sonnet.find('riper')"
   ]
  },
  {
   "cell_type": "code",
   "execution_count": 22,
   "metadata": {},
   "outputs": [
    {
     "data": {
      "text/plain": [
       "\"riper should by time decease,\\nHis tender heir might bear his memory:\\nBut thou, contracted to thine own bright eyes,\\nFeed'st thy light's flame with self-substantial fuel,\\nMaking a famine where abundance lies,\\nThyself thy foe, to thy sweet self too cruel:\\nThou that art now the world's fresh ornament,\\nAnd only herald to the gaudy spring,\\nWithin thine own bud buriest thy content,\\nAnd tender churl mak'st waste in niggarding:\\nPity the world, or else this glutton be,\\nTo eat the world's due, by the grave and thee.\""
      ]
     },
     "execution_count": 22,
     "metadata": {},
     "output_type": "execute_result"
    }
   ],
   "source": [
    "sonnet[98:]"
   ]
  },
  {
   "cell_type": "markdown",
   "metadata": {},
   "source": [
    "\n",
    "## `Intermezzo`\n",
    "- reading files\n",
    "- writing files\n",
    "- special characters\n",
    "- paths and filenames\n",
    "- what files to read\n",
    "\n",
    "## `Intermezzo++`\n",
    "- encoding\n",
    "- common errors"
   ]
  },
  {
   "cell_type": "markdown",
   "metadata": {},
   "source": [
    "## 3.3 Processing text"
   ]
  },
  {
   "cell_type": "code",
   "execution_count": null,
   "metadata": {},
   "outputs": [],
   "source": [
    "At this point"
   ]
  },
  {
   "cell_type": "code",
   "execution_count": 19,
   "metadata": {},
   "outputs": [
    {
     "ename": "SyntaxError",
     "evalue": "invalid syntax (<ipython-input-19-0d2ff988d5df>, line 3)",
     "output_type": "error",
     "traceback": [
      "\u001b[0;36m  File \u001b[0;32m\"<ipython-input-19-0d2ff988d5df>\"\u001b[0;36m, line \u001b[0;32m3\u001b[0m\n\u001b[0;31m    - reading files\u001b[0m\n\u001b[0m                  ^\u001b[0m\n\u001b[0;31mSyntaxError\u001b[0m\u001b[0;31m:\u001b[0m invalid syntax\n"
     ]
    }
   ],
   "source": []
  },
  {
   "cell_type": "code",
   "execution_count": null,
   "metadata": {},
   "outputs": [],
   "source": []
  }
 ],
 "metadata": {
  "kernelspec": {
   "display_name": "Python 3",
   "language": "python",
   "name": "python3"
  },
  "language_info": {
   "codemirror_mode": {
    "name": "ipython",
    "version": 3
   },
   "file_extension": ".py",
   "mimetype": "text/x-python",
   "name": "python",
   "nbconvert_exporter": "python",
   "pygments_lexer": "ipython3",
   "version": "3.7.4"
  }
 },
 "nbformat": 4,
 "nbformat_minor": 2
}
