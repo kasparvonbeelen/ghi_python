{
 "cells": [
  {
   "cell_type": "markdown",
   "metadata": {},
   "source": [
    "# 3 Reading texts at scale: Strings and string methods"
   ]
  },
  {
   "cell_type": "markdown",
   "metadata": {},
   "source": [
    "## 3.2. String variables and methods\n",
    "\n",
    "Variables can contain (or more correctly) refer to strings. You may have noticed how operations (such as addition) allow you to do simple string manipulation. For example, we can write a simple program that prints a greeting with a name.\n",
    "\n",
    "-- Exercise: change the value of the `first_name` and `last_name` variable, so that the cell below prints a correct greeting."
   ]
  },
  {
   "cell_type": "code",
   "execution_count": 5,
   "metadata": {},
   "outputs": [
    {
     "name": "stdout",
     "output_type": "stream",
     "text": [
      "Hello First_name Last_name\n"
     ]
    }
   ],
   "source": [
    "first_name = 'First_name'\n",
    "last_name = 'Last_name'\n",
    "print(\"Hello\"+' '+first_name+' '+last_name)"
   ]
  },
  {
   "cell_type": "markdown",
   "metadata": {},
   "source": [
    "But Python provides you with with many tools to process strings (and by extension whole documents).\n",
    "\n",
    "Below we first inspect the general syntax and discuss a few simple examples.\n",
    "\n",
    "The intermezzo provides more detailled background information.\n",
    "\n",
    "Let's store part of the opening sentence of Charles Dickens' \"Tale of Two Cities\" in variable with the name `first_sentence`."
   ]
  },
  {
   "cell_type": "code",
   "execution_count": 6,
   "metadata": {},
   "outputs": [],
   "source": [
    "first_sentence = \"It was the best of times, it was the worst of times.\""
   ]
  },
  {
   "cell_type": "markdown",
   "metadata": {},
   "source": [
    "-- Exercise: print the content of `first_sentence`."
   ]
  },
  {
   "cell_type": "code",
   "execution_count": null,
   "metadata": {},
   "outputs": [],
   "source": []
  },
  {
   "cell_type": "markdown",
   "metadata": {},
   "source": [
    "\n",
    "Strings and numbers can be thought of as **objects**, \"things you can do stuff with\". In Python language each object has a set of **methods/functions** attached to it. If objects can be thought of as **nouns**, then methods/functions serve as **verbs**, they are the tools that operate on (do something with) these objects. \n",
    "\n",
    "In general the methods (or functions) appear in these forms:\n",
    "- `function(object,argument)`\n",
    "- `object.method(arguments)`\n",
    "    \n",
    "In the example below, we applied the `len()` function to measure the number of characters in a string; the `.lower()` methods lowercases all characters. \n",
    "\n",
    "Both are called **fruitful** functions, as they return something (i.e. a number and a string respectively)\n",
    "\n",
    "Below we apply a method to the string directly."
   ]
  },
  {
   "cell_type": "code",
   "execution_count": null,
   "metadata": {},
   "outputs": [],
   "source": [
    "print('HELLO'.lower())\n",
    "print(len('HELLO'))"
   ]
  },
  {
   "cell_type": "code",
   "execution_count": null,
   "metadata": {},
   "outputs": [],
   "source": [
    "For sure the methods can also be applied to variables:"
   ]
  },
  {
   "cell_type": "code",
   "execution_count": 7,
   "metadata": {},
   "outputs": [
    {
     "name": "stdout",
     "output_type": "stream",
     "text": [
      "it was the best of times, it was the worst of times.\n",
      "52\n"
     ]
    }
   ],
   "source": [
    "print(first_sentence.lower())\n",
    "print(len(first_sentence))"
   ]
  },
  {
   "cell_type": "markdown",
   "metadata": {},
   "source": [
    "### str.lowercase()"
   ]
  },
  {
   "cell_type": "markdown",
   "metadata": {},
   "source": [
    "Lowercasing is often useful for normalizing texts, i.e. removing distinctions between words we don't really care about when processing collections at scale, we discuss a few more methods later, but converting all capitals to lowercase is fairly normal, but of course depends on the purposes of your research. For example, if you are interested in Named Entities (such as place names, you may better retain capitals).\n",
    "\n",
    "However, the most important thing at this point, is that you understand the syntax of the statement and what it returns."
   ]
  },
  {
   "cell_type": "code",
   "execution_count": null,
   "metadata": {},
   "outputs": [],
   "source": [
    "# something more here"
   ]
  },
  {
   "cell_type": "markdown",
   "metadata": {},
   "source": [
    "### *str.endswith()*"
   ]
  },
  {
   "cell_type": "code",
   "execution_count": null,
   "metadata": {},
   "outputs": [],
   "source": []
  },
  {
   "cell_type": "markdown",
   "metadata": {},
   "source": [
    "## `Intermezzo`\n",
    "- other string operations\n",
    "- sting indexing"
   ]
  },
  {
   "cell_type": "markdown",
   "metadata": {},
   "source": [
    "## 3.3 Reading and opening text documents.\n",
    "\n",
    "Intermezzo\n",
    "- reading files\n",
    "- paths and filenames\n",
    "- what files to read\n",
    "- encoding\n",
    "- common errors"
   ]
  },
  {
   "cell_type": "code",
   "execution_count": null,
   "metadata": {},
   "outputs": [],
   "source": []
  }
 ],
 "metadata": {
  "kernelspec": {
   "display_name": "Python 3",
   "language": "python",
   "name": "python3"
  },
  "language_info": {
   "codemirror_mode": {
    "name": "ipython",
    "version": 3
   },
   "file_extension": ".py",
   "mimetype": "text/x-python",
   "name": "python",
   "nbconvert_exporter": "python",
   "pygments_lexer": "ipython3",
   "version": "3.7.4"
  }
 },
 "nbformat": 4,
 "nbformat_minor": 2
}
