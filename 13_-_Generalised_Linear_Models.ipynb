{
 "cells": [
  {
   "cell_type": "markdown",
   "metadata": {},
   "source": [
    "[![Binder](https://mybinder.org/badge_logo.svg)](https://mybinder.org/v2/gh/kasparvonbeelen/ghi_python/main?labpath=12_-_Generalised_Linear_Models.ipynb)\n",
    "\n",
    "\n",
    "\n",
    "# Lecture 12: Generalised Linear Models\n",
    "\n",
    "## Data Science for Historians (with Python)\n",
    "## A Gentle Introduction to Working with Data in Python\n",
    "\n",
    "### Created by Kaspar Beelen and Luke Blaxill\n",
    "\n",
    "### For the German Historical Institute, London\n",
    "\n",
    "<img align=\"left\" src=\"https://www.ghil.ac.uk/typo3conf/ext/wacon_ghil/Resources/Public/Images/institute_icon_small.png\">\n"
   ]
  },
  {
   "cell_type": "markdown",
   "metadata": {},
   "source": [
    "## Predicting Counts\n",
    "### ** Under Construction (done by 10/03)**\n",
    "\n",
    "Simple linear models are the bread and butter of social sciences. They are emerging as valuable tools in digital history as well. They are the first option when solving a problem with statistical means. But they are not always the most appropriate solution. \n",
    "\n",
    "Why? Well, often we have prior knowledge about the response variable—the phenomenon we want to understand—knowledge that should be reflected in our model (to prevent it from making silly or irrelevant predictions). \n",
    "\n",
    "For example, sometimes the outcomes are discrete counts (1,2, etc) or bounded by a lower or upper limit (for example, when the outcome variable contains probabilities, then each value has to be between zero and one).\n",
    "\n",
    "In the regression examples covered in the previous notebook, any outcome is possible: for example, nothing prevents it from predicting negative age (which is not possible!).   \n",
    "\n",
    "The case study used in this book is based on (and inspired by) on lectures 9 and 10 of [Statistical Rethinking](https://github.com/rmcelreath/stat_rethinking_2022), which discusses GLM from a Bayesian perspective (which we won't cover in this course, we continue with what's called the frequentist approach). However, the outcomes will be similar (in this case). \n",
    "\n",
    "Returning to counts...\n",
    "\n",
    "Standard linear regression techniques are often inadequate when modelling counts (i.e. positive integers ranging from zero, one, two, onwards) or binary responses (X (1), not X (0)).\n",
    "\n",
    "In this tutorial, we first have a closer look at modelling counts that arise from a binary process: more precisely we discuss gender bias in relation to university application. We will focus on the binomial regression to model outcomes that arise from binary trials, such as acceptance or rejections of university applications. \n",
    "\n",
    "One important difference between OLS (discussed in the previous chapter) and GLMs (Generalised Linear Models the topic of this lecture) concerns the interpretation of the model and parameters.\n",
    "\n",
    "When running am OLS, understanding how parameters relate to (or influence) the outcome was rather straightforward. Linear models are easy to understand because one unit change in `x` leads to one unit change in `y`. \n",
    "\n",
    "The same won't be true for the models we investigate below. Understanding and deploying GLM is not as straightforward and requires a bit more care. "
   ]
  },
  {
   "cell_type": "markdown",
   "metadata": {},
   "source": [
    "## Overview\n",
    "\n",
    "This lecture focusses on two different case-studies\n",
    "\n",
    "- modelling gender bias on university application\n",
    "- modelling gender and representation in parliamentary questions (code only example)"
   ]
  },
  {
   "cell_type": "markdown",
   "metadata": {},
   "source": [
    "### The Binomial distribution\n",
    "\n",
    "\n",
    "In this chapter, we focus on modelling (predicting) count outcomes using a binomial distribution.\n",
    "\n",
    "\n",
    "$y ∼ Binomial(N, p)$\n",
    "\n",
    "- $y$ the expected number of positive trials\n",
    "- $N$ the number of trials\n",
    "- $p$ the probability that an individual trial is successful\n",
    "\n",
    "We say that $y$ is binomially distributed or more formally \"the relative counts of ways to realize $y$ in $N$ trials with probability $p$ on each trial comes from the binomial distribution.\" (See McELreath, Statistical Rethinking 2nd Edition p. 36).\n",
    "\n",
    "But let's unpack this sentence, and have a closer look at why the Binomial distribution is so useful for modelling various social phenomena. \n",
    "\n",
    "As said earlier, the Binomial distribution helps us model the outcomes of repeated trials with 0 or 1 as possible outcomes. Imagine for example flipping an unbiased (p=0.5) coin 5 (N) times? What's the number of heads you expect to observe? \n",
    "\n",
    "We can do one experiment. In the code below, we ask this question in Python code."
   ]
  },
  {
   "cell_type": "code",
   "execution_count": 19,
   "metadata": {},
   "outputs": [],
   "source": [
    "from scipy.stats import binom\n",
    "import numpy as np\n",
    "import pandas as pd"
   ]
  },
  {
   "cell_type": "code",
   "execution_count": 20,
   "metadata": {},
   "outputs": [
    {
     "data": {
      "text/plain": [
       "array([2])"
      ]
     },
     "execution_count": 20,
     "metadata": {},
     "output_type": "execute_result"
    }
   ],
   "source": [
    "np.random.seed(seed=1)\n",
    "heads = binom.rvs(n=5, p=.5, size=1)\n",
    "heads"
   ]
  },
  {
   "cell_type": "markdown",
   "metadata": {},
   "source": [
    "This returns 2, i.e. 2 heads over 5 trials. That's possible but of course, with each experiment, this number can change. Let's repeat the experiment 10 times."
   ]
  },
  {
   "cell_type": "code",
   "execution_count": 21,
   "metadata": {},
   "outputs": [
    {
     "data": {
      "text/plain": [
       "array([2, 0, 3, 2, 2, 2, 2, 3, 2, 2])"
      ]
     },
     "execution_count": 21,
     "metadata": {},
     "output_type": "execute_result"
    }
   ],
   "source": [
    "np.random.seed(seed=2)\n",
    "heads = binom.rvs(n=5, p=.5, size=10)\n",
    "heads"
   ]
  },
  {
   "cell_type": "markdown",
   "metadata": {},
   "source": [
    "Each number represents the outcomes of tossing a coin five times. What we are interested in modelling is the relative number of ways each outcome occurs. \n",
    "\n",
    "\n",
    "To establish this, we repeat the experiment 10000 times."
   ]
  },
  {
   "cell_type": "code",
   "execution_count": 22,
   "metadata": {},
   "outputs": [],
   "source": [
    "np.random.seed(seed=2)\n",
    "heads = binom.rvs(n=5, p=.5, size=10000)"
   ]
  },
  {
   "cell_type": "markdown",
   "metadata": {},
   "source": [
    "This gives us the result of 10000 trials."
   ]
  },
  {
   "cell_type": "code",
   "execution_count": 23,
   "metadata": {},
   "outputs": [
    {
     "data": {
      "text/plain": [
       "(array([2, 0, 3, 2, 2, 2, 2, 3, 2, 2]), 10000)"
      ]
     },
     "execution_count": 23,
     "metadata": {},
     "output_type": "execute_result"
    }
   ],
   "source": [
    "heads[:10], len(heads)"
   ]
  },
  {
   "cell_type": "markdown",
   "metadata": {},
   "source": [
    "Now we can plot how likely each outcome will occur, i.e. what's the probability of 2 heads with 5 trials. First, we compute how often each outcome arises..."
   ]
  },
  {
   "cell_type": "code",
   "execution_count": 24,
   "metadata": {},
   "outputs": [
    {
     "data": {
      "text/plain": [
       "array([ 321, 1628, 3183, 2995, 1571,  302])"
      ]
     },
     "execution_count": 24,
     "metadata": {},
     "output_type": "execute_result"
    }
   ],
   "source": [
    "hist = np.histogram(heads,bins=range(0,7))[0]\n",
    "hist "
   ]
  },
  {
   "cell_type": "markdown",
   "metadata": {},
   "source": [
    "And then we compute relative counts, dividing by the total number of trials."
   ]
  },
  {
   "cell_type": "code",
   "execution_count": 25,
   "metadata": {},
   "outputs": [
    {
     "data": {
      "text/plain": [
       "array([0.0321, 0.1628, 0.3183, 0.2995, 0.1571, 0.0302])"
      ]
     },
     "execution_count": 25,
     "metadata": {},
     "output_type": "execute_result"
    }
   ],
   "source": [
    "relative_counts = hist / sum(hist)\n",
    "relative_counts"
   ]
  },
  {
   "cell_type": "code",
   "execution_count": 26,
   "metadata": {},
   "outputs": [
    {
     "data": {
      "text/plain": [
       "<matplotlib.axes._subplots.AxesSubplot at 0x12cc22ad0>"
      ]
     },
     "execution_count": 26,
     "metadata": {},
     "output_type": "execute_result"
    },
    {
     "data": {
      "image/png": "[encoded data removed]",
      "text/plain": [
       "<Figure size 432x288 with 1 Axes>"
      ]
     },
     "metadata": {
      "needs_background": "light"
     },
     "output_type": "display_data"
    }
   ],
   "source": [
    "pd.Series(relative_counts).plot(kind='bar')"
   ]
  },
  {
   "cell_type": "markdown",
   "metadata": {},
   "source": [
    "The outcomes, heads, are counts which are binomially distributed with the same probability in each toss. \n",
    "\n",
    "We can obtain these numbers more easily using the `binom` function. The line below computes the probability of seeing three heads in five trials when flipping an unbiased coin (p=0.5)"
   ]
  },
  {
   "cell_type": "code",
   "execution_count": 31,
   "metadata": {},
   "outputs": [
    {
     "data": {
      "text/plain": [
       "0.3125"
      ]
     },
     "execution_count": 31,
     "metadata": {},
     "output_type": "execute_result"
    }
   ],
   "source": [
    "binom(n=5,p=.5).pmf(3)"
   ]
  },
  {
   "cell_type": "markdown",
   "metadata": {},
   "source": [
    "We can repeat this for each outcome to plot the binomial distribution."
   ]
  },
  {
   "cell_type": "code",
   "execution_count": 32,
   "metadata": {},
   "outputs": [
    {
     "data": {
      "text/plain": [
       "<matplotlib.axes._subplots.AxesSubplot at 0x12f12a450>"
      ]
     },
     "execution_count": 32,
     "metadata": {},
     "output_type": "execute_result"
    },
    {
     "data": {
      "image/png": "[encoded data removed]",
      "text/plain": [
       "<Figure size 432x288 with 1 Axes>"
      ]
     },
     "metadata": {
      "needs_background": "light"
     },
     "output_type": "display_data"
    }
   ],
   "source": [
    "pd.Series(binom(n=5,p=.5).pmf([0,1,2,3,4,5])).plot(kind='bar')"
   ]
  },
  {
   "cell_type": "markdown",
   "metadata": {},
   "source": [
    "## Intepreting coefficients"
   ]
  },
  {
   "cell_type": "markdown",
   "metadata": {},
   "source": [
    "Remember that for OLS regression we simply model $y$ as a linear combination of other intercepts and slope (or an extension thereof). This facilitated the interpretation of the model because the units, and relation between predictor and response variables, were easy to interpret."
   ]
  },
  {
   "cell_type": "markdown",
   "metadata": {},
   "source": [
    "In a binomial regression, this is different. If we assume y arises from repeated trials, we can model how $p$ varies in function of other variables. In other words, model how \"the probability of a success is related to explanatory variables\" ([Wikipedia](https://en.wikipedia.org/wiki/Binomial_regression))."
   ]
  },
  {
   "cell_type": "markdown",
   "metadata": {},
   "source": [
    "$p$ however is a probability and always has to be between 0 and 1 (by definition). We can not model it as a simple linear function, because  a line function does not adhere to these constraints.\n",
    "\n",
    "In other words, we can not say $y = a + b*x$ because $y$ can (and will) easily be negative or bigger than one."
   ]
  },
  {
   "cell_type": "markdown",
   "metadata": {},
   "source": [
    "To relate the probability $p_i$ to a linear function we have to do a small trick. We map the linear function to the logit($p_i$) = log($p$ / 1 - $p$) which can take any value for 0 < p < 1 (if p is close to zero the logit will converge to minus infinity). More about the `logit` function [here](https://en.wikipedia.org/wiki/Logit). The logit, in this scenario, is called the **link function**."
   ]
  },
  {
   "cell_type": "markdown",
   "metadata": {},
   "source": [
    "$y$ ~ Binomial($N$, $p_i$) \n",
    "\n",
    "logit($p_i$) = $a$ + $b$*$x_i$\n",
    "\n",
    "logit($p_i$) = log($p_i$ / (1 - $p_i$)) = $a$ + $b$*$x_i$\n"
   ]
  },
  {
   "cell_type": "markdown",
   "metadata": {},
   "source": [
    "To obtain $p_i$ we need to exponentiate (more detail below)."
   ]
  },
  {
   "cell_type": "markdown",
   "metadata": {},
   "source": [
    "\n",
    "$p_i$ = $exp(a + b*x_i) / 1 + exp(a + b*x_i)$"
   ]
  },
  {
   "cell_type": "markdown",
   "metadata": {},
   "source": [
    "### Gender bias in university admissions?"
   ]
  },
  {
   "cell_type": "code",
   "execution_count": 34,
   "metadata": {},
   "outputs": [
    {
     "name": "stderr",
     "output_type": "stream",
     "text": [
      "/usr/local/lib/python3.7/site-packages/statsmodels/tools/_testing.py:19: FutureWarning: pandas.util.testing is deprecated. Use the functions in the public API at pandas.testing instead.\n",
      "  import pandas.util.testing as tm\n"
     ]
    }
   ],
   "source": [
    "import pandas as pd\n",
    "import numpy as np\n",
    "import statsmodels.api as sm\n",
    "import statsmodels.formula.api as smf\n",
    "from scipy.special import expit as logistic\n",
    "import seaborn as sns\n",
    "sns.set()"
   ]
  },
  {
   "cell_type": "markdown",
   "metadata": {},
   "source": [
    "\n",
    "Let's now apply a binomial regression to a realistic and controversial case study: gender bias in university applications. The data we use records, for each gender, how often different departments admit (or rejects) application. For example: the first row states that for department A 512 male applications were admitted."
   ]
  },
  {
   "cell_type": "code",
   "execution_count": 36,
   "metadata": {},
   "outputs": [
    {
     "data": {
      "text/html": [
       "<div>\n",
       "<style scoped>\n",
       "    .dataframe tbody tr th:only-of-type {\n",
       "        vertical-align: middle;\n",
       "    }\n",
       "\n",
       "    .dataframe tbody tr th {\n",
       "        vertical-align: top;\n",
       "    }\n",
       "\n",
       "    .dataframe thead th {\n",
       "        text-align: right;\n",
       "    }\n",
       "</style>\n",
       "<table border=\"1\" class=\"dataframe\">\n",
       "  <thead>\n",
       "    <tr style=\"text-align: right;\">\n",
       "      <th></th>\n",
       "      <th>dept</th>\n",
       "      <th>applicant.gender</th>\n",
       "      <th>admit</th>\n",
       "      <th>reject</th>\n",
       "      <th>applications</th>\n",
       "    </tr>\n",
       "  </thead>\n",
       "  <tbody>\n",
       "    <tr>\n",
       "      <th>1</th>\n",
       "      <td>A</td>\n",
       "      <td>male</td>\n",
       "      <td>512</td>\n",
       "      <td>313</td>\n",
       "      <td>825</td>\n",
       "    </tr>\n",
       "    <tr>\n",
       "      <th>2</th>\n",
       "      <td>A</td>\n",
       "      <td>female</td>\n",
       "      <td>89</td>\n",
       "      <td>19</td>\n",
       "      <td>108</td>\n",
       "    </tr>\n",
       "    <tr>\n",
       "      <th>3</th>\n",
       "      <td>B</td>\n",
       "      <td>male</td>\n",
       "      <td>353</td>\n",
       "      <td>207</td>\n",
       "      <td>560</td>\n",
       "    </tr>\n",
       "    <tr>\n",
       "      <th>4</th>\n",
       "      <td>B</td>\n",
       "      <td>female</td>\n",
       "      <td>17</td>\n",
       "      <td>8</td>\n",
       "      <td>25</td>\n",
       "    </tr>\n",
       "    <tr>\n",
       "      <th>5</th>\n",
       "      <td>C</td>\n",
       "      <td>male</td>\n",
       "      <td>120</td>\n",
       "      <td>205</td>\n",
       "      <td>325</td>\n",
       "    </tr>\n",
       "  </tbody>\n",
       "</table>\n",
       "</div>"
      ],
      "text/plain": [
       "  dept applicant.gender  admit  reject  applications\n",
       "1    A             male    512     313           825\n",
       "2    A           female     89      19           108\n",
       "3    B             male    353     207           560\n",
       "4    B           female     17       8            25\n",
       "5    C             male    120     205           325"
      ]
     },
     "execution_count": 36,
     "metadata": {},
     "output_type": "execute_result"
    }
   ],
   "source": [
    "data = pd.read_csv('https://raw.githubusercontent.com/rmcelreath/rethinking/master/data/UCBadmit.csv',sep=';')\n",
    "data.head()"
   ]
  },
  {
   "cell_type": "markdown",
   "metadata": {},
   "source": [
    "We need to slightly change the column names (because otherwise the StatsModels syntax gets confused later on)."
   ]
  },
  {
   "cell_type": "code",
   "execution_count": 38,
   "metadata": {},
   "outputs": [],
   "source": [
    "data = data.rename({'applicant.gender':'gender'},axis=1)"
   ]
  },
  {
   "cell_type": "markdown",
   "metadata": {},
   "source": [
    "Let's have a quick look at these data by computing the probability of admission for female and male applicants. This is easy in `pandas` for each gender we sum the admissions and total numbers of applications."
   ]
  },
  {
   "cell_type": "code",
   "execution_count": 41,
   "metadata": {},
   "outputs": [
    {
     "name": "stderr",
     "output_type": "stream",
     "text": [
      "/usr/local/lib/python3.7/site-packages/ipykernel_launcher.py:1: FutureWarning: Indexing with multiple keys (implicitly converted to a tuple of keys) will be deprecated, use a list instead.\n",
      "  \"\"\"Entry point for launching an IPython kernel.\n"
     ]
    },
    {
     "data": {
      "text/html": [
       "<div>\n",
       "<style scoped>\n",
       "    .dataframe tbody tr th:only-of-type {\n",
       "        vertical-align: middle;\n",
       "    }\n",
       "\n",
       "    .dataframe tbody tr th {\n",
       "        vertical-align: top;\n",
       "    }\n",
       "\n",
       "    .dataframe thead th {\n",
       "        text-align: right;\n",
       "    }\n",
       "</style>\n",
       "<table border=\"1\" class=\"dataframe\">\n",
       "  <thead>\n",
       "    <tr style=\"text-align: right;\">\n",
       "      <th></th>\n",
       "      <th>admit</th>\n",
       "      <th>applications</th>\n",
       "    </tr>\n",
       "    <tr>\n",
       "      <th>gender</th>\n",
       "      <th></th>\n",
       "      <th></th>\n",
       "    </tr>\n",
       "  </thead>\n",
       "  <tbody>\n",
       "    <tr>\n",
       "      <th>female</th>\n",
       "      <td>557</td>\n",
       "      <td>1835</td>\n",
       "    </tr>\n",
       "    <tr>\n",
       "      <th>male</th>\n",
       "      <td>1198</td>\n",
       "      <td>2691</td>\n",
       "    </tr>\n",
       "  </tbody>\n",
       "</table>\n",
       "</div>"
      ],
      "text/plain": [
       "        admit  applications\n",
       "gender                     \n",
       "female    557          1835\n",
       "male     1198          2691"
      ]
     },
     "execution_count": 41,
     "metadata": {},
     "output_type": "execute_result"
    }
   ],
   "source": [
    "by_gender = data.groupby('gender')['admit','applications'].sum()\n",
    "by_gender"
   ]
  },
  {
   "cell_type": "markdown",
   "metadata": {},
   "source": [
    "Then we divide the admission by the total number of applications, which shows a huge gender gap: male applications are way more likely to be admitted. Now, why is this? A binomial regression will help us with determining the mechanisms at play here."
   ]
  },
  {
   "cell_type": "code",
   "execution_count": 42,
   "metadata": {},
   "outputs": [
    {
     "data": {
      "text/plain": [
       "<matplotlib.axes._subplots.AxesSubplot at 0x130a99650>"
      ]
     },
     "execution_count": 42,
     "metadata": {},
     "output_type": "execute_result"
    },
    {
     "data": {
      "image/png": "[encoded data removed]",
      "text/plain": [
       "<Figure size 432x288 with 1 Axes>"
      ]
     },
     "metadata": {},
     "output_type": "display_data"
    }
   ],
   "source": [
    "(by_gender['admit'] / by_gender['applications']).plot(kind='bar')"
   ]
  },
  {
   "cell_type": "markdown",
   "metadata": {},
   "source": [
    "We start with a simple model, which uses gender as the only independent variable. \n",
    "\n",
    "\n",
    "Gender and departments are both categorical variables. To ensure that our model will read these variables correctly, we have to convert them. We use `did` as department codes and `gid` as gender codes."
   ]
  },
  {
   "cell_type": "code",
   "execution_count": 48,
   "metadata": {},
   "outputs": [
    {
     "data": {
      "text/html": [
       "<div>\n",
       "<style scoped>\n",
       "    .dataframe tbody tr th:only-of-type {\n",
       "        vertical-align: middle;\n",
       "    }\n",
       "\n",
       "    .dataframe tbody tr th {\n",
       "        vertical-align: top;\n",
       "    }\n",
       "\n",
       "    .dataframe thead th {\n",
       "        text-align: right;\n",
       "    }\n",
       "</style>\n",
       "<table border=\"1\" class=\"dataframe\">\n",
       "  <thead>\n",
       "    <tr style=\"text-align: right;\">\n",
       "      <th></th>\n",
       "      <th>dept</th>\n",
       "      <th>gender</th>\n",
       "      <th>admit</th>\n",
       "      <th>reject</th>\n",
       "      <th>applications</th>\n",
       "      <th>gid</th>\n",
       "      <th>did</th>\n",
       "    </tr>\n",
       "  </thead>\n",
       "  <tbody>\n",
       "    <tr>\n",
       "      <th>1</th>\n",
       "      <td>A</td>\n",
       "      <td>male</td>\n",
       "      <td>512</td>\n",
       "      <td>313</td>\n",
       "      <td>825</td>\n",
       "      <td>1</td>\n",
       "      <td>0</td>\n",
       "    </tr>\n",
       "    <tr>\n",
       "      <th>2</th>\n",
       "      <td>A</td>\n",
       "      <td>female</td>\n",
       "      <td>89</td>\n",
       "      <td>19</td>\n",
       "      <td>108</td>\n",
       "      <td>0</td>\n",
       "      <td>0</td>\n",
       "    </tr>\n",
       "    <tr>\n",
       "      <th>3</th>\n",
       "      <td>B</td>\n",
       "      <td>male</td>\n",
       "      <td>353</td>\n",
       "      <td>207</td>\n",
       "      <td>560</td>\n",
       "      <td>1</td>\n",
       "      <td>1</td>\n",
       "    </tr>\n",
       "    <tr>\n",
       "      <th>4</th>\n",
       "      <td>B</td>\n",
       "      <td>female</td>\n",
       "      <td>17</td>\n",
       "      <td>8</td>\n",
       "      <td>25</td>\n",
       "      <td>0</td>\n",
       "      <td>1</td>\n",
       "    </tr>\n",
       "    <tr>\n",
       "      <th>5</th>\n",
       "      <td>C</td>\n",
       "      <td>male</td>\n",
       "      <td>120</td>\n",
       "      <td>205</td>\n",
       "      <td>325</td>\n",
       "      <td>1</td>\n",
       "      <td>2</td>\n",
       "    </tr>\n",
       "  </tbody>\n",
       "</table>\n",
       "</div>"
      ],
      "text/plain": [
       "  dept  gender  admit  reject  applications  gid  did\n",
       "1    A    male    512     313           825    1    0\n",
       "2    A  female     89      19           108    0    0\n",
       "3    B    male    353     207           560    1    1\n",
       "4    B  female     17       8            25    0    1\n",
       "5    C    male    120     205           325    1    2"
      ]
     },
     "execution_count": 48,
     "metadata": {},
     "output_type": "execute_result"
    }
   ],
   "source": [
    "data['gid'] = pd.Categorical(data['gender']).codes \n",
    "data['did'] = pd.Categorical(data['dept']).codes \n",
    "data.head()"
   ]
  },
  {
   "cell_type": "markdown",
   "metadata": {},
   "source": [
    "Now we can feed these data to our model. We use a simple formula that estimates the effect of gender (right of the tilde sign) on the outcome (either admission or rejection, left of the tilde sign). We then pass the formula and data as arguments. Lastly, we apply the `.fit()` method, which means that we try find the parameters that are most consistent with, or 'fit', the data."
   ]
  },
  {
   "cell_type": "code",
   "execution_count": 49,
   "metadata": {},
   "outputs": [
    {
     "name": "stdout",
     "output_type": "stream",
     "text": [
      "                  Generalized Linear Model Regression Results                  \n",
      "===============================================================================\n",
      "Dep. Variable:     ['admit', 'reject']   No. Observations:                   12\n",
      "Model:                             GLM   Df Residuals:                       10\n",
      "Model Family:                 Binomial   Df Model:                            1\n",
      "Link Function:                   logit   Scale:                          1.0000\n",
      "Method:                           IRLS   Log-Likelihood:                -426.27\n",
      "Date:                 Fri, 25 Mar 2022   Deviance:                       783.61\n",
      "Time:                         13:13:42   Pearson chi2:                     715.\n",
      "No. Iterations:                      4                                         \n",
      "Covariance Type:             nonrobust                                         \n",
      "===============================================================================\n",
      "                  coef    std err          z      P>|z|      [0.025      0.975]\n",
      "-------------------------------------------------------------------------------\n",
      "Intercept      -0.8305      0.051    -16.357      0.000      -0.930      -0.731\n",
      "C(gid)[T.1]     0.6104      0.064      9.553      0.000       0.485       0.736\n",
      "===============================================================================\n"
     ]
    }
   ],
   "source": [
    "formula = 'admit +  reject ~ C(gid)'\n",
    "mod1 = smf.glm(formula=formula, data=data, family=sm.families.Binomial()).fit()\n",
    "print(mod1.summary())"
   ]
  },
  {
   "cell_type": "markdown",
   "metadata": {},
   "source": [
    "The summary is elaborate but we will focus on only a small part of the report: the coefficients, or how to interpret them? \n",
    "\n",
    "The most important part of the above output is `C(gid)[T.1]`, which gives us the effect of admission when moving from female (T.0) to male (T.1). The effect is positive and significant, but what does it mean?\n",
    "\n",
    "The best way to make sense of these numbers is to understand how they model the outcome of success (probability of admission for each gender). We can calculate the probability of success by gender using the formulas we quickly touched upon earlier on in this notebook."
   ]
  },
  {
   "cell_type": "markdown",
   "metadata": {},
   "source": [
    "Please remember that we used `logit` function to map probability onto a linear function.\n",
    "\n",
    "logit($p_i$) = $a$ + $b$*$x_i$\n",
    "\n",
    "And to obtain the probability we need to apply:\n",
    "\n",
    "$p_i$ = $exp(a + b*x_i) / 1 + exp(a + b*x_i)$\n",
    "\n",
    "$a$ and $b$ are the parameters and $x_i$ the gender code. We can compute this by hand."
   ]
  },
  {
   "cell_type": "code",
   "execution_count": 58,
   "metadata": {},
   "outputs": [],
   "source": [
    "p_0 = np.exp(-0.8305 + 0.6104 * 0) / (1 + np.exp(-0.8305 + 0.6104 * 0) )\n",
    "p_1 = np.exp(-0.8305 + 0.6104 * 1) / (1 + np.exp(-0.8305 + 0.6104 * 1) )"
   ]
  },
  {
   "cell_type": "markdown",
   "metadata": {},
   "source": [
    "... and now we can obtain the probability of admission for female and male applicants. The findings of this model are in line with what we observed earlier: female applicants have a lower probability of being admitted (ca 0.14)"
   ]
  },
  {
   "cell_type": "code",
   "execution_count": 59,
   "metadata": {},
   "outputs": [
    {
     "data": {
      "text/plain": [
       "(0.3035393581861365, 0.44519606510456927)"
      ]
     },
     "execution_count": 59,
     "metadata": {},
     "output_type": "execute_result"
    }
   ],
   "source": [
    "p_0,p_1"
   ]
  },
  {
   "cell_type": "code",
   "execution_count": 60,
   "metadata": {},
   "outputs": [
    {
     "data": {
      "text/plain": [
       "0.1416567069184328"
      ]
     },
     "execution_count": 60,
     "metadata": {},
     "output_type": "execute_result"
    }
   ],
   "source": [
    "p_1 - p_0 "
   ]
  },
  {
   "cell_type": "markdown",
   "metadata": {},
   "source": [
    "Of course, you can simply use the `logistic` function to obtain this result."
   ]
  },
  {
   "cell_type": "code",
   "execution_count": 63,
   "metadata": {},
   "outputs": [
    {
     "data": {
      "text/plain": [
       "0.1416567069184328"
      ]
     },
     "execution_count": 63,
     "metadata": {},
     "output_type": "execute_result"
    }
   ],
   "source": [
    "logistic(-0.8305 + 0.6104*1) - logistic(-0.8305 + 0.6104*0)"
   ]
  },
  {
   "cell_type": "markdown",
   "metadata": {},
   "source": [
    "The question is: how well does this model work? We can plot the predicted probability of admission (blue) against the observed probability (orange), which shows that the predictions are very bad. Clearly, the model is missing important information."
   ]
  },
  {
   "cell_type": "code",
   "execution_count": 71,
   "metadata": {},
   "outputs": [
    {
     "data": {
      "text/plain": [
       "<matplotlib.axes._subplots.AxesSubplot at 0x130d9b590>"
      ]
     },
     "execution_count": 71,
     "metadata": {},
     "output_type": "execute_result"
    },
    {
     "data": {
      "image/png": "[encoded data removed]",
      "text/plain": [
       "<Figure size 864x432 with 1 Axes>"
      ]
     },
     "metadata": {},
     "output_type": "display_data"
    }
   ],
   "source": [
    "data['colname'] = data.apply(lambda x: x.dept + '_' + x.gender, axis=1)\n",
    "data.set_index('colname',inplace=True)\n",
    "data['ratio_obs'] = (data['admit'] / data['applications'])\n",
    "data['ratio_pred'] = mod1.predict()\n",
    "data[['ratio_obs','ratio_pred']].plot(kind='bar',figsize=(12,6),rot=90)"
   ]
  },
  {
   "cell_type": "markdown",
   "metadata": {},
   "source": [
    "In crucia; element in the story is the variation by department visualised below."
   ]
  },
  {
   "cell_type": "code",
   "execution_count": 72,
   "metadata": {},
   "outputs": [
    {
     "data": {
      "text/plain": [
       "<matplotlib.axes._subplots.AxesSubplot at 0x130d87250>"
      ]
     },
     "execution_count": 72,
     "metadata": {},
     "output_type": "execute_result"
    },
    {
     "data": {
      "image/png": "[encoded data removed]",
      "text/plain": [
       "<Figure size 432x288 with 1 Axes>"
      ]
     },
     "metadata": {},
     "output_type": "display_data"
    }
   ],
   "source": [
    "data['addm_ratio'] = data['admit'] / data['applications'] \n",
    "sns.barplot(x='dept',y='addm_ratio', hue=\"gender\", data= data)"
   ]
  },
  {
   "cell_type": "markdown",
   "metadata": {},
   "source": [
    "We can include the departments as another variable in our model."
   ]
  },
  {
   "cell_type": "code",
   "execution_count": 70,
   "metadata": {},
   "outputs": [
    {
     "name": "stdout",
     "output_type": "stream",
     "text": [
      "                  Generalized Linear Model Regression Results                  \n",
      "===============================================================================\n",
      "Dep. Variable:     ['admit', 'reject']   No. Observations:                   12\n",
      "Model:                             GLM   Df Residuals:                        5\n",
      "Model Family:                 Binomial   Df Model:                            6\n",
      "Link Function:                   logit   Scale:                          1.0000\n",
      "Method:                           IRLS   Log-Likelihood:                -44.572\n",
      "Date:                 Fri, 25 Mar 2022   Deviance:                       20.204\n",
      "Time:                         13:29:41   Pearson chi2:                     18.8\n",
      "No. Iterations:                      6                                         \n",
      "Covariance Type:             nonrobust                                         \n",
      "===============================================================================\n",
      "                  coef    std err          z      P>|z|      [0.025      0.975]\n",
      "-------------------------------------------------------------------------------\n",
      "Intercept       0.6819      0.099      6.880      0.000       0.488       0.876\n",
      "C(gid)[T.1]    -0.0999      0.081     -1.235      0.217      -0.258       0.059\n",
      "C(did)[T.1]    -0.0434      0.110     -0.395      0.693      -0.259       0.172\n",
      "C(did)[T.2]    -1.2626      0.107    -11.841      0.000      -1.472      -1.054\n",
      "C(did)[T.3]    -1.2946      0.106    -12.234      0.000      -1.502      -1.087\n",
      "C(did)[T.4]    -1.7393      0.126    -13.792      0.000      -1.986      -1.492\n",
      "C(did)[T.5]    -3.3065      0.170    -19.452      0.000      -3.640      -2.973\n",
      "===============================================================================\n"
     ]
    }
   ],
   "source": [
    "formula = 'admit +  reject ~ C(gid) + C(did)'\n",
    "mod3 = smf.glm(formula=formula, data=data, family=sm.families.Binomial()).fit()\n",
    "print(mod3.summary())"
   ]
  },
  {
   "cell_type": "markdown",
   "metadata": {},
   "source": [
    "Interestingly, the previously positive effect for gender (indicating a bias towards male applicants) has disappeared. `C(gid)[T.1]` is now slightly negative, and not significant (the p-value of 0.217 is above the traditional 0.05 threshold). \n",
    "\n",
    "But how to align this finding with our previous result indicating that, overall, female application having substantial lower probability of getting accepted? Of course, this result holds. However, the reasons for the difference in admission rates doesn't seem to be a gender, but more of a institutional bias. Female applicants tend to apply more for departments which are more likely to reject applications. In other words, the model suggest the selection process seems fair, but the institution as a whole is not. The university which produced these data should create more places in specific departments, not changes the a"
   ]
  },
  {
   "cell_type": "markdown",
   "metadata": {},
   "source": [
    "## Gender and parliamentary questions"
   ]
  },
  {
   "cell_type": "code",
   "execution_count": 73,
   "metadata": {},
   "outputs": [],
   "source": [
    "df = pd.read_csv('data/questions/parl_questions.csv',index_col=0,\n",
    "                 parse_dates=[\"dob\",'date tabled'],\n",
    "                date_parser= lambda x: pd.to_datetime(x, format=\"%Y-%m-%\"))"
   ]
  },
  {
   "cell_type": "code",
   "execution_count": 75,
   "metadata": {},
   "outputs": [
    {
     "data": {
      "text/plain": [
       "array(['Conservative', 'Labour', 'Plaid Cymru', 'Labour (Co-op)',\n",
       "       'Scottish National Party', 'Liberal Democrat', 'Independent',\n",
       "       'Democratic Unionist Party', 'Green Party', nan,\n",
       "       'The Independent Group for Change', 'Ulster Unionist Party',\n",
       "       'Social Democratic & Labour Party', 'Alliance',\n",
       "       'UK Independence Party'], dtype=object)"
      ]
     },
     "execution_count": 75,
     "metadata": {},
     "output_type": "execute_result"
    }
   ],
   "source": [
    "df.party.unique()"
   ]
  },
  {
   "cell_type": "code",
   "execution_count": 76,
   "metadata": {},
   "outputs": [],
   "source": [
    "df = df[df.party.isin(['Conservative', 'Labour'])]"
   ]
  },
  {
   "cell_type": "code",
   "execution_count": 77,
   "metadata": {},
   "outputs": [
    {
     "data": {
      "text/plain": [
       "['woman', 'women', 'mothers']"
      ]
     },
     "execution_count": 77,
     "metadata": {},
     "output_type": "execute_result"
    }
   ],
   "source": [
    "import re\n",
    "pattern = re.compile(r'\\bwoman\\b|\\bwomen\\b|\\bmother\\b|\\bmothers\\b')\n",
    "pattern.findall('woman bwomeno women. mothers.')"
   ]
  },
  {
   "cell_type": "code",
   "execution_count": 78,
   "metadata": {},
   "outputs": [],
   "source": [
    "\n",
    "df['about_woman'] = df['question text'].apply(lambda x: int(bool(pattern.findall(str(x).lower()))))"
   ]
  },
  {
   "cell_type": "code",
   "execution_count": 79,
   "metadata": {},
   "outputs": [
    {
     "data": {
      "text/plain": [
       "0    27807\n",
       "1      396\n",
       "Name: about_woman, dtype: int64"
      ]
     },
     "execution_count": 79,
     "metadata": {},
     "output_type": "execute_result"
    }
   ],
   "source": [
    "df['about_woman'].value_counts()"
   ]
  },
  {
   "cell_type": "code",
   "execution_count": 80,
   "metadata": {},
   "outputs": [],
   "source": [
    "df[['gender_Female','gender_Male','party_Conservative','party_Labour']] =pd.get_dummies(df[['gender','party']])"
   ]
  },
  {
   "cell_type": "code",
   "execution_count": 81,
   "metadata": {},
   "outputs": [
    {
     "name": "stdout",
     "output_type": "stream",
     "text": [
      "                 Generalized Linear Model Regression Results                  \n",
      "==============================================================================\n",
      "Dep. Variable:            about_woman   No. Observations:                28203\n",
      "Model:                            GLM   Df Residuals:                    28200\n",
      "Model Family:                Binomial   Df Model:                            2\n",
      "Link Function:                  logit   Scale:                          1.0000\n",
      "Method:                          IRLS   Log-Likelihood:                -2043.0\n",
      "Date:                Fri, 25 Mar 2022   Deviance:                       4085.9\n",
      "Time:                        13:34:24   Pearson chi2:                 2.82e+04\n",
      "No. Iterations:                     8                                         \n",
      "Covariance Type:            nonrobust                                         \n",
      "======================================================================================\n",
      "                         coef    std err          z      P>|z|      [0.025      0.975]\n",
      "--------------------------------------------------------------------------------------\n",
      "Intercept             -4.6601      0.104    -44.616      0.000      -4.865      -4.455\n",
      "gender_Female          0.9337      0.108      8.679      0.000       0.723       1.145\n",
      "party_Conservative     0.0673      0.108      0.624      0.533      -0.144       0.279\n",
      "======================================================================================\n"
     ]
    }
   ],
   "source": [
    "formula = 'about_woman ~ gender_Female + party_Conservative'\n",
    "mod1 = smf.glm(formula=formula, data=df, family=sm.families.Binomial()).fit()\n",
    "print(mod1.summary())"
   ]
  },
  {
   "cell_type": "code",
   "execution_count": 82,
   "metadata": {},
   "outputs": [],
   "source": [
    "df_agg = df.groupby(['uri_mp','gender_Female','party_Conservative']).agg({'about_woman':'sum','uri':'count'}).reset_index()"
   ]
  },
  {
   "cell_type": "code",
   "execution_count": 83,
   "metadata": {},
   "outputs": [],
   "source": [
    "df_agg['not_about'] = df_agg['uri'] - df_agg['about_woman']"
   ]
  },
  {
   "cell_type": "code",
   "execution_count": 84,
   "metadata": {},
   "outputs": [
    {
     "name": "stdout",
     "output_type": "stream",
     "text": [
      "                      Generalized Linear Model Regression Results                       \n",
      "========================================================================================\n",
      "Dep. Variable:     ['about_woman', 'not_about']   No. Observations:                  527\n",
      "Model:                                      GLM   Df Residuals:                      524\n",
      "Model Family:                          Binomial   Df Model:                            2\n",
      "Link Function:                            logit   Scale:                          1.0000\n",
      "Method:                                    IRLS   Log-Likelihood:                -494.72\n",
      "Date:                          Fri, 25 Mar 2022   Deviance:                       533.40\n",
      "Time:                                  13:34:26   Pearson chi2:                     518.\n",
      "No. Iterations:                               8                                         \n",
      "Covariance Type:                      nonrobust                                         \n",
      "======================================================================================\n",
      "                         coef    std err          z      P>|z|      [0.025      0.975]\n",
      "--------------------------------------------------------------------------------------\n",
      "Intercept             -4.6601      0.104    -44.616      0.000      -4.865      -4.455\n",
      "gender_Female          0.9337      0.108      8.679      0.000       0.723       1.145\n",
      "party_Conservative     0.0673      0.108      0.624      0.533      -0.144       0.279\n",
      "======================================================================================\n"
     ]
    }
   ],
   "source": [
    "formula = 'about_woman +  not_about ~ gender_Female + party_Conservative'\n",
    "mod3 = smf.glm(formula=formula, data=df_agg, family=sm.families.Binomial()).fit()\n",
    "print(mod3.summary())"
   ]
  },
  {
   "cell_type": "code",
   "execution_count": 85,
   "metadata": {},
   "outputs": [
    {
     "name": "stdout",
     "output_type": "stream",
     "text": [
      "                 Generalized Linear Model Regression Results                  \n",
      "==============================================================================\n",
      "Dep. Variable:            about_woman   No. Observations:                  527\n",
      "Model:                            GLM   Df Residuals:                      524\n",
      "Model Family:                 Poisson   Df Model:                            2\n",
      "Link Function:                    log   Scale:                          1.0000\n",
      "Method:                          IRLS   Log-Likelihood:                -704.26\n",
      "Date:                Fri, 25 Mar 2022   Deviance:                       946.54\n",
      "Time:                        13:34:27   Pearson chi2:                 1.32e+03\n",
      "No. Iterations:                     5                                         \n",
      "Covariance Type:            nonrobust                                         \n",
      "======================================================================================\n",
      "                         coef    std err          z      P>|z|      [0.025      0.975]\n",
      "--------------------------------------------------------------------------------------\n",
      "Intercept             -0.6926      0.100     -6.953      0.000      -0.888      -0.497\n",
      "gender_Female          0.9323      0.104      8.959      0.000       0.728       1.136\n",
      "party_Conservative     0.0670      0.104      0.643      0.520      -0.137       0.271\n",
      "======================================================================================\n"
     ]
    }
   ],
   "source": [
    "formula = 'about_woman ~ gender_Female + party_Conservative'\n",
    "mod3 = smf.glm(formula=formula, data=df_agg, family=sm.families.Poisson()).fit()\n",
    "print(mod3.summary())"
   ]
  },
  {
   "cell_type": "code",
   "execution_count": 86,
   "metadata": {},
   "outputs": [
    {
     "data": {
      "text/plain": [
       "0.2178253320016068"
      ]
     },
     "execution_count": 86,
     "metadata": {},
     "output_type": "execute_result"
    }
   ],
   "source": [
    "logistic(0.9337) - logistic(0)"
   ]
  },
  {
   "cell_type": "code",
   "execution_count": 87,
   "metadata": {},
   "outputs": [],
   "source": [
    "df['answering_body_code'] = pd.Categorical(df['answering body']).codes"
   ]
  },
  {
   "cell_type": "code",
   "execution_count": 88,
   "metadata": {},
   "outputs": [
    {
     "name": "stdout",
     "output_type": "stream",
     "text": [
      "                 Generalized Linear Model Regression Results                  \n",
      "==============================================================================\n",
      "Dep. Variable:            about_woman   No. Observations:                28203\n",
      "Model:                            GLM   Df Residuals:                    28159\n",
      "Model Family:                Binomial   Df Model:                           43\n",
      "Link Function:                  logit   Scale:                          1.0000\n",
      "Method:                          IRLS   Log-Likelihood:                -1353.9\n",
      "Date:                Fri, 25 Mar 2022   Deviance:                       2707.8\n",
      "Time:                        13:34:30   Pearson chi2:                 1.90e+04\n",
      "No. Iterations:                    27                                         \n",
      "Covariance Type:            nonrobust                                         \n",
      "================================================================================================\n",
      "                                   coef    std err          z      P>|z|      [0.025      0.975]\n",
      "------------------------------------------------------------------------------------------------\n",
      "Intercept                       -5.4837      0.587     -9.346      0.000      -6.634      -4.334\n",
      "C(answering_body_code)[T.1]      0.5255      1.160      0.453      0.650      -1.748       2.799\n",
      "C(answering_body_code)[T.2]     -1.0523      0.915     -1.151      0.250      -2.845       0.740\n",
      "C(answering_body_code)[T.3]    -23.0824   9.68e+05  -2.38e-05      1.000    -1.9e+06     1.9e+06\n",
      "C(answering_body_code)[T.4]    -23.4217    2.1e+05     -0.000      1.000   -4.12e+05    4.12e+05\n",
      "C(answering_body_code)[T.5]      2.2554      0.628      3.590      0.000       1.024       3.487\n",
      "C(answering_body_code)[T.6]     -0.2240      0.766     -0.292      0.770      -1.725       1.277\n",
      "C(answering_body_code)[T.7]      0.2936      0.766      0.383      0.702      -1.209       1.796\n",
      "C(answering_body_code)[T.8]     -0.0072      0.766     -0.009      0.992      -1.509       1.494\n",
      "C(answering_body_code)[T.9]      0.9349      0.680      1.375      0.169      -0.398       2.267\n",
      "C(answering_body_code)[T.10]    -0.1737      0.819     -0.212      0.832      -1.779       1.431\n",
      "C(answering_body_code)[T.11]    -2.0994      1.156     -1.816      0.069      -4.365       0.166\n",
      "C(answering_body_code)[T.12]   -23.3442   4.29e+04     -0.001      1.000   -8.41e+04    8.41e+04\n",
      "C(answering_body_code)[T.13]    -1.9458      1.156     -1.683      0.092      -4.212       0.320\n",
      "C(answering_body_code)[T.14]   -23.3588    7.2e+04     -0.000      1.000   -1.41e+05    1.41e+05\n",
      "C(answering_body_code)[T.15]   -23.3376   6.04e+04     -0.000      1.000   -1.18e+05    1.18e+05\n",
      "C(answering_body_code)[T.16]     1.0685      0.648      1.648      0.099      -0.202       2.339\n",
      "C(answering_body_code)[T.17]   -23.3545   3.58e+04     -0.001      0.999   -7.02e+04    7.02e+04\n",
      "C(answering_body_code)[T.18]   -23.5071   2.67e+05   -8.8e-05      1.000   -5.23e+05    5.23e+05\n",
      "C(answering_body_code)[T.19]   -23.3666    2.6e+04     -0.001      0.999   -5.09e+04    5.09e+04\n",
      "C(answering_body_code)[T.20]     1.6351      0.602      2.716      0.007       0.455       2.815\n",
      "C(answering_body_code)[T.21]     0.1184      0.733      0.162      0.872      -1.318       1.555\n",
      "C(answering_body_code)[T.22]    -1.4509      1.156     -1.255      0.210      -3.717       0.815\n",
      "C(answering_body_code)[T.23]    -0.4373      1.157     -0.378      0.706      -2.706       1.831\n",
      "C(answering_body_code)[T.24]    -1.1910      0.914     -1.302      0.193      -2.983       0.601\n",
      "C(answering_body_code)[T.25]     1.0181      0.734      1.387      0.165      -0.420       2.457\n",
      "C(answering_body_code)[T.26]     0.0721      0.733      0.098      0.922      -1.364       1.508\n",
      "C(answering_body_code)[T.27]     0.4698      0.648      0.725      0.468      -0.800       1.739\n",
      "C(answering_body_code)[T.28]     0.9121      1.162      0.785      0.433      -1.366       3.190\n",
      "C(answering_body_code)[T.29]     0.6103      1.160      0.526      0.599      -1.664       2.884\n",
      "C(answering_body_code)[T.30]    -0.0630      0.692     -0.091      0.928      -1.420       1.294\n",
      "C(answering_body_code)[T.31]   -23.3774   3.68e+04     -0.001      0.999   -7.21e+04     7.2e+04\n",
      "C(answering_body_code)[T.32]     0.8432      0.624      1.352      0.176      -0.379       2.065\n",
      "C(answering_body_code)[T.33]     1.0312      0.670      1.540      0.124      -0.281       2.344\n",
      "C(answering_body_code)[T.34]   -23.1572   3.06e+05  -7.57e-05      1.000      -6e+05       6e+05\n",
      "C(answering_body_code)[T.35]   -23.3659   1.91e+04     -0.001      0.999   -3.75e+04    3.75e+04\n",
      "C(answering_body_code)[T.36]   -23.3228   1.68e+05     -0.000      1.000   -3.29e+05    3.29e+05\n",
      "C(answering_body_code)[T.37]    -0.1635      0.915     -0.179      0.858      -1.958       1.631\n",
      "C(answering_body_code)[T.38]   -23.3392   1.08e+05     -0.000      1.000   -2.11e+05    2.11e+05\n",
      "C(answering_body_code)[T.39]    -0.5997      0.915     -0.655      0.512      -2.393       1.193\n",
      "C(answering_body_code)[T.40]    -1.1001      1.156     -0.951      0.341      -3.367       1.167\n",
      "C(answering_body_code)[T.41]     4.2941      0.585      7.343      0.000       3.148       5.440\n",
      "gender_Female                    0.6443      0.117      5.484      0.000       0.414       0.875\n",
      "party_Conservative               0.1056      0.118      0.896      0.370      -0.125       0.337\n",
      "================================================================================================\n"
     ]
    }
   ],
   "source": [
    "formula = 'about_woman ~ gender_Female + party_Conservative + C(answering_body_code)'\n",
    "mod1 = smf.glm(formula=formula, data=df, family=sm.families.Binomial()).fit()\n",
    "print(mod1.summary())"
   ]
  }
 ],
 "metadata": {
  "kernelspec": {
   "display_name": "Python 3 (ipykernel)",
   "language": "python",
   "name": "python3"
  },
  "language_info": {
   "codemirror_mode": {
    "name": "ipython",
    "version": 3
   },
   "file_extension": ".py",
   "mimetype": "text/x-python",
   "name": "python",
   "nbconvert_exporter": "python",
   "pygments_lexer": "ipython3",
   "version": "3.7.4"
  }
 },
 "nbformat": 4,
 "nbformat_minor": 2
}
