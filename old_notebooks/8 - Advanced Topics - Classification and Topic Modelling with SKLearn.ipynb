{
 "cells": [
  {
   "cell_type": "markdown",
   "metadata": {},
   "source": [
    "# 8 Advanced Topic: Supervised Classification\n",
    "\n",
    "In this Notebook you'll learn how to \n",
    "- use sklearn for text mining\n",
    "- represent documents as feature vectors\n",
    "- classify documents\n",
    "- think about historical applications"
   ]
  },
  {
   "cell_type": "markdown",
   "metadata": {},
   "source": [
    "\n",
    "## 8.1 Introduction\n",
    "\n",
    "\n",
    "\n",
    "\n",
    "Computers find it hard to \"read\" texts. As we've seen in the previous notebooks, transforming a string to a more interpretable sequence of tokens, involved many steps. But it doesn't stop here. So far we focussed on counting words as a way of observing patterns over time. In this Notebook we move the attention from words to whole documents and teach you how text mining helps us working with documents and extract patterns at the level of the collections.\n",
    "\n",
    "We do so by focussing on the task of supervised classification. This is a setting where we \n",
    "\n",
    "## 8.2 Documents as vectors\n",
    "\n",
    "They like numbers more. We can't just feed it the tokens but have to transform each sentence to a **vector**.\n",
    "\n",
    "A vector is just a list of numbers, such as [0, 10, 1, 15]. \n",
    "\n",
    "How to convert a text to a series of numbers is much debated. Below we show you the easiest and most common scenario: the **bag-of-words** approach.\n",
    "\n",
    "This approach assumes that a document can be adequately represented by simply counting the words they contain. We represent the document numerically by collecting the **token frequencies**. For example, the code below converts a sentence to a vector of term frequencies\n"
   ]
  },
  {
   "cell_type": "code",
   "execution_count": null,
   "metadata": {},
   "outputs": [],
   "source": []
  }
 ],
 "metadata": {
  "kernelspec": {
   "display_name": "Python 3",
   "language": "python",
   "name": "python3"
  },
  "language_info": {
   "codemirror_mode": {
    "name": "ipython",
    "version": 3
   },
   "file_extension": ".py",
   "mimetype": "text/x-python",
   "name": "python",
   "nbconvert_exporter": "python",
   "pygments_lexer": "ipython3",
   "version": "3.7.4"
  }
 },
 "nbformat": 4,
 "nbformat_minor": 2
}
