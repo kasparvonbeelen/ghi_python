{
 "cells": [
  {
   "cell_type": "markdown",
   "metadata": {},
   "source": [
    "# Regression Modelling \n",
    "## A gentle introduction to regression for historians\n",
    "\n",
    "This chapter turns to more advanced but also more scientifically interesting and contested topics for historians. We will discuss the topic of modelling using linear or generelaized linear models.\n",
    "\n",
    "This is only an introduction, as with the previous lecture we propose further reading, but\n",
    "\n",
    "- What are doing when building a regression model?\n",
    "- How to square the mechanistic assumptions and functions of a model with and historical (or just common sense) knowledge and reasoning?\n",
    "\n",
    "More practically:\n",
    "\n",
    "- How to train and intepret a model?"
   ]
  },
  {
   "cell_type": "markdown",
   "metadata": {},
   "source": [
    "## Simple Linear Models: Mean Age and Wealth in late Victorian London"
   ]
  },
  {
   "cell_type": "markdown",
   "metadata": {},
   "source": [
    "In this lecture we continue building on the data we used previously: we'd like to investigate the distribution of age in London, but explaining and predicting variation in age.\n",
    "\n",
    "We are specifically interesting in the relation between wealth and age. We have two two dataframes\n",
    "- the mean each in each district (aggregated by gender)\n",
    "- the rateable value per capita for each borough\n",
    "\n",
    "The first case study discussed in this lecture should not be interpreted as realistic research example, it is too problematic for that. However, we hope it will demonstrate multiple practical and philosophical problems (and opportunities) that aries when applying regression to historical data and questions."
   ]
  },
  {
   "cell_type": "markdown",
   "metadata": {},
   "source": [
    "Of course, the first step is the load the required tool we will need later on in this notebook."
   ]
  },
  {
   "cell_type": "code",
   "execution_count": 291,
   "metadata": {},
   "outputs": [],
   "source": [
    "import pandas as pd\n",
    "import numpy as np\n",
    "import seaborn as sns\n",
    "import statsmodels.api as sm\n",
    "import statsmodels.formula.api as smf\n",
    "import scipy\n",
    "sns.set()"
   ]
  },
  {
   "cell_type": "code",
   "execution_count": 292,
   "metadata": {},
   "outputs": [
    {
     "name": "stdout",
     "output_type": "stream",
     "text": [
      "0.11.2\n",
      "1.21.1\n",
      "1.3.1\n",
      "0.10.2\n",
      "1.6.1\n"
     ]
    }
   ],
   "source": [
    "print(sns.__version__)\n",
    "print(np.__version__)\n",
    "print(pd.__version__)\n",
    "print(sm.__version__)\n",
    "print(scipy.__version__)"
   ]
  },
  {
   "cell_type": "markdown",
   "metadata": {},
   "source": [
    "Before we turn to the actual analysis, let's discuss some common data wrangling steps that characterize, and often problematize, data rich research in history. "
   ]
  },
  {
   "cell_type": "markdown",
   "metadata": {},
   "source": [
    "First we create a new dataframe the records the mean age and number of observiations for each district."
   ]
  },
  {
   "cell_type": "code",
   "execution_count": 294,
   "metadata": {},
   "outputs": [
    {
     "data": {
      "text/html": [
       "<div>\n",
       "<style scoped>\n",
       "    .dataframe tbody tr th:only-of-type {\n",
       "        vertical-align: middle;\n",
       "    }\n",
       "\n",
       "    .dataframe tbody tr th {\n",
       "        vertical-align: top;\n",
       "    }\n",
       "\n",
       "    .dataframe thead th {\n",
       "        text-align: right;\n",
       "    }\n",
       "</style>\n",
       "<table border=\"1\" class=\"dataframe\">\n",
       "  <thead>\n",
       "    <tr style=\"text-align: right;\">\n",
       "      <th></th>\n",
       "      <th>index</th>\n",
       "      <th>RegDist</th>\n",
       "      <th>SubDist</th>\n",
       "      <th>Sex</th>\n",
       "      <th>Age</th>\n",
       "      <th>DisCode1</th>\n",
       "      <th>DisCode2</th>\n",
       "      <th>Industry</th>\n",
       "      <th>HISCO</th>\n",
       "    </tr>\n",
       "  </thead>\n",
       "  <tbody>\n",
       "    <tr>\n",
       "      <th>0</th>\n",
       "      <td>3413059</td>\n",
       "      <td>Lambeth</td>\n",
       "      <td>Norwood</td>\n",
       "      <td>M</td>\n",
       "      <td>24</td>\n",
       "      <td>0</td>\n",
       "      <td>0</td>\n",
       "      <td>.</td>\n",
       "      <td>99999</td>\n",
       "    </tr>\n",
       "    <tr>\n",
       "      <th>1</th>\n",
       "      <td>3356255</td>\n",
       "      <td>Lambeth</td>\n",
       "      <td>Brixton</td>\n",
       "      <td>M</td>\n",
       "      <td>33</td>\n",
       "      <td>0</td>\n",
       "      <td>0</td>\n",
       "      <td>.</td>\n",
       "      <td>80320</td>\n",
       "    </tr>\n",
       "    <tr>\n",
       "      <th>2</th>\n",
       "      <td>1283420</td>\n",
       "      <td>Islington</td>\n",
       "      <td>Upper Holloway</td>\n",
       "      <td>F</td>\n",
       "      <td>57</td>\n",
       "      <td>0</td>\n",
       "      <td>0</td>\n",
       "      <td>.</td>\n",
       "      <td>99999</td>\n",
       "    </tr>\n",
       "    <tr>\n",
       "      <th>3</th>\n",
       "      <td>22772</td>\n",
       "      <td>Paddington</td>\n",
       "      <td>St Mary Paddington</td>\n",
       "      <td>M</td>\n",
       "      <td>11</td>\n",
       "      <td>0</td>\n",
       "      <td>0</td>\n",
       "      <td>.</td>\n",
       "      <td>.</td>\n",
       "    </tr>\n",
       "    <tr>\n",
       "      <th>4</th>\n",
       "      <td>1680336</td>\n",
       "      <td>Hackney</td>\n",
       "      <td>North Hackney</td>\n",
       "      <td>F</td>\n",
       "      <td>34</td>\n",
       "      <td>0</td>\n",
       "      <td>0</td>\n",
       "      <td>.</td>\n",
       "      <td>37020</td>\n",
       "    </tr>\n",
       "  </tbody>\n",
       "</table>\n",
       "</div>"
      ],
      "text/plain": [
       "     index     RegDist             SubDist Sex  Age  DisCode1  DisCode2  \\\n",
       "0  3413059     Lambeth             Norwood   M   24         0         0   \n",
       "1  3356255     Lambeth             Brixton   M   33         0         0   \n",
       "2  1283420   Islington      Upper Holloway   F   57         0         0   \n",
       "3    22772  Paddington  St Mary Paddington   M   11         0         0   \n",
       "4  1680336     Hackney       North Hackney   F   34         0         0   \n",
       "\n",
       "  Industry  HISCO  \n",
       "0        .  99999  \n",
       "1        .  80320  \n",
       "2        .  99999  \n",
       "3        .      .  \n",
       "4        .  37020  "
      ]
     },
     "execution_count": 294,
     "metadata": {},
     "output_type": "execute_result"
    }
   ],
   "source": [
    "df = pd.read_csv('data/icem/EW01_london_sample.csv',index_col=0)\n",
    "df = df.sample(frac=.5, random_state=0).reset_index()\n",
    "df.head()"
   ]
  },
  {
   "cell_type": "code",
   "execution_count": 302,
   "metadata": {},
   "outputs": [],
   "source": [
    "df_sel = df[['RegDist','SubDist','Sex','Age','DisCode1']]\n",
    "df_sel = df_sel.sample(frac=.5, random_state=0).reset_index()\n",
    "df_sel.to_csv('data/icem/EW01_london_subsample.csv')"
   ]
  },
  {
   "cell_type": "code",
   "execution_count": 303,
   "metadata": {},
   "outputs": [],
   "source": [
    "df_sel = df_sel.drop('index',axis=1)\n",
    "df_sel.to_csv('data/icem/EW01_london_subsample.csv')"
   ]
  },
  {
   "cell_type": "code",
   "execution_count": 304,
   "metadata": {},
   "outputs": [
    {
     "data": {
      "text/html": [
       "<div>\n",
       "<style scoped>\n",
       "    .dataframe tbody tr th:only-of-type {\n",
       "        vertical-align: middle;\n",
       "    }\n",
       "\n",
       "    .dataframe tbody tr th {\n",
       "        vertical-align: top;\n",
       "    }\n",
       "\n",
       "    .dataframe thead th {\n",
       "        text-align: right;\n",
       "    }\n",
       "</style>\n",
       "<table border=\"1\" class=\"dataframe\">\n",
       "  <thead>\n",
       "    <tr style=\"text-align: right;\">\n",
       "      <th></th>\n",
       "      <th>RegDist</th>\n",
       "      <th>SubDist</th>\n",
       "      <th>Sex</th>\n",
       "      <th>Age</th>\n",
       "      <th>DisCode1</th>\n",
       "    </tr>\n",
       "  </thead>\n",
       "  <tbody>\n",
       "    <tr>\n",
       "      <th>0</th>\n",
       "      <td>Kensington</td>\n",
       "      <td>Kensington Town</td>\n",
       "      <td>M</td>\n",
       "      <td>18</td>\n",
       "      <td>0</td>\n",
       "    </tr>\n",
       "    <tr>\n",
       "      <th>1</th>\n",
       "      <td>Greenwich</td>\n",
       "      <td>Deptford South</td>\n",
       "      <td>U</td>\n",
       "      <td>14</td>\n",
       "      <td>0</td>\n",
       "    </tr>\n",
       "    <tr>\n",
       "      <th>2</th>\n",
       "      <td>St George Hanover Square</td>\n",
       "      <td>St Margaret And St John</td>\n",
       "      <td>M</td>\n",
       "      <td>38</td>\n",
       "      <td>0</td>\n",
       "    </tr>\n",
       "    <tr>\n",
       "      <th>3</th>\n",
       "      <td>St Olave Southwark</td>\n",
       "      <td>Bermondsey</td>\n",
       "      <td>F</td>\n",
       "      <td>42</td>\n",
       "      <td>0</td>\n",
       "    </tr>\n",
       "    <tr>\n",
       "      <th>4</th>\n",
       "      <td>St George Hanover Square</td>\n",
       "      <td>St Margaret And St John</td>\n",
       "      <td>M</td>\n",
       "      <td>19</td>\n",
       "      <td>0</td>\n",
       "    </tr>\n",
       "    <tr>\n",
       "      <th>...</th>\n",
       "      <td>...</td>\n",
       "      <td>...</td>\n",
       "      <td>...</td>\n",
       "      <td>...</td>\n",
       "      <td>...</td>\n",
       "    </tr>\n",
       "    <tr>\n",
       "      <th>1105232</th>\n",
       "      <td>Bethnal Green</td>\n",
       "      <td>Bethnal Green East</td>\n",
       "      <td>M</td>\n",
       "      <td>11</td>\n",
       "      <td>0</td>\n",
       "    </tr>\n",
       "    <tr>\n",
       "      <th>1105233</th>\n",
       "      <td>Pancras</td>\n",
       "      <td>Kentish Town</td>\n",
       "      <td>M</td>\n",
       "      <td>18</td>\n",
       "      <td>0</td>\n",
       "    </tr>\n",
       "    <tr>\n",
       "      <th>1105234</th>\n",
       "      <td>Paddington</td>\n",
       "      <td>St John Paddington</td>\n",
       "      <td>F</td>\n",
       "      <td>62</td>\n",
       "      <td>0</td>\n",
       "    </tr>\n",
       "    <tr>\n",
       "      <th>1105235</th>\n",
       "      <td>Southwark</td>\n",
       "      <td>Kent Road</td>\n",
       "      <td>F</td>\n",
       "      <td>35</td>\n",
       "      <td>0</td>\n",
       "    </tr>\n",
       "    <tr>\n",
       "      <th>1105236</th>\n",
       "      <td>Fulham</td>\n",
       "      <td>North-West Fulham</td>\n",
       "      <td>M</td>\n",
       "      <td>29</td>\n",
       "      <td>0</td>\n",
       "    </tr>\n",
       "  </tbody>\n",
       "</table>\n",
       "<p>1105237 rows × 5 columns</p>\n",
       "</div>"
      ],
      "text/plain": [
       "                          RegDist                  SubDist Sex  Age  DisCode1\n",
       "0                      Kensington          Kensington Town   M   18         0\n",
       "1                       Greenwich           Deptford South   U   14         0\n",
       "2        St George Hanover Square  St Margaret And St John   M   38         0\n",
       "3              St Olave Southwark               Bermondsey   F   42         0\n",
       "4        St George Hanover Square  St Margaret And St John   M   19         0\n",
       "...                           ...                      ...  ..  ...       ...\n",
       "1105232             Bethnal Green       Bethnal Green East   M   11         0\n",
       "1105233                   Pancras             Kentish Town   M   18         0\n",
       "1105234                Paddington       St John Paddington   F   62         0\n",
       "1105235                 Southwark                Kent Road   F   35         0\n",
       "1105236                    Fulham        North-West Fulham   M   29         0\n",
       "\n",
       "[1105237 rows x 5 columns]"
      ]
     },
     "execution_count": 304,
     "metadata": {},
     "output_type": "execute_result"
    }
   ],
   "source": [
    "df_sel"
   ]
  },
  {
   "cell_type": "code",
   "execution_count": 27,
   "metadata": {},
   "outputs": [],
   "source": [
    "age_by_dist = df.groupby(['RegDist']).agg({'Age':'mean','index':'count'})"
   ]
  },
  {
   "cell_type": "code",
   "execution_count": 28,
   "metadata": {},
   "outputs": [
    {
     "data": {
      "text/html": [
       "<div>\n",
       "<style scoped>\n",
       "    .dataframe tbody tr th:only-of-type {\n",
       "        vertical-align: middle;\n",
       "    }\n",
       "\n",
       "    .dataframe tbody tr th {\n",
       "        vertical-align: top;\n",
       "    }\n",
       "\n",
       "    .dataframe thead th {\n",
       "        text-align: right;\n",
       "    }\n",
       "</style>\n",
       "<table border=\"1\" class=\"dataframe\">\n",
       "  <thead>\n",
       "    <tr style=\"text-align: right;\">\n",
       "      <th></th>\n",
       "      <th>Age</th>\n",
       "      <th>index</th>\n",
       "    </tr>\n",
       "    <tr>\n",
       "      <th>RegDist</th>\n",
       "      <th></th>\n",
       "      <th></th>\n",
       "    </tr>\n",
       "  </thead>\n",
       "  <tbody>\n",
       "    <tr>\n",
       "      <th>Bethnal Green</th>\n",
       "      <td>25.642209</td>\n",
       "      <td>62788</td>\n",
       "    </tr>\n",
       "    <tr>\n",
       "      <th>Camberwell</th>\n",
       "      <td>27.311895</td>\n",
       "      <td>126286</td>\n",
       "    </tr>\n",
       "    <tr>\n",
       "      <th>Chelsea</th>\n",
       "      <td>31.009385</td>\n",
       "      <td>36443</td>\n",
       "    </tr>\n",
       "    <tr>\n",
       "      <th>Fulham</th>\n",
       "      <td>27.181759</td>\n",
       "      <td>120924</td>\n",
       "    </tr>\n",
       "    <tr>\n",
       "      <th>Greenwich</th>\n",
       "      <td>26.912896</td>\n",
       "      <td>90375</td>\n",
       "    </tr>\n",
       "    <tr>\n",
       "      <th>Hackney</th>\n",
       "      <td>27.974470</td>\n",
       "      <td>131922</td>\n",
       "    </tr>\n",
       "    <tr>\n",
       "      <th>Hampstead</th>\n",
       "      <td>29.357228</td>\n",
       "      <td>40260</td>\n",
       "    </tr>\n",
       "    <tr>\n",
       "      <th>Holborn</th>\n",
       "      <td>27.150275</td>\n",
       "      <td>62532</td>\n",
       "    </tr>\n",
       "    <tr>\n",
       "      <th>Islington</th>\n",
       "      <td>28.205897</td>\n",
       "      <td>163256</td>\n",
       "    </tr>\n",
       "    <tr>\n",
       "      <th>Kensington</th>\n",
       "      <td>30.203241</td>\n",
       "      <td>86636</td>\n",
       "    </tr>\n",
       "    <tr>\n",
       "      <th>Lambeth</th>\n",
       "      <td>28.224500</td>\n",
       "      <td>146891</td>\n",
       "    </tr>\n",
       "    <tr>\n",
       "      <th>Lewisham</th>\n",
       "      <td>28.081012</td>\n",
       "      <td>65867</td>\n",
       "    </tr>\n",
       "    <tr>\n",
       "      <th>London City</th>\n",
       "      <td>29.649791</td>\n",
       "      <td>13649</td>\n",
       "    </tr>\n",
       "    <tr>\n",
       "      <th>Marylebone</th>\n",
       "      <td>30.031596</td>\n",
       "      <td>65547</td>\n",
       "    </tr>\n",
       "    <tr>\n",
       "      <th>Mile End Old Town</th>\n",
       "      <td>26.062330</td>\n",
       "      <td>53618</td>\n",
       "    </tr>\n",
       "    <tr>\n",
       "      <th>Paddington</th>\n",
       "      <td>29.661531</td>\n",
       "      <td>70092</td>\n",
       "    </tr>\n",
       "    <tr>\n",
       "      <th>Pancras</th>\n",
       "      <td>28.507575</td>\n",
       "      <td>114460</td>\n",
       "    </tr>\n",
       "    <tr>\n",
       "      <th>Poplar</th>\n",
       "      <td>26.447364</td>\n",
       "      <td>81911</td>\n",
       "    </tr>\n",
       "    <tr>\n",
       "      <th>Shoreditch</th>\n",
       "      <td>26.792105</td>\n",
       "      <td>57808</td>\n",
       "    </tr>\n",
       "    <tr>\n",
       "      <th>Southwark</th>\n",
       "      <td>26.959247</td>\n",
       "      <td>100239</td>\n",
       "    </tr>\n",
       "    <tr>\n",
       "      <th>St George Hanover Square</th>\n",
       "      <td>30.229922</td>\n",
       "      <td>63404</td>\n",
       "    </tr>\n",
       "    <tr>\n",
       "      <th>St George In The East</th>\n",
       "      <td>24.398555</td>\n",
       "      <td>23806</td>\n",
       "    </tr>\n",
       "    <tr>\n",
       "      <th>St Giles</th>\n",
       "      <td>30.857373</td>\n",
       "      <td>15523</td>\n",
       "    </tr>\n",
       "    <tr>\n",
       "      <th>St Olave Southwark</th>\n",
       "      <td>26.341959</td>\n",
       "      <td>63803</td>\n",
       "    </tr>\n",
       "    <tr>\n",
       "      <th>Stepney</th>\n",
       "      <td>25.858003</td>\n",
       "      <td>28240</td>\n",
       "    </tr>\n",
       "    <tr>\n",
       "      <th>Strand</th>\n",
       "      <td>30.542662</td>\n",
       "      <td>10712</td>\n",
       "    </tr>\n",
       "    <tr>\n",
       "      <th>Wandsworth</th>\n",
       "      <td>27.465121</td>\n",
       "      <td>195749</td>\n",
       "    </tr>\n",
       "    <tr>\n",
       "      <th>Westminster</th>\n",
       "      <td>28.948076</td>\n",
       "      <td>16139</td>\n",
       "    </tr>\n",
       "    <tr>\n",
       "      <th>Whitechapel</th>\n",
       "      <td>25.351059</td>\n",
       "      <td>37968</td>\n",
       "    </tr>\n",
       "    <tr>\n",
       "      <th>Woolwich</th>\n",
       "      <td>26.366108</td>\n",
       "      <td>63626</td>\n",
       "    </tr>\n",
       "  </tbody>\n",
       "</table>\n",
       "</div>"
      ],
      "text/plain": [
       "                                Age   index\n",
       "RegDist                                    \n",
       "Bethnal Green             25.642209   62788\n",
       "Camberwell                27.311895  126286\n",
       "Chelsea                   31.009385   36443\n",
       "Fulham                    27.181759  120924\n",
       "Greenwich                 26.912896   90375\n",
       "Hackney                   27.974470  131922\n",
       "Hampstead                 29.357228   40260\n",
       "Holborn                   27.150275   62532\n",
       "Islington                 28.205897  163256\n",
       "Kensington                30.203241   86636\n",
       "Lambeth                   28.224500  146891\n",
       "Lewisham                  28.081012   65867\n",
       "London City               29.649791   13649\n",
       "Marylebone                30.031596   65547\n",
       "Mile End Old Town         26.062330   53618\n",
       "Paddington                29.661531   70092\n",
       "Pancras                   28.507575  114460\n",
       "Poplar                    26.447364   81911\n",
       "Shoreditch                26.792105   57808\n",
       "Southwark                 26.959247  100239\n",
       "St George Hanover Square  30.229922   63404\n",
       "St George In The East     24.398555   23806\n",
       "St Giles                  30.857373   15523\n",
       "St Olave Southwark        26.341959   63803\n",
       "Stepney                   25.858003   28240\n",
       "Strand                    30.542662   10712\n",
       "Wandsworth                27.465121  195749\n",
       "Westminster               28.948076   16139\n",
       "Whitechapel               25.351059   37968\n",
       "Woolwich                  26.366108   63626"
      ]
     },
     "execution_count": 28,
     "metadata": {},
     "output_type": "execute_result"
    }
   ],
   "source": [
    "age_by_dist"
   ]
  },
  {
   "cell_type": "markdown",
   "metadata": {},
   "source": [
    "We can do the same but now disagregating by gender."
   ]
  },
  {
   "cell_type": "code",
   "execution_count": 29,
   "metadata": {},
   "outputs": [],
   "source": [
    "age_by_dist_gen = df.groupby(['RegDist','Sex']).agg({'Age':'mean','Sex':'count'})"
   ]
  },
  {
   "cell_type": "code",
   "execution_count": 30,
   "metadata": {},
   "outputs": [
    {
     "data": {
      "text/html": [
       "<div>\n",
       "<style scoped>\n",
       "    .dataframe tbody tr th:only-of-type {\n",
       "        vertical-align: middle;\n",
       "    }\n",
       "\n",
       "    .dataframe tbody tr th {\n",
       "        vertical-align: top;\n",
       "    }\n",
       "\n",
       "    .dataframe thead th {\n",
       "        text-align: right;\n",
       "    }\n",
       "</style>\n",
       "<table border=\"1\" class=\"dataframe\">\n",
       "  <thead>\n",
       "    <tr style=\"text-align: right;\">\n",
       "      <th></th>\n",
       "      <th></th>\n",
       "      <th>Age</th>\n",
       "      <th>Sex</th>\n",
       "    </tr>\n",
       "    <tr>\n",
       "      <th>RegDist</th>\n",
       "      <th>Sex</th>\n",
       "      <th></th>\n",
       "      <th></th>\n",
       "    </tr>\n",
       "  </thead>\n",
       "  <tbody>\n",
       "    <tr>\n",
       "      <th rowspan=\"3\" valign=\"top\">Bethnal Green</th>\n",
       "      <th>F</th>\n",
       "      <td>25.995132</td>\n",
       "      <td>31838</td>\n",
       "    </tr>\n",
       "    <tr>\n",
       "      <th>M</th>\n",
       "      <td>25.625989</td>\n",
       "      <td>28812</td>\n",
       "    </tr>\n",
       "    <tr>\n",
       "      <th>U</th>\n",
       "      <td>20.605239</td>\n",
       "      <td>2138</td>\n",
       "    </tr>\n",
       "    <tr>\n",
       "      <th rowspan=\"2\" valign=\"top\">Camberwell</th>\n",
       "      <th>F</th>\n",
       "      <td>28.057542</td>\n",
       "      <td>65935</td>\n",
       "    </tr>\n",
       "    <tr>\n",
       "      <th>M</th>\n",
       "      <td>26.728287</td>\n",
       "      <td>56350</td>\n",
       "    </tr>\n",
       "    <tr>\n",
       "      <th>...</th>\n",
       "      <th>...</th>\n",
       "      <td>...</td>\n",
       "      <td>...</td>\n",
       "    </tr>\n",
       "    <tr>\n",
       "      <th rowspan=\"2\" valign=\"top\">Whitechapel</th>\n",
       "      <th>M</th>\n",
       "      <td>26.020602</td>\n",
       "      <td>18833</td>\n",
       "    </tr>\n",
       "    <tr>\n",
       "      <th>U</th>\n",
       "      <td>24.163015</td>\n",
       "      <td>1552</td>\n",
       "    </tr>\n",
       "    <tr>\n",
       "      <th rowspan=\"3\" valign=\"top\">Woolwich</th>\n",
       "      <th>F</th>\n",
       "      <td>26.763641</td>\n",
       "      <td>30166</td>\n",
       "    </tr>\n",
       "    <tr>\n",
       "      <th>M</th>\n",
       "      <td>26.318538</td>\n",
       "      <td>31362</td>\n",
       "    </tr>\n",
       "    <tr>\n",
       "      <th>U</th>\n",
       "      <td>21.361296</td>\n",
       "      <td>2098</td>\n",
       "    </tr>\n",
       "  </tbody>\n",
       "</table>\n",
       "<p>90 rows × 2 columns</p>\n",
       "</div>"
      ],
      "text/plain": [
       "                         Age    Sex\n",
       "RegDist       Sex                  \n",
       "Bethnal Green F    25.995132  31838\n",
       "              M    25.625989  28812\n",
       "              U    20.605239   2138\n",
       "Camberwell    F    28.057542  65935\n",
       "              M    26.728287  56350\n",
       "...                      ...    ...\n",
       "Whitechapel   M    26.020602  18833\n",
       "              U    24.163015   1552\n",
       "Woolwich      F    26.763641  30166\n",
       "              M    26.318538  31362\n",
       "              U    21.361296   2098\n",
       "\n",
       "[90 rows x 2 columns]"
      ]
     },
     "execution_count": 30,
     "metadata": {},
     "output_type": "execute_result"
    }
   ],
   "source": [
    "age_by_dist_gen"
   ]
  },
  {
   "cell_type": "markdown",
   "metadata": {},
   "source": [
    "To understand the relation between how wealthy a place is and the average age of the people living in that location we need to add additional information to our dataframe. \n",
    "\n",
    "The dataframe below capture the rateable value per capita in each London borough (the data is synthetic but follows the pattern of a 'real' values collected for 1922.\n",
    "\n",
    "Rateable value per capita is proxy for [...].\n",
    "\n",
    "The latter is something prevalent in statistical research where we use variables as standing in for some phenomemen you want to explain. This topic is also called **construct validity**."
   ]
  },
  {
   "cell_type": "code",
   "execution_count": 31,
   "metadata": {},
   "outputs": [
    {
     "data": {
      "text/html": [
       "<div>\n",
       "<style scoped>\n",
       "    .dataframe tbody tr th:only-of-type {\n",
       "        vertical-align: middle;\n",
       "    }\n",
       "\n",
       "    .dataframe tbody tr th {\n",
       "        vertical-align: top;\n",
       "    }\n",
       "\n",
       "    .dataframe thead th {\n",
       "        text-align: right;\n",
       "    }\n",
       "</style>\n",
       "<table border=\"1\" class=\"dataframe\">\n",
       "  <thead>\n",
       "    <tr style=\"text-align: right;\">\n",
       "      <th></th>\n",
       "      <th>borough</th>\n",
       "      <th>rateable_value_pc</th>\n",
       "    </tr>\n",
       "  </thead>\n",
       "  <tbody>\n",
       "    <tr>\n",
       "      <th>0</th>\n",
       "      <td>Battersea</td>\n",
       "      <td>6.1</td>\n",
       "    </tr>\n",
       "    <tr>\n",
       "      <th>1</th>\n",
       "      <td>Bermondsey</td>\n",
       "      <td>8.5</td>\n",
       "    </tr>\n",
       "    <tr>\n",
       "      <th>2</th>\n",
       "      <td>Bethnal Green</td>\n",
       "      <td>4.9</td>\n",
       "    </tr>\n",
       "    <tr>\n",
       "      <th>3</th>\n",
       "      <td>Camberwell</td>\n",
       "      <td>5.2</td>\n",
       "    </tr>\n",
       "    <tr>\n",
       "      <th>4</th>\n",
       "      <td>Chelsea</td>\n",
       "      <td>14.7</td>\n",
       "    </tr>\n",
       "  </tbody>\n",
       "</table>\n",
       "</div>"
      ],
      "text/plain": [
       "         borough  rateable_value_pc\n",
       "0      Battersea                6.1\n",
       "1     Bermondsey                8.5\n",
       "2  Bethnal Green                4.9\n",
       "3     Camberwell                5.2\n",
       "4        Chelsea               14.7"
      ]
     },
     "execution_count": 31,
     "metadata": {},
     "output_type": "execute_result"
    }
   ],
   "source": [
    "rv = pd.read_csv('./data/icem/rateable_value.csv',index_col=0)\n",
    "rv.head()"
   ]
  },
  {
   "cell_type": "markdown",
   "metadata": {},
   "source": [
    "We want to merge the dataframes together but first we should check to what extent this is possible, both practically and theoretically.\n",
    "\n",
    "- What names occur in both datasets? We will use these to combine information from heterogeneous sources.\n",
    "- To what extent are the districts that appear in the census the same as the boroughs in the data on rateable value per capita?"
   ]
  },
  {
   "cell_type": "markdown",
   "metadata": {},
   "source": [
    "First we want check which place names appear in both datasets\n",
    "\n",
    "We create a Python `set`, a list of unique values, for the place names in both dataframes.\n",
    "\n",
    "We first take the column that records place names and  we convert this to a set of unique names."
   ]
  },
  {
   "cell_type": "code",
   "execution_count": 51,
   "metadata": {},
   "outputs": [
    {
     "name": "stdout",
     "output_type": "stream",
     "text": [
      "{'St George Hanover Square', 'Pancras', 'Shoreditch', 'Poplar', 'Stepney', 'Chelsea', 'Hackney', 'Camberwell', 'Lambeth', 'Lewisham', 'St George In The East', 'Kensington', 'Westminster', 'Bethnal Green', 'St Giles', 'Paddington', 'London City', 'Holborn', 'Hampstead', 'St Olave Southwark', 'Islington', 'Marylebone', 'Strand', 'Greenwich', 'Southwark', 'Mile End Old Town', 'Fulham', 'Wandsworth', 'Woolwich', 'Whitechapel'}\n"
     ]
    }
   ],
   "source": [
    "d1_pl = set(df['RegDist'])\n",
    "print(d1_pl)"
   ]
  },
  {
   "cell_type": "code",
   "execution_count": 52,
   "metadata": {},
   "outputs": [
    {
     "name": "stdout",
     "output_type": "stream",
     "text": [
      "{'Battersea', 'Deptford', 'Pancras', 'Shoreditch', 'Poplar', 'Stepney', 'Chelsea', 'Hackney', 'Stoke Newington', 'Camberwell', 'Lambeth', 'Lewisham', 'Hammersmith', 'Bermondsey', 'Finsbury', 'Kensington', 'Westminster', 'Bethnal Green', 'Paddington', 'Holborn', 'Hampstead', 'Islington', 'Marylebone', 'Greenwich', 'Fulham', 'Southwark', 'Wandsworth', 'Woolwich'}\n"
     ]
    }
   ],
   "source": [
    "d2_pl = set(rv['borough'])\n",
    "print(d2_pl)"
   ]
  },
  {
   "cell_type": "markdown",
   "metadata": {},
   "source": [
    "After getting these two sets we compute their intersection, i.e. the names that appear in both dataframes.\n",
    "\n",
    "The syntax is set1.intersection(set2). We basically apply the `.intersection()` to a set and pass another set as argument."
   ]
  },
  {
   "cell_type": "code",
   "execution_count": 53,
   "metadata": {},
   "outputs": [
    {
     "name": "stdout",
     "output_type": "stream",
     "text": [
      "{'Pancras', 'Shoreditch', 'Poplar', 'Stepney', 'Chelsea', 'Hackney', 'Camberwell', 'Lambeth', 'Lewisham', 'Kensington', 'Westminster', 'Bethnal Green', 'Paddington', 'Holborn', 'Hampstead', 'Islington', 'Marylebone', 'Greenwich', 'Fulham', 'Southwark', 'Wandsworth', 'Woolwich'}\n"
     ]
    }
   ],
   "source": [
    "print(d1_pl.intersection(d2_pl))"
   ]
  },
  {
   "cell_type": "code",
   "execution_count": 55,
   "metadata": {},
   "outputs": [
    {
     "data": {
      "text/plain": [
       "{'London City',\n",
       " 'Mile End Old Town',\n",
       " 'St George Hanover Square',\n",
       " 'St George In The East',\n",
       " 'St Giles',\n",
       " 'St Olave Southwark',\n",
       " 'Strand',\n",
       " 'Whitechapel'}"
      ]
     },
     "execution_count": 55,
     "metadata": {},
     "output_type": "execute_result"
    }
   ],
   "source": [
    "d1_pl - d2_pl"
   ]
  },
  {
   "cell_type": "code",
   "execution_count": 56,
   "metadata": {},
   "outputs": [
    {
     "data": {
      "text/plain": [
       "{'Battersea',\n",
       " 'Bermondsey',\n",
       " 'Deptford',\n",
       " 'Finsbury',\n",
       " 'Hammersmith',\n",
       " 'Stoke Newington'}"
      ]
     },
     "execution_count": 56,
     "metadata": {},
     "output_type": "execute_result"
    }
   ],
   "source": [
    "d2_pl - d1_pl"
   ]
  },
  {
   "cell_type": "markdown",
   "metadata": {},
   "source": [
    "Now we can go ahead and merge the data. However, be careful: it is not because the strings match that they mean the same thing. Don't worry about the syntax we will explain it in more detail below."
   ]
  },
  {
   "cell_type": "code",
   "execution_count": 59,
   "metadata": {},
   "outputs": [
    {
     "data": {
      "text/html": [
       "<div>\n",
       "<style scoped>\n",
       "    .dataframe tbody tr th:only-of-type {\n",
       "        vertical-align: middle;\n",
       "    }\n",
       "\n",
       "    .dataframe tbody tr th {\n",
       "        vertical-align: top;\n",
       "    }\n",
       "\n",
       "    .dataframe thead th {\n",
       "        text-align: right;\n",
       "    }\n",
       "</style>\n",
       "<table border=\"1\" class=\"dataframe\">\n",
       "  <thead>\n",
       "    <tr style=\"text-align: right;\">\n",
       "      <th></th>\n",
       "      <th>Age</th>\n",
       "      <th>index</th>\n",
       "      <th>borough</th>\n",
       "      <th>rateable_value_pc</th>\n",
       "    </tr>\n",
       "  </thead>\n",
       "  <tbody>\n",
       "    <tr>\n",
       "      <th>2</th>\n",
       "      <td>25.642209</td>\n",
       "      <td>62788</td>\n",
       "      <td>Bethnal Green</td>\n",
       "      <td>4.9</td>\n",
       "    </tr>\n",
       "    <tr>\n",
       "      <th>3</th>\n",
       "      <td>27.311895</td>\n",
       "      <td>126286</td>\n",
       "      <td>Camberwell</td>\n",
       "      <td>5.2</td>\n",
       "    </tr>\n",
       "    <tr>\n",
       "      <th>4</th>\n",
       "      <td>31.009385</td>\n",
       "      <td>36443</td>\n",
       "      <td>Chelsea</td>\n",
       "      <td>14.7</td>\n",
       "    </tr>\n",
       "    <tr>\n",
       "      <th>7</th>\n",
       "      <td>27.181759</td>\n",
       "      <td>120924</td>\n",
       "      <td>Fulham</td>\n",
       "      <td>6.1</td>\n",
       "    </tr>\n",
       "    <tr>\n",
       "      <th>8</th>\n",
       "      <td>26.912896</td>\n",
       "      <td>90375</td>\n",
       "      <td>Greenwich</td>\n",
       "      <td>7.6</td>\n",
       "    </tr>\n",
       "    <tr>\n",
       "      <th>9</th>\n",
       "      <td>27.974470</td>\n",
       "      <td>131922</td>\n",
       "      <td>Hackney</td>\n",
       "      <td>5.7</td>\n",
       "    </tr>\n",
       "    <tr>\n",
       "      <th>11</th>\n",
       "      <td>29.357228</td>\n",
       "      <td>40260</td>\n",
       "      <td>Hampstead</td>\n",
       "      <td>13.3</td>\n",
       "    </tr>\n",
       "    <tr>\n",
       "      <th>12</th>\n",
       "      <td>27.150275</td>\n",
       "      <td>62532</td>\n",
       "      <td>Holborn</td>\n",
       "      <td>32.0</td>\n",
       "    </tr>\n",
       "    <tr>\n",
       "      <th>13</th>\n",
       "      <td>28.205897</td>\n",
       "      <td>163256</td>\n",
       "      <td>Islington</td>\n",
       "      <td>5.7</td>\n",
       "    </tr>\n",
       "    <tr>\n",
       "      <th>14</th>\n",
       "      <td>30.203241</td>\n",
       "      <td>86636</td>\n",
       "      <td>Kensington</td>\n",
       "      <td>14.4</td>\n",
       "    </tr>\n",
       "    <tr>\n",
       "      <th>15</th>\n",
       "      <td>28.224500</td>\n",
       "      <td>146891</td>\n",
       "      <td>Lambeth</td>\n",
       "      <td>6.3</td>\n",
       "    </tr>\n",
       "    <tr>\n",
       "      <th>16</th>\n",
       "      <td>28.081012</td>\n",
       "      <td>65867</td>\n",
       "      <td>Lewisham</td>\n",
       "      <td>6.4</td>\n",
       "    </tr>\n",
       "    <tr>\n",
       "      <th>19</th>\n",
       "      <td>30.031596</td>\n",
       "      <td>65547</td>\n",
       "      <td>Marylebone</td>\n",
       "      <td>23.2</td>\n",
       "    </tr>\n",
       "    <tr>\n",
       "      <th>17</th>\n",
       "      <td>29.661531</td>\n",
       "      <td>70092</td>\n",
       "      <td>Paddington</td>\n",
       "      <td>10.7</td>\n",
       "    </tr>\n",
       "    <tr>\n",
       "      <th>20</th>\n",
       "      <td>28.507575</td>\n",
       "      <td>114460</td>\n",
       "      <td>Pancras</td>\n",
       "      <td>8.7</td>\n",
       "    </tr>\n",
       "    <tr>\n",
       "      <th>18</th>\n",
       "      <td>26.447364</td>\n",
       "      <td>81911</td>\n",
       "      <td>Poplar</td>\n",
       "      <td>5.7</td>\n",
       "    </tr>\n",
       "    <tr>\n",
       "      <th>21</th>\n",
       "      <td>26.792105</td>\n",
       "      <td>57808</td>\n",
       "      <td>Shoreditch</td>\n",
       "      <td>8.2</td>\n",
       "    </tr>\n",
       "    <tr>\n",
       "      <th>22</th>\n",
       "      <td>26.959247</td>\n",
       "      <td>100239</td>\n",
       "      <td>Southwark</td>\n",
       "      <td>6.7</td>\n",
       "    </tr>\n",
       "    <tr>\n",
       "      <th>23</th>\n",
       "      <td>25.858003</td>\n",
       "      <td>28240</td>\n",
       "      <td>Stepney</td>\n",
       "      <td>6.5</td>\n",
       "    </tr>\n",
       "    <tr>\n",
       "      <th>25</th>\n",
       "      <td>27.465121</td>\n",
       "      <td>195749</td>\n",
       "      <td>Wandsworth</td>\n",
       "      <td>6.9</td>\n",
       "    </tr>\n",
       "    <tr>\n",
       "      <th>26</th>\n",
       "      <td>28.948076</td>\n",
       "      <td>16139</td>\n",
       "      <td>Westminster</td>\n",
       "      <td>57.2</td>\n",
       "    </tr>\n",
       "    <tr>\n",
       "      <th>27</th>\n",
       "      <td>26.366108</td>\n",
       "      <td>63626</td>\n",
       "      <td>Woolwich</td>\n",
       "      <td>6.6</td>\n",
       "    </tr>\n",
       "  </tbody>\n",
       "</table>\n",
       "</div>"
      ],
      "text/plain": [
       "          Age   index        borough  rateable_value_pc\n",
       "2   25.642209   62788  Bethnal Green                4.9\n",
       "3   27.311895  126286     Camberwell                5.2\n",
       "4   31.009385   36443        Chelsea               14.7\n",
       "7   27.181759  120924         Fulham                6.1\n",
       "8   26.912896   90375      Greenwich                7.6\n",
       "9   27.974470  131922        Hackney                5.7\n",
       "11  29.357228   40260      Hampstead               13.3\n",
       "12  27.150275   62532        Holborn               32.0\n",
       "13  28.205897  163256      Islington                5.7\n",
       "14  30.203241   86636     Kensington               14.4\n",
       "15  28.224500  146891        Lambeth                6.3\n",
       "16  28.081012   65867       Lewisham                6.4\n",
       "19  30.031596   65547     Marylebone               23.2\n",
       "17  29.661531   70092     Paddington               10.7\n",
       "20  28.507575  114460        Pancras                8.7\n",
       "18  26.447364   81911         Poplar                5.7\n",
       "21  26.792105   57808     Shoreditch                8.2\n",
       "22  26.959247  100239      Southwark                6.7\n",
       "23  25.858003   28240        Stepney                6.5\n",
       "25  27.465121  195749     Wandsworth                6.9\n",
       "26  28.948076   16139    Westminster               57.2\n",
       "27  26.366108   63626       Woolwich                6.6"
      ]
     },
     "execution_count": 59,
     "metadata": {},
     "output_type": "execute_result"
    }
   ],
   "source": [
    "data_merged = age_by_dist.merge(rv,left_index=True,right_on='borough')\n",
    "data_merged"
   ]
  },
  {
   "cell_type": "markdown",
   "metadata": {},
   "source": [
    "`.merge` is a very, very useful method to combine dataframes based on shared information. More precisely, a shared variable or columns. What we did in the previous code, was adding information from `rv` to `age_by_dist`. As we shown before, both share a columns that have similar values, namely place names in London. We use the values to combine dataframes, i.e. rows that have the value `Bethnal Green` in the `age_by_dist` dataframes will be joined by those\n",
    "\n",
    "Please notice that the name of the columns can be different but the values in the columns have to overlap.\n",
    "\n",
    "Below we show a simple toy example slight adapted from very thorough Pandas [documentation](https://pandas.pydata.org/docs/reference/api/pandas.merge.html).\n",
    "\n",
    "Imagine that I recorded the number of cats and dogs I spotted each day, but keep this information in two separate dataframes."
   ]
  },
  {
   "cell_type": "code",
   "execution_count": 69,
   "metadata": {},
   "outputs": [],
   "source": [
    "df1 = pd.DataFrame({'day': ['mon', 'tue', 'wed', 'thu'],\n",
    "                    'cats': [1, 2, 3, 5]})\n",
    "df2 = pd.DataFrame({'dayz': ['mon', 'tue', 'wed', 'thu'],\n",
    "                    'dogs': [5, 6, 7, 8]})"
   ]
  },
  {
   "cell_type": "code",
   "execution_count": 70,
   "metadata": {},
   "outputs": [
    {
     "data": {
      "text/html": [
       "<div>\n",
       "<style scoped>\n",
       "    .dataframe tbody tr th:only-of-type {\n",
       "        vertical-align: middle;\n",
       "    }\n",
       "\n",
       "    .dataframe tbody tr th {\n",
       "        vertical-align: top;\n",
       "    }\n",
       "\n",
       "    .dataframe thead th {\n",
       "        text-align: right;\n",
       "    }\n",
       "</style>\n",
       "<table border=\"1\" class=\"dataframe\">\n",
       "  <thead>\n",
       "    <tr style=\"text-align: right;\">\n",
       "      <th></th>\n",
       "      <th>day</th>\n",
       "      <th>cats</th>\n",
       "    </tr>\n",
       "  </thead>\n",
       "  <tbody>\n",
       "    <tr>\n",
       "      <th>0</th>\n",
       "      <td>mon</td>\n",
       "      <td>1</td>\n",
       "    </tr>\n",
       "    <tr>\n",
       "      <th>1</th>\n",
       "      <td>tue</td>\n",
       "      <td>2</td>\n",
       "    </tr>\n",
       "    <tr>\n",
       "      <th>2</th>\n",
       "      <td>wed</td>\n",
       "      <td>3</td>\n",
       "    </tr>\n",
       "    <tr>\n",
       "      <th>3</th>\n",
       "      <td>thu</td>\n",
       "      <td>5</td>\n",
       "    </tr>\n",
       "  </tbody>\n",
       "</table>\n",
       "</div>"
      ],
      "text/plain": [
       "   day  cats\n",
       "0  mon     1\n",
       "1  tue     2\n",
       "2  wed     3\n",
       "3  thu     5"
      ]
     },
     "execution_count": 70,
     "metadata": {},
     "output_type": "execute_result"
    }
   ],
   "source": [
    "df1"
   ]
  },
  {
   "cell_type": "code",
   "execution_count": 71,
   "metadata": {},
   "outputs": [
    {
     "data": {
      "text/html": [
       "<div>\n",
       "<style scoped>\n",
       "    .dataframe tbody tr th:only-of-type {\n",
       "        vertical-align: middle;\n",
       "    }\n",
       "\n",
       "    .dataframe tbody tr th {\n",
       "        vertical-align: top;\n",
       "    }\n",
       "\n",
       "    .dataframe thead th {\n",
       "        text-align: right;\n",
       "    }\n",
       "</style>\n",
       "<table border=\"1\" class=\"dataframe\">\n",
       "  <thead>\n",
       "    <tr style=\"text-align: right;\">\n",
       "      <th></th>\n",
       "      <th>dayz</th>\n",
       "      <th>dogs</th>\n",
       "    </tr>\n",
       "  </thead>\n",
       "  <tbody>\n",
       "    <tr>\n",
       "      <th>0</th>\n",
       "      <td>mon</td>\n",
       "      <td>5</td>\n",
       "    </tr>\n",
       "    <tr>\n",
       "      <th>1</th>\n",
       "      <td>tue</td>\n",
       "      <td>6</td>\n",
       "    </tr>\n",
       "    <tr>\n",
       "      <th>2</th>\n",
       "      <td>wed</td>\n",
       "      <td>7</td>\n",
       "    </tr>\n",
       "    <tr>\n",
       "      <th>3</th>\n",
       "      <td>thu</td>\n",
       "      <td>8</td>\n",
       "    </tr>\n",
       "  </tbody>\n",
       "</table>\n",
       "</div>"
      ],
      "text/plain": [
       "  dayz  dogs\n",
       "0  mon     5\n",
       "1  tue     6\n",
       "2  wed     7\n",
       "3  thu     8"
      ]
     },
     "execution_count": 71,
     "metadata": {},
     "output_type": "execute_result"
    }
   ],
   "source": [
    "df2"
   ]
  },
  {
   "cell_type": "markdown",
   "metadata": {},
   "source": [
    "As you notice both dataframes have a column that records that day of the week, even though the column name slightly differz. We can combine these dataframes into one with `left_df.merge(right_df)` method. This method is apply to a dataframe at the left hand side (before the dot) and one at the right hand side passed as an argument to the method.\n",
    "\n",
    "To merge properly, we have to instruct Pandas by telling which columns we want to use for combining information. `left_on` indicates the column name we use in the dataframe at the left hand side of the `.merge()` method."
   ]
  },
  {
   "cell_type": "code",
   "execution_count": 73,
   "metadata": {},
   "outputs": [
    {
     "data": {
      "text/html": [
       "<div>\n",
       "<style scoped>\n",
       "    .dataframe tbody tr th:only-of-type {\n",
       "        vertical-align: middle;\n",
       "    }\n",
       "\n",
       "    .dataframe tbody tr th {\n",
       "        vertical-align: top;\n",
       "    }\n",
       "\n",
       "    .dataframe thead th {\n",
       "        text-align: right;\n",
       "    }\n",
       "</style>\n",
       "<table border=\"1\" class=\"dataframe\">\n",
       "  <thead>\n",
       "    <tr style=\"text-align: right;\">\n",
       "      <th></th>\n",
       "      <th>day</th>\n",
       "      <th>cats</th>\n",
       "      <th>dayz</th>\n",
       "      <th>dogs</th>\n",
       "    </tr>\n",
       "  </thead>\n",
       "  <tbody>\n",
       "    <tr>\n",
       "      <th>0</th>\n",
       "      <td>mon</td>\n",
       "      <td>1</td>\n",
       "      <td>mon</td>\n",
       "      <td>5</td>\n",
       "    </tr>\n",
       "    <tr>\n",
       "      <th>1</th>\n",
       "      <td>tue</td>\n",
       "      <td>2</td>\n",
       "      <td>tue</td>\n",
       "      <td>6</td>\n",
       "    </tr>\n",
       "    <tr>\n",
       "      <th>2</th>\n",
       "      <td>wed</td>\n",
       "      <td>3</td>\n",
       "      <td>wed</td>\n",
       "      <td>7</td>\n",
       "    </tr>\n",
       "    <tr>\n",
       "      <th>3</th>\n",
       "      <td>thu</td>\n",
       "      <td>5</td>\n",
       "      <td>thu</td>\n",
       "      <td>8</td>\n",
       "    </tr>\n",
       "  </tbody>\n",
       "</table>\n",
       "</div>"
      ],
      "text/plain": [
       "   day  cats dayz  dogs\n",
       "0  mon     1  mon     5\n",
       "1  tue     2  tue     6\n",
       "2  wed     3  wed     7\n",
       "3  thu     5  thu     8"
      ]
     },
     "execution_count": 73,
     "metadata": {},
     "output_type": "execute_result"
    }
   ],
   "source": [
    "df1.merge(df2, left_on='day', right_on='dayz')"
   ]
  },
  {
   "cell_type": "markdown",
   "metadata": {},
   "source": [
    "Sometimes we want merge using the index of a dataframe instead of a column. In this case we use the argument `left_index` (or `right_index`) and takes a boolean (`True` or `False` as value).\n",
    "\n",
    "To revisit a previous line of code, which should be more understable at this point: the line below merges `age_by_dist` (left) with `rv`. For the left dataframe we use the index (`left_index=True`), for the right one a column named `'borough'` (`right_on='borough'`)."
   ]
  },
  {
   "cell_type": "code",
   "execution_count": 74,
   "metadata": {},
   "outputs": [
    {
     "data": {
      "text/html": [
       "<div>\n",
       "<style scoped>\n",
       "    .dataframe tbody tr th:only-of-type {\n",
       "        vertical-align: middle;\n",
       "    }\n",
       "\n",
       "    .dataframe tbody tr th {\n",
       "        vertical-align: top;\n",
       "    }\n",
       "\n",
       "    .dataframe thead th {\n",
       "        text-align: right;\n",
       "    }\n",
       "</style>\n",
       "<table border=\"1\" class=\"dataframe\">\n",
       "  <thead>\n",
       "    <tr style=\"text-align: right;\">\n",
       "      <th></th>\n",
       "      <th>Age</th>\n",
       "      <th>index</th>\n",
       "      <th>borough</th>\n",
       "      <th>rateable_value_pc</th>\n",
       "    </tr>\n",
       "  </thead>\n",
       "  <tbody>\n",
       "    <tr>\n",
       "      <th>2</th>\n",
       "      <td>25.642209</td>\n",
       "      <td>62788</td>\n",
       "      <td>Bethnal Green</td>\n",
       "      <td>4.9</td>\n",
       "    </tr>\n",
       "    <tr>\n",
       "      <th>3</th>\n",
       "      <td>27.311895</td>\n",
       "      <td>126286</td>\n",
       "      <td>Camberwell</td>\n",
       "      <td>5.2</td>\n",
       "    </tr>\n",
       "    <tr>\n",
       "      <th>4</th>\n",
       "      <td>31.009385</td>\n",
       "      <td>36443</td>\n",
       "      <td>Chelsea</td>\n",
       "      <td>14.7</td>\n",
       "    </tr>\n",
       "    <tr>\n",
       "      <th>7</th>\n",
       "      <td>27.181759</td>\n",
       "      <td>120924</td>\n",
       "      <td>Fulham</td>\n",
       "      <td>6.1</td>\n",
       "    </tr>\n",
       "    <tr>\n",
       "      <th>8</th>\n",
       "      <td>26.912896</td>\n",
       "      <td>90375</td>\n",
       "      <td>Greenwich</td>\n",
       "      <td>7.6</td>\n",
       "    </tr>\n",
       "    <tr>\n",
       "      <th>9</th>\n",
       "      <td>27.974470</td>\n",
       "      <td>131922</td>\n",
       "      <td>Hackney</td>\n",
       "      <td>5.7</td>\n",
       "    </tr>\n",
       "    <tr>\n",
       "      <th>11</th>\n",
       "      <td>29.357228</td>\n",
       "      <td>40260</td>\n",
       "      <td>Hampstead</td>\n",
       "      <td>13.3</td>\n",
       "    </tr>\n",
       "    <tr>\n",
       "      <th>12</th>\n",
       "      <td>27.150275</td>\n",
       "      <td>62532</td>\n",
       "      <td>Holborn</td>\n",
       "      <td>32.0</td>\n",
       "    </tr>\n",
       "    <tr>\n",
       "      <th>13</th>\n",
       "      <td>28.205897</td>\n",
       "      <td>163256</td>\n",
       "      <td>Islington</td>\n",
       "      <td>5.7</td>\n",
       "    </tr>\n",
       "    <tr>\n",
       "      <th>14</th>\n",
       "      <td>30.203241</td>\n",
       "      <td>86636</td>\n",
       "      <td>Kensington</td>\n",
       "      <td>14.4</td>\n",
       "    </tr>\n",
       "    <tr>\n",
       "      <th>15</th>\n",
       "      <td>28.224500</td>\n",
       "      <td>146891</td>\n",
       "      <td>Lambeth</td>\n",
       "      <td>6.3</td>\n",
       "    </tr>\n",
       "    <tr>\n",
       "      <th>16</th>\n",
       "      <td>28.081012</td>\n",
       "      <td>65867</td>\n",
       "      <td>Lewisham</td>\n",
       "      <td>6.4</td>\n",
       "    </tr>\n",
       "    <tr>\n",
       "      <th>19</th>\n",
       "      <td>30.031596</td>\n",
       "      <td>65547</td>\n",
       "      <td>Marylebone</td>\n",
       "      <td>23.2</td>\n",
       "    </tr>\n",
       "    <tr>\n",
       "      <th>17</th>\n",
       "      <td>29.661531</td>\n",
       "      <td>70092</td>\n",
       "      <td>Paddington</td>\n",
       "      <td>10.7</td>\n",
       "    </tr>\n",
       "    <tr>\n",
       "      <th>20</th>\n",
       "      <td>28.507575</td>\n",
       "      <td>114460</td>\n",
       "      <td>Pancras</td>\n",
       "      <td>8.7</td>\n",
       "    </tr>\n",
       "    <tr>\n",
       "      <th>18</th>\n",
       "      <td>26.447364</td>\n",
       "      <td>81911</td>\n",
       "      <td>Poplar</td>\n",
       "      <td>5.7</td>\n",
       "    </tr>\n",
       "    <tr>\n",
       "      <th>21</th>\n",
       "      <td>26.792105</td>\n",
       "      <td>57808</td>\n",
       "      <td>Shoreditch</td>\n",
       "      <td>8.2</td>\n",
       "    </tr>\n",
       "    <tr>\n",
       "      <th>22</th>\n",
       "      <td>26.959247</td>\n",
       "      <td>100239</td>\n",
       "      <td>Southwark</td>\n",
       "      <td>6.7</td>\n",
       "    </tr>\n",
       "    <tr>\n",
       "      <th>23</th>\n",
       "      <td>25.858003</td>\n",
       "      <td>28240</td>\n",
       "      <td>Stepney</td>\n",
       "      <td>6.5</td>\n",
       "    </tr>\n",
       "    <tr>\n",
       "      <th>25</th>\n",
       "      <td>27.465121</td>\n",
       "      <td>195749</td>\n",
       "      <td>Wandsworth</td>\n",
       "      <td>6.9</td>\n",
       "    </tr>\n",
       "    <tr>\n",
       "      <th>26</th>\n",
       "      <td>28.948076</td>\n",
       "      <td>16139</td>\n",
       "      <td>Westminster</td>\n",
       "      <td>57.2</td>\n",
       "    </tr>\n",
       "    <tr>\n",
       "      <th>27</th>\n",
       "      <td>26.366108</td>\n",
       "      <td>63626</td>\n",
       "      <td>Woolwich</td>\n",
       "      <td>6.6</td>\n",
       "    </tr>\n",
       "  </tbody>\n",
       "</table>\n",
       "</div>"
      ],
      "text/plain": [
       "          Age   index        borough  rateable_value_pc\n",
       "2   25.642209   62788  Bethnal Green                4.9\n",
       "3   27.311895  126286     Camberwell                5.2\n",
       "4   31.009385   36443        Chelsea               14.7\n",
       "7   27.181759  120924         Fulham                6.1\n",
       "8   26.912896   90375      Greenwich                7.6\n",
       "9   27.974470  131922        Hackney                5.7\n",
       "11  29.357228   40260      Hampstead               13.3\n",
       "12  27.150275   62532        Holborn               32.0\n",
       "13  28.205897  163256      Islington                5.7\n",
       "14  30.203241   86636     Kensington               14.4\n",
       "15  28.224500  146891        Lambeth                6.3\n",
       "16  28.081012   65867       Lewisham                6.4\n",
       "19  30.031596   65547     Marylebone               23.2\n",
       "17  29.661531   70092     Paddington               10.7\n",
       "20  28.507575  114460        Pancras                8.7\n",
       "18  26.447364   81911         Poplar                5.7\n",
       "21  26.792105   57808     Shoreditch                8.2\n",
       "22  26.959247  100239      Southwark                6.7\n",
       "23  25.858003   28240        Stepney                6.5\n",
       "25  27.465121  195749     Wandsworth                6.9\n",
       "26  28.948076   16139    Westminster               57.2\n",
       "27  26.366108   63626       Woolwich                6.6"
      ]
     },
     "execution_count": 74,
     "metadata": {},
     "output_type": "execute_result"
    }
   ],
   "source": [
    "data_merged = age_by_dist.merge(rv,left_index=True,right_on='borough')\n",
    "data_merged"
   ]
  },
  {
   "cell_type": "markdown",
   "metadata": {},
   "source": [
    "## Correlation"
   ]
  },
  {
   "cell_type": "markdown",
   "metadata": {},
   "source": [
    "Having combined information from these dataframes, we can explore the relation between variables. Let's start with the most the most obvious point: correlation. \n",
    "\n",
    "Correlation tells us the extent to which two variables are related. **[explain correlation]**"
   ]
  },
  {
   "cell_type": "code",
   "execution_count": 151,
   "metadata": {},
   "outputs": [],
   "source": [
    "v1 = [1,3,5,7,2,6]\n",
    "v2 = [2,4,8,7,3,5]"
   ]
  },
  {
   "cell_type": "code",
   "execution_count": 165,
   "metadata": {},
   "outputs": [
    {
     "data": {
      "text/plain": [
       "<matplotlib.axes._subplots.AxesSubplot at 0x1307334d0>"
      ]
     },
     "execution_count": 165,
     "metadata": {},
     "output_type": "execute_result"
    },
    {
     "data": {
      "image/png": "[encoded data removed]",
      "text/plain": [
       "<Figure size 432x288 with 1 Axes>"
      ]
     },
     "metadata": {},
     "output_type": "display_data"
    }
   ],
   "source": [
    "sns.scatterplot(x=[1,3,5,7,2,6],y=[2,4,8,7,3,5])"
   ]
  },
  {
   "cell_type": "code",
   "execution_count": 152,
   "metadata": {},
   "outputs": [
    {
     "data": {
      "text/plain": [
       "[(1, 2), (3, 4), (5, 8), (7, 7), (2, 3), (6, 5)]"
      ]
     },
     "execution_count": 152,
     "metadata": {},
     "output_type": "execute_result"
    }
   ],
   "source": [
    "list(zip(v1,v2))"
   ]
  },
  {
   "cell_type": "code",
   "execution_count": 153,
   "metadata": {},
   "outputs": [],
   "source": [
    "mean_v1 = np.mean(v1)\n",
    "mean_v2 = np.mean(v2)"
   ]
  },
  {
   "cell_type": "code",
   "execution_count": 154,
   "metadata": {},
   "outputs": [],
   "source": [
    "nom = np.sum([(i1 - mean_v1)*(i2 - mean_v2) for i1,i2 in zip(v1,v2)])"
   ]
  },
  {
   "cell_type": "code",
   "execution_count": 155,
   "metadata": {},
   "outputs": [],
   "source": [
    "denom = np.std(v1) * np.std(v2)*(len(v1))"
   ]
  },
  {
   "cell_type": "code",
   "execution_count": 156,
   "metadata": {},
   "outputs": [
    {
     "data": {
      "text/plain": [
       "0.8390957231764806"
      ]
     },
     "execution_count": 156,
     "metadata": {},
     "output_type": "execute_result"
    }
   ],
   "source": [
    "nom / denom"
   ]
  },
  {
   "cell_type": "code",
   "execution_count": 157,
   "metadata": {},
   "outputs": [
    {
     "data": {
      "text/plain": [
       "0.8390957231764807"
      ]
     },
     "execution_count": 157,
     "metadata": {},
     "output_type": "execute_result"
    }
   ],
   "source": [
    "pd.Series(v1).corr(pd.Series(v2))"
   ]
  },
  {
   "cell_type": "code",
   "execution_count": 158,
   "metadata": {},
   "outputs": [
    {
     "data": {
      "text/plain": [
       "[1, 3, 4, 6, 2, 5]"
      ]
     },
     "execution_count": 158,
     "metadata": {},
     "output_type": "execute_result"
    }
   ],
   "source": [
    "v1_ranked = {v:i+1 for i,v in enumerate(sorted(v1))}\n",
    "v1_rank = [v1_ranked[i] for i in v1]\n",
    "v1_rank"
   ]
  },
  {
   "cell_type": "code",
   "execution_count": 159,
   "metadata": {},
   "outputs": [
    {
     "data": {
      "text/plain": [
       "[1, 3, 6, 5, 2, 4]"
      ]
     },
     "execution_count": 159,
     "metadata": {},
     "output_type": "execute_result"
    }
   ],
   "source": [
    "v2_ranked = {v:i+1 for i,v in enumerate(sorted(v2))}\n",
    "v2_rank = [v2_ranked[i] for i in v2]\n",
    "v2_rank"
   ]
  },
  {
   "cell_type": "code",
   "execution_count": 160,
   "metadata": {},
   "outputs": [],
   "source": [
    "mean_v1 = np.mean(v1_rank)\n",
    "mean_v2 = np.mean(v2_rank)"
   ]
  },
  {
   "cell_type": "code",
   "execution_count": 161,
   "metadata": {},
   "outputs": [],
   "source": [
    "nom = np.sum([(i1 - mean_v1)*(i2 - mean_v2) for i1,i2 in zip(v1_rank,v2_rank)])"
   ]
  },
  {
   "cell_type": "code",
   "execution_count": 162,
   "metadata": {},
   "outputs": [],
   "source": [
    "denom = np.std(v1_rank) * np.std(v2_rank) * len(v2_rank)"
   ]
  },
  {
   "cell_type": "code",
   "execution_count": 163,
   "metadata": {},
   "outputs": [
    {
     "data": {
      "text/plain": [
       "0.8285714285714286"
      ]
     },
     "execution_count": 163,
     "metadata": {},
     "output_type": "execute_result"
    }
   ],
   "source": [
    "nom/denom"
   ]
  },
  {
   "cell_type": "code",
   "execution_count": 169,
   "metadata": {},
   "outputs": [
    {
     "data": {
      "text/plain": [
       "<matplotlib.axes._subplots.AxesSubplot at 0x13012d590>"
      ]
     },
     "execution_count": 169,
     "metadata": {},
     "output_type": "execute_result"
    },
    {
     "data": {
      "image/png": "[encoded data removed]",
      "text/plain": [
       "<Figure size 432x288 with 1 Axes>"
      ]
     },
     "metadata": {},
     "output_type": "display_data"
    }
   ],
   "source": [
    "sns.scatterplot(x='rateable_value_pc',y='Age',data=data_merged)"
   ]
  },
  {
   "cell_type": "code",
   "execution_count": 164,
   "metadata": {},
   "outputs": [
    {
     "data": {
      "text/plain": [
       "0.8285714285714287"
      ]
     },
     "execution_count": 164,
     "metadata": {},
     "output_type": "execute_result"
    }
   ],
   "source": [
    "pd.Series(v1).corr(pd.Series(v2),method='spearman')"
   ]
  },
  {
   "cell_type": "code",
   "execution_count": 166,
   "metadata": {},
   "outputs": [
    {
     "data": {
      "text/plain": [
       "0.3543273581913075"
      ]
     },
     "execution_count": 166,
     "metadata": {},
     "output_type": "execute_result"
    }
   ],
   "source": [
    "data_merged['rateable_value_pc'].corr(merged['Age'],method='pearson')"
   ]
  },
  {
   "cell_type": "code",
   "execution_count": 167,
   "metadata": {},
   "outputs": [
    {
     "data": {
      "text/plain": [
       "0.5511591990565328"
      ]
     },
     "execution_count": 167,
     "metadata": {},
     "output_type": "execute_result"
    }
   ],
   "source": [
    "data_merged['rateable_value_pc'].corr(merged['Age'],method='spearman')"
   ]
  },
  {
   "cell_type": "code",
   "execution_count": 171,
   "metadata": {},
   "outputs": [],
   "source": [
    "data_merged['rvc_log'] = np.log(data_merged['rateable_value_pc'])"
   ]
  },
  {
   "cell_type": "code",
   "execution_count": 172,
   "metadata": {},
   "outputs": [
    {
     "data": {
      "text/plain": [
       "<matplotlib.axes._subplots.AxesSubplot at 0x12ff9dc50>"
      ]
     },
     "execution_count": 172,
     "metadata": {},
     "output_type": "execute_result"
    },
    {
     "data": {
      "image/png": "[encoded data removed]",
      "text/plain": [
       "<Figure size 432x288 with 1 Axes>"
      ]
     },
     "metadata": {},
     "output_type": "display_data"
    }
   ],
   "source": [
    "sns.scatterplot(x='rvc_log',y='Age',data=data_merged)"
   ]
  },
  {
   "cell_type": "code",
   "execution_count": 173,
   "metadata": {},
   "outputs": [
    {
     "data": {
      "text/plain": [
       "0.5353983955320823"
      ]
     },
     "execution_count": 173,
     "metadata": {},
     "output_type": "execute_result"
    }
   ],
   "source": [
    "data_merged['rvc_log'].corr(merged['Age'],method='pearson')"
   ]
  },
  {
   "cell_type": "code",
   "execution_count": 174,
   "metadata": {},
   "outputs": [
    {
     "data": {
      "text/plain": [
       "0.8055989190525027"
      ]
     },
     "execution_count": 174,
     "metadata": {},
     "output_type": "execute_result"
    }
   ],
   "source": [
    "wo_outliers = data_merged[~data_merged.borough.isin(['Westminster',\"Holborn\"])]\n",
    "wo_outliers['rvc_log'].corr(wo_outliers['Age'])"
   ]
  },
  {
   "cell_type": "code",
   "execution_count": 175,
   "metadata": {},
   "outputs": [
    {
     "data": {
      "text/plain": [
       "<matplotlib.axes._subplots.AxesSubplot at 0x12f808610>"
      ]
     },
     "execution_count": 175,
     "metadata": {},
     "output_type": "execute_result"
    },
    {
     "data": {
      "image/png": "[encoded data removed]",
      "text/plain": [
       "<Figure size 432x288 with 1 Axes>"
      ]
     },
     "metadata": {},
     "output_type": "display_data"
    }
   ],
   "source": [
    "sns.scatterplot(x='rvc_log',y='Age',data=wo_outliers)"
   ]
  },
  {
   "cell_type": "markdown",
   "metadata": {},
   "source": [
    "## Regression\n",
    "\n",
    "If correlation is not causation, than what is?\n",
    "\n",
    "Causal if intervening on one variable will predict changes behaviour in another."
   ]
  },
  {
   "cell_type": "code",
   "execution_count": 178,
   "metadata": {},
   "outputs": [
    {
     "data": {
      "text/plain": [
       "<matplotlib.axes._subplots.AxesSubplot at 0x1301a1290>"
      ]
     },
     "execution_count": 178,
     "metadata": {},
     "output_type": "execute_result"
    },
    {
     "data": {
      "image/png": "[encoded data removed]",
      "text/plain": [
       "<Figure size 432x288 with 1 Axes>"
      ]
     },
     "metadata": {},
     "output_type": "display_data"
    }
   ],
   "source": [
    "sns.regplot(x=\"rvc_log\", y=\"Age\", data=data_merged,\n",
    "                 scatter_kws={\"s\": 80},\n",
    "                 order=1,ci=False)\n",
    "\n",
    "sns.regplot(x=\"rvc_log\", y=\"Age\", data=wo_outliers,\n",
    "                 scatter_kws={\"s\": 80},\n",
    "                 order=1,ci=False)"
   ]
  },
  {
   "cell_type": "code",
   "execution_count": null,
   "metadata": {},
   "outputs": [],
   "source": [
    "sns.regplot(x=\"rvc_log\", y=\"Age\", data=data_merged,\n",
    "                 scatter_kws={\"s\": 80},\n",
    "                 order=1,ci=False)"
   ]
  },
  {
   "cell_type": "code",
   "execution_count": null,
   "metadata": {},
   "outputs": [],
   "source": [
    "sns.regplot(x=\"rvc_log\", y=\"Age\", data=wo_outliers,\n",
    "                 scatter_kws={\"s\": 80},\n",
    "                 order=1,ci=False)"
   ]
  },
  {
   "cell_type": "code",
   "execution_count": null,
   "metadata": {},
   "outputs": [],
   "source": [
    "sns.regplot(x=\"rvc_log\", y=\"Age\", data=data_merged,\n",
    "                 scatter_kws={\"s\": 80},\n",
    "                 order=2, ci=False)"
   ]
  },
  {
   "cell_type": "code",
   "execution_count": 179,
   "metadata": {},
   "outputs": [
    {
     "name": "stderr",
     "output_type": "stream",
     "text": [
      "/usr/local/lib/python3.7/site-packages/statsmodels/tsa/tsatools.py:117: FutureWarning: In a future version of pandas all arguments of concat except for the argument 'objs' will be keyword-only\n",
      "  x = pd.concat(x[::order], 1)\n"
     ]
    }
   ],
   "source": [
    "Y = data_merged['Age']\n",
    "X = data_merged['rvc_log']\n",
    "X = sm.add_constant(X)\n",
    "model = sm.OLS(Y,X)\n",
    "results = model.fit()"
   ]
  },
  {
   "cell_type": "code",
   "execution_count": 180,
   "metadata": {},
   "outputs": [
    {
     "data": {
      "text/html": [
       "<table class=\"simpletable\">\n",
       "<caption>OLS Regression Results</caption>\n",
       "<tr>\n",
       "  <th>Dep. Variable:</th>           <td>Age</td>       <th>  R-squared:         </th> <td>   0.287</td>\n",
       "</tr>\n",
       "<tr>\n",
       "  <th>Model:</th>                   <td>OLS</td>       <th>  Adj. R-squared:    </th> <td>   0.251</td>\n",
       "</tr>\n",
       "<tr>\n",
       "  <th>Method:</th>             <td>Least Squares</td>  <th>  F-statistic:       </th> <td>   8.037</td>\n",
       "</tr>\n",
       "<tr>\n",
       "  <th>Date:</th>             <td>Mon, 17 Jan 2022</td> <th>  Prob (F-statistic):</th>  <td>0.0102</td> \n",
       "</tr>\n",
       "<tr>\n",
       "  <th>Time:</th>                 <td>22:20:24</td>     <th>  Log-Likelihood:    </th> <td> -35.340</td>\n",
       "</tr>\n",
       "<tr>\n",
       "  <th>No. Observations:</th>      <td>    22</td>      <th>  AIC:               </th> <td>   74.68</td>\n",
       "</tr>\n",
       "<tr>\n",
       "  <th>Df Residuals:</th>          <td>    20</td>      <th>  BIC:               </th> <td>   76.86</td>\n",
       "</tr>\n",
       "<tr>\n",
       "  <th>Df Model:</th>              <td>     1</td>      <th>                     </th>     <td> </td>   \n",
       "</tr>\n",
       "<tr>\n",
       "  <th>Covariance Type:</th>      <td>nonrobust</td>    <th>                     </th>     <td> </td>   \n",
       "</tr>\n",
       "</table>\n",
       "<table class=\"simpletable\">\n",
       "<tr>\n",
       "     <td></td>        <th>coef</th>     <th>std err</th>      <th>t</th>      <th>P>|t|</th>  <th>[0.025</th>    <th>0.975]</th>  \n",
       "</tr>\n",
       "<tr>\n",
       "  <th>const</th>   <td>   25.2161</td> <td>    0.992</td> <td>   25.420</td> <td> 0.000</td> <td>   23.147</td> <td>   27.285</td>\n",
       "</tr>\n",
       "<tr>\n",
       "  <th>rvc_log</th> <td>    1.2195</td> <td>    0.430</td> <td>    2.835</td> <td> 0.010</td> <td>    0.322</td> <td>    2.117</td>\n",
       "</tr>\n",
       "</table>\n",
       "<table class=\"simpletable\">\n",
       "<tr>\n",
       "  <th>Omnibus:</th>       <td> 0.454</td> <th>  Durbin-Watson:     </th> <td>   1.545</td>\n",
       "</tr>\n",
       "<tr>\n",
       "  <th>Prob(Omnibus):</th> <td> 0.797</td> <th>  Jarque-Bera (JB):  </th> <td>   0.557</td>\n",
       "</tr>\n",
       "<tr>\n",
       "  <th>Skew:</th>          <td> 0.081</td> <th>  Prob(JB):          </th> <td>   0.757</td>\n",
       "</tr>\n",
       "<tr>\n",
       "  <th>Kurtosis:</th>      <td> 2.238</td> <th>  Cond. No.          </th> <td>    9.98</td>\n",
       "</tr>\n",
       "</table><br/><br/>Warnings:<br/>[1] Standard Errors assume that the covariance matrix of the errors is correctly specified."
      ],
      "text/plain": [
       "<class 'statsmodels.iolib.summary.Summary'>\n",
       "\"\"\"\n",
       "                            OLS Regression Results                            \n",
       "==============================================================================\n",
       "Dep. Variable:                    Age   R-squared:                       0.287\n",
       "Model:                            OLS   Adj. R-squared:                  0.251\n",
       "Method:                 Least Squares   F-statistic:                     8.037\n",
       "Date:                Mon, 17 Jan 2022   Prob (F-statistic):             0.0102\n",
       "Time:                        22:20:24   Log-Likelihood:                -35.340\n",
       "No. Observations:                  22   AIC:                             74.68\n",
       "Df Residuals:                      20   BIC:                             76.86\n",
       "Df Model:                           1                                         \n",
       "Covariance Type:            nonrobust                                         \n",
       "==============================================================================\n",
       "                 coef    std err          t      P>|t|      [0.025      0.975]\n",
       "------------------------------------------------------------------------------\n",
       "const         25.2161      0.992     25.420      0.000      23.147      27.285\n",
       "rvc_log        1.2195      0.430      2.835      0.010       0.322       2.117\n",
       "==============================================================================\n",
       "Omnibus:                        0.454   Durbin-Watson:                   1.545\n",
       "Prob(Omnibus):                  0.797   Jarque-Bera (JB):                0.557\n",
       "Skew:                           0.081   Prob(JB):                        0.757\n",
       "Kurtosis:                       2.238   Cond. No.                         9.98\n",
       "==============================================================================\n",
       "\n",
       "Warnings:\n",
       "[1] Standard Errors assume that the covariance matrix of the errors is correctly specified.\n",
       "\"\"\""
      ]
     },
     "execution_count": 180,
     "metadata": {},
     "output_type": "execute_result"
    }
   ],
   "source": [
    "results.summary()"
   ]
  },
  {
   "cell_type": "code",
   "execution_count": 181,
   "metadata": {},
   "outputs": [
    {
     "data": {
      "text/plain": [
       "const      25.216130\n",
       "rvc_log     1.219462\n",
       "dtype: float64"
      ]
     },
     "execution_count": 181,
     "metadata": {},
     "output_type": "execute_result"
    }
   ],
   "source": [
    "results.params"
   ]
  },
  {
   "cell_type": "code",
   "execution_count": 228,
   "metadata": {},
   "outputs": [
    {
     "name": "stderr",
     "output_type": "stream",
     "text": [
      "/usr/local/lib/python3.7/site-packages/matplotlib/cbook/__init__.py:1402: FutureWarning: Support for multi-dimensional indexing (e.g. `obj[:, None]`) is deprecated and will be removed in a future version.  Convert to a numpy array before indexing instead.\n",
      "  x[:, None]\n",
      "/usr/local/lib/python3.7/site-packages/matplotlib/axes/_base.py:276: FutureWarning: Support for multi-dimensional indexing (e.g. `obj[:, None]`) is deprecated and will be removed in a future version.  Convert to a numpy array before indexing instead.\n",
      "  x = x[:, np.newaxis]\n",
      "/usr/local/lib/python3.7/site-packages/matplotlib/axes/_base.py:278: FutureWarning: Support for multi-dimensional indexing (e.g. `obj[:, None]`) is deprecated and will be removed in a future version.  Convert to a numpy array before indexing instead.\n",
      "  y = y[:, np.newaxis]\n"
     ]
    },
    {
     "data": {
      "text/plain": [
       "[<matplotlib.lines.Line2D at 0x1314c2290>]"
      ]
     },
     "execution_count": 228,
     "metadata": {},
     "output_type": "execute_result"
    },
    {
     "data": {
      "image/png": "[encoded data removed]",
      "text/plain": [
       "<Figure size 360x360 with 1 Axes>"
      ]
     },
     "metadata": {},
     "output_type": "display_data"
    }
   ],
   "source": [
    "import matplotlib.pyplot as plt\n",
    "fig, ax = plt.subplots(figsize=(5, 5))\n",
    "ax.scatter('rvc_log', 'Age',data=data_merged)\n",
    "ax.plot(data_merged['rvc_log'], 25.216130 + (data_merged['rvc_log']*1.219462) , '-g')\n",
    "#ax.avline(x = df_wh_F['Age'].mean() - df_wh_M['Age'].mean(), color='black', lw=2)"
   ]
  },
  {
   "cell_type": "code",
   "execution_count": 266,
   "metadata": {},
   "outputs": [],
   "source": [
    "Y = wo_outliers['Age']\n",
    "X = wo_outliers['rvc_log']\n",
    "X = sm.add_constant(X)\n",
    "model = sm.OLS(Y,X)\n",
    "results = model.fit()"
   ]
  },
  {
   "cell_type": "code",
   "execution_count": 270,
   "metadata": {},
   "outputs": [
    {
     "data": {
      "text/html": [
       "<table class=\"simpletable\">\n",
       "<caption>OLS Regression Results</caption>\n",
       "<tr>\n",
       "  <th>Dep. Variable:</th>           <td>Age</td>       <th>  R-squared:         </th> <td>   0.649</td>\n",
       "</tr>\n",
       "<tr>\n",
       "  <th>Model:</th>                   <td>OLS</td>       <th>  Adj. R-squared:    </th> <td>   0.629</td>\n",
       "</tr>\n",
       "<tr>\n",
       "  <th>Method:</th>             <td>Least Squares</td>  <th>  F-statistic:       </th> <td>   33.28</td>\n",
       "</tr>\n",
       "<tr>\n",
       "  <th>Date:</th>             <td>Mon, 17 Jan 2022</td> <th>  Prob (F-statistic):</th> <td>1.82e-05</td>\n",
       "</tr>\n",
       "<tr>\n",
       "  <th>Time:</th>                 <td>22:54:00</td>     <th>  Log-Likelihood:    </th> <td> -25.614</td>\n",
       "</tr>\n",
       "<tr>\n",
       "  <th>No. Observations:</th>      <td>    20</td>      <th>  AIC:               </th> <td>   55.23</td>\n",
       "</tr>\n",
       "<tr>\n",
       "  <th>Df Residuals:</th>          <td>    18</td>      <th>  BIC:               </th> <td>   57.22</td>\n",
       "</tr>\n",
       "<tr>\n",
       "  <th>Df Model:</th>              <td>     1</td>      <th>                     </th>     <td> </td>   \n",
       "</tr>\n",
       "<tr>\n",
       "  <th>Covariance Type:</th>      <td>nonrobust</td>    <th>                     </th>     <td> </td>   \n",
       "</tr>\n",
       "</table>\n",
       "<table class=\"simpletable\">\n",
       "<tr>\n",
       "     <td></td>        <th>coef</th>     <th>std err</th>      <th>t</th>      <th>P>|t|</th>  <th>[0.025</th>    <th>0.975]</th>  \n",
       "</tr>\n",
       "<tr>\n",
       "  <th>const</th>   <td>   21.8726</td> <td>    1.066</td> <td>   20.510</td> <td> 0.000</td> <td>   19.632</td> <td>   24.113</td>\n",
       "</tr>\n",
       "<tr>\n",
       "  <th>rvc_log</th> <td>    2.9228</td> <td>    0.507</td> <td>    5.769</td> <td> 0.000</td> <td>    1.858</td> <td>    3.987</td>\n",
       "</tr>\n",
       "</table>\n",
       "<table class=\"simpletable\">\n",
       "<tr>\n",
       "  <th>Omnibus:</th>       <td> 5.011</td> <th>  Durbin-Watson:     </th> <td>   1.653</td>\n",
       "</tr>\n",
       "<tr>\n",
       "  <th>Prob(Omnibus):</th> <td> 0.082</td> <th>  Jarque-Bera (JB):  </th> <td>   1.565</td>\n",
       "</tr>\n",
       "<tr>\n",
       "  <th>Skew:</th>          <td>-0.104</td> <th>  Prob(JB):          </th> <td>   0.457</td>\n",
       "</tr>\n",
       "<tr>\n",
       "  <th>Kurtosis:</th>      <td> 1.645</td> <th>  Cond. No.          </th> <td>    13.3</td>\n",
       "</tr>\n",
       "</table><br/><br/>Warnings:<br/>[1] Standard Errors assume that the covariance matrix of the errors is correctly specified."
      ],
      "text/plain": [
       "<class 'statsmodels.iolib.summary.Summary'>\n",
       "\"\"\"\n",
       "                            OLS Regression Results                            \n",
       "==============================================================================\n",
       "Dep. Variable:                    Age   R-squared:                       0.649\n",
       "Model:                            OLS   Adj. R-squared:                  0.629\n",
       "Method:                 Least Squares   F-statistic:                     33.28\n",
       "Date:                Mon, 17 Jan 2022   Prob (F-statistic):           1.82e-05\n",
       "Time:                        22:54:00   Log-Likelihood:                -25.614\n",
       "No. Observations:                  20   AIC:                             55.23\n",
       "Df Residuals:                      18   BIC:                             57.22\n",
       "Df Model:                           1                                         \n",
       "Covariance Type:            nonrobust                                         \n",
       "==============================================================================\n",
       "                 coef    std err          t      P>|t|      [0.025      0.975]\n",
       "------------------------------------------------------------------------------\n",
       "const         21.8726      1.066     20.510      0.000      19.632      24.113\n",
       "rvc_log        2.9228      0.507      5.769      0.000       1.858       3.987\n",
       "==============================================================================\n",
       "Omnibus:                        5.011   Durbin-Watson:                   1.653\n",
       "Prob(Omnibus):                  0.082   Jarque-Bera (JB):                1.565\n",
       "Skew:                          -0.104   Prob(JB):                        0.457\n",
       "Kurtosis:                       1.645   Cond. No.                         13.3\n",
       "==============================================================================\n",
       "\n",
       "Warnings:\n",
       "[1] Standard Errors assume that the covariance matrix of the errors is correctly specified.\n",
       "\"\"\""
      ]
     },
     "execution_count": 270,
     "metadata": {},
     "output_type": "execute_result"
    }
   ],
   "source": [
    "results.summary()"
   ]
  },
  {
   "cell_type": "code",
   "execution_count": 195,
   "metadata": {},
   "outputs": [
    {
     "data": {
      "text/plain": [
       "const      21.872586\n",
       "rvc_log     2.922830\n",
       "dtype: float64"
      ]
     },
     "execution_count": 195,
     "metadata": {},
     "output_type": "execute_result"
    }
   ],
   "source": [
    "results.params"
   ]
  },
  {
   "cell_type": "code",
   "execution_count": 196,
   "metadata": {},
   "outputs": [
    {
     "name": "stderr",
     "output_type": "stream",
     "text": [
      "/usr/local/lib/python3.7/site-packages/matplotlib/cbook/__init__.py:1402: FutureWarning: Support for multi-dimensional indexing (e.g. `obj[:, None]`) is deprecated and will be removed in a future version.  Convert to a numpy array before indexing instead.\n",
      "  x[:, None]\n",
      "/usr/local/lib/python3.7/site-packages/matplotlib/axes/_base.py:276: FutureWarning: Support for multi-dimensional indexing (e.g. `obj[:, None]`) is deprecated and will be removed in a future version.  Convert to a numpy array before indexing instead.\n",
      "  x = x[:, np.newaxis]\n",
      "/usr/local/lib/python3.7/site-packages/matplotlib/axes/_base.py:278: FutureWarning: Support for multi-dimensional indexing (e.g. `obj[:, None]`) is deprecated and will be removed in a future version.  Convert to a numpy array before indexing instead.\n",
      "  y = y[:, np.newaxis]\n"
     ]
    },
    {
     "data": {
      "text/plain": [
       "[<matplotlib.lines.Line2D at 0x131383650>]"
      ]
     },
     "execution_count": 196,
     "metadata": {},
     "output_type": "execute_result"
    },
    {
     "data": {
      "image/png": "[encoded data removed]",
      "text/plain": [
       "<Figure size 360x360 with 1 Axes>"
      ]
     },
     "metadata": {},
     "output_type": "display_data"
    }
   ],
   "source": [
    "import matplotlib.pyplot as plt\n",
    "fig, ax = plt.subplots(figsize=(5, 5))\n",
    "ax.scatter('rvc_log', 'Age',data=wo_outliers)\n",
    "ax.plot(wo_outliers['rvc_log'], results.params['const'] + (wo_outliers['rvc_log']*results.params['rvc_log']) , '-g')\n",
    "#ax.avline(x = df_wh_F['Age'].mean() - df_wh_M['Age'].mean(), color='black', lw=2)"
   ]
  },
  {
   "cell_type": "code",
   "execution_count": 273,
   "metadata": {},
   "outputs": [
    {
     "name": "stderr",
     "output_type": "stream",
     "text": [
      "/usr/local/lib/python3.7/site-packages/ipykernel_launcher.py:1: SettingWithCopyWarning: \n",
      "A value is trying to be set on a copy of a slice from a DataFrame.\n",
      "Try using .loc[row_indexer,col_indexer] = value instead\n",
      "\n",
      "See the caveats in the documentation: https://pandas.pydata.org/pandas-docs/stable/user_guide/indexing.html#returning-a-view-versus-a-copy\n",
      "  \"\"\"Entry point for launching an IPython kernel.\n"
     ]
    }
   ],
   "source": [
    "wo_outliers['predictions'] = results.predict(X.values)"
   ]
  },
  {
   "cell_type": "code",
   "execution_count": 275,
   "metadata": {},
   "outputs": [
    {
     "data": {
      "text/plain": [
       "[<matplotlib.lines.Line2D at 0x131672c90>]"
      ]
     },
     "execution_count": 275,
     "metadata": {},
     "output_type": "execute_result"
    },
    {
     "data": {
      "image/png": "[encoded data removed]",
      "text/plain": [
       "<Figure size 360x360 with 1 Axes>"
      ]
     },
     "metadata": {},
     "output_type": "display_data"
    }
   ],
   "source": [
    "import matplotlib.pyplot as plt\n",
    "fig, ax = plt.subplots(figsize=(5, 5))\n",
    "ax.scatter('rvc_log', 'Age',data=wo_outliers)\n",
    "ax.scatter('rvc_log', 'predictions',data=wo_outliers)\n",
    "ax.plot(wo_outliers['rvc_log'], results.params['const'] + (wo_outliers['rvc_log']*results.params['rvc_log']) , '-g')\n",
    "#ax.avline(x = df_wh_F['Age'].mean() - df_wh_M['Age'].mean(), color='black', lw=2)"
   ]
  },
  {
   "cell_type": "code",
   "execution_count": 280,
   "metadata": {},
   "outputs": [
    {
     "data": {
      "text/plain": [
       "array([ 21.87258556,  29.17966008, 138.78577787])"
      ]
     },
     "execution_count": 280,
     "metadata": {},
     "output_type": "execute_result"
    }
   ],
   "source": [
    "results.predict([[1.0,0],[1.0,2.5],[1.0,40]])"
   ]
  },
  {
   "cell_type": "code",
   "execution_count": 211,
   "metadata": {},
   "outputs": [],
   "source": [
    "Y = wo_outliers['Age']\n",
    "x = wo_outliers['rvc_log']\n",
    "X = np.column_stack((x, x ** 2,x ** 3))\n",
    "X = sm.add_constant(X)\n",
    "model = sm.OLS(Y,X)\n",
    "results = model.fit()"
   ]
  },
  {
   "cell_type": "code",
   "execution_count": 212,
   "metadata": {},
   "outputs": [
    {
     "data": {
      "text/plain": [
       "const    68.117515\n",
       "x1      -60.382076\n",
       "x2       28.213160\n",
       "x3       -4.086779\n",
       "dtype: float64"
      ]
     },
     "execution_count": 212,
     "metadata": {},
     "output_type": "execute_result"
    }
   ],
   "source": [
    "results.params"
   ]
  },
  {
   "cell_type": "code",
   "execution_count": 227,
   "metadata": {},
   "outputs": [
    {
     "data": {
      "text/plain": [
       "array([[ 2.5       ,  3.97308801,  6.31417134, 10.03470339],\n",
       "       [ 2.5       ,  4.12164656,  6.79518816, 11.20294557],\n",
       "       [ 2.5       ,  4.35116544,  7.57305626, 13.18064827],\n",
       "       [ 2.5       ,  4.35116544,  7.57305626, 13.18064827],\n",
       "       [ 2.5       ,  4.35116544,  7.57305626, 13.18064827],\n",
       "       [ 2.5       ,  4.52072193,  8.1747707 , 14.78234606],\n",
       "       [ 2.5       ,  4.60137408,  8.46905738, 15.58772046],\n",
       "       [ 2.5       ,  4.64074498,  8.61460557, 15.99127501],\n",
       "       [ 2.5       ,  4.67950544,  8.75910847, 16.39531831],\n",
       "       [ 2.5       ,  4.71767412,  8.90257965, 16.79978786],\n",
       "       [ 2.5       ,  4.75526882,  9.0450326 , 17.20462459],\n",
       "       [ 2.5       ,  4.82880353,  9.32693741, 18.01517931],\n",
       "       [ 2.5       ,  5.07037062, 10.28346328, 20.85638803],\n",
       "       [ 2.5       ,  5.26033539, 11.06845135, 23.28950652],\n",
       "       [ 2.5       ,  5.40830756, 11.69991628, 25.31069829],\n",
       "       [ 2.5       ,  5.92560935, 14.04513848, 33.29040159],\n",
       "       [ 2.5       ,  6.46941009, 16.74130676, 43.32255152],\n",
       "       [ 2.5       ,  6.66807052, 17.78526576, 47.43736251],\n",
       "       [ 2.5       ,  6.71961873, 18.06131037, 48.54604782],\n",
       "       [ 2.5       ,  7.8603807 , 24.71423388, 77.70531477]])"
      ]
     },
     "execution_count": 227,
     "metadata": {},
     "output_type": "execute_result"
    }
   ],
   "source": []
  },
  {
   "cell_type": "code",
   "execution_count": 226,
   "metadata": {},
   "outputs": [],
   "source": [
    "wo_outliers.sort_values('rvc_log',inplace=True)"
   ]
  },
  {
   "cell_type": "code",
   "execution_count": 220,
   "metadata": {},
   "outputs": [
    {
     "data": {
      "text/plain": [
       "[<matplotlib.lines.Line2D at 0x1313a7f50>]"
      ]
     },
     "execution_count": 220,
     "metadata": {},
     "output_type": "execute_result"
    },
    {
     "data": {
      "image/png": "[encoded data removed]",
      "text/plain": [
       "<Figure size 360x360 with 1 Axes>"
      ]
     },
     "metadata": {},
     "output_type": "display_data"
    }
   ],
   "source": [
    "import matplotlib.pyplot as plt\n",
    "fig, ax = plt.subplots(figsize=(5, 5))\n",
    "ax.scatter('rvc_log', 'Age',data=wo_outliers)\n",
    "ax.plot(wo_outliers['rvc_log'],  \n",
    "        results.params['const'] +  \\\n",
    "        (wo_outliers['rvc_log']*results.params['x1']) + \\\n",
    "        (np.power(wo_outliers['rvc_log'],2) * results.params['x2']) + \\\n",
    "        (np.power(wo_outliers['rvc_log'],3) * results.params['x3']) ,'-g')\n"
   ]
  },
  {
   "cell_type": "markdown",
   "metadata": {},
   "source": [
    "## Predicting Counts\n",
    "\n",
    "## Gender bias in university admissions?"
   ]
  },
  {
   "cell_type": "code",
   "execution_count": 281,
   "metadata": {},
   "outputs": [
    {
     "data": {
      "text/html": [
       "<div>\n",
       "<style scoped>\n",
       "    .dataframe tbody tr th:only-of-type {\n",
       "        vertical-align: middle;\n",
       "    }\n",
       "\n",
       "    .dataframe tbody tr th {\n",
       "        vertical-align: top;\n",
       "    }\n",
       "\n",
       "    .dataframe thead th {\n",
       "        text-align: right;\n",
       "    }\n",
       "</style>\n",
       "<table border=\"1\" class=\"dataframe\">\n",
       "  <thead>\n",
       "    <tr style=\"text-align: right;\">\n",
       "      <th></th>\n",
       "      <th>dept</th>\n",
       "      <th>applicant.gender</th>\n",
       "      <th>admit</th>\n",
       "      <th>reject</th>\n",
       "      <th>applications</th>\n",
       "    </tr>\n",
       "  </thead>\n",
       "  <tbody>\n",
       "    <tr>\n",
       "      <th>1</th>\n",
       "      <td>A</td>\n",
       "      <td>male</td>\n",
       "      <td>512</td>\n",
       "      <td>313</td>\n",
       "      <td>825</td>\n",
       "    </tr>\n",
       "    <tr>\n",
       "      <th>2</th>\n",
       "      <td>A</td>\n",
       "      <td>female</td>\n",
       "      <td>89</td>\n",
       "      <td>19</td>\n",
       "      <td>108</td>\n",
       "    </tr>\n",
       "    <tr>\n",
       "      <th>3</th>\n",
       "      <td>B</td>\n",
       "      <td>male</td>\n",
       "      <td>353</td>\n",
       "      <td>207</td>\n",
       "      <td>560</td>\n",
       "    </tr>\n",
       "    <tr>\n",
       "      <th>4</th>\n",
       "      <td>B</td>\n",
       "      <td>female</td>\n",
       "      <td>17</td>\n",
       "      <td>8</td>\n",
       "      <td>25</td>\n",
       "    </tr>\n",
       "    <tr>\n",
       "      <th>5</th>\n",
       "      <td>C</td>\n",
       "      <td>male</td>\n",
       "      <td>120</td>\n",
       "      <td>205</td>\n",
       "      <td>325</td>\n",
       "    </tr>\n",
       "  </tbody>\n",
       "</table>\n",
       "</div>"
      ],
      "text/plain": [
       "  dept applicant.gender  admit  reject  applications\n",
       "1    A             male    512     313           825\n",
       "2    A           female     89      19           108\n",
       "3    B             male    353     207           560\n",
       "4    B           female     17       8            25\n",
       "5    C             male    120     205           325"
      ]
     },
     "execution_count": 281,
     "metadata": {},
     "output_type": "execute_result"
    }
   ],
   "source": [
    "\n",
    "data = pd.read_csv('/Users/kbeelen/Documents/OtherProjects/BayesianModelling/UCBadmit.csv',sep=';')\n",
    "data.head()"
   ]
  },
  {
   "cell_type": "code",
   "execution_count": 282,
   "metadata": {},
   "outputs": [
    {
     "data": {
      "text/html": [
       "<div>\n",
       "<style scoped>\n",
       "    .dataframe tbody tr th:only-of-type {\n",
       "        vertical-align: middle;\n",
       "    }\n",
       "\n",
       "    .dataframe tbody tr th {\n",
       "        vertical-align: top;\n",
       "    }\n",
       "\n",
       "    .dataframe thead th {\n",
       "        text-align: right;\n",
       "    }\n",
       "</style>\n",
       "<table border=\"1\" class=\"dataframe\">\n",
       "  <thead>\n",
       "    <tr style=\"text-align: right;\">\n",
       "      <th></th>\n",
       "      <th>dept</th>\n",
       "      <th>applicant.gender</th>\n",
       "      <th>admit</th>\n",
       "      <th>reject</th>\n",
       "      <th>applications</th>\n",
       "      <th>gid</th>\n",
       "      <th>did</th>\n",
       "    </tr>\n",
       "  </thead>\n",
       "  <tbody>\n",
       "    <tr>\n",
       "      <th>1</th>\n",
       "      <td>A</td>\n",
       "      <td>male</td>\n",
       "      <td>512</td>\n",
       "      <td>313</td>\n",
       "      <td>825</td>\n",
       "      <td>1</td>\n",
       "      <td>0</td>\n",
       "    </tr>\n",
       "    <tr>\n",
       "      <th>2</th>\n",
       "      <td>A</td>\n",
       "      <td>female</td>\n",
       "      <td>89</td>\n",
       "      <td>19</td>\n",
       "      <td>108</td>\n",
       "      <td>0</td>\n",
       "      <td>0</td>\n",
       "    </tr>\n",
       "    <tr>\n",
       "      <th>3</th>\n",
       "      <td>B</td>\n",
       "      <td>male</td>\n",
       "      <td>353</td>\n",
       "      <td>207</td>\n",
       "      <td>560</td>\n",
       "      <td>1</td>\n",
       "      <td>1</td>\n",
       "    </tr>\n",
       "    <tr>\n",
       "      <th>4</th>\n",
       "      <td>B</td>\n",
       "      <td>female</td>\n",
       "      <td>17</td>\n",
       "      <td>8</td>\n",
       "      <td>25</td>\n",
       "      <td>0</td>\n",
       "      <td>1</td>\n",
       "    </tr>\n",
       "    <tr>\n",
       "      <th>5</th>\n",
       "      <td>C</td>\n",
       "      <td>male</td>\n",
       "      <td>120</td>\n",
       "      <td>205</td>\n",
       "      <td>325</td>\n",
       "      <td>1</td>\n",
       "      <td>2</td>\n",
       "    </tr>\n",
       "  </tbody>\n",
       "</table>\n",
       "</div>"
      ],
      "text/plain": [
       "  dept applicant.gender  admit  reject  applications  gid  did\n",
       "1    A             male    512     313           825    1    0\n",
       "2    A           female     89      19           108    0    0\n",
       "3    B             male    353     207           560    1    1\n",
       "4    B           female     17       8            25    0    1\n",
       "5    C             male    120     205           325    1    2"
      ]
     },
     "execution_count": 282,
     "metadata": {},
     "output_type": "execute_result"
    }
   ],
   "source": [
    "data['gid'] = pd.Categorical(data['applicant.gender']).codes \n",
    "data['did'] = pd.Categorical(data['dept']).codes \n",
    "data.head()"
   ]
  },
  {
   "cell_type": "code",
   "execution_count": 283,
   "metadata": {},
   "outputs": [],
   "source": [
    "data['gender'] = data['applicant.gender']"
   ]
  },
  {
   "cell_type": "code",
   "execution_count": 284,
   "metadata": {},
   "outputs": [],
   "source": [
    "#https://timeseriesreasoning.com/contents/binomial-regression-model/\n"
   ]
  },
  {
   "cell_type": "code",
   "execution_count": 285,
   "metadata": {},
   "outputs": [
    {
     "name": "stdout",
     "output_type": "stream",
     "text": [
      "                  Generalized Linear Model Regression Results                  \n",
      "===============================================================================\n",
      "Dep. Variable:     ['admit', 'reject']   No. Observations:                   12\n",
      "Model:                             GLM   Df Residuals:                        5\n",
      "Model Family:                 Binomial   Df Model:                            6\n",
      "Link Function:                   logit   Scale:                          1.0000\n",
      "Method:                           IRLS   Log-Likelihood:                -44.572\n",
      "Date:                 Mon, 17 Jan 2022   Deviance:                       20.204\n",
      "Time:                         23:02:32   Pearson chi2:                     18.8\n",
      "No. Iterations:                      6                                         \n",
      "Covariance Type:             nonrobust                                         \n",
      "=====================================================================================\n",
      "                        coef    std err          z      P>|z|      [0.025      0.975]\n",
      "-------------------------------------------------------------------------------------\n",
      "Intercept             0.6819      0.099      6.880      0.000       0.488       0.876\n",
      "C(gender)[T.male]    -0.0999      0.081     -1.235      0.217      -0.258       0.059\n",
      "C(did)[T.1]          -0.0434      0.110     -0.395      0.693      -0.259       0.172\n",
      "C(did)[T.2]          -1.2626      0.107    -11.841      0.000      -1.472      -1.054\n",
      "C(did)[T.3]          -1.2946      0.106    -12.234      0.000      -1.502      -1.087\n",
      "C(did)[T.4]          -1.7393      0.126    -13.792      0.000      -1.986      -1.492\n",
      "C(did)[T.5]          -3.3065      0.170    -19.452      0.000      -3.640      -2.973\n",
      "=====================================================================================\n"
     ]
    }
   ],
   "source": [
    "formula = 'admit +  reject ~ C(gender) + C(did)'\n",
    "mod1 = smf.glm(formula=formula, data=data, family=sm.families.Binomial()).fit()\n",
    "print(mod1.summary())"
   ]
  },
  {
   "cell_type": "code",
   "execution_count": 286,
   "metadata": {},
   "outputs": [],
   "source": [
    "data[['female','male']] = pd.get_dummies(data['applicant.gender'])"
   ]
  },
  {
   "cell_type": "code",
   "execution_count": 287,
   "metadata": {},
   "outputs": [
    {
     "data": {
      "text/html": [
       "<div>\n",
       "<style scoped>\n",
       "    .dataframe tbody tr th:only-of-type {\n",
       "        vertical-align: middle;\n",
       "    }\n",
       "\n",
       "    .dataframe tbody tr th {\n",
       "        vertical-align: top;\n",
       "    }\n",
       "\n",
       "    .dataframe thead th {\n",
       "        text-align: right;\n",
       "    }\n",
       "</style>\n",
       "<table border=\"1\" class=\"dataframe\">\n",
       "  <thead>\n",
       "    <tr style=\"text-align: right;\">\n",
       "      <th></th>\n",
       "      <th>dept</th>\n",
       "      <th>applicant.gender</th>\n",
       "      <th>admit</th>\n",
       "      <th>reject</th>\n",
       "      <th>applications</th>\n",
       "      <th>gid</th>\n",
       "      <th>did</th>\n",
       "      <th>gender</th>\n",
       "      <th>female</th>\n",
       "      <th>male</th>\n",
       "    </tr>\n",
       "  </thead>\n",
       "  <tbody>\n",
       "    <tr>\n",
       "      <th>1</th>\n",
       "      <td>A</td>\n",
       "      <td>male</td>\n",
       "      <td>512</td>\n",
       "      <td>313</td>\n",
       "      <td>825</td>\n",
       "      <td>1</td>\n",
       "      <td>0</td>\n",
       "      <td>male</td>\n",
       "      <td>0</td>\n",
       "      <td>1</td>\n",
       "    </tr>\n",
       "    <tr>\n",
       "      <th>2</th>\n",
       "      <td>A</td>\n",
       "      <td>female</td>\n",
       "      <td>89</td>\n",
       "      <td>19</td>\n",
       "      <td>108</td>\n",
       "      <td>0</td>\n",
       "      <td>0</td>\n",
       "      <td>female</td>\n",
       "      <td>1</td>\n",
       "      <td>0</td>\n",
       "    </tr>\n",
       "    <tr>\n",
       "      <th>3</th>\n",
       "      <td>B</td>\n",
       "      <td>male</td>\n",
       "      <td>353</td>\n",
       "      <td>207</td>\n",
       "      <td>560</td>\n",
       "      <td>1</td>\n",
       "      <td>1</td>\n",
       "      <td>male</td>\n",
       "      <td>0</td>\n",
       "      <td>1</td>\n",
       "    </tr>\n",
       "    <tr>\n",
       "      <th>4</th>\n",
       "      <td>B</td>\n",
       "      <td>female</td>\n",
       "      <td>17</td>\n",
       "      <td>8</td>\n",
       "      <td>25</td>\n",
       "      <td>0</td>\n",
       "      <td>1</td>\n",
       "      <td>female</td>\n",
       "      <td>1</td>\n",
       "      <td>0</td>\n",
       "    </tr>\n",
       "    <tr>\n",
       "      <th>5</th>\n",
       "      <td>C</td>\n",
       "      <td>male</td>\n",
       "      <td>120</td>\n",
       "      <td>205</td>\n",
       "      <td>325</td>\n",
       "      <td>1</td>\n",
       "      <td>2</td>\n",
       "      <td>male</td>\n",
       "      <td>0</td>\n",
       "      <td>1</td>\n",
       "    </tr>\n",
       "    <tr>\n",
       "      <th>6</th>\n",
       "      <td>C</td>\n",
       "      <td>female</td>\n",
       "      <td>202</td>\n",
       "      <td>391</td>\n",
       "      <td>593</td>\n",
       "      <td>0</td>\n",
       "      <td>2</td>\n",
       "      <td>female</td>\n",
       "      <td>1</td>\n",
       "      <td>0</td>\n",
       "    </tr>\n",
       "    <tr>\n",
       "      <th>7</th>\n",
       "      <td>D</td>\n",
       "      <td>male</td>\n",
       "      <td>138</td>\n",
       "      <td>279</td>\n",
       "      <td>417</td>\n",
       "      <td>1</td>\n",
       "      <td>3</td>\n",
       "      <td>male</td>\n",
       "      <td>0</td>\n",
       "      <td>1</td>\n",
       "    </tr>\n",
       "    <tr>\n",
       "      <th>8</th>\n",
       "      <td>D</td>\n",
       "      <td>female</td>\n",
       "      <td>131</td>\n",
       "      <td>244</td>\n",
       "      <td>375</td>\n",
       "      <td>0</td>\n",
       "      <td>3</td>\n",
       "      <td>female</td>\n",
       "      <td>1</td>\n",
       "      <td>0</td>\n",
       "    </tr>\n",
       "    <tr>\n",
       "      <th>9</th>\n",
       "      <td>E</td>\n",
       "      <td>male</td>\n",
       "      <td>53</td>\n",
       "      <td>138</td>\n",
       "      <td>191</td>\n",
       "      <td>1</td>\n",
       "      <td>4</td>\n",
       "      <td>male</td>\n",
       "      <td>0</td>\n",
       "      <td>1</td>\n",
       "    </tr>\n",
       "    <tr>\n",
       "      <th>10</th>\n",
       "      <td>E</td>\n",
       "      <td>female</td>\n",
       "      <td>94</td>\n",
       "      <td>299</td>\n",
       "      <td>393</td>\n",
       "      <td>0</td>\n",
       "      <td>4</td>\n",
       "      <td>female</td>\n",
       "      <td>1</td>\n",
       "      <td>0</td>\n",
       "    </tr>\n",
       "    <tr>\n",
       "      <th>11</th>\n",
       "      <td>F</td>\n",
       "      <td>male</td>\n",
       "      <td>22</td>\n",
       "      <td>351</td>\n",
       "      <td>373</td>\n",
       "      <td>1</td>\n",
       "      <td>5</td>\n",
       "      <td>male</td>\n",
       "      <td>0</td>\n",
       "      <td>1</td>\n",
       "    </tr>\n",
       "    <tr>\n",
       "      <th>12</th>\n",
       "      <td>F</td>\n",
       "      <td>female</td>\n",
       "      <td>24</td>\n",
       "      <td>317</td>\n",
       "      <td>341</td>\n",
       "      <td>0</td>\n",
       "      <td>5</td>\n",
       "      <td>female</td>\n",
       "      <td>1</td>\n",
       "      <td>0</td>\n",
       "    </tr>\n",
       "  </tbody>\n",
       "</table>\n",
       "</div>"
      ],
      "text/plain": [
       "   dept applicant.gender  admit  reject  applications  gid  did  gender  \\\n",
       "1     A             male    512     313           825    1    0    male   \n",
       "2     A           female     89      19           108    0    0  female   \n",
       "3     B             male    353     207           560    1    1    male   \n",
       "4     B           female     17       8            25    0    1  female   \n",
       "5     C             male    120     205           325    1    2    male   \n",
       "6     C           female    202     391           593    0    2  female   \n",
       "7     D             male    138     279           417    1    3    male   \n",
       "8     D           female    131     244           375    0    3  female   \n",
       "9     E             male     53     138           191    1    4    male   \n",
       "10    E           female     94     299           393    0    4  female   \n",
       "11    F             male     22     351           373    1    5    male   \n",
       "12    F           female     24     317           341    0    5  female   \n",
       "\n",
       "    female  male  \n",
       "1        0     1  \n",
       "2        1     0  \n",
       "3        0     1  \n",
       "4        1     0  \n",
       "5        0     1  \n",
       "6        1     0  \n",
       "7        0     1  \n",
       "8        1     0  \n",
       "9        0     1  \n",
       "10       1     0  \n",
       "11       0     1  \n",
       "12       1     0  "
      ]
     },
     "execution_count": 287,
     "metadata": {},
     "output_type": "execute_result"
    }
   ],
   "source": [
    "data"
   ]
  },
  {
   "cell_type": "code",
   "execution_count": 288,
   "metadata": {},
   "outputs": [
    {
     "ename": "NameError",
     "evalue": "name 'logistic' is not defined",
     "output_type": "error",
     "traceback": [
      "\u001b[0;31m---------------------------------------------------------------------------\u001b[0m",
      "\u001b[0;31mNameError\u001b[0m                                 Traceback (most recent call last)",
      "\u001b[0;32m<ipython-input-288-6c41b72b902d>\u001b[0m in \u001b[0;36m<module>\u001b[0;34m\u001b[0m\n\u001b[0;32m----> 1\u001b[0;31m \u001b[0mlogistic\u001b[0m\u001b[0;34m(\u001b[0m\u001b[0;36m0.6104\u001b[0m\u001b[0;34m)\u001b[0m \u001b[0;34m-\u001b[0m \u001b[0;36m.5\u001b[0m\u001b[0;34m\u001b[0m\u001b[0;34m\u001b[0m\u001b[0m\n\u001b[0m",
      "\u001b[0;31mNameError\u001b[0m: name 'logistic' is not defined"
     ]
    }
   ],
   "source": [
    "logistic(0.6104) - .5"
   ]
  },
  {
   "cell_type": "code",
   "execution_count": 155,
   "metadata": {},
   "outputs": [
    {
     "data": {
      "text/plain": [
       "-0.02495424981264921"
      ]
     },
     "execution_count": 155,
     "metadata": {},
     "output_type": "execute_result"
    }
   ],
   "source": [
    "logistic(-0.0999) -.5"
   ]
  },
  {
   "cell_type": "code",
   "execution_count": 171,
   "metadata": {},
   "outputs": [
    {
     "name": "stdout",
     "output_type": "stream",
     "text": [
      "                  Generalized Linear Model Regression Results                  \n",
      "===============================================================================\n",
      "Dep. Variable:     ['admit', 'reject']   No. Observations:                   12\n",
      "Model:                             GLM   Df Residuals:                        5\n",
      "Model Family:                 Binomial   Df Model:                            6\n",
      "Link Function:                   logit   Scale:                          1.0000\n",
      "Method:                           IRLS   Log-Likelihood:                -44.572\n",
      "Date:                 Sun, 09 Jan 2022   Deviance:                       20.204\n",
      "Time:                         22:20:51   Pearson chi2:                     18.8\n",
      "No. Iterations:                      6                                         \n",
      "Covariance Type:             nonrobust                                         \n",
      "===============================================================================\n",
      "                  coef    std err          z      P>|z|      [0.025      0.975]\n",
      "-------------------------------------------------------------------------------\n",
      "Intercept       0.4213      0.050      8.402      0.000       0.323       0.520\n",
      "C(did)[T.1]    -0.0434      0.110     -0.395      0.693      -0.259       0.172\n",
      "C(did)[T.2]    -1.2626      0.107    -11.841      0.000      -1.472      -1.054\n",
      "C(did)[T.3]    -1.2946      0.106    -12.234      0.000      -1.502      -1.087\n",
      "C(did)[T.4]    -1.7393      0.126    -13.792      0.000      -1.986      -1.492\n",
      "C(did)[T.5]    -3.3065      0.170    -19.452      0.000      -3.640      -2.973\n",
      "female          0.2606      0.056      4.676      0.000       0.151       0.370\n",
      "male            0.1607      0.038      4.267      0.000       0.087       0.235\n",
      "===============================================================================\n"
     ]
    }
   ],
   "source": [
    "formula = 'admit +  reject ~ female + male + C(did)'\n",
    "mod1 = smf.glm(formula=formula, data=data, family=sm.families.Binomial()).fit()\n",
    "print(mod1.summary())"
   ]
  },
  {
   "cell_type": "code",
   "execution_count": 166,
   "metadata": {},
   "outputs": [
    {
     "data": {
      "text/plain": [
       "0.38218128710219784"
      ]
     },
     "execution_count": 166,
     "metadata": {},
     "output_type": "execute_result"
    }
   ],
   "source": [
    "logistic(-0.4803)"
   ]
  },
  {
   "cell_type": "code",
   "execution_count": 167,
   "metadata": {},
   "outputs": [
    {
     "data": {
      "text/plain": [
       "0.532479200978304"
      ]
     },
     "execution_count": 167,
     "metadata": {},
     "output_type": "execute_result"
    }
   ],
   "source": [
    "logistic(0.1301)"
   ]
  },
  {
   "cell_type": "code",
   "execution_count": 182,
   "metadata": {},
   "outputs": [],
   "source": [
    "logit = lambda  p:  np.log(p / (1 - p))"
   ]
  },
  {
   "cell_type": "code",
   "execution_count": 183,
   "metadata": {},
   "outputs": [],
   "source": [
    "logistic = lambda lt: np.exp(lt) / (np.exp(lt) + 1)"
   ]
  },
  {
   "cell_type": "code",
   "execution_count": 188,
   "metadata": {},
   "outputs": [
    {
     "data": {
      "text/plain": [
       "0.6"
      ]
     },
     "execution_count": 188,
     "metadata": {},
     "output_type": "execute_result"
    }
   ],
   "source": [
    "round(logistic(logit(.6)),2)"
   ]
  },
  {
   "cell_type": "code",
   "execution_count": 185,
   "metadata": {},
   "outputs": [
    {
     "ename": "NameError",
     "evalue": "name 'exp' is not defined",
     "output_type": "error",
     "traceback": [
      "\u001b[0;31m---------------------------------------------------------------------------\u001b[0m",
      "\u001b[0;31mNameError\u001b[0m                                 Traceback (most recent call last)",
      "\u001b[0;32m<ipython-input-185-0a9b5c01bc35>\u001b[0m in \u001b[0;36m<module>\u001b[0;34m\u001b[0m\n\u001b[0;32m----> 1\u001b[0;31m \u001b[0mexp\u001b[0m\u001b[0;34m(\u001b[0m\u001b[0;34m)\u001b[0m\u001b[0;34m\u001b[0m\u001b[0;34m\u001b[0m\u001b[0m\n\u001b[0m",
      "\u001b[0;31mNameError\u001b[0m: name 'exp' is not defined"
     ]
    }
   ],
   "source": [
    "exp()"
   ]
  },
  {
   "cell_type": "code",
   "execution_count": 168,
   "metadata": {},
   "outputs": [
    {
     "data": {
      "text/plain": [
       "-0.1502979138761062"
      ]
     },
     "execution_count": 168,
     "metadata": {},
     "output_type": "execute_result"
    }
   ],
   "source": [
    "logistic(-0.4803) - logistic(0.1301)"
   ]
  },
  {
   "cell_type": "code",
   "execution_count": 195,
   "metadata": {},
   "outputs": [
    {
     "data": {
      "text/plain": [
       "-0.0647837793686441"
      ]
     },
     "execution_count": 195,
     "metadata": {},
     "output_type": "execute_result"
    }
   ],
   "source": [
    "logistic(-0.2606) - .5"
   ]
  },
  {
   "cell_type": "code",
   "execution_count": null,
   "metadata": {},
   "outputs": [],
   "source": [
    "formula = 'admit +  reject ~ female + male'\n",
    "mod1 = smf.glm(formula=formula, data=data, family=sm.families.Binomial()).fit()\n",
    "print(mod1.summary())"
   ]
  },
  {
   "cell_type": "code",
   "execution_count": 158,
   "metadata": {},
   "outputs": [
    {
     "data": {
      "text/plain": [
       "-0.4341710593886168"
      ]
     },
     "execution_count": 158,
     "metadata": {},
     "output_type": "execute_result"
    }
   ],
   "source": [
    "logistic(- 2.6526) -.5"
   ]
  },
  {
   "cell_type": "code",
   "execution_count": 15,
   "metadata": {},
   "outputs": [
    {
     "data": {
      "text/plain": [
       "array([[  1,   0, 825],\n",
       "       [  0,   0, 108],\n",
       "       [  1,   1, 560],\n",
       "       [  0,   1,  25],\n",
       "       [  1,   2, 325],\n",
       "       [  0,   2, 593],\n",
       "       [  1,   3, 417],\n",
       "       [  0,   3, 375],\n",
       "       [  1,   4, 191],\n",
       "       [  0,   4, 393],\n",
       "       [  1,   5, 373],\n",
       "       [  0,   5, 341]])"
      ]
     },
     "execution_count": 15,
     "metadata": {},
     "output_type": "execute_result"
    }
   ],
   "source": [
    "exog = data[['gid','did','applications']].values\n",
    "exog"
   ]
  },
  {
   "cell_type": "code",
   "execution_count": null,
   "metadata": {},
   "outputs": [],
   "source": [
    "endog = data[]"
   ]
  },
  {
   "cell_type": "markdown",
   "metadata": {},
   "source": [
    "## Gender and parliamentary questions"
   ]
  },
  {
   "cell_type": "code",
   "execution_count": 3,
   "metadata": {},
   "outputs": [],
   "source": [
    "#!pip3 install seaborn==0.11.2"
   ]
  },
  {
   "cell_type": "code",
   "execution_count": 204,
   "metadata": {},
   "outputs": [],
   "source": [
    "df = pd.read_csv('data/questions/parl_questions.csv',index_col=0,\n",
    "                 parse_dates=[\"dob\",'date tabled'],\n",
    "                date_parser= lambda x: pd.to_datetime(x, format=\"%Y-%m-%\"))"
   ]
  },
  {
   "cell_type": "code",
   "execution_count": 205,
   "metadata": {},
   "outputs": [
    {
     "data": {
      "text/html": [
       "<div>\n",
       "<style scoped>\n",
       "    .dataframe tbody tr th:only-of-type {\n",
       "        vertical-align: middle;\n",
       "    }\n",
       "\n",
       "    .dataframe tbody tr th {\n",
       "        vertical-align: top;\n",
       "    }\n",
       "\n",
       "    .dataframe thead th {\n",
       "        text-align: right;\n",
       "    }\n",
       "</style>\n",
       "<table border=\"1\" class=\"dataframe\">\n",
       "  <thead>\n",
       "    <tr style=\"text-align: right;\">\n",
       "      <th></th>\n",
       "      <th>uri</th>\n",
       "      <th>answer date</th>\n",
       "      <th>answer date time</th>\n",
       "      <th>answering body</th>\n",
       "      <th>commons question time &gt; question type</th>\n",
       "      <th>location &gt; pref label</th>\n",
       "      <th>question status</th>\n",
       "      <th>ballot number</th>\n",
       "      <th>date tabled</th>\n",
       "      <th>modified</th>\n",
       "      <th>...</th>\n",
       "      <th>tabling member &gt; uri</th>\n",
       "      <th>tabling member &gt; constituency &gt; pref label</th>\n",
       "      <th>tabling member printed</th>\n",
       "      <th>uin</th>\n",
       "      <th>tabling member</th>\n",
       "      <th>gender</th>\n",
       "      <th>party</th>\n",
       "      <th>uri_mp</th>\n",
       "      <th>dob</th>\n",
       "      <th>uri_dob</th>\n",
       "    </tr>\n",
       "  </thead>\n",
       "  <tbody>\n",
       "    <tr>\n",
       "      <th>0</th>\n",
       "      <td>http://data.parliament.uk/resources/1388433</td>\n",
       "      <td>2022-01-05</td>\n",
       "      <td>2022-01-05T00:00:00</td>\n",
       "      <td>Prime Minister</td>\n",
       "      <td>Substantive</td>\n",
       "      <td>House of Commons chamber</td>\n",
       "      <td>Tabled</td>\n",
       "      <td>5</td>\n",
       "      <td>2021-12-16</td>\n",
       "      <td>2021-12-16T14:51:06.915</td>\n",
       "      <td>...</td>\n",
       "      <td>http://data.parliament.uk/members/1601</td>\n",
       "      <td>Bromley and Chislehurst</td>\n",
       "      <td>Sir Robert Neill</td>\n",
       "      <td>904884.0</td>\n",
       "      <td>NaN</td>\n",
       "      <td>Male</td>\n",
       "      <td>Conservative</td>\n",
       "      <td>http://data.parliament.uk/members/1601</td>\n",
       "      <td>1952-06-24</td>\n",
       "      <td>http://data.parliament.uk/members/1601</td>\n",
       "    </tr>\n",
       "    <tr>\n",
       "      <th>1</th>\n",
       "      <td>http://data.parliament.uk/resources/1386494</td>\n",
       "      <td>2021-12-15</td>\n",
       "      <td>2021-12-15T00:00:00</td>\n",
       "      <td>Prime Minister</td>\n",
       "      <td>Substantive</td>\n",
       "      <td>House of Commons chamber</td>\n",
       "      <td>Tabled</td>\n",
       "      <td>9</td>\n",
       "      <td>2021-12-09</td>\n",
       "      <td>2021-12-15T09:09:06.008</td>\n",
       "      <td>...</td>\n",
       "      <td>http://data.parliament.uk/members/1601</td>\n",
       "      <td>Bromley and Chislehurst</td>\n",
       "      <td>Sir Robert Neill</td>\n",
       "      <td>904812.0</td>\n",
       "      <td>NaN</td>\n",
       "      <td>Male</td>\n",
       "      <td>Conservative</td>\n",
       "      <td>http://data.parliament.uk/members/1601</td>\n",
       "      <td>1952-06-24</td>\n",
       "      <td>http://data.parliament.uk/members/1601</td>\n",
       "    </tr>\n",
       "    <tr>\n",
       "      <th>2</th>\n",
       "      <td>http://data.parliament.uk/resources/1379254</td>\n",
       "      <td>2021-11-23</td>\n",
       "      <td>2021-11-23T00:00:00</td>\n",
       "      <td>Department of Health and Social Care</td>\n",
       "      <td>Topical</td>\n",
       "      <td>House of Commons chamber</td>\n",
       "      <td>Tabled</td>\n",
       "      <td>10</td>\n",
       "      <td>2021-11-17</td>\n",
       "      <td>2021-11-23T13:44:07.090</td>\n",
       "      <td>...</td>\n",
       "      <td>http://data.parliament.uk/members/1601</td>\n",
       "      <td>Bromley and Chislehurst</td>\n",
       "      <td>Sir Robert Neill</td>\n",
       "      <td>904329.0</td>\n",
       "      <td>NaN</td>\n",
       "      <td>Male</td>\n",
       "      <td>Conservative</td>\n",
       "      <td>http://data.parliament.uk/members/1601</td>\n",
       "      <td>1952-06-24</td>\n",
       "      <td>http://data.parliament.uk/members/1601</td>\n",
       "    </tr>\n",
       "    <tr>\n",
       "      <th>3</th>\n",
       "      <td>http://data.parliament.uk/resources/1351922</td>\n",
       "      <td>2021-09-06</td>\n",
       "      <td>2021-09-06T00:00:00</td>\n",
       "      <td>Department for Education</td>\n",
       "      <td>Substantive</td>\n",
       "      <td>House of Commons chamber</td>\n",
       "      <td>Tabled</td>\n",
       "      <td>9</td>\n",
       "      <td>2021-08-31</td>\n",
       "      <td>2021-09-06T15:32:44.687</td>\n",
       "      <td>...</td>\n",
       "      <td>http://data.parliament.uk/members/1601</td>\n",
       "      <td>Bromley and Chislehurst</td>\n",
       "      <td>Sir Robert Neill</td>\n",
       "      <td>903323.0</td>\n",
       "      <td>NaN</td>\n",
       "      <td>Male</td>\n",
       "      <td>Conservative</td>\n",
       "      <td>http://data.parliament.uk/members/1601</td>\n",
       "      <td>1952-06-24</td>\n",
       "      <td>http://data.parliament.uk/members/1601</td>\n",
       "    </tr>\n",
       "    <tr>\n",
       "      <th>4</th>\n",
       "      <td>http://data.parliament.uk/resources/1347152</td>\n",
       "      <td>2021-07-22</td>\n",
       "      <td>2021-07-22T00:00:00</td>\n",
       "      <td>Department for Environment, Food and Rural Aff...</td>\n",
       "      <td>Substantive</td>\n",
       "      <td>House of Commons chamber</td>\n",
       "      <td>Tabled</td>\n",
       "      <td>13</td>\n",
       "      <td>2021-07-15</td>\n",
       "      <td>2021-08-18T17:06:49.789</td>\n",
       "      <td>...</td>\n",
       "      <td>http://data.parliament.uk/members/1601</td>\n",
       "      <td>Bromley and Chislehurst</td>\n",
       "      <td>Sir Robert Neill</td>\n",
       "      <td>903142.0</td>\n",
       "      <td>NaN</td>\n",
       "      <td>Male</td>\n",
       "      <td>Conservative</td>\n",
       "      <td>http://data.parliament.uk/members/1601</td>\n",
       "      <td>1952-06-24</td>\n",
       "      <td>http://data.parliament.uk/members/1601</td>\n",
       "    </tr>\n",
       "  </tbody>\n",
       "</table>\n",
       "<p>5 rows × 22 columns</p>\n",
       "</div>"
      ],
      "text/plain": [
       "                                           uri answer date  \\\n",
       "0  http://data.parliament.uk/resources/1388433  2022-01-05   \n",
       "1  http://data.parliament.uk/resources/1386494  2021-12-15   \n",
       "2  http://data.parliament.uk/resources/1379254  2021-11-23   \n",
       "3  http://data.parliament.uk/resources/1351922  2021-09-06   \n",
       "4  http://data.parliament.uk/resources/1347152  2021-07-22   \n",
       "\n",
       "      answer date time                                     answering body  \\\n",
       "0  2022-01-05T00:00:00                                     Prime Minister   \n",
       "1  2021-12-15T00:00:00                                     Prime Minister   \n",
       "2  2021-11-23T00:00:00               Department of Health and Social Care   \n",
       "3  2021-09-06T00:00:00                           Department for Education   \n",
       "4  2021-07-22T00:00:00  Department for Environment, Food and Rural Aff...   \n",
       "\n",
       "  commons question time > question type     location > pref label  \\\n",
       "0                           Substantive  House of Commons chamber   \n",
       "1                           Substantive  House of Commons chamber   \n",
       "2                               Topical  House of Commons chamber   \n",
       "3                           Substantive  House of Commons chamber   \n",
       "4                           Substantive  House of Commons chamber   \n",
       "\n",
       "  question status  ballot number date tabled                 modified  ...  \\\n",
       "0          Tabled              5  2021-12-16  2021-12-16T14:51:06.915  ...   \n",
       "1          Tabled              9  2021-12-09  2021-12-15T09:09:06.008  ...   \n",
       "2          Tabled             10  2021-11-17  2021-11-23T13:44:07.090  ...   \n",
       "3          Tabled              9  2021-08-31  2021-09-06T15:32:44.687  ...   \n",
       "4          Tabled             13  2021-07-15  2021-08-18T17:06:49.789  ...   \n",
       "\n",
       "                     tabling member > uri  \\\n",
       "0  http://data.parliament.uk/members/1601   \n",
       "1  http://data.parliament.uk/members/1601   \n",
       "2  http://data.parliament.uk/members/1601   \n",
       "3  http://data.parliament.uk/members/1601   \n",
       "4  http://data.parliament.uk/members/1601   \n",
       "\n",
       "  tabling member > constituency > pref label tabling member printed       uin  \\\n",
       "0                    Bromley and Chislehurst       Sir Robert Neill  904884.0   \n",
       "1                    Bromley and Chislehurst       Sir Robert Neill  904812.0   \n",
       "2                    Bromley and Chislehurst       Sir Robert Neill  904329.0   \n",
       "3                    Bromley and Chislehurst       Sir Robert Neill  903323.0   \n",
       "4                    Bromley and Chislehurst       Sir Robert Neill  903142.0   \n",
       "\n",
       "  tabling member  gender         party  \\\n",
       "0            NaN    Male  Conservative   \n",
       "1            NaN    Male  Conservative   \n",
       "2            NaN    Male  Conservative   \n",
       "3            NaN    Male  Conservative   \n",
       "4            NaN    Male  Conservative   \n",
       "\n",
       "                                   uri_mp        dob  \\\n",
       "0  http://data.parliament.uk/members/1601 1952-06-24   \n",
       "1  http://data.parliament.uk/members/1601 1952-06-24   \n",
       "2  http://data.parliament.uk/members/1601 1952-06-24   \n",
       "3  http://data.parliament.uk/members/1601 1952-06-24   \n",
       "4  http://data.parliament.uk/members/1601 1952-06-24   \n",
       "\n",
       "                                  uri_dob  \n",
       "0  http://data.parliament.uk/members/1601  \n",
       "1  http://data.parliament.uk/members/1601  \n",
       "2  http://data.parliament.uk/members/1601  \n",
       "3  http://data.parliament.uk/members/1601  \n",
       "4  http://data.parliament.uk/members/1601  \n",
       "\n",
       "[5 rows x 22 columns]"
      ]
     },
     "execution_count": 205,
     "metadata": {},
     "output_type": "execute_result"
    }
   ],
   "source": [
    "df.head()"
   ]
  },
  {
   "cell_type": "code",
   "execution_count": 206,
   "metadata": {},
   "outputs": [
    {
     "data": {
      "text/plain": [
       "(36748, 22)"
      ]
     },
     "execution_count": 206,
     "metadata": {},
     "output_type": "execute_result"
    }
   ],
   "source": [
    "df.shape"
   ]
  },
  {
   "cell_type": "code",
   "execution_count": 207,
   "metadata": {},
   "outputs": [
    {
     "data": {
      "text/plain": [
       "(740,)"
      ]
     },
     "execution_count": 207,
     "metadata": {},
     "output_type": "execute_result"
    }
   ],
   "source": [
    "df['uri_mp'].unique().shape"
   ]
  },
  {
   "cell_type": "code",
   "execution_count": 208,
   "metadata": {},
   "outputs": [
    {
     "data": {
      "text/plain": [
       "<matplotlib.axes._subplots.AxesSubplot at 0x1261c14d0>"
      ]
     },
     "execution_count": 208,
     "metadata": {},
     "output_type": "execute_result"
    },
    {
     "data": {
      "image/png": "[encoded data removed]",
      "text/plain": [
       "<Figure size 432x288 with 1 Axes>"
      ]
     },
     "metadata": {},
     "output_type": "display_data"
    }
   ],
   "source": [
    "df.groupby('uri_mp')['uri'].count().plot(kind='hist',bins=100)"
   ]
  },
  {
   "cell_type": "code",
   "execution_count": 209,
   "metadata": {},
   "outputs": [
    {
     "data": {
      "text/plain": [
       "uri_mp                                 answering body                              \n",
       "http://data.parliament.uk/members/103  Department of Health and Social Care            0.500000\n",
       "                                       Prime Minister                                  0.500000\n",
       "http://data.parliament.uk/members/104  Department of Health and Social Care            0.071429\n",
       "                                       Foreign and Commonwealth Office                 0.071429\n",
       "                                       Foreign, Commonwealth and Development Office    0.071429\n",
       "                                                                                         ...   \n",
       "http://data.parliament.uk/members/93   HM Treasury                                     0.050000\n",
       "                                       Home Office                                     0.025000\n",
       "                                       Ministry of Defence                             0.050000\n",
       "                                       Ministry of Justice                             0.050000\n",
       "                                       Prime Minister                                  0.150000\n",
       "Name: uri, Length: 11314, dtype: float64"
      ]
     },
     "execution_count": 209,
     "metadata": {},
     "output_type": "execute_result"
    }
   ],
   "source": [
    "df.groupby(['uri_mp','answering body'])['uri'].count().groupby(level=0).apply(lambda x: x / x.sum())"
   ]
  },
  {
   "cell_type": "code",
   "execution_count": 222,
   "metadata": {},
   "outputs": [
    {
     "data": {
      "text/html": [
       "<div>\n",
       "<style scoped>\n",
       "    .dataframe tbody tr th:only-of-type {\n",
       "        vertical-align: middle;\n",
       "    }\n",
       "\n",
       "    .dataframe tbody tr th {\n",
       "        vertical-align: top;\n",
       "    }\n",
       "\n",
       "    .dataframe thead th {\n",
       "        text-align: right;\n",
       "    }\n",
       "</style>\n",
       "<table border=\"1\" class=\"dataframe\">\n",
       "  <thead>\n",
       "    <tr style=\"text-align: right;\">\n",
       "      <th></th>\n",
       "      <th>uri_mp</th>\n",
       "      <th>gender</th>\n",
       "      <th>party</th>\n",
       "      <th>answering body</th>\n",
       "      <th>uri</th>\n",
       "    </tr>\n",
       "  </thead>\n",
       "  <tbody>\n",
       "    <tr>\n",
       "      <th>0</th>\n",
       "      <td>http://data.parliament.uk/members/103</td>\n",
       "      <td>Male</td>\n",
       "      <td>Conservative</td>\n",
       "      <td>Department of Health and Social Care</td>\n",
       "      <td>1</td>\n",
       "    </tr>\n",
       "    <tr>\n",
       "      <th>1</th>\n",
       "      <td>http://data.parliament.uk/members/103</td>\n",
       "      <td>Male</td>\n",
       "      <td>Conservative</td>\n",
       "      <td>Prime Minister</td>\n",
       "      <td>1</td>\n",
       "    </tr>\n",
       "    <tr>\n",
       "      <th>2</th>\n",
       "      <td>http://data.parliament.uk/members/104</td>\n",
       "      <td>Male</td>\n",
       "      <td>Conservative</td>\n",
       "      <td>Department of Health and Social Care</td>\n",
       "      <td>1</td>\n",
       "    </tr>\n",
       "    <tr>\n",
       "      <th>3</th>\n",
       "      <td>http://data.parliament.uk/members/104</td>\n",
       "      <td>Male</td>\n",
       "      <td>Conservative</td>\n",
       "      <td>Foreign and Commonwealth Office</td>\n",
       "      <td>1</td>\n",
       "    </tr>\n",
       "    <tr>\n",
       "      <th>4</th>\n",
       "      <td>http://data.parliament.uk/members/104</td>\n",
       "      <td>Male</td>\n",
       "      <td>Conservative</td>\n",
       "      <td>Foreign, Commonwealth and Development Office</td>\n",
       "      <td>1</td>\n",
       "    </tr>\n",
       "    <tr>\n",
       "      <th>...</th>\n",
       "      <td>...</td>\n",
       "      <td>...</td>\n",
       "      <td>...</td>\n",
       "      <td>...</td>\n",
       "      <td>...</td>\n",
       "    </tr>\n",
       "    <tr>\n",
       "      <th>10984</th>\n",
       "      <td>http://data.parliament.uk/members/93</td>\n",
       "      <td>Male</td>\n",
       "      <td>Conservative</td>\n",
       "      <td>HM Treasury</td>\n",
       "      <td>2</td>\n",
       "    </tr>\n",
       "    <tr>\n",
       "      <th>10985</th>\n",
       "      <td>http://data.parliament.uk/members/93</td>\n",
       "      <td>Male</td>\n",
       "      <td>Conservative</td>\n",
       "      <td>Home Office</td>\n",
       "      <td>1</td>\n",
       "    </tr>\n",
       "    <tr>\n",
       "      <th>10986</th>\n",
       "      <td>http://data.parliament.uk/members/93</td>\n",
       "      <td>Male</td>\n",
       "      <td>Conservative</td>\n",
       "      <td>Ministry of Defence</td>\n",
       "      <td>2</td>\n",
       "    </tr>\n",
       "    <tr>\n",
       "      <th>10987</th>\n",
       "      <td>http://data.parliament.uk/members/93</td>\n",
       "      <td>Male</td>\n",
       "      <td>Conservative</td>\n",
       "      <td>Ministry of Justice</td>\n",
       "      <td>2</td>\n",
       "    </tr>\n",
       "    <tr>\n",
       "      <th>10988</th>\n",
       "      <td>http://data.parliament.uk/members/93</td>\n",
       "      <td>Male</td>\n",
       "      <td>Conservative</td>\n",
       "      <td>Prime Minister</td>\n",
       "      <td>6</td>\n",
       "    </tr>\n",
       "  </tbody>\n",
       "</table>\n",
       "<p>10989 rows × 5 columns</p>\n",
       "</div>"
      ],
      "text/plain": [
       "                                      uri_mp gender         party  \\\n",
       "0      http://data.parliament.uk/members/103   Male  Conservative   \n",
       "1      http://data.parliament.uk/members/103   Male  Conservative   \n",
       "2      http://data.parliament.uk/members/104   Male  Conservative   \n",
       "3      http://data.parliament.uk/members/104   Male  Conservative   \n",
       "4      http://data.parliament.uk/members/104   Male  Conservative   \n",
       "...                                      ...    ...           ...   \n",
       "10984   http://data.parliament.uk/members/93   Male  Conservative   \n",
       "10985   http://data.parliament.uk/members/93   Male  Conservative   \n",
       "10986   http://data.parliament.uk/members/93   Male  Conservative   \n",
       "10987   http://data.parliament.uk/members/93   Male  Conservative   \n",
       "10988   http://data.parliament.uk/members/93   Male  Conservative   \n",
       "\n",
       "                                     answering body  uri  \n",
       "0              Department of Health and Social Care    1  \n",
       "1                                    Prime Minister    1  \n",
       "2              Department of Health and Social Care    1  \n",
       "3                   Foreign and Commonwealth Office    1  \n",
       "4      Foreign, Commonwealth and Development Office    1  \n",
       "...                                             ...  ...  \n",
       "10984                                   HM Treasury    2  \n",
       "10985                                   Home Office    1  \n",
       "10986                           Ministry of Defence    2  \n",
       "10987                           Ministry of Justice    2  \n",
       "10988                                Prime Minister    6  \n",
       "\n",
       "[10989 rows x 5 columns]"
      ]
     },
     "execution_count": 222,
     "metadata": {},
     "output_type": "execute_result"
    }
   ],
   "source": [
    "data_parl = df.groupby(['uri_mp','gender','party','answering body'])['uri'].count()\n",
    "data_parl= data_parl.reset_index()\n",
    "data_parl"
   ]
  },
  {
   "cell_type": "code",
   "execution_count": 226,
   "metadata": {},
   "outputs": [],
   "source": [
    "by_mp = df.groupby(['uri_mp'])['uri'].count()"
   ]
  },
  {
   "cell_type": "code",
   "execution_count": 227,
   "metadata": {},
   "outputs": [],
   "source": [
    "data_parl = data_parl.merge(by_mp, left_on='uri_mp', right_index=True)"
   ]
  },
  {
   "cell_type": "code",
   "execution_count": 228,
   "metadata": {},
   "outputs": [
    {
     "data": {
      "text/html": [
       "<div>\n",
       "<style scoped>\n",
       "    .dataframe tbody tr th:only-of-type {\n",
       "        vertical-align: middle;\n",
       "    }\n",
       "\n",
       "    .dataframe tbody tr th {\n",
       "        vertical-align: top;\n",
       "    }\n",
       "\n",
       "    .dataframe thead th {\n",
       "        text-align: right;\n",
       "    }\n",
       "</style>\n",
       "<table border=\"1\" class=\"dataframe\">\n",
       "  <thead>\n",
       "    <tr style=\"text-align: right;\">\n",
       "      <th></th>\n",
       "      <th>uri_mp</th>\n",
       "      <th>gender</th>\n",
       "      <th>party</th>\n",
       "      <th>answering body</th>\n",
       "      <th>uri_x</th>\n",
       "      <th>uri_y</th>\n",
       "    </tr>\n",
       "  </thead>\n",
       "  <tbody>\n",
       "    <tr>\n",
       "      <th>0</th>\n",
       "      <td>http://data.parliament.uk/members/103</td>\n",
       "      <td>Male</td>\n",
       "      <td>Conservative</td>\n",
       "      <td>Department of Health and Social Care</td>\n",
       "      <td>1</td>\n",
       "      <td>2</td>\n",
       "    </tr>\n",
       "    <tr>\n",
       "      <th>1</th>\n",
       "      <td>http://data.parliament.uk/members/103</td>\n",
       "      <td>Male</td>\n",
       "      <td>Conservative</td>\n",
       "      <td>Prime Minister</td>\n",
       "      <td>1</td>\n",
       "      <td>2</td>\n",
       "    </tr>\n",
       "    <tr>\n",
       "      <th>2</th>\n",
       "      <td>http://data.parliament.uk/members/104</td>\n",
       "      <td>Male</td>\n",
       "      <td>Conservative</td>\n",
       "      <td>Department of Health and Social Care</td>\n",
       "      <td>1</td>\n",
       "      <td>14</td>\n",
       "    </tr>\n",
       "    <tr>\n",
       "      <th>3</th>\n",
       "      <td>http://data.parliament.uk/members/104</td>\n",
       "      <td>Male</td>\n",
       "      <td>Conservative</td>\n",
       "      <td>Foreign and Commonwealth Office</td>\n",
       "      <td>1</td>\n",
       "      <td>14</td>\n",
       "    </tr>\n",
       "    <tr>\n",
       "      <th>4</th>\n",
       "      <td>http://data.parliament.uk/members/104</td>\n",
       "      <td>Male</td>\n",
       "      <td>Conservative</td>\n",
       "      <td>Foreign, Commonwealth and Development Office</td>\n",
       "      <td>1</td>\n",
       "      <td>14</td>\n",
       "    </tr>\n",
       "    <tr>\n",
       "      <th>...</th>\n",
       "      <td>...</td>\n",
       "      <td>...</td>\n",
       "      <td>...</td>\n",
       "      <td>...</td>\n",
       "      <td>...</td>\n",
       "      <td>...</td>\n",
       "    </tr>\n",
       "    <tr>\n",
       "      <th>10984</th>\n",
       "      <td>http://data.parliament.uk/members/93</td>\n",
       "      <td>Male</td>\n",
       "      <td>Conservative</td>\n",
       "      <td>HM Treasury</td>\n",
       "      <td>2</td>\n",
       "      <td>40</td>\n",
       "    </tr>\n",
       "    <tr>\n",
       "      <th>10985</th>\n",
       "      <td>http://data.parliament.uk/members/93</td>\n",
       "      <td>Male</td>\n",
       "      <td>Conservative</td>\n",
       "      <td>Home Office</td>\n",
       "      <td>1</td>\n",
       "      <td>40</td>\n",
       "    </tr>\n",
       "    <tr>\n",
       "      <th>10986</th>\n",
       "      <td>http://data.parliament.uk/members/93</td>\n",
       "      <td>Male</td>\n",
       "      <td>Conservative</td>\n",
       "      <td>Ministry of Defence</td>\n",
       "      <td>2</td>\n",
       "      <td>40</td>\n",
       "    </tr>\n",
       "    <tr>\n",
       "      <th>10987</th>\n",
       "      <td>http://data.parliament.uk/members/93</td>\n",
       "      <td>Male</td>\n",
       "      <td>Conservative</td>\n",
       "      <td>Ministry of Justice</td>\n",
       "      <td>2</td>\n",
       "      <td>40</td>\n",
       "    </tr>\n",
       "    <tr>\n",
       "      <th>10988</th>\n",
       "      <td>http://data.parliament.uk/members/93</td>\n",
       "      <td>Male</td>\n",
       "      <td>Conservative</td>\n",
       "      <td>Prime Minister</td>\n",
       "      <td>6</td>\n",
       "      <td>40</td>\n",
       "    </tr>\n",
       "  </tbody>\n",
       "</table>\n",
       "<p>10989 rows × 6 columns</p>\n",
       "</div>"
      ],
      "text/plain": [
       "                                      uri_mp gender         party  \\\n",
       "0      http://data.parliament.uk/members/103   Male  Conservative   \n",
       "1      http://data.parliament.uk/members/103   Male  Conservative   \n",
       "2      http://data.parliament.uk/members/104   Male  Conservative   \n",
       "3      http://data.parliament.uk/members/104   Male  Conservative   \n",
       "4      http://data.parliament.uk/members/104   Male  Conservative   \n",
       "...                                      ...    ...           ...   \n",
       "10984   http://data.parliament.uk/members/93   Male  Conservative   \n",
       "10985   http://data.parliament.uk/members/93   Male  Conservative   \n",
       "10986   http://data.parliament.uk/members/93   Male  Conservative   \n",
       "10987   http://data.parliament.uk/members/93   Male  Conservative   \n",
       "10988   http://data.parliament.uk/members/93   Male  Conservative   \n",
       "\n",
       "                                     answering body  uri_x  uri_y  \n",
       "0              Department of Health and Social Care      1      2  \n",
       "1                                    Prime Minister      1      2  \n",
       "2              Department of Health and Social Care      1     14  \n",
       "3                   Foreign and Commonwealth Office      1     14  \n",
       "4      Foreign, Commonwealth and Development Office      1     14  \n",
       "...                                             ...    ...    ...  \n",
       "10984                                   HM Treasury      2     40  \n",
       "10985                                   Home Office      1     40  \n",
       "10986                           Ministry of Defence      2     40  \n",
       "10987                           Ministry of Justice      2     40  \n",
       "10988                                Prime Minister      6     40  \n",
       "\n",
       "[10989 rows x 6 columns]"
      ]
     },
     "execution_count": 228,
     "metadata": {},
     "output_type": "execute_result"
    }
   ],
   "source": [
    "data_parl"
   ]
  },
  {
   "cell_type": "code",
   "execution_count": 252,
   "metadata": {},
   "outputs": [],
   "source": [
    "data_parl['not_body'] = data_parl['uri_y'] -  data_parl['uri_x'] "
   ]
  },
  {
   "cell_type": "code",
   "execution_count": 253,
   "metadata": {},
   "outputs": [
    {
     "data": {
      "text/plain": [
       "array(['Department of Health and Social Care', 'Prime Minister',\n",
       "       'Foreign and Commonwealth Office',\n",
       "       'Foreign, Commonwealth and Development Office', 'Home Office',\n",
       "       'Ministry of Defence', 'Women and Equalities',\n",
       "       'Department for Communities and Local Government',\n",
       "       'Department for Education',\n",
       "       'Department for Environment, Food and Rural Affairs',\n",
       "       'Department of Health', 'Attorney General', 'COP26',\n",
       "       'Cabinet Office', 'Church Commissioners',\n",
       "       'Department for Business, Energy and Industrial Strategy',\n",
       "       'Department for Business, Innovation and Skills',\n",
       "       'Department for Culture, Media and Sport',\n",
       "       'Department for Digital, Culture, Media and Sport',\n",
       "       'Department for Energy and Climate Change',\n",
       "       'Department for Exiting the European Union ',\n",
       "       'Department for International Development',\n",
       "       'Department for International Trade', 'Department for Transport',\n",
       "       'Department for Work and Pensions', 'Deputy Prime Minister',\n",
       "       'HM Treasury',\n",
       "       'Ministry of Housing, Communities and Local Government',\n",
       "       'Ministry of Justice', 'Northern Ireland Office',\n",
       "       'Scotland Office', 'Treasury', 'Wales Office',\n",
       "       'Department for Exiting the European Union',\n",
       "       \"Speaker's Committee on the Electoral Commission\",\n",
       "       'Leader of the House', 'House of Commons Commission',\n",
       "       'Parliamentary Works Sponsor Body', 'Public Accounts Commission',\n",
       "       'Department for Levelling Up, Housing and Communities',\n",
       "       'Chancellor of the Duchy of Lancaster and Minister for the Cabinet Office',\n",
       "       'Chancellor of the Duchy of Lancaster'], dtype=object)"
      ]
     },
     "execution_count": 253,
     "metadata": {},
     "output_type": "execute_result"
    }
   ],
   "source": [
    "data_parl['answering body'].unique()"
   ]
  },
  {
   "cell_type": "code",
   "execution_count": 285,
   "metadata": {},
   "outputs": [
    {
     "data": {
      "text/html": [
       "<div>\n",
       "<style scoped>\n",
       "    .dataframe tbody tr th:only-of-type {\n",
       "        vertical-align: middle;\n",
       "    }\n",
       "\n",
       "    .dataframe tbody tr th {\n",
       "        vertical-align: top;\n",
       "    }\n",
       "\n",
       "    .dataframe thead th {\n",
       "        text-align: right;\n",
       "    }\n",
       "</style>\n",
       "<table border=\"1\" class=\"dataframe\">\n",
       "  <thead>\n",
       "    <tr style=\"text-align: right;\">\n",
       "      <th></th>\n",
       "      <th>uri_mp</th>\n",
       "      <th>gender</th>\n",
       "      <th>party</th>\n",
       "      <th>answering body</th>\n",
       "      <th>uri_x</th>\n",
       "      <th>uri_y</th>\n",
       "      <th>not_body</th>\n",
       "    </tr>\n",
       "  </thead>\n",
       "  <tbody>\n",
       "    <tr>\n",
       "      <th>23</th>\n",
       "      <td>http://data.parliament.uk/members/114</td>\n",
       "      <td>Male</td>\n",
       "      <td>Conservative</td>\n",
       "      <td>Department for Energy and Climate Change</td>\n",
       "      <td>1</td>\n",
       "      <td>118</td>\n",
       "      <td>117</td>\n",
       "    </tr>\n",
       "    <tr>\n",
       "      <th>50</th>\n",
       "      <td>http://data.parliament.uk/members/116</td>\n",
       "      <td>Male</td>\n",
       "      <td>Conservative</td>\n",
       "      <td>Department for Energy and Climate Change</td>\n",
       "      <td>1</td>\n",
       "      <td>34</td>\n",
       "      <td>33</td>\n",
       "    </tr>\n",
       "    <tr>\n",
       "      <th>100</th>\n",
       "      <td>http://data.parliament.uk/members/12</td>\n",
       "      <td>Female</td>\n",
       "      <td>Labour</td>\n",
       "      <td>Department for Energy and Climate Change</td>\n",
       "      <td>1</td>\n",
       "      <td>52</td>\n",
       "      <td>51</td>\n",
       "    </tr>\n",
       "    <tr>\n",
       "      <th>136</th>\n",
       "      <td>http://data.parliament.uk/members/136</td>\n",
       "      <td>Male</td>\n",
       "      <td>Conservative</td>\n",
       "      <td>Department for Energy and Climate Change</td>\n",
       "      <td>4</td>\n",
       "      <td>10</td>\n",
       "      <td>6</td>\n",
       "    </tr>\n",
       "    <tr>\n",
       "      <th>142</th>\n",
       "      <td>http://data.parliament.uk/members/1383</td>\n",
       "      <td>Male</td>\n",
       "      <td>Labour</td>\n",
       "      <td>Department for Energy and Climate Change</td>\n",
       "      <td>1</td>\n",
       "      <td>17</td>\n",
       "      <td>16</td>\n",
       "    </tr>\n",
       "    <tr>\n",
       "      <th>...</th>\n",
       "      <td>...</td>\n",
       "      <td>...</td>\n",
       "      <td>...</td>\n",
       "      <td>...</td>\n",
       "      <td>...</td>\n",
       "      <td>...</td>\n",
       "      <td>...</td>\n",
       "    </tr>\n",
       "    <tr>\n",
       "      <th>10880</th>\n",
       "      <td>http://data.parliament.uk/members/605</td>\n",
       "      <td>Male</td>\n",
       "      <td>Labour</td>\n",
       "      <td>Department for Energy and Climate Change</td>\n",
       "      <td>7</td>\n",
       "      <td>37</td>\n",
       "      <td>30</td>\n",
       "    </tr>\n",
       "    <tr>\n",
       "      <th>10900</th>\n",
       "      <td>http://data.parliament.uk/members/62</td>\n",
       "      <td>Male</td>\n",
       "      <td>Labour</td>\n",
       "      <td>Department for Energy and Climate Change</td>\n",
       "      <td>4</td>\n",
       "      <td>24</td>\n",
       "      <td>20</td>\n",
       "    </tr>\n",
       "    <tr>\n",
       "      <th>10916</th>\n",
       "      <td>http://data.parliament.uk/members/636</td>\n",
       "      <td>Female</td>\n",
       "      <td>Labour</td>\n",
       "      <td>Department for Energy and Climate Change</td>\n",
       "      <td>1</td>\n",
       "      <td>16</td>\n",
       "      <td>15</td>\n",
       "    </tr>\n",
       "    <tr>\n",
       "      <th>10936</th>\n",
       "      <td>http://data.parliament.uk/members/69</td>\n",
       "      <td>Male</td>\n",
       "      <td>Conservative</td>\n",
       "      <td>Department for Energy and Climate Change</td>\n",
       "      <td>1</td>\n",
       "      <td>35</td>\n",
       "      <td>34</td>\n",
       "    </tr>\n",
       "    <tr>\n",
       "      <th>10978</th>\n",
       "      <td>http://data.parliament.uk/members/93</td>\n",
       "      <td>Male</td>\n",
       "      <td>Conservative</td>\n",
       "      <td>Department for Energy and Climate Change</td>\n",
       "      <td>1</td>\n",
       "      <td>40</td>\n",
       "      <td>39</td>\n",
       "    </tr>\n",
       "  </tbody>\n",
       "</table>\n",
       "<p>212 rows × 7 columns</p>\n",
       "</div>"
      ],
      "text/plain": [
       "                                       uri_mp  gender         party  \\\n",
       "23      http://data.parliament.uk/members/114    Male  Conservative   \n",
       "50      http://data.parliament.uk/members/116    Male  Conservative   \n",
       "100      http://data.parliament.uk/members/12  Female        Labour   \n",
       "136     http://data.parliament.uk/members/136    Male  Conservative   \n",
       "142    http://data.parliament.uk/members/1383    Male        Labour   \n",
       "...                                       ...     ...           ...   \n",
       "10880   http://data.parliament.uk/members/605    Male        Labour   \n",
       "10900    http://data.parliament.uk/members/62    Male        Labour   \n",
       "10916   http://data.parliament.uk/members/636  Female        Labour   \n",
       "10936    http://data.parliament.uk/members/69    Male  Conservative   \n",
       "10978    http://data.parliament.uk/members/93    Male  Conservative   \n",
       "\n",
       "                                 answering body  uri_x  uri_y  not_body  \n",
       "23     Department for Energy and Climate Change      1    118       117  \n",
       "50     Department for Energy and Climate Change      1     34        33  \n",
       "100    Department for Energy and Climate Change      1     52        51  \n",
       "136    Department for Energy and Climate Change      4     10         6  \n",
       "142    Department for Energy and Climate Change      1     17        16  \n",
       "...                                         ...    ...    ...       ...  \n",
       "10880  Department for Energy and Climate Change      7     37        30  \n",
       "10900  Department for Energy and Climate Change      4     24        20  \n",
       "10916  Department for Energy and Climate Change      1     16        15  \n",
       "10936  Department for Energy and Climate Change      1     35        34  \n",
       "10978  Department for Energy and Climate Change      1     40        39  \n",
       "\n",
       "[212 rows x 7 columns]"
      ]
     },
     "execution_count": 285,
     "metadata": {},
     "output_type": "execute_result"
    }
   ],
   "source": [
    "body = 'Department for Energy and Climate Change'#'Department for Exiting the European Union'#'Ministry of Defence'# 'Women and Equalities'\n",
    "df_body = data_parl[(data_parl['answering body']==body) & (data_parl.party.isin(['Conservative','Labour']))]\n",
    "df_body"
   ]
  },
  {
   "cell_type": "code",
   "execution_count": 307,
   "metadata": {},
   "outputs": [
    {
     "name": "stdout",
     "output_type": "stream",
     "text": [
      "                   Generalized Linear Model Regression Results                   \n",
      "=================================================================================\n",
      "Dep. Variable:     ['uri_x', 'not_body']   No. Observations:                  212\n",
      "Model:                               GLM   Df Residuals:                      209\n",
      "Model Family:                   Binomial   Df Model:                            2\n",
      "Link Function:                     logit   Scale:                          1.0000\n",
      "Method:                             IRLS   Log-Likelihood:                -432.52\n",
      "Date:                   Sun, 09 Jan 2022   Deviance:                       329.35\n",
      "Time:                           23:16:11   Pearson chi2:                     523.\n",
      "No. Iterations:                        7                                         \n",
      "Covariance Type:               nonrobust                                         \n",
      "======================================================================================\n",
      "                         coef    std err          z      P>|z|      [0.025      0.975]\n",
      "--------------------------------------------------------------------------------------\n",
      "Intercept             -3.6901      0.114    -32.439      0.000      -3.913      -3.467\n",
      "C(gender)[T.Male]      0.1280      0.107      1.198      0.231      -0.081       0.337\n",
      "C(party)[T.Labour]     0.2329      0.096      2.431      0.015       0.045       0.421\n",
      "======================================================================================\n"
     ]
    }
   ],
   "source": [
    "formula = 'uri_x + not_body ~ C(gender) + C(party)'\n",
    "mod1 = smf.glm(formula=formula, data=df_body, family=sm.families.Binomial()).fit()\n",
    "print(mod1.summary())"
   ]
  },
  {
   "cell_type": "code",
   "execution_count": 301,
   "metadata": {},
   "outputs": [
    {
     "data": {
      "text/plain": [
       "Intercept             7.687015e-231\n",
       "gender[T.Male]         2.308249e-01\n",
       "C(party)[T.Labour]     1.504530e-02\n",
       "dtype: float64"
      ]
     },
     "execution_count": 301,
     "metadata": {},
     "output_type": "execute_result"
    }
   ],
   "source": [
    "mod1.pvalues"
   ]
  },
  {
   "cell_type": "code",
   "execution_count": 302,
   "metadata": {},
   "outputs": [
    {
     "name": "stdout",
     "output_type": "stream",
     "text": [
      "0.03196124921406451\n"
     ]
    }
   ],
   "source": [
    "print(logistic(mod1.params['gender[T.Male]']) - .5)\n",
    "#print(logistic(-0.567) - .5,logistic(-0.256) - .5)"
   ]
  },
  {
   "cell_type": "code",
   "execution_count": 311,
   "metadata": {},
   "outputs": [
    {
     "ename": "AttributeError",
     "evalue": "'GLMResults' object has no attribute 'mse_resid'",
     "output_type": "error",
     "traceback": [
      "\u001b[0;31m---------------------------------------------------------------------------\u001b[0m",
      "\u001b[0;31mAttributeError\u001b[0m                            Traceback (most recent call last)",
      "\u001b[0;32m<ipython-input-311-748473d92325>\u001b[0m in \u001b[0;36m<module>\u001b[0;34m\u001b[0m\n\u001b[0;32m----> 1\u001b[0;31m \u001b[0mfig\u001b[0m \u001b[0;34m=\u001b[0m \u001b[0msm\u001b[0m\u001b[0;34m.\u001b[0m\u001b[0mgraphics\u001b[0m\u001b[0;34m.\u001b[0m\u001b[0mplot_fit\u001b[0m\u001b[0;34m(\u001b[0m\u001b[0mmod1\u001b[0m\u001b[0;34m,\u001b[0m \u001b[0;34m\"C(gender)[T.Male]\"\u001b[0m\u001b[0;34m)\u001b[0m\u001b[0;34m\u001b[0m\u001b[0;34m\u001b[0m\u001b[0m\n\u001b[0m\u001b[1;32m      2\u001b[0m \u001b[0mfig\u001b[0m\u001b[0;34m.\u001b[0m\u001b[0mtight_layout\u001b[0m\u001b[0;34m(\u001b[0m\u001b[0mpad\u001b[0m\u001b[0;34m=\u001b[0m\u001b[0;36m1.0\u001b[0m\u001b[0;34m)\u001b[0m\u001b[0;34m\u001b[0m\u001b[0;34m\u001b[0m\u001b[0m\n",
      "\u001b[0;32m/usr/local/lib/python3.7/site-packages/statsmodels/graphics/regressionplots.py\u001b[0m in \u001b[0;36mplot_fit\u001b[0;34m(results, exog_idx, y_true, ax, **kwargs)\u001b[0m\n\u001b[1;32m    147\u001b[0m     \u001b[0mtitle\u001b[0m \u001b[0;34m=\u001b[0m \u001b[0;34m'Fitted values versus %s'\u001b[0m \u001b[0;34m%\u001b[0m \u001b[0mexog_name\u001b[0m\u001b[0;34m\u001b[0m\u001b[0;34m\u001b[0m\u001b[0m\n\u001b[1;32m    148\u001b[0m \u001b[0;34m\u001b[0m\u001b[0m\n\u001b[0;32m--> 149\u001b[0;31m     \u001b[0mprstd\u001b[0m\u001b[0;34m,\u001b[0m \u001b[0miv_l\u001b[0m\u001b[0;34m,\u001b[0m \u001b[0miv_u\u001b[0m \u001b[0;34m=\u001b[0m \u001b[0mwls_prediction_std\u001b[0m\u001b[0;34m(\u001b[0m\u001b[0mresults\u001b[0m\u001b[0;34m)\u001b[0m\u001b[0;34m\u001b[0m\u001b[0;34m\u001b[0m\u001b[0m\n\u001b[0m\u001b[1;32m    150\u001b[0m     ax.plot(x1, results.fittedvalues[x1_argsort], 'D', color='r',\n\u001b[1;32m    151\u001b[0m             label='fitted', **kwargs)\n",
      "\u001b[0;32m/usr/local/lib/python3.7/site-packages/statsmodels/sandbox/regression/predstd.py\u001b[0m in \u001b[0;36mwls_prediction_std\u001b[0;34m(res, exog, weights, alpha)\u001b[0m\n\u001b[1;32m     94\u001b[0m     \u001b[0;31m#predvar = res3.mse_resid + np.diag(np.dot(X2,np.dot(covb,X2.T)))\u001b[0m\u001b[0;34m\u001b[0m\u001b[0;34m\u001b[0m\u001b[0;34m\u001b[0m\u001b[0m\n\u001b[1;32m     95\u001b[0m     \u001b[0;31m# predication variance only\u001b[0m\u001b[0;34m\u001b[0m\u001b[0;34m\u001b[0m\u001b[0;34m\u001b[0m\u001b[0m\n\u001b[0;32m---> 96\u001b[0;31m     \u001b[0mpredvar\u001b[0m \u001b[0;34m=\u001b[0m \u001b[0mres\u001b[0m\u001b[0;34m.\u001b[0m\u001b[0mmse_resid\u001b[0m\u001b[0;34m/\u001b[0m\u001b[0mweights\u001b[0m \u001b[0;34m+\u001b[0m \u001b[0;34m(\u001b[0m\u001b[0mexog\u001b[0m \u001b[0;34m*\u001b[0m \u001b[0mnp\u001b[0m\u001b[0;34m.\u001b[0m\u001b[0mdot\u001b[0m\u001b[0;34m(\u001b[0m\u001b[0mcovb\u001b[0m\u001b[0;34m,\u001b[0m \u001b[0mexog\u001b[0m\u001b[0;34m.\u001b[0m\u001b[0mT\u001b[0m\u001b[0;34m)\u001b[0m\u001b[0;34m.\u001b[0m\u001b[0mT\u001b[0m\u001b[0;34m)\u001b[0m\u001b[0;34m.\u001b[0m\u001b[0msum\u001b[0m\u001b[0;34m(\u001b[0m\u001b[0;36m1\u001b[0m\u001b[0;34m)\u001b[0m\u001b[0;34m\u001b[0m\u001b[0;34m\u001b[0m\u001b[0m\n\u001b[0m\u001b[1;32m     97\u001b[0m     \u001b[0mpredstd\u001b[0m \u001b[0;34m=\u001b[0m \u001b[0mnp\u001b[0m\u001b[0;34m.\u001b[0m\u001b[0msqrt\u001b[0m\u001b[0;34m(\u001b[0m\u001b[0mpredvar\u001b[0m\u001b[0;34m)\u001b[0m\u001b[0;34m\u001b[0m\u001b[0;34m\u001b[0m\u001b[0m\n\u001b[1;32m     98\u001b[0m     \u001b[0mtppf\u001b[0m \u001b[0;34m=\u001b[0m \u001b[0mstats\u001b[0m\u001b[0;34m.\u001b[0m\u001b[0mt\u001b[0m\u001b[0;34m.\u001b[0m\u001b[0misf\u001b[0m\u001b[0;34m(\u001b[0m\u001b[0malpha\u001b[0m\u001b[0;34m/\u001b[0m\u001b[0;36m2.\u001b[0m\u001b[0;34m,\u001b[0m \u001b[0mres\u001b[0m\u001b[0;34m.\u001b[0m\u001b[0mdf_resid\u001b[0m\u001b[0;34m)\u001b[0m\u001b[0;34m\u001b[0m\u001b[0;34m\u001b[0m\u001b[0m\n",
      "\u001b[0;31mAttributeError\u001b[0m: 'GLMResults' object has no attribute 'mse_resid'"
     ]
    },
    {
     "data": {
      "image/png": "[encoded data removed]",
      "text/plain": [
       "<Figure size 432x288 with 1 Axes>"
      ]
     },
     "metadata": {},
     "output_type": "display_data"
    }
   ],
   "source": [
    "fig = sm.graphics.plot_fit(mod1, \"C(gender)[T.Male]\")\n",
    "fig.tight_layout(pad=1.0)"
   ]
  },
  {
   "cell_type": "code",
   "execution_count": 306,
   "metadata": {},
   "outputs": [
    {
     "data": {
      "image/png": "[encoded data removed]",
      "text/plain": [
       "<Figure size 432x288 with 1 Axes>"
      ]
     },
     "execution_count": 306,
     "metadata": {},
     "output_type": "execute_result"
    },
    {
     "data": {
      "image/png": "[encoded data removed]",
      "text/plain": [
       "<Figure size 432x288 with 1 Axes>"
      ]
     },
     "metadata": {},
     "output_type": "display_data"
    }
   ],
   "source": [
    "mod1.plot_partial_residuals('C(party)[T.Labour]')"
   ]
  },
  {
   "cell_type": "code",
   "execution_count": 308,
   "metadata": {},
   "outputs": [
    {
     "data": {
      "image/png": "[encoded data removed]",
      "text/plain": [
       "<Figure size 432x288 with 1 Axes>"
      ]
     },
     "execution_count": 308,
     "metadata": {},
     "output_type": "execute_result"
    },
    {
     "data": {
      "image/png": "[encoded data removed]",
      "text/plain": [
       "<Figure size 432x288 with 1 Axes>"
      ]
     },
     "metadata": {},
     "output_type": "display_data"
    }
   ],
   "source": [
    "mod1.plot_partial_residuals('C(gender)[T.Male]')"
   ]
  },
  {
   "cell_type": "code",
   "execution_count": 289,
   "metadata": {},
   "outputs": [
    {
     "name": "stdout",
     "output_type": "stream",
     "text": [
      "                 Generalized Linear Model Regression Results                  \n",
      "==============================================================================\n",
      "Dep. Variable:                  uri_x   No. Observations:                  212\n",
      "Model:                            GLM   Df Residuals:                      209\n",
      "Model Family:                 Poisson   Df Model:                            2\n",
      "Link Function:                    log   Scale:                          1.0000\n",
      "Method:                          IRLS   Log-Likelihood:                -430.67\n",
      "Date:                Sun, 09 Jan 2022   Deviance:                       310.23\n",
      "Time:                        23:11:37   Pearson chi2:                     506.\n",
      "No. Iterations:                     5                                         \n",
      "Covariance Type:            nonrobust                                         \n",
      "======================================================================================\n",
      "                         coef    std err          z      P>|z|      [0.025      0.975]\n",
      "--------------------------------------------------------------------------------------\n",
      "Intercept             -3.7143      0.112    -33.131      0.000      -3.934      -3.495\n",
      "C(gender)[T.Male]      0.1241      0.105      1.180      0.238      -0.082       0.330\n",
      "C(party)[T.Labour]     0.2259      0.094      2.395      0.017       0.041       0.411\n",
      "======================================================================================\n"
     ]
    }
   ],
   "source": [
    "formula = 'uri_x ~ C(gender) + C(party)'\n",
    "mod1 = smf.glm(formula=formula, data=df_body, family=sm.families.Poisson(), exposure=df_body['uri_y']).fit()\n",
    "print(mod1.summary())"
   ]
  },
  {
   "cell_type": "code",
   "execution_count": 245,
   "metadata": {},
   "outputs": [
    {
     "data": {
      "text/plain": [
       "-0.08981484250963839"
      ]
     },
     "execution_count": 245,
     "metadata": {},
     "output_type": "execute_result"
    }
   ],
   "source": [
    "logistic(-0.3632) - .5"
   ]
  },
  {
   "cell_type": "code",
   "execution_count": 242,
   "metadata": {},
   "outputs": [
    {
     "data": {
      "text/plain": [
       "-0.08819291949925195"
      ]
     },
     "execution_count": 242,
     "metadata": {},
     "output_type": "execute_result"
    }
   ],
   "source": [
    "logistic(-0.3565) - .5"
   ]
  },
  {
   "cell_type": "code",
   "execution_count": 235,
   "metadata": {},
   "outputs": [
    {
     "data": {
      "text/plain": [
       "uri_mp                                 gender\n",
       "http://data.parliament.uk/members/103  Male       2\n",
       "http://data.parliament.uk/members/104  Male       7\n",
       "http://data.parliament.uk/members/111  Male       4\n",
       "http://data.parliament.uk/members/114  Male      33\n",
       "http://data.parliament.uk/members/116  Male      16\n",
       "                                                 ..\n",
       "http://data.parliament.uk/members/69   Male      19\n",
       "http://data.parliament.uk/members/76   Male      10\n",
       "http://data.parliament.uk/members/77   Male       2\n",
       "http://data.parliament.uk/members/87   Male      12\n",
       "http://data.parliament.uk/members/93   Male      15\n",
       "Name: answering body, Length: 740, dtype: int64"
      ]
     },
     "execution_count": 235,
     "metadata": {},
     "output_type": "execute_result"
    }
   ],
   "source": [
    "df.groupby(['uri_mp','gender'])['answering body'].apply(lambda x: len(set(x)))"
   ]
  },
  {
   "cell_type": "code",
   "execution_count": 54,
   "metadata": {},
   "outputs": [
    {
     "data": {
      "text/plain": [
       "<matplotlib.axes._subplots.AxesSubplot at 0x124cfaad0>"
      ]
     },
     "execution_count": 54,
     "metadata": {},
     "output_type": "execute_result"
    },
    {
     "data": {
      "image/png": "[encoded data removed]",
      "text/plain": [
       "<Figure size 432x288 with 1 Axes>"
      ]
     },
     "metadata": {
      "needs_background": "light"
     },
     "output_type": "display_data"
    }
   ],
   "source": [
    "df.set_index('date tabled').resample('Q')['uri'].count().plot()"
   ]
  },
  {
   "cell_type": "code",
   "execution_count": 28,
   "metadata": {},
   "outputs": [],
   "source": [
    "get_age = lambda x: 2021 - x.year\n",
    "df['age'] = df['dob'].apply(get_age)"
   ]
  },
  {
   "cell_type": "code",
   "execution_count": null,
   "metadata": {},
   "outputs": [],
   "source": []
  },
  {
   "cell_type": "code",
   "execution_count": 29,
   "metadata": {},
   "outputs": [],
   "source": [
    "members = df[['age','party','gender']].drop_duplicates()"
   ]
  },
  {
   "cell_type": "code",
   "execution_count": 30,
   "metadata": {},
   "outputs": [
    {
     "data": {
      "text/plain": [
       "gender\n",
       "Female    AxesSubplot(0.125,0.125;0.775x0.755)\n",
       "Male      AxesSubplot(0.125,0.125;0.775x0.755)\n",
       "Name: age, dtype: object"
      ]
     },
     "execution_count": 30,
     "metadata": {},
     "output_type": "execute_result"
    },
    {
     "data": {
      "image/png": "[encoded data removed]",
      "text/plain": [
       "<Figure size 432x288 with 1 Axes>"
      ]
     },
     "metadata": {
      "needs_background": "light"
     },
     "output_type": "display_data"
    }
   ],
   "source": [
    "members.groupby('gender')['age'].plot(kind='density')"
   ]
  },
  {
   "cell_type": "code",
   "execution_count": 32,
   "metadata": {},
   "outputs": [
    {
     "data": {
      "text/html": [
       "<div>\n",
       "<style scoped>\n",
       "    .dataframe tbody tr th:only-of-type {\n",
       "        vertical-align: middle;\n",
       "    }\n",
       "\n",
       "    .dataframe tbody tr th {\n",
       "        vertical-align: top;\n",
       "    }\n",
       "\n",
       "    .dataframe thead th {\n",
       "        text-align: right;\n",
       "    }\n",
       "</style>\n",
       "<table border=\"1\" class=\"dataframe\">\n",
       "  <thead>\n",
       "    <tr style=\"text-align: right;\">\n",
       "      <th></th>\n",
       "      <th>age</th>\n",
       "      <th>gender</th>\n",
       "    </tr>\n",
       "  </thead>\n",
       "  <tbody>\n",
       "    <tr>\n",
       "      <th>0</th>\n",
       "      <td>69</td>\n",
       "      <td>Male</td>\n",
       "    </tr>\n",
       "    <tr>\n",
       "      <th>87</th>\n",
       "      <td>52</td>\n",
       "      <td>Male</td>\n",
       "    </tr>\n",
       "    <tr>\n",
       "      <th>290</th>\n",
       "      <td>63</td>\n",
       "      <td>Male</td>\n",
       "    </tr>\n",
       "    <tr>\n",
       "      <th>335</th>\n",
       "      <td>43</td>\n",
       "      <td>Male</td>\n",
       "    </tr>\n",
       "    <tr>\n",
       "      <th>404</th>\n",
       "      <td>59</td>\n",
       "      <td>Male</td>\n",
       "    </tr>\n",
       "    <tr>\n",
       "      <th>...</th>\n",
       "      <td>...</td>\n",
       "      <td>...</td>\n",
       "    </tr>\n",
       "    <tr>\n",
       "      <th>36719</th>\n",
       "      <td>70</td>\n",
       "      <td>Male</td>\n",
       "    </tr>\n",
       "    <tr>\n",
       "      <th>36728</th>\n",
       "      <td>75</td>\n",
       "      <td>Male</td>\n",
       "    </tr>\n",
       "    <tr>\n",
       "      <th>36735</th>\n",
       "      <td>51</td>\n",
       "      <td>Male</td>\n",
       "    </tr>\n",
       "    <tr>\n",
       "      <th>36740</th>\n",
       "      <td>58</td>\n",
       "      <td>Female</td>\n",
       "    </tr>\n",
       "    <tr>\n",
       "      <th>36745</th>\n",
       "      <td>49</td>\n",
       "      <td>Male</td>\n",
       "    </tr>\n",
       "  </tbody>\n",
       "</table>\n",
       "<p>328 rows × 2 columns</p>\n",
       "</div>"
      ],
      "text/plain": [
       "       age  gender\n",
       "0       69    Male\n",
       "87      52    Male\n",
       "290     63    Male\n",
       "335     43    Male\n",
       "404     59    Male\n",
       "...    ...     ...\n",
       "36719   70    Male\n",
       "36728   75    Male\n",
       "36735   51    Male\n",
       "36740   58  Female\n",
       "36745   49    Male\n",
       "\n",
       "[328 rows x 2 columns]"
      ]
     },
     "execution_count": 32,
     "metadata": {},
     "output_type": "execute_result"
    }
   ],
   "source": [
    "members[['age','gender']]"
   ]
  },
  {
   "cell_type": "code",
   "execution_count": 33,
   "metadata": {},
   "outputs": [
    {
     "name": "stderr",
     "output_type": "stream",
     "text": [
      "/usr/local/lib/python3.7/site-packages/matplotlib/cbook/__init__.py:1402: FutureWarning: Support for multi-dimensional indexing (e.g. `obj[:, None]`) is deprecated and will be removed in a future version.  Convert to a numpy array before indexing instead.\n",
      "  x[:, None]\n",
      "/usr/local/lib/python3.7/site-packages/matplotlib/axes/_base.py:276: FutureWarning: Support for multi-dimensional indexing (e.g. `obj[:, None]`) is deprecated and will be removed in a future version.  Convert to a numpy array before indexing instead.\n",
      "  x = x[:, np.newaxis]\n",
      "/usr/local/lib/python3.7/site-packages/matplotlib/axes/_base.py:278: FutureWarning: Support for multi-dimensional indexing (e.g. `obj[:, None]`) is deprecated and will be removed in a future version.  Convert to a numpy array before indexing instead.\n",
      "  y = y[:, np.newaxis]\n"
     ]
    },
    {
     "data": {
      "text/plain": [
       "<matplotlib.axes._subplots.AxesSubplot at 0x12425c210>"
      ]
     },
     "execution_count": 33,
     "metadata": {},
     "output_type": "execute_result"
    },
    {
     "data": {
      "image/png": "[encoded data removed]",
      "text/plain": [
       "<Figure size 432x288 with 1 Axes>"
      ]
     },
     "metadata": {
      "needs_background": "light"
     },
     "output_type": "display_data"
    }
   ],
   "source": [
    "sns.kdeplot(x='age',hue='gender',data=members[['age','gender']])"
   ]
  },
  {
   "cell_type": "code",
   "execution_count": 36,
   "metadata": {},
   "outputs": [
    {
     "data": {
      "text/plain": [
       "<matplotlib.axes._subplots.AxesSubplot at 0x1243ba750>"
      ]
     },
     "execution_count": 36,
     "metadata": {},
     "output_type": "execute_result"
    },
    {
     "data": {
      "image/png": "[encoded data removed]",
      "text/plain": [
       "<Figure size 432x288 with 1 Axes>"
      ]
     },
     "metadata": {
      "needs_background": "light"
     },
     "output_type": "display_data"
    }
   ],
   "source": [
    "df[df.gender=='Female']['age'].plot(kind='density')\n",
    "df[df.gender=='Male']['age'].plot(kind='density')"
   ]
  },
  {
   "cell_type": "code",
   "execution_count": 37,
   "metadata": {},
   "outputs": [
    {
     "data": {
      "text/plain": [
       "<pandas.core.groupby.generic.DataFrameGroupBy object at 0x12426e890>"
      ]
     },
     "execution_count": 37,
     "metadata": {},
     "output_type": "execute_result"
    }
   ],
   "source": [
    "df.groupby(['answering body','gender'])"
   ]
  },
  {
   "cell_type": "code",
   "execution_count": 38,
   "metadata": {
    "scrolled": true
   },
   "outputs": [
    {
     "data": {
      "text/plain": [
       "answering body        gender\n",
       "Attorney General      Female    224\n",
       "                      Male      455\n",
       "COP26                 Female     51\n",
       "                      Male      112\n",
       "Cabinet Office        Female    390\n",
       "                               ... \n",
       "Treasury              Male      557\n",
       "Wales Office          Female    184\n",
       "                      Male      660\n",
       "Women and Equalities  Female    440\n",
       "                      Male      552\n",
       "Name: date tabled, Length: 83, dtype: int64"
      ]
     },
     "execution_count": 38,
     "metadata": {},
     "output_type": "execute_result"
    }
   ],
   "source": [
    "%matplotlib inline\n",
    "by_gender = df.groupby(['answering body','gender'])['date tabled'].count()#.reset_index()\n",
    "by_gender"
   ]
  },
  {
   "cell_type": "code",
   "execution_count": 39,
   "metadata": {},
   "outputs": [],
   "source": [
    "probs = by_gender.groupby(level=1).apply(lambda x: x / float(x.sum()))\n",
    "probs_df = probs.reset_index()"
   ]
  },
  {
   "cell_type": "code",
   "execution_count": 40,
   "metadata": {},
   "outputs": [
    {
     "data": {
      "text/html": [
       "<div>\n",
       "<style scoped>\n",
       "    .dataframe tbody tr th:only-of-type {\n",
       "        vertical-align: middle;\n",
       "    }\n",
       "\n",
       "    .dataframe tbody tr th {\n",
       "        vertical-align: top;\n",
       "    }\n",
       "\n",
       "    .dataframe thead th {\n",
       "        text-align: right;\n",
       "    }\n",
       "</style>\n",
       "<table border=\"1\" class=\"dataframe\">\n",
       "  <thead>\n",
       "    <tr style=\"text-align: right;\">\n",
       "      <th></th>\n",
       "      <th>answering body</th>\n",
       "      <th>gender</th>\n",
       "      <th>date tabled</th>\n",
       "    </tr>\n",
       "  </thead>\n",
       "  <tbody>\n",
       "    <tr>\n",
       "      <th>0</th>\n",
       "      <td>Attorney General</td>\n",
       "      <td>Female</td>\n",
       "      <td>0.019846</td>\n",
       "    </tr>\n",
       "    <tr>\n",
       "      <th>1</th>\n",
       "      <td>Attorney General</td>\n",
       "      <td>Male</td>\n",
       "      <td>0.017870</td>\n",
       "    </tr>\n",
       "    <tr>\n",
       "      <th>2</th>\n",
       "      <td>COP26</td>\n",
       "      <td>Female</td>\n",
       "      <td>0.004518</td>\n",
       "    </tr>\n",
       "    <tr>\n",
       "      <th>3</th>\n",
       "      <td>COP26</td>\n",
       "      <td>Male</td>\n",
       "      <td>0.004399</td>\n",
       "    </tr>\n",
       "    <tr>\n",
       "      <th>4</th>\n",
       "      <td>Cabinet Office</td>\n",
       "      <td>Female</td>\n",
       "      <td>0.034553</td>\n",
       "    </tr>\n",
       "    <tr>\n",
       "      <th>...</th>\n",
       "      <td>...</td>\n",
       "      <td>...</td>\n",
       "      <td>...</td>\n",
       "    </tr>\n",
       "    <tr>\n",
       "      <th>78</th>\n",
       "      <td>Treasury</td>\n",
       "      <td>Male</td>\n",
       "      <td>0.021877</td>\n",
       "    </tr>\n",
       "    <tr>\n",
       "      <th>79</th>\n",
       "      <td>Wales Office</td>\n",
       "      <td>Female</td>\n",
       "      <td>0.016302</td>\n",
       "    </tr>\n",
       "    <tr>\n",
       "      <th>80</th>\n",
       "      <td>Wales Office</td>\n",
       "      <td>Male</td>\n",
       "      <td>0.025922</td>\n",
       "    </tr>\n",
       "    <tr>\n",
       "      <th>81</th>\n",
       "      <td>Women and Equalities</td>\n",
       "      <td>Female</td>\n",
       "      <td>0.038983</td>\n",
       "    </tr>\n",
       "    <tr>\n",
       "      <th>82</th>\n",
       "      <td>Women and Equalities</td>\n",
       "      <td>Male</td>\n",
       "      <td>0.021680</td>\n",
       "    </tr>\n",
       "  </tbody>\n",
       "</table>\n",
       "<p>83 rows × 3 columns</p>\n",
       "</div>"
      ],
      "text/plain": [
       "          answering body  gender  date tabled\n",
       "0       Attorney General  Female     0.019846\n",
       "1       Attorney General    Male     0.017870\n",
       "2                  COP26  Female     0.004518\n",
       "3                  COP26    Male     0.004399\n",
       "4         Cabinet Office  Female     0.034553\n",
       "..                   ...     ...          ...\n",
       "78              Treasury    Male     0.021877\n",
       "79          Wales Office  Female     0.016302\n",
       "80          Wales Office    Male     0.025922\n",
       "81  Women and Equalities  Female     0.038983\n",
       "82  Women and Equalities    Male     0.021680\n",
       "\n",
       "[83 rows x 3 columns]"
      ]
     },
     "execution_count": 40,
     "metadata": {},
     "output_type": "execute_result"
    }
   ],
   "source": [
    "probs_df"
   ]
  },
  {
   "cell_type": "code",
   "execution_count": 41,
   "metadata": {},
   "outputs": [
    {
     "data": {
      "text/plain": [
       "<matplotlib.axes._subplots.AxesSubplot at 0x12442ecd0>"
      ]
     },
     "execution_count": 41,
     "metadata": {},
     "output_type": "execute_result"
    },
    {
     "data": {
      "image/png": "[encoded data removed]",
      "text/plain": [
       "<Figure size 432x288 with 1 Axes>"
      ]
     },
     "metadata": {
      "needs_background": "light"
     },
     "output_type": "display_data"
    }
   ],
   "source": [
    "domains = ['Women and Equalities','Ministry of Defence','Ministry of Justice']\n",
    "sns.barplot(x=\"answering body\", y=\"date tabled\", hue='gender', data=probs_df[probs_df['answering body'].isin(domains)])"
   ]
  },
  {
   "cell_type": "code",
   "execution_count": 24,
   "metadata": {},
   "outputs": [
    {
     "ename": "TypeError",
     "evalue": "`Series.plot()` should not be called with positional arguments, only keyword arguments. The order of positional arguments will change in the future. Use `Series.plot(kind='')` instead of `Series.plot('',)`.",
     "output_type": "error",
     "traceback": [
      "\u001b[0;31m---------------------------------------------------------------------------\u001b[0m",
      "\u001b[0;31mTypeError\u001b[0m                                 Traceback (most recent call last)",
      "\u001b[0;32m<ipython-input-24-f7ca987c12c4>\u001b[0m in \u001b[0;36m<module>\u001b[0;34m\u001b[0m\n\u001b[0;32m----> 1\u001b[0;31m \u001b[0mby_gender\u001b[0m\u001b[0;34m.\u001b[0m\u001b[0mplot\u001b[0m\u001b[0;34m(\u001b[0m\u001b[0;34m''\u001b[0m\u001b[0;34m)\u001b[0m\u001b[0;34m\u001b[0m\u001b[0;34m\u001b[0m\u001b[0m\n\u001b[0m",
      "\u001b[0;32m/usr/local/lib/python3.7/site-packages/pandas/plotting/_core.py\u001b[0m in \u001b[0;36m__call__\u001b[0;34m(self, *args, **kwargs)\u001b[0m\n\u001b[1;32m    893\u001b[0m \u001b[0;34m\u001b[0m\u001b[0m\n\u001b[1;32m    894\u001b[0m         x, y, kind, kwargs = self._get_call_args(\n\u001b[0;32m--> 895\u001b[0;31m             \u001b[0mplot_backend\u001b[0m\u001b[0;34m.\u001b[0m\u001b[0m__name__\u001b[0m\u001b[0;34m,\u001b[0m \u001b[0mself\u001b[0m\u001b[0;34m.\u001b[0m\u001b[0m_parent\u001b[0m\u001b[0;34m,\u001b[0m \u001b[0margs\u001b[0m\u001b[0;34m,\u001b[0m \u001b[0mkwargs\u001b[0m\u001b[0;34m\u001b[0m\u001b[0;34m\u001b[0m\u001b[0m\n\u001b[0m\u001b[1;32m    896\u001b[0m         )\n\u001b[1;32m    897\u001b[0m \u001b[0;34m\u001b[0m\u001b[0m\n",
      "\u001b[0;32m/usr/local/lib/python3.7/site-packages/pandas/plotting/_core.py\u001b[0m in \u001b[0;36m_get_call_args\u001b[0;34m(backend_name, data, args, kwargs)\u001b[0m\n\u001b[1;32m    876\u001b[0m                 \u001b[0;34mf\"`Series.plot({positional_args})`.\"\u001b[0m\u001b[0;34m\u001b[0m\u001b[0;34m\u001b[0m\u001b[0m\n\u001b[1;32m    877\u001b[0m             )\n\u001b[0;32m--> 878\u001b[0;31m             \u001b[0;32mraise\u001b[0m \u001b[0mTypeError\u001b[0m\u001b[0;34m(\u001b[0m\u001b[0mmsg\u001b[0m\u001b[0;34m)\u001b[0m\u001b[0;34m\u001b[0m\u001b[0;34m\u001b[0m\u001b[0m\n\u001b[0m\u001b[1;32m    879\u001b[0m \u001b[0;34m\u001b[0m\u001b[0m\n\u001b[1;32m    880\u001b[0m         \u001b[0mpos_args\u001b[0m \u001b[0;34m=\u001b[0m \u001b[0;34m{\u001b[0m\u001b[0mname\u001b[0m\u001b[0;34m:\u001b[0m \u001b[0mvalue\u001b[0m \u001b[0;32mfor\u001b[0m \u001b[0;34m(\u001b[0m\u001b[0mname\u001b[0m\u001b[0;34m,\u001b[0m \u001b[0m_\u001b[0m\u001b[0;34m)\u001b[0m\u001b[0;34m,\u001b[0m \u001b[0mvalue\u001b[0m \u001b[0;32min\u001b[0m \u001b[0mzip\u001b[0m\u001b[0;34m(\u001b[0m\u001b[0marg_def\u001b[0m\u001b[0;34m,\u001b[0m \u001b[0margs\u001b[0m\u001b[0;34m)\u001b[0m\u001b[0;34m}\u001b[0m\u001b[0;34m\u001b[0m\u001b[0;34m\u001b[0m\u001b[0m\n",
      "\u001b[0;31mTypeError\u001b[0m: `Series.plot()` should not be called with positional arguments, only keyword arguments. The order of positional arguments will change in the future. Use `Series.plot(kind='')` instead of `Series.plot('',)`."
     ]
    }
   ],
   "source": [
    "by_gender.plot('')"
   ]
  },
  {
   "cell_type": "code",
   "execution_count": 26,
   "metadata": {},
   "outputs": [
    {
     "data": {
      "text/plain": [
       "gender\n",
       "Female    6.856617\n",
       "Male      7.906342\n",
       "Name: age, dtype: float64"
      ]
     },
     "execution_count": 26,
     "metadata": {},
     "output_type": "execute_result"
    }
   ],
   "source": [
    "df.groupby('gender')['age'].mad()"
   ]
  },
  {
   "cell_type": "code",
   "execution_count": 1,
   "metadata": {},
   "outputs": [
    {
     "ename": "NameError",
     "evalue": "name 'df' is not defined",
     "output_type": "error",
     "traceback": [
      "\u001b[0;31m---------------------------------------------------------------------------\u001b[0m",
      "\u001b[0;31mNameError\u001b[0m                                 Traceback (most recent call last)",
      "\u001b[0;32m<ipython-input-1-00cf07b74dcd>\u001b[0m in \u001b[0;36m<module>\u001b[0;34m\u001b[0m\n\u001b[0;32m----> 1\u001b[0;31m \u001b[0mdf\u001b[0m\u001b[0;34m\u001b[0m\u001b[0;34m\u001b[0m\u001b[0m\n\u001b[0m",
      "\u001b[0;31mNameError\u001b[0m: name 'df' is not defined"
     ]
    }
   ],
   "source": [
    "df"
   ]
  },
  {
   "cell_type": "code",
   "execution_count": 37,
   "metadata": {},
   "outputs": [
    {
     "data": {
      "text/plain": [
       "uri_mp\n",
       "http://data.parliament.uk/members/114     7\n",
       "http://data.parliament.uk/members/1170    1\n",
       "http://data.parliament.uk/members/1198    8\n",
       "http://data.parliament.uk/members/12      4\n",
       "http://data.parliament.uk/members/1387    4\n",
       "                                         ..\n",
       "http://data.parliament.uk/members/602     4\n",
       "http://data.parliament.uk/members/605     1\n",
       "http://data.parliament.uk/members/69      1\n",
       "http://data.parliament.uk/members/87      1\n",
       "http://data.parliament.uk/members/93      2\n",
       "Name: uri, Length: 437, dtype: int64"
      ]
     },
     "execution_count": 37,
     "metadata": {},
     "output_type": "execute_result"
    }
   ],
   "source": [
    "by_mp = df.groupby(['uri_mp','answering body'])['uri'].count()\n",
    "by_mp[:,'Ministry of Justice']"
   ]
  },
  {
   "cell_type": "code",
   "execution_count": 38,
   "metadata": {},
   "outputs": [
    {
     "data": {
      "text/plain": [
       "uri_mp\n",
       "http://data.parliament.uk/members/114     7\n",
       "http://data.parliament.uk/members/1170    1\n",
       "http://data.parliament.uk/members/1198    8\n",
       "http://data.parliament.uk/members/12      4\n",
       "http://data.parliament.uk/members/1387    4\n",
       "                                         ..\n",
       "http://data.parliament.uk/members/602     4\n",
       "http://data.parliament.uk/members/605     1\n",
       "http://data.parliament.uk/members/69      1\n",
       "http://data.parliament.uk/members/87      1\n",
       "http://data.parliament.uk/members/93      2\n",
       "Name: uri, Length: 437, dtype: int64"
      ]
     },
     "execution_count": 38,
     "metadata": {},
     "output_type": "execute_result"
    }
   ],
   "source": [
    "by_mp[:,'Ministry of Justice']"
   ]
  },
  {
   "cell_type": "code",
   "execution_count": 39,
   "metadata": {},
   "outputs": [
    {
     "data": {
      "text/plain": [
       "uri_mp\n",
       "http://data.parliament.uk/members/103      2\n",
       "http://data.parliament.uk/members/104     14\n",
       "http://data.parliament.uk/members/111      5\n",
       "http://data.parliament.uk/members/114    118\n",
       "http://data.parliament.uk/members/116     34\n",
       "                                        ... \n",
       "http://data.parliament.uk/members/69      35\n",
       "http://data.parliament.uk/members/76      23\n",
       "http://data.parliament.uk/members/77       3\n",
       "http://data.parliament.uk/members/87      21\n",
       "http://data.parliament.uk/members/93      40\n",
       "Name: uri, Length: 740, dtype: int64"
      ]
     },
     "execution_count": 39,
     "metadata": {},
     "output_type": "execute_result"
    }
   ],
   "source": [
    "by_mp.groupby(['uri_mp']).sum()"
   ]
  },
  {
   "cell_type": "code",
   "execution_count": 40,
   "metadata": {},
   "outputs": [
    {
     "data": {
      "text/plain": [
       "<matplotlib.axes._subplots.AxesSubplot at 0x12d2df650>"
      ]
     },
     "execution_count": 40,
     "metadata": {},
     "output_type": "execute_result"
    },
    {
     "data": {
      "image/png": "[encoded data removed]",
      "text/plain": [
       "<Figure size 432x288 with 1 Axes>"
      ]
     },
     "metadata": {
      "needs_background": "light"
     },
     "output_type": "display_data"
    }
   ],
   "source": [
    "sns.scatterplot(x=by_mp.groupby(level=0).sum(),y=by_mp[:,'Women and Equalities'])"
   ]
  },
  {
   "cell_type": "code",
   "execution_count": 41,
   "metadata": {},
   "outputs": [
    {
     "data": {
      "text/plain": [
       "<matplotlib.axes._subplots.AxesSubplot at 0x12d35ccd0>"
      ]
     },
     "execution_count": 41,
     "metadata": {},
     "output_type": "execute_result"
    },
    {
     "data": {
      "image/png": "[encoded data removed]",
      "text/plain": [
       "<Figure size 432x288 with 1 Axes>"
      ]
     },
     "metadata": {
      "needs_background": "light"
     },
     "output_type": "display_data"
    }
   ],
   "source": [
    "sns.scatterplot(x=by_mp.groupby(level=0).sum(),y=by_mp[:,'Ministry of Justice'])"
   ]
  },
  {
   "cell_type": "code",
   "execution_count": 56,
   "metadata": {},
   "outputs": [],
   "source": [
    "by_mp = df.groupby(['uri_mp','answering body','gender'])['uri'].count()\n",
    "#by_mp['t_count'] = df.groupby(['uri_mp','','gender'])['uri'].count()"
   ]
  },
  {
   "cell_type": "code",
   "execution_count": 61,
   "metadata": {},
   "outputs": [],
   "source": [
    "by_mp_row = by_mp.unstack(level=1)"
   ]
  },
  {
   "cell_type": "code",
   "execution_count": 63,
   "metadata": {},
   "outputs": [
    {
     "data": {
      "text/html": [
       "<div>\n",
       "<style scoped>\n",
       "    .dataframe tbody tr th:only-of-type {\n",
       "        vertical-align: middle;\n",
       "    }\n",
       "\n",
       "    .dataframe tbody tr th {\n",
       "        vertical-align: top;\n",
       "    }\n",
       "\n",
       "    .dataframe thead th {\n",
       "        text-align: right;\n",
       "    }\n",
       "</style>\n",
       "<table border=\"1\" class=\"dataframe\">\n",
       "  <thead>\n",
       "    <tr style=\"text-align: right;\">\n",
       "      <th></th>\n",
       "      <th>answering body</th>\n",
       "      <th>Attorney General</th>\n",
       "      <th>COP26</th>\n",
       "      <th>Cabinet Office</th>\n",
       "      <th>Chancellor of the Duchy of Lancaster</th>\n",
       "      <th>Chancellor of the Duchy of Lancaster and Minister for the Cabinet Office</th>\n",
       "      <th>Church Commissioners</th>\n",
       "      <th>Department for Business, Energy and Industrial Strategy</th>\n",
       "      <th>Department for Business, Innovation and Skills</th>\n",
       "      <th>Department for Communities and Local Government</th>\n",
       "      <th>Department for Culture, Media and Sport</th>\n",
       "      <th>...</th>\n",
       "      <th>Ministry of Justice</th>\n",
       "      <th>Northern Ireland Office</th>\n",
       "      <th>Parliamentary Works Sponsor Body</th>\n",
       "      <th>Prime Minister</th>\n",
       "      <th>Public Accounts Commission</th>\n",
       "      <th>Scotland Office</th>\n",
       "      <th>Speaker's Committee on the Electoral Commission</th>\n",
       "      <th>Treasury</th>\n",
       "      <th>Wales Office</th>\n",
       "      <th>Women and Equalities</th>\n",
       "    </tr>\n",
       "    <tr>\n",
       "      <th>uri_mp</th>\n",
       "      <th>gender</th>\n",
       "      <th></th>\n",
       "      <th></th>\n",
       "      <th></th>\n",
       "      <th></th>\n",
       "      <th></th>\n",
       "      <th></th>\n",
       "      <th></th>\n",
       "      <th></th>\n",
       "      <th></th>\n",
       "      <th></th>\n",
       "      <th></th>\n",
       "      <th></th>\n",
       "      <th></th>\n",
       "      <th></th>\n",
       "      <th></th>\n",
       "      <th></th>\n",
       "      <th></th>\n",
       "      <th></th>\n",
       "      <th></th>\n",
       "      <th></th>\n",
       "      <th></th>\n",
       "    </tr>\n",
       "  </thead>\n",
       "  <tbody>\n",
       "    <tr>\n",
       "      <th>http://data.parliament.uk/members/103</th>\n",
       "      <th>Male</th>\n",
       "      <td>0.0</td>\n",
       "      <td>0.0</td>\n",
       "      <td>0.0</td>\n",
       "      <td>0.0</td>\n",
       "      <td>0.0</td>\n",
       "      <td>0.0</td>\n",
       "      <td>0.0</td>\n",
       "      <td>0.0</td>\n",
       "      <td>0.0</td>\n",
       "      <td>0.0</td>\n",
       "      <td>...</td>\n",
       "      <td>0.0</td>\n",
       "      <td>0.0</td>\n",
       "      <td>0.0</td>\n",
       "      <td>1.0</td>\n",
       "      <td>0.0</td>\n",
       "      <td>0.0</td>\n",
       "      <td>0.0</td>\n",
       "      <td>0.0</td>\n",
       "      <td>0.0</td>\n",
       "      <td>0.0</td>\n",
       "    </tr>\n",
       "    <tr>\n",
       "      <th>http://data.parliament.uk/members/104</th>\n",
       "      <th>Male</th>\n",
       "      <td>0.0</td>\n",
       "      <td>0.0</td>\n",
       "      <td>0.0</td>\n",
       "      <td>0.0</td>\n",
       "      <td>0.0</td>\n",
       "      <td>0.0</td>\n",
       "      <td>0.0</td>\n",
       "      <td>0.0</td>\n",
       "      <td>0.0</td>\n",
       "      <td>0.0</td>\n",
       "      <td>...</td>\n",
       "      <td>0.0</td>\n",
       "      <td>0.0</td>\n",
       "      <td>0.0</td>\n",
       "      <td>4.0</td>\n",
       "      <td>0.0</td>\n",
       "      <td>0.0</td>\n",
       "      <td>0.0</td>\n",
       "      <td>0.0</td>\n",
       "      <td>0.0</td>\n",
       "      <td>3.0</td>\n",
       "    </tr>\n",
       "    <tr>\n",
       "      <th>http://data.parliament.uk/members/111</th>\n",
       "      <th>Male</th>\n",
       "      <td>0.0</td>\n",
       "      <td>0.0</td>\n",
       "      <td>0.0</td>\n",
       "      <td>0.0</td>\n",
       "      <td>0.0</td>\n",
       "      <td>0.0</td>\n",
       "      <td>0.0</td>\n",
       "      <td>0.0</td>\n",
       "      <td>2.0</td>\n",
       "      <td>0.0</td>\n",
       "      <td>...</td>\n",
       "      <td>0.0</td>\n",
       "      <td>0.0</td>\n",
       "      <td>0.0</td>\n",
       "      <td>0.0</td>\n",
       "      <td>0.0</td>\n",
       "      <td>0.0</td>\n",
       "      <td>0.0</td>\n",
       "      <td>0.0</td>\n",
       "      <td>0.0</td>\n",
       "      <td>0.0</td>\n",
       "    </tr>\n",
       "    <tr>\n",
       "      <th>http://data.parliament.uk/members/114</th>\n",
       "      <th>Male</th>\n",
       "      <td>7.0</td>\n",
       "      <td>1.0</td>\n",
       "      <td>4.0</td>\n",
       "      <td>0.0</td>\n",
       "      <td>0.0</td>\n",
       "      <td>5.0</td>\n",
       "      <td>4.0</td>\n",
       "      <td>1.0</td>\n",
       "      <td>2.0</td>\n",
       "      <td>1.0</td>\n",
       "      <td>...</td>\n",
       "      <td>7.0</td>\n",
       "      <td>2.0</td>\n",
       "      <td>0.0</td>\n",
       "      <td>13.0</td>\n",
       "      <td>0.0</td>\n",
       "      <td>2.0</td>\n",
       "      <td>0.0</td>\n",
       "      <td>4.0</td>\n",
       "      <td>2.0</td>\n",
       "      <td>1.0</td>\n",
       "    </tr>\n",
       "    <tr>\n",
       "      <th>http://data.parliament.uk/members/116</th>\n",
       "      <th>Male</th>\n",
       "      <td>0.0</td>\n",
       "      <td>0.0</td>\n",
       "      <td>0.0</td>\n",
       "      <td>0.0</td>\n",
       "      <td>0.0</td>\n",
       "      <td>0.0</td>\n",
       "      <td>0.0</td>\n",
       "      <td>1.0</td>\n",
       "      <td>2.0</td>\n",
       "      <td>0.0</td>\n",
       "      <td>...</td>\n",
       "      <td>0.0</td>\n",
       "      <td>0.0</td>\n",
       "      <td>0.0</td>\n",
       "      <td>0.0</td>\n",
       "      <td>0.0</td>\n",
       "      <td>1.0</td>\n",
       "      <td>0.0</td>\n",
       "      <td>0.0</td>\n",
       "      <td>0.0</td>\n",
       "      <td>0.0</td>\n",
       "    </tr>\n",
       "    <tr>\n",
       "      <th>...</th>\n",
       "      <th>...</th>\n",
       "      <td>...</td>\n",
       "      <td>...</td>\n",
       "      <td>...</td>\n",
       "      <td>...</td>\n",
       "      <td>...</td>\n",
       "      <td>...</td>\n",
       "      <td>...</td>\n",
       "      <td>...</td>\n",
       "      <td>...</td>\n",
       "      <td>...</td>\n",
       "      <td>...</td>\n",
       "      <td>...</td>\n",
       "      <td>...</td>\n",
       "      <td>...</td>\n",
       "      <td>...</td>\n",
       "      <td>...</td>\n",
       "      <td>...</td>\n",
       "      <td>...</td>\n",
       "      <td>...</td>\n",
       "      <td>...</td>\n",
       "      <td>...</td>\n",
       "    </tr>\n",
       "    <tr>\n",
       "      <th>http://data.parliament.uk/members/69</th>\n",
       "      <th>Male</th>\n",
       "      <td>0.0</td>\n",
       "      <td>1.0</td>\n",
       "      <td>2.0</td>\n",
       "      <td>0.0</td>\n",
       "      <td>0.0</td>\n",
       "      <td>0.0</td>\n",
       "      <td>1.0</td>\n",
       "      <td>0.0</td>\n",
       "      <td>2.0</td>\n",
       "      <td>0.0</td>\n",
       "      <td>...</td>\n",
       "      <td>1.0</td>\n",
       "      <td>0.0</td>\n",
       "      <td>0.0</td>\n",
       "      <td>6.0</td>\n",
       "      <td>0.0</td>\n",
       "      <td>0.0</td>\n",
       "      <td>0.0</td>\n",
       "      <td>1.0</td>\n",
       "      <td>0.0</td>\n",
       "      <td>0.0</td>\n",
       "    </tr>\n",
       "    <tr>\n",
       "      <th>http://data.parliament.uk/members/76</th>\n",
       "      <th>Male</th>\n",
       "      <td>0.0</td>\n",
       "      <td>0.0</td>\n",
       "      <td>0.0</td>\n",
       "      <td>0.0</td>\n",
       "      <td>0.0</td>\n",
       "      <td>0.0</td>\n",
       "      <td>0.0</td>\n",
       "      <td>0.0</td>\n",
       "      <td>0.0</td>\n",
       "      <td>0.0</td>\n",
       "      <td>...</td>\n",
       "      <td>0.0</td>\n",
       "      <td>0.0</td>\n",
       "      <td>0.0</td>\n",
       "      <td>5.0</td>\n",
       "      <td>0.0</td>\n",
       "      <td>0.0</td>\n",
       "      <td>0.0</td>\n",
       "      <td>1.0</td>\n",
       "      <td>0.0</td>\n",
       "      <td>0.0</td>\n",
       "    </tr>\n",
       "    <tr>\n",
       "      <th>http://data.parliament.uk/members/77</th>\n",
       "      <th>Male</th>\n",
       "      <td>0.0</td>\n",
       "      <td>0.0</td>\n",
       "      <td>0.0</td>\n",
       "      <td>0.0</td>\n",
       "      <td>0.0</td>\n",
       "      <td>0.0</td>\n",
       "      <td>0.0</td>\n",
       "      <td>0.0</td>\n",
       "      <td>0.0</td>\n",
       "      <td>0.0</td>\n",
       "      <td>...</td>\n",
       "      <td>0.0</td>\n",
       "      <td>0.0</td>\n",
       "      <td>0.0</td>\n",
       "      <td>2.0</td>\n",
       "      <td>0.0</td>\n",
       "      <td>0.0</td>\n",
       "      <td>0.0</td>\n",
       "      <td>0.0</td>\n",
       "      <td>0.0</td>\n",
       "      <td>0.0</td>\n",
       "    </tr>\n",
       "    <tr>\n",
       "      <th>http://data.parliament.uk/members/87</th>\n",
       "      <th>Male</th>\n",
       "      <td>0.0</td>\n",
       "      <td>1.0</td>\n",
       "      <td>0.0</td>\n",
       "      <td>0.0</td>\n",
       "      <td>0.0</td>\n",
       "      <td>1.0</td>\n",
       "      <td>0.0</td>\n",
       "      <td>0.0</td>\n",
       "      <td>0.0</td>\n",
       "      <td>0.0</td>\n",
       "      <td>...</td>\n",
       "      <td>1.0</td>\n",
       "      <td>0.0</td>\n",
       "      <td>0.0</td>\n",
       "      <td>1.0</td>\n",
       "      <td>0.0</td>\n",
       "      <td>0.0</td>\n",
       "      <td>0.0</td>\n",
       "      <td>0.0</td>\n",
       "      <td>0.0</td>\n",
       "      <td>0.0</td>\n",
       "    </tr>\n",
       "    <tr>\n",
       "      <th>http://data.parliament.uk/members/93</th>\n",
       "      <th>Male</th>\n",
       "      <td>0.0</td>\n",
       "      <td>0.0</td>\n",
       "      <td>0.0</td>\n",
       "      <td>0.0</td>\n",
       "      <td>0.0</td>\n",
       "      <td>0.0</td>\n",
       "      <td>0.0</td>\n",
       "      <td>3.0</td>\n",
       "      <td>2.0</td>\n",
       "      <td>2.0</td>\n",
       "      <td>...</td>\n",
       "      <td>2.0</td>\n",
       "      <td>0.0</td>\n",
       "      <td>0.0</td>\n",
       "      <td>6.0</td>\n",
       "      <td>0.0</td>\n",
       "      <td>0.0</td>\n",
       "      <td>0.0</td>\n",
       "      <td>0.0</td>\n",
       "      <td>0.0</td>\n",
       "      <td>0.0</td>\n",
       "    </tr>\n",
       "  </tbody>\n",
       "</table>\n",
       "<p>740 rows × 42 columns</p>\n",
       "</div>"
      ],
      "text/plain": [
       "answering body                                Attorney General  COP26  \\\n",
       "uri_mp                                gender                            \n",
       "http://data.parliament.uk/members/103 Male                 0.0    0.0   \n",
       "http://data.parliament.uk/members/104 Male                 0.0    0.0   \n",
       "http://data.parliament.uk/members/111 Male                 0.0    0.0   \n",
       "http://data.parliament.uk/members/114 Male                 7.0    1.0   \n",
       "http://data.parliament.uk/members/116 Male                 0.0    0.0   \n",
       "...                                                        ...    ...   \n",
       "http://data.parliament.uk/members/69  Male                 0.0    1.0   \n",
       "http://data.parliament.uk/members/76  Male                 0.0    0.0   \n",
       "http://data.parliament.uk/members/77  Male                 0.0    0.0   \n",
       "http://data.parliament.uk/members/87  Male                 0.0    1.0   \n",
       "http://data.parliament.uk/members/93  Male                 0.0    0.0   \n",
       "\n",
       "answering body                                Cabinet Office  \\\n",
       "uri_mp                                gender                   \n",
       "http://data.parliament.uk/members/103 Male               0.0   \n",
       "http://data.parliament.uk/members/104 Male               0.0   \n",
       "http://data.parliament.uk/members/111 Male               0.0   \n",
       "http://data.parliament.uk/members/114 Male               4.0   \n",
       "http://data.parliament.uk/members/116 Male               0.0   \n",
       "...                                                      ...   \n",
       "http://data.parliament.uk/members/69  Male               2.0   \n",
       "http://data.parliament.uk/members/76  Male               0.0   \n",
       "http://data.parliament.uk/members/77  Male               0.0   \n",
       "http://data.parliament.uk/members/87  Male               0.0   \n",
       "http://data.parliament.uk/members/93  Male               0.0   \n",
       "\n",
       "answering body                                Chancellor of the Duchy of Lancaster  \\\n",
       "uri_mp                                gender                                         \n",
       "http://data.parliament.uk/members/103 Male                                     0.0   \n",
       "http://data.parliament.uk/members/104 Male                                     0.0   \n",
       "http://data.parliament.uk/members/111 Male                                     0.0   \n",
       "http://data.parliament.uk/members/114 Male                                     0.0   \n",
       "http://data.parliament.uk/members/116 Male                                     0.0   \n",
       "...                                                                            ...   \n",
       "http://data.parliament.uk/members/69  Male                                     0.0   \n",
       "http://data.parliament.uk/members/76  Male                                     0.0   \n",
       "http://data.parliament.uk/members/77  Male                                     0.0   \n",
       "http://data.parliament.uk/members/87  Male                                     0.0   \n",
       "http://data.parliament.uk/members/93  Male                                     0.0   \n",
       "\n",
       "answering body                                Chancellor of the Duchy of Lancaster and Minister for the Cabinet Office  \\\n",
       "uri_mp                                gender                                                                             \n",
       "http://data.parliament.uk/members/103 Male                                                  0.0                          \n",
       "http://data.parliament.uk/members/104 Male                                                  0.0                          \n",
       "http://data.parliament.uk/members/111 Male                                                  0.0                          \n",
       "http://data.parliament.uk/members/114 Male                                                  0.0                          \n",
       "http://data.parliament.uk/members/116 Male                                                  0.0                          \n",
       "...                                                                                         ...                          \n",
       "http://data.parliament.uk/members/69  Male                                                  0.0                          \n",
       "http://data.parliament.uk/members/76  Male                                                  0.0                          \n",
       "http://data.parliament.uk/members/77  Male                                                  0.0                          \n",
       "http://data.parliament.uk/members/87  Male                                                  0.0                          \n",
       "http://data.parliament.uk/members/93  Male                                                  0.0                          \n",
       "\n",
       "answering body                                Church Commissioners  \\\n",
       "uri_mp                                gender                         \n",
       "http://data.parliament.uk/members/103 Male                     0.0   \n",
       "http://data.parliament.uk/members/104 Male                     0.0   \n",
       "http://data.parliament.uk/members/111 Male                     0.0   \n",
       "http://data.parliament.uk/members/114 Male                     5.0   \n",
       "http://data.parliament.uk/members/116 Male                     0.0   \n",
       "...                                                            ...   \n",
       "http://data.parliament.uk/members/69  Male                     0.0   \n",
       "http://data.parliament.uk/members/76  Male                     0.0   \n",
       "http://data.parliament.uk/members/77  Male                     0.0   \n",
       "http://data.parliament.uk/members/87  Male                     1.0   \n",
       "http://data.parliament.uk/members/93  Male                     0.0   \n",
       "\n",
       "answering body                                Department for Business, Energy and Industrial Strategy  \\\n",
       "uri_mp                                gender                                                            \n",
       "http://data.parliament.uk/members/103 Male                                                  0.0         \n",
       "http://data.parliament.uk/members/104 Male                                                  0.0         \n",
       "http://data.parliament.uk/members/111 Male                                                  0.0         \n",
       "http://data.parliament.uk/members/114 Male                                                  4.0         \n",
       "http://data.parliament.uk/members/116 Male                                                  0.0         \n",
       "...                                                                                         ...         \n",
       "http://data.parliament.uk/members/69  Male                                                  1.0         \n",
       "http://data.parliament.uk/members/76  Male                                                  0.0         \n",
       "http://data.parliament.uk/members/77  Male                                                  0.0         \n",
       "http://data.parliament.uk/members/87  Male                                                  0.0         \n",
       "http://data.parliament.uk/members/93  Male                                                  0.0         \n",
       "\n",
       "answering body                                Department for Business, Innovation and Skills  \\\n",
       "uri_mp                                gender                                                   \n",
       "http://data.parliament.uk/members/103 Male                                               0.0   \n",
       "http://data.parliament.uk/members/104 Male                                               0.0   \n",
       "http://data.parliament.uk/members/111 Male                                               0.0   \n",
       "http://data.parliament.uk/members/114 Male                                               1.0   \n",
       "http://data.parliament.uk/members/116 Male                                               1.0   \n",
       "...                                                                                      ...   \n",
       "http://data.parliament.uk/members/69  Male                                               0.0   \n",
       "http://data.parliament.uk/members/76  Male                                               0.0   \n",
       "http://data.parliament.uk/members/77  Male                                               0.0   \n",
       "http://data.parliament.uk/members/87  Male                                               0.0   \n",
       "http://data.parliament.uk/members/93  Male                                               3.0   \n",
       "\n",
       "answering body                                Department for Communities and Local Government  \\\n",
       "uri_mp                                gender                                                    \n",
       "http://data.parliament.uk/members/103 Male                                                0.0   \n",
       "http://data.parliament.uk/members/104 Male                                                0.0   \n",
       "http://data.parliament.uk/members/111 Male                                                2.0   \n",
       "http://data.parliament.uk/members/114 Male                                                2.0   \n",
       "http://data.parliament.uk/members/116 Male                                                2.0   \n",
       "...                                                                                       ...   \n",
       "http://data.parliament.uk/members/69  Male                                                2.0   \n",
       "http://data.parliament.uk/members/76  Male                                                0.0   \n",
       "http://data.parliament.uk/members/77  Male                                                0.0   \n",
       "http://data.parliament.uk/members/87  Male                                                0.0   \n",
       "http://data.parliament.uk/members/93  Male                                                2.0   \n",
       "\n",
       "answering body                                Department for Culture, Media and Sport  \\\n",
       "uri_mp                                gender                                            \n",
       "http://data.parliament.uk/members/103 Male                                        0.0   \n",
       "http://data.parliament.uk/members/104 Male                                        0.0   \n",
       "http://data.parliament.uk/members/111 Male                                        0.0   \n",
       "http://data.parliament.uk/members/114 Male                                        1.0   \n",
       "http://data.parliament.uk/members/116 Male                                        0.0   \n",
       "...                                                                               ...   \n",
       "http://data.parliament.uk/members/69  Male                                        0.0   \n",
       "http://data.parliament.uk/members/76  Male                                        0.0   \n",
       "http://data.parliament.uk/members/77  Male                                        0.0   \n",
       "http://data.parliament.uk/members/87  Male                                        0.0   \n",
       "http://data.parliament.uk/members/93  Male                                        2.0   \n",
       "\n",
       "answering body                                ...  Ministry of Justice  \\\n",
       "uri_mp                                gender  ...                        \n",
       "http://data.parliament.uk/members/103 Male    ...                  0.0   \n",
       "http://data.parliament.uk/members/104 Male    ...                  0.0   \n",
       "http://data.parliament.uk/members/111 Male    ...                  0.0   \n",
       "http://data.parliament.uk/members/114 Male    ...                  7.0   \n",
       "http://data.parliament.uk/members/116 Male    ...                  0.0   \n",
       "...                                           ...                  ...   \n",
       "http://data.parliament.uk/members/69  Male    ...                  1.0   \n",
       "http://data.parliament.uk/members/76  Male    ...                  0.0   \n",
       "http://data.parliament.uk/members/77  Male    ...                  0.0   \n",
       "http://data.parliament.uk/members/87  Male    ...                  1.0   \n",
       "http://data.parliament.uk/members/93  Male    ...                  2.0   \n",
       "\n",
       "answering body                                Northern Ireland Office  \\\n",
       "uri_mp                                gender                            \n",
       "http://data.parliament.uk/members/103 Male                        0.0   \n",
       "http://data.parliament.uk/members/104 Male                        0.0   \n",
       "http://data.parliament.uk/members/111 Male                        0.0   \n",
       "http://data.parliament.uk/members/114 Male                        2.0   \n",
       "http://data.parliament.uk/members/116 Male                        0.0   \n",
       "...                                                               ...   \n",
       "http://data.parliament.uk/members/69  Male                        0.0   \n",
       "http://data.parliament.uk/members/76  Male                        0.0   \n",
       "http://data.parliament.uk/members/77  Male                        0.0   \n",
       "http://data.parliament.uk/members/87  Male                        0.0   \n",
       "http://data.parliament.uk/members/93  Male                        0.0   \n",
       "\n",
       "answering body                                Parliamentary Works Sponsor Body  \\\n",
       "uri_mp                                gender                                     \n",
       "http://data.parliament.uk/members/103 Male                                 0.0   \n",
       "http://data.parliament.uk/members/104 Male                                 0.0   \n",
       "http://data.parliament.uk/members/111 Male                                 0.0   \n",
       "http://data.parliament.uk/members/114 Male                                 0.0   \n",
       "http://data.parliament.uk/members/116 Male                                 0.0   \n",
       "...                                                                        ...   \n",
       "http://data.parliament.uk/members/69  Male                                 0.0   \n",
       "http://data.parliament.uk/members/76  Male                                 0.0   \n",
       "http://data.parliament.uk/members/77  Male                                 0.0   \n",
       "http://data.parliament.uk/members/87  Male                                 0.0   \n",
       "http://data.parliament.uk/members/93  Male                                 0.0   \n",
       "\n",
       "answering body                                Prime Minister  \\\n",
       "uri_mp                                gender                   \n",
       "http://data.parliament.uk/members/103 Male               1.0   \n",
       "http://data.parliament.uk/members/104 Male               4.0   \n",
       "http://data.parliament.uk/members/111 Male               0.0   \n",
       "http://data.parliament.uk/members/114 Male              13.0   \n",
       "http://data.parliament.uk/members/116 Male               0.0   \n",
       "...                                                      ...   \n",
       "http://data.parliament.uk/members/69  Male               6.0   \n",
       "http://data.parliament.uk/members/76  Male               5.0   \n",
       "http://data.parliament.uk/members/77  Male               2.0   \n",
       "http://data.parliament.uk/members/87  Male               1.0   \n",
       "http://data.parliament.uk/members/93  Male               6.0   \n",
       "\n",
       "answering body                                Public Accounts Commission  \\\n",
       "uri_mp                                gender                               \n",
       "http://data.parliament.uk/members/103 Male                           0.0   \n",
       "http://data.parliament.uk/members/104 Male                           0.0   \n",
       "http://data.parliament.uk/members/111 Male                           0.0   \n",
       "http://data.parliament.uk/members/114 Male                           0.0   \n",
       "http://data.parliament.uk/members/116 Male                           0.0   \n",
       "...                                                                  ...   \n",
       "http://data.parliament.uk/members/69  Male                           0.0   \n",
       "http://data.parliament.uk/members/76  Male                           0.0   \n",
       "http://data.parliament.uk/members/77  Male                           0.0   \n",
       "http://data.parliament.uk/members/87  Male                           0.0   \n",
       "http://data.parliament.uk/members/93  Male                           0.0   \n",
       "\n",
       "answering body                                Scotland Office  \\\n",
       "uri_mp                                gender                    \n",
       "http://data.parliament.uk/members/103 Male                0.0   \n",
       "http://data.parliament.uk/members/104 Male                0.0   \n",
       "http://data.parliament.uk/members/111 Male                0.0   \n",
       "http://data.parliament.uk/members/114 Male                2.0   \n",
       "http://data.parliament.uk/members/116 Male                1.0   \n",
       "...                                                       ...   \n",
       "http://data.parliament.uk/members/69  Male                0.0   \n",
       "http://data.parliament.uk/members/76  Male                0.0   \n",
       "http://data.parliament.uk/members/77  Male                0.0   \n",
       "http://data.parliament.uk/members/87  Male                0.0   \n",
       "http://data.parliament.uk/members/93  Male                0.0   \n",
       "\n",
       "answering body                                Speaker's Committee on the Electoral Commission  \\\n",
       "uri_mp                                gender                                                    \n",
       "http://data.parliament.uk/members/103 Male                                                0.0   \n",
       "http://data.parliament.uk/members/104 Male                                                0.0   \n",
       "http://data.parliament.uk/members/111 Male                                                0.0   \n",
       "http://data.parliament.uk/members/114 Male                                                0.0   \n",
       "http://data.parliament.uk/members/116 Male                                                0.0   \n",
       "...                                                                                       ...   \n",
       "http://data.parliament.uk/members/69  Male                                                0.0   \n",
       "http://data.parliament.uk/members/76  Male                                                0.0   \n",
       "http://data.parliament.uk/members/77  Male                                                0.0   \n",
       "http://data.parliament.uk/members/87  Male                                                0.0   \n",
       "http://data.parliament.uk/members/93  Male                                                0.0   \n",
       "\n",
       "answering body                                Treasury  Wales Office  \\\n",
       "uri_mp                                gender                           \n",
       "http://data.parliament.uk/members/103 Male         0.0           0.0   \n",
       "http://data.parliament.uk/members/104 Male         0.0           0.0   \n",
       "http://data.parliament.uk/members/111 Male         0.0           0.0   \n",
       "http://data.parliament.uk/members/114 Male         4.0           2.0   \n",
       "http://data.parliament.uk/members/116 Male         0.0           0.0   \n",
       "...                                                ...           ...   \n",
       "http://data.parliament.uk/members/69  Male         1.0           0.0   \n",
       "http://data.parliament.uk/members/76  Male         1.0           0.0   \n",
       "http://data.parliament.uk/members/77  Male         0.0           0.0   \n",
       "http://data.parliament.uk/members/87  Male         0.0           0.0   \n",
       "http://data.parliament.uk/members/93  Male         0.0           0.0   \n",
       "\n",
       "answering body                                Women and Equalities  \n",
       "uri_mp                                gender                        \n",
       "http://data.parliament.uk/members/103 Male                     0.0  \n",
       "http://data.parliament.uk/members/104 Male                     3.0  \n",
       "http://data.parliament.uk/members/111 Male                     0.0  \n",
       "http://data.parliament.uk/members/114 Male                     1.0  \n",
       "http://data.parliament.uk/members/116 Male                     0.0  \n",
       "...                                                            ...  \n",
       "http://data.parliament.uk/members/69  Male                     0.0  \n",
       "http://data.parliament.uk/members/76  Male                     0.0  \n",
       "http://data.parliament.uk/members/77  Male                     0.0  \n",
       "http://data.parliament.uk/members/87  Male                     0.0  \n",
       "http://data.parliament.uk/members/93  Male                     0.0  \n",
       "\n",
       "[740 rows x 42 columns]"
      ]
     },
     "execution_count": 63,
     "metadata": {},
     "output_type": "execute_result"
    }
   ],
   "source": [
    "by_mp_row.fillna(0,inplace=True)\n"
   ]
  },
  {
   "cell_type": "code",
   "execution_count": 65,
   "metadata": {},
   "outputs": [],
   "source": [
    "by_mp_row['all'] = by_mp_row.sum(axis=1)"
   ]
  },
  {
   "cell_type": "code",
   "execution_count": 75,
   "metadata": {},
   "outputs": [],
   "source": [
    "by_mp_row = by_mp_row.reset_index()"
   ]
  },
  {
   "cell_type": "code",
   "execution_count": 76,
   "metadata": {},
   "outputs": [
    {
     "data": {
      "text/plain": [
       "0      Male\n",
       "1      Male\n",
       "2      Male\n",
       "3      Male\n",
       "4      Male\n",
       "       ... \n",
       "735    Male\n",
       "736    Male\n",
       "737    Male\n",
       "738    Male\n",
       "739    Male\n",
       "Name: gender, Length: 740, dtype: object"
      ]
     },
     "execution_count": 76,
     "metadata": {},
     "output_type": "execute_result"
    }
   ],
   "source": [
    "by_mp_row['gender']"
   ]
  },
  {
   "cell_type": "code",
   "execution_count": 77,
   "metadata": {},
   "outputs": [
    {
     "data": {
      "text/plain": [
       "<matplotlib.axes._subplots.AxesSubplot at 0x12d31c350>"
      ]
     },
     "execution_count": 77,
     "metadata": {},
     "output_type": "execute_result"
    },
    {
     "data": {
      "image/png": "[encoded data removed]",
      "text/plain": [
       "<Figure size 432x288 with 1 Axes>"
      ]
     },
     "metadata": {
      "needs_background": "light"
     },
     "output_type": "display_data"
    }
   ],
   "source": [
    "sns.scatterplot(x='all',y='Ministry of Justice',hue='gender',data=by_mp_row)"
   ]
  },
  {
   "cell_type": "code",
   "execution_count": 78,
   "metadata": {},
   "outputs": [
    {
     "data": {
      "text/plain": [
       "<matplotlib.axes._subplots.AxesSubplot at 0x12d486210>"
      ]
     },
     "execution_count": 78,
     "metadata": {},
     "output_type": "execute_result"
    },
    {
     "data": {
      "image/png": "[encoded data removed]",
      "text/plain": [
       "<Figure size 432x288 with 1 Axes>"
      ]
     },
     "metadata": {
      "needs_background": "light"
     },
     "output_type": "display_data"
    }
   ],
   "source": [
    "sns.scatterplot(x='all',y='Women and Equalities',hue='gender',data=by_mp_row)"
   ]
  },
  {
   "cell_type": "code",
   "execution_count": 90,
   "metadata": {},
   "outputs": [
    {
     "data": {
      "text/plain": [
       "array([[  2.],\n",
       "       [ 14.],\n",
       "       [  5.],\n",
       "       [118.],\n",
       "       [ 34.],\n",
       "       [  2.],\n",
       "       [ 11.],\n",
       "       [  4.],\n",
       "       [  4.],\n",
       "       [  2.],\n",
       "       [ 76.],\n",
       "       [ 52.],\n",
       "       [  8.],\n",
       "       [  8.],\n",
       "       [  3.],\n",
       "       [  2.],\n",
       "       [ 16.],\n",
       "       [ 10.],\n",
       "       [  1.],\n",
       "       [ 17.],\n",
       "       [ 22.],\n",
       "       [ 15.],\n",
       "       [ 77.],\n",
       "       [  1.],\n",
       "       [  1.],\n",
       "       [ 64.],\n",
       "       [  7.],\n",
       "       [ 22.],\n",
       "       [ 10.],\n",
       "       [ 53.],\n",
       "       [ 32.],\n",
       "       [  4.],\n",
       "       [  1.],\n",
       "       [102.],\n",
       "       [ 20.],\n",
       "       [ 24.],\n",
       "       [ 23.],\n",
       "       [ 28.],\n",
       "       [  1.],\n",
       "       [  5.],\n",
       "       [ 48.],\n",
       "       [  1.],\n",
       "       [  9.],\n",
       "       [  1.],\n",
       "       [ 61.],\n",
       "       [ 25.],\n",
       "       [ 34.],\n",
       "       [  7.],\n",
       "       [ 14.],\n",
       "       [ 10.],\n",
       "       [ 21.],\n",
       "       [161.],\n",
       "       [180.],\n",
       "       [  7.],\n",
       "       [ 78.],\n",
       "       [173.],\n",
       "       [ 11.],\n",
       "       [  9.],\n",
       "       [ 94.],\n",
       "       [ 56.],\n",
       "       [ 20.],\n",
       "       [  5.],\n",
       "       [  4.],\n",
       "       [  4.],\n",
       "       [  9.],\n",
       "       [ 37.],\n",
       "       [ 15.],\n",
       "       [ 97.],\n",
       "       [ 16.],\n",
       "       [ 24.],\n",
       "       [  4.],\n",
       "       [  3.],\n",
       "       [ 74.],\n",
       "       [  4.],\n",
       "       [ 18.],\n",
       "       [ 69.],\n",
       "       [ 11.],\n",
       "       [ 29.],\n",
       "       [  3.],\n",
       "       [ 12.],\n",
       "       [ 29.],\n",
       "       [270.],\n",
       "       [  2.],\n",
       "       [ 14.],\n",
       "       [  5.],\n",
       "       [  8.],\n",
       "       [  7.],\n",
       "       [152.],\n",
       "       [ 38.],\n",
       "       [ 44.],\n",
       "       [  9.],\n",
       "       [137.],\n",
       "       [ 18.],\n",
       "       [  1.],\n",
       "       [ 77.],\n",
       "       [  1.],\n",
       "       [ 49.],\n",
       "       [ 30.],\n",
       "       [ 29.],\n",
       "       [ 12.],\n",
       "       [ 27.],\n",
       "       [ 66.],\n",
       "       [ 38.],\n",
       "       [ 39.],\n",
       "       [ 91.],\n",
       "       [ 17.],\n",
       "       [  2.],\n",
       "       [ 73.],\n",
       "       [ 11.],\n",
       "       [ 25.],\n",
       "       [ 41.],\n",
       "       [  1.],\n",
       "       [308.],\n",
       "       [  5.],\n",
       "       [ 10.],\n",
       "       [272.],\n",
       "       [158.],\n",
       "       [  2.],\n",
       "       [ 38.],\n",
       "       [ 23.],\n",
       "       [ 57.],\n",
       "       [  5.],\n",
       "       [151.],\n",
       "       [ 21.],\n",
       "       [ 14.],\n",
       "       [184.],\n",
       "       [119.],\n",
       "       [ 25.],\n",
       "       [  9.],\n",
       "       [ 75.],\n",
       "       [ 18.],\n",
       "       [ 32.],\n",
       "       [ 19.],\n",
       "       [ 23.],\n",
       "       [  1.],\n",
       "       [ 33.],\n",
       "       [104.],\n",
       "       [141.],\n",
       "       [ 17.],\n",
       "       [ 38.],\n",
       "       [  5.],\n",
       "       [  4.],\n",
       "       [  3.],\n",
       "       [  3.],\n",
       "       [ 22.],\n",
       "       [  6.],\n",
       "       [ 40.],\n",
       "       [  1.],\n",
       "       [106.],\n",
       "       [ 20.],\n",
       "       [ 25.],\n",
       "       [130.],\n",
       "       [ 47.],\n",
       "       [  9.],\n",
       "       [ 52.],\n",
       "       [  1.],\n",
       "       [ 20.],\n",
       "       [ 36.],\n",
       "       [ 17.],\n",
       "       [ 26.],\n",
       "       [ 16.],\n",
       "       [ 11.],\n",
       "       [  6.],\n",
       "       [ 87.],\n",
       "       [ 24.],\n",
       "       [163.],\n",
       "       [ 53.],\n",
       "       [135.],\n",
       "       [ 10.],\n",
       "       [ 32.],\n",
       "       [ 16.],\n",
       "       [ 59.],\n",
       "       [125.],\n",
       "       [  6.],\n",
       "       [ 79.],\n",
       "       [ 54.],\n",
       "       [  4.],\n",
       "       [  7.],\n",
       "       [ 12.],\n",
       "       [ 63.],\n",
       "       [ 10.],\n",
       "       [ 87.],\n",
       "       [ 15.],\n",
       "       [ 14.],\n",
       "       [ 14.],\n",
       "       [ 18.],\n",
       "       [  4.],\n",
       "       [  2.],\n",
       "       [ 51.],\n",
       "       [  9.],\n",
       "       [ 13.],\n",
       "       [ 57.],\n",
       "       [ 96.],\n",
       "       [ 10.],\n",
       "       [ 14.],\n",
       "       [ 13.],\n",
       "       [  2.],\n",
       "       [ 11.],\n",
       "       [  5.],\n",
       "       [ 29.],\n",
       "       [ 62.],\n",
       "       [  7.],\n",
       "       [ 32.],\n",
       "       [  8.],\n",
       "       [ 36.],\n",
       "       [ 17.],\n",
       "       [ 34.],\n",
       "       [133.],\n",
       "       [ 16.],\n",
       "       [ 18.],\n",
       "       [ 18.],\n",
       "       [  3.],\n",
       "       [236.],\n",
       "       [ 15.],\n",
       "       [  7.],\n",
       "       [109.],\n",
       "       [ 26.],\n",
       "       [ 12.],\n",
       "       [178.],\n",
       "       [ 10.],\n",
       "       [  7.],\n",
       "       [118.],\n",
       "       [ 34.],\n",
       "       [  9.],\n",
       "       [  3.],\n",
       "       [ 10.],\n",
       "       [ 18.],\n",
       "       [ 12.],\n",
       "       [  1.],\n",
       "       [ 19.],\n",
       "       [  1.],\n",
       "       [164.],\n",
       "       [ 27.],\n",
       "       [ 12.],\n",
       "       [  1.],\n",
       "       [ 16.],\n",
       "       [ 98.],\n",
       "       [ 57.],\n",
       "       [ 52.],\n",
       "       [ 35.],\n",
       "       [ 13.],\n",
       "       [ 31.],\n",
       "       [ 18.],\n",
       "       [ 12.],\n",
       "       [ 11.],\n",
       "       [ 55.],\n",
       "       [ 36.],\n",
       "       [ 40.],\n",
       "       [  1.],\n",
       "       [  1.],\n",
       "       [ 25.],\n",
       "       [ 18.],\n",
       "       [ 12.],\n",
       "       [ 17.],\n",
       "       [ 25.],\n",
       "       [  1.],\n",
       "       [ 30.],\n",
       "       [ 47.],\n",
       "       [ 54.],\n",
       "       [ 48.],\n",
       "       [ 21.],\n",
       "       [158.],\n",
       "       [ 12.],\n",
       "       [ 59.],\n",
       "       [ 40.],\n",
       "       [ 58.],\n",
       "       [ 58.],\n",
       "       [  1.],\n",
       "       [ 34.],\n",
       "       [ 56.],\n",
       "       [  6.],\n",
       "       [  6.],\n",
       "       [ 49.],\n",
       "       [ 59.],\n",
       "       [ 65.],\n",
       "       [ 52.],\n",
       "       [ 98.],\n",
       "       [ 23.],\n",
       "       [  1.],\n",
       "       [  1.],\n",
       "       [ 12.],\n",
       "       [ 11.],\n",
       "       [  3.],\n",
       "       [ 16.],\n",
       "       [ 46.],\n",
       "       [116.],\n",
       "       [159.],\n",
       "       [ 63.],\n",
       "       [  2.],\n",
       "       [ 50.],\n",
       "       [132.],\n",
       "       [153.],\n",
       "       [259.],\n",
       "       [  7.],\n",
       "       [ 19.],\n",
       "       [ 13.],\n",
       "       [ 36.],\n",
       "       [ 41.],\n",
       "       [  7.],\n",
       "       [ 24.],\n",
       "       [ 59.],\n",
       "       [ 51.],\n",
       "       [ 86.],\n",
       "       [ 23.],\n",
       "       [173.],\n",
       "       [  5.],\n",
       "       [  7.],\n",
       "       [ 20.],\n",
       "       [ 30.],\n",
       "       [  9.],\n",
       "       [  2.],\n",
       "       [ 10.],\n",
       "       [  2.],\n",
       "       [  2.],\n",
       "       [203.],\n",
       "       [ 68.],\n",
       "       [169.],\n",
       "       [  3.],\n",
       "       [129.],\n",
       "       [154.],\n",
       "       [ 68.],\n",
       "       [ 61.],\n",
       "       [  5.],\n",
       "       [ 33.],\n",
       "       [131.],\n",
       "       [ 52.],\n",
       "       [191.],\n",
       "       [ 84.],\n",
       "       [ 14.],\n",
       "       [ 13.],\n",
       "       [ 48.],\n",
       "       [ 48.],\n",
       "       [ 33.],\n",
       "       [ 47.],\n",
       "       [339.],\n",
       "       [ 34.],\n",
       "       [ 58.],\n",
       "       [ 31.],\n",
       "       [ 19.],\n",
       "       [ 50.],\n",
       "       [ 59.],\n",
       "       [  6.],\n",
       "       [ 50.],\n",
       "       [ 11.],\n",
       "       [  7.],\n",
       "       [  1.],\n",
       "       [ 21.],\n",
       "       [ 15.],\n",
       "       [ 27.],\n",
       "       [ 85.],\n",
       "       [ 69.],\n",
       "       [ 43.],\n",
       "       [169.],\n",
       "       [  3.],\n",
       "       [ 13.],\n",
       "       [175.],\n",
       "       [128.],\n",
       "       [  6.],\n",
       "       [103.],\n",
       "       [ 18.],\n",
       "       [ 74.],\n",
       "       [ 99.],\n",
       "       [ 56.],\n",
       "       [ 42.],\n",
       "       [ 41.],\n",
       "       [ 55.],\n",
       "       [ 68.],\n",
       "       [ 53.],\n",
       "       [ 83.],\n",
       "       [  5.],\n",
       "       [  1.],\n",
       "       [134.],\n",
       "       [ 14.],\n",
       "       [ 96.],\n",
       "       [ 27.],\n",
       "       [ 75.],\n",
       "       [  1.],\n",
       "       [ 80.],\n",
       "       [ 44.],\n",
       "       [173.],\n",
       "       [ 38.],\n",
       "       [ 55.],\n",
       "       [ 31.],\n",
       "       [124.],\n",
       "       [ 35.],\n",
       "       [221.],\n",
       "       [ 37.],\n",
       "       [ 33.],\n",
       "       [126.],\n",
       "       [ 12.],\n",
       "       [ 11.],\n",
       "       [ 65.],\n",
       "       [  8.],\n",
       "       [ 48.],\n",
       "       [ 57.],\n",
       "       [ 15.],\n",
       "       [170.],\n",
       "       [  2.],\n",
       "       [ 16.],\n",
       "       [ 85.],\n",
       "       [ 19.],\n",
       "       [ 22.],\n",
       "       [ 57.],\n",
       "       [ 29.],\n",
       "       [ 18.],\n",
       "       [ 18.],\n",
       "       [109.],\n",
       "       [ 95.],\n",
       "       [ 89.],\n",
       "       [ 26.],\n",
       "       [ 65.],\n",
       "       [ 24.],\n",
       "       [ 69.],\n",
       "       [ 66.],\n",
       "       [  6.],\n",
       "       [  5.],\n",
       "       [ 43.],\n",
       "       [231.],\n",
       "       [ 59.],\n",
       "       [ 25.],\n",
       "       [  4.],\n",
       "       [ 21.],\n",
       "       [ 23.],\n",
       "       [  1.],\n",
       "       [ 20.],\n",
       "       [177.],\n",
       "       [ 15.],\n",
       "       [ 52.],\n",
       "       [111.],\n",
       "       [ 27.],\n",
       "       [ 25.],\n",
       "       [ 89.],\n",
       "       [  2.],\n",
       "       [142.],\n",
       "       [248.],\n",
       "       [  1.],\n",
       "       [ 11.],\n",
       "       [  3.],\n",
       "       [ 26.],\n",
       "       [ 37.],\n",
       "       [ 19.],\n",
       "       [  8.],\n",
       "       [ 76.],\n",
       "       [ 46.],\n",
       "       [ 41.],\n",
       "       [ 86.],\n",
       "       [ 18.],\n",
       "       [246.],\n",
       "       [  4.],\n",
       "       [197.],\n",
       "       [ 60.],\n",
       "       [149.],\n",
       "       [ 99.],\n",
       "       [  3.],\n",
       "       [ 39.],\n",
       "       [ 10.],\n",
       "       [ 39.],\n",
       "       [ 82.],\n",
       "       [ 25.],\n",
       "       [112.],\n",
       "       [ 15.],\n",
       "       [ 65.],\n",
       "       [121.],\n",
       "       [  4.],\n",
       "       [ 76.],\n",
       "       [ 86.],\n",
       "       [  2.],\n",
       "       [ 39.],\n",
       "       [ 36.],\n",
       "       [ 26.],\n",
       "       [  6.],\n",
       "       [  7.],\n",
       "       [147.],\n",
       "       [  1.],\n",
       "       [ 92.],\n",
       "       [  3.],\n",
       "       [ 26.],\n",
       "       [ 18.],\n",
       "       [ 50.],\n",
       "       [ 82.],\n",
       "       [ 95.],\n",
       "       [ 26.],\n",
       "       [ 64.],\n",
       "       [ 26.],\n",
       "       [ 45.],\n",
       "       [  2.],\n",
       "       [  7.],\n",
       "       [149.],\n",
       "       [  4.],\n",
       "       [ 21.],\n",
       "       [  6.],\n",
       "       [ 63.],\n",
       "       [ 26.],\n",
       "       [ 50.],\n",
       "       [ 89.],\n",
       "       [  7.],\n",
       "       [ 17.],\n",
       "       [ 38.],\n",
       "       [ 56.],\n",
       "       [ 69.],\n",
       "       [ 16.],\n",
       "       [ 59.],\n",
       "       [ 46.],\n",
       "       [ 54.],\n",
       "       [ 37.],\n",
       "       [ 80.],\n",
       "       [ 33.],\n",
       "       [ 21.],\n",
       "       [ 69.],\n",
       "       [141.],\n",
       "       [ 23.],\n",
       "       [ 19.],\n",
       "       [ 52.],\n",
       "       [ 19.],\n",
       "       [ 45.],\n",
       "       [ 18.],\n",
       "       [ 85.],\n",
       "       [ 19.],\n",
       "       [ 31.],\n",
       "       [  2.],\n",
       "       [ 32.],\n",
       "       [ 30.],\n",
       "       [170.],\n",
       "       [  3.],\n",
       "       [ 85.],\n",
       "       [114.],\n",
       "       [142.],\n",
       "       [ 25.],\n",
       "       [  9.],\n",
       "       [113.],\n",
       "       [ 35.],\n",
       "       [ 69.],\n",
       "       [ 38.],\n",
       "       [161.],\n",
       "       [ 80.],\n",
       "       [ 13.],\n",
       "       [ 28.],\n",
       "       [ 23.],\n",
       "       [150.],\n",
       "       [ 23.],\n",
       "       [185.],\n",
       "       [ 57.],\n",
       "       [ 63.],\n",
       "       [ 62.],\n",
       "       [ 88.],\n",
       "       [ 33.],\n",
       "       [ 21.],\n",
       "       [116.],\n",
       "       [123.],\n",
       "       [184.],\n",
       "       [ 28.],\n",
       "       [  2.],\n",
       "       [ 34.],\n",
       "       [ 91.],\n",
       "       [ 80.],\n",
       "       [110.],\n",
       "       [ 30.],\n",
       "       [ 66.],\n",
       "       [ 18.],\n",
       "       [118.],\n",
       "       [108.],\n",
       "       [ 73.],\n",
       "       [205.],\n",
       "       [ 26.],\n",
       "       [  6.],\n",
       "       [ 59.],\n",
       "       [ 77.],\n",
       "       [ 60.],\n",
       "       [ 78.],\n",
       "       [ 45.],\n",
       "       [ 21.],\n",
       "       [ 71.],\n",
       "       [126.],\n",
       "       [ 21.],\n",
       "       [226.],\n",
       "       [ 38.],\n",
       "       [ 40.],\n",
       "       [144.],\n",
       "       [114.],\n",
       "       [ 53.],\n",
       "       [ 85.],\n",
       "       [ 40.],\n",
       "       [130.],\n",
       "       [ 18.],\n",
       "       [ 90.],\n",
       "       [138.],\n",
       "       [ 49.],\n",
       "       [ 38.],\n",
       "       [ 78.],\n",
       "       [ 68.],\n",
       "       [  7.],\n",
       "       [ 40.],\n",
       "       [ 17.],\n",
       "       [ 88.],\n",
       "       [ 96.],\n",
       "       [129.],\n",
       "       [101.],\n",
       "       [ 41.],\n",
       "       [ 29.],\n",
       "       [216.],\n",
       "       [ 39.],\n",
       "       [ 25.],\n",
       "       [ 74.],\n",
       "       [  2.],\n",
       "       [ 41.],\n",
       "       [ 42.],\n",
       "       [ 39.],\n",
       "       [ 71.],\n",
       "       [ 44.],\n",
       "       [ 66.],\n",
       "       [141.],\n",
       "       [ 86.],\n",
       "       [ 36.],\n",
       "       [ 95.],\n",
       "       [244.],\n",
       "       [180.],\n",
       "       [ 41.],\n",
       "       [ 60.],\n",
       "       [166.],\n",
       "       [ 44.],\n",
       "       [109.],\n",
       "       [  3.],\n",
       "       [ 41.],\n",
       "       [ 30.],\n",
       "       [ 75.],\n",
       "       [ 83.],\n",
       "       [122.],\n",
       "       [ 21.],\n",
       "       [174.],\n",
       "       [ 28.],\n",
       "       [113.],\n",
       "       [ 32.],\n",
       "       [233.],\n",
       "       [ 44.],\n",
       "       [ 44.],\n",
       "       [ 67.],\n",
       "       [135.],\n",
       "       [110.],\n",
       "       [ 28.],\n",
       "       [ 46.],\n",
       "       [ 10.],\n",
       "       [130.],\n",
       "       [ 87.],\n",
       "       [126.],\n",
       "       [ 22.],\n",
       "       [ 80.],\n",
       "       [ 51.],\n",
       "       [ 95.],\n",
       "       [  4.],\n",
       "       [ 29.],\n",
       "       [ 85.],\n",
       "       [ 30.],\n",
       "       [ 54.],\n",
       "       [ 41.],\n",
       "       [ 20.],\n",
       "       [135.],\n",
       "       [  1.],\n",
       "       [129.],\n",
       "       [157.],\n",
       "       [107.],\n",
       "       [ 61.],\n",
       "       [  8.],\n",
       "       [ 86.],\n",
       "       [ 29.],\n",
       "       [ 45.],\n",
       "       [ 39.],\n",
       "       [ 61.],\n",
       "       [ 54.],\n",
       "       [ 33.],\n",
       "       [ 77.],\n",
       "       [ 90.],\n",
       "       [ 42.],\n",
       "       [ 36.],\n",
       "       [ 46.],\n",
       "       [ 64.],\n",
       "       [ 18.],\n",
       "       [ 23.],\n",
       "       [ 55.],\n",
       "       [ 41.],\n",
       "       [ 51.],\n",
       "       [  3.],\n",
       "       [  3.],\n",
       "       [ 17.],\n",
       "       [ 85.],\n",
       "       [127.],\n",
       "       [  6.],\n",
       "       [  8.],\n",
       "       [ 62.],\n",
       "       [ 16.],\n",
       "       [  5.],\n",
       "       [ 19.],\n",
       "       [ 49.],\n",
       "       [ 13.],\n",
       "       [ 20.],\n",
       "       [ 19.],\n",
       "       [ 15.],\n",
       "       [ 14.],\n",
       "       [ 22.],\n",
       "       [ 21.],\n",
       "       [ 16.],\n",
       "       [ 88.],\n",
       "       [ 36.],\n",
       "       [149.],\n",
       "       [ 45.],\n",
       "       [ 49.],\n",
       "       [ 58.],\n",
       "       [  2.],\n",
       "       [  5.],\n",
       "       [154.],\n",
       "       [ 26.],\n",
       "       [  2.],\n",
       "       [  1.],\n",
       "       [  2.],\n",
       "       [  1.],\n",
       "       [ 10.],\n",
       "       [  3.],\n",
       "       [  1.],\n",
       "       [  8.],\n",
       "       [  6.],\n",
       "       [  8.],\n",
       "       [ 29.],\n",
       "       [  1.],\n",
       "       [ 37.],\n",
       "       [  2.],\n",
       "       [  3.],\n",
       "       [  2.],\n",
       "       [ 24.],\n",
       "       [  5.],\n",
       "       [  7.],\n",
       "       [ 16.],\n",
       "       [  3.],\n",
       "       [  9.],\n",
       "       [  5.],\n",
       "       [  2.],\n",
       "       [ 12.],\n",
       "       [ 35.],\n",
       "       [ 23.],\n",
       "       [  3.],\n",
       "       [ 21.],\n",
       "       [ 40.]])"
      ]
     },
     "execution_count": 90,
     "metadata": {},
     "output_type": "execute_result"
    }
   ],
   "source": [
    "import numpy as np\n"
   ]
  },
  {
   "cell_type": "code",
   "execution_count": 91,
   "metadata": {},
   "outputs": [
    {
     "data": {
      "text/plain": [
       "LinearRegression(copy_X=True, fit_intercept=True, n_jobs=None, normalize=False)"
      ]
     },
     "execution_count": 91,
     "metadata": {},
     "output_type": "execute_result"
    }
   ],
   "source": [
    "from sklearn.linear_model import LinearRegression\n",
    "model = LinearRegression()\n",
    "model.fit(np.array(by_mp_row['all'])[...,np.newaxis], np.array(by_mp_row['Women and Equalities'])[...,np.newaxis])\n",
    "\n"
   ]
  },
  {
   "cell_type": "code",
   "execution_count": 99,
   "metadata": {},
   "outputs": [
    {
     "data": {
      "text/html": [
       "<div>\n",
       "<style scoped>\n",
       "    .dataframe tbody tr th:only-of-type {\n",
       "        vertical-align: middle;\n",
       "    }\n",
       "\n",
       "    .dataframe tbody tr th {\n",
       "        vertical-align: top;\n",
       "    }\n",
       "\n",
       "    .dataframe thead th {\n",
       "        text-align: right;\n",
       "    }\n",
       "</style>\n",
       "<table border=\"1\" class=\"dataframe\">\n",
       "  <thead>\n",
       "    <tr style=\"text-align: right;\">\n",
       "      <th></th>\n",
       "      <th>Women and Equalities</th>\n",
       "      <th>const</th>\n",
       "    </tr>\n",
       "  </thead>\n",
       "  <tbody>\n",
       "    <tr>\n",
       "      <th>0</th>\n",
       "      <td>0.0</td>\n",
       "      <td>1</td>\n",
       "    </tr>\n",
       "    <tr>\n",
       "      <th>1</th>\n",
       "      <td>3.0</td>\n",
       "      <td>1</td>\n",
       "    </tr>\n",
       "    <tr>\n",
       "      <th>2</th>\n",
       "      <td>0.0</td>\n",
       "      <td>1</td>\n",
       "    </tr>\n",
       "    <tr>\n",
       "      <th>3</th>\n",
       "      <td>1.0</td>\n",
       "      <td>1</td>\n",
       "    </tr>\n",
       "    <tr>\n",
       "      <th>4</th>\n",
       "      <td>0.0</td>\n",
       "      <td>1</td>\n",
       "    </tr>\n",
       "    <tr>\n",
       "      <th>...</th>\n",
       "      <td>...</td>\n",
       "      <td>...</td>\n",
       "    </tr>\n",
       "    <tr>\n",
       "      <th>735</th>\n",
       "      <td>0.0</td>\n",
       "      <td>1</td>\n",
       "    </tr>\n",
       "    <tr>\n",
       "      <th>736</th>\n",
       "      <td>0.0</td>\n",
       "      <td>1</td>\n",
       "    </tr>\n",
       "    <tr>\n",
       "      <th>737</th>\n",
       "      <td>0.0</td>\n",
       "      <td>1</td>\n",
       "    </tr>\n",
       "    <tr>\n",
       "      <th>738</th>\n",
       "      <td>0.0</td>\n",
       "      <td>1</td>\n",
       "    </tr>\n",
       "    <tr>\n",
       "      <th>739</th>\n",
       "      <td>0.0</td>\n",
       "      <td>1</td>\n",
       "    </tr>\n",
       "  </tbody>\n",
       "</table>\n",
       "<p>740 rows × 2 columns</p>\n",
       "</div>"
      ],
      "text/plain": [
       "     Women and Equalities  const\n",
       "0                     0.0      1\n",
       "1                     3.0      1\n",
       "2                     0.0      1\n",
       "3                     1.0      1\n",
       "4                     0.0      1\n",
       "..                    ...    ...\n",
       "735                   0.0      1\n",
       "736                   0.0      1\n",
       "737                   0.0      1\n",
       "738                   0.0      1\n",
       "739                   0.0      1\n",
       "\n",
       "[740 rows x 2 columns]"
      ]
     },
     "execution_count": 99,
     "metadata": {},
     "output_type": "execute_result"
    }
   ],
   "source": [
    "pd.DataFrame(by_mp_row['Women and Equalities']).assign(const=1)"
   ]
  },
  {
   "cell_type": "code",
   "execution_count": 101,
   "metadata": {},
   "outputs": [
    {
     "data": {
      "text/html": [
       "<table class=\"simpletable\">\n",
       "<caption>OLS Regression Results</caption>\n",
       "<tr>\n",
       "  <th>Dep. Variable:</th>            <td>y</td>        <th>  R-squared:         </th> <td>   0.576</td> \n",
       "</tr>\n",
       "<tr>\n",
       "  <th>Model:</th>                   <td>OLS</td>       <th>  Adj. R-squared:    </th> <td>   0.576</td> \n",
       "</tr>\n",
       "<tr>\n",
       "  <th>Method:</th>             <td>Least Squares</td>  <th>  F-statistic:       </th> <td>   1004.</td> \n",
       "</tr>\n",
       "<tr>\n",
       "  <th>Date:</th>             <td>Mon, 27 Dec 2021</td> <th>  Prob (F-statistic):</th> <td>8.70e-140</td>\n",
       "</tr>\n",
       "<tr>\n",
       "  <th>Time:</th>                 <td>11:26:20</td>     <th>  Log-Likelihood:    </th> <td> -1411.6</td> \n",
       "</tr>\n",
       "<tr>\n",
       "  <th>No. Observations:</th>      <td>   740</td>      <th>  AIC:               </th> <td>   2827.</td> \n",
       "</tr>\n",
       "<tr>\n",
       "  <th>Df Residuals:</th>          <td>   738</td>      <th>  BIC:               </th> <td>   2836.</td> \n",
       "</tr>\n",
       "<tr>\n",
       "  <th>Df Model:</th>              <td>     1</td>      <th>                     </th>     <td> </td>    \n",
       "</tr>\n",
       "<tr>\n",
       "  <th>Covariance Type:</th>      <td>nonrobust</td>    <th>                     </th>     <td> </td>    \n",
       "</tr>\n",
       "</table>\n",
       "<table class=\"simpletable\">\n",
       "<tr>\n",
       "    <td></td>       <th>coef</th>     <th>std err</th>      <th>t</th>      <th>P>|t|</th>  <th>[0.025</th>    <th>0.975]</th>  \n",
       "</tr>\n",
       "<tr>\n",
       "  <th>all</th>   <td>    0.0356</td> <td>    0.001</td> <td>   31.688</td> <td> 0.000</td> <td>    0.033</td> <td>    0.038</td>\n",
       "</tr>\n",
       "<tr>\n",
       "  <th>const</th> <td>   -0.4295</td> <td>    0.082</td> <td>   -5.239</td> <td> 0.000</td> <td>   -0.590</td> <td>   -0.269</td>\n",
       "</tr>\n",
       "</table>\n",
       "<table class=\"simpletable\">\n",
       "<tr>\n",
       "  <th>Omnibus:</th>       <td>293.549</td> <th>  Durbin-Watson:     </th> <td>   1.883</td>\n",
       "</tr>\n",
       "<tr>\n",
       "  <th>Prob(Omnibus):</th> <td> 0.000</td>  <th>  Jarque-Bera (JB):  </th> <td>4534.645</td>\n",
       "</tr>\n",
       "<tr>\n",
       "  <th>Skew:</th>          <td> 1.356</td>  <th>  Prob(JB):          </th> <td>    0.00</td>\n",
       "</tr>\n",
       "<tr>\n",
       "  <th>Kurtosis:</th>      <td>14.820</td>  <th>  Cond. No.          </th> <td>    99.6</td>\n",
       "</tr>\n",
       "</table><br/><br/>Warnings:<br/>[1] Standard Errors assume that the covariance matrix of the errors is correctly specified."
      ],
      "text/plain": [
       "<class 'statsmodels.iolib.summary.Summary'>\n",
       "\"\"\"\n",
       "                            OLS Regression Results                            \n",
       "==============================================================================\n",
       "Dep. Variable:                      y   R-squared:                       0.576\n",
       "Model:                            OLS   Adj. R-squared:                  0.576\n",
       "Method:                 Least Squares   F-statistic:                     1004.\n",
       "Date:                Mon, 27 Dec 2021   Prob (F-statistic):          8.70e-140\n",
       "Time:                        11:26:20   Log-Likelihood:                -1411.6\n",
       "No. Observations:                 740   AIC:                             2827.\n",
       "Df Residuals:                     738   BIC:                             2836.\n",
       "Df Model:                           1                                         \n",
       "Covariance Type:            nonrobust                                         \n",
       "==============================================================================\n",
       "                 coef    std err          t      P>|t|      [0.025      0.975]\n",
       "------------------------------------------------------------------------------\n",
       "all            0.0356      0.001     31.688      0.000       0.033       0.038\n",
       "const         -0.4295      0.082     -5.239      0.000      -0.590      -0.269\n",
       "==============================================================================\n",
       "Omnibus:                      293.549   Durbin-Watson:                   1.883\n",
       "Prob(Omnibus):                  0.000   Jarque-Bera (JB):             4534.645\n",
       "Skew:                           1.356   Prob(JB):                         0.00\n",
       "Kurtosis:                      14.820   Cond. No.                         99.6\n",
       "==============================================================================\n",
       "\n",
       "Warnings:\n",
       "[1] Standard Errors assume that the covariance matrix of the errors is correctly specified.\n",
       "\"\"\""
      ]
     },
     "execution_count": 101,
     "metadata": {},
     "output_type": "execute_result"
    }
   ],
   "source": [
    "import statsmodels.api as sm\n",
    "\n",
    "model = sm.OLS(np.array(by_mp_row['Women and Equalities']), pd.DataFrame(by_mp_row['all']).assign(const=1))\n",
    "results = model.fit()\n",
    "results.summary()"
   ]
  },
  {
   "cell_type": "code",
   "execution_count": 92,
   "metadata": {},
   "outputs": [
    {
     "data": {
      "text/plain": [
       "array([[0.03564446]])"
      ]
     },
     "execution_count": 92,
     "metadata": {},
     "output_type": "execute_result"
    }
   ],
   "source": [
    "model.coef_"
   ]
  },
  {
   "cell_type": "code",
   "execution_count": 93,
   "metadata": {},
   "outputs": [
    {
     "data": {
      "text/plain": [
       "array([-0.42954414])"
      ]
     },
     "execution_count": 93,
     "metadata": {},
     "output_type": "execute_result"
    }
   ],
   "source": [
    "model.intercept_"
   ]
  },
  {
   "cell_type": "code",
   "execution_count": 106,
   "metadata": {},
   "outputs": [
    {
     "data": {
      "text/html": [
       "<div>\n",
       "<style scoped>\n",
       "    .dataframe tbody tr th:only-of-type {\n",
       "        vertical-align: middle;\n",
       "    }\n",
       "\n",
       "    .dataframe tbody tr th {\n",
       "        vertical-align: top;\n",
       "    }\n",
       "\n",
       "    .dataframe thead th {\n",
       "        text-align: right;\n",
       "    }\n",
       "</style>\n",
       "<table border=\"1\" class=\"dataframe\">\n",
       "  <thead>\n",
       "    <tr style=\"text-align: right;\">\n",
       "      <th>answering body</th>\n",
       "      <th>uri_mp</th>\n",
       "      <th>gender</th>\n",
       "      <th>Attorney General</th>\n",
       "      <th>COP26</th>\n",
       "      <th>Cabinet Office</th>\n",
       "      <th>Chancellor of the Duchy of Lancaster</th>\n",
       "      <th>Chancellor of the Duchy of Lancaster and Minister for the Cabinet Office</th>\n",
       "      <th>Church Commissioners</th>\n",
       "      <th>Department for Business, Energy and Industrial Strategy</th>\n",
       "      <th>Department for Business, Innovation and Skills</th>\n",
       "      <th>...</th>\n",
       "      <th>Northern Ireland Office</th>\n",
       "      <th>Parliamentary Works Sponsor Body</th>\n",
       "      <th>Prime Minister</th>\n",
       "      <th>Public Accounts Commission</th>\n",
       "      <th>Scotland Office</th>\n",
       "      <th>Speaker's Committee on the Electoral Commission</th>\n",
       "      <th>Treasury</th>\n",
       "      <th>Wales Office</th>\n",
       "      <th>Women and Equalities</th>\n",
       "      <th>all</th>\n",
       "    </tr>\n",
       "  </thead>\n",
       "  <tbody>\n",
       "    <tr>\n",
       "      <th>0</th>\n",
       "      <td>http://data.parliament.uk/members/103</td>\n",
       "      <td>Male</td>\n",
       "      <td>0.0</td>\n",
       "      <td>0.0</td>\n",
       "      <td>0.0</td>\n",
       "      <td>0.0</td>\n",
       "      <td>0.0</td>\n",
       "      <td>0.0</td>\n",
       "      <td>0.0</td>\n",
       "      <td>0.0</td>\n",
       "      <td>...</td>\n",
       "      <td>0.0</td>\n",
       "      <td>0.0</td>\n",
       "      <td>1.0</td>\n",
       "      <td>0.0</td>\n",
       "      <td>0.0</td>\n",
       "      <td>0.0</td>\n",
       "      <td>0.0</td>\n",
       "      <td>0.0</td>\n",
       "      <td>0.0</td>\n",
       "      <td>2.0</td>\n",
       "    </tr>\n",
       "    <tr>\n",
       "      <th>1</th>\n",
       "      <td>http://data.parliament.uk/members/104</td>\n",
       "      <td>Male</td>\n",
       "      <td>0.0</td>\n",
       "      <td>0.0</td>\n",
       "      <td>0.0</td>\n",
       "      <td>0.0</td>\n",
       "      <td>0.0</td>\n",
       "      <td>0.0</td>\n",
       "      <td>0.0</td>\n",
       "      <td>0.0</td>\n",
       "      <td>...</td>\n",
       "      <td>0.0</td>\n",
       "      <td>0.0</td>\n",
       "      <td>4.0</td>\n",
       "      <td>0.0</td>\n",
       "      <td>0.0</td>\n",
       "      <td>0.0</td>\n",
       "      <td>0.0</td>\n",
       "      <td>0.0</td>\n",
       "      <td>3.0</td>\n",
       "      <td>14.0</td>\n",
       "    </tr>\n",
       "    <tr>\n",
       "      <th>2</th>\n",
       "      <td>http://data.parliament.uk/members/111</td>\n",
       "      <td>Male</td>\n",
       "      <td>0.0</td>\n",
       "      <td>0.0</td>\n",
       "      <td>0.0</td>\n",
       "      <td>0.0</td>\n",
       "      <td>0.0</td>\n",
       "      <td>0.0</td>\n",
       "      <td>0.0</td>\n",
       "      <td>0.0</td>\n",
       "      <td>...</td>\n",
       "      <td>0.0</td>\n",
       "      <td>0.0</td>\n",
       "      <td>0.0</td>\n",
       "      <td>0.0</td>\n",
       "      <td>0.0</td>\n",
       "      <td>0.0</td>\n",
       "      <td>0.0</td>\n",
       "      <td>0.0</td>\n",
       "      <td>0.0</td>\n",
       "      <td>5.0</td>\n",
       "    </tr>\n",
       "    <tr>\n",
       "      <th>3</th>\n",
       "      <td>http://data.parliament.uk/members/114</td>\n",
       "      <td>Male</td>\n",
       "      <td>7.0</td>\n",
       "      <td>1.0</td>\n",
       "      <td>4.0</td>\n",
       "      <td>0.0</td>\n",
       "      <td>0.0</td>\n",
       "      <td>5.0</td>\n",
       "      <td>4.0</td>\n",
       "      <td>1.0</td>\n",
       "      <td>...</td>\n",
       "      <td>2.0</td>\n",
       "      <td>0.0</td>\n",
       "      <td>13.0</td>\n",
       "      <td>0.0</td>\n",
       "      <td>2.0</td>\n",
       "      <td>0.0</td>\n",
       "      <td>4.0</td>\n",
       "      <td>2.0</td>\n",
       "      <td>1.0</td>\n",
       "      <td>118.0</td>\n",
       "    </tr>\n",
       "    <tr>\n",
       "      <th>4</th>\n",
       "      <td>http://data.parliament.uk/members/116</td>\n",
       "      <td>Male</td>\n",
       "      <td>0.0</td>\n",
       "      <td>0.0</td>\n",
       "      <td>0.0</td>\n",
       "      <td>0.0</td>\n",
       "      <td>0.0</td>\n",
       "      <td>0.0</td>\n",
       "      <td>0.0</td>\n",
       "      <td>1.0</td>\n",
       "      <td>...</td>\n",
       "      <td>0.0</td>\n",
       "      <td>0.0</td>\n",
       "      <td>0.0</td>\n",
       "      <td>0.0</td>\n",
       "      <td>1.0</td>\n",
       "      <td>0.0</td>\n",
       "      <td>0.0</td>\n",
       "      <td>0.0</td>\n",
       "      <td>0.0</td>\n",
       "      <td>34.0</td>\n",
       "    </tr>\n",
       "    <tr>\n",
       "      <th>5</th>\n",
       "      <td>http://data.parliament.uk/members/1166</td>\n",
       "      <td>Male</td>\n",
       "      <td>0.0</td>\n",
       "      <td>0.0</td>\n",
       "      <td>0.0</td>\n",
       "      <td>0.0</td>\n",
       "      <td>0.0</td>\n",
       "      <td>0.0</td>\n",
       "      <td>0.0</td>\n",
       "      <td>0.0</td>\n",
       "      <td>...</td>\n",
       "      <td>0.0</td>\n",
       "      <td>0.0</td>\n",
       "      <td>0.0</td>\n",
       "      <td>0.0</td>\n",
       "      <td>0.0</td>\n",
       "      <td>0.0</td>\n",
       "      <td>0.0</td>\n",
       "      <td>1.0</td>\n",
       "      <td>0.0</td>\n",
       "      <td>2.0</td>\n",
       "    </tr>\n",
       "    <tr>\n",
       "      <th>6</th>\n",
       "      <td>http://data.parliament.uk/members/117</td>\n",
       "      <td>Male</td>\n",
       "      <td>0.0</td>\n",
       "      <td>0.0</td>\n",
       "      <td>0.0</td>\n",
       "      <td>0.0</td>\n",
       "      <td>0.0</td>\n",
       "      <td>0.0</td>\n",
       "      <td>0.0</td>\n",
       "      <td>0.0</td>\n",
       "      <td>...</td>\n",
       "      <td>0.0</td>\n",
       "      <td>0.0</td>\n",
       "      <td>9.0</td>\n",
       "      <td>0.0</td>\n",
       "      <td>0.0</td>\n",
       "      <td>0.0</td>\n",
       "      <td>0.0</td>\n",
       "      <td>0.0</td>\n",
       "      <td>0.0</td>\n",
       "      <td>11.0</td>\n",
       "    </tr>\n",
       "    <tr>\n",
       "      <th>7</th>\n",
       "      <td>http://data.parliament.uk/members/1170</td>\n",
       "      <td>Female</td>\n",
       "      <td>0.0</td>\n",
       "      <td>0.0</td>\n",
       "      <td>0.0</td>\n",
       "      <td>0.0</td>\n",
       "      <td>0.0</td>\n",
       "      <td>0.0</td>\n",
       "      <td>0.0</td>\n",
       "      <td>0.0</td>\n",
       "      <td>...</td>\n",
       "      <td>0.0</td>\n",
       "      <td>0.0</td>\n",
       "      <td>0.0</td>\n",
       "      <td>0.0</td>\n",
       "      <td>0.0</td>\n",
       "      <td>0.0</td>\n",
       "      <td>0.0</td>\n",
       "      <td>0.0</td>\n",
       "      <td>0.0</td>\n",
       "      <td>4.0</td>\n",
       "    </tr>\n",
       "    <tr>\n",
       "      <th>8</th>\n",
       "      <td>http://data.parliament.uk/members/1171</td>\n",
       "      <td>Male</td>\n",
       "      <td>0.0</td>\n",
       "      <td>0.0</td>\n",
       "      <td>0.0</td>\n",
       "      <td>0.0</td>\n",
       "      <td>0.0</td>\n",
       "      <td>0.0</td>\n",
       "      <td>1.0</td>\n",
       "      <td>0.0</td>\n",
       "      <td>...</td>\n",
       "      <td>0.0</td>\n",
       "      <td>0.0</td>\n",
       "      <td>1.0</td>\n",
       "      <td>0.0</td>\n",
       "      <td>0.0</td>\n",
       "      <td>0.0</td>\n",
       "      <td>0.0</td>\n",
       "      <td>0.0</td>\n",
       "      <td>0.0</td>\n",
       "      <td>4.0</td>\n",
       "    </tr>\n",
       "    <tr>\n",
       "      <th>9</th>\n",
       "      <td>http://data.parliament.uk/members/1191</td>\n",
       "      <td>Male</td>\n",
       "      <td>0.0</td>\n",
       "      <td>0.0</td>\n",
       "      <td>0.0</td>\n",
       "      <td>0.0</td>\n",
       "      <td>0.0</td>\n",
       "      <td>0.0</td>\n",
       "      <td>0.0</td>\n",
       "      <td>0.0</td>\n",
       "      <td>...</td>\n",
       "      <td>0.0</td>\n",
       "      <td>0.0</td>\n",
       "      <td>0.0</td>\n",
       "      <td>0.0</td>\n",
       "      <td>0.0</td>\n",
       "      <td>0.0</td>\n",
       "      <td>0.0</td>\n",
       "      <td>0.0</td>\n",
       "      <td>0.0</td>\n",
       "      <td>2.0</td>\n",
       "    </tr>\n",
       "  </tbody>\n",
       "</table>\n",
       "<p>10 rows × 45 columns</p>\n",
       "</div>"
      ],
      "text/plain": [
       "answering body                                  uri_mp  gender  \\\n",
       "0                http://data.parliament.uk/members/103    Male   \n",
       "1                http://data.parliament.uk/members/104    Male   \n",
       "2                http://data.parliament.uk/members/111    Male   \n",
       "3                http://data.parliament.uk/members/114    Male   \n",
       "4                http://data.parliament.uk/members/116    Male   \n",
       "5               http://data.parliament.uk/members/1166    Male   \n",
       "6                http://data.parliament.uk/members/117    Male   \n",
       "7               http://data.parliament.uk/members/1170  Female   \n",
       "8               http://data.parliament.uk/members/1171    Male   \n",
       "9               http://data.parliament.uk/members/1191    Male   \n",
       "\n",
       "answering body  Attorney General  COP26  Cabinet Office  \\\n",
       "0                            0.0    0.0             0.0   \n",
       "1                            0.0    0.0             0.0   \n",
       "2                            0.0    0.0             0.0   \n",
       "3                            7.0    1.0             4.0   \n",
       "4                            0.0    0.0             0.0   \n",
       "5                            0.0    0.0             0.0   \n",
       "6                            0.0    0.0             0.0   \n",
       "7                            0.0    0.0             0.0   \n",
       "8                            0.0    0.0             0.0   \n",
       "9                            0.0    0.0             0.0   \n",
       "\n",
       "answering body  Chancellor of the Duchy of Lancaster  \\\n",
       "0                                                0.0   \n",
       "1                                                0.0   \n",
       "2                                                0.0   \n",
       "3                                                0.0   \n",
       "4                                                0.0   \n",
       "5                                                0.0   \n",
       "6                                                0.0   \n",
       "7                                                0.0   \n",
       "8                                                0.0   \n",
       "9                                                0.0   \n",
       "\n",
       "answering body  Chancellor of the Duchy of Lancaster and Minister for the Cabinet Office  \\\n",
       "0                                                             0.0                          \n",
       "1                                                             0.0                          \n",
       "2                                                             0.0                          \n",
       "3                                                             0.0                          \n",
       "4                                                             0.0                          \n",
       "5                                                             0.0                          \n",
       "6                                                             0.0                          \n",
       "7                                                             0.0                          \n",
       "8                                                             0.0                          \n",
       "9                                                             0.0                          \n",
       "\n",
       "answering body  Church Commissioners  \\\n",
       "0                                0.0   \n",
       "1                                0.0   \n",
       "2                                0.0   \n",
       "3                                5.0   \n",
       "4                                0.0   \n",
       "5                                0.0   \n",
       "6                                0.0   \n",
       "7                                0.0   \n",
       "8                                0.0   \n",
       "9                                0.0   \n",
       "\n",
       "answering body  Department for Business, Energy and Industrial Strategy  \\\n",
       "0                                                             0.0         \n",
       "1                                                             0.0         \n",
       "2                                                             0.0         \n",
       "3                                                             4.0         \n",
       "4                                                             0.0         \n",
       "5                                                             0.0         \n",
       "6                                                             0.0         \n",
       "7                                                             0.0         \n",
       "8                                                             1.0         \n",
       "9                                                             0.0         \n",
       "\n",
       "answering body  Department for Business, Innovation and Skills  ...  \\\n",
       "0                                                          0.0  ...   \n",
       "1                                                          0.0  ...   \n",
       "2                                                          0.0  ...   \n",
       "3                                                          1.0  ...   \n",
       "4                                                          1.0  ...   \n",
       "5                                                          0.0  ...   \n",
       "6                                                          0.0  ...   \n",
       "7                                                          0.0  ...   \n",
       "8                                                          0.0  ...   \n",
       "9                                                          0.0  ...   \n",
       "\n",
       "answering body  Northern Ireland Office  Parliamentary Works Sponsor Body  \\\n",
       "0                                   0.0                               0.0   \n",
       "1                                   0.0                               0.0   \n",
       "2                                   0.0                               0.0   \n",
       "3                                   2.0                               0.0   \n",
       "4                                   0.0                               0.0   \n",
       "5                                   0.0                               0.0   \n",
       "6                                   0.0                               0.0   \n",
       "7                                   0.0                               0.0   \n",
       "8                                   0.0                               0.0   \n",
       "9                                   0.0                               0.0   \n",
       "\n",
       "answering body  Prime Minister  Public Accounts Commission  Scotland Office  \\\n",
       "0                          1.0                         0.0              0.0   \n",
       "1                          4.0                         0.0              0.0   \n",
       "2                          0.0                         0.0              0.0   \n",
       "3                         13.0                         0.0              2.0   \n",
       "4                          0.0                         0.0              1.0   \n",
       "5                          0.0                         0.0              0.0   \n",
       "6                          9.0                         0.0              0.0   \n",
       "7                          0.0                         0.0              0.0   \n",
       "8                          1.0                         0.0              0.0   \n",
       "9                          0.0                         0.0              0.0   \n",
       "\n",
       "answering body  Speaker's Committee on the Electoral Commission  Treasury  \\\n",
       "0                                                           0.0       0.0   \n",
       "1                                                           0.0       0.0   \n",
       "2                                                           0.0       0.0   \n",
       "3                                                           0.0       4.0   \n",
       "4                                                           0.0       0.0   \n",
       "5                                                           0.0       0.0   \n",
       "6                                                           0.0       0.0   \n",
       "7                                                           0.0       0.0   \n",
       "8                                                           0.0       0.0   \n",
       "9                                                           0.0       0.0   \n",
       "\n",
       "answering body  Wales Office  Women and Equalities    all  \n",
       "0                        0.0                   0.0    2.0  \n",
       "1                        0.0                   3.0   14.0  \n",
       "2                        0.0                   0.0    5.0  \n",
       "3                        2.0                   1.0  118.0  \n",
       "4                        0.0                   0.0   34.0  \n",
       "5                        1.0                   0.0    2.0  \n",
       "6                        0.0                   0.0   11.0  \n",
       "7                        0.0                   0.0    4.0  \n",
       "8                        0.0                   0.0    4.0  \n",
       "9                        0.0                   0.0    2.0  \n",
       "\n",
       "[10 rows x 45 columns]"
      ]
     },
     "execution_count": 106,
     "metadata": {},
     "output_type": "execute_result"
    }
   ],
   "source": [
    "by_mp_row[:10]"
   ]
  },
  {
   "cell_type": "code",
   "execution_count": 121,
   "metadata": {},
   "outputs": [
    {
     "data": {
      "text/plain": [
       "answering body\n",
       "Attorney General                                                            0.768516\n",
       "COP26                                                                       0.495064\n",
       "Cabinet Office                                                              0.827445\n",
       "Chancellor of the Duchy of Lancaster                                        0.080351\n",
       "Chancellor of the Duchy of Lancaster and Minister for the Cabinet Office    0.361069\n",
       "Church Commissioners                                                        0.483297\n",
       "Department for Business, Energy and Industrial Strategy                     0.778503\n",
       "Department for Business, Innovation and Skills                              0.511141\n",
       "Department for Communities and Local Government                             0.564158\n",
       "Department for Culture, Media and Sport                                     0.594660\n",
       "Department for Digital, Culture, Media and Sport                            0.779572\n",
       "Department for Education                                                    0.802458\n",
       "Department for Energy and Climate Change                                    0.485824\n",
       "Department for Environment, Food and Rural Affairs                          0.825294\n",
       "Department for Exiting the European Union                                   0.482773\n",
       "Department for Exiting the European Union                                   0.650267\n",
       "Department for International Development                                    0.680318\n",
       "Department for International Trade                                          0.781384\n",
       "Department for Levelling Up, Housing and Communities                        0.126684\n",
       "Department for Transport                                                    0.819456\n",
       "Department for Work and Pensions                                            0.844372\n",
       "Department of Health                                                        0.523311\n",
       "Department of Health and Social Care                                        0.700165\n",
       "Deputy Prime Minister                                                       0.352602\n",
       "Foreign and Commonwealth Office                                             0.719602\n",
       "Foreign, Commonwealth and Development Office                                0.602883\n",
       "HM Treasury                                                                 0.584475\n",
       "Home Office                                                                 0.792352\n",
       "House of Commons Commission                                                 0.459514\n",
       "Leader of the House                                                         0.355542\n",
       "Ministry of Defence                                                         0.765741\n",
       "Ministry of Housing, Communities and Local Government                       0.744544\n",
       "Ministry of Justice                                                         0.825728\n",
       "Northern Ireland Office                                                     0.590435\n",
       "Parliamentary Works Sponsor Body                                            0.153238\n",
       "Prime Minister                                                              0.690372\n",
       "Public Accounts Commission                                                  0.227655\n",
       "Scotland Office                                                             0.475376\n",
       "Speaker's Committee on the Electoral Commission                             0.374464\n",
       "Treasury                                                                    0.711017\n",
       "Wales Office                                                                0.486814\n",
       "Women and Equalities                                                        0.759200\n",
       "all                                                                         1.000000\n",
       "Name: all, dtype: float64"
      ]
     },
     "execution_count": 121,
     "metadata": {},
     "output_type": "execute_result"
    }
   ],
   "source": [
    "by_mp_row.corr()['all']"
   ]
  },
  {
   "cell_type": "code",
   "execution_count": 108,
   "metadata": {},
   "outputs": [
    {
     "data": {
      "text/html": [
       "<div>\n",
       "<style scoped>\n",
       "    .dataframe tbody tr th:only-of-type {\n",
       "        vertical-align: middle;\n",
       "    }\n",
       "\n",
       "    .dataframe tbody tr th {\n",
       "        vertical-align: top;\n",
       "    }\n",
       "\n",
       "    .dataframe thead th {\n",
       "        text-align: right;\n",
       "    }\n",
       "</style>\n",
       "<table border=\"1\" class=\"dataframe\">\n",
       "  <thead>\n",
       "    <tr style=\"text-align: right;\">\n",
       "      <th></th>\n",
       "      <th>Women and Equalities</th>\n",
       "      <th>all</th>\n",
       "      <th>gender_Male</th>\n",
       "    </tr>\n",
       "  </thead>\n",
       "  <tbody>\n",
       "    <tr>\n",
       "      <th>0</th>\n",
       "      <td>0.0</td>\n",
       "      <td>2.0</td>\n",
       "      <td>1</td>\n",
       "    </tr>\n",
       "    <tr>\n",
       "      <th>1</th>\n",
       "      <td>3.0</td>\n",
       "      <td>14.0</td>\n",
       "      <td>1</td>\n",
       "    </tr>\n",
       "    <tr>\n",
       "      <th>2</th>\n",
       "      <td>0.0</td>\n",
       "      <td>5.0</td>\n",
       "      <td>1</td>\n",
       "    </tr>\n",
       "    <tr>\n",
       "      <th>3</th>\n",
       "      <td>1.0</td>\n",
       "      <td>118.0</td>\n",
       "      <td>1</td>\n",
       "    </tr>\n",
       "    <tr>\n",
       "      <th>4</th>\n",
       "      <td>0.0</td>\n",
       "      <td>34.0</td>\n",
       "      <td>1</td>\n",
       "    </tr>\n",
       "    <tr>\n",
       "      <th>...</th>\n",
       "      <td>...</td>\n",
       "      <td>...</td>\n",
       "      <td>...</td>\n",
       "    </tr>\n",
       "    <tr>\n",
       "      <th>735</th>\n",
       "      <td>0.0</td>\n",
       "      <td>35.0</td>\n",
       "      <td>1</td>\n",
       "    </tr>\n",
       "    <tr>\n",
       "      <th>736</th>\n",
       "      <td>0.0</td>\n",
       "      <td>23.0</td>\n",
       "      <td>1</td>\n",
       "    </tr>\n",
       "    <tr>\n",
       "      <th>737</th>\n",
       "      <td>0.0</td>\n",
       "      <td>3.0</td>\n",
       "      <td>1</td>\n",
       "    </tr>\n",
       "    <tr>\n",
       "      <th>738</th>\n",
       "      <td>0.0</td>\n",
       "      <td>21.0</td>\n",
       "      <td>1</td>\n",
       "    </tr>\n",
       "    <tr>\n",
       "      <th>739</th>\n",
       "      <td>0.0</td>\n",
       "      <td>40.0</td>\n",
       "      <td>1</td>\n",
       "    </tr>\n",
       "  </tbody>\n",
       "</table>\n",
       "<p>740 rows × 3 columns</p>\n",
       "</div>"
      ],
      "text/plain": [
       "     Women and Equalities    all  gender_Male\n",
       "0                     0.0    2.0            1\n",
       "1                     3.0   14.0            1\n",
       "2                     0.0    5.0            1\n",
       "3                     1.0  118.0            1\n",
       "4                     0.0   34.0            1\n",
       "..                    ...    ...          ...\n",
       "735                   0.0   35.0            1\n",
       "736                   0.0   23.0            1\n",
       "737                   0.0    3.0            1\n",
       "738                   0.0   21.0            1\n",
       "739                   0.0   40.0            1\n",
       "\n",
       "[740 rows x 3 columns]"
      ]
     },
     "execution_count": 108,
     "metadata": {},
     "output_type": "execute_result"
    }
   ],
   "source": [
    "X = pd.get_dummies(by_mp_row[['gender','Women and Equalities','all']],drop_first=True)\n",
    "X"
   ]
  },
  {
   "cell_type": "code",
   "execution_count": 110,
   "metadata": {},
   "outputs": [
    {
     "data": {
      "text/html": [
       "<table class=\"simpletable\">\n",
       "<caption>OLS Regression Results</caption>\n",
       "<tr>\n",
       "  <th>Dep. Variable:</th>            <td>y</td>        <th>  R-squared:         </th> <td>   0.600</td> \n",
       "</tr>\n",
       "<tr>\n",
       "  <th>Model:</th>                   <td>OLS</td>       <th>  Adj. R-squared:    </th> <td>   0.599</td> \n",
       "</tr>\n",
       "<tr>\n",
       "  <th>Method:</th>             <td>Least Squares</td>  <th>  F-statistic:       </th> <td>   553.6</td> \n",
       "</tr>\n",
       "<tr>\n",
       "  <th>Date:</th>             <td>Mon, 27 Dec 2021</td> <th>  Prob (F-statistic):</th> <td>1.61e-147</td>\n",
       "</tr>\n",
       "<tr>\n",
       "  <th>Time:</th>                 <td>11:31:32</td>     <th>  Log-Likelihood:    </th> <td> -1390.1</td> \n",
       "</tr>\n",
       "<tr>\n",
       "  <th>No. Observations:</th>      <td>   740</td>      <th>  AIC:               </th> <td>   2786.</td> \n",
       "</tr>\n",
       "<tr>\n",
       "  <th>Df Residuals:</th>          <td>   737</td>      <th>  BIC:               </th> <td>   2800.</td> \n",
       "</tr>\n",
       "<tr>\n",
       "  <th>Df Model:</th>              <td>     2</td>      <th>                     </th>     <td> </td>    \n",
       "</tr>\n",
       "<tr>\n",
       "  <th>Covariance Type:</th>      <td>nonrobust</td>    <th>                     </th>     <td> </td>    \n",
       "</tr>\n",
       "</table>\n",
       "<table class=\"simpletable\">\n",
       "<tr>\n",
       "       <td></td>          <th>coef</th>     <th>std err</th>      <th>t</th>      <th>P>|t|</th>  <th>[0.025</th>    <th>0.975]</th>  \n",
       "</tr>\n",
       "<tr>\n",
       "  <th>all</th>         <td>    0.0354</td> <td>    0.001</td> <td>   32.380</td> <td> 0.000</td> <td>    0.033</td> <td>    0.038</td>\n",
       "</tr>\n",
       "<tr>\n",
       "  <th>gender_Male</th> <td>   -0.8538</td> <td>    0.128</td> <td>   -6.652</td> <td> 0.000</td> <td>   -1.106</td> <td>   -0.602</td>\n",
       "</tr>\n",
       "<tr>\n",
       "  <th>const</th>       <td>    0.1863</td> <td>    0.122</td> <td>    1.525</td> <td> 0.128</td> <td>   -0.053</td> <td>    0.426</td>\n",
       "</tr>\n",
       "</table>\n",
       "<table class=\"simpletable\">\n",
       "<tr>\n",
       "  <th>Omnibus:</th>       <td>288.294</td> <th>  Durbin-Watson:     </th> <td>   1.946</td>\n",
       "</tr>\n",
       "<tr>\n",
       "  <th>Prob(Omnibus):</th> <td> 0.000</td>  <th>  Jarque-Bera (JB):  </th> <td>4105.441</td>\n",
       "</tr>\n",
       "<tr>\n",
       "  <th>Skew:</th>          <td> 1.348</td>  <th>  Prob(JB):          </th> <td>    0.00</td>\n",
       "</tr>\n",
       "<tr>\n",
       "  <th>Kurtosis:</th>      <td>14.220</td>  <th>  Cond. No.          </th> <td>    208.</td>\n",
       "</tr>\n",
       "</table><br/><br/>Warnings:<br/>[1] Standard Errors assume that the covariance matrix of the errors is correctly specified."
      ],
      "text/plain": [
       "<class 'statsmodels.iolib.summary.Summary'>\n",
       "\"\"\"\n",
       "                            OLS Regression Results                            \n",
       "==============================================================================\n",
       "Dep. Variable:                      y   R-squared:                       0.600\n",
       "Model:                            OLS   Adj. R-squared:                  0.599\n",
       "Method:                 Least Squares   F-statistic:                     553.6\n",
       "Date:                Mon, 27 Dec 2021   Prob (F-statistic):          1.61e-147\n",
       "Time:                        11:31:32   Log-Likelihood:                -1390.1\n",
       "No. Observations:                 740   AIC:                             2786.\n",
       "Df Residuals:                     737   BIC:                             2800.\n",
       "Df Model:                           2                                         \n",
       "Covariance Type:            nonrobust                                         \n",
       "===============================================================================\n",
       "                  coef    std err          t      P>|t|      [0.025      0.975]\n",
       "-------------------------------------------------------------------------------\n",
       "all             0.0354      0.001     32.380      0.000       0.033       0.038\n",
       "gender_Male    -0.8538      0.128     -6.652      0.000      -1.106      -0.602\n",
       "const           0.1863      0.122      1.525      0.128      -0.053       0.426\n",
       "==============================================================================\n",
       "Omnibus:                      288.294   Durbin-Watson:                   1.946\n",
       "Prob(Omnibus):                  0.000   Jarque-Bera (JB):             4105.441\n",
       "Skew:                           1.348   Prob(JB):                         0.00\n",
       "Kurtosis:                      14.220   Cond. No.                         208.\n",
       "==============================================================================\n",
       "\n",
       "Warnings:\n",
       "[1] Standard Errors assume that the covariance matrix of the errors is correctly specified.\n",
       "\"\"\""
      ]
     },
     "execution_count": 110,
     "metadata": {},
     "output_type": "execute_result"
    }
   ],
   "source": [
    "model = sm.OLS(np.array(X['Women and Equalities']), pd.DataFrame(X[['all','gender_Male']]).assign(const=1))\n",
    "results = model.fit()\n",
    "results.summary()"
   ]
  },
  {
   "cell_type": "code",
   "execution_count": 115,
   "metadata": {},
   "outputs": [
    {
     "data": {
      "text/html": [
       "<table class=\"simpletable\">\n",
       "<caption>OLS Regression Results</caption>\n",
       "<tr>\n",
       "  <th>Dep. Variable:</th>            <td>y</td>        <th>  R-squared:         </th> <td>   0.245</td>\n",
       "</tr>\n",
       "<tr>\n",
       "  <th>Model:</th>                   <td>OLS</td>       <th>  Adj. R-squared:    </th> <td>   0.243</td>\n",
       "</tr>\n",
       "<tr>\n",
       "  <th>Method:</th>             <td>Least Squares</td>  <th>  F-statistic:       </th> <td>   119.6</td>\n",
       "</tr>\n",
       "<tr>\n",
       "  <th>Date:</th>             <td>Mon, 27 Dec 2021</td> <th>  Prob (F-statistic):</th> <td>1.01e-45</td>\n",
       "</tr>\n",
       "<tr>\n",
       "  <th>Time:</th>                 <td>11:32:55</td>     <th>  Log-Likelihood:    </th> <td> -605.83</td>\n",
       "</tr>\n",
       "<tr>\n",
       "  <th>No. Observations:</th>      <td>   740</td>      <th>  AIC:               </th> <td>   1218.</td>\n",
       "</tr>\n",
       "<tr>\n",
       "  <th>Df Residuals:</th>          <td>   737</td>      <th>  BIC:               </th> <td>   1231.</td>\n",
       "</tr>\n",
       "<tr>\n",
       "  <th>Df Model:</th>              <td>     2</td>      <th>                     </th>     <td> </td>   \n",
       "</tr>\n",
       "<tr>\n",
       "  <th>Covariance Type:</th>      <td>nonrobust</td>    <th>                     </th>     <td> </td>   \n",
       "</tr>\n",
       "</table>\n",
       "<table class=\"simpletable\">\n",
       "<tr>\n",
       "       <td></td>          <th>coef</th>     <th>std err</th>      <th>t</th>      <th>P>|t|</th>  <th>[0.025</th>    <th>0.975]</th>  \n",
       "</tr>\n",
       "<tr>\n",
       "  <th>all</th>         <td>    0.0059</td> <td>    0.000</td> <td>   15.460</td> <td> 0.000</td> <td>    0.005</td> <td>    0.007</td>\n",
       "</tr>\n",
       "<tr>\n",
       "  <th>gender_Male</th> <td>   -0.0009</td> <td>    0.044</td> <td>   -0.020</td> <td> 0.984</td> <td>   -0.088</td> <td>    0.086</td>\n",
       "</tr>\n",
       "<tr>\n",
       "  <th>const</th>       <td>   -0.0701</td> <td>    0.042</td> <td>   -1.656</td> <td> 0.098</td> <td>   -0.153</td> <td>    0.013</td>\n",
       "</tr>\n",
       "</table>\n",
       "<table class=\"simpletable\">\n",
       "<tr>\n",
       "  <th>Omnibus:</th>       <td>525.377</td> <th>  Durbin-Watson:     </th> <td>   2.021</td>\n",
       "</tr>\n",
       "<tr>\n",
       "  <th>Prob(Omnibus):</th> <td> 0.000</td>  <th>  Jarque-Bera (JB):  </th> <td>8575.405</td>\n",
       "</tr>\n",
       "<tr>\n",
       "  <th>Skew:</th>          <td> 3.030</td>  <th>  Prob(JB):          </th> <td>    0.00</td>\n",
       "</tr>\n",
       "<tr>\n",
       "  <th>Kurtosis:</th>      <td>18.537</td>  <th>  Cond. No.          </th> <td>    208.</td>\n",
       "</tr>\n",
       "</table><br/><br/>Warnings:<br/>[1] Standard Errors assume that the covariance matrix of the errors is correctly specified."
      ],
      "text/plain": [
       "<class 'statsmodels.iolib.summary.Summary'>\n",
       "\"\"\"\n",
       "                            OLS Regression Results                            \n",
       "==============================================================================\n",
       "Dep. Variable:                      y   R-squared:                       0.245\n",
       "Model:                            OLS   Adj. R-squared:                  0.243\n",
       "Method:                 Least Squares   F-statistic:                     119.6\n",
       "Date:                Mon, 27 Dec 2021   Prob (F-statistic):           1.01e-45\n",
       "Time:                        11:32:55   Log-Likelihood:                -605.83\n",
       "No. Observations:                 740   AIC:                             1218.\n",
       "Df Residuals:                     737   BIC:                             1231.\n",
       "Df Model:                           2                                         \n",
       "Covariance Type:            nonrobust                                         \n",
       "===============================================================================\n",
       "                  coef    std err          t      P>|t|      [0.025      0.975]\n",
       "-------------------------------------------------------------------------------\n",
       "all             0.0059      0.000     15.460      0.000       0.005       0.007\n",
       "gender_Male    -0.0009      0.044     -0.020      0.984      -0.088       0.086\n",
       "const          -0.0701      0.042     -1.656      0.098      -0.153       0.013\n",
       "==============================================================================\n",
       "Omnibus:                      525.377   Durbin-Watson:                   2.021\n",
       "Prob(Omnibus):                  0.000   Jarque-Bera (JB):             8575.405\n",
       "Skew:                           3.030   Prob(JB):                         0.00\n",
       "Kurtosis:                      18.537   Cond. No.                         208.\n",
       "==============================================================================\n",
       "\n",
       "Warnings:\n",
       "[1] Standard Errors assume that the covariance matrix of the errors is correctly specified.\n",
       "\"\"\""
      ]
     },
     "execution_count": 115,
     "metadata": {},
     "output_type": "execute_result"
    }
   ],
   "source": [
    "X = pd.get_dummies(by_mp_row[['gender','COP26','all']],drop_first=True)\n",
    "model = sm.OLS(np.array(X['COP26']), pd.DataFrame(X[['all','gender_Male']]).assign(const=1))\n",
    "results = model.fit()\n",
    "results.summary()"
   ]
  },
  {
   "cell_type": "code",
   "execution_count": 10,
   "metadata": {},
   "outputs": [
    {
     "data": {
      "text/plain": [
       "uri_mp\n",
       "http://data.parliament.uk/members/103      2\n",
       "http://data.parliament.uk/members/104     14\n",
       "http://data.parliament.uk/members/111      5\n",
       "http://data.parliament.uk/members/114    118\n",
       "http://data.parliament.uk/members/116     34\n",
       "                                        ... \n",
       "http://data.parliament.uk/members/69      35\n",
       "http://data.parliament.uk/members/76      23\n",
       "http://data.parliament.uk/members/77       3\n",
       "http://data.parliament.uk/members/87      21\n",
       "http://data.parliament.uk/members/93      40\n",
       "Name: uri, Length: 740, dtype: int64"
      ]
     },
     "execution_count": 10,
     "metadata": {},
     "output_type": "execute_result"
    }
   ],
   "source": [
    "df.groupby('uri_mp')['uri'].count()"
   ]
  },
  {
   "cell_type": "code",
   "execution_count": 116,
   "metadata": {},
   "outputs": [],
   "source": [
    "from statsmodels.discrete.discrete_model import NegativeBinomial"
   ]
  },
  {
   "cell_type": "code",
   "execution_count": 118,
   "metadata": {},
   "outputs": [
    {
     "name": "stdout",
     "output_type": "stream",
     "text": [
      "Optimization terminated successfully.\n",
      "         Current function value: 1.187442\n",
      "         Iterations: 17\n",
      "         Function evaluations: 20\n",
      "         Gradient evaluations: 20\n"
     ]
    },
    {
     "data": {
      "text/html": [
       "<table class=\"simpletable\">\n",
       "<caption>NegativeBinomial Regression Results</caption>\n",
       "<tr>\n",
       "  <th>Dep. Variable:</th>           <td>y</td>        <th>  No. Observations:  </th>  <td>   740</td>  \n",
       "</tr>\n",
       "<tr>\n",
       "  <th>Model:</th>           <td>NegativeBinomial</td> <th>  Df Residuals:      </th>  <td>   737</td>  \n",
       "</tr>\n",
       "<tr>\n",
       "  <th>Method:</th>                 <td>MLE</td>       <th>  Df Model:          </th>  <td>     2</td>  \n",
       "</tr>\n",
       "<tr>\n",
       "  <th>Date:</th>            <td>Mon, 27 Dec 2021</td> <th>  Pseudo R-squ.:     </th>  <td>0.2028</td>  \n",
       "</tr>\n",
       "<tr>\n",
       "  <th>Time:</th>                <td>11:36:50</td>     <th>  Log-Likelihood:    </th> <td> -878.71</td> \n",
       "</tr>\n",
       "<tr>\n",
       "  <th>converged:</th>             <td>True</td>       <th>  LL-Null:           </th> <td> -1102.2</td> \n",
       "</tr>\n",
       "<tr>\n",
       "  <th>Covariance Type:</th>     <td>nonrobust</td>    <th>  LLR p-value:       </th> <td>8.382e-98</td>\n",
       "</tr>\n",
       "</table>\n",
       "<table class=\"simpletable\">\n",
       "<tr>\n",
       "       <td></td>          <th>coef</th>     <th>std err</th>      <th>z</th>      <th>P>|z|</th>  <th>[0.025</th>    <th>0.975]</th>  \n",
       "</tr>\n",
       "<tr>\n",
       "  <th>all</th>         <td>    0.0199</td> <td>    0.001</td> <td>   19.782</td> <td> 0.000</td> <td>    0.018</td> <td>    0.022</td>\n",
       "</tr>\n",
       "<tr>\n",
       "  <th>gender_Male</th> <td>   -0.8209</td> <td>    0.105</td> <td>   -7.786</td> <td> 0.000</td> <td>   -1.028</td> <td>   -0.614</td>\n",
       "</tr>\n",
       "<tr>\n",
       "  <th>const</th>       <td>   -0.8186</td> <td>    0.108</td> <td>   -7.607</td> <td> 0.000</td> <td>   -1.030</td> <td>   -0.608</td>\n",
       "</tr>\n",
       "<tr>\n",
       "  <th>alpha</th>       <td>    0.6153</td> <td>    0.093</td> <td>    6.582</td> <td> 0.000</td> <td>    0.432</td> <td>    0.799</td>\n",
       "</tr>\n",
       "</table>"
      ],
      "text/plain": [
       "<class 'statsmodels.iolib.summary.Summary'>\n",
       "\"\"\"\n",
       "                     NegativeBinomial Regression Results                      \n",
       "==============================================================================\n",
       "Dep. Variable:                      y   No. Observations:                  740\n",
       "Model:               NegativeBinomial   Df Residuals:                      737\n",
       "Method:                           MLE   Df Model:                            2\n",
       "Date:                Mon, 27 Dec 2021   Pseudo R-squ.:                  0.2028\n",
       "Time:                        11:36:50   Log-Likelihood:                -878.71\n",
       "converged:                       True   LL-Null:                       -1102.2\n",
       "Covariance Type:            nonrobust   LLR p-value:                 8.382e-98\n",
       "===============================================================================\n",
       "                  coef    std err          z      P>|z|      [0.025      0.975]\n",
       "-------------------------------------------------------------------------------\n",
       "all             0.0199      0.001     19.782      0.000       0.018       0.022\n",
       "gender_Male    -0.8209      0.105     -7.786      0.000      -1.028      -0.614\n",
       "const          -0.8186      0.108     -7.607      0.000      -1.030      -0.608\n",
       "alpha           0.6153      0.093      6.582      0.000       0.432       0.799\n",
       "===============================================================================\n",
       "\"\"\""
      ]
     },
     "execution_count": 118,
     "metadata": {},
     "output_type": "execute_result"
    }
   ],
   "source": [
    "X = pd.get_dummies(by_mp_row[['gender','Women and Equalities','all']],drop_first=True)\n",
    "model = NegativeBinomial(np.array(X['Women and Equalities']), pd.DataFrame(X[['all','gender_Male']]).assign(const=1))\n",
    "results = model.fit()\n",
    "results.summary()"
   ]
  },
  {
   "cell_type": "code",
   "execution_count": 131,
   "metadata": {},
   "outputs": [
    {
     "data": {
      "text/html": [
       "<div>\n",
       "<style scoped>\n",
       "    .dataframe tbody tr th:only-of-type {\n",
       "        vertical-align: middle;\n",
       "    }\n",
       "\n",
       "    .dataframe tbody tr th {\n",
       "        vertical-align: top;\n",
       "    }\n",
       "\n",
       "    .dataframe thead th {\n",
       "        text-align: right;\n",
       "    }\n",
       "</style>\n",
       "<table border=\"1\" class=\"dataframe\">\n",
       "  <thead>\n",
       "    <tr style=\"text-align: right;\">\n",
       "      <th></th>\n",
       "      <th>response</th>\n",
       "      <th>all</th>\n",
       "      <th>gender</th>\n",
       "    </tr>\n",
       "  </thead>\n",
       "  <tbody>\n",
       "    <tr>\n",
       "      <th>0</th>\n",
       "      <td>0.0</td>\n",
       "      <td>2.0</td>\n",
       "      <td>1</td>\n",
       "    </tr>\n",
       "    <tr>\n",
       "      <th>1</th>\n",
       "      <td>3.0</td>\n",
       "      <td>14.0</td>\n",
       "      <td>1</td>\n",
       "    </tr>\n",
       "    <tr>\n",
       "      <th>2</th>\n",
       "      <td>0.0</td>\n",
       "      <td>5.0</td>\n",
       "      <td>1</td>\n",
       "    </tr>\n",
       "    <tr>\n",
       "      <th>3</th>\n",
       "      <td>1.0</td>\n",
       "      <td>118.0</td>\n",
       "      <td>1</td>\n",
       "    </tr>\n",
       "    <tr>\n",
       "      <th>4</th>\n",
       "      <td>0.0</td>\n",
       "      <td>34.0</td>\n",
       "      <td>1</td>\n",
       "    </tr>\n",
       "    <tr>\n",
       "      <th>...</th>\n",
       "      <td>...</td>\n",
       "      <td>...</td>\n",
       "      <td>...</td>\n",
       "    </tr>\n",
       "    <tr>\n",
       "      <th>735</th>\n",
       "      <td>0.0</td>\n",
       "      <td>35.0</td>\n",
       "      <td>1</td>\n",
       "    </tr>\n",
       "    <tr>\n",
       "      <th>736</th>\n",
       "      <td>0.0</td>\n",
       "      <td>23.0</td>\n",
       "      <td>1</td>\n",
       "    </tr>\n",
       "    <tr>\n",
       "      <th>737</th>\n",
       "      <td>0.0</td>\n",
       "      <td>3.0</td>\n",
       "      <td>1</td>\n",
       "    </tr>\n",
       "    <tr>\n",
       "      <th>738</th>\n",
       "      <td>0.0</td>\n",
       "      <td>21.0</td>\n",
       "      <td>1</td>\n",
       "    </tr>\n",
       "    <tr>\n",
       "      <th>739</th>\n",
       "      <td>0.0</td>\n",
       "      <td>40.0</td>\n",
       "      <td>1</td>\n",
       "    </tr>\n",
       "  </tbody>\n",
       "</table>\n",
       "<p>740 rows × 3 columns</p>\n",
       "</div>"
      ],
      "text/plain": [
       "     response    all  gender\n",
       "0         0.0    2.0       1\n",
       "1         3.0   14.0       1\n",
       "2         0.0    5.0       1\n",
       "3         1.0  118.0       1\n",
       "4         0.0   34.0       1\n",
       "..        ...    ...     ...\n",
       "735       0.0   35.0       1\n",
       "736       0.0   23.0       1\n",
       "737       0.0    3.0       1\n",
       "738       0.0   21.0       1\n",
       "739       0.0   40.0       1\n",
       "\n",
       "[740 rows x 3 columns]"
      ]
     },
     "execution_count": 131,
     "metadata": {},
     "output_type": "execute_result"
    }
   ],
   "source": [
    "import statsmodels.api as sm\n",
    "import statsmodels.formula.api as smf\n",
    "X = pd.get_dummies(by_mp_row[['gender','Women and Equalities','all']],drop_first=True)\n",
    "X.columns = ['response','all','gender']\n",
    "X"
   ]
  },
  {
   "cell_type": "code",
   "execution_count": 137,
   "metadata": {},
   "outputs": [
    {
     "data": {
      "text/html": [
       "<table class=\"simpletable\">\n",
       "<caption>Generalized Linear Model Regression Results</caption>\n",
       "<tr>\n",
       "  <th>Dep. Variable:</th>       <td>response</td>     <th>  No. Observations:  </th>  <td>   740</td> \n",
       "</tr>\n",
       "<tr>\n",
       "  <th>Model:</th>                  <td>GLM</td>       <th>  Df Residuals:      </th>  <td>   737</td> \n",
       "</tr>\n",
       "<tr>\n",
       "  <th>Model Family:</th>    <td>NegativeBinomial</td> <th>  Df Model:          </th>  <td>     2</td> \n",
       "</tr>\n",
       "<tr>\n",
       "  <th>Link Function:</th>          <td>log</td>       <th>  Scale:             </th> <td>  1.0000</td>\n",
       "</tr>\n",
       "<tr>\n",
       "  <th>Method:</th>                <td>IRLS</td>       <th>  Log-Likelihood:    </th> <td> -884.37</td>\n",
       "</tr>\n",
       "<tr>\n",
       "  <th>Date:</th>            <td>Mon, 27 Dec 2021</td> <th>  Deviance:          </th> <td>  522.56</td>\n",
       "</tr>\n",
       "<tr>\n",
       "  <th>Time:</th>                <td>12:00:25</td>     <th>  Pearson chi2:      </th>  <td>  595.</td> \n",
       "</tr>\n",
       "<tr>\n",
       "  <th>No. Iterations:</th>         <td>13</td>        <th>                     </th>     <td> </td>   \n",
       "</tr>\n",
       "<tr>\n",
       "  <th>Covariance Type:</th>     <td>nonrobust</td>    <th>                     </th>     <td> </td>   \n",
       "</tr>\n",
       "</table>\n",
       "<table class=\"simpletable\">\n",
       "<tr>\n",
       "      <td></td>         <th>coef</th>     <th>std err</th>      <th>z</th>      <th>P>|z|</th>  <th>[0.025</th>    <th>0.975]</th>  \n",
       "</tr>\n",
       "<tr>\n",
       "  <th>Intercept</th> <td>   -0.9093</td> <td>    0.113</td> <td>   -8.039</td> <td> 0.000</td> <td>   -1.131</td> <td>   -0.688</td>\n",
       "</tr>\n",
       "<tr>\n",
       "  <th>gender</th>    <td>   -0.8269</td> <td>    0.121</td> <td>   -6.834</td> <td> 0.000</td> <td>   -1.064</td> <td>   -0.590</td>\n",
       "</tr>\n",
       "<tr>\n",
       "  <th>all</th>       <td>    0.0211</td> <td>    0.001</td> <td>   23.369</td> <td> 0.000</td> <td>    0.019</td> <td>    0.023</td>\n",
       "</tr>\n",
       "</table>"
      ],
      "text/plain": [
       "<class 'statsmodels.iolib.summary.Summary'>\n",
       "\"\"\"\n",
       "                 Generalized Linear Model Regression Results                  \n",
       "==============================================================================\n",
       "Dep. Variable:               response   No. Observations:                  740\n",
       "Model:                            GLM   Df Residuals:                      737\n",
       "Model Family:        NegativeBinomial   Df Model:                            2\n",
       "Link Function:                    log   Scale:                          1.0000\n",
       "Method:                          IRLS   Log-Likelihood:                -884.37\n",
       "Date:                Mon, 27 Dec 2021   Deviance:                       522.56\n",
       "Time:                        12:00:25   Pearson chi2:                     595.\n",
       "No. Iterations:                    13                                         \n",
       "Covariance Type:            nonrobust                                         \n",
       "==============================================================================\n",
       "                 coef    std err          z      P>|z|      [0.025      0.975]\n",
       "------------------------------------------------------------------------------\n",
       "Intercept     -0.9093      0.113     -8.039      0.000      -1.131      -0.688\n",
       "gender        -0.8269      0.121     -6.834      0.000      -1.064      -0.590\n",
       "all            0.0211      0.001     23.369      0.000       0.019       0.023\n",
       "==============================================================================\n",
       "\"\"\""
      ]
     },
     "execution_count": 137,
     "metadata": {},
     "output_type": "execute_result"
    }
   ],
   "source": [
    "model = smf.glm(formula='response ~ gender + all', data=X, family=sm.families.NegativeBinomial())\n",
    "results = model.fit()\n",
    "results.summary()"
   ]
  },
  {
   "cell_type": "code",
   "execution_count": 145,
   "metadata": {},
   "outputs": [
    {
     "data": {
      "text/plain": [
       "-228.62204601880202"
      ]
     },
     "execution_count": 145,
     "metadata": {},
     "output_type": "execute_result"
    }
   ],
   "source": [
    "-np.exp(0.8269) * 100"
   ]
  },
  {
   "cell_type": "code",
   "execution_count": 141,
   "metadata": {},
   "outputs": [
    {
     "data": {
      "text/plain": [
       "1.0213241789489729"
      ]
     },
     "execution_count": 141,
     "metadata": {},
     "output_type": "execute_result"
    }
   ],
   "source": [
    "np.exp(0.0211)"
   ]
  },
  {
   "cell_type": "code",
   "execution_count": 119,
   "metadata": {},
   "outputs": [
    {
     "data": {
      "text/plain": [
       "0.4400354443382635"
      ]
     },
     "execution_count": 119,
     "metadata": {},
     "output_type": "execute_result"
    }
   ],
   "source": [
    "np.exp(-0.8209)"
   ]
  },
  {
   "cell_type": "code",
   "execution_count": null,
   "metadata": {},
   "outputs": [],
   "source": []
  }
 ],
 "metadata": {
  "kernelspec": {
   "display_name": "Python 3",
   "language": "python",
   "name": "python3"
  },
  "language_info": {
   "codemirror_mode": {
    "name": "ipython",
    "version": 3
   },
   "file_extension": ".py",
   "mimetype": "text/x-python",
   "name": "python",
   "nbconvert_exporter": "python",
   "pygments_lexer": "ipython3",
   "version": "3.7.4"
  }
 },
 "nbformat": 4,
 "nbformat_minor": 2
}
