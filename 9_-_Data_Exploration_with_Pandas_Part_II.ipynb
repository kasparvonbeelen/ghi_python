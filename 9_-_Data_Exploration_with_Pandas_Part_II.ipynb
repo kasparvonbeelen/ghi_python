{
 "cells": [
  {
   "cell_type": "markdown",
   "metadata": {},
   "source": [
    "\n",
    "\n",
    "\n",
    "[![Binder](https://mybinder.org/badge_logo.svg)](https://mybinder.org/v2/gh/kasparvonbeelen/ghi_python/4-tables?labpath=9_-_Data_Exploration_with_Pandas_Part_II.ipynb)\n",
    "\n",
    "\n",
    "# Lecture 9: Data Exploration with Pandas Part II\n",
    "## Part of: Data Science for Historians (with Python)\n",
    "## A Gentle Introduction to Working with Data in Python\n",
    "\n",
    "\n",
    "### For the German Historical Institute, London\n",
    "Kaspar Beelen and Luke Blaxill\n",
    "\n",
    "<img align=\"left\" src=\"https://www.ghil.ac.uk/typo3conf/ext/wacon_ghil/Resources/Public/Images/institute_icon_small.png\">"
   ]
  },
  {
   "cell_type": "markdown",
   "metadata": {},
   "source": [
    "In this lecture, we continue to explore data frames but slowly dive into more analytical topics. The focus of this notebook is on summarizing numerical and categorical data with descriptive statistics.\n",
    "\n",
    "This course doesn't provide a formal or rigorous introduction to data science. However, similarly to the Python part, we hope that through experimentation and tinkering with code and data, you will intuitively grasp how data science and text mining may be of relevance to a historians."
   ]
  },
  {
   "cell_type": "markdown",
   "metadata": {},
   "source": [
    "## Age and Gender in late-Victorian London\n",
    "\n",
    "In our first statistical explorations, we use a small sample of synthetic census data from London. Because of rights issues and yadayadayada, we can not work with the original data. We, therefore, created a set that looks similar and (actually yields similar results) but is essentially a fake dataset artificially generated. You can read more on the topic of synthetic data [here](https://en.wikipedia.org/wiki/Synthetic_data). \n",
    "\n",
    "However, our dataset will have a similar structure to the historical census data, it records, in theory for each person in England, place of residency, age, sex and disability. The original census is richer, and also has information on the place of birth and occupations. However, we will work with a very simplified version of these data."
   ]
  },
  {
   "cell_type": "markdown",
   "metadata": {},
   "source": [
    "# Opening and manipulating dataframes with Pandas"
   ]
  },
  {
   "cell_type": "markdown",
   "metadata": {},
   "source": [
    "As in the previous notebooks, we start with loading all the tools and packages that our analysis will require. The first line instructs the environment to show all plots in this notebook. Lines two till four import different libraries. In both cases, we use abbreviations to refer to these libraries later on (you'll notice 'pd' returning everywhere). This is just to save you time typing. In the last line we instruct Python to use `seaborn` for plotting (set it as default) this is just to make things look prettier! "
   ]
  },
  {
   "cell_type": "code",
   "execution_count": 1,
   "metadata": {},
   "outputs": [],
   "source": [
    "%matplotlib inline\n",
    "import pandas as pd\n",
    "import numpy as np\n",
    "import seaborn as sns\n",
    "sns.set()"
   ]
  },
  {
   "cell_type": "markdown",
   "metadata": {},
   "source": [
    "Then we can import the data into our notebook. The syntax should be familiar from the previous notebook: we use the function `read_csv` from the Pandas `pd` library to load a file stored in `'data/icem/EW01_london_sample.csv'`. The last argument `index_col` indicates we want the first column (index 0) to serve as the row index."
   ]
  },
  {
   "cell_type": "code",
   "execution_count": 9,
   "metadata": {},
   "outputs": [],
   "source": [
    "df = pd.read_csv('data/icem/EW01_london_subsample.csv',index_col=0)"
   ]
  },
  {
   "cell_type": "code",
   "execution_count": 10,
   "metadata": {},
   "outputs": [
    {
     "data": {
      "text/html": [
       "<div>\n",
       "<style scoped>\n",
       "    .dataframe tbody tr th:only-of-type {\n",
       "        vertical-align: middle;\n",
       "    }\n",
       "\n",
       "    .dataframe tbody tr th {\n",
       "        vertical-align: top;\n",
       "    }\n",
       "\n",
       "    .dataframe thead th {\n",
       "        text-align: right;\n",
       "    }\n",
       "</style>\n",
       "<table border=\"1\" class=\"dataframe\">\n",
       "  <thead>\n",
       "    <tr style=\"text-align: right;\">\n",
       "      <th></th>\n",
       "      <th>RegDist</th>\n",
       "      <th>Sex</th>\n",
       "      <th>Age</th>\n",
       "      <th>Disability</th>\n",
       "    </tr>\n",
       "  </thead>\n",
       "  <tbody>\n",
       "    <tr>\n",
       "      <th>0</th>\n",
       "      <td>Kensington</td>\n",
       "      <td>M</td>\n",
       "      <td>18</td>\n",
       "      <td>0</td>\n",
       "    </tr>\n",
       "    <tr>\n",
       "      <th>1</th>\n",
       "      <td>Greenwich</td>\n",
       "      <td>U</td>\n",
       "      <td>14</td>\n",
       "      <td>0</td>\n",
       "    </tr>\n",
       "    <tr>\n",
       "      <th>2</th>\n",
       "      <td>St George Hanover Square</td>\n",
       "      <td>M</td>\n",
       "      <td>38</td>\n",
       "      <td>0</td>\n",
       "    </tr>\n",
       "    <tr>\n",
       "      <th>3</th>\n",
       "      <td>St Olave Southwark</td>\n",
       "      <td>F</td>\n",
       "      <td>42</td>\n",
       "      <td>0</td>\n",
       "    </tr>\n",
       "    <tr>\n",
       "      <th>4</th>\n",
       "      <td>St George Hanover Square</td>\n",
       "      <td>M</td>\n",
       "      <td>19</td>\n",
       "      <td>0</td>\n",
       "    </tr>\n",
       "  </tbody>\n",
       "</table>\n",
       "</div>"
      ],
      "text/plain": [
       "                    RegDist Sex  Age  Disability\n",
       "0                Kensington   M   18           0\n",
       "1                 Greenwich   U   14           0\n",
       "2  St George Hanover Square   M   38           0\n",
       "3        St Olave Southwark   F   42           0\n",
       "4  St George Hanover Square   M   19           0"
      ]
     },
     "execution_count": 10,
     "metadata": {},
     "output_type": "execute_result"
    }
   ],
   "source": [
    "df.head()"
   ]
  },
  {
   "cell_type": "markdown",
   "metadata": {},
   "source": [
    "RegDist (registration district), Sex, Age and Disability are called variables, i.e. the attributes that change for each observation (i.e. person). We first study these variables individually and later, in the following notebook, we analyse and interpret their relationship using correlation and linear regression."
   ]
  },
  {
   "cell_type": "markdown",
   "metadata": {},
   "source": [
    "The previous notebook introduced various methods and attributes that allow us to understand the structure of our data. Firstly we can print the `.shape` attribute (not a function, remember?), which expresses the dimensionality of the data frame (the number of rows and columns)."
   ]
  },
  {
   "cell_type": "code",
   "execution_count": 13,
   "metadata": {},
   "outputs": [
    {
     "data": {
      "text/plain": [
       "(1105237, 4)"
      ]
     },
     "execution_count": 13,
     "metadata": {},
     "output_type": "execute_result"
    }
   ],
   "source": [
    "df.shape"
   ]
  },
  {
   "cell_type": "markdown",
   "metadata": {},
   "source": [
    "Rows are usually observations, in this case, individuals recorded in the 1901 census and living in London. The columns are attributes or features of these records: they capture the attributes of persons recorded in the census (the registration district, sex, age and disability)."
   ]
  },
  {
   "cell_type": "markdown",
   "metadata": {},
   "source": [
    "Pandas DataFrames are the most common object we will encounter when working with structured data in Python. It provides many tools to describe, analyse and generally make sense of tabular information. A useful methods that gives a general description of the content is `.info()`. Applying this method to `df` we get:"
   ]
  },
  {
   "cell_type": "code",
   "execution_count": 14,
   "metadata": {},
   "outputs": [
    {
     "name": "stdout",
     "output_type": "stream",
     "text": [
      "<class 'pandas.core.frame.DataFrame'>\n",
      "Int64Index: 1105237 entries, 0 to 1105236\n",
      "Data columns (total 4 columns):\n",
      " #   Column      Non-Null Count    Dtype \n",
      "---  ------      --------------    ----- \n",
      " 0   RegDist     1105237 non-null  object\n",
      " 1   Sex         1105237 non-null  object\n",
      " 2   Age         1105237 non-null  int64 \n",
      " 3   Disability  1105237 non-null  int64 \n",
      "dtypes: int64(2), object(2)\n",
      "memory usage: 42.2+ MB\n"
     ]
    }
   ],
   "source": [
    "df.info()"
   ]
  },
  {
   "cell_type": "markdown",
   "metadata": {},
   "source": [
    "Let's have a closer look at the summary.\n",
    "\n",
    "- `Column`: the column name\n",
    "- `Non-Null Count`: often data frames will contain missing data as we have encountered when wrangling the British Library catalogue metadata. Luckily, the data look complete (the non-null count is equal to the number of rows). Handling missing data is an important topic in data, but unfortunately outside the scope of this tutorial.\n",
    "- `Dtype`: the data type of each column. This will play an important role later in this course, as the data type often determines the design of our analysis and experiments. This data frame contains two data types 'int64' and 'object'. `int64` are integers or counts. `Age` records the years since birth as a number i.e. `34` etc. `object` is a vaguer category and often indicates textual or mixed content. For example, `Sex` contains different codes or labels, 'F', 'M' and 'U'. We'll have a closer look at these variables later on in this course.\n"
   ]
  },
  {
   "cell_type": "markdown",
   "metadata": {},
   "source": [
    "## Variable types\n",
    "\n",
    "In general, we distinguish between the following variable types\n",
    "- numerical: \n",
    "    - continuous: probabilities or ratios (e.g. np.float64\n",
    "    - discrete: counts, number of words, years since birth (np.int64)\n",
    "- categorical:\n",
    "    - binary: sex np.object or np.int8 \n",
    "    - ordinal: values that can be ordered but the step size is not fixed or easy to interpret. Applies to working with [Likert scales](https://en.wikipedia.org/wiki/Likert_scale), ratings. (np.object or np.int16)\n",
    "    - nominal: distinct categories that can not be sorted in ascending or descending order (for example place of birth or registration district)."
   ]
  },
  {
   "cell_type": "markdown",
   "metadata": {},
   "source": [
    "## Inspecting variables: plotting distributions."
   ]
  },
  {
   "cell_type": "markdown",
   "metadata": {},
   "source": [
    "To better understand the data, plotting and inspecting the distribution of the variables of interest is always a good starting point. A distribution conveys how often each value occurs in a variable.\n",
    "For categorical data, we can apply the `value_counts()` method. This method ranks the unique values by their frequency of occurrence (in descending order). For example, we can easily pull up the distribution of men and women in our data and plot the results."
   ]
  },
  {
   "cell_type": "code",
   "execution_count": 26,
   "metadata": {},
   "outputs": [
    {
     "data": {
      "text/plain": [
       "F    576299\n",
       "M    488456\n",
       "U     40482\n",
       "Name: Sex, dtype: int64"
      ]
     },
     "execution_count": 26,
     "metadata": {},
     "output_type": "execute_result"
    }
   ],
   "source": [
    "df['Sex'].value_counts()"
   ]
  },
  {
   "cell_type": "markdown",
   "metadata": {},
   "source": [
    "We observe that the `Sex` variable contains three categories `F`, `M` and `U`, the latter meaning `Unknown`."
   ]
  },
  {
   "cell_type": "markdown",
   "metadata": {},
   "source": [
    "We can obtain the same result using a slightly different syntax. In this case. we use the \"dot\" notation instead of square brackets: the column name follows as an attribute of the dataframe. This won't work if the column name contains a space, a special character or a protected name (such as `len`). Using the notation with square brackets is a safer option and will always work, but you may encounter examples that use the dot notation."
   ]
  },
  {
   "cell_type": "code",
   "execution_count": 18,
   "metadata": {},
   "outputs": [
    {
     "data": {
      "text/plain": [
       "F    576299\n",
       "M    488456\n",
       "U     40482\n",
       "Name: Sex, dtype: int64"
      ]
     },
     "execution_count": 18,
     "metadata": {},
     "output_type": "execute_result"
    }
   ],
   "source": [
    "df.Sex.value_counts()"
   ]
  },
  {
   "cell_type": "markdown",
   "metadata": {},
   "source": [
    "By applying `.plot()`, we can visualize the distribution of these categories. We plot the occurrence of each label in the `Sex` column. The argument `kind` specifies the type of plot. Because we are visualizing categorical information a bar plot is more appropriate (each unique value is `Sex` is represented by one bar)."
   ]
  },
  {
   "cell_type": "code",
   "execution_count": 27,
   "metadata": {},
   "outputs": [
    {
     "data": {
      "text/plain": [
       "<matplotlib.axes._subplots.AxesSubplot at 0x136705f50>"
      ]
     },
     "execution_count": 27,
     "metadata": {},
     "output_type": "execute_result"
    },
    {
     "data": {
      "image/png": "[encoded data removed]",
      "text/plain": [
       "<Figure size 432x288 with 1 Axes>"
      ]
     },
     "metadata": {},
     "output_type": "display_data"
    }
   ],
   "source": [
    "df['Sex'].value_counts().plot(kind='bar')"
   ]
  },
  {
   "cell_type": "markdown",
   "metadata": {},
   "source": [
    "For sure, we could also make a line plot (changing `'bar'` to `'line'`). However, here we observe how the data type of a variable influences our analysis. A line plot is obviously not the most appropriate way for visualizing the distribution of categorical data. Not only is the figure less readable, it also suggests a continuity between values that isn't there."
   ]
  },
  {
   "cell_type": "code",
   "execution_count": 28,
   "metadata": {},
   "outputs": [
    {
     "data": {
      "text/plain": [
       "<matplotlib.axes._subplots.AxesSubplot at 0x136ecd810>"
      ]
     },
     "execution_count": 28,
     "metadata": {},
     "output_type": "execute_result"
    },
    {
     "data": {
      "image/png": "[encoded data removed]",
      "text/plain": [
       "<Figure size 432x288 with 1 Axes>"
      ]
     },
     "metadata": {},
     "output_type": "display_data"
    }
   ],
   "source": [
    "df['Sex'].value_counts().plot(kind='line')"
   ]
  },
  {
   "cell_type": "markdown",
   "metadata": {},
   "source": [
    "To plot the distribution of a numerical variable, we need to follow a slightly different strategy. A common approach is to create a histogram, which tells us how often each element in a numeric variable occurs (there is more to it, but we come to that in a second)."
   ]
  },
  {
   "cell_type": "code",
   "execution_count": 29,
   "metadata": {},
   "outputs": [
    {
     "data": {
      "text/plain": [
       "<matplotlib.axes._subplots.AxesSubplot at 0x136f28550>"
      ]
     },
     "execution_count": 29,
     "metadata": {},
     "output_type": "execute_result"
    },
    {
     "data": {
      "image/png": "[encoded data removed]",
      "text/plain": [
       "<Figure size 432x288 with 1 Axes>"
      ]
     },
     "metadata": {},
     "output_type": "display_data"
    }
   ],
   "source": [
    "df['Age'].plot(kind='hist')"
   ]
  },
  {
   "cell_type": "markdown",
   "metadata": {},
   "source": [
    "This figure shows the distribution of age of Londoners in 1900. Notice that age values appear grouped in separate 'bins', i.e. each bar covers approximately ten years in age difference (the first bar represent the number of people between 0 and 10). The largest group are between ca. 20 and 30 years old.\n",
    "\n",
    "Depending on your research interest, you can make the plot more or less granular. "
   ]
  },
  {
   "cell_type": "markdown",
   "metadata": {},
   "source": [
    "We can, for example, show the same distribution dividing `Age` into 100 bins."
   ]
  },
  {
   "cell_type": "code",
   "execution_count": 30,
   "metadata": {},
   "outputs": [
    {
     "data": {
      "text/plain": [
       "<matplotlib.axes._subplots.AxesSubplot at 0x136ec9350>"
      ]
     },
     "execution_count": 30,
     "metadata": {},
     "output_type": "execute_result"
    },
    {
     "data": {
      "image/png": "[encoded data removed]",
      "text/plain": [
       "<Figure size 432x288 with 1 Axes>"
      ]
     },
     "metadata": {},
     "output_type": "display_data"
    }
   ],
   "source": [
    "df['Age'].plot(kind='hist',bins=100)"
   ]
  },
  {
   "cell_type": "markdown",
   "metadata": {},
   "source": [
    "Often it is more helpful to determine the bin size ourselves. We can do this by passing a list that determines the limits (start and end) of each bin. Here we try to plot the distribution of age with year as the basic unit."
   ]
  },
  {
   "cell_type": "code",
   "execution_count": 34,
   "metadata": {},
   "outputs": [
    {
     "data": {
      "text/plain": [
       "<matplotlib.axes._subplots.AxesSubplot at 0x136433690>"
      ]
     },
     "execution_count": 34,
     "metadata": {},
     "output_type": "execute_result"
    },
    {
     "data": {
      "image/png": "[encoded data removed]",
      "text/plain": [
       "<Figure size 432x288 with 1 Axes>"
      ]
     },
     "metadata": {},
     "output_type": "display_data"
    }
   ],
   "source": [
    "df['Age'].plot(kind='hist',bins=range(0,101,1))"
   ]
  },
  {
   "cell_type": "markdown",
   "metadata": {},
   "source": [
    "Of course, looking at a distribution only gets you so far. We need more accurate methods to describe and summarize the data. This is where measures of location and spread can help us."
   ]
  },
  {
   "cell_type": "markdown",
   "metadata": {},
   "source": [
    "# Location and Dispersion"
   ]
  },
  {
   "cell_type": "markdown",
   "metadata": {},
   "source": [
    "Plotting distributions enables us to grasp what the data \"looks like\", but it remains a superficial approach that doesn't give us much of a numerical grip. To describe and summarize the information with numbers, we have to rely on different strategies. \n",
    "\n",
    "In this context, to summarize a variable in one number, we'd often like to know what age was \"typical\"? Where are most of our data located? Looking at the distribution, you notice some values for \"Age\" are more common than others. Londoners were likely to be 20 to 30 years old than 90 to 100. \n",
    "\n",
    "In the next section, we will discuss different measures of location and spread, numbers that can help us better summarizing (and later comparing) data."
   ]
  },
  {
   "cell_type": "markdown",
   "metadata": {},
   "source": [
    "### range\n",
    "\n",
    "Determining the range of values is often a good start. We first extract the most extreme values to know where all other values in a variable are located. In Pandas, we can apply the `.min()` and `.max()` methods to a column (with numerical values), and subtract them to obtain the range of values, in these the ages of people living in London."
   ]
  },
  {
   "cell_type": "code",
   "execution_count": 35,
   "metadata": {},
   "outputs": [],
   "source": [
    "max_age = df.Age.max()"
   ]
  },
  {
   "cell_type": "code",
   "execution_count": 36,
   "metadata": {},
   "outputs": [],
   "source": [
    "min_age = df.Age.min()"
   ]
  },
  {
   "cell_type": "code",
   "execution_count": 37,
   "metadata": {},
   "outputs": [],
   "source": [
    "range_age = max_age - min_age"
   ]
  },
  {
   "cell_type": "code",
   "execution_count": 38,
   "metadata": {},
   "outputs": [
    {
     "name": "stdout",
     "output_type": "stream",
     "text": [
      "Age maximum 102\n",
      "Age minimum 0\n",
      "Age range 102\n"
     ]
    }
   ],
   "source": [
    "print('Age maximum', max_age)\n",
    "print('Age minimum', min_age)\n",
    "print(\"Age range\", range_age )"
   ]
  },
  {
   "cell_type": "markdown",
   "metadata": {},
   "source": [
    "The oldest person in the London of 1901 (in our sample at least) was 102 years, the youngest was just born. In total, the range for \"Age\" is therefore 102 years."
   ]
  },
  {
   "cell_type": "markdown",
   "metadata": {},
   "source": [
    "## mean"
   ]
  },
  {
   "cell_type": "markdown",
   "metadata": {},
   "source": [
    "The most common statistic to summarize a numeric variable is the \"mean\". In the example below, I record the number of cats I observed each day of the week. I collected these counts and saved them in the variable called 'cats_observed`."
   ]
  },
  {
   "cell_type": "code",
   "execution_count": 39,
   "metadata": {},
   "outputs": [],
   "source": [
    "cats_observed = [1,4,5,4,6,4,2]"
   ]
  },
  {
   "cell_type": "markdown",
   "metadata": {},
   "source": [
    "The mean then could be interpreted as the number cats of I expect to observe in a day. This statistic is obtained by summing up all the cats I observed divided by the number of days."
   ]
  },
  {
   "cell_type": "code",
   "execution_count": 40,
   "metadata": {},
   "outputs": [
    {
     "name": "stdout",
     "output_type": "stream",
     "text": [
      "total cats observed 26\n",
      "number of days  7\n",
      "mean 3.71\n"
     ]
    }
   ],
   "source": [
    "sum_obs = np.sum(cats_observed)\n",
    "len_obs = len(cats_observed)\n",
    "print('total cats observed',sum_obs)\n",
    "print('number of days ',len_obs)\n",
    "print('mean',round(sum_obs /len_obs,2))"
   ]
  },
  {
   "cell_type": "markdown",
   "metadata": {},
   "source": [
    "In pandas we can compute the mean for a variable by applying the `.mean()` method."
   ]
  },
  {
   "cell_type": "code",
   "execution_count": 41,
   "metadata": {},
   "outputs": [
    {
     "data": {
      "text/plain": [
       "27.786728095422067"
      ]
     },
     "execution_count": 41,
     "metadata": {},
     "output_type": "execute_result"
    }
   ],
   "source": [
    "df.Age.mean()"
   ]
  },
  {
   "cell_type": "markdown",
   "metadata": {},
   "source": [
    "The question remains: is the mean a meaningful estimate of location? Are most of the values close to the mean? Imagine that I (by accident) enter an incorrect number of cats because the `2` on my keyboard doesn't function. As a result, I claim to have seen 222 cats on a Sunday (wow!)."
   ]
  },
  {
   "cell_type": "code",
   "execution_count": 43,
   "metadata": {},
   "outputs": [
    {
     "data": {
      "text/plain": [
       "35.14"
      ]
     },
     "execution_count": 43,
     "metadata": {},
     "output_type": "execute_result"
    }
   ],
   "source": [
    "obs =[1,4,5,4,6,4,222]\n",
    "sum_obs = np.sum(obs)\n",
    "len_obs = len(obs)\n",
    "round(sum_obs /len_obs,2)"
   ]
  },
  {
   "cell_type": "markdown",
   "metadata": {},
   "source": [
    "The mean changed substantially: I expect to see close to ten times as many cats! Because the mean is based on all the numbers in a variable, it is sensitive to extreme values. These extreme values can result from incorrect measurements or erroneous data entry. In such cases, it would be safe to remove them. However, often these values give us important information and we should retain them in our analysis or, at least, handle them carefully. In the next notebook, we have a more detailed discussion about outliers."
   ]
  },
  {
   "cell_type": "markdown",
   "metadata": {},
   "source": [
    "A more robust version of the mean is the trimmed mean, which first ranks all the values, and discards the values at both ends of the sorted list. `trim_mean` mean takes a list of numbers and has `proportiontocut` parameter. If we enter 0.1, we discard the first and last 10% of the values. "
   ]
  },
  {
   "cell_type": "code",
   "execution_count": 47,
   "metadata": {},
   "outputs": [
    {
     "name": "stdout",
     "output_type": "stream",
     "text": [
      "Help on function trim_mean in module scipy.stats.stats:\n",
      "\n",
      "trim_mean(a, proportiontocut, axis=0)\n",
      "    Return mean of array after trimming distribution from both tails.\n",
      "    \n",
      "    If `proportiontocut` = 0.1, slices off 'leftmost' and 'rightmost' 10% of\n",
      "    scores. The input is sorted before slicing. Slices off less if proportion\n",
      "    results in a non-integer slice index (i.e., conservatively slices off\n",
      "    `proportiontocut` ).\n",
      "    \n",
      "    Parameters\n",
      "    ----------\n",
      "    a : array_like\n",
      "        Input array.\n",
      "    proportiontocut : float\n",
      "        Fraction to cut off of both tails of the distribution.\n",
      "    axis : int or None, optional\n",
      "        Axis along which the trimmed means are computed. Default is 0.\n",
      "        If None, compute over the whole array `a`.\n",
      "    \n",
      "    Returns\n",
      "    -------\n",
      "    trim_mean : ndarray\n",
      "        Mean of trimmed array.\n",
      "    \n",
      "    See Also\n",
      "    --------\n",
      "    trimboth\n",
      "    tmean : Compute the trimmed mean ignoring values outside given `limits`.\n",
      "    \n",
      "    Examples\n",
      "    --------\n",
      "    >>> from scipy import stats\n",
      "    >>> x = np.arange(20)\n",
      "    >>> stats.trim_mean(x, 0.1)\n",
      "    9.5\n",
      "    >>> x2 = x.reshape(5, 4)\n",
      "    >>> x2\n",
      "    array([[ 0,  1,  2,  3],\n",
      "           [ 4,  5,  6,  7],\n",
      "           [ 8,  9, 10, 11],\n",
      "           [12, 13, 14, 15],\n",
      "           [16, 17, 18, 19]])\n",
      "    >>> stats.trim_mean(x2, 0.25)\n",
      "    array([  8.,   9.,  10.,  11.])\n",
      "    >>> stats.trim_mean(x2, 0.25, axis=1)\n",
      "    array([  1.5,   5.5,   9.5,  13.5,  17.5])\n",
      "\n"
     ]
    }
   ],
   "source": [
    "from scipy.stats import trim_mean\n",
    "help(trim_mean)"
   ]
  },
  {
   "cell_type": "code",
   "execution_count": 48,
   "metadata": {},
   "outputs": [
    {
     "data": {
      "text/plain": [
       "26.32115459216391"
      ]
     },
     "execution_count": 48,
     "metadata": {},
     "output_type": "execute_result"
    }
   ],
   "source": [
    "trim_mean(df.Age,0.1)"
   ]
  },
  {
   "cell_type": "markdown",
   "metadata": {},
   "source": [
    "The trimmed mean is slightly lower but does not suggest a substantial distortion by extreme values."
   ]
  },
  {
   "cell_type": "markdown",
   "metadata": {},
   "source": [
    "Statistics of location are often divided into robust and non-robust measures. The mean falls in the latter category because of its sensitivity to outliers. \n",
    "\n",
    "A common example of robust measures is the median, which is the middle of a sorted list of values. In the example below you'll notice that the median remains unchanged after including my erroneous observation 222 Sunday cats.\n"
   ]
  },
  {
   "cell_type": "code",
   "execution_count": 51,
   "metadata": {},
   "outputs": [
    {
     "name": "stdout",
     "output_type": "stream",
     "text": [
      "[1, 2, 4, 4, 4, 5, 6]\n"
     ]
    },
    {
     "data": {
      "text/plain": [
       "4"
      ]
     },
     "execution_count": 51,
     "metadata": {},
     "output_type": "execute_result"
    }
   ],
   "source": [
    "obs = [1,4,5,4,6,4,2]\n",
    "obs.sort()\n",
    "print(obs)\n",
    "obs[3]"
   ]
  },
  {
   "cell_type": "code",
   "execution_count": 52,
   "metadata": {},
   "outputs": [
    {
     "data": {
      "text/plain": [
       "4"
      ]
     },
     "execution_count": 52,
     "metadata": {},
     "output_type": "execute_result"
    }
   ],
   "source": [
    "obs = [1,4,5,4,6,4,222]\n",
    "obs.sort()\n",
    "obs[3]"
   ]
  },
  {
   "cell_type": "markdown",
   "metadata": {},
   "source": [
    "Pandas provides you with `.median()` method."
   ]
  },
  {
   "cell_type": "code",
   "execution_count": 54,
   "metadata": {},
   "outputs": [
    {
     "data": {
      "text/plain": [
       "25.0"
      ]
     },
     "execution_count": 54,
     "metadata": {},
     "output_type": "execute_result"
    }
   ],
   "source": [
    "df.Age.median()"
   ]
  },
  {
   "cell_type": "markdown",
   "metadata": {},
   "source": [
    "The median age of Londoners is 25 years."
   ]
  },
  {
   "cell_type": "markdown",
   "metadata": {},
   "source": [
    "The median is often called a robust measure of location because it ignores extreme values. But the median also has a weak spot: it attempts to measure location with just one number, i.e. the middle of a sorted variable. The mean, on the other hand, is based on all values in a variable. In this context, the trimmed mean appears as a good compromise: it ignores extremes but still includes most of the information we have.\n",
    "\n",
    "If you stick with the median, a good option is to also look at quantiles."
   ]
  },
  {
   "cell_type": "code",
   "execution_count": 55,
   "metadata": {},
   "outputs": [
    {
     "data": {
      "text/plain": [
       "0.25    13.0\n",
       "0.50    25.0\n",
       "0.75    40.0\n",
       "Name: Age, dtype: float64"
      ]
     },
     "execution_count": 55,
     "metadata": {},
     "output_type": "execute_result"
    }
   ],
   "source": [
    "df.Age.quantile([.25,.5,.75])"
   ]
  },
  {
   "cell_type": "markdown",
   "metadata": {},
   "source": [
    "The `.quantile()`method in the above example returns the  median—the middle value at 50%—and other relevant values at 25% and 75%. Together, they give you a good impression of where your data is located."
   ]
  },
  {
   "cell_type": "markdown",
   "metadata": {},
   "source": [
    "## Estimating Dispersion\n",
    "\n",
    "The most 'typical' value in a series can only tell us so much. Taken by themselves, they tend to serve as unreliable as summaries. Measures of location are usually complemented by estimates of the spread around the expected values.\n",
    "\n",
    "For example: if we compute the mean, we also want to know the extent to which values deviate from the mean: can we expect other values to appear close to the mean or not? \n",
    "\n",
    "The measures of spread calculate the deviation between our estimate of location (mean or median) and all other observed values. \n",
    "\n",
    "One of the most common measures of spread is the standard deviation.\n",
    "\n",
    "Let's calculate the standard deviation manually to understand its meaning. We return to our example—cats observed by day—and start with computing the mean again."
   ]
  },
  {
   "cell_type": "code",
   "execution_count": 57,
   "metadata": {},
   "outputs": [
    {
     "data": {
      "text/plain": [
       "3.7142857142857144"
      ]
     },
     "execution_count": 57,
     "metadata": {},
     "output_type": "execute_result"
    }
   ],
   "source": [
    "cats_observed = [1,4,5,4,6,4,2]\n",
    "mean = np.mean(cats_observed)\n",
    "mean"
   ]
  },
  {
   "cell_type": "markdown",
   "metadata": {},
   "source": [
    "Then we calculate the distance of each value to the mean and take the power of two, which ensures that all values are positive. We are interested here in distance, not direction."
   ]
  },
  {
   "cell_type": "code",
   "execution_count": 58,
   "metadata": {},
   "outputs": [
    {
     "data": {
      "text/plain": [
       "4"
      ]
     },
     "execution_count": 58,
     "metadata": {},
     "output_type": "execute_result"
    }
   ],
   "source": [
    "np.power(2,2) # 2 by the power 2"
   ]
  },
  {
   "cell_type": "code",
   "execution_count": 60,
   "metadata": {},
   "outputs": [
    {
     "data": {
      "text/plain": [
       "16"
      ]
     },
     "execution_count": 60,
     "metadata": {},
     "output_type": "execute_result"
    }
   ],
   "source": [
    "np.power(4,2) # 4 by the power 2"
   ]
  },
  {
   "cell_type": "code",
   "execution_count": 62,
   "metadata": {},
   "outputs": [
    {
     "name": "stdout",
     "output_type": "stream",
     "text": [
      "[7.367346938775511, 0.08163265306122441, 1.6530612244897955, 0.08163265306122441, 5.224489795918367, 0.08163265306122441, 2.9387755102040822]\n"
     ]
    }
   ],
   "source": [
    "distances = [] # create an empty list\n",
    "for v in cats_observed: # iterate over cats\n",
    "    distances.append(np.power(v - mean,2)) # get distance between the number of cats observed and the mean\n",
    "print(distances)"
   ]
  },
  {
   "cell_type": "markdown",
   "metadata": {},
   "source": [
    "Then we sum all the distance and divide by the number of observations minus one. The reason for  the 'minus one' isn't important here (it refers to the degrees of freedom. However, explaining this would amount to a diversion that probably obscures more than it explains. Anyway, we work with many observations, so it doesn't matter if you divide by `n` of `n - 1` because `n` will be large. "
   ]
  },
  {
   "cell_type": "code",
   "execution_count": 67,
   "metadata": {},
   "outputs": [],
   "source": [
    "sum_of_distances = np.sum(distances)"
   ]
  },
  {
   "cell_type": "code",
   "execution_count": 68,
   "metadata": {},
   "outputs": [
    {
     "data": {
      "text/plain": [
       "2.9047619047619047"
      ]
     },
     "execution_count": 68,
     "metadata": {},
     "output_type": "execute_result"
    }
   ],
   "source": [
    "variance = sum_of_distances / (len(distances) -1)\n",
    "variance"
   ]
  },
  {
   "cell_type": "markdown",
   "metadata": {},
   "source": [
    "Then the standard deviation is the square root of this value."
   ]
  },
  {
   "cell_type": "code",
   "execution_count": 69,
   "metadata": {},
   "outputs": [
    {
     "data": {
      "text/plain": [
       "1.7043362064926932"
      ]
     },
     "execution_count": 69,
     "metadata": {},
     "output_type": "execute_result"
    }
   ],
   "source": [
    "np.sqrt(variance)"
   ]
  },
  {
   "cell_type": "markdown",
   "metadata": {},
   "source": [
    "Luckily, there exists, of course, and method in Pandas for compute the standard deviation (or variance if you like). We first convert the list to instance of type `pd.Series` and then apply the `.std()` method."
   ]
  },
  {
   "cell_type": "code",
   "execution_count": 70,
   "metadata": {},
   "outputs": [
    {
     "name": "stdout",
     "output_type": "stream",
     "text": [
      "variance 2.9047619047619047\n",
      "standard deviation 1.7043362064926932\n"
     ]
    }
   ],
   "source": [
    "co = pd.Series(cats_observed)\n",
    "print('variance',co.var())\n",
    "print('standard deviation',co.std())"
   ]
  },
  {
   "cell_type": "markdown",
   "metadata": {},
   "source": [
    "Of course we can now also compute the standard deviation of age in London population."
   ]
  },
  {
   "cell_type": "code",
   "execution_count": 71,
   "metadata": {},
   "outputs": [
    {
     "data": {
      "text/plain": [
       "18.533045906567533"
      ]
     },
     "execution_count": 71,
     "metadata": {},
     "output_type": "execute_result"
    }
   ],
   "source": [
    "df.Age.std()"
   ]
  },
  {
   "cell_type": "markdown",
   "metadata": {},
   "source": [
    "The value of computing these statistics becomes apparent when we start comparing groups and periods with each other. For example, if we compare two means, the standard deviation helps us to assess whether the difference between means points to substantial divergence. We will come back to this later. "
   ]
  },
  {
   "cell_type": "markdown",
   "metadata": {},
   "source": [
    "Another common metric is the median absolute deviation from the median or simply MAD. This is similar to the standard deviation replaces the mean with the median."
   ]
  },
  {
   "cell_type": "code",
   "execution_count": 78,
   "metadata": {},
   "outputs": [
    {
     "name": "stdout",
     "output_type": "stream",
     "text": [
      "[1, 2, 4, 4, 4, 5, 6]\n",
      "4\n"
     ]
    }
   ],
   "source": [
    "cats_observed.sort()\n",
    "print(cats_observed)\n",
    "median = cats_observed[int(len(cats_observed)/2)]\n",
    "print(median)"
   ]
  },
  {
   "cell_type": "code",
   "execution_count": 79,
   "metadata": {},
   "outputs": [
    {
     "data": {
      "text/plain": [
       "[3, 2, 0, 0, 0, 1, 2]"
      ]
     },
     "execution_count": 79,
     "metadata": {},
     "output_type": "execute_result"
    }
   ],
   "source": [
    "distances = []\n",
    "for v in cats_observed:\n",
    "    distances.append(np.abs(v - median))\n",
    "distances"
   ]
  },
  {
   "cell_type": "code",
   "execution_count": 80,
   "metadata": {},
   "outputs": [
    {
     "data": {
      "text/plain": [
       "[0, 0, 0, 1, 2, 2, 3]"
      ]
     },
     "execution_count": 80,
     "metadata": {},
     "output_type": "execute_result"
    }
   ],
   "source": [
    "distances.sort()\n",
    "distances"
   ]
  },
  {
   "cell_type": "code",
   "execution_count": 81,
   "metadata": {},
   "outputs": [
    {
     "data": {
      "text/plain": [
       "1"
      ]
     },
     "execution_count": 81,
     "metadata": {},
     "output_type": "execute_result"
    }
   ],
   "source": [
    "distances[3]"
   ]
  },
  {
   "cell_type": "code",
   "execution_count": 82,
   "metadata": {},
   "outputs": [
    {
     "data": {
      "text/plain": [
       "1.0"
      ]
     },
     "execution_count": 82,
     "metadata": {},
     "output_type": "execute_result"
    }
   ],
   "source": [
    "from scipy.stats import median_abs_deviation\n",
    "median_abs_deviation(cats_observed)"
   ]
  },
  {
   "cell_type": "code",
   "execution_count": 83,
   "metadata": {},
   "outputs": [
    {
     "data": {
      "text/plain": [
       "13.0"
      ]
     },
     "execution_count": 83,
     "metadata": {},
     "output_type": "execute_result"
    }
   ],
   "source": [
    "median_abs_deviation(df.Age)"
   ]
  },
  {
   "cell_type": "markdown",
   "metadata": {},
   "source": [
    "# Grouping and Comparing Data"
   ]
  },
  {
   "cell_type": "markdown",
   "metadata": {},
   "source": [
    "The measures we discussed in the preceding section are useful for comparing subgroups in our data. As Luke Blaxill explained in the first series of lectures, digital history often involves making meaningful and intelligent comparisons for understanding historical patterns. \n",
    "\n",
    "This means that we need to be question-driven. Of course, often the data will point in the opposite directions of our expectations, but that's OK. It is through conversation with empirical materials—asking questions, analysing the answers—that we gradually build new insights. \n",
    "\n",
    "Below, we will scrutinize the distribution of age in late Victorian London. We start with describing the data with summary statistics and later (the next notebook) proceed with other techniques that attempt to explain the variability in our data. "
   ]
  },
  {
   "cell_type": "markdown",
   "metadata": {},
   "source": [
    "## Sex and Age Differences in Late-Victorian London\n",
    "### Studying the relation between categorical and numerical variables\n",
    "\n",
    "Let's address a very specific question as our leading example in the following paragraphs: are women, on average, older than men? \n",
    "\n",
    "If we plot the distribution of age  (for all Londoners in our sample) with a histogram, you observe a slight camel-like shape: it exhibits two bumps, one in the category of very young, between 0 and 10, and another one for those in their twenties. Which is a kind of a strange pattern, no?\n"
   ]
  },
  {
   "cell_type": "code",
   "execution_count": 84,
   "metadata": {},
   "outputs": [
    {
     "data": {
      "text/plain": [
       "<matplotlib.axes._subplots.AxesSubplot at 0x137695fd0>"
      ]
     },
     "execution_count": 84,
     "metadata": {},
     "output_type": "execute_result"
    },
    {
     "data": {
      "image/png": "[encoded data removed]",
      "text/plain": [
       "<Figure size 432x288 with 1 Axes>"
      ]
     },
     "metadata": {},
     "output_type": "display_data"
    }
   ],
   "source": [
    "df.Age.plot(kind='hist',bins=range(100))"
   ]
  },
  {
   "cell_type": "markdown",
   "metadata": {},
   "source": [
    "\n",
    "Does this distribution apply both to men and women? What happens if we split up the histogram by `Sex`?\n",
    "\n",
    "Pandas, fortunately, provides useful methods to compare subgroups in a dataframe: `.groupby()`. Below we use `.groupby()` to compare the average `Age` by `Sex`."
   ]
  },
  {
   "cell_type": "code",
   "execution_count": 85,
   "metadata": {},
   "outputs": [
    {
     "data": {
      "text/plain": [
       "Sex\n",
       "F    28.364215\n",
       "M    27.380358\n",
       "U    24.468924\n",
       "Name: Age, dtype: float64"
      ]
     },
     "execution_count": 85,
     "metadata": {},
     "output_type": "execute_result"
    }
   ],
   "source": [
    "df.groupby('Sex')['Age'].mean()"
   ]
  },
  {
   "cell_type": "markdown",
   "metadata": {},
   "source": [
    "This syntax may come across as confusing at first sight. Let's have a closer look at what's happening here: `.groupby()` returns the mean age for each category in `Sex`. \n",
    "\n",
    "\n",
    "We will do the operations performed by `.groupby()` manually first, so you understand what is actually happening here. \n",
    "\n",
    "First, we split the dataframe by label or key. These are the unique values in the `Sex` variable."
   ]
  },
  {
   "cell_type": "code",
   "execution_count": 86,
   "metadata": {},
   "outputs": [
    {
     "data": {
      "text/plain": [
       "array(['M', 'U', 'F'], dtype=object)"
      ]
     },
     "execution_count": 86,
     "metadata": {},
     "output_type": "execute_result"
    }
   ],
   "source": [
    "df.Sex.unique()"
   ]
  },
  {
   "cell_type": "code",
   "execution_count": 87,
   "metadata": {},
   "outputs": [],
   "source": [
    "df_f = df[df.Sex=='F']\n",
    "df_m = df[df.Sex=='M']\n",
    "df_u = df[df.Sex=='U']"
   ]
  },
  {
   "cell_type": "markdown",
   "metadata": {},
   "source": [
    "This creates three seperate dataframes one for each label 'F','M' and 'U'."
   ]
  },
  {
   "cell_type": "code",
   "execution_count": 88,
   "metadata": {},
   "outputs": [
    {
     "data": {
      "text/plain": [
       "((576299, 4), (488456, 4))"
      ]
     },
     "execution_count": 88,
     "metadata": {},
     "output_type": "execute_result"
    }
   ],
   "source": [
    "df_f.shape,df_m.shape"
   ]
  },
  {
   "cell_type": "markdown",
   "metadata": {},
   "source": [
    "We compute the mean \"Age\" for each dataframe separately."
   ]
  },
  {
   "cell_type": "code",
   "execution_count": 89,
   "metadata": {},
   "outputs": [
    {
     "name": "stdout",
     "output_type": "stream",
     "text": [
      "mean age \"F\" 28.36421545066016\n",
      "mean age \"M\" 27.380357698543982\n",
      "mean age \"U\" 24.46892446025394\n"
     ]
    }
   ],
   "source": [
    "mean_f = df_f['Age'].mean()\n",
    "mean_m = df_m['Age'].mean()\n",
    "mean_u = df_u['Age'].mean()\n",
    "\n",
    "print('mean age \"F\"',mean_f)\n",
    "print('mean age \"M\"',mean_m)\n",
    "print('mean age \"U\"',mean_u)\n"
   ]
  },
  {
   "cell_type": "markdown",
   "metadata": {},
   "source": [
    "Lastly, we combine these values."
   ]
  },
  {
   "cell_type": "code",
   "execution_count": 90,
   "metadata": {},
   "outputs": [
    {
     "data": {
      "text/plain": [
       "F    28.364215\n",
       "M    27.380358\n",
       "U    24.468924\n",
       "Name: Age, dtype: float64"
      ]
     },
     "execution_count": 90,
     "metadata": {},
     "output_type": "execute_result"
    }
   ],
   "source": [
    "mean_age_by_gender = pd.Series([mean_f,mean_m,mean_u],index=['F','M','U'],name='Age')\n",
    "mean_age_by_gender"
   ]
  },
  {
   "cell_type": "markdown",
   "metadata": {},
   "source": [
    "The output of these steps is the same as applying `groupby()`, it only required more lines of code. "
   ]
  },
  {
   "cell_type": "code",
   "execution_count": 91,
   "metadata": {},
   "outputs": [
    {
     "data": {
      "text/plain": [
       "Sex\n",
       "F    28.364215\n",
       "M    27.380358\n",
       "U    24.468924\n",
       "Name: Age, dtype: float64"
      ]
     },
     "execution_count": 91,
     "metadata": {},
     "output_type": "execute_result"
    }
   ],
   "source": [
    "df.groupby('Sex')['Age'].mean()"
   ]
  },
  {
   "cell_type": "markdown",
   "metadata": {},
   "source": [
    "![groubpy](https://jakevdp.github.io/PythonDataScienceHandbook/figures/03.08-split-apply-combine.png)\n",
    "\n",
    "Jake VanderPlas make a very apt visualisation of the process. Please consult his excellent book [here](https://jakevdp.github.io/PythonDataScienceHandbook/)"
   ]
  },
  {
   "cell_type": "markdown",
   "metadata": {},
   "source": [
    "Of course, with `.groupby()` we can easily apply other measures, for example, compute the median instead of the mean."
   ]
  },
  {
   "cell_type": "code",
   "execution_count": 92,
   "metadata": {},
   "outputs": [
    {
     "data": {
      "text/plain": [
       "Sex\n",
       "F    26.0\n",
       "M    25.0\n",
       "U    20.5\n",
       "Name: Age, dtype: float64"
      ]
     },
     "execution_count": 92,
     "metadata": {},
     "output_type": "execute_result"
    }
   ],
   "source": [
    "df.groupby('Sex')['Age'].median()"
   ]
  },
  {
   "cell_type": "markdown",
   "metadata": {},
   "source": [
    "While the median is generally lower, the differences we observe remain rather stable: women in London seem generally one year older than men."
   ]
  },
  {
   "cell_type": "markdown",
   "metadata": {},
   "source": [
    "We can even compute multiple measures at once: the mean **and** the standard deviation. Below we apply `.agg()` to the `Age` column. `.agg()` here takes a list of functions (`np.mean`, `np.std`] which are in turn applied to each subsection of the dataframe. The results in a 3x2 table, with the rows corresponding to the labels in `Sex` and the columns to the different measures we selected (`np.mean` and `np.std`)"
   ]
  },
  {
   "cell_type": "code",
   "execution_count": 94,
   "metadata": {},
   "outputs": [
    {
     "data": {
      "text/html": [
       "<div>\n",
       "<style scoped>\n",
       "    .dataframe tbody tr th:only-of-type {\n",
       "        vertical-align: middle;\n",
       "    }\n",
       "\n",
       "    .dataframe tbody tr th {\n",
       "        vertical-align: top;\n",
       "    }\n",
       "\n",
       "    .dataframe thead th {\n",
       "        text-align: right;\n",
       "    }\n",
       "</style>\n",
       "<table border=\"1\" class=\"dataframe\">\n",
       "  <thead>\n",
       "    <tr style=\"text-align: right;\">\n",
       "      <th></th>\n",
       "      <th>mean</th>\n",
       "      <th>std</th>\n",
       "    </tr>\n",
       "    <tr>\n",
       "      <th>Sex</th>\n",
       "      <th></th>\n",
       "      <th></th>\n",
       "    </tr>\n",
       "  </thead>\n",
       "  <tbody>\n",
       "    <tr>\n",
       "      <th>F</th>\n",
       "      <td>28.364215</td>\n",
       "      <td>18.726280</td>\n",
       "    </tr>\n",
       "    <tr>\n",
       "      <th>M</th>\n",
       "      <td>27.380358</td>\n",
       "      <td>18.288415</td>\n",
       "    </tr>\n",
       "    <tr>\n",
       "      <th>U</th>\n",
       "      <td>24.468924</td>\n",
       "      <td>18.219042</td>\n",
       "    </tr>\n",
       "  </tbody>\n",
       "</table>\n",
       "</div>"
      ],
      "text/plain": [
       "          mean        std\n",
       "Sex                      \n",
       "F    28.364215  18.726280\n",
       "M    27.380358  18.288415\n",
       "U    24.468924  18.219042"
      ]
     },
     "execution_count": 94,
     "metadata": {},
     "output_type": "execute_result"
    }
   ],
   "source": [
    "df.groupby('Sex')['Age'].agg([np.mean, np.std])"
   ]
  },
  {
   "cell_type": "markdown",
   "metadata": {},
   "source": [
    "`.groupby()` can also be used for plotting! Instead of returning a number it will create a subplot (in this case histogram for each sex) and combine these into one figure. \n",
    "\n",
    "To make the figure more readable we added a few arguments\n",
    "- `legend=True`: instructs Pandas to plot the label corresponding with each colour \n",
    "- `alpha=.5`: regulates transparency of the bars, which is always a good idea when combining histograms"
   ]
  },
  {
   "cell_type": "code",
   "execution_count": 95,
   "metadata": {},
   "outputs": [
    {
     "data": {
      "text/plain": [
       "Sex\n",
       "F    AxesSubplot(0.125,0.125;0.775x0.755)\n",
       "M    AxesSubplot(0.125,0.125;0.775x0.755)\n",
       "Name: Age, dtype: object"
      ]
     },
     "execution_count": 95,
     "metadata": {},
     "output_type": "execute_result"
    },
    {
     "data": {
      "image/png": "[encoded data removed]",
      "text/plain": [
       "<Figure size 432x288 with 1 Axes>"
      ]
     },
     "metadata": {},
     "output_type": "display_data"
    }
   ],
   "source": [
    "df[df.Sex.isin(['F','M'])].groupby('Sex')['Age'].plot(kind='hist',\n",
    "                                                      legend=True,\n",
    "                                                      bins=range(100),\n",
    "                                                     alpha=.5)"
   ]
  },
  {
   "cell_type": "markdown",
   "metadata": {},
   "source": [
    "Plotting the age distribution by gender helps us to understand the general camel-like pattern a bit better. In both categories, the histograms shows a concentration in the age category 20-30, but the trend is more pronounced among women than men.\n",
    "\n",
    "But why at the orange bars systemically lower than the blue ones? Remember that the histogram plots the frequency of each bin. Because there are fewer men, these bars tend to be lower.\n",
    "\n",
    "To avoid this, you can also make a density plot."
   ]
  },
  {
   "cell_type": "code",
   "execution_count": 97,
   "metadata": {},
   "outputs": [
    {
     "data": {
      "text/plain": [
       "Sex\n",
       "F    AxesSubplot(0.125,0.125;0.775x0.755)\n",
       "M    AxesSubplot(0.125,0.125;0.775x0.755)\n",
       "Name: Age, dtype: object"
      ]
     },
     "execution_count": 97,
     "metadata": {},
     "output_type": "execute_result"
    },
    {
     "data": {
      "image/png": "[encoded data removed]",
      "text/plain": [
       "<Figure size 432x288 with 1 Axes>"
      ]
     },
     "metadata": {},
     "output_type": "display_data"
    }
   ],
   "source": [
    "df[df.Sex.isin(['F','M'])].groupby('Sex')['Age'].plot(kind='density',\n",
    "                                                      legend=True,\n",
    "                                                      alpha=.5)"
   ]
  },
  {
   "cell_type": "markdown",
   "metadata": {},
   "source": [
    "Violin plots provide another option for visualizing numerical and categorical data."
   ]
  },
  {
   "cell_type": "code",
   "execution_count": 108,
   "metadata": {},
   "outputs": [
    {
     "data": {
      "text/plain": [
       "<matplotlib.axes._subplots.AxesSubplot at 0x139d67bd0>"
      ]
     },
     "execution_count": 108,
     "metadata": {},
     "output_type": "execute_result"
    },
    {
     "data": {
      "image/png": "[encoded data removed]",
      "text/plain": [
       "<Figure size 432x288 with 1 Axes>"
      ]
     },
     "metadata": {},
     "output_type": "display_data"
    }
   ],
   "source": [
    "sns.violinplot(x='Sex',y='Age',data= df[df.Sex.isin(['M','F'])])"
   ]
  },
  {
   "cell_type": "markdown",
   "metadata": {},
   "source": [
    "... or boxplot."
   ]
  },
  {
   "cell_type": "code",
   "execution_count": 109,
   "metadata": {},
   "outputs": [
    {
     "data": {
      "text/plain": [
       "<matplotlib.axes._subplots.AxesSubplot at 0x139dcb650>"
      ]
     },
     "execution_count": 109,
     "metadata": {},
     "output_type": "execute_result"
    },
    {
     "data": {
      "image/png": "[encoded data removed]",
      "text/plain": [
       "<Figure size 432x288 with 1 Axes>"
      ]
     },
     "metadata": {},
     "output_type": "display_data"
    }
   ],
   "source": [
    "sns.boxplot(x='Sex',y='Age', data = df[df.Sex.isin(['M','F'])])"
   ]
  },
  {
   "cell_type": "markdown",
   "metadata": {},
   "source": [
    "Visually, it looks like the age for men and women in London didn't differ substantially. Later on, we have a closer look at whether the difference is statistically 'significant'. \n"
   ]
  },
  {
   "cell_type": "markdown",
   "metadata": {},
   "source": [
    "# Fin."
   ]
  }
 ],
 "metadata": {
  "kernelspec": {
   "display_name": "Python 3 (ipykernel)",
   "language": "python",
   "name": "python3"
  },
  "language_info": {
   "codemirror_mode": {
    "name": "ipython",
    "version": 3
   },
   "file_extension": ".py",
   "mimetype": "text/x-python",
   "name": "python",
   "nbconvert_exporter": "python",
   "pygments_lexer": "ipython3",
   "version": "3.7.4"
  }
 },
 "nbformat": 4,
 "nbformat_minor": 2
}
