{
 "cells": [
  {
   "cell_type": "code",
   "execution_count": 22,
   "metadata": {},
   "outputs": [],
   "source": [
    "%matplotlib inline\n",
    "import pandas as pd\n",
    "#import seaborn as sns\n",
    "#sns.set()"
   ]
  },
  {
   "cell_type": "code",
   "execution_count": 3,
   "metadata": {},
   "outputs": [],
   "source": [
    "df = pd.read_csv('/Users/kbeelen/Documents/OtherProjects/GenderPaper-3/output/stm_T2.csv',index_col=0)"
   ]
  },
  {
   "cell_type": "code",
   "execution_count": 4,
   "metadata": {},
   "outputs": [
    {
     "data": {
      "text/html": [
       "<div>\n",
       "<style scoped>\n",
       "    .dataframe tbody tr th:only-of-type {\n",
       "        vertical-align: middle;\n",
       "    }\n",
       "\n",
       "    .dataframe tbody tr th {\n",
       "        vertical-align: top;\n",
       "    }\n",
       "\n",
       "    .dataframe thead th {\n",
       "        text-align: right;\n",
       "    }\n",
       "</style>\n",
       "<table border=\"1\" class=\"dataframe\">\n",
       "  <thead>\n",
       "    <tr style=\"text-align: right;\">\n",
       "      <th></th>\n",
       "      <th>year</th>\n",
       "      <th>member</th>\n",
       "      <th>text</th>\n",
       "      <th>party</th>\n",
       "      <th>role</th>\n",
       "      <th>function</th>\n",
       "      <th>gender</th>\n",
       "    </tr>\n",
       "  </thead>\n",
       "  <tbody>\n",
       "    <tr>\n",
       "      <th>0</th>\n",
       "      <td>1945</td>\n",
       "      <td>uk.m.21635</td>\n",
       "      <td>by private notice asked the prime minister w...</td>\n",
       "      <td>uk.p.Con</td>\n",
       "      <td>mp</td>\n",
       "      <td>NaN</td>\n",
       "      <td>0</td>\n",
       "    </tr>\n",
       "    <tr>\n",
       "      <th>1</th>\n",
       "      <td>1946</td>\n",
       "      <td>uk.m.21635</td>\n",
       "      <td>i will now address it to the leader of the h...</td>\n",
       "      <td>uk.p.Con</td>\n",
       "      <td>mp</td>\n",
       "      <td>NaN</td>\n",
       "      <td>0</td>\n",
       "    </tr>\n",
       "    <tr>\n",
       "      <th>2</th>\n",
       "      <td>1947</td>\n",
       "      <td>uk.m.21635</td>\n",
       "      <td>i apologise to the house i was not aware tha...</td>\n",
       "      <td>uk.p.Con</td>\n",
       "      <td>mp</td>\n",
       "      <td>NaN</td>\n",
       "      <td>0</td>\n",
       "    </tr>\n",
       "    <tr>\n",
       "      <th>3</th>\n",
       "      <td>1950</td>\n",
       "      <td>uk.m.21635</td>\n",
       "      <td>what was the object of the right hon gentlem...</td>\n",
       "      <td>uk.p.Con</td>\n",
       "      <td>mp</td>\n",
       "      <td>NaN</td>\n",
       "      <td>0</td>\n",
       "    </tr>\n",
       "    <tr>\n",
       "      <th>4</th>\n",
       "      <td>1951</td>\n",
       "      <td>uk.m.21635</td>\n",
       "      <td>is it not a fact and i do not think the prim...</td>\n",
       "      <td>uk.p.Con</td>\n",
       "      <td>mp</td>\n",
       "      <td>NaN</td>\n",
       "      <td>0</td>\n",
       "    </tr>\n",
       "  </tbody>\n",
       "</table>\n",
       "</div>"
      ],
      "text/plain": [
       "   year      member                                               text  \\\n",
       "0  1945  uk.m.21635    by private notice asked the prime minister w...   \n",
       "1  1946  uk.m.21635    i will now address it to the leader of the h...   \n",
       "2  1947  uk.m.21635    i apologise to the house i was not aware tha...   \n",
       "3  1950  uk.m.21635    what was the object of the right hon gentlem...   \n",
       "4  1951  uk.m.21635    is it not a fact and i do not think the prim...   \n",
       "\n",
       "      party role function  gender  \n",
       "0  uk.p.Con   mp      NaN       0  \n",
       "1  uk.p.Con   mp      NaN       0  \n",
       "2  uk.p.Con   mp      NaN       0  \n",
       "3  uk.p.Con   mp      NaN       0  \n",
       "4  uk.p.Con   mp      NaN       0  "
      ]
     },
     "execution_count": 4,
     "metadata": {},
     "output_type": "execute_result"
    }
   ],
   "source": [
    "df.head()"
   ]
  },
  {
   "cell_type": "code",
   "execution_count": 5,
   "metadata": {},
   "outputs": [],
   "source": [
    "#df = df_all[df_all.word_count > 100]"
   ]
  },
  {
   "cell_type": "code",
   "execution_count": 6,
   "metadata": {},
   "outputs": [],
   "source": [
    "import sklearn.feature_extraction.text as text"
   ]
  },
  {
   "cell_type": "code",
   "execution_count": 7,
   "metadata": {},
   "outputs": [],
   "source": [
    "parl_stop_words = text.ENGLISH_STOP_WORDS.union([\"hon\",'gentleman','right','committee',\n",
    "                                                 'member','friend','way','mr','minister','house','act'])"
   ]
  },
  {
   "cell_type": "code",
   "execution_count": 8,
   "metadata": {},
   "outputs": [],
   "source": [
    "vec = text.CountVectorizer(\n",
    "                lowercase=True, min_df=25, stop_words=parl_stop_words,\n",
    ")\n",
    "dtm = vec.fit_transform(df['text'])\n"
   ]
  },
  {
   "cell_type": "code",
   "execution_count": 9,
   "metadata": {},
   "outputs": [
    {
     "name": "stdout",
     "output_type": "stream",
     "text": [
      "Shape of document-term matrix: (11272, 10318). Number of tokens 5181936\n"
     ]
    }
   ],
   "source": [
    "print(f'Shape of document-term matrix: {dtm.shape}. '\n",
    "f'Number of tokens {dtm.sum()}')"
   ]
  },
  {
   "cell_type": "code",
   "execution_count": null,
   "metadata": {},
   "outputs": [],
   "source": []
  },
  {
   "cell_type": "code",
   "execution_count": 10,
   "metadata": {},
   "outputs": [],
   "source": [
    "import sklearn.decomposition as decomposition\n",
    "model = decomposition.LatentDirichletAllocation(\n",
    "    n_components=10, learning_method='online', random_state=1)\n",
    "document_topic_distributions = model.fit_transform(dtm)"
   ]
  },
  {
   "cell_type": "code",
   "execution_count": 11,
   "metadata": {},
   "outputs": [],
   "source": [
    "vocabulary = vec.get_feature_names()"
   ]
  },
  {
   "cell_type": "code",
   "execution_count": 12,
   "metadata": {},
   "outputs": [],
   "source": [
    "topic_names = [f'Topic {k}' for k in range(10)]\n",
    "topic_word_distributions = pd.DataFrame(\n",
    "    model.components_, columns=vocabulary, index=topic_names)\n",
    "\n",
    "document_topic_distributions = pd.DataFrame(\n",
    "    document_topic_distributions, columns=topic_names, index=df.index)"
   ]
  },
  {
   "cell_type": "code",
   "execution_count": 13,
   "metadata": {},
   "outputs": [
    {
     "data": {
      "text/html": [
       "<div>\n",
       "<style scoped>\n",
       "    .dataframe tbody tr th:only-of-type {\n",
       "        vertical-align: middle;\n",
       "    }\n",
       "\n",
       "    .dataframe tbody tr th {\n",
       "        vertical-align: top;\n",
       "    }\n",
       "\n",
       "    .dataframe thead th {\n",
       "        text-align: right;\n",
       "    }\n",
       "</style>\n",
       "<table border=\"1\" class=\"dataframe\">\n",
       "  <thead>\n",
       "    <tr style=\"text-align: right;\">\n",
       "      <th></th>\n",
       "      <th>Topic 0</th>\n",
       "      <th>Topic 1</th>\n",
       "      <th>Topic 2</th>\n",
       "      <th>Topic 3</th>\n",
       "      <th>Topic 4</th>\n",
       "      <th>Topic 5</th>\n",
       "      <th>Topic 6</th>\n",
       "      <th>Topic 7</th>\n",
       "      <th>Topic 8</th>\n",
       "      <th>Topic 9</th>\n",
       "    </tr>\n",
       "  </thead>\n",
       "  <tbody>\n",
       "    <tr>\n",
       "      <th>0</th>\n",
       "      <td>0.002703</td>\n",
       "      <td>0.002703</td>\n",
       "      <td>0.344074</td>\n",
       "      <td>0.066459</td>\n",
       "      <td>0.002703</td>\n",
       "      <td>0.002703</td>\n",
       "      <td>0.002703</td>\n",
       "      <td>0.570544</td>\n",
       "      <td>0.002703</td>\n",
       "      <td>0.002704</td>\n",
       "    </tr>\n",
       "    <tr>\n",
       "      <th>1</th>\n",
       "      <td>0.004546</td>\n",
       "      <td>0.004547</td>\n",
       "      <td>0.004547</td>\n",
       "      <td>0.004547</td>\n",
       "      <td>0.004546</td>\n",
       "      <td>0.004547</td>\n",
       "      <td>0.004546</td>\n",
       "      <td>0.347764</td>\n",
       "      <td>0.435779</td>\n",
       "      <td>0.184630</td>\n",
       "    </tr>\n",
       "    <tr>\n",
       "      <th>2</th>\n",
       "      <td>0.002565</td>\n",
       "      <td>0.002565</td>\n",
       "      <td>0.002565</td>\n",
       "      <td>0.002565</td>\n",
       "      <td>0.002565</td>\n",
       "      <td>0.002565</td>\n",
       "      <td>0.002565</td>\n",
       "      <td>0.002565</td>\n",
       "      <td>0.976918</td>\n",
       "      <td>0.002565</td>\n",
       "    </tr>\n",
       "    <tr>\n",
       "      <th>3</th>\n",
       "      <td>0.054240</td>\n",
       "      <td>0.182180</td>\n",
       "      <td>0.000901</td>\n",
       "      <td>0.000901</td>\n",
       "      <td>0.000901</td>\n",
       "      <td>0.291608</td>\n",
       "      <td>0.000901</td>\n",
       "      <td>0.000901</td>\n",
       "      <td>0.466566</td>\n",
       "      <td>0.000901</td>\n",
       "    </tr>\n",
       "    <tr>\n",
       "      <th>4</th>\n",
       "      <td>0.004001</td>\n",
       "      <td>0.004001</td>\n",
       "      <td>0.004001</td>\n",
       "      <td>0.004001</td>\n",
       "      <td>0.004001</td>\n",
       "      <td>0.188345</td>\n",
       "      <td>0.004001</td>\n",
       "      <td>0.223126</td>\n",
       "      <td>0.437893</td>\n",
       "      <td>0.126631</td>\n",
       "    </tr>\n",
       "  </tbody>\n",
       "</table>\n",
       "</div>"
      ],
      "text/plain": [
       "    Topic 0   Topic 1   Topic 2   Topic 3   Topic 4   Topic 5   Topic 6  \\\n",
       "0  0.002703  0.002703  0.344074  0.066459  0.002703  0.002703  0.002703   \n",
       "1  0.004546  0.004547  0.004547  0.004547  0.004546  0.004547  0.004546   \n",
       "2  0.002565  0.002565  0.002565  0.002565  0.002565  0.002565  0.002565   \n",
       "3  0.054240  0.182180  0.000901  0.000901  0.000901  0.291608  0.000901   \n",
       "4  0.004001  0.004001  0.004001  0.004001  0.004001  0.188345  0.004001   \n",
       "\n",
       "    Topic 7   Topic 8   Topic 9  \n",
       "0  0.570544  0.002703  0.002704  \n",
       "1  0.347764  0.435779  0.184630  \n",
       "2  0.002565  0.976918  0.002565  \n",
       "3  0.000901  0.466566  0.000901  \n",
       "4  0.223126  0.437893  0.126631  "
      ]
     },
     "execution_count": 13,
     "metadata": {},
     "output_type": "execute_result"
    }
   ],
   "source": [
    "document_topic_distributions.head()"
   ]
  },
  {
   "cell_type": "code",
   "execution_count": 14,
   "metadata": {},
   "outputs": [
    {
     "data": {
      "text/plain": [
       "Topic 0    0.002703\n",
       "Topic 1    0.002703\n",
       "Topic 2    0.344074\n",
       "Topic 3    0.066459\n",
       "Topic 4    0.002703\n",
       "Topic 5    0.002703\n",
       "Topic 6    0.002703\n",
       "Topic 7    0.570544\n",
       "Topic 8    0.002703\n",
       "Topic 9    0.002704\n",
       "Name: 0, dtype: float64"
      ]
     },
     "execution_count": 14,
     "metadata": {},
     "output_type": "execute_result"
    }
   ],
   "source": [
    "document_topic_distributions.loc[0]"
   ]
  },
  {
   "cell_type": "code",
   "execution_count": 15,
   "metadata": {},
   "outputs": [
    {
     "data": {
      "text/html": [
       "<div>\n",
       "<style scoped>\n",
       "    .dataframe tbody tr th:only-of-type {\n",
       "        vertical-align: middle;\n",
       "    }\n",
       "\n",
       "    .dataframe tbody tr th {\n",
       "        vertical-align: top;\n",
       "    }\n",
       "\n",
       "    .dataframe thead th {\n",
       "        text-align: right;\n",
       "    }\n",
       "</style>\n",
       "<table border=\"1\" class=\"dataframe\">\n",
       "  <thead>\n",
       "    <tr style=\"text-align: right;\">\n",
       "      <th></th>\n",
       "      <th>Topic 0</th>\n",
       "      <th>Topic 1</th>\n",
       "      <th>Topic 2</th>\n",
       "      <th>Topic 3</th>\n",
       "      <th>Topic 4</th>\n",
       "      <th>Topic 5</th>\n",
       "      <th>Topic 6</th>\n",
       "      <th>Topic 7</th>\n",
       "      <th>Topic 8</th>\n",
       "      <th>Topic 9</th>\n",
       "    </tr>\n",
       "  </thead>\n",
       "  <tbody>\n",
       "    <tr>\n",
       "      <th>0</th>\n",
       "      <td>0.002703</td>\n",
       "      <td>0.002703</td>\n",
       "      <td>0.344074</td>\n",
       "      <td>0.066459</td>\n",
       "      <td>0.002703</td>\n",
       "      <td>0.002703</td>\n",
       "      <td>0.002703</td>\n",
       "      <td>0.570544</td>\n",
       "      <td>0.002703</td>\n",
       "      <td>0.002704</td>\n",
       "    </tr>\n",
       "    <tr>\n",
       "      <th>1</th>\n",
       "      <td>0.004546</td>\n",
       "      <td>0.004547</td>\n",
       "      <td>0.004547</td>\n",
       "      <td>0.004547</td>\n",
       "      <td>0.004546</td>\n",
       "      <td>0.004547</td>\n",
       "      <td>0.004546</td>\n",
       "      <td>0.347764</td>\n",
       "      <td>0.435779</td>\n",
       "      <td>0.184630</td>\n",
       "    </tr>\n",
       "    <tr>\n",
       "      <th>2</th>\n",
       "      <td>0.002565</td>\n",
       "      <td>0.002565</td>\n",
       "      <td>0.002565</td>\n",
       "      <td>0.002565</td>\n",
       "      <td>0.002565</td>\n",
       "      <td>0.002565</td>\n",
       "      <td>0.002565</td>\n",
       "      <td>0.002565</td>\n",
       "      <td>0.976918</td>\n",
       "      <td>0.002565</td>\n",
       "    </tr>\n",
       "    <tr>\n",
       "      <th>3</th>\n",
       "      <td>0.054240</td>\n",
       "      <td>0.182180</td>\n",
       "      <td>0.000901</td>\n",
       "      <td>0.000901</td>\n",
       "      <td>0.000901</td>\n",
       "      <td>0.291608</td>\n",
       "      <td>0.000901</td>\n",
       "      <td>0.000901</td>\n",
       "      <td>0.466566</td>\n",
       "      <td>0.000901</td>\n",
       "    </tr>\n",
       "    <tr>\n",
       "      <th>4</th>\n",
       "      <td>0.004001</td>\n",
       "      <td>0.004001</td>\n",
       "      <td>0.004001</td>\n",
       "      <td>0.004001</td>\n",
       "      <td>0.004001</td>\n",
       "      <td>0.188345</td>\n",
       "      <td>0.004001</td>\n",
       "      <td>0.223126</td>\n",
       "      <td>0.437893</td>\n",
       "      <td>0.126631</td>\n",
       "    </tr>\n",
       "  </tbody>\n",
       "</table>\n",
       "</div>"
      ],
      "text/plain": [
       "    Topic 0   Topic 1   Topic 2   Topic 3   Topic 4   Topic 5   Topic 6  \\\n",
       "0  0.002703  0.002703  0.344074  0.066459  0.002703  0.002703  0.002703   \n",
       "1  0.004546  0.004547  0.004547  0.004547  0.004546  0.004547  0.004546   \n",
       "2  0.002565  0.002565  0.002565  0.002565  0.002565  0.002565  0.002565   \n",
       "3  0.054240  0.182180  0.000901  0.000901  0.000901  0.291608  0.000901   \n",
       "4  0.004001  0.004001  0.004001  0.004001  0.004001  0.188345  0.004001   \n",
       "\n",
       "    Topic 7   Topic 8   Topic 9  \n",
       "0  0.570544  0.002703  0.002704  \n",
       "1  0.347764  0.435779  0.184630  \n",
       "2  0.002565  0.976918  0.002565  \n",
       "3  0.000901  0.466566  0.000901  \n",
       "4  0.223126  0.437893  0.126631  "
      ]
     },
     "execution_count": 15,
     "metadata": {},
     "output_type": "execute_result"
    }
   ],
   "source": [
    "document_topic_distributions.head()"
   ]
  },
  {
   "cell_type": "code",
   "execution_count": 16,
   "metadata": {},
   "outputs": [
    {
     "data": {
      "text/plain": [
       "women             24903.739735\n",
       "disabled           7857.862799\n",
       "work               7803.266418\n",
       "government         6523.145591\n",
       "people             6064.402283\n",
       "discrimination     6012.511600\n",
       "employment         5403.391524\n",
       "pay                5212.426216\n",
       "men                4916.385294\n",
       "equal              4798.027710\n",
       "time               3376.314246\n",
       "equality           3331.442209\n",
       "cent               3281.327276\n",
       "employers          3156.009973\n",
       "age                3025.446293\n",
       "disability         2989.180904\n",
       "service            2521.601033\n",
       "make               2431.553197\n",
       "Name: Topic 4, dtype: float64"
      ]
     },
     "execution_count": 16,
     "metadata": {},
     "output_type": "execute_result"
    }
   ],
   "source": [
    "topic_word_distributions.loc['Topic 4'].sort_values(\n",
    "        ascending=False).head(18)"
   ]
  },
  {
   "cell_type": "code",
   "execution_count": 17,
   "metadata": {},
   "outputs": [],
   "source": [
    "merged = document_topic_distributions.merge(df,left_index=True, right_index=True)"
   ]
  },
  {
   "cell_type": "code",
   "execution_count": 18,
   "metadata": {},
   "outputs": [
    {
     "data": {
      "text/html": [
       "<div>\n",
       "<style scoped>\n",
       "    .dataframe tbody tr th:only-of-type {\n",
       "        vertical-align: middle;\n",
       "    }\n",
       "\n",
       "    .dataframe tbody tr th {\n",
       "        vertical-align: top;\n",
       "    }\n",
       "\n",
       "    .dataframe thead th {\n",
       "        text-align: right;\n",
       "    }\n",
       "</style>\n",
       "<table border=\"1\" class=\"dataframe\">\n",
       "  <thead>\n",
       "    <tr style=\"text-align: right;\">\n",
       "      <th></th>\n",
       "      <th>Topic 0</th>\n",
       "      <th>Topic 1</th>\n",
       "      <th>Topic 2</th>\n",
       "      <th>Topic 3</th>\n",
       "      <th>Topic 4</th>\n",
       "      <th>Topic 5</th>\n",
       "      <th>Topic 6</th>\n",
       "      <th>Topic 7</th>\n",
       "      <th>Topic 8</th>\n",
       "      <th>Topic 9</th>\n",
       "      <th>year</th>\n",
       "      <th>member</th>\n",
       "      <th>text</th>\n",
       "      <th>party</th>\n",
       "      <th>role</th>\n",
       "      <th>function</th>\n",
       "      <th>gender</th>\n",
       "    </tr>\n",
       "  </thead>\n",
       "  <tbody>\n",
       "    <tr>\n",
       "      <th>0</th>\n",
       "      <td>0.002703</td>\n",
       "      <td>0.002703</td>\n",
       "      <td>0.344074</td>\n",
       "      <td>0.066459</td>\n",
       "      <td>0.002703</td>\n",
       "      <td>0.002703</td>\n",
       "      <td>0.002703</td>\n",
       "      <td>0.570544</td>\n",
       "      <td>0.002703</td>\n",
       "      <td>0.002704</td>\n",
       "      <td>1945</td>\n",
       "      <td>uk.m.21635</td>\n",
       "      <td>by private notice asked the prime minister w...</td>\n",
       "      <td>uk.p.Con</td>\n",
       "      <td>mp</td>\n",
       "      <td>NaN</td>\n",
       "      <td>0</td>\n",
       "    </tr>\n",
       "    <tr>\n",
       "      <th>1</th>\n",
       "      <td>0.004546</td>\n",
       "      <td>0.004547</td>\n",
       "      <td>0.004547</td>\n",
       "      <td>0.004547</td>\n",
       "      <td>0.004546</td>\n",
       "      <td>0.004547</td>\n",
       "      <td>0.004546</td>\n",
       "      <td>0.347764</td>\n",
       "      <td>0.435779</td>\n",
       "      <td>0.184630</td>\n",
       "      <td>1946</td>\n",
       "      <td>uk.m.21635</td>\n",
       "      <td>i will now address it to the leader of the h...</td>\n",
       "      <td>uk.p.Con</td>\n",
       "      <td>mp</td>\n",
       "      <td>NaN</td>\n",
       "      <td>0</td>\n",
       "    </tr>\n",
       "    <tr>\n",
       "      <th>2</th>\n",
       "      <td>0.002565</td>\n",
       "      <td>0.002565</td>\n",
       "      <td>0.002565</td>\n",
       "      <td>0.002565</td>\n",
       "      <td>0.002565</td>\n",
       "      <td>0.002565</td>\n",
       "      <td>0.002565</td>\n",
       "      <td>0.002565</td>\n",
       "      <td>0.976918</td>\n",
       "      <td>0.002565</td>\n",
       "      <td>1947</td>\n",
       "      <td>uk.m.21635</td>\n",
       "      <td>i apologise to the house i was not aware tha...</td>\n",
       "      <td>uk.p.Con</td>\n",
       "      <td>mp</td>\n",
       "      <td>NaN</td>\n",
       "      <td>0</td>\n",
       "    </tr>\n",
       "    <tr>\n",
       "      <th>3</th>\n",
       "      <td>0.054240</td>\n",
       "      <td>0.182180</td>\n",
       "      <td>0.000901</td>\n",
       "      <td>0.000901</td>\n",
       "      <td>0.000901</td>\n",
       "      <td>0.291608</td>\n",
       "      <td>0.000901</td>\n",
       "      <td>0.000901</td>\n",
       "      <td>0.466566</td>\n",
       "      <td>0.000901</td>\n",
       "      <td>1950</td>\n",
       "      <td>uk.m.21635</td>\n",
       "      <td>what was the object of the right hon gentlem...</td>\n",
       "      <td>uk.p.Con</td>\n",
       "      <td>mp</td>\n",
       "      <td>NaN</td>\n",
       "      <td>0</td>\n",
       "    </tr>\n",
       "    <tr>\n",
       "      <th>4</th>\n",
       "      <td>0.004001</td>\n",
       "      <td>0.004001</td>\n",
       "      <td>0.004001</td>\n",
       "      <td>0.004001</td>\n",
       "      <td>0.004001</td>\n",
       "      <td>0.188345</td>\n",
       "      <td>0.004001</td>\n",
       "      <td>0.223126</td>\n",
       "      <td>0.437893</td>\n",
       "      <td>0.126631</td>\n",
       "      <td>1951</td>\n",
       "      <td>uk.m.21635</td>\n",
       "      <td>is it not a fact and i do not think the prim...</td>\n",
       "      <td>uk.p.Con</td>\n",
       "      <td>mp</td>\n",
       "      <td>NaN</td>\n",
       "      <td>0</td>\n",
       "    </tr>\n",
       "  </tbody>\n",
       "</table>\n",
       "</div>"
      ],
      "text/plain": [
       "    Topic 0   Topic 1   Topic 2   Topic 3   Topic 4   Topic 5   Topic 6  \\\n",
       "0  0.002703  0.002703  0.344074  0.066459  0.002703  0.002703  0.002703   \n",
       "1  0.004546  0.004547  0.004547  0.004547  0.004546  0.004547  0.004546   \n",
       "2  0.002565  0.002565  0.002565  0.002565  0.002565  0.002565  0.002565   \n",
       "3  0.054240  0.182180  0.000901  0.000901  0.000901  0.291608  0.000901   \n",
       "4  0.004001  0.004001  0.004001  0.004001  0.004001  0.188345  0.004001   \n",
       "\n",
       "    Topic 7   Topic 8   Topic 9  year      member  \\\n",
       "0  0.570544  0.002703  0.002704  1945  uk.m.21635   \n",
       "1  0.347764  0.435779  0.184630  1946  uk.m.21635   \n",
       "2  0.002565  0.976918  0.002565  1947  uk.m.21635   \n",
       "3  0.000901  0.466566  0.000901  1950  uk.m.21635   \n",
       "4  0.223126  0.437893  0.126631  1951  uk.m.21635   \n",
       "\n",
       "                                                text     party role function  \\\n",
       "0    by private notice asked the prime minister w...  uk.p.Con   mp      NaN   \n",
       "1    i will now address it to the leader of the h...  uk.p.Con   mp      NaN   \n",
       "2    i apologise to the house i was not aware tha...  uk.p.Con   mp      NaN   \n",
       "3    what was the object of the right hon gentlem...  uk.p.Con   mp      NaN   \n",
       "4    is it not a fact and i do not think the prim...  uk.p.Con   mp      NaN   \n",
       "\n",
       "   gender  \n",
       "0       0  \n",
       "1       0  \n",
       "2       0  \n",
       "3       0  \n",
       "4       0  "
      ]
     },
     "execution_count": 18,
     "metadata": {},
     "output_type": "execute_result"
    }
   ],
   "source": [
    "merged.head()"
   ]
  },
  {
   "cell_type": "code",
   "execution_count": 47,
   "metadata": {},
   "outputs": [],
   "source": [
    "topic = 5\n",
    "sub_df = merged[[f'Topic {topic}','gender','party']]\n",
    "#sns.violinplot(sub_df.gender, sub_df[f'Topic {topic}'],inner='quartile')\n",
    "#sub_df.groupby('gender').mean()"
   ]
  },
  {
   "cell_type": "code",
   "execution_count": 48,
   "metadata": {},
   "outputs": [],
   "source": [
    "#sns.violinplot(sub_df.party, sub_df[f'Topic {topic}'],inner='quartile')"
   ]
  },
  {
   "cell_type": "code",
   "execution_count": 49,
   "metadata": {},
   "outputs": [
    {
     "data": {
      "text/plain": [
       "<matplotlib.axes._subplots.AxesSubplot at 0x12aece250>"
      ]
     },
     "execution_count": 49,
     "metadata": {},
     "output_type": "execute_result"
    },
    {
     "data": {
      "image/png": "[encoded data removed]",
      "text/plain": [
       "<Figure size 432x288 with 1 Axes>"
      ]
     },
     "metadata": {
      "needs_background": "light"
     },
     "output_type": "display_data"
    }
   ],
   "source": [
    "sub_df[sub_df.gender==0][f'Topic {topic}'].plot(kind='density')\n",
    "sub_df[sub_df.gender==1][f'Topic {topic}'].plot(kind='density')"
   ]
  },
  {
   "cell_type": "code",
   "execution_count": 26,
   "metadata": {},
   "outputs": [],
   "source": [
    "#sub_df = merged[['Topic 7','gender']]\n",
    "#sns.violinplot(sub_df.gender, sub_df['Topic 7'],inner='quartile')"
   ]
  },
  {
   "cell_type": "code",
   "execution_count": 27,
   "metadata": {},
   "outputs": [
    {
     "data": {
      "text/plain": [
       "<matplotlib.axes._subplots.AxesSubplot at 0x124d49cd0>"
      ]
     },
     "execution_count": 27,
     "metadata": {},
     "output_type": "execute_result"
    },
    {
     "data": {
      "image/png": "[encoded data removed]",
      "text/plain": [
       "<Figure size 432x288 with 1 Axes>"
      ]
     },
     "metadata": {
      "needs_background": "light"
     },
     "output_type": "display_data"
    }
   ],
   "source": [
    "#sub_df[sub_df.gender==0]['Topic 7'].plot(kind='density')\n",
    "#sub_df[sub_df.gender==1]['Topic 7'].plot(kind='density')"
   ]
  },
  {
   "cell_type": "code",
   "execution_count": 28,
   "metadata": {},
   "outputs": [],
   "source": [
    "import os\n",
    "import warnings\n",
    "\n",
    "import arviz as az\n",
    "import daft\n",
    "import matplotlib.pyplot as plt\n",
    "import numpy as np\n",
    "import pandas as pd\n",
    "import pymc3 as pm\n",
    "\n",
    "from causalgraphicalmodels import CausalGraphicalModel\n",
    "from scipy import stats\n",
    "from scipy.interpolate import griddata\n",
    "from theano import shared\n",
    "\n",
    "warnings.simplefilter(action=\"ignore\", category=FutureWarning)"
   ]
  },
  {
   "cell_type": "code",
   "execution_count": 29,
   "metadata": {},
   "outputs": [],
   "source": [
    "sex = merged['gender'].values"
   ]
  },
  {
   "cell_type": "code",
   "execution_count": 30,
   "metadata": {},
   "outputs": [
    {
     "data": {
      "text/plain": [
       "array([0, 0, 0, ..., 0, 1, 1])"
      ]
     },
     "execution_count": 30,
     "metadata": {},
     "output_type": "execute_result"
    }
   ],
   "source": [
    "sex"
   ]
  },
  {
   "cell_type": "code",
   "execution_count": 31,
   "metadata": {},
   "outputs": [],
   "source": [
    "def standardize(series):\n",
    "    \"\"\"Standardize a pandas series\"\"\"\n",
    "    std_series = (series - series.mean()) / series.std()\n",
    "    return std_series"
   ]
  },
  {
   "cell_type": "code",
   "execution_count": 64,
   "metadata": {},
   "outputs": [
    {
     "name": "stdout",
     "output_type": "stream",
     "text": [
      "0.1100034531772509\n",
      "0.18981190239254114\n"
     ]
    }
   ],
   "source": [
    "topic = 1\n",
    "print(merged[f'Topic {topic}'].mean())\n",
    "print(merged[f'Topic {topic}'].std())"
   ]
  },
  {
   "cell_type": "code",
   "execution_count": 90,
   "metadata": {},
   "outputs": [
    {
     "name": "stdout",
     "output_type": "stream",
     "text": [
      "0.10552078049403514\n",
      "0.26341353793109884\n"
     ]
    }
   ],
   "source": [
    "topic = 4\n",
    "print(merged[merged.gender==0][f'Topic {topic}'].mean())\n",
    "print(merged[merged.gender==1][f'Topic {topic}'].mean())"
   ]
  },
  {
   "cell_type": "code",
   "execution_count": 91,
   "metadata": {},
   "outputs": [
    {
     "name": "stderr",
     "output_type": "stream",
     "text": [
      "Auto-assigning NUTS sampler...\n",
      "Initializing NUTS using jitter+adapt_diag...\n",
      "Multiprocess sampling (4 chains in 4 jobs)\n",
      "NUTS: [mu, sigma]\n"
     ]
    },
    {
     "data": {
      "text/html": [
       "\n",
       "    <div>\n",
       "        <style>\n",
       "            /* Turns off some styling */\n",
       "            progress {\n",
       "                /* gets rid of default border in Firefox and Opera. */\n",
       "                border: none;\n",
       "                /* Needs to be in here for Safari polyfill so background images work as expected. */\n",
       "                background-size: auto;\n",
       "            }\n",
       "            .progress-bar-interrupted, .progress-bar-interrupted::-webkit-progress-bar {\n",
       "                background: #F44336;\n",
       "            }\n",
       "        </style>\n",
       "      <progress value='8000' class='' max='8000' style='width:300px; height:20px; vertical-align: middle;'></progress>\n",
       "      100.00% [8000/8000 00:06<00:00 Sampling 4 chains, 0 divergences]\n",
       "    </div>\n",
       "    "
      ],
      "text/plain": [
       "<IPython.core.display.HTML object>"
      ]
     },
     "metadata": {},
     "output_type": "display_data"
    },
    {
     "name": "stderr",
     "output_type": "stream",
     "text": [
      "Sampling 4 chains for 1_000 tune and 1_000 draw iterations (4_000 + 4_000 draws total) took 18 seconds.\n"
     ]
    }
   ],
   "source": [
    "\n",
    "\n",
    "#merged[f'Topic_{topic}_std'] = standardize(merged[f'Topic {topic}'])\n",
    "\n",
    "with pm.Model() as m1:\n",
    "    sigma = pm.Exponential('sigma',1)\n",
    "    #sigma = pm.Normal('sigma',0,.5,shape=2)\n",
    "    mu = pm.Normal('mu', .1,.2,shape=2)\n",
    "    topic = pm.Normal('topic', mu[sex], sigma, observed=merged[f'Topic {topic}'].values)\n",
    "    diff_fm = pm.Deterministic('diff',mu[0]-mu[1])\n",
    "    m1_trace = pm.sample()\n",
    "    "
   ]
  },
  {
   "cell_type": "code",
   "execution_count": 92,
   "metadata": {},
   "outputs": [
    {
     "name": "stderr",
     "output_type": "stream",
     "text": [
      "Got error No model on context stack. trying to find log_likelihood in translation.\n"
     ]
    },
    {
     "data": {
      "text/html": [
       "<div>\n",
       "<style scoped>\n",
       "    .dataframe tbody tr th:only-of-type {\n",
       "        vertical-align: middle;\n",
       "    }\n",
       "\n",
       "    .dataframe tbody tr th {\n",
       "        vertical-align: top;\n",
       "    }\n",
       "\n",
       "    .dataframe thead th {\n",
       "        text-align: right;\n",
       "    }\n",
       "</style>\n",
       "<table border=\"1\" class=\"dataframe\">\n",
       "  <thead>\n",
       "    <tr style=\"text-align: right;\">\n",
       "      <th></th>\n",
       "      <th>mean</th>\n",
       "      <th>sd</th>\n",
       "      <th>hdi_3%</th>\n",
       "      <th>hdi_97%</th>\n",
       "      <th>mcse_mean</th>\n",
       "      <th>mcse_sd</th>\n",
       "      <th>ess_bulk</th>\n",
       "      <th>ess_tail</th>\n",
       "      <th>r_hat</th>\n",
       "    </tr>\n",
       "  </thead>\n",
       "  <tbody>\n",
       "    <tr>\n",
       "      <th>mu[0]</th>\n",
       "      <td>0.106</td>\n",
       "      <td>0.002</td>\n",
       "      <td>0.102</td>\n",
       "      <td>0.109</td>\n",
       "      <td>0.0</td>\n",
       "      <td>0.0</td>\n",
       "      <td>5378.0</td>\n",
       "      <td>3002.0</td>\n",
       "      <td>1.0</td>\n",
       "    </tr>\n",
       "    <tr>\n",
       "      <th>mu[1]</th>\n",
       "      <td>0.263</td>\n",
       "      <td>0.005</td>\n",
       "      <td>0.252</td>\n",
       "      <td>0.273</td>\n",
       "      <td>0.0</td>\n",
       "      <td>0.0</td>\n",
       "      <td>5488.0</td>\n",
       "      <td>2749.0</td>\n",
       "      <td>1.0</td>\n",
       "    </tr>\n",
       "    <tr>\n",
       "      <th>sigma</th>\n",
       "      <td>0.202</td>\n",
       "      <td>0.001</td>\n",
       "      <td>0.199</td>\n",
       "      <td>0.204</td>\n",
       "      <td>0.0</td>\n",
       "      <td>0.0</td>\n",
       "      <td>5398.0</td>\n",
       "      <td>2963.0</td>\n",
       "      <td>1.0</td>\n",
       "    </tr>\n",
       "    <tr>\n",
       "      <th>diff</th>\n",
       "      <td>-0.158</td>\n",
       "      <td>0.006</td>\n",
       "      <td>-0.168</td>\n",
       "      <td>-0.147</td>\n",
       "      <td>0.0</td>\n",
       "      <td>0.0</td>\n",
       "      <td>5738.0</td>\n",
       "      <td>2935.0</td>\n",
       "      <td>1.0</td>\n",
       "    </tr>\n",
       "  </tbody>\n",
       "</table>\n",
       "</div>"
      ],
      "text/plain": [
       "        mean     sd  hdi_3%  hdi_97%  mcse_mean  mcse_sd  ess_bulk  ess_tail  \\\n",
       "mu[0]  0.106  0.002   0.102    0.109        0.0      0.0    5378.0    3002.0   \n",
       "mu[1]  0.263  0.005   0.252    0.273        0.0      0.0    5488.0    2749.0   \n",
       "sigma  0.202  0.001   0.199    0.204        0.0      0.0    5398.0    2963.0   \n",
       "diff  -0.158  0.006  -0.168   -0.147        0.0      0.0    5738.0    2935.0   \n",
       "\n",
       "       r_hat  \n",
       "mu[0]    1.0  \n",
       "mu[1]    1.0  \n",
       "sigma    1.0  \n",
       "diff     1.0  "
      ]
     },
     "execution_count": 92,
     "metadata": {},
     "output_type": "execute_result"
    }
   ],
   "source": [
    "az.summary(m1_trace)"
   ]
  },
  {
   "cell_type": "code",
   "execution_count": 112,
   "metadata": {},
   "outputs": [
    {
     "data": {
      "text/plain": [
       "array([-0.15485564, -0.16190253, -0.16190253, ..., -0.14085558,\n",
       "       -0.16720559, -0.15571453])"
      ]
     },
     "execution_count": 112,
     "metadata": {},
     "output_type": "execute_result"
    }
   ],
   "source": [
    "m1_trace['diff']"
   ]
  },
  {
   "cell_type": "code",
   "execution_count": 103,
   "metadata": {},
   "outputs": [
    {
     "ename": "KeyError",
     "evalue": "'Unknown variable topic'",
     "output_type": "error",
     "traceback": [
      "\u001b[0;31m---------------------------------------------------------------------------\u001b[0m",
      "\u001b[0;31mKeyError\u001b[0m                                  Traceback (most recent call last)",
      "\u001b[0;32m<ipython-input-103-91bbcb6ff9fa>\u001b[0m in \u001b[0;36m<module>\u001b[0;34m\u001b[0m\n\u001b[1;32m      1\u001b[0m \u001b[0;31m#help(az.plot_forest)\u001b[0m\u001b[0;34m\u001b[0m\u001b[0;34m\u001b[0m\u001b[0;34m\u001b[0m\u001b[0m\n\u001b[0;32m----> 2\u001b[0;31m \u001b[0mpd\u001b[0m\u001b[0;34m.\u001b[0m\u001b[0mSeries\u001b[0m\u001b[0;34m(\u001b[0m\u001b[0mm1_trace\u001b[0m\u001b[0;34m[\u001b[0m\u001b[0;34m'topic'\u001b[0m\u001b[0;34m]\u001b[0m\u001b[0;34m[\u001b[0m\u001b[0;34m:\u001b[0m\u001b[0;34m,\u001b[0m\u001b[0;36m0\u001b[0m\u001b[0;34m]\u001b[0m\u001b[0;34m)\u001b[0m\u001b[0;34m.\u001b[0m\u001b[0mplot\u001b[0m\u001b[0;34m(\u001b[0m\u001b[0mkind\u001b[0m\u001b[0;34m=\u001b[0m\u001b[0;34m'density'\u001b[0m\u001b[0;34m)\u001b[0m\u001b[0;34m\u001b[0m\u001b[0;34m\u001b[0m\u001b[0m\n\u001b[0m\u001b[1;32m      3\u001b[0m \u001b[0mpd\u001b[0m\u001b[0;34m.\u001b[0m\u001b[0mSeries\u001b[0m\u001b[0;34m(\u001b[0m\u001b[0mm1_trace\u001b[0m\u001b[0;34m[\u001b[0m\u001b[0;34m'topic'\u001b[0m\u001b[0;34m]\u001b[0m\u001b[0;34m[\u001b[0m\u001b[0;34m:\u001b[0m\u001b[0;34m,\u001b[0m\u001b[0;36m1\u001b[0m\u001b[0;34m]\u001b[0m\u001b[0;34m)\u001b[0m\u001b[0;34m.\u001b[0m\u001b[0mplot\u001b[0m\u001b[0;34m(\u001b[0m\u001b[0mkind\u001b[0m\u001b[0;34m=\u001b[0m\u001b[0;34m'density'\u001b[0m\u001b[0;34m)\u001b[0m\u001b[0;34m\u001b[0m\u001b[0;34m\u001b[0m\u001b[0m\n",
      "\u001b[0;32m/usr/local/lib/python3.7/site-packages/pymc3/backends/base.py\u001b[0m in \u001b[0;36m__getitem__\u001b[0;34m(self, idx)\u001b[0m\n\u001b[1;32m    344\u001b[0m         \u001b[0;32mif\u001b[0m \u001b[0mvar\u001b[0m \u001b[0;32min\u001b[0m \u001b[0mself\u001b[0m\u001b[0;34m.\u001b[0m\u001b[0mstat_names\u001b[0m\u001b[0;34m:\u001b[0m\u001b[0;34m\u001b[0m\u001b[0;34m\u001b[0m\u001b[0m\n\u001b[1;32m    345\u001b[0m             \u001b[0;32mreturn\u001b[0m \u001b[0mself\u001b[0m\u001b[0;34m.\u001b[0m\u001b[0mget_sampler_stats\u001b[0m\u001b[0;34m(\u001b[0m\u001b[0mvar\u001b[0m\u001b[0;34m,\u001b[0m \u001b[0mburn\u001b[0m\u001b[0;34m=\u001b[0m\u001b[0mburn\u001b[0m\u001b[0;34m,\u001b[0m \u001b[0mthin\u001b[0m\u001b[0;34m=\u001b[0m\u001b[0mthin\u001b[0m\u001b[0;34m)\u001b[0m\u001b[0;34m\u001b[0m\u001b[0;34m\u001b[0m\u001b[0m\n\u001b[0;32m--> 346\u001b[0;31m         \u001b[0;32mraise\u001b[0m \u001b[0mKeyError\u001b[0m\u001b[0;34m(\u001b[0m\u001b[0;34m\"Unknown variable %s\"\u001b[0m \u001b[0;34m%\u001b[0m \u001b[0mvar\u001b[0m\u001b[0;34m)\u001b[0m\u001b[0;34m\u001b[0m\u001b[0;34m\u001b[0m\u001b[0m\n\u001b[0m\u001b[1;32m    347\u001b[0m \u001b[0;34m\u001b[0m\u001b[0m\n\u001b[1;32m    348\u001b[0m     \u001b[0m_attrs\u001b[0m \u001b[0;34m=\u001b[0m \u001b[0;34m{\u001b[0m\u001b[0;34m\"_straces\"\u001b[0m\u001b[0;34m,\u001b[0m \u001b[0;34m\"varnames\"\u001b[0m\u001b[0;34m,\u001b[0m \u001b[0;34m\"chains\"\u001b[0m\u001b[0;34m,\u001b[0m \u001b[0;34m\"stat_names\"\u001b[0m\u001b[0;34m,\u001b[0m \u001b[0;34m\"supports_sampler_stats\"\u001b[0m\u001b[0;34m,\u001b[0m \u001b[0;34m\"_report\"\u001b[0m\u001b[0;34m}\u001b[0m\u001b[0;34m\u001b[0m\u001b[0;34m\u001b[0m\u001b[0m\n",
      "\u001b[0;31mKeyError\u001b[0m: 'Unknown variable topic'"
     ]
    }
   ],
   "source": [
    "#help(az.plot_forest)\n",
    "pd.Series(m1_trace['topic'][:,0]).plot(kind='density')\n",
    "pd.Series(m1_trace['topic'][:,1]).plot(kind='density')"
   ]
  },
  {
   "cell_type": "code",
   "execution_count": 102,
   "metadata": {},
   "outputs": [
    {
     "data": {
      "text/plain": [
       "<matplotlib.axes._subplots.AxesSubplot at 0x12be939d0>"
      ]
     },
     "execution_count": 102,
     "metadata": {},
     "output_type": "execute_result"
    },
    {
     "data": {
      "image/png": "[encoded data removed]",
      "text/plain": [
       "<Figure size 432x288 with 1 Axes>"
      ]
     },
     "metadata": {
      "needs_background": "light"
     },
     "output_type": "display_data"
    }
   ],
   "source": [
    "pd.Series(m1_trace['mu'][:,0]).plot(kind='density')\n",
    "pd.Series(m1_trace['mu'][:,1]).plot(kind='density')"
   ]
  },
  {
   "cell_type": "code",
   "execution_count": 94,
   "metadata": {},
   "outputs": [
    {
     "name": "stderr",
     "output_type": "stream",
     "text": [
      "Got error No model on context stack. trying to find log_likelihood in translation.\n"
     ]
    },
    {
     "data": {
      "text/plain": [
       "array([<matplotlib.axes._subplots.AxesSubplot object at 0x12a908290>],\n",
       "      dtype=object)"
      ]
     },
     "execution_count": 94,
     "metadata": {},
     "output_type": "execute_result"
    },
    {
     "data": {
      "image/png": "[encoded data removed]",
      "text/plain": [
       "<Figure size 432x302.4 with 1 Axes>"
      ]
     },
     "metadata": {
      "needs_background": "light"
     },
     "output_type": "display_data"
    }
   ],
   "source": [
    "az.plot_forest(m1_trace,var_names=['mu'],combined=True,hdi_prob=.99)"
   ]
  },
  {
   "cell_type": "code",
   "execution_count": 71,
   "metadata": {},
   "outputs": [
    {
     "name": "stderr",
     "output_type": "stream",
     "text": [
      "Got error No model on context stack. trying to find log_likelihood in translation.\n"
     ]
    },
    {
     "data": {
      "text/plain": [
       "array([<matplotlib.axes._subplots.AxesSubplot object at 0x12b0a2050>],\n",
       "      dtype=object)"
      ]
     },
     "execution_count": 71,
     "metadata": {},
     "output_type": "execute_result"
    },
    {
     "data": {
      "image/png": "[encoded data removed]",
      "text/plain": [
       "<Figure size 432x302.4 with 1 Axes>"
      ]
     },
     "metadata": {
      "needs_background": "light"
     },
     "output_type": "display_data"
    }
   ],
   "source": [
    "#az.plot_forest(m1_trace,var_names=['mu'],combined=True,hdi_prob=.89)"
   ]
  },
  {
   "cell_type": "code",
   "execution_count": null,
   "metadata": {},
   "outputs": [],
   "source": []
  }
 ],
 "metadata": {
  "kernelspec": {
   "display_name": "Python 3",
   "language": "python",
   "name": "python3"
  },
  "language_info": {
   "codemirror_mode": {
    "name": "ipython",
    "version": 3
   },
   "file_extension": ".py",
   "mimetype": "text/x-python",
   "name": "python",
   "nbconvert_exporter": "python",
   "pygments_lexer": "ipython3",
   "version": "3.7.4"
  }
 },
 "nbformat": 4,
 "nbformat_minor": 2
}
