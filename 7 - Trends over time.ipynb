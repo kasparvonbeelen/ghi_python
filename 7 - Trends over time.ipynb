{
 "cells": [
  {
   "cell_type": "markdown",
   "metadata": {},
   "source": [
    "\n",
    "[![Open In Colab](https://colab.research.google.com/assets/colab-badge.svg)](https://colab.research.google.com/github/googlecolab/colabtools/blob/master/notebooks/colab-github-demo.ipynb)\n",
    "\n",
    "\n",
    "\n",
    "## 7: Studying trends over time in Political Manifestos (1964-2020)\n",
    "\n",
    "\n",
    "## Text Mining for Historians (with Python)\n",
    "## A Gentle Introduction to Working with Textual Data in Python\n",
    "\n",
    "### Created by Kaspar Beelen and Luke Blaxill\n",
    "\n",
    "### For the German Historical Institute, London\n",
    "\n",
    "<img align=\"left\" src=\"https://www.ghil.ac.uk/typo3conf/ext/wacon_ghil/Resources/Public/Images/institute_icon_small.png\">\n",
    "\n",
    "\n",
    "\n"
   ]
  },
  {
   "cell_type": "markdown",
   "metadata": {},
   "source": [
    "\n",
    "This notebook combines all the insights from previous sessions and explores how Python can be used in more realistic research examples. We focus on studying trends over in time UK Political Manifestos between 1964 and 2020. By creatively putting the stuff together you've seen so far, you can start to meaningfully interrogate thesse corpora.\n",
    "\n",
    "This notebook will focus on plotting word frequencies, for specific selected (or target) tokens."
   ]
  },
  {
   "cell_type": "markdown",
   "metadata": {},
   "source": [
    "First we start with collecting the paths to our manifesto files. These are stores as seperate `.txt` files one for each manifesto. As seen previously, we rely on a library that we need to import first. The `pathlib` library is useful for managing path, files and directories and we'll encounter it more often later in these Notebooks. \n",
    "\n",
    "Below we first the folder as a `Path()` object. The we apply `Path.glob()`, with `\"*.txt\"` as argument. The asterix `*` serves as a wild card, basically what are saying here: in the folder `'data/Manifestos/Processed/'` return as files ending with `.txt` (we don't care what precedes the `.txt` extension).\n",
    "\n",
    "There is a technically we can ingore for now: we convert the result of `.glob()` to a `list` object. "
   ]
  },
  {
   "cell_type": "code",
   "execution_count": 56,
   "metadata": {},
   "outputs": [],
   "source": [
    "from pathlib import Path\n",
    "folder = Path('data/Manifestos/Processed/')\n",
    "files = folder.glob('*.txt')\n",
    "file_paths = list(files)"
   ]
  },
  {
   "cell_type": "markdown",
   "metadata": {},
   "source": [
    "Now we can count the number of the documents in our corpus by applying the `len()` function to the variable `file_paths`"
   ]
  },
  {
   "cell_type": "code",
   "execution_count": 3,
   "metadata": {},
   "outputs": [
    {
     "data": {
      "text/plain": [
       "68"
      ]
     },
     "execution_count": 3,
     "metadata": {},
     "output_type": "execute_result"
    }
   ],
   "source": [
    "len(file_paths)"
   ]
  },
  {
   "cell_type": "markdown",
   "metadata": {},
   "source": [
    "And, using index notation, we print the path to the first file in our corpus (not the content itself, this is for later!)"
   ]
  },
  {
   "cell_type": "code",
   "execution_count": 57,
   "metadata": {},
   "outputs": [
    {
     "data": {
      "text/plain": [
       "PosixPath('data/Manifestos/Processed/51421_201912.txt')"
      ]
     },
     "execution_count": 57,
     "metadata": {},
     "output_type": "execute_result"
    }
   ],
   "source": [
    "file_paths[0]"
   ]
  },
  {
   "cell_type": "markdown",
   "metadata": {},
   "source": [
    "In the previous notebook we've used several tools such as `word_tokenize()` and `Counter()` to count tokens. In this Notebook we want to repeat this procedure for all documents in our collection. We can write a **function** that takes a path as argument and returns a mapping from words to frequencies. \n",
    "\n",
    "The code cell below takes care of this, we first import the tools we need and create a function computes word frequencies. To create a function we use the `def` keyword followed by a name, parentheses and and colon. The word between the parenthesis defines the arguments this function accepts.\n",
    "\n",
    "All the code within this function should look familiar. For each given path the function will execute these steps (note the indentation) and return the variable word_counts.\n",
    "\n",
    "It is important to run the cell below but only once. Python will then store the function `count_words` in memory and you can reuse it later."
   ]
  },
  {
   "cell_type": "code",
   "execution_count": 62,
   "metadata": {},
   "outputs": [],
   "source": [
    "from collections import Counter # import Counter for computing word frequencies\n",
    "from collections import defaultdict # import defaultdict dict mapping years to frequencies\n",
    "from nltk.tokenize import word_tokenize # impor the tool for tokenizing strings\n",
    "\n",
    "def count_words(path): # define the function and the arguments it accepts\n",
    "    text = open(path,'r').read() # open the document\n",
    "    text_lowercase = text.lower() # lowercase the text and store in text_lowercase\n",
    "    tokens = word_tokenize(text_lowercase) # get the tokens as a list\n",
    "    word_counts = Counter(tokens) # compute word frequencies with Counter()\n",
    "    return word_counts # return the word frequencies\n"
   ]
  },
  {
   "cell_type": "markdown",
   "metadata": {},
   "source": [
    "To check if the function is created just print the `count_words` you see that it is now stored a `function` object."
   ]
  },
  {
   "cell_type": "code",
   "execution_count": 61,
   "metadata": {},
   "outputs": [
    {
     "name": "stdout",
     "output_type": "stream",
     "text": [
      "<function count_words at 0x125ef4560>\n"
     ]
    }
   ],
   "source": [
    "print(count_words)"
   ]
  },
  {
   "cell_type": "markdown",
   "metadata": {},
   "source": [
    "We can apply this function now to the first document by passing `file_paths[0]` as an argument. The second line prints the ten most frequent words."
   ]
  },
  {
   "cell_type": "code",
   "execution_count": 5,
   "metadata": {},
   "outputs": [
    {
     "data": {
      "text/plain": [
       "[('the', 1433),\n",
       " ('and', 1324),\n",
       " ('to', 1127),\n",
       " ('.', 1035),\n",
       " (',', 1028),\n",
       " ('of', 713),\n",
       " ('a', 551),\n",
       " ('in', 497),\n",
       " ('for', 427),\n",
       " ('that', 320)]"
      ]
     },
     "execution_count": 5,
     "metadata": {},
     "output_type": "execute_result"
    }
   ],
   "source": [
    "word_counts = count_words(file_paths[0])\n",
    "word_counts.most_common(10)"
   ]
  },
  {
   "cell_type": "markdown",
   "metadata": {},
   "source": [
    "So now we know how to count words, but the goal is plot word counts over time. If you look close close at the name of the file (i.e. the part after the last `/` you'll notice that it encodes a timestamp.\n",
    "\n",
    "The filenames are structured as follows `{party identifier}_{year}{month}.{extension}`. Such a setup—where metadata is encoded in the filename—is rather common when working with heritage collections. We can now start writing a function that extracts the time-stamp from the the filename.\n",
    "\n",
    "First we print the filename."
   ]
  },
  {
   "cell_type": "code",
   "execution_count": 64,
   "metadata": {},
   "outputs": [
    {
     "data": {
      "text/plain": [
       "PosixPath('data/Manifestos/Processed/51421_201912.txt')"
      ]
     },
     "execution_count": 64,
     "metadata": {},
     "output_type": "execute_result"
    }
   ],
   "source": [
    "file_paths[0]"
   ]
  },
  {
   "cell_type": "markdown",
   "metadata": {},
   "source": [
    "To make things easier we convert the path (which is now an instance of the class `PosixPath`) to a string. For this we can use `str()`. In Python lingo, such conversion are called type casting. The cell below shows how this works."
   ]
  },
  {
   "cell_type": "code",
   "execution_count": 68,
   "metadata": {},
   "outputs": [
    {
     "name": "stdout",
     "output_type": "stream",
     "text": [
      "<class 'pathlib.PosixPath'>\n",
      "<class 'str'>\n"
     ]
    }
   ],
   "source": [
    "path = file_paths[0]\n",
    "print(type(path))\n",
    "path = str(file_paths[0])\n",
    "print(type(path))"
   ]
  },
  {
   "cell_type": "markdown",
   "metadata": {},
   "source": [
    "After converting it to a string, we can use split to select the file name (without extension) from the path. Each of the individual steps are examplified below. Note that `.split()` takes different arguments, i.e. we specify what character want to split on, for example splitting by `'/'` breaks up the path in its constituent components."
   ]
  },
  {
   "cell_type": "code",
   "execution_count": 72,
   "metadata": {},
   "outputs": [
    {
     "name": "stdout",
     "output_type": "stream",
     "text": [
      "data/Manifestos/Processed/51421_201912.txt\n",
      "['data', 'Manifestos', 'Processed', '51421_201912.txt']\n"
     ]
    }
   ],
   "source": [
    "print(str(file_paths[0]))\n",
    "print(str(file_paths[0]).split('/'))"
   ]
  },
  {
   "cell_type": "markdown",
   "metadata": {},
   "source": [
    "After thus splitting the path (which returns a `list`) we take the last element, the filename. We can do this all in one line to save space and make the code more concise."
   ]
  },
  {
   "cell_type": "code",
   "execution_count": 73,
   "metadata": {},
   "outputs": [
    {
     "data": {
      "text/plain": [
       "'51421_201912.txt'"
      ]
     },
     "execution_count": 73,
     "metadata": {},
     "output_type": "execute_result"
    }
   ],
   "source": [
    "str(file_paths[0]).split('/')[-1]"
   ]
  },
  {
   "cell_type": "markdown",
   "metadata": {},
   "source": [
    "The code cell below takes care of all the steps for fishin out the filename from the path:"
   ]
  },
  {
   "cell_type": "code",
   "execution_count": 71,
   "metadata": {},
   "outputs": [
    {
     "name": "stdout",
     "output_type": "stream",
     "text": [
      "51421_201912\n"
     ]
    }
   ],
   "source": [
    "path = str(file_paths[0])\n",
    "filename_with_ext = path.split('/')[-1]\n",
    "filename = filename_with_ext.split('.')[0]\n",
    "print(filename)"
   ]
  },
  {
   "cell_type": "markdown",
   "metadata": {},
   "source": [
    "Now only need to get the date informantion. Again we slice the string and convert it an integer. "
   ]
  },
  {
   "cell_type": "code",
   "execution_count": 77,
   "metadata": {},
   "outputs": [
    {
     "data": {
      "text/plain": [
       "'2019'"
      ]
     },
     "execution_count": 77,
     "metadata": {},
     "output_type": "execute_result"
    }
   ],
   "source": [
    "filename[-6:-2]"
   ]
  },
  {
   "cell_type": "code",
   "execution_count": 78,
   "metadata": {},
   "outputs": [
    {
     "data": {
      "text/plain": [
       "2019"
      ]
     },
     "execution_count": 78,
     "metadata": {},
     "output_type": "execute_result"
    }
   ],
   "source": [
    "int(filename[-6:-2])"
   ]
  },
  {
   "cell_type": "markdown",
   "metadata": {},
   "source": [
    "Slightly changing the indices we can capture both year and month."
   ]
  },
  {
   "cell_type": "code",
   "execution_count": 83,
   "metadata": {},
   "outputs": [
    {
     "name": "stdout",
     "output_type": "stream",
     "text": [
      "2019 12\n"
     ]
    }
   ],
   "source": [
    "year = int(filename[-6:-2])\n",
    "month = int(filename[-2:])\n",
    "print(year, month)"
   ]
  },
  {
   "cell_type": "markdown",
   "metadata": {},
   "source": [
    "In the very last step we use a library `datetime` to convert these numbers (year and month are just integer variable now) to a proper timestamp. Since we don't have access to the exact day we just use the first day of the month."
   ]
  },
  {
   "cell_type": "code",
   "execution_count": 86,
   "metadata": {},
   "outputs": [
    {
     "data": {
      "text/plain": [
       "datetime.datetime(2019, 12, 1, 0, 0)"
      ]
     },
     "execution_count": 86,
     "metadata": {},
     "output_type": "execute_result"
    }
   ],
   "source": [
    "import datetime\n",
    "time_stamp = datetime.datetime(year,month,1)\n",
    "time_stamp"
   ]
  },
  {
   "cell_type": "markdown",
   "metadata": {},
   "source": [
    "That were many steps! Since we like to repear it for each file, it is again useful to package them in one function."
   ]
  },
  {
   "cell_type": "code",
   "execution_count": 94,
   "metadata": {},
   "outputs": [],
   "source": [
    "def path2timestamp(path):\n",
    "    path = str(path)\n",
    "    filename_with_ext = path.split('/')[-1]\n",
    "    filename = filename_with_ext.split('.')[0]\n",
    "    year = int(filename[-6:-2])\n",
    "    month = int(filename[-2:])\n",
    "    time_stamp = datetime.datetime(year,month,1)\n",
    "    return time_stamp"
   ]
  },
  {
   "cell_type": "markdown",
   "metadata": {},
   "source": [
    "Now we are ready to explore our corpus! Below, we will iterate over our files and apply both function, storing the results in a dictionary to map time-stamps to word counts.\n"
   ]
  },
  {
   "cell_type": "code",
   "execution_count": 89,
   "metadata": {},
   "outputs": [
    {
     "name": "stdout",
     "output_type": "stream",
     "text": [
      "51421_201912.txt\n",
      "51340_201505.txt\n",
      "51902_200106.txt\n",
      "51620_197410.txt\n",
      "51621_201505.txt\n",
      "51903_201706.txt\n",
      "51420_198706.txt\n",
      "51210_201706.txt\n",
      "51320_198706.txt\n",
      "51210_201505.txt\n"
     ]
    }
   ],
   "source": [
    "for p in file_paths[:10]:\n",
    "    print(p.name)"
   ]
  },
  {
   "cell_type": "markdown",
   "metadata": {},
   "source": [
    "Again, you are free to choose as long as you do it consistently!"
   ]
  },
  {
   "cell_type": "code",
   "execution_count": 90,
   "metadata": {},
   "outputs": [
    {
     "name": "stdout",
     "output_type": "stream",
     "text": [
      "51421_201912.txt\n",
      "51340_201505.txt\n",
      "51902_200106.txt\n",
      "51620_197410.txt\n",
      "51621_201505.txt\n",
      "51903_201706.txt\n",
      "51420_198706.txt\n",
      "51210_201706.txt\n",
      "51320_198706.txt\n",
      "51210_201505.txt\n"
     ]
    }
   ],
   "source": [
    "for fp in file_paths[:10]:\n",
    "    print(fp.name)"
   ]
  },
  {
   "cell_type": "markdown",
   "metadata": {},
   "source": [
    "The `for` loop below raises a `NameError` as we did not define `pp`."
   ]
  },
  {
   "cell_type": "code",
   "execution_count": 91,
   "metadata": {},
   "outputs": [
    {
     "ename": "NameError",
     "evalue": "name 'pp' is not defined",
     "output_type": "error",
     "traceback": [
      "\u001b[0;31m---------------------------------------------------------------------------\u001b[0m",
      "\u001b[0;31mNameError\u001b[0m                                 Traceback (most recent call last)",
      "\u001b[0;32m<ipython-input-91-085f8cf86c2e>\u001b[0m in \u001b[0;36m<module>\u001b[0;34m\u001b[0m\n\u001b[1;32m      1\u001b[0m \u001b[0;32mfor\u001b[0m \u001b[0mfp\u001b[0m \u001b[0;32min\u001b[0m \u001b[0mfile_paths\u001b[0m\u001b[0;34m[\u001b[0m\u001b[0;34m:\u001b[0m\u001b[0;36m10\u001b[0m\u001b[0;34m]\u001b[0m\u001b[0;34m:\u001b[0m\u001b[0;34m\u001b[0m\u001b[0;34m\u001b[0m\u001b[0m\n\u001b[0;32m----> 2\u001b[0;31m     \u001b[0mprint\u001b[0m\u001b[0;34m(\u001b[0m\u001b[0mpp\u001b[0m\u001b[0;34m)\u001b[0m\u001b[0;34m\u001b[0m\u001b[0;34m\u001b[0m\u001b[0m\n\u001b[0m",
      "\u001b[0;31mNameError\u001b[0m: name 'pp' is not defined"
     ]
    }
   ],
   "source": [
    "for fp in file_paths[:10]:\n",
    "    print(pp)"
   ]
  },
  {
   "cell_type": "markdown",
   "metadata": {},
   "source": [
    "The last novel element in the code below (which you'll encounter often) is incremental counting. To see how this works, first create a new variable with name `i` with the value zero."
   ]
  },
  {
   "cell_type": "code",
   "execution_count": 19,
   "metadata": {},
   "outputs": [],
   "source": [
    "i = 0"
   ]
  },
  {
   "cell_type": "markdown",
   "metadata": {},
   "source": [
    "Each time we run the cell below, we add `1` to `i` using the `+=` operation. Run the cell muliple time until you understand how this works!\n",
    "\n",
    "\n",
    "Note difference between `=` and `+=`, former is used to declare variable, the latter to incementally add elements to `i`."
   ]
  },
  {
   "cell_type": "code",
   "execution_count": 99,
   "metadata": {},
   "outputs": [
    {
     "name": "stdout",
     "output_type": "stream",
     "text": [
      "3\n"
     ]
    }
   ],
   "source": [
    "i+=1\n",
    "print(i)"
   ]
  },
  {
   "cell_type": "code",
   "execution_count": 102,
   "metadata": {},
   "outputs": [],
   "source": [
    "year2counts = {1950:1,1951:10}"
   ]
  },
  {
   "cell_type": "code",
   "execution_count": 106,
   "metadata": {},
   "outputs": [
    {
     "data": {
      "text/plain": [
       "{1950: 4, 1951: 10}"
      ]
     },
     "execution_count": 106,
     "metadata": {},
     "output_type": "execute_result"
    }
   ],
   "source": [
    "year2counts[1950]+=1\n",
    "year2counts"
   ]
  },
  {
   "cell_type": "code",
   "execution_count": 109,
   "metadata": {},
   "outputs": [
    {
     "data": {
      "text/plain": [
       "25"
      ]
     },
     "execution_count": 109,
     "metadata": {},
     "output_type": "execute_result"
    }
   ],
   "source": [
    "year2counts[1951]+=5\n",
    "year2counts[1951]"
   ]
  },
  {
   "cell_type": "code",
   "execution_count": 105,
   "metadata": {},
   "outputs": [],
   "source": [
    "target_term = 'people'\n",
    "results = defaultdict(int)\n",
    "\n",
    "for fp in file_paths:\n",
    "    time_stamp = path2timestamp(fp)\n",
    "    word_counts = count_words(fp)\n",
    "    count_for_target = word_counts[target_term]\n",
    "    results[time_stamp]+= count_for_target"
   ]
  },
  {
   "cell_type": "code",
   "execution_count": 111,
   "metadata": {},
   "outputs": [
    {
     "data": {
      "text/plain": [
       "defaultdict(int,\n",
       "            {datetime.datetime(2019, 12, 1, 0, 0): 849,\n",
       "             datetime.datetime(2015, 5, 1, 0, 0): 1101,\n",
       "             datetime.datetime(2001, 6, 1, 0, 0): 393,\n",
       "             datetime.datetime(1974, 10, 1, 0, 0): 156,\n",
       "             datetime.datetime(2017, 6, 1, 0, 0): 630,\n",
       "             datetime.datetime(1987, 6, 1, 0, 0): 359,\n",
       "             datetime.datetime(1992, 4, 1, 0, 0): 250,\n",
       "             datetime.datetime(1970, 6, 1, 0, 0): 79,\n",
       "             datetime.datetime(1974, 2, 1, 0, 0): 87,\n",
       "             datetime.datetime(1983, 6, 1, 0, 0): 193,\n",
       "             datetime.datetime(2005, 5, 1, 0, 0): 270,\n",
       "             datetime.datetime(1997, 5, 1, 0, 0): 284,\n",
       "             datetime.datetime(1966, 3, 1, 0, 0): 32,\n",
       "             datetime.datetime(1979, 5, 1, 0, 0): 77,\n",
       "             datetime.datetime(1964, 10, 1, 0, 0): 11})"
      ]
     },
     "execution_count": 111,
     "metadata": {},
     "output_type": "execute_result"
    }
   ],
   "source": [
    "results"
   ]
  },
  {
   "cell_type": "code",
   "execution_count": 110,
   "metadata": {},
   "outputs": [
    {
     "data": {
      "text/plain": [
       "<matplotlib.axes._subplots.AxesSubplot at 0x121e60d90>"
      ]
     },
     "execution_count": 110,
     "metadata": {},
     "output_type": "execute_result"
    },
    {
     "data": {
      "image/png": "[encoded data removed]",
      "text/plain": [
       "<Figure size 432x288 with 1 Axes>"
      ]
     },
     "metadata": {
      "needs_background": "light"
     },
     "output_type": "display_data"
    }
   ],
   "source": [
    "%matplotlib inline\n",
    "pd.Series(results).plot()"
   ]
  },
  {
   "cell_type": "markdown",
   "metadata": {},
   "source": [
    "## Putting everything together"
   ]
  },
  {
   "cell_type": "markdown",
   "metadata": {},
   "source": [
    "## Extensions"
   ]
  },
  {
   "cell_type": "code",
   "execution_count": 34,
   "metadata": {},
   "outputs": [
    {
     "data": {
      "text/plain": [
       "<matplotlib.axes._subplots.AxesSubplot at 0x121d18c50>"
      ]
     },
     "execution_count": 34,
     "metadata": {},
     "output_type": "execute_result"
    },
    {
     "data": {
      "image/png": "[encoded data removed]",
      "text/plain": [
       "<Figure size 432x288 with 1 Axes>"
      ]
     },
     "metadata": {
      "needs_background": "light"
     },
     "output_type": "display_data"
    }
   ],
   "source": [
    "target_terms = ['poverty','poor']\n",
    "results = defaultdict(int)\n",
    "\n",
    "for fp in file_paths:\n",
    "    year = path2year(fp)\n",
    "    word_counts = count_words(fp)\n",
    "    for target_term in target_terms:\n",
    "        count_for_target = word_counts[target_term]\n",
    "        results[year]+= count_for_target\n",
    "\n",
    "years_sorted = sorted(results)\n",
    "pd.Series(results,index=years_sorted).plot()"
   ]
  },
  {
   "cell_type": "code",
   "execution_count": 37,
   "metadata": {},
   "outputs": [],
   "source": [
    "def count_words2(path):\n",
    "    text = open(path,'r').read()\n",
    "    text_lowercase = text.lower()\n",
    "    tokens = word_tokenize(text_lowercase)\n",
    "    word_counts = Counter(tokens)\n",
    "    return word_counts,len(tokens)"
   ]
  },
  {
   "cell_type": "code",
   "execution_count": 48,
   "metadata": {},
   "outputs": [],
   "source": [
    "target_terms = ['austerity','cuts']\n",
    "word_counts = defaultdict(int)\n",
    "total_counts = defaultdict(int)\n",
    "\n",
    "\n",
    "for fp in file_paths:\n",
    "    year = path2year(fp)\n",
    "    word_count,total_count = count_words2(fp)\n",
    "    for target_term in target_terms:\n",
    "        count_for_target = word_count[target_term]\n",
    "        word_counts[year]+= count_for_target\n",
    "        total_counts[year]+= total_count\n"
   ]
  },
  {
   "cell_type": "code",
   "execution_count": 49,
   "metadata": {},
   "outputs": [],
   "source": [
    "results = {}\n",
    "for key in word_counts:\n",
    "    results[key] = word_counts[key] / total_counts[key]"
   ]
  },
  {
   "cell_type": "code",
   "execution_count": 50,
   "metadata": {},
   "outputs": [
    {
     "data": {
      "text/plain": [
       "<matplotlib.axes._subplots.AxesSubplot at 0x122064b50>"
      ]
     },
     "execution_count": 50,
     "metadata": {},
     "output_type": "execute_result"
    },
    {
     "data": {
      "image/png": "[encoded data removed]",
      "text/plain": [
       "<Figure size 432x288 with 1 Axes>"
      ]
     },
     "metadata": {
      "needs_background": "light"
     },
     "output_type": "display_data"
    }
   ],
   "source": [
    "years_sorted = sorted(results)\n",
    "pd.Series(results,index=years_sorted).plot()"
   ]
  },
  {
   "cell_type": "code",
   "execution_count": null,
   "metadata": {},
   "outputs": [],
   "source": []
  }
 ],
 "metadata": {
  "kernelspec": {
   "display_name": "Python 3",
   "language": "python",
   "name": "python3"
  },
  "language_info": {
   "codemirror_mode": {
    "name": "ipython",
    "version": 3
   },
   "file_extension": ".py",
   "mimetype": "text/x-python",
   "name": "python",
   "nbconvert_exporter": "python",
   "pygments_lexer": "ipython3",
   "version": "3.7.4"
  }
 },
 "nbformat": 4,
 "nbformat_minor": 2
}
